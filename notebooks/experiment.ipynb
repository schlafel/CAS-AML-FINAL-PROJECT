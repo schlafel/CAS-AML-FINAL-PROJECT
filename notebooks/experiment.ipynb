{
 "cells": [
  {
   "cell_type": "markdown",
   "id": "366f9325-6766-4bfb-9fcb-9e0ccb1a91cd",
   "metadata": {},
   "source": [
    "# Just for fun\n",
    "\n",
    "This is just experimentation on the \"Isolated Sign Language Recognition\" dataset found [here](https://www.kaggle.com/competitions/asl-signs/data)\n",
    "\n",
    "In this notebook, a data loader will be created to load the data and then some visualization will be applied. "
   ]
  },
  {
   "cell_type": "markdown",
   "id": "2c04abbf-f628-4420-ad21-c0947bfd48fb",
   "metadata": {},
   "source": [
    "## Importing necessary libs\n",
    "\n",
    "Python modules or scripts that reside in the '../src' directory need to be imported in this notebook. \n",
    "Following code will will add path to the beginning of the Python path list so that modules or scripts needed for a project which are not in the same directory as the main project file are accible."
   ]
  },
  {
   "cell_type": "code",
   "execution_count": 1,
   "id": "45f81925-58a3-42b1-81e4-3cb091b8eb30",
   "metadata": {
    "tags": []
   },
   "outputs": [],
   "source": [
    "import sys\n",
    "sys.path.insert(0, '../src')"
   ]
  },
  {
   "cell_type": "code",
   "execution_count": 2,
   "id": "f7c58169-2550-4070-aba3-4b75c652aad0",
   "metadata": {
    "tags": []
   },
   "outputs": [],
   "source": [
    "import torch\n",
    "import torch.nn as nn\n",
    "import os\n",
    "import json\n",
    "import pandas as pd\n",
    "from torch.utils.data import Dataset, DataLoader\n",
    "import pyarrow.parquet as pq\n",
    "import numpy as np\n",
    "import torch.nn.functional as F\n",
    "from tqdm import tqdm"
   ]
  },
  {
   "cell_type": "markdown",
   "id": "28b481e8-e787-4546-86a0-2370edb61688",
   "metadata": {},
   "source": [
    "Following will import variables defined in a this config module. Specifically, it imports all the variables defined in config.py using the wildcard * operator.\n",
    "\n",
    "The project related variables that will be imported are:\n",
    "\n",
    "<b>DEVICE</b>: A string that represents the device used for training. It is either 'cuda' if a CUDA-enabled GPU is available or 'cpu' otherwise.</br>\n",
    "<b>ROOT_PATH</b>: A string that represents the root directory path for the project.</br>\n",
    "<b>SRC_DIR</b>: A string that represents the directory path for source files.</br>\n",
    "<b>DATA_DIR</b>: A string that represents the directory path for data files.</br>\n",
    "<b>MODEL_DIR</b>: A string that represents the directory path for model files.</br>\n",
    "<b>CHECKPOINT_DIR</b>: A string that represents the directory path for checkpoint files.</br>\n",
    "<b>RUNS_DIR</b>: A string that represents the directory path for TensorBoard log files.</br>\n",
    "<b>OUT_DIR</b>: A string that represents the directory path for output files.</br>\n",
    "<b>SEED</b>: An integer that represents the seed value for generating random numbers. It is set to 0 in this case.</br>\n",
    "\n",
    "The model hyperparameters that will be imported are:\n",
    "    \n",
    "<b>BATCH_SIZE</b>: An integer that represents the batch size for the data loader.</br>\n",
    "<b>LEARNING_RATE</b>: A float that represents the learning rate for the optimizer.</br>\n",
    "<b>EPOCHS</b>: An integer that represents the number of epochs for training.</br>\n",
    "\n",
    "The training data related variable that will be imported are:\n",
    "\n",
    "<b>TRAIN_CSV_FILE</b>: Path of the training file `train.csv`.<br/>\n",
    "<b>MAP_JSON_FILE</b>: Path of the map file `sign_to_prediction_index_map.json`.<br/>\n",
    "<b>LANDMARK_FILES</b>: Root path of the landmark files `train_landmark_files`.<br/>"
   ]
  },
  {
   "cell_type": "code",
   "execution_count": 3,
   "id": "23c15de5-9ce1-4cf4-943e-8fcaf5691578",
   "metadata": {
    "tags": []
   },
   "outputs": [],
   "source": [
    "from config import *"
   ]
  },
  {
   "cell_type": "markdown",
   "id": "bdd30bc9-edfc-4c57-afa9-ced643eb39f8",
   "metadata": {
    "tags": []
   },
   "source": [
    "Lets see where the data reside in config"
   ]
  },
  {
   "cell_type": "code",
   "execution_count": 4,
   "id": "f5a6cc5e-0112-4dea-9698-26c7357d3256",
   "metadata": {
    "tags": []
   },
   "outputs": [
    {
     "data": {
      "text/plain": [
       "'data/'"
      ]
     },
     "execution_count": 4,
     "metadata": {},
     "output_type": "execute_result"
    }
   ],
   "source": [
    "DATA_DIR"
   ]
  },
  {
   "cell_type": "markdown",
   "id": "4ec90adb-d947-4784-b124-85cb2097ab6c",
   "metadata": {},
   "source": [
    "## ASL_DATSET Class\n",
    "\n",
    "The ASL_DATSET class is a custom dataset class for loading sign Google Isolated Sign Language Recognition data in a specific format for training machine learning models.\n",
    "\n",
    "### Class Variables\n",
    "\n",
    "<b>sign_to_index</b>: A dictionary containing the mapping of sign names to their corresponding indices.<br/>\n",
    "<b>data</b>: A Pandas DataFrame containing the data in CSV format, which includes the filename of the landmark data file, the sign name, and the video filename.<br/>\n",
    "<b>landmark_dir</b>: The directory where the landmark data files are stored.<br/>"
   ]
  },
  {
   "cell_type": "code",
   "execution_count": 130,
   "id": "bd4026c7-3feb-4366-b74d-acb9d6466820",
   "metadata": {
    "tags": []
   },
   "outputs": [],
   "source": [
    "class ASL_DATSET(Dataset):\n",
    "    def __init__(self, transform=None, max_seq_length=MAX_SEQUENCES):\n",
    "        super().__init__()\n",
    "        \n",
    "        self.transform = transform\n",
    "        self.load_datas()\n",
    "        \n",
    "        #[TODO] get this from data\n",
    "        self.max_seq_length = max_seq_length\n",
    "        \n",
    "    def load_datas(self):\n",
    "        \n",
    "        # Read the Metadata CVS file for training data\n",
    "        self.label_dict = json.load(open(os.path.join(ROOT_PATH,DATA_DIR,MAP_JSON_FILE)))\n",
    "        \n",
    "        # Read the Mapping JSON file to map target values to integer indices\n",
    "        self.df_train = pd.read_csv(os.path.join(ROOT_PATH,DATA_DIR,TRAIN_CSV_FILE))\n",
    "        \n",
    "        # Generate Absolute path to locate landmark files\n",
    "        self.file_paths = np.array([os.path.join(ROOT_PATH,DATA_DIR,x) for x in self.df_train[\"path\"].values])\n",
    "        \n",
    "        # Store individual metadata lists\n",
    "        # [TODO] Cleanup unnecessary files, do we need these?\n",
    "        self.participant_ids = self.df_train[\"participant_id\"].values\n",
    "        self.sequence_ids = self.df_train[\"sequence_id\"].values\n",
    "        \n",
    "        # keep tect signs and their respective indices\n",
    "        self.signs = self.df_train[\"sign\"].values\n",
    "        self.targets = self.df_train[\"sign\"].map(self.label_dict).values\n",
    "        \n",
    "    def __len__(self):\n",
    "        return len(self.df_train)\n",
    "    \n",
    "    def __getitem__(self, idx):\n",
    "        \n",
    "        if torch.is_tensor(idx):\n",
    "            idx = idx.item()\n",
    "        \n",
    "        # Get the file path for the single index\n",
    "        landmark_file = self.file_paths[idx]\n",
    "        \n",
    "        # Read in the parquet file and process the data\n",
    "        landmarks = pq.read_table(landmark_file).to_pandas()\n",
    "        \n",
    "        # Read individual landmark data\n",
    "        # As per dataset description 'he MediaPipe model is not fully trained to predict depth so you may wish to ignore the z values'\n",
    "        landmarks = landmarks[['frame', 'type', 'landmark_index', 'x', 'y']]\n",
    "        \n",
    "        landmarks = landmarks.pivot(index='frame', columns=['type', 'landmark_index'], values=['x', 'y'])\n",
    "        landmarks.columns = [f\"{col[1]}-{col[2]}_{col[0]}\" for col in landmarks.columns]\n",
    "        landmarks.reset_index(inplace=True)\n",
    "        \n",
    "        columns = list(landmarks.columns)\n",
    "        new_columns = [columns[(i+1) // 2 + (len(columns) ) // 2 * ((i+1) % 2)] for i in range(1, len(columns))]\n",
    "        landmarks=landmarks[new_columns].values.tolist()\n",
    "        \n",
    "        # Pad the landmark data\n",
    "        pad_len = max(0, self.max_seq_length - len(landmarks))\n",
    "        landmarks = landmarks + [[0]*len(new_columns)] * pad_len\n",
    "        \n",
    "        if self.transform:\n",
    "            sample = self.transform(landmarks)\n",
    "        \n",
    "        sign   = self.signs[idx]\n",
    "        target = self.targets[idx]\n",
    "        \n",
    "        sample = {'landmarks': landmarks, 'target': target}\n",
    "        \n",
    "        return sample\n",
    "    \n",
    "    def __repr__(self):\n",
    "        return f'ASL_DATSET(Participants: {len(set(self.participant_ids))}, Unique signs: {len(self.label_dict)}), Length: {len(self.df_train)}'\n"
   ]
  },
  {
   "cell_type": "code",
   "execution_count": 131,
   "id": "346f55d0-5f32-4c52-91a3-a36d64b6f53a",
   "metadata": {
    "tags": []
   },
   "outputs": [
    {
     "data": {
      "text/plain": [
       "ASL_DATSET(Participants: 21, Unique signs: 250), Length: 94477"
      ]
     },
     "execution_count": 131,
     "metadata": {},
     "output_type": "execute_result"
    }
   ],
   "source": [
    "dataset = ASL_DATSET()\n",
    "dataset"
   ]
  },
  {
   "cell_type": "markdown",
   "id": "c69e0692-0f61-4cda-a640-de33bea79de3",
   "metadata": {},
   "source": [
    "## Data Loader\n",
    "\n",
    "Create a DataLoader object, which will used to load data from a dataset object in batches during training or inference. \n",
    "The DataLoader object takes three arguments:\n",
    "\n",
    "`dataset`: the dataset object containing the data to load.<br/>\n",
    "`batch_size`: the number of samples to include in each batch.<br/>\n",
    "`shuffle`: a Boolean value indicating whether to shuffle the order of the samples before loading them. If True, the samples will be randomly shuffled; if False, they will be loaded in their original order.<br/>"
   ]
  },
  {
   "cell_type": "code",
   "execution_count": 132,
   "id": "d034b075-a38b-4b8c-b483-34852f51b970",
   "metadata": {
    "tags": []
   },
   "outputs": [
    {
     "data": {
      "text/plain": [
       "94477"
      ]
     },
     "execution_count": 132,
     "metadata": {},
     "output_type": "execute_result"
    }
   ],
   "source": [
    "## ASL Data loader\n",
    "dataloader = DataLoader(dataset, batch_size=1, shuffle=True)\n",
    "len(dataloader)"
   ]
  },
  {
   "cell_type": "code",
   "execution_count": 133,
   "id": "6649db99-e0c7-4a7c-9a2a-3b56745f7231",
   "metadata": {
    "tags": []
   },
   "outputs": [],
   "source": [
    "sample = next(iter(dataloader))\n",
    "frames = sample['landmarks']\n",
    "target = sample['target']"
   ]
  },
  {
   "cell_type": "code",
   "execution_count": 152,
   "id": "f76b533e-6a8f-4d22-bdbe-469f19cedfbc",
   "metadata": {
    "tags": []
   },
   "outputs": [],
   "source": [
    "tuplized_frames = np.array([[[frame[i].item(), frame[i+1].item()] for i in range(0, len(frame), 2)] for frame in frames])"
   ]
  },
  {
   "cell_type": "code",
   "execution_count": 185,
   "id": "1940fb24-3c70-4f3d-b479-3afe9e3a5034",
   "metadata": {
    "tags": []
   },
   "outputs": [
    {
     "data": {
      "image/png": "[encoded data removed]",
      "text/plain": [
       "<Figure size 600x800 with 1 Axes>"
      ]
     },
     "metadata": {},
     "output_type": "display_data"
    }
   ],
   "source": [
    "import matplotlib.pyplot as plt\n",
    "import matplotlib.animation as animation\n",
    "\n",
    "plt.figure(figsize=(6,8))\n",
    "data = tuplized_frames[0][:FACE_FEATURES]\n",
    "plt.scatter(-data[:,0], -data[:,1])\n",
    "plt.title(target)\n",
    "plt.show()"
   ]
  },
  {
   "cell_type": "code",
   "execution_count": 196,
   "id": "f6de004f-3917-4361-a252-fa1c89c095cb",
   "metadata": {
    "tags": []
   },
   "outputs": [
    {
     "data": {
      "image/png": "[encoded data removed]",
      "text/plain": [
       "<Figure size 600x800 with 1 Axes>"
      ]
     },
     "metadata": {},
     "output_type": "display_data"
    }
   ],
   "source": [
    "import matplotlib.animation as animation\n",
    "\n",
    "fig, ax = plt.subplots(figsize=(6, 8))\n",
    "\n",
    "sc = ax.scatter([], [])\n",
    "ax.set_xlim([-1, 1])\n",
    "ax.set_ylim([-1, 1])\n",
    "\n",
    "# Define scatter plot elements for each body part\n",
    "face_sc = ax.scatter(0, 0, c='r')\n",
    "left_hand_sc = ax.scatter(-0.5, 0, c='b')\n",
    "right_hand_sc = ax.scatter(0.5, 0, c='g')\n",
    "pose_sc = ax.scatter([0, 0, 0], [-0.5, -0.4, -0.6], c='k')\n",
    "\n",
    "def update(frame):\n",
    "    # Get landmarks for each body part from sample data\n",
    "    face_landmarks = frames[:FACE_FEATURES]\n",
    "    #left_hand_landmarks = frame[1]\n",
    "    #right_hand_landmarks = frame[3]\n",
    "    #pose_landmarks = frame[2]\n",
    "\n",
    "    # Update scatter plot with new landmark data\n",
    "    sc.set_offsets([pose_landmarks[0], pose_landmarks[1]])\n",
    "    face_sc.set_offsets(face_landmarks[:,0],face_landmarks[:,1])\n",
    "    #left_hand_sc.set_offsets(left_hand_landmarks)\n",
    "    #right_hand_sc.set_offsets(right_hand_landmarks)\n",
    "    #pose_sc.set_offsets([[pose_landmarks[0], pose_landmarks[1]], [pose_landmarks[0], pose_landmarks[2]], [pose_landmarks[0], pose_landmarks[3]]])\n",
    "\n",
    "    return sc, face_sc, left_hand_sc, right_hand_sc, pose_sc\n",
    "\n",
    "# Define animation\n",
    "ani = animation.FuncAnimation(fig, update, frames=tuplized_frames, interval=100)\n",
    "\n",
    "# Show animation\n",
    "plt.show()\n"
   ]
  },
  {
   "cell_type": "code",
   "execution_count": null,
   "id": "ec8e23ab-1963-4a7e-b76a-846cbbdbf872",
   "metadata": {},
   "outputs": [],
   "source": []
  }
 ],
 "metadata": {
  "kernelspec": {
   "display_name": "Python 3 (ipykernel)",
   "language": "python",
   "name": "python3"
  },
  "language_info": {
   "codemirror_mode": {
    "name": "ipython",
    "version": 3
   },
   "file_extension": ".py",
   "mimetype": "text/x-python",
   "name": "python",
   "nbconvert_exporter": "python",
   "pygments_lexer": "ipython3",
   "version": "3.9.16"
  }
 },
 "nbformat": 4,
 "nbformat_minor": 5
}
