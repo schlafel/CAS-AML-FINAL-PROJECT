{
 "cells": [
  {
   "cell_type": "markdown",
   "id": "366f9325-6766-4bfb-9fcb-9e0ccb1a91cd",
   "metadata": {},
   "source": [
    "# Just for fun\n",
    "\n",
    "This is just experimentation on the \"Isolated Sign Language Recognition\" dataset found [here](https://www.kaggle.com/competitions/asl-signs/data)\n",
    "\n",
    "In this notebook, a data loader will be created to load the data and then some visualization will be applied. "
   ]
  },
  {
   "cell_type": "markdown",
   "id": "2c04abbf-f628-4420-ad21-c0947bfd48fb",
   "metadata": {},
   "source": [
    "## Importing necessary libs\n",
    "\n",
    "Python modules or scripts that reside in the '../src' directory need to be imported in this notebook. \n",
    "Following code will will add path to the beginning of the Python path list so that modules or scripts needed for a project which are not in the same directory as the main project file are accible."
   ]
  },
  {
   "cell_type": "code",
   "execution_count": 1,
   "id": "45f81925-58a3-42b1-81e4-3cb091b8eb30",
   "metadata": {
    "tags": []
   },
   "outputs": [],
   "source": [
    "import sys\n",
    "sys.path.insert(0, '../src')"
   ]
  },
  {
   "cell_type": "code",
   "execution_count": 2,
   "id": "f7c58169-2550-4070-aba3-4b75c652aad0",
   "metadata": {
    "tags": []
   },
   "outputs": [],
   "source": [
    "import torch\n",
    "import torch.nn as nn\n",
    "import os\n",
    "import json\n",
    "import pandas as pd\n",
    "from torch.utils.data import Dataset, DataLoader\n",
    "import pyarrow.parquet as pq\n",
    "import numpy as np\n",
    "import torch.nn.functional as F\n",
    "from tqdm import tqdm"
   ]
  },
  {
   "cell_type": "markdown",
   "id": "28b481e8-e787-4546-86a0-2370edb61688",
   "metadata": {},
   "source": [
    "Following will import variables defined in a this config module. Specifically, it imports all the variables defined in config.py using the wildcard * operator.\n",
    "\n",
    "The project related variables that will be imported are:\n",
    "\n",
    "<b>DEVICE</b>: A string that represents the device used for training. It is either 'cuda' if a CUDA-enabled GPU is available or 'cpu' otherwise.</br>\n",
    "<b>ROOT_PATH</b>: A string that represents the root directory path for the project.</br>\n",
    "<b>SRC_DIR</b>: A string that represents the directory path for source files.</br>\n",
    "<b>DATA_DIR</b>: A string that represents the directory path for data files.</br>\n",
    "<b>MODEL_DIR</b>: A string that represents the directory path for model files.</br>\n",
    "<b>CHECKPOINT_DIR</b>: A string that represents the directory path for checkpoint files.</br>\n",
    "<b>RUNS_DIR</b>: A string that represents the directory path for TensorBoard log files.</br>\n",
    "<b>OUT_DIR</b>: A string that represents the directory path for output files.</br>\n",
    "<b>SEED</b>: An integer that represents the seed value for generating random numbers. It is set to 0 in this case.</br>\n",
    "\n",
    "The model hyperparameters that will be imported are:\n",
    "    \n",
    "<b>BATCH_SIZE</b>: An integer that represents the batch size for the data loader.</br>\n",
    "<b>LEARNING_RATE</b>: A float that represents the learning rate for the optimizer.</br>\n",
    "<b>EPOCHS</b>: An integer that represents the number of epochs for training.</br>\n",
    "\n",
    "The training data related variable that will be imported are:\n",
    "\n",
    "<b>TRAIN_CSV_FILE</b>: Path of the training file `train.csv`.<br/>\n",
    "<b>MAP_JSON_FILE</b>: Path of the map file `sign_to_prediction_index_map.json`.<br/>\n",
    "<b>LANDMARK_FILES</b>: Root path of the landmark files `train_landmark_files`.<br/>"
   ]
  },
  {
   "cell_type": "code",
   "execution_count": 3,
   "id": "23c15de5-9ce1-4cf4-943e-8fcaf5691578",
   "metadata": {
    "tags": []
   },
   "outputs": [],
   "source": [
    "from config import *"
   ]
  },
  {
   "cell_type": "markdown",
   "id": "bdd30bc9-edfc-4c57-afa9-ced643eb39f8",
   "metadata": {
    "tags": []
   },
   "source": [
    "Lets see where the data reside in config"
   ]
  },
  {
   "cell_type": "code",
   "execution_count": 4,
   "id": "f5a6cc5e-0112-4dea-9698-26c7357d3256",
   "metadata": {
    "tags": []
   },
   "outputs": [
    {
     "data": {
      "text/plain": [
       "'data/'"
      ]
     },
     "execution_count": 4,
     "metadata": {},
     "output_type": "execute_result"
    }
   ],
   "source": [
    "DATA_DIR"
   ]
  },
  {
   "cell_type": "markdown",
   "id": "4ec90adb-d947-4784-b124-85cb2097ab6c",
   "metadata": {},
   "source": [
    "## ASL_DATSET Class\n",
    "\n",
    "The ASL_DATSET class is a custom dataset class for loading sign Google Isolated Sign Language Recognition data in a specific format for training machine learning models.\n",
    "\n",
    "### Class Variables\n",
    "\n",
    "<b>sign_to_index</b>: A dictionary containing the mapping of sign names to their corresponding indices.<br/>\n",
    "<b>data</b>: A Pandas DataFrame containing the data in CSV format, which includes the filename of the landmark data file, the sign name, and the video filename.<br/>\n",
    "<b>landmark_dir</b>: The directory where the landmark data files are stored.<br/>"
   ]
  },
  {
   "cell_type": "code",
   "execution_count": 5,
   "id": "bd4026c7-3feb-4366-b74d-acb9d6466820",
   "metadata": {
    "tags": []
   },
   "outputs": [],
   "source": [
    "class ASL_DATSET(Dataset):\n",
    "    def __init__(self, transform=None, max_seq_length=MAX_SEQUENCES):\n",
    "        super().__init__()\n",
    "        \n",
    "        self.transform = transform\n",
    "        self.load_datas()\n",
    "        \n",
    "        #[TODO] get this from data\n",
    "        self.max_seq_length = max_seq_length\n",
    "        \n",
    "    def load_datas(self):\n",
    "        \n",
    "        # Read the Metadata CVS file for training data\n",
    "        self.label_dict = json.load(open(os.path.join(ROOT_PATH,DATA_DIR,MAP_JSON_FILE)))\n",
    "        \n",
    "        # Read the Mapping JSON file to map target values to integer indices\n",
    "        self.df_train = pd.read_csv(os.path.join(ROOT_PATH,DATA_DIR,TRAIN_CSV_FILE))\n",
    "        \n",
    "        # Generate Absolute path to locate landmark files\n",
    "        self.file_paths = np.array([os.path.join(ROOT_PATH,DATA_DIR,x) for x in self.df_train[\"path\"].values])\n",
    "        \n",
    "        # Store individual metadata lists\n",
    "        # [TODO] Cleanup unnecessary files, do we need these?\n",
    "        self.participant_ids = self.df_train[\"participant_id\"].values\n",
    "        self.sequence_ids = self.df_train[\"sequence_id\"].values\n",
    "        \n",
    "        # keep tect signs and their respective indices\n",
    "        self.signs = self.df_train[\"sign\"].values\n",
    "        self.targets = self.df_train[\"sign\"].map(self.label_dict).values\n",
    "        \n",
    "    def __len__(self):\n",
    "        return len(self.df_train)\n",
    "    \n",
    "    def __getitem__(self, idx):\n",
    "        \n",
    "        if torch.is_tensor(idx):\n",
    "            idx = idx.item()\n",
    "        \n",
    "        # Get the file path for the single index\n",
    "        landmark_file = self.file_paths[idx]\n",
    "        \n",
    "        # Read in the parquet file and process the data\n",
    "        landmarks = pq.read_table(landmark_file).to_pandas()\n",
    "        \n",
    "        # Read individual landmark data\n",
    "        # As per dataset description 'he MediaPipe model is not fully trained to predict depth so you may wish to ignore the z values'\n",
    "        landmarks = landmarks[['frame', 'type', 'landmark_index', 'x', 'y']]\n",
    "        \n",
    "        landmarks = landmarks.pivot(index='frame', columns=['type', 'landmark_index'], values=['x', 'y'])\n",
    "        landmarks.columns = [f\"{col[1]}-{col[2]}_{col[0]}\" for col in landmarks.columns]\n",
    "        landmarks.reset_index(inplace=True)\n",
    "        \n",
    "        columns = list(landmarks.columns)\n",
    "        new_columns = [columns[(i+1) // 2 + (len(columns) ) // 2 * ((i+1) % 2)] for i in range(1, len(columns))]\n",
    "        landmarks=landmarks[new_columns].values.tolist()\n",
    "        \n",
    "        # Pad the landmark data\n",
    "        pad_len = max(0, self.max_seq_length - len(landmarks))\n",
    "        landmarks = landmarks + [[0]*len(new_columns)] * pad_len\n",
    "        \n",
    "        if self.transform:\n",
    "            sample = self.transform(landmarks)\n",
    "        \n",
    "        sign   = self.signs[idx]\n",
    "        target = self.targets[idx]\n",
    "        \n",
    "        sample = {'landmarks': landmarks, 'target': target}\n",
    "        \n",
    "        return sample\n",
    "    \n",
    "    def __repr__(self):\n",
    "        return f'ASL_DATSET(Participants: {len(set(self.participant_ids))}, Unique signs: {len(self.label_dict)}), Length: {len(self.df_train)}'\n"
   ]
  },
  {
   "cell_type": "code",
   "execution_count": 6,
   "id": "346f55d0-5f32-4c52-91a3-a36d64b6f53a",
   "metadata": {
    "tags": []
   },
   "outputs": [
    {
     "data": {
      "text/plain": [
       "ASL_DATSET(Participants: 21, Unique signs: 250), Length: 94477"
      ]
     },
     "execution_count": 6,
     "metadata": {},
     "output_type": "execute_result"
    }
   ],
   "source": [
    "dataset = ASL_DATSET()\n",
    "dataset"
   ]
  },
  {
   "cell_type": "markdown",
   "id": "c69e0692-0f61-4cda-a640-de33bea79de3",
   "metadata": {},
   "source": [
    "## Data Loader\n",
    "\n",
    "Create a DataLoader object, which will used to load data from a dataset object in batches during training or inference. \n",
    "The DataLoader object takes three arguments:\n",
    "\n",
    "`dataset`: the dataset object containing the data to load.<br/>\n",
    "`batch_size`: the number of samples to include in each batch.<br/>\n",
    "`shuffle`: a Boolean value indicating whether to shuffle the order of the samples before loading them. If True, the samples will be randomly shuffled; if False, they will be loaded in their original order.<br/>"
   ]
  },
  {
   "cell_type": "code",
   "execution_count": 7,
   "id": "d034b075-a38b-4b8c-b483-34852f51b970",
   "metadata": {
    "tags": []
   },
   "outputs": [
    {
     "data": {
      "text/plain": [
       "94477"
      ]
     },
     "execution_count": 7,
     "metadata": {},
     "output_type": "execute_result"
    }
   ],
   "source": [
    "## ASL Data loader\n",
    "dataloader = DataLoader(dataset, batch_size=1, shuffle=True)\n",
    "len(dataloader)"
   ]
  },
  {
   "cell_type": "code",
   "execution_count": 8,
   "id": "6649db99-e0c7-4a7c-9a2a-3b56745f7231",
   "metadata": {
    "tags": []
   },
   "outputs": [
    {
     "ename": "FileNotFoundError",
     "evalue": "../data/train_landmark_files/61333/3835127327.parquet",
     "output_type": "error",
     "traceback": [
      "\u001b[1;31m---------------------------------------------------------------------------\u001b[0m",
      "\u001b[1;31mFileNotFoundError\u001b[0m                         Traceback (most recent call last)",
      "Cell \u001b[1;32mIn[8], line 1\u001b[0m\n\u001b[1;32m----> 1\u001b[0m sample \u001b[38;5;241m=\u001b[39m \u001b[38;5;28;43mnext\u001b[39;49m\u001b[43m(\u001b[49m\u001b[38;5;28;43miter\u001b[39;49m\u001b[43m(\u001b[49m\u001b[43mdataloader\u001b[49m\u001b[43m)\u001b[49m\u001b[43m)\u001b[49m\n\u001b[0;32m      2\u001b[0m frames \u001b[38;5;241m=\u001b[39m sample[\u001b[38;5;124m'\u001b[39m\u001b[38;5;124mlandmarks\u001b[39m\u001b[38;5;124m'\u001b[39m]\n\u001b[0;32m      3\u001b[0m target \u001b[38;5;241m=\u001b[39m sample[\u001b[38;5;124m'\u001b[39m\u001b[38;5;124mtarget\u001b[39m\u001b[38;5;124m'\u001b[39m]\n",
      "File \u001b[1;32m~\\Anaconda3\\envs\\CAS_FINAL_PROJECT\\lib\\site-packages\\torch\\utils\\data\\dataloader.py:634\u001b[0m, in \u001b[0;36m_BaseDataLoaderIter.__next__\u001b[1;34m(self)\u001b[0m\n\u001b[0;32m    631\u001b[0m \u001b[38;5;28;01mif\u001b[39;00m \u001b[38;5;28mself\u001b[39m\u001b[38;5;241m.\u001b[39m_sampler_iter \u001b[38;5;129;01mis\u001b[39;00m \u001b[38;5;28;01mNone\u001b[39;00m:\n\u001b[0;32m    632\u001b[0m     \u001b[38;5;66;03m# TODO(https://github.com/pytorch/pytorch/issues/76750)\u001b[39;00m\n\u001b[0;32m    633\u001b[0m     \u001b[38;5;28mself\u001b[39m\u001b[38;5;241m.\u001b[39m_reset()  \u001b[38;5;66;03m# type: ignore[call-arg]\u001b[39;00m\n\u001b[1;32m--> 634\u001b[0m data \u001b[38;5;241m=\u001b[39m \u001b[38;5;28;43mself\u001b[39;49m\u001b[38;5;241;43m.\u001b[39;49m\u001b[43m_next_data\u001b[49m\u001b[43m(\u001b[49m\u001b[43m)\u001b[49m\n\u001b[0;32m    635\u001b[0m \u001b[38;5;28mself\u001b[39m\u001b[38;5;241m.\u001b[39m_num_yielded \u001b[38;5;241m+\u001b[39m\u001b[38;5;241m=\u001b[39m \u001b[38;5;241m1\u001b[39m\n\u001b[0;32m    636\u001b[0m \u001b[38;5;28;01mif\u001b[39;00m \u001b[38;5;28mself\u001b[39m\u001b[38;5;241m.\u001b[39m_dataset_kind \u001b[38;5;241m==\u001b[39m _DatasetKind\u001b[38;5;241m.\u001b[39mIterable \u001b[38;5;129;01mand\u001b[39;00m \\\n\u001b[0;32m    637\u001b[0m         \u001b[38;5;28mself\u001b[39m\u001b[38;5;241m.\u001b[39m_IterableDataset_len_called \u001b[38;5;129;01mis\u001b[39;00m \u001b[38;5;129;01mnot\u001b[39;00m \u001b[38;5;28;01mNone\u001b[39;00m \u001b[38;5;129;01mand\u001b[39;00m \\\n\u001b[0;32m    638\u001b[0m         \u001b[38;5;28mself\u001b[39m\u001b[38;5;241m.\u001b[39m_num_yielded \u001b[38;5;241m>\u001b[39m \u001b[38;5;28mself\u001b[39m\u001b[38;5;241m.\u001b[39m_IterableDataset_len_called:\n",
      "File \u001b[1;32m~\\Anaconda3\\envs\\CAS_FINAL_PROJECT\\lib\\site-packages\\torch\\utils\\data\\dataloader.py:678\u001b[0m, in \u001b[0;36m_SingleProcessDataLoaderIter._next_data\u001b[1;34m(self)\u001b[0m\n\u001b[0;32m    676\u001b[0m \u001b[38;5;28;01mdef\u001b[39;00m \u001b[38;5;21m_next_data\u001b[39m(\u001b[38;5;28mself\u001b[39m):\n\u001b[0;32m    677\u001b[0m     index \u001b[38;5;241m=\u001b[39m \u001b[38;5;28mself\u001b[39m\u001b[38;5;241m.\u001b[39m_next_index()  \u001b[38;5;66;03m# may raise StopIteration\u001b[39;00m\n\u001b[1;32m--> 678\u001b[0m     data \u001b[38;5;241m=\u001b[39m \u001b[38;5;28;43mself\u001b[39;49m\u001b[38;5;241;43m.\u001b[39;49m\u001b[43m_dataset_fetcher\u001b[49m\u001b[38;5;241;43m.\u001b[39;49m\u001b[43mfetch\u001b[49m\u001b[43m(\u001b[49m\u001b[43mindex\u001b[49m\u001b[43m)\u001b[49m  \u001b[38;5;66;03m# may raise StopIteration\u001b[39;00m\n\u001b[0;32m    679\u001b[0m     \u001b[38;5;28;01mif\u001b[39;00m \u001b[38;5;28mself\u001b[39m\u001b[38;5;241m.\u001b[39m_pin_memory:\n\u001b[0;32m    680\u001b[0m         data \u001b[38;5;241m=\u001b[39m _utils\u001b[38;5;241m.\u001b[39mpin_memory\u001b[38;5;241m.\u001b[39mpin_memory(data, \u001b[38;5;28mself\u001b[39m\u001b[38;5;241m.\u001b[39m_pin_memory_device)\n",
      "File \u001b[1;32m~\\Anaconda3\\envs\\CAS_FINAL_PROJECT\\lib\\site-packages\\torch\\utils\\data\\_utils\\fetch.py:51\u001b[0m, in \u001b[0;36m_MapDatasetFetcher.fetch\u001b[1;34m(self, possibly_batched_index)\u001b[0m\n\u001b[0;32m     49\u001b[0m         data \u001b[38;5;241m=\u001b[39m \u001b[38;5;28mself\u001b[39m\u001b[38;5;241m.\u001b[39mdataset\u001b[38;5;241m.\u001b[39m__getitems__(possibly_batched_index)\n\u001b[0;32m     50\u001b[0m     \u001b[38;5;28;01melse\u001b[39;00m:\n\u001b[1;32m---> 51\u001b[0m         data \u001b[38;5;241m=\u001b[39m [\u001b[38;5;28mself\u001b[39m\u001b[38;5;241m.\u001b[39mdataset[idx] \u001b[38;5;28;01mfor\u001b[39;00m idx \u001b[38;5;129;01min\u001b[39;00m possibly_batched_index]\n\u001b[0;32m     52\u001b[0m \u001b[38;5;28;01melse\u001b[39;00m:\n\u001b[0;32m     53\u001b[0m     data \u001b[38;5;241m=\u001b[39m \u001b[38;5;28mself\u001b[39m\u001b[38;5;241m.\u001b[39mdataset[possibly_batched_index]\n",
      "File \u001b[1;32m~\\Anaconda3\\envs\\CAS_FINAL_PROJECT\\lib\\site-packages\\torch\\utils\\data\\_utils\\fetch.py:51\u001b[0m, in \u001b[0;36m<listcomp>\u001b[1;34m(.0)\u001b[0m\n\u001b[0;32m     49\u001b[0m         data \u001b[38;5;241m=\u001b[39m \u001b[38;5;28mself\u001b[39m\u001b[38;5;241m.\u001b[39mdataset\u001b[38;5;241m.\u001b[39m__getitems__(possibly_batched_index)\n\u001b[0;32m     50\u001b[0m     \u001b[38;5;28;01melse\u001b[39;00m:\n\u001b[1;32m---> 51\u001b[0m         data \u001b[38;5;241m=\u001b[39m [\u001b[38;5;28;43mself\u001b[39;49m\u001b[38;5;241;43m.\u001b[39;49m\u001b[43mdataset\u001b[49m\u001b[43m[\u001b[49m\u001b[43midx\u001b[49m\u001b[43m]\u001b[49m \u001b[38;5;28;01mfor\u001b[39;00m idx \u001b[38;5;129;01min\u001b[39;00m possibly_batched_index]\n\u001b[0;32m     52\u001b[0m \u001b[38;5;28;01melse\u001b[39;00m:\n\u001b[0;32m     53\u001b[0m     data \u001b[38;5;241m=\u001b[39m \u001b[38;5;28mself\u001b[39m\u001b[38;5;241m.\u001b[39mdataset[possibly_batched_index]\n",
      "Cell \u001b[1;32mIn[5], line 43\u001b[0m, in \u001b[0;36mASL_DATSET.__getitem__\u001b[1;34m(self, idx)\u001b[0m\n\u001b[0;32m     40\u001b[0m landmark_file \u001b[38;5;241m=\u001b[39m \u001b[38;5;28mself\u001b[39m\u001b[38;5;241m.\u001b[39mfile_paths[idx]\n\u001b[0;32m     42\u001b[0m \u001b[38;5;66;03m# Read in the parquet file and process the data\u001b[39;00m\n\u001b[1;32m---> 43\u001b[0m landmarks \u001b[38;5;241m=\u001b[39m \u001b[43mpq\u001b[49m\u001b[38;5;241;43m.\u001b[39;49m\u001b[43mread_table\u001b[49m\u001b[43m(\u001b[49m\u001b[43mlandmark_file\u001b[49m\u001b[43m)\u001b[49m\u001b[38;5;241m.\u001b[39mto_pandas()\n\u001b[0;32m     45\u001b[0m \u001b[38;5;66;03m# Read individual landmark data\u001b[39;00m\n\u001b[0;32m     46\u001b[0m \u001b[38;5;66;03m# As per dataset description 'he MediaPipe model is not fully trained to predict depth so you may wish to ignore the z values'\u001b[39;00m\n\u001b[0;32m     47\u001b[0m landmarks \u001b[38;5;241m=\u001b[39m landmarks[[\u001b[38;5;124m'\u001b[39m\u001b[38;5;124mframe\u001b[39m\u001b[38;5;124m'\u001b[39m, \u001b[38;5;124m'\u001b[39m\u001b[38;5;124mtype\u001b[39m\u001b[38;5;124m'\u001b[39m, \u001b[38;5;124m'\u001b[39m\u001b[38;5;124mlandmark_index\u001b[39m\u001b[38;5;124m'\u001b[39m, \u001b[38;5;124m'\u001b[39m\u001b[38;5;124mx\u001b[39m\u001b[38;5;124m'\u001b[39m, \u001b[38;5;124m'\u001b[39m\u001b[38;5;124my\u001b[39m\u001b[38;5;124m'\u001b[39m]]\n",
      "File \u001b[1;32m~\\Anaconda3\\envs\\CAS_FINAL_PROJECT\\lib\\site-packages\\pyarrow\\parquet\\core.py:2926\u001b[0m, in \u001b[0;36mread_table\u001b[1;34m(source, columns, use_threads, metadata, schema, use_pandas_metadata, read_dictionary, memory_map, buffer_size, partitioning, filesystem, filters, use_legacy_dataset, ignore_prefixes, pre_buffer, coerce_int96_timestamp_unit, decryption_properties, thrift_string_size_limit, thrift_container_size_limit)\u001b[0m\n\u001b[0;32m   2919\u001b[0m     \u001b[38;5;28;01mraise\u001b[39;00m \u001b[38;5;167;01mValueError\u001b[39;00m(\n\u001b[0;32m   2920\u001b[0m         \u001b[38;5;124m\"\u001b[39m\u001b[38;5;124mThe \u001b[39m\u001b[38;5;124m'\u001b[39m\u001b[38;5;124mmetadata\u001b[39m\u001b[38;5;124m'\u001b[39m\u001b[38;5;124m keyword is no longer supported with the new \u001b[39m\u001b[38;5;124m\"\u001b[39m\n\u001b[0;32m   2921\u001b[0m         \u001b[38;5;124m\"\u001b[39m\u001b[38;5;124mdatasets-based implementation. Specify \u001b[39m\u001b[38;5;124m\"\u001b[39m\n\u001b[0;32m   2922\u001b[0m         \u001b[38;5;124m\"\u001b[39m\u001b[38;5;124m'\u001b[39m\u001b[38;5;124muse_legacy_dataset=True\u001b[39m\u001b[38;5;124m'\u001b[39m\u001b[38;5;124m to temporarily recover the old \u001b[39m\u001b[38;5;124m\"\u001b[39m\n\u001b[0;32m   2923\u001b[0m         \u001b[38;5;124m\"\u001b[39m\u001b[38;5;124mbehaviour.\u001b[39m\u001b[38;5;124m\"\u001b[39m\n\u001b[0;32m   2924\u001b[0m     )\n\u001b[0;32m   2925\u001b[0m \u001b[38;5;28;01mtry\u001b[39;00m:\n\u001b[1;32m-> 2926\u001b[0m     dataset \u001b[38;5;241m=\u001b[39m \u001b[43m_ParquetDatasetV2\u001b[49m\u001b[43m(\u001b[49m\n\u001b[0;32m   2927\u001b[0m \u001b[43m        \u001b[49m\u001b[43msource\u001b[49m\u001b[43m,\u001b[49m\n\u001b[0;32m   2928\u001b[0m \u001b[43m        \u001b[49m\u001b[43mschema\u001b[49m\u001b[38;5;241;43m=\u001b[39;49m\u001b[43mschema\u001b[49m\u001b[43m,\u001b[49m\n\u001b[0;32m   2929\u001b[0m \u001b[43m        \u001b[49m\u001b[43mfilesystem\u001b[49m\u001b[38;5;241;43m=\u001b[39;49m\u001b[43mfilesystem\u001b[49m\u001b[43m,\u001b[49m\n\u001b[0;32m   2930\u001b[0m \u001b[43m        \u001b[49m\u001b[43mpartitioning\u001b[49m\u001b[38;5;241;43m=\u001b[39;49m\u001b[43mpartitioning\u001b[49m\u001b[43m,\u001b[49m\n\u001b[0;32m   2931\u001b[0m \u001b[43m        \u001b[49m\u001b[43mmemory_map\u001b[49m\u001b[38;5;241;43m=\u001b[39;49m\u001b[43mmemory_map\u001b[49m\u001b[43m,\u001b[49m\n\u001b[0;32m   2932\u001b[0m \u001b[43m        \u001b[49m\u001b[43mread_dictionary\u001b[49m\u001b[38;5;241;43m=\u001b[39;49m\u001b[43mread_dictionary\u001b[49m\u001b[43m,\u001b[49m\n\u001b[0;32m   2933\u001b[0m \u001b[43m        \u001b[49m\u001b[43mbuffer_size\u001b[49m\u001b[38;5;241;43m=\u001b[39;49m\u001b[43mbuffer_size\u001b[49m\u001b[43m,\u001b[49m\n\u001b[0;32m   2934\u001b[0m \u001b[43m        \u001b[49m\u001b[43mfilters\u001b[49m\u001b[38;5;241;43m=\u001b[39;49m\u001b[43mfilters\u001b[49m\u001b[43m,\u001b[49m\n\u001b[0;32m   2935\u001b[0m \u001b[43m        \u001b[49m\u001b[43mignore_prefixes\u001b[49m\u001b[38;5;241;43m=\u001b[39;49m\u001b[43mignore_prefixes\u001b[49m\u001b[43m,\u001b[49m\n\u001b[0;32m   2936\u001b[0m \u001b[43m        \u001b[49m\u001b[43mpre_buffer\u001b[49m\u001b[38;5;241;43m=\u001b[39;49m\u001b[43mpre_buffer\u001b[49m\u001b[43m,\u001b[49m\n\u001b[0;32m   2937\u001b[0m \u001b[43m        \u001b[49m\u001b[43mcoerce_int96_timestamp_unit\u001b[49m\u001b[38;5;241;43m=\u001b[39;49m\u001b[43mcoerce_int96_timestamp_unit\u001b[49m\u001b[43m,\u001b[49m\n\u001b[0;32m   2938\u001b[0m \u001b[43m        \u001b[49m\u001b[43mthrift_string_size_limit\u001b[49m\u001b[38;5;241;43m=\u001b[39;49m\u001b[43mthrift_string_size_limit\u001b[49m\u001b[43m,\u001b[49m\n\u001b[0;32m   2939\u001b[0m \u001b[43m        \u001b[49m\u001b[43mthrift_container_size_limit\u001b[49m\u001b[38;5;241;43m=\u001b[39;49m\u001b[43mthrift_container_size_limit\u001b[49m\u001b[43m,\u001b[49m\n\u001b[0;32m   2940\u001b[0m \u001b[43m    \u001b[49m\u001b[43m)\u001b[49m\n\u001b[0;32m   2941\u001b[0m \u001b[38;5;28;01mexcept\u001b[39;00m \u001b[38;5;167;01mImportError\u001b[39;00m:\n\u001b[0;32m   2942\u001b[0m     \u001b[38;5;66;03m# fall back on ParquetFile for simple cases when pyarrow.dataset\u001b[39;00m\n\u001b[0;32m   2943\u001b[0m     \u001b[38;5;66;03m# module is not available\u001b[39;00m\n\u001b[0;32m   2944\u001b[0m     \u001b[38;5;28;01mif\u001b[39;00m filters \u001b[38;5;129;01mis\u001b[39;00m \u001b[38;5;129;01mnot\u001b[39;00m \u001b[38;5;28;01mNone\u001b[39;00m:\n",
      "File \u001b[1;32m~\\Anaconda3\\envs\\CAS_FINAL_PROJECT\\lib\\site-packages\\pyarrow\\parquet\\core.py:2477\u001b[0m, in \u001b[0;36m_ParquetDatasetV2.__init__\u001b[1;34m(self, path_or_paths, filesystem, filters, partitioning, read_dictionary, buffer_size, memory_map, ignore_prefixes, pre_buffer, coerce_int96_timestamp_unit, schema, decryption_properties, thrift_string_size_limit, thrift_container_size_limit, **kwargs)\u001b[0m\n\u001b[0;32m   2473\u001b[0m \u001b[38;5;28;01mif\u001b[39;00m partitioning \u001b[38;5;241m==\u001b[39m \u001b[38;5;124m\"\u001b[39m\u001b[38;5;124mhive\u001b[39m\u001b[38;5;124m\"\u001b[39m:\n\u001b[0;32m   2474\u001b[0m     partitioning \u001b[38;5;241m=\u001b[39m ds\u001b[38;5;241m.\u001b[39mHivePartitioning\u001b[38;5;241m.\u001b[39mdiscover(\n\u001b[0;32m   2475\u001b[0m         infer_dictionary\u001b[38;5;241m=\u001b[39m\u001b[38;5;28;01mTrue\u001b[39;00m)\n\u001b[1;32m-> 2477\u001b[0m \u001b[38;5;28mself\u001b[39m\u001b[38;5;241m.\u001b[39m_dataset \u001b[38;5;241m=\u001b[39m \u001b[43mds\u001b[49m\u001b[38;5;241;43m.\u001b[39;49m\u001b[43mdataset\u001b[49m\u001b[43m(\u001b[49m\u001b[43mpath_or_paths\u001b[49m\u001b[43m,\u001b[49m\u001b[43m \u001b[49m\u001b[43mfilesystem\u001b[49m\u001b[38;5;241;43m=\u001b[39;49m\u001b[43mfilesystem\u001b[49m\u001b[43m,\u001b[49m\n\u001b[0;32m   2478\u001b[0m \u001b[43m                           \u001b[49m\u001b[43mschema\u001b[49m\u001b[38;5;241;43m=\u001b[39;49m\u001b[43mschema\u001b[49m\u001b[43m,\u001b[49m\u001b[43m \u001b[49m\u001b[38;5;28;43mformat\u001b[39;49m\u001b[38;5;241;43m=\u001b[39;49m\u001b[43mparquet_format\u001b[49m\u001b[43m,\u001b[49m\n\u001b[0;32m   2479\u001b[0m \u001b[43m                           \u001b[49m\u001b[43mpartitioning\u001b[49m\u001b[38;5;241;43m=\u001b[39;49m\u001b[43mpartitioning\u001b[49m\u001b[43m,\u001b[49m\n\u001b[0;32m   2480\u001b[0m \u001b[43m                           \u001b[49m\u001b[43mignore_prefixes\u001b[49m\u001b[38;5;241;43m=\u001b[39;49m\u001b[43mignore_prefixes\u001b[49m\u001b[43m)\u001b[49m\n",
      "File \u001b[1;32m~\\Anaconda3\\envs\\CAS_FINAL_PROJECT\\lib\\site-packages\\pyarrow\\dataset.py:762\u001b[0m, in \u001b[0;36mdataset\u001b[1;34m(source, schema, format, filesystem, partitioning, partition_base_dir, exclude_invalid_files, ignore_prefixes)\u001b[0m\n\u001b[0;32m    751\u001b[0m kwargs \u001b[38;5;241m=\u001b[39m \u001b[38;5;28mdict\u001b[39m(\n\u001b[0;32m    752\u001b[0m     schema\u001b[38;5;241m=\u001b[39mschema,\n\u001b[0;32m    753\u001b[0m     filesystem\u001b[38;5;241m=\u001b[39mfilesystem,\n\u001b[1;32m   (...)\u001b[0m\n\u001b[0;32m    758\u001b[0m     selector_ignore_prefixes\u001b[38;5;241m=\u001b[39mignore_prefixes\n\u001b[0;32m    759\u001b[0m )\n\u001b[0;32m    761\u001b[0m \u001b[38;5;28;01mif\u001b[39;00m _is_path_like(source):\n\u001b[1;32m--> 762\u001b[0m     \u001b[38;5;28;01mreturn\u001b[39;00m _filesystem_dataset(source, \u001b[38;5;241m*\u001b[39m\u001b[38;5;241m*\u001b[39mkwargs)\n\u001b[0;32m    763\u001b[0m \u001b[38;5;28;01melif\u001b[39;00m \u001b[38;5;28misinstance\u001b[39m(source, (\u001b[38;5;28mtuple\u001b[39m, \u001b[38;5;28mlist\u001b[39m)):\n\u001b[0;32m    764\u001b[0m     \u001b[38;5;28;01mif\u001b[39;00m \u001b[38;5;28mall\u001b[39m(_is_path_like(elem) \u001b[38;5;28;01mfor\u001b[39;00m elem \u001b[38;5;129;01min\u001b[39;00m source):\n",
      "File \u001b[1;32m~\\Anaconda3\\envs\\CAS_FINAL_PROJECT\\lib\\site-packages\\pyarrow\\dataset.py:445\u001b[0m, in \u001b[0;36m_filesystem_dataset\u001b[1;34m(source, schema, filesystem, partitioning, format, partition_base_dir, exclude_invalid_files, selector_ignore_prefixes)\u001b[0m\n\u001b[0;32m    443\u001b[0m     fs, paths_or_selector \u001b[38;5;241m=\u001b[39m _ensure_multiple_sources(source, filesystem)\n\u001b[0;32m    444\u001b[0m \u001b[38;5;28;01melse\u001b[39;00m:\n\u001b[1;32m--> 445\u001b[0m     fs, paths_or_selector \u001b[38;5;241m=\u001b[39m \u001b[43m_ensure_single_source\u001b[49m\u001b[43m(\u001b[49m\u001b[43msource\u001b[49m\u001b[43m,\u001b[49m\u001b[43m \u001b[49m\u001b[43mfilesystem\u001b[49m\u001b[43m)\u001b[49m\n\u001b[0;32m    447\u001b[0m options \u001b[38;5;241m=\u001b[39m FileSystemFactoryOptions(\n\u001b[0;32m    448\u001b[0m     partitioning\u001b[38;5;241m=\u001b[39mpartitioning,\n\u001b[0;32m    449\u001b[0m     partition_base_dir\u001b[38;5;241m=\u001b[39mpartition_base_dir,\n\u001b[0;32m    450\u001b[0m     exclude_invalid_files\u001b[38;5;241m=\u001b[39mexclude_invalid_files,\n\u001b[0;32m    451\u001b[0m     selector_ignore_prefixes\u001b[38;5;241m=\u001b[39mselector_ignore_prefixes\n\u001b[0;32m    452\u001b[0m )\n\u001b[0;32m    453\u001b[0m factory \u001b[38;5;241m=\u001b[39m FileSystemDatasetFactory(fs, paths_or_selector, \u001b[38;5;28mformat\u001b[39m, options)\n",
      "File \u001b[1;32m~\\Anaconda3\\envs\\CAS_FINAL_PROJECT\\lib\\site-packages\\pyarrow\\dataset.py:421\u001b[0m, in \u001b[0;36m_ensure_single_source\u001b[1;34m(path, filesystem)\u001b[0m\n\u001b[0;32m    419\u001b[0m     paths_or_selector \u001b[38;5;241m=\u001b[39m [path]\n\u001b[0;32m    420\u001b[0m \u001b[38;5;28;01melse\u001b[39;00m:\n\u001b[1;32m--> 421\u001b[0m     \u001b[38;5;28;01mraise\u001b[39;00m \u001b[38;5;167;01mFileNotFoundError\u001b[39;00m(path)\n\u001b[0;32m    423\u001b[0m \u001b[38;5;28;01mreturn\u001b[39;00m filesystem, paths_or_selector\n",
      "\u001b[1;31mFileNotFoundError\u001b[0m: ../data/train_landmark_files/61333/3835127327.parquet"
     ]
    }
   ],
   "source": [
    "sample = next(iter(dataloader))\n",
    "frames = sample['landmarks']\n",
    "target = sample['target']"
   ]
  },
  {
   "cell_type": "code",
   "execution_count": null,
   "id": "f76b533e-6a8f-4d22-bdbe-469f19cedfbc",
   "metadata": {
    "tags": []
   },
   "outputs": [],
   "source": [
    "tuplized_frames = np.array([[[frame[i].item(), frame[i+1].item()] for i in range(0, len(frame), 2)] for frame in frames])"
   ]
  },
  {
   "cell_type": "code",
   "execution_count": null,
   "id": "1940fb24-3c70-4f3d-b479-3afe9e3a5034",
   "metadata": {
    "tags": []
   },
   "outputs": [],
   "source": [
    "import matplotlib.pyplot as plt\n",
    "import matplotlib.animation as animation\n",
    "\n",
    "plt.figure(figsize=(6,8))\n",
    "data = tuplized_frames[0][:FACE_FEATURES]\n",
    "plt.scatter(-data[:,0], -data[:,1])\n",
    "plt.title(target)\n",
    "plt.show()"
   ]
  },
  {
   "cell_type": "code",
   "execution_count": 196,
   "id": "f6de004f-3917-4361-a252-fa1c89c095cb",
   "metadata": {
    "tags": []
   },
   "outputs": [
    {
     "data": {
      "image/png": "[encoded data removed]",
      "text/plain": [
       "<Figure size 600x800 with 1 Axes>"
      ]
     },
     "metadata": {},
     "output_type": "display_data"
    }
   ],
   "source": [
    "import matplotlib.animation as animation\n",
    "\n",
    "fig, ax = plt.subplots(figsize=(6, 8))\n",
    "\n",
    "sc = ax.scatter([], [])\n",
    "ax.set_xlim([-1, 1])\n",
    "ax.set_ylim([-1, 1])\n",
    "\n",
    "# Define scatter plot elements for each body part\n",
    "face_sc = ax.scatter(0, 0, c='r')\n",
    "left_hand_sc = ax.scatter(-0.5, 0, c='b')\n",
    "right_hand_sc = ax.scatter(0.5, 0, c='g')\n",
    "pose_sc = ax.scatter([0, 0, 0], [-0.5, -0.4, -0.6], c='k')\n",
    "\n",
    "def update(frame):\n",
    "    # Get landmarks for each body part from sample data\n",
    "    face_landmarks = frames[:FACE_FEATURES]\n",
    "    #left_hand_landmarks = frame[1]\n",
    "    #right_hand_landmarks = frame[3]\n",
    "    #pose_landmarks = frame[2]\n",
    "\n",
    "    # Update scatter plot with new landmark data\n",
    "    sc.set_offsets([pose_landmarks[0], pose_landmarks[1]])\n",
    "    face_sc.set_offsets(face_landmarks[:,0],face_landmarks[:,1])\n",
    "    #left_hand_sc.set_offsets(left_hand_landmarks)\n",
    "    #right_hand_sc.set_offsets(right_hand_landmarks)\n",
    "    #pose_sc.set_offsets([[pose_landmarks[0], pose_landmarks[1]], [pose_landmarks[0], pose_landmarks[2]], [pose_landmarks[0], pose_landmarks[3]]])\n",
    "\n",
    "    return sc, face_sc, left_hand_sc, right_hand_sc, pose_sc\n",
    "\n",
    "# Define animation\n",
    "ani = animation.FuncAnimation(fig, update, frames=tuplized_frames, interval=100)\n",
    "\n",
    "# Show animation\n",
    "plt.show()\n"
   ]
  },
  {
   "cell_type": "code",
   "execution_count": null,
   "id": "ec8e23ab-1963-4a7e-b76a-846cbbdbf872",
   "metadata": {},
   "outputs": [],
   "source": []
  }
 ],
 "metadata": {
  "kernelspec": {
   "display_name": "Python 3 (ipykernel)",
   "language": "python",
   "name": "python3"
  },
  "language_info": {
   "codemirror_mode": {
    "name": "ipython",
    "version": 3
   },
   "file_extension": ".py",
   "mimetype": "text/x-python",
   "name": "python",
   "nbconvert_exporter": "python",
   "pygments_lexer": "ipython3",
   "version": "3.9.16"
  }
 },
 "nbformat": 4,
 "nbformat_minor": 5
}
