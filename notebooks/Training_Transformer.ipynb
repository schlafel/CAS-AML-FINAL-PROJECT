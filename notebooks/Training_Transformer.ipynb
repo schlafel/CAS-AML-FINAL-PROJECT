{
 "cells": [
  {
   "cell_type": "code",
   "execution_count": 1,
   "id": "4ec9351e-c411-4e2d-98bb-be2936096481",
   "metadata": {
    "tags": []
   },
   "outputs": [],
   "source": [
    "import importlib\n",
    "import sys\n",
    "import os\n",
    "sys.path.insert(0, '../src')"
   ]
  },
  {
   "cell_type": "code",
   "execution_count": 2,
   "id": "0383fc4d-b56b-4275-9a6f-4da8d37cb01c",
   "metadata": {
    "tags": []
   },
   "outputs": [],
   "source": [
    "import torch\n",
    "import torch.nn as nn\n",
    "import os\n",
    "import json\n",
    "import pandas as pd\n",
    "from torch.utils.data import Dataset, DataLoader\n",
    "import pyarrow.parquet as pq\n",
    "import numpy as np\n",
    "import torch.nn.functional as F\n",
    "from tqdm import tqdm\n",
    "import pytorch_lightning as pl\n",
    "import sys\n",
    "# from sklearn import *\n",
    "from torchmetrics.classification import accuracy"
   ]
  },
  {
   "cell_type": "code",
   "execution_count": 3,
   "id": "cb22fd5c-d59c-40ca-a44b-7a5e0831fa2e",
   "metadata": {
    "tags": []
   },
   "outputs": [],
   "source": [
    "from pytorch_lightning.callbacks import LearningRateMonitor, ModelCheckpoint, DeviceStatsMonitor, TQDMProgressBar,EarlyStopping\n",
    "from pytorch_lightning.loggers import TensorBoardLogger\n",
    "from pytorch_lightning.tuner import Tuner\n",
    "from config import *\n",
    "from data import data_utils\n",
    "from data.dataset import ASL_DATASET\n",
    "from dl_utils import get_dataloader"
   ]
  },
  {
   "cell_type": "code",
   "execution_count": 4,
   "id": "520dfee0",
   "metadata": {},
   "outputs": [
    {
     "data": {
      "text/plain": [
       "'pytorch'"
      ]
     },
     "execution_count": 4,
     "metadata": {},
     "output_type": "execute_result"
    }
   ],
   "source": [
    "DL_FRAMEWORK"
   ]
  },
  {
   "cell_type": "code",
   "execution_count": 5,
   "id": "1ce38926",
   "metadata": {},
   "outputs": [],
   "source": [
    "module_name = f\"models.{DL_FRAMEWORK}.models\"\n",
    "class_name = \"TransformerPredictor\""
   ]
  },
  {
   "cell_type": "code",
   "execution_count": 6,
   "id": "9b14f3c8",
   "metadata": {},
   "outputs": [
    {
     "data": {
      "text/plain": [
       "models.pytorch.models.TransformerPredictor"
      ]
     },
     "execution_count": 6,
     "metadata": {},
     "output_type": "execute_result"
    }
   ],
   "source": [
    "module = importlib.import_module(module_name)\n",
    "MyTransformerModel = getattr(module, class_name)\n",
    "MyTransformerModel"
   ]
  },
  {
   "cell_type": "code",
   "execution_count": 7,
   "id": "f80cbd25-600d-4ae7-89a6-75857ef0eca4",
   "metadata": {
    "tags": []
   },
   "outputs": [
    {
     "data": {
      "text/plain": [
       "'mps'"
      ]
     },
     "execution_count": 7,
     "metadata": {},
     "output_type": "execute_result"
    }
   ],
   "source": [
    "DEVICE"
   ]
  },
  {
   "cell_type": "code",
   "execution_count": 8,
   "id": "9d63d35a-8a08-4cf1-a0d2-aa8c340c5805",
   "metadata": {
    "tags": []
   },
   "outputs": [],
   "source": [
    "class MyProgressBar(TQDMProgressBar):\n",
    "    def init_validation_tqdm(self):\n",
    "        bar = super().init_validation_tqdm()\n",
    "        if not sys.stdout.isatty():\n",
    "            bar.disable = True\n",
    "        return bar\n",
    "\n",
    "    def init_predict_tqdm(self):\n",
    "        bar = super().init_predict_tqdm()\n",
    "        if not sys.stdout.isatty():\n",
    "            bar.disable = True\n",
    "        return bar\n",
    "\n",
    "    def init_test_tqdm(self):\n",
    "        bar = super().init_test_tqdm()\n",
    "        if not sys.stdout.isatty():\n",
    "            bar.disable = True\n",
    "        return bar"
   ]
  },
  {
   "cell_type": "code",
   "execution_count": 22,
   "id": "8eef3a8b-5e23-4f85-a3a1-c86f28c9bfe4",
   "metadata": {
    "tags": []
   },
   "outputs": [],
   "source": [
    "# Define parameters\n",
    "params = {\n",
    "    \"d_model\": 192,\n",
    "    \"n_head\": 8,\n",
    "    \"dim_feedforward\": 512,\n",
    "    \"dropout\": 0.1,\n",
    "    \"layer_norm_eps\": 1e-5,\n",
    "    \"norm_first\": True,\n",
    "    \"batch_first\": True,\n",
    "    \"num_layers\": 2,\n",
    "    \"num_classes\": 250,  \n",
    "    \"learning_rate\": 0.001, \n",
    "}"
   ]
  },
  {
   "cell_type": "code",
   "execution_count": 23,
   "id": "abdd594c-96de-4a77-a156-4d4913b1051e",
   "metadata": {
    "tags": []
   },
   "outputs": [],
   "source": [
    "asl_dataset = ASL_DATASET(augment=True, augmentation_threshold=0.3)"
   ]
  },
  {
   "cell_type": "code",
   "execution_count": 24,
   "id": "e3b06724-62f3-4263-922c-3ed7d3297d0e",
   "metadata": {
    "tags": []
   },
   "outputs": [],
   "source": [
    "train_ds, val_ds, test_ds = data_utils.create_data_loaders(asl_dataset,\n",
    "                                                               batch_size=BATCH_SIZE,\n",
    "                                                               dl_framework=DL_FRAMEWORK,\n",
    "                                                               num_workers=4)"
   ]
  },
  {
   "cell_type": "code",
   "execution_count": 25,
   "id": "6bd03a7b-3190-4489-9800-b9c55b79714d",
   "metadata": {
    "tags": []
   },
   "outputs": [
    {
     "name": "stdout",
     "output_type": "stream",
     "text": [
      "Got the lengths for Train-Dataset: 468, 28, 56\n"
     ]
    }
   ],
   "source": [
    "print(f'Got the lengths for Train-Dataset: {len(train_ds)}, {len(val_ds)}, {len(test_ds)}')"
   ]
  },
  {
   "cell_type": "code",
   "execution_count": 26,
   "id": "c07c03d9-5c7d-4d3b-8b33-eb7a37ab7c0f",
   "metadata": {
    "tags": []
   },
   "outputs": [
    {
     "data": {
      "text/plain": [
       "torch.Size([128, 32, 96, 2])"
      ]
     },
     "execution_count": 26,
     "metadata": {},
     "output_type": "execute_result"
    }
   ],
   "source": [
    "batch = next(iter(train_ds))[0]\n",
    "batch.shape"
   ]
  },
  {
   "cell_type": "code",
   "execution_count": 27,
   "id": "62457a27",
   "metadata": {},
   "outputs": [
    {
     "name": "stdout",
     "output_type": "stream",
     "text": [
      "TransformerPredictor(\n",
      "  (criterion): CrossEntropyLoss()\n",
      "  (accuracy): MulticlassAccuracy()\n",
      "  (model): TransformerSequenceClassifier(\n",
      "    (transformer): TransformerEncoder(\n",
      "      (layers): ModuleList(\n",
      "        (0-1): 2 x TransformerEncoderLayer(\n",
      "          (self_attn): MultiheadAttention(\n",
      "            (out_proj): NonDynamicallyQuantizableLinear(in_features=192, out_features=192, bias=True)\n",
      "          )\n",
      "          (linear1): Linear(in_features=192, out_features=512, bias=True)\n",
      "          (dropout): Dropout(p=0.1, inplace=False)\n",
      "          (linear2): Linear(in_features=512, out_features=192, bias=True)\n",
      "          (norm1): LayerNorm((192,), eps=1e-05, elementwise_affine=True)\n",
      "          (norm2): LayerNorm((192,), eps=1e-05, elementwise_affine=True)\n",
      "          (dropout1): Dropout(p=0.1, inplace=False)\n",
      "          (dropout2): Dropout(p=0.1, inplace=False)\n",
      "        )\n",
      "      )\n",
      "      (norm): LayerNorm((192,), eps=1e-05, elementwise_affine=True)\n",
      "    )\n",
      "    (output_layer): Linear(in_features=192, out_features=250, bias=True)\n",
      "  )\n",
      ")\n"
     ]
    }
   ],
   "source": [
    "model = MyTransformerModel(**params)\n",
    "model(batch)\n",
    "model = model.float().to(DEVICE)\n",
    "print(model)"
   ]
  },
  {
   "cell_type": "code",
   "execution_count": 28,
   "id": "2d47a7e4-ae65-4427-aa30-94dc76d1c071",
   "metadata": {
    "tags": []
   },
   "outputs": [],
   "source": [
    "checkpoint_callback = ModelCheckpoint(\n",
    "        filename=class_name + \"-{epoch:02d}-{val_accuracy:.2f}\",\n",
    "        save_top_k=1,\n",
    "        monitor=\"val_accuracy\",\n",
    "        verbose=True,\n",
    "        mode=\"max\"\n",
    "    )"
   ]
  },
  {
   "cell_type": "code",
   "execution_count": 29,
   "id": "17dcbb30-7cbb-43a7-bca3-360ca3dc16ff",
   "metadata": {
    "tags": []
   },
   "outputs": [],
   "source": [
    "tb_logger = TensorBoardLogger(\n",
    "        save_dir=os.path.join(ROOT_PATH, \"lightning_logs\"),\n",
    "        name=class_name,\n",
    "        # version=mod_name\n",
    "    )"
   ]
  },
  {
   "cell_type": "code",
   "execution_count": 30,
   "id": "1caef819-256d-43c9-b8b9-bca132355969",
   "metadata": {
    "tags": []
   },
   "outputs": [],
   "source": [
    "early_stop_callback = EarlyStopping(\n",
    "        monitor='val_accuracy',\n",
    "        min_delta=0.005,\n",
    "        patience=6,\n",
    "        verbose=True,\n",
    "        mode='max'\n",
    "    )"
   ]
  },
  {
   "cell_type": "code",
   "execution_count": 31,
   "id": "b1b60cf0-52ba-4ead-8040-ec575b18717b",
   "metadata": {
    "tags": []
   },
   "outputs": [],
   "source": [
    "lr_monitor = LearningRateMonitor(logging_interval='step')"
   ]
  },
  {
   "cell_type": "code",
   "execution_count": 32,
   "id": "383b82a7-ee6e-479d-a262-b18500cae7bd",
   "metadata": {
    "tags": []
   },
   "outputs": [
    {
     "name": "stderr",
     "output_type": "stream",
     "text": [
      "GPU available: True (mps), used: True\n",
      "TPU available: False, using: 0 TPU cores\n",
      "IPU available: False, using: 0 IPUs\n",
      "HPU available: False, using: 0 HPUs\n"
     ]
    }
   ],
   "source": [
    "trainer = pl.Trainer(\n",
    "        enable_progress_bar=True,\n",
    "        accelerator=\"gpu\",\n",
    "        logger=tb_logger,\n",
    "        callbacks=[\n",
    "            DeviceStatsMonitor(),\n",
    "            early_stop_callback,\n",
    "           checkpoint_callback,\n",
    "           MyProgressBar(),\n",
    "            lr_monitor\n",
    "        ],\n",
    "        max_epochs=100,\n",
    "       # limit_train_batches=10,\n",
    "        # limit_val_batches=0,\n",
    "        num_sanity_val_steps=0,\n",
    "        profiler=None,  # select from None\n",
    "    )"
   ]
  },
  {
   "cell_type": "code",
   "execution_count": 33,
   "id": "26e88c50-bc99-4424-bcd8-67d3179cdf44",
   "metadata": {
    "tags": []
   },
   "outputs": [
    {
     "name": "stderr",
     "output_type": "stream",
     "text": [
      "\n",
      "  | Name      | Type                          | Params\n",
      "------------------------------------------------------------\n",
      "0 | criterion | CrossEntropyLoss              | 0     \n",
      "1 | accuracy  | MulticlassAccuracy            | 0     \n",
      "2 | model     | TransformerSequenceClassifier | 741 K \n",
      "------------------------------------------------------------\n",
      "741 K     Trainable params\n",
      "0         Non-trainable params\n",
      "741 K     Total params\n",
      "2.965     Total estimated model params size (MB)\n"
     ]
    },
    {
     "data": {
      "application/vnd.jupyter.widget-view+json": {
       "model_id": "6929e40c01664492a35a31d19cd2f01b",
       "version_major": 2,
       "version_minor": 0
      },
      "text/plain": [
       "Training: 0it [00:00, ?it/s]"
      ]
     },
     "metadata": {},
     "output_type": "display_data"
    },
    {
     "data": {
      "application/vnd.jupyter.widget-view+json": {
       "model_id": "b11d95a4ff774bacaa4ffe1dbb07e60a",
       "version_major": 2,
       "version_minor": 0
      },
      "text/plain": [
       "Validation: 0it [00:00, ?it/s]"
      ]
     },
     "metadata": {},
     "output_type": "display_data"
    },
    {
     "name": "stderr",
     "output_type": "stream",
     "text": [
      "Metric val_accuracy improved. New best score: 0.173\n",
      "Epoch 0, global step 468: 'val_accuracy' reached 0.17320 (best 0.17320), saving model to '/Users/tgdimas1/git/CAS-AML-FINAL-PROJECT/notebooks/../src/../lightning_logs/TransformerPredictor/version_1/checkpoints/TransformerPredictor-epoch=00-val_accuracy=0.17.ckpt' as top 1\n"
     ]
    },
    {
     "name": "stdout",
     "output_type": "stream",
     "text": [
      "EPOCH 0, Validation Accuracy: 0.17308409512043\n",
      " \n",
      "EPOCH 0: Train accuracy: 0.06903800368309021\n",
      "****************************************************************************************************\n"
     ]
    },
    {
     "data": {
      "application/vnd.jupyter.widget-view+json": {
       "model_id": "55bbf1a8c9fb4049b0b23d43c52d8f62",
       "version_major": 2,
       "version_minor": 0
      },
      "text/plain": [
       "Validation: 0it [00:00, ?it/s]"
      ]
     },
     "metadata": {},
     "output_type": "display_data"
    },
    {
     "name": "stderr",
     "output_type": "stream",
     "text": [
      "Metric val_accuracy improved by 0.126 >= min_delta = 0.005. New best score: 0.299\n",
      "Epoch 1, global step 936: 'val_accuracy' reached 0.29898 (best 0.29898), saving model to '/Users/tgdimas1/git/CAS-AML-FINAL-PROJECT/notebooks/../src/../lightning_logs/TransformerPredictor/version_1/checkpoints/TransformerPredictor-epoch=01-val_accuracy=0.30.ckpt' as top 1\n"
     ]
    },
    {
     "name": "stdout",
     "output_type": "stream",
     "text": [
      "EPOCH 1, Validation Accuracy: 0.29904794692993164\n",
      " \n",
      "EPOCH 1: Train accuracy: 0.21435603499412537\n",
      "****************************************************************************************************\n"
     ]
    },
    {
     "data": {
      "application/vnd.jupyter.widget-view+json": {
       "model_id": "c5a9a823be7548a0bfafda021cca5073",
       "version_major": 2,
       "version_minor": 0
      },
      "text/plain": [
       "Validation: 0it [00:00, ?it/s]"
      ]
     },
     "metadata": {},
     "output_type": "display_data"
    },
    {
     "name": "stderr",
     "output_type": "stream",
     "text": [
      "Metric val_accuracy improved by 0.082 >= min_delta = 0.005. New best score: 0.381\n",
      "Epoch 2, global step 1404: 'val_accuracy' reached 0.38103 (best 0.38103), saving model to '/Users/tgdimas1/git/CAS-AML-FINAL-PROJECT/notebooks/../src/../lightning_logs/TransformerPredictor/version_1/checkpoints/TransformerPredictor-epoch=02-val_accuracy=0.38.ckpt' as top 1\n"
     ]
    },
    {
     "name": "stdout",
     "output_type": "stream",
     "text": [
      "EPOCH 2, Validation Accuracy: 0.3817809820175171\n",
      " \n",
      "EPOCH 2: Train accuracy: 0.3444627523422241\n",
      "****************************************************************************************************\n"
     ]
    },
    {
     "data": {
      "application/vnd.jupyter.widget-view+json": {
       "model_id": "121140d000294c20837cdd0d4e1b642a",
       "version_major": 2,
       "version_minor": 0
      },
      "text/plain": [
       "Validation: 0it [00:00, ?it/s]"
      ]
     },
     "metadata": {},
     "output_type": "display_data"
    },
    {
     "name": "stderr",
     "output_type": "stream",
     "text": [
      "Epoch 3, global step 1872: 'val_accuracy' was not in top 1\n"
     ]
    },
    {
     "name": "stdout",
     "output_type": "stream",
     "text": [
      "EPOCH 3, Validation Accuracy: 0.31179824471473694\n",
      " \n",
      "EPOCH 3: Train accuracy: 0.33515292406082153\n",
      "****************************************************************************************************\n"
     ]
    },
    {
     "data": {
      "application/vnd.jupyter.widget-view+json": {
       "model_id": "ac5b1f4503454f16a647dd0c3070ad31",
       "version_major": 2,
       "version_minor": 0
      },
      "text/plain": [
       "Validation: 0it [00:00, ?it/s]"
      ]
     },
     "metadata": {},
     "output_type": "display_data"
    },
    {
     "name": "stderr",
     "output_type": "stream",
     "text": [
      "Metric val_accuracy improved by 0.133 >= min_delta = 0.005. New best score: 0.514\n",
      "Epoch 4, global step 2340: 'val_accuracy' reached 0.51448 (best 0.51448), saving model to '/Users/tgdimas1/git/CAS-AML-FINAL-PROJECT/notebooks/../src/../lightning_logs/TransformerPredictor/version_1/checkpoints/TransformerPredictor-epoch=04-val_accuracy=0.51.ckpt' as top 1\n"
     ]
    },
    {
     "name": "stdout",
     "output_type": "stream",
     "text": [
      "EPOCH 4, Validation Accuracy: 0.5144920349121094\n",
      " \n",
      "EPOCH 4: Train accuracy: 0.4358517527580261\n",
      "****************************************************************************************************\n"
     ]
    },
    {
     "data": {
      "application/vnd.jupyter.widget-view+json": {
       "model_id": "2b23edf107344820b89e68dd65985068",
       "version_major": 2,
       "version_minor": 0
      },
      "text/plain": [
       "Validation: 0it [00:00, ?it/s]"
      ]
     },
     "metadata": {},
     "output_type": "display_data"
    },
    {
     "name": "stderr",
     "output_type": "stream",
     "text": [
      "Metric val_accuracy improved by 0.014 >= min_delta = 0.005. New best score: 0.528\n",
      "Epoch 5, global step 2808: 'val_accuracy' reached 0.52811 (best 0.52811), saving model to '/Users/tgdimas1/git/CAS-AML-FINAL-PROJECT/notebooks/../src/../lightning_logs/TransformerPredictor/version_1/checkpoints/TransformerPredictor-epoch=05-val_accuracy=0.53.ckpt' as top 1\n"
     ]
    },
    {
     "name": "stdout",
     "output_type": "stream",
     "text": [
      "EPOCH 5, Validation Accuracy: 0.5286712050437927\n",
      " \n",
      "EPOCH 5: Train accuracy: 0.528845489025116\n",
      "****************************************************************************************************\n"
     ]
    },
    {
     "data": {
      "application/vnd.jupyter.widget-view+json": {
       "model_id": "dbbbe5ce88d1470e814a6023d299c80c",
       "version_major": 2,
       "version_minor": 0
      },
      "text/plain": [
       "Validation: 0it [00:00, ?it/s]"
      ]
     },
     "metadata": {},
     "output_type": "display_data"
    },
    {
     "name": "stderr",
     "output_type": "stream",
     "text": [
      "Metric val_accuracy improved by 0.065 >= min_delta = 0.005. New best score: 0.593\n",
      "Epoch 6, global step 3276: 'val_accuracy' reached 0.59284 (best 0.59284), saving model to '/Users/tgdimas1/git/CAS-AML-FINAL-PROJECT/notebooks/../src/../lightning_logs/TransformerPredictor/version_1/checkpoints/TransformerPredictor-epoch=06-val_accuracy=0.59.ckpt' as top 1\n"
     ]
    },
    {
     "name": "stdout",
     "output_type": "stream",
     "text": [
      "EPOCH 6, Validation Accuracy: 0.5925494432449341\n",
      " \n",
      "EPOCH 6: Train accuracy: 0.5752254724502563\n",
      "****************************************************************************************************\n"
     ]
    },
    {
     "data": {
      "application/vnd.jupyter.widget-view+json": {
       "model_id": "75970b88354d4a189372a0e462766b3d",
       "version_major": 2,
       "version_minor": 0
      },
      "text/plain": [
       "Validation: 0it [00:00, ?it/s]"
      ]
     },
     "metadata": {},
     "output_type": "display_data"
    },
    {
     "name": "stderr",
     "output_type": "stream",
     "text": [
      "Metric val_accuracy improved by 0.018 >= min_delta = 0.005. New best score: 0.610\n",
      "Epoch 7, global step 3744: 'val_accuracy' reached 0.61045 (best 0.61045), saving model to '/Users/tgdimas1/git/CAS-AML-FINAL-PROJECT/notebooks/../src/../lightning_logs/TransformerPredictor/version_1/checkpoints/TransformerPredictor-epoch=07-val_accuracy=0.61.ckpt' as top 1\n"
     ]
    },
    {
     "name": "stdout",
     "output_type": "stream",
     "text": [
      "EPOCH 7, Validation Accuracy: 0.6103727221488953\n",
      " \n",
      "EPOCH 7: Train accuracy: 0.6037247180938721\n",
      "****************************************************************************************************\n"
     ]
    },
    {
     "data": {
      "application/vnd.jupyter.widget-view+json": {
       "model_id": "c646375aa63d4c7baaaa2dbe06de92cb",
       "version_major": 2,
       "version_minor": 0
      },
      "text/plain": [
       "Validation: 0it [00:00, ?it/s]"
      ]
     },
     "metadata": {},
     "output_type": "display_data"
    },
    {
     "name": "stderr",
     "output_type": "stream",
     "text": [
      "Metric val_accuracy improved by 0.012 >= min_delta = 0.005. New best score: 0.622\n",
      "Epoch 8, global step 4212: 'val_accuracy' reached 0.62237 (best 0.62237), saving model to '/Users/tgdimas1/git/CAS-AML-FINAL-PROJECT/notebooks/../src/../lightning_logs/TransformerPredictor/version_1/checkpoints/TransformerPredictor-epoch=08-val_accuracy=0.62.ckpt' as top 1\n"
     ]
    },
    {
     "name": "stdout",
     "output_type": "stream",
     "text": [
      "EPOCH 8, Validation Accuracy: 0.6226156949996948\n",
      " \n",
      "EPOCH 8: Train accuracy: 0.6346408724784851\n",
      "****************************************************************************************************\n"
     ]
    },
    {
     "data": {
      "application/vnd.jupyter.widget-view+json": {
       "model_id": "2ab296fa0bca4458bc4fe9d7fc009f2d",
       "version_major": 2,
       "version_minor": 0
      },
      "text/plain": [
       "Validation: 0it [00:00, ?it/s]"
      ]
     },
     "metadata": {},
     "output_type": "display_data"
    },
    {
     "name": "stderr",
     "output_type": "stream",
     "text": [
      "Epoch 9, global step 4680: 'val_accuracy' reached 0.62663 (best 0.62663), saving model to '/Users/tgdimas1/git/CAS-AML-FINAL-PROJECT/notebooks/../src/../lightning_logs/TransformerPredictor/version_1/checkpoints/TransformerPredictor-epoch=09-val_accuracy=0.63.ckpt' as top 1\n"
     ]
    },
    {
     "name": "stdout",
     "output_type": "stream",
     "text": [
      "EPOCH 9, Validation Accuracy: 0.6281114816665649\n",
      " \n",
      "EPOCH 9: Train accuracy: 0.657023012638092\n",
      "****************************************************************************************************\n"
     ]
    },
    {
     "data": {
      "application/vnd.jupyter.widget-view+json": {
       "model_id": "e942b175234f48559de4f35ff9e38937",
       "version_major": 2,
       "version_minor": 0
      },
      "text/plain": [
       "Validation: 0it [00:00, ?it/s]"
      ]
     },
     "metadata": {},
     "output_type": "display_data"
    },
    {
     "name": "stderr",
     "output_type": "stream",
     "text": [
      "Metric val_accuracy improved by 0.040 >= min_delta = 0.005. New best score: 0.662\n",
      "Epoch 10, global step 5148: 'val_accuracy' reached 0.66212 (best 0.66212), saving model to '/Users/tgdimas1/git/CAS-AML-FINAL-PROJECT/notebooks/../src/../lightning_logs/TransformerPredictor/version_1/checkpoints/TransformerPredictor-epoch=10-val_accuracy=0.66.ckpt' as top 1\n"
     ]
    },
    {
     "name": "stdout",
     "output_type": "stream",
     "text": [
      "EPOCH 10, Validation Accuracy: 0.6622024774551392\n",
      " \n",
      "EPOCH 10: Train accuracy: 0.680515706539154\n",
      "****************************************************************************************************\n"
     ]
    },
    {
     "data": {
      "application/vnd.jupyter.widget-view+json": {
       "model_id": "2324d860aadb44c782254893e4e0a8ec",
       "version_major": 2,
       "version_minor": 0
      },
      "text/plain": [
       "Validation: 0it [00:00, ?it/s]"
      ]
     },
     "metadata": {},
     "output_type": "display_data"
    },
    {
     "name": "stderr",
     "output_type": "stream",
     "text": [
      "Metric val_accuracy improved by 0.018 >= min_delta = 0.005. New best score: 0.680\n",
      "Epoch 11, global step 5616: 'val_accuracy' reached 0.68030 (best 0.68030), saving model to '/Users/tgdimas1/git/CAS-AML-FINAL-PROJECT/notebooks/../src/../lightning_logs/TransformerPredictor/version_1/checkpoints/TransformerPredictor-epoch=11-val_accuracy=0.68.ckpt' as top 1\n"
     ]
    },
    {
     "name": "stdout",
     "output_type": "stream",
     "text": [
      "EPOCH 11, Validation Accuracy: 0.6813700795173645\n",
      " \n",
      "EPOCH 11: Train accuracy: 0.7037332057952881\n",
      "****************************************************************************************************\n"
     ]
    }
   ],
   "source": [
    "trainer.fit(\n",
    "        model=model,\n",
    "        train_dataloaders=train_ds,\n",
    "        val_dataloaders=val_ds,\n",
    "\n",
    "    )\n"
   ]
  },
  {
   "cell_type": "code",
   "execution_count": 34,
   "id": "86f25600-1c28-41a9-9f7d-b9052cccbf29",
   "metadata": {
    "tags": []
   },
   "outputs": [],
   "source": [
    "trainer.test(ckpt_path=\"best\",\n",
    "                 dataloaders=test_ds\n",
    "                 )"
   ]
  },
  {
   "cell_type": "code",
   "execution_count": null,
   "id": "4002e62f-c57a-4d5e-b976-bdcb39f89fc2",
   "metadata": {},
   "outputs": [],
   "source": []
  }
 ],
 "metadata": {
  "kernelspec": {
   "display_name": "Python 3 (ipykernel)",
   "language": "python",
   "name": "python3"
  },
  "language_info": {
   "codemirror_mode": {
    "name": "ipython",
    "version": 3
   },
   "file_extension": ".py",
   "mimetype": "text/x-python",
   "name": "python",
   "nbconvert_exporter": "python",
   "pygments_lexer": "ipython3",
   "version": "3.10.11"
  }
 },
 "nbformat": 4,
 "nbformat_minor": 5
}
