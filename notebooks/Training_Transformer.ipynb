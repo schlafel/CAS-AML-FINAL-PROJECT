{
 "cells": [
  {
   "cell_type": "code",
   "execution_count": 1,
   "id": "4ec9351e-c411-4e2d-98bb-be2936096481",
   "metadata": {
    "is_executing": true,
    "tags": []
   },
   "outputs": [],
   "source": [
    "import importlib\n",
    "import sys\n",
    "sys.path.insert(0, '../src')"
   ]
  },
  {
   "cell_type": "code",
   "execution_count": 2,
   "id": "0383fc4d-b56b-4275-9a6f-4da8d37cb01c",
   "metadata": {
    "ExecuteTime": {
     "end_time": "2023-06-04T21:21:03.349257Z",
     "start_time": "2023-06-04T21:21:01.153333Z"
    },
    "tags": []
   },
   "outputs": [],
   "source": [
    "import torch\n",
    "import torch.nn as nn\n",
    "import os\n",
    "import json\n",
    "import pandas as pd\n",
    "from torch.utils.data import Dataset, DataLoader\n",
    "import pyarrow.parquet as pq\n",
    "import numpy as np\n",
    "import torch.nn.functional as F\n",
    "from tqdm import tqdm\n",
    "import pytorch_lightning as pl\n",
    "import sys\n",
    "# from sklearn import *\n",
    "from torchmetrics.classification import accuracy"
   ]
  },
  {
   "cell_type": "code",
   "execution_count": 3,
   "id": "cb22fd5c-d59c-40ca-a44b-7a5e0831fa2e",
   "metadata": {
    "ExecuteTime": {
     "start_time": "2023-06-04T21:21:04.307468Z"
    },
    "is_executing": true,
    "tags": []
   },
   "outputs": [
    {
     "name": "stderr",
     "output_type": "stream",
     "text": [
      "2023-06-05 00:08:51.812114: I tensorflow/core/platform/cpu_feature_guard.cc:182] This TensorFlow binary is optimized to use available CPU instructions in performance-critical operations.\n",
      "To enable the following instructions: SSE4.1 SSE4.2, in other operations, rebuild TensorFlow with the appropriate compiler flags.\n"
     ]
    }
   ],
   "source": [
    "from pytorch_lightning.callbacks import LearningRateMonitor, ModelCheckpoint, DeviceStatsMonitor, TQDMProgressBar,EarlyStopping\n",
    "from pytorch_lightning.loggers import TensorBoardLogger\n",
    "from pytorch_lightning.tuner import Tuner\n",
    "from config import *\n",
    "from data import data_utils\n",
    "from data.dataset import ASL_DATASET\n",
    "from dl_utils import get_dataloader"
   ]
  },
  {
   "cell_type": "code",
   "execution_count": 4,
   "id": "850078c8",
   "metadata": {},
   "outputs": [
    {
     "data": {
      "text/plain": [
       "'pytorch'"
      ]
     },
     "execution_count": 4,
     "metadata": {},
     "output_type": "execute_result"
    }
   ],
   "source": [
    "DL_FRAMEWORK"
   ]
  },
  {
   "cell_type": "code",
   "execution_count": 5,
   "id": "35dbdeb4",
   "metadata": {},
   "outputs": [],
   "source": [
    "module_name = f\"models.{DL_FRAMEWORK}.lightning_models\"\n",
    "class_name = \"LightningTransformerPredictor\""
   ]
  },
  {
   "cell_type": "code",
   "execution_count": 6,
   "id": "eaa9fbd3",
   "metadata": {},
   "outputs": [
    {
     "data": {
      "text/plain": [
       "models.pytorch.lightning_models.LightningTransformerPredictor"
      ]
     },
     "execution_count": 6,
     "metadata": {},
     "output_type": "execute_result"
    }
   ],
   "source": [
    "module = importlib.import_module(module_name)\n",
    "MyTransformerModel = getattr(module, class_name)\n",
    "MyTransformerModel"
   ]
  },
  {
   "cell_type": "code",
   "execution_count": 7,
   "id": "f80cbd25-600d-4ae7-89a6-75857ef0eca4",
   "metadata": {
    "tags": []
   },
   "outputs": [
    {
     "data": {
      "text/plain": [
       "'mps'"
      ]
     },
     "execution_count": 7,
     "metadata": {},
     "output_type": "execute_result"
    }
   ],
   "source": [
    "DEVICE"
   ]
  },
  {
   "cell_type": "code",
   "execution_count": 8,
   "id": "9d63d35a-8a08-4cf1-a0d2-aa8c340c5805",
   "metadata": {
    "tags": []
   },
   "outputs": [],
   "source": [
    "class MyProgressBar(TQDMProgressBar):\n",
    "    def init_validation_tqdm(self):\n",
    "        bar = super().init_validation_tqdm()\n",
    "        if not sys.stdout.isatty():\n",
    "            bar.disable = True\n",
    "        return bar\n",
    "\n",
    "    def init_predict_tqdm(self):\n",
    "        bar = super().init_predict_tqdm()\n",
    "        if not sys.stdout.isatty():\n",
    "            bar.disable = True\n",
    "        return bar\n",
    "\n",
    "    def init_test_tqdm(self):\n",
    "        bar = super().init_test_tqdm()\n",
    "        if not sys.stdout.isatty():\n",
    "            bar.disable = True\n",
    "        return bar"
   ]
  },
  {
   "cell_type": "code",
   "execution_count": 9,
   "id": "8eef3a8b-5e23-4f85-a3a1-c86f28c9bfe4",
   "metadata": {
    "tags": []
   },
   "outputs": [],
   "source": [
    "# Define parameters\n",
    "params = {\n",
    "    \"d_model\": 192,\n",
    "    \"n_head\": 8,\n",
    "    \"dim_feedforward\": 512,\n",
    "    \"dropout\": 0.1,\n",
    "    \"layer_norm_eps\": 1e-5,\n",
    "    \"norm_first\": True,\n",
    "    \"batch_first\": True,\n",
    "    \"num_layers\": 2,\n",
    "    \"num_classes\": 250,  \n",
    "    \"learning_rate\": 0.001, \n",
    "}"
   ]
  },
  {
   "cell_type": "code",
   "execution_count": 10,
   "id": "abdd594c-96de-4a77-a156-4d4913b1051e",
   "metadata": {
    "tags": []
   },
   "outputs": [],
   "source": [
    "asl_dataset = ASL_DATASET(augment=True, augmentation_threshold=0.3)"
   ]
  },
  {
   "cell_type": "code",
   "execution_count": 11,
   "id": "e3b06724-62f3-4263-922c-3ed7d3297d0e",
   "metadata": {
    "tags": []
   },
   "outputs": [],
   "source": [
    "train_ds, val_ds, test_ds = data_utils.create_data_loaders(asl_dataset,\n",
    "                                                               batch_size=BATCH_SIZE,\n",
    "                                                               dl_framework=DL_FRAMEWORK,\n",
    "                                                               num_workers=4)"
   ]
  },
  {
   "cell_type": "code",
   "execution_count": 12,
   "id": "6bd03a7b-3190-4489-9800-b9c55b79714d",
   "metadata": {
    "tags": []
   },
   "outputs": [
    {
     "name": "stdout",
     "output_type": "stream",
     "text": [
      "Got the lengths for Train-Dataset: 484, 29, 57\n"
     ]
    }
   ],
   "source": [
    "print(f'Got the lengths for Train-Dataset: {len(train_ds)}, {len(val_ds)}, {len(test_ds)}')"
   ]
  },
  {
   "cell_type": "code",
   "execution_count": 13,
   "id": "c07c03d9-5c7d-4d3b-8b33-eb7a37ab7c0f",
   "metadata": {
    "tags": []
   },
   "outputs": [
    {
     "data": {
      "text/plain": [
       "torch.Size([128, 32, 96, 2])"
      ]
     },
     "execution_count": 13,
     "metadata": {},
     "output_type": "execute_result"
    }
   ],
   "source": [
    "batch = next(iter(train_ds))[0]\n",
    "batch.shape"
   ]
  },
  {
   "cell_type": "code",
   "execution_count": 16,
   "id": "4e46c479",
   "metadata": {},
   "outputs": [
    {
     "name": "stdout",
     "output_type": "stream",
     "text": [
      "LightningTransformerPredictor(\n",
      "  (criterion): CrossEntropyLoss()\n",
      "  (accuracy): MulticlassAccuracy()\n",
      "  (model): LightningTransformerSequenceClassifier(\n",
      "    (transformer): TransformerEncoder(\n",
      "      (layers): ModuleList(\n",
      "        (0-1): 2 x TransformerEncoderLayer(\n",
      "          (self_attn): MultiheadAttention(\n",
      "            (out_proj): NonDynamicallyQuantizableLinear(in_features=192, out_features=192, bias=True)\n",
      "          )\n",
      "          (linear1): Linear(in_features=192, out_features=512, bias=True)\n",
      "          (dropout): Dropout(p=0.1, inplace=False)\n",
      "          (linear2): Linear(in_features=512, out_features=192, bias=True)\n",
      "          (norm1): LayerNorm((192,), eps=1e-05, elementwise_affine=True)\n",
      "          (norm2): LayerNorm((192,), eps=1e-05, elementwise_affine=True)\n",
      "          (dropout1): Dropout(p=0.1, inplace=False)\n",
      "          (dropout2): Dropout(p=0.1, inplace=False)\n",
      "        )\n",
      "      )\n",
      "      (norm): LayerNorm((192,), eps=1e-05, elementwise_affine=True)\n",
      "    )\n",
      "    (output_layer): Linear(in_features=192, out_features=250, bias=True)\n",
      "  )\n",
      ")\n"
     ]
    }
   ],
   "source": [
    "model = MyTransformerModel(**params).to(DEVICE)\n",
    "model(batch.to(DEVICE))\n",
    "model = model.float().to(DEVICE)\n",
    "print(model)"
   ]
  },
  {
   "cell_type": "code",
   "execution_count": 17,
   "id": "2d47a7e4-ae65-4427-aa30-94dc76d1c071",
   "metadata": {
    "tags": []
   },
   "outputs": [],
   "source": [
    "checkpoint_callback = ModelCheckpoint(\n",
    "        filename=class_name + \"-{epoch:02d}-{val_accuracy:.2f}\",\n",
    "        save_top_k=1,\n",
    "        monitor=\"val_accuracy\",\n",
    "        verbose=True,\n",
    "        mode=\"max\"\n",
    "    )"
   ]
  },
  {
   "cell_type": "code",
   "execution_count": 18,
   "id": "17dcbb30-7cbb-43a7-bca3-360ca3dc16ff",
   "metadata": {
    "tags": []
   },
   "outputs": [],
   "source": [
    "tb_logger = TensorBoardLogger(\n",
    "        save_dir=os.path.join(ROOT_PATH, \"lightning_logs\"),\n",
    "        name=class_name,\n",
    "        # version=mod_name\n",
    "    )"
   ]
  },
  {
   "cell_type": "code",
   "execution_count": 19,
   "id": "1caef819-256d-43c9-b8b9-bca132355969",
   "metadata": {
    "tags": []
   },
   "outputs": [],
   "source": [
    "early_stop_callback = EarlyStopping(\n",
    "        monitor='val_accuracy',\n",
    "        min_delta=0.005,\n",
    "        patience=6,\n",
    "        verbose=True,\n",
    "        mode='max'\n",
    "    )"
   ]
  },
  {
   "cell_type": "code",
   "execution_count": 20,
   "id": "b1b60cf0-52ba-4ead-8040-ec575b18717b",
   "metadata": {
    "tags": []
   },
   "outputs": [],
   "source": [
    "lr_monitor = LearningRateMonitor(logging_interval='step')"
   ]
  },
  {
   "cell_type": "code",
   "execution_count": 21,
   "id": "383b82a7-ee6e-479d-a262-b18500cae7bd",
   "metadata": {
    "tags": []
   },
   "outputs": [
    {
     "ename": "MisconfigurationException",
     "evalue": "No supported gpu backend found!",
     "output_type": "error",
     "traceback": [
      "\u001B[0;31m---------------------------------------------------------------------------\u001B[0m",
      "\u001B[0;31mMisconfigurationException\u001B[0m                 Traceback (most recent call last)",
      "Cell \u001B[0;32mIn[21], line 1\u001B[0m\n\u001B[0;32m----> 1\u001B[0m trainer \u001B[38;5;241m=\u001B[39m \u001B[43mpl\u001B[49m\u001B[38;5;241;43m.\u001B[39;49m\u001B[43mTrainer\u001B[49m\u001B[43m(\u001B[49m\n\u001B[1;32m      2\u001B[0m \u001B[43m        \u001B[49m\u001B[43menable_progress_bar\u001B[49m\u001B[38;5;241;43m=\u001B[39;49m\u001B[38;5;28;43;01mTrue\u001B[39;49;00m\u001B[43m,\u001B[49m\n\u001B[1;32m      3\u001B[0m \u001B[43m        \u001B[49m\u001B[43maccelerator\u001B[49m\u001B[38;5;241;43m=\u001B[39;49m\u001B[38;5;124;43m\"\u001B[39;49m\u001B[38;5;124;43mgpu\u001B[39;49m\u001B[38;5;124;43m\"\u001B[39;49m\u001B[43m,\u001B[49m\n\u001B[1;32m      4\u001B[0m \u001B[43m        \u001B[49m\u001B[43mlogger\u001B[49m\u001B[38;5;241;43m=\u001B[39;49m\u001B[43mtb_logger\u001B[49m\u001B[43m,\u001B[49m\n\u001B[1;32m      5\u001B[0m \u001B[43m        \u001B[49m\u001B[43mcallbacks\u001B[49m\u001B[38;5;241;43m=\u001B[39;49m\u001B[43m[\u001B[49m\n\u001B[1;32m      6\u001B[0m \u001B[43m            \u001B[49m\u001B[43mDeviceStatsMonitor\u001B[49m\u001B[43m(\u001B[49m\u001B[43m)\u001B[49m\u001B[43m,\u001B[49m\n\u001B[1;32m      7\u001B[0m \u001B[43m            \u001B[49m\u001B[43mearly_stop_callback\u001B[49m\u001B[43m,\u001B[49m\n\u001B[1;32m      8\u001B[0m \u001B[43m           \u001B[49m\u001B[43mcheckpoint_callback\u001B[49m\u001B[43m,\u001B[49m\n\u001B[1;32m      9\u001B[0m \u001B[43m           \u001B[49m\u001B[43mMyProgressBar\u001B[49m\u001B[43m(\u001B[49m\u001B[43m)\u001B[49m\u001B[43m,\u001B[49m\n\u001B[1;32m     10\u001B[0m \u001B[43m            \u001B[49m\u001B[43mlr_monitor\u001B[49m\n\u001B[1;32m     11\u001B[0m \u001B[43m        \u001B[49m\u001B[43m]\u001B[49m\u001B[43m,\u001B[49m\n\u001B[1;32m     12\u001B[0m \u001B[43m        \u001B[49m\u001B[43mmax_epochs\u001B[49m\u001B[38;5;241;43m=\u001B[39;49m\u001B[38;5;241;43m100\u001B[39;49m\u001B[43m,\u001B[49m\n\u001B[1;32m     13\u001B[0m \u001B[43m       \u001B[49m\u001B[38;5;66;43;03m# limit_train_batches=10,\u001B[39;49;00m\n\u001B[1;32m     14\u001B[0m \u001B[43m        \u001B[49m\u001B[38;5;66;43;03m# limit_val_batches=0,\u001B[39;49;00m\n\u001B[1;32m     15\u001B[0m \u001B[43m        \u001B[49m\u001B[43mnum_sanity_val_steps\u001B[49m\u001B[38;5;241;43m=\u001B[39;49m\u001B[38;5;241;43m0\u001B[39;49m\u001B[43m,\u001B[49m\n\u001B[1;32m     16\u001B[0m \u001B[43m        \u001B[49m\u001B[43mprofiler\u001B[49m\u001B[38;5;241;43m=\u001B[39;49m\u001B[38;5;28;43;01mNone\u001B[39;49;00m\u001B[43m,\u001B[49m\u001B[43m  \u001B[49m\u001B[38;5;66;43;03m# select from None\u001B[39;49;00m\n\u001B[1;32m     17\u001B[0m \u001B[43m    \u001B[49m\u001B[43m)\u001B[49m\n",
      "File \u001B[0;32m/Library/Frameworks/Python.framework/Versions/3.10/lib/python3.10/site-packages/pytorch_lightning/utilities/argparse.py:69\u001B[0m, in \u001B[0;36m_defaults_from_env_vars.<locals>.insert_env_defaults\u001B[0;34m(self, *args, **kwargs)\u001B[0m\n\u001B[1;32m     66\u001B[0m kwargs \u001B[38;5;241m=\u001B[39m \u001B[38;5;28mdict\u001B[39m(\u001B[38;5;28mlist\u001B[39m(env_variables\u001B[38;5;241m.\u001B[39mitems()) \u001B[38;5;241m+\u001B[39m \u001B[38;5;28mlist\u001B[39m(kwargs\u001B[38;5;241m.\u001B[39mitems()))\n\u001B[1;32m     68\u001B[0m \u001B[38;5;66;03m# all args were already moved to kwargs\u001B[39;00m\n\u001B[0;32m---> 69\u001B[0m \u001B[38;5;28;01mreturn\u001B[39;00m \u001B[43mfn\u001B[49m\u001B[43m(\u001B[49m\u001B[38;5;28;43mself\u001B[39;49m\u001B[43m,\u001B[49m\u001B[43m \u001B[49m\u001B[38;5;241;43m*\u001B[39;49m\u001B[38;5;241;43m*\u001B[39;49m\u001B[43mkwargs\u001B[49m\u001B[43m)\u001B[49m\n",
      "File \u001B[0;32m/Library/Frameworks/Python.framework/Versions/3.10/lib/python3.10/site-packages/pytorch_lightning/trainer/trainer.py:393\u001B[0m, in \u001B[0;36mTrainer.__init__\u001B[0;34m(self, accelerator, strategy, devices, num_nodes, precision, logger, callbacks, fast_dev_run, max_epochs, min_epochs, max_steps, min_steps, max_time, limit_train_batches, limit_val_batches, limit_test_batches, limit_predict_batches, overfit_batches, val_check_interval, check_val_every_n_epoch, num_sanity_val_steps, log_every_n_steps, enable_checkpointing, enable_progress_bar, enable_model_summary, accumulate_grad_batches, gradient_clip_val, gradient_clip_algorithm, deterministic, benchmark, inference_mode, use_distributed_sampler, profiler, detect_anomaly, barebones, plugins, sync_batchnorm, reload_dataloaders_every_n_epochs, default_root_dir)\u001B[0m\n\u001B[1;32m    390\u001B[0m \u001B[38;5;66;03m# init connectors\u001B[39;00m\n\u001B[1;32m    391\u001B[0m \u001B[38;5;28mself\u001B[39m\u001B[38;5;241m.\u001B[39m_data_connector \u001B[38;5;241m=\u001B[39m _DataConnector(\u001B[38;5;28mself\u001B[39m)\n\u001B[0;32m--> 393\u001B[0m \u001B[38;5;28mself\u001B[39m\u001B[38;5;241m.\u001B[39m_accelerator_connector \u001B[38;5;241m=\u001B[39m \u001B[43m_AcceleratorConnector\u001B[49m\u001B[43m(\u001B[49m\n\u001B[1;32m    394\u001B[0m \u001B[43m    \u001B[49m\u001B[43mdevices\u001B[49m\u001B[38;5;241;43m=\u001B[39;49m\u001B[43mdevices\u001B[49m\u001B[43m,\u001B[49m\n\u001B[1;32m    395\u001B[0m \u001B[43m    \u001B[49m\u001B[43maccelerator\u001B[49m\u001B[38;5;241;43m=\u001B[39;49m\u001B[43maccelerator\u001B[49m\u001B[43m,\u001B[49m\n\u001B[1;32m    396\u001B[0m \u001B[43m    \u001B[49m\u001B[43mstrategy\u001B[49m\u001B[38;5;241;43m=\u001B[39;49m\u001B[43mstrategy\u001B[49m\u001B[43m,\u001B[49m\n\u001B[1;32m    397\u001B[0m \u001B[43m    \u001B[49m\u001B[43mnum_nodes\u001B[49m\u001B[38;5;241;43m=\u001B[39;49m\u001B[43mnum_nodes\u001B[49m\u001B[43m,\u001B[49m\n\u001B[1;32m    398\u001B[0m \u001B[43m    \u001B[49m\u001B[43msync_batchnorm\u001B[49m\u001B[38;5;241;43m=\u001B[39;49m\u001B[43msync_batchnorm\u001B[49m\u001B[43m,\u001B[49m\n\u001B[1;32m    399\u001B[0m \u001B[43m    \u001B[49m\u001B[43mbenchmark\u001B[49m\u001B[38;5;241;43m=\u001B[39;49m\u001B[43mbenchmark\u001B[49m\u001B[43m,\u001B[49m\n\u001B[1;32m    400\u001B[0m \u001B[43m    \u001B[49m\u001B[43muse_distributed_sampler\u001B[49m\u001B[38;5;241;43m=\u001B[39;49m\u001B[43muse_distributed_sampler\u001B[49m\u001B[43m,\u001B[49m\n\u001B[1;32m    401\u001B[0m \u001B[43m    \u001B[49m\u001B[43mdeterministic\u001B[49m\u001B[38;5;241;43m=\u001B[39;49m\u001B[43mdeterministic\u001B[49m\u001B[43m,\u001B[49m\n\u001B[1;32m    402\u001B[0m \u001B[43m    \u001B[49m\u001B[43mprecision\u001B[49m\u001B[38;5;241;43m=\u001B[39;49m\u001B[43mprecision\u001B[49m\u001B[43m,\u001B[49m\n\u001B[1;32m    403\u001B[0m \u001B[43m    \u001B[49m\u001B[43mplugins\u001B[49m\u001B[38;5;241;43m=\u001B[39;49m\u001B[43mplugins\u001B[49m\u001B[43m,\u001B[49m\n\u001B[1;32m    404\u001B[0m \u001B[43m\u001B[49m\u001B[43m)\u001B[49m\n\u001B[1;32m    405\u001B[0m \u001B[38;5;28mself\u001B[39m\u001B[38;5;241m.\u001B[39m_logger_connector \u001B[38;5;241m=\u001B[39m _LoggerConnector(\u001B[38;5;28mself\u001B[39m)\n\u001B[1;32m    406\u001B[0m \u001B[38;5;28mself\u001B[39m\u001B[38;5;241m.\u001B[39m_callback_connector \u001B[38;5;241m=\u001B[39m _CallbackConnector(\u001B[38;5;28mself\u001B[39m)\n",
      "File \u001B[0;32m/Library/Frameworks/Python.framework/Versions/3.10/lib/python3.10/site-packages/pytorch_lightning/trainer/connectors/accelerator_connector.py:154\u001B[0m, in \u001B[0;36m_AcceleratorConnector.__init__\u001B[0;34m(self, devices, num_nodes, accelerator, strategy, plugins, precision, sync_batchnorm, benchmark, use_distributed_sampler, deterministic)\u001B[0m\n\u001B[1;32m    152\u001B[0m     \u001B[38;5;28mself\u001B[39m\u001B[38;5;241m.\u001B[39m_accelerator_flag \u001B[38;5;241m=\u001B[39m \u001B[38;5;28mself\u001B[39m\u001B[38;5;241m.\u001B[39m_choose_auto_accelerator()\n\u001B[1;32m    153\u001B[0m \u001B[38;5;28;01melif\u001B[39;00m \u001B[38;5;28mself\u001B[39m\u001B[38;5;241m.\u001B[39m_accelerator_flag \u001B[38;5;241m==\u001B[39m \u001B[38;5;124m\"\u001B[39m\u001B[38;5;124mgpu\u001B[39m\u001B[38;5;124m\"\u001B[39m:\n\u001B[0;32m--> 154\u001B[0m     \u001B[38;5;28mself\u001B[39m\u001B[38;5;241m.\u001B[39m_accelerator_flag \u001B[38;5;241m=\u001B[39m \u001B[38;5;28;43mself\u001B[39;49m\u001B[38;5;241;43m.\u001B[39;49m\u001B[43m_choose_gpu_accelerator_backend\u001B[49m\u001B[43m(\u001B[49m\u001B[43m)\u001B[49m\n\u001B[1;32m    156\u001B[0m \u001B[38;5;28mself\u001B[39m\u001B[38;5;241m.\u001B[39m_check_device_config_and_set_final_flags(devices\u001B[38;5;241m=\u001B[39mdevices, num_nodes\u001B[38;5;241m=\u001B[39mnum_nodes)\n\u001B[1;32m    157\u001B[0m \u001B[38;5;28mself\u001B[39m\u001B[38;5;241m.\u001B[39m_set_parallel_devices_and_init_accelerator()\n",
      "File \u001B[0;32m/Library/Frameworks/Python.framework/Versions/3.10/lib/python3.10/site-packages/pytorch_lightning/trainer/connectors/accelerator_connector.py:371\u001B[0m, in \u001B[0;36m_AcceleratorConnector._choose_gpu_accelerator_backend\u001B[0;34m()\u001B[0m\n\u001B[1;32m    369\u001B[0m \u001B[38;5;28;01mif\u001B[39;00m CUDAAccelerator\u001B[38;5;241m.\u001B[39mis_available():\n\u001B[1;32m    370\u001B[0m     \u001B[38;5;28;01mreturn\u001B[39;00m \u001B[38;5;124m\"\u001B[39m\u001B[38;5;124mcuda\u001B[39m\u001B[38;5;124m\"\u001B[39m\n\u001B[0;32m--> 371\u001B[0m \u001B[38;5;28;01mraise\u001B[39;00m MisconfigurationException(\u001B[38;5;124m\"\u001B[39m\u001B[38;5;124mNo supported gpu backend found!\u001B[39m\u001B[38;5;124m\"\u001B[39m)\n",
      "\u001B[0;31mMisconfigurationException\u001B[0m: No supported gpu backend found!"
     ]
    }
   ],
   "source": [
    "trainer = pl.Trainer(\n",
    "        enable_progress_bar=True,\n",
    "        accelerator=\"gpu\",\n",
    "        logger=tb_logger,\n",
    "        callbacks=[\n",
    "            DeviceStatsMonitor(),\n",
    "            early_stop_callback,\n",
    "           checkpoint_callback,\n",
    "           MyProgressBar(),\n",
    "            lr_monitor\n",
    "        ],\n",
    "        max_epochs=100,\n",
    "       # limit_train_batches=10,\n",
    "        # limit_val_batches=0,\n",
    "        num_sanity_val_steps=0,\n",
    "        profiler=None,  # select from None\n",
    "    )"
   ]
  },
  {
   "cell_type": "code",
   "execution_count": null,
   "id": "26e88c50-bc99-4424-bcd8-67d3179cdf44",
   "metadata": {
    "tags": []
   },
   "outputs": [
    {
     "name": "stderr",
     "output_type": "stream",
     "text": [
      "\n",
      "  | Name      | Type                                   | Params\n",
      "---------------------------------------------------------------------\n",
      "0 | criterion | CrossEntropyLoss                       | 0     \n",
      "1 | accuracy  | MulticlassAccuracy                     | 0     \n",
      "2 | model     | LightningTransformerSequenceClassifier | 741 K \n",
      "---------------------------------------------------------------------\n",
      "741 K     Trainable params\n",
      "0         Non-trainable params\n",
      "741 K     Total params\n",
      "2.965     Total estimated model params size (MB)\n"
     ]
    }
   ],
   "source": [
    "trainer.fit(\n",
    "        model=model,\n",
    "        train_dataloaders=train_ds,\n",
    "        val_dataloaders=val_ds,\n",
    "\n",
    "    )\n"
   ]
  },
  {
   "cell_type": "code",
   "execution_count": 34,
   "id": "86f25600-1c28-41a9-9f7d-b9052cccbf29",
   "metadata": {
    "tags": []
   },
   "outputs": [],
   "source": [
    "trainer.test(ckpt_path=\"best\",\n",
    "                 dataloaders=test_ds\n",
    "                 )"
   ]
  },
  {
   "cell_type": "code",
   "execution_count": 1,
   "id": "4002e62f-c57a-4d5e-b976-bdcb39f89fc2",
   "metadata": {},
   "outputs": [
    {
     "name": "stderr",
     "output_type": "stream",
     "text": [
      "/Library/Frameworks/Python.framework/Versions/3.10/lib/python3.10/site-packages/tensorflow_addons/utils/tfa_eol_msg.py:23: UserWarning: \n",
      "\n",
      "TensorFlow Addons (TFA) has ended development and introduction of new features.\n",
      "TFA has entered a minimal maintenance and release mode until a planned end of life in May 2024.\n",
      "Please modify downstream libraries to take dependencies from other repositories in our TensorFlow community (e.g. Keras, Keras-CV, and Keras-NLP). \n",
      "\n",
      "For more information see: https://github.com/tensorflow/addons/issues/2807 \n",
      "\n",
      "  warnings.warn(\n"
     ]
    },
    {
     "ename": "ImportError",
     "evalue": "cannot import name 'PositionalEncoding' from 'tensorflow_addons.layers' (/Library/Frameworks/Python.framework/Versions/3.10/lib/python3.10/site-packages/tensorflow_addons/layers/__init__.py)",
     "output_type": "error",
     "traceback": [
      "\u001B[0;31m---------------------------------------------------------------------------\u001B[0m",
      "\u001B[0;31mImportError\u001B[0m                               Traceback (most recent call last)",
      "Cell \u001B[0;32mIn[1], line 2\u001B[0m\n\u001B[1;32m      1\u001B[0m \u001B[38;5;28;01mimport\u001B[39;00m \u001B[38;5;21;01mtensorflow\u001B[39;00m \u001B[38;5;28;01mas\u001B[39;00m \u001B[38;5;21;01mtf\u001B[39;00m\n\u001B[0;32m----> 2\u001B[0m \u001B[38;5;28;01mfrom\u001B[39;00m \u001B[38;5;21;01mtensorflow_addons\u001B[39;00m\u001B[38;5;21;01m.\u001B[39;00m\u001B[38;5;21;01mlayers\u001B[39;00m \u001B[38;5;28;01mimport\u001B[39;00m MultiHeadAttention, PositionalEncoding\n",
      "\u001B[0;31mImportError\u001B[0m: cannot import name 'PositionalEncoding' from 'tensorflow_addons.layers' (/Library/Frameworks/Python.framework/Versions/3.10/lib/python3.10/site-packages/tensorflow_addons/layers/__init__.py)"
     ]
    }
   ],
   "source": [
    "import tensorflow as tf\n",
    "from tensorflow_addons.layers import MultiHeadAttention, PositionalEncoding\n"
   ]
  },
  {
   "cell_type": "code",
   "execution_count": null,
   "id": "c3e5ece7",
   "metadata": {},
   "outputs": [],
   "source": []
  }
 ],
 "metadata": {
  "kernelspec": {
   "display_name": "Python 3 (ipykernel)",
   "language": "python",
   "name": "python3"
  },
  "language_info": {
   "codemirror_mode": {
    "name": "ipython",
    "version": 3
   },
   "file_extension": ".py",
   "mimetype": "text/x-python",
   "name": "python",
   "nbconvert_exporter": "python",
   "pygments_lexer": "ipython3",
   "version": "3.10.11"
  }
 },
 "nbformat": 4,
 "nbformat_minor": 5
}
