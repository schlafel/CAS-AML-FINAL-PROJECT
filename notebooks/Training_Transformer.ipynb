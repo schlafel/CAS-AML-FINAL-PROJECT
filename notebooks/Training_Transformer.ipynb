{
 "cells": [
  {
   "cell_type": "code",
   "execution_count": 1,
   "id": "4ec9351e-c411-4e2d-98bb-be2936096481",
   "metadata": {
    "tags": []
   },
   "outputs": [],
   "source": [
    "import importlib\n",
    "import sys\n",
    "import os\n",
    "sys.path.insert(0, '../src')"
   ]
  },
  {
   "cell_type": "code",
   "execution_count": 2,
   "id": "0383fc4d-b56b-4275-9a6f-4da8d37cb01c",
   "metadata": {
    "tags": []
   },
   "outputs": [],
   "source": [
    "import torch\n",
    "import torch.nn as nn\n",
    "import os\n",
    "import json\n",
    "import pandas as pd\n",
    "from torch.utils.data import Dataset, DataLoader\n",
    "import pyarrow.parquet as pq\n",
    "import numpy as np\n",
    "import torch.nn.functional as F\n",
    "from tqdm import tqdm\n",
    "import pytorch_lightning as pl\n",
    "import sys\n",
    "# from sklearn import *\n",
    "from torchmetrics.classification import accuracy"
   ]
  },
  {
   "cell_type": "code",
   "execution_count": 3,
   "id": "cb22fd5c-d59c-40ca-a44b-7a5e0831fa2e",
   "metadata": {
    "tags": []
   },
   "outputs": [],
   "source": [
    "from pytorch_lightning.callbacks import LearningRateMonitor, ModelCheckpoint, DeviceStatsMonitor, TQDMProgressBar,EarlyStopping\n",
    "from pytorch_lightning.loggers import TensorBoardLogger\n",
    "from pytorch_lightning.tuner import Tuner\n",
    "from config import *\n",
    "from data import data_utils\n",
    "from data.dataset import ASL_DATASET\n",
    "from dl_utils import get_dataloader"
   ]
  },
  {
   "cell_type": "code",
   "execution_count": 4,
   "id": "a6bb36ca-137a-4ce6-b9e8-e6fee4a95df7",
   "metadata": {
    "tags": []
   },
   "outputs": [],
   "source": [
    "from src.models.models import LSTM_BASELINE_Model, LSTM_Predictor, TransformerPredictor"
   ]
  },
  {
   "cell_type": "code",
   "execution_count": 5,
   "id": "f80cbd25-600d-4ae7-89a6-75857ef0eca4",
   "metadata": {
    "tags": []
   },
   "outputs": [
    {
     "data": {
      "text/plain": [
       "'cpu'"
      ]
     },
     "execution_count": 5,
     "metadata": {},
     "output_type": "execute_result"
    }
   ],
   "source": [
    "DEVICE"
   ]
  },
  {
   "cell_type": "code",
   "execution_count": 6,
   "id": "9d63d35a-8a08-4cf1-a0d2-aa8c340c5805",
   "metadata": {
    "tags": []
   },
   "outputs": [],
   "source": [
    "class MyProgressBar(TQDMProgressBar):\n",
    "    def init_validation_tqdm(self):\n",
    "        bar = super().init_validation_tqdm()\n",
    "        if not sys.stdout.isatty():\n",
    "            bar.disable = True\n",
    "        return bar\n",
    "\n",
    "    def init_predict_tqdm(self):\n",
    "        bar = super().init_predict_tqdm()\n",
    "        if not sys.stdout.isatty():\n",
    "            bar.disable = True\n",
    "        return bar\n",
    "\n",
    "    def init_test_tqdm(self):\n",
    "        bar = super().init_test_tqdm()\n",
    "        if not sys.stdout.isatty():\n",
    "            bar.disable = True\n",
    "        return bar"
   ]
  },
  {
   "cell_type": "code",
   "execution_count": 7,
   "id": "8eef3a8b-5e23-4f85-a3a1-c86f28c9bfe4",
   "metadata": {
    "tags": []
   },
   "outputs": [],
   "source": [
    "# MAX_SEQUENCES = 150\n",
    "BATCH_SIZE = 256  # Not optimal as not a perfect power of 2, but maximum that fits in my GPU\n",
    "num_workers = 4 #os.cpu_count() // 2  # or 0\n",
    "mod_name = \"FIRST_TRANSFORMER_MODEL_2\"\n",
    "DL_FRAMEWORK = \"PYTORCH\""
   ]
  },
  {
   "cell_type": "code",
   "execution_count": 8,
   "id": "abdd594c-96de-4a77-a156-4d4913b1051e",
   "metadata": {
    "tags": []
   },
   "outputs": [],
   "source": [
    "asl_dataset = ASL_DATASET(augment=True, augmentation_threshold=0.3)"
   ]
  },
  {
   "cell_type": "code",
   "execution_count": 9,
   "id": "e3b06724-62f3-4263-922c-3ed7d3297d0e",
   "metadata": {
    "tags": []
   },
   "outputs": [],
   "source": [
    "train_ds, val_ds, test_ds = data_utils.create_data_loaders(asl_dataset,\n",
    "                                                               batch_size=BATCH_SIZE,\n",
    "                                                               dl_framework=DL_FRAMEWORK,\n",
    "                                                               num_workers=num_workers)"
   ]
  },
  {
   "cell_type": "code",
   "execution_count": 10,
   "id": "6bd03a7b-3190-4489-9800-b9c55b79714d",
   "metadata": {
    "tags": []
   },
   "outputs": [
    {
     "name": "stdout",
     "output_type": "stream",
     "text": [
      "Got the lengths for Train-Dataset: 468, 28, 56\n"
     ]
    }
   ],
   "source": [
    "print(f'Got the lengths for Train-Dataset: {len(train_ds)}, {len(val_ds)}, {len(test_ds)}')"
   ]
  },
  {
   "cell_type": "code",
   "execution_count": 12,
   "id": "c07c03d9-5c7d-4d3b-8b33-eb7a37ab7c0f",
   "metadata": {
    "tags": []
   },
   "outputs": [
    {
     "data": {
      "text/plain": [
       "torch.float32"
      ]
     },
     "execution_count": 12,
     "metadata": {},
     "output_type": "execute_result"
    }
   ],
   "source": [
    "batch = next(iter(train_ds))[0]\n",
    "batch.dtype"
   ]
  },
  {
   "cell_type": "code",
   "execution_count": 13,
   "id": "d5a74966-56a5-4692-924c-cb551d0d9b6d",
   "metadata": {},
   "outputs": [
    {
     "name": "stdout",
     "output_type": "stream",
     "text": [
      "TransformerPredictor(\n",
      "  (model): TransformerSequenceClassifier(\n",
      "    (transformer): TransformerEncoder(\n",
      "      (layers): ModuleList(\n",
      "        (0-2): 3 x TransformerEncoderLayer(\n",
      "          (self_attn): MultiheadAttention(\n",
      "            (out_proj): NonDynamicallyQuantizableLinear(in_features=192, out_features=192, bias=True)\n",
      "          )\n",
      "          (linear1): Linear(in_features=192, out_features=512, bias=True)\n",
      "          (dropout): Dropout(p=0.3, inplace=False)\n",
      "          (linear2): Linear(in_features=512, out_features=192, bias=True)\n",
      "          (norm1): LayerNorm((192,), eps=1e-06, elementwise_affine=True)\n",
      "          (norm2): LayerNorm((192,), eps=1e-06, elementwise_affine=True)\n",
      "          (dropout1): Dropout(p=0.3, inplace=False)\n",
      "          (dropout2): Dropout(p=0.3, inplace=False)\n",
      "        )\n",
      "      )\n",
      "      (norm): LayerNorm((192,), eps=1e-05, elementwise_affine=True)\n",
      "    )\n",
      "    (output_layer): Linear(in_features=192, out_features=250, bias=True)\n",
      "  )\n",
      "  (criterion): CrossEntropyLoss()\n",
      "  (accuracy): MulticlassAccuracy()\n",
      ")\n"
     ]
    }
   ],
   "source": [
    "model = TransformerPredictor(\n",
    "        d_model=192,\n",
    "        n_head=8,\n",
    "        dim_feedforward=512,\n",
    "        dropout=0.3,\n",
    "        layer_norm_eps=1e-6,\n",
    "        norm_first=False,\n",
    "        batch_first=True,\n",
    "        num_layers=3,\n",
    "        num_classes=250,\n",
    "        learning_rate = LEARNING_RATE\n",
    "    )\n",
    "model(batch)\n",
    "model = model.float().to(DEVICE)\n",
    "print(model)"
   ]
  },
  {
   "cell_type": "code",
   "execution_count": 18,
   "id": "4db8daf6",
   "metadata": {},
   "outputs": [
    {
     "name": "stdout",
     "output_type": "stream",
     "text": [
      "[110592, 576, 36864, 192, 98304, 512, 98304, 192, 192, 192, 192, 192, 110592, 576, 36864, 192, 98304, 512, 98304, 192, 192, 192, 192, 192, 110592, 576, 36864, 192, 98304, 512, 98304, 192, 192, 192, 192, 192, 192, 192, 48000, 250]\n"
     ]
    }
   ],
   "source": [
    "print([p.numel() for p in model.parameters()])"
   ]
  },
  {
   "cell_type": "code",
   "execution_count": 24,
   "id": "52fef1a2",
   "metadata": {},
   "outputs": [
    {
     "data": {
      "text/plain": [
       "[('model.transformer.layers.0.self_attn.in_proj_weight', 110592),\n",
       " ('model.transformer.layers.0.self_attn.in_proj_bias', 576),\n",
       " ('model.transformer.layers.0.self_attn.out_proj.weight', 36864),\n",
       " ('model.transformer.layers.0.self_attn.out_proj.bias', 192),\n",
       " ('model.transformer.layers.0.linear1.weight', 98304),\n",
       " ('model.transformer.layers.0.linear1.bias', 512),\n",
       " ('model.transformer.layers.0.linear2.weight', 98304),\n",
       " ('model.transformer.layers.0.linear2.bias', 192),\n",
       " ('model.transformer.layers.0.norm1.weight', 192),\n",
       " ('model.transformer.layers.0.norm1.bias', 192),\n",
       " ('model.transformer.layers.0.norm2.weight', 192),\n",
       " ('model.transformer.layers.0.norm2.bias', 192),\n",
       " ('model.transformer.layers.1.self_attn.in_proj_weight', 110592),\n",
       " ('model.transformer.layers.1.self_attn.in_proj_bias', 576),\n",
       " ('model.transformer.layers.1.self_attn.out_proj.weight', 36864),\n",
       " ('model.transformer.layers.1.self_attn.out_proj.bias', 192),\n",
       " ('model.transformer.layers.1.linear1.weight', 98304),\n",
       " ('model.transformer.layers.1.linear1.bias', 512),\n",
       " ('model.transformer.layers.1.linear2.weight', 98304),\n",
       " ('model.transformer.layers.1.linear2.bias', 192),\n",
       " ('model.transformer.layers.1.norm1.weight', 192),\n",
       " ('model.transformer.layers.1.norm1.bias', 192),\n",
       " ('model.transformer.layers.1.norm2.weight', 192),\n",
       " ('model.transformer.layers.1.norm2.bias', 192),\n",
       " ('model.transformer.layers.2.self_attn.in_proj_weight', 110592),\n",
       " ('model.transformer.layers.2.self_attn.in_proj_bias', 576),\n",
       " ('model.transformer.layers.2.self_attn.out_proj.weight', 36864),\n",
       " ('model.transformer.layers.2.self_attn.out_proj.bias', 192),\n",
       " ('model.transformer.layers.2.linear1.weight', 98304),\n",
       " ('model.transformer.layers.2.linear1.bias', 512),\n",
       " ('model.transformer.layers.2.linear2.weight', 98304),\n",
       " ('model.transformer.layers.2.linear2.bias', 192),\n",
       " ('model.transformer.layers.2.norm1.weight', 192),\n",
       " ('model.transformer.layers.2.norm1.bias', 192),\n",
       " ('model.transformer.layers.2.norm2.weight', 192),\n",
       " ('model.transformer.layers.2.norm2.bias', 192),\n",
       " ('model.transformer.norm.weight', 192),\n",
       " ('model.transformer.norm.bias', 192),\n",
       " ('model.output_layer.weight', 48000),\n",
       " ('model.output_layer.bias', 250)]"
      ]
     },
     "execution_count": 24,
     "metadata": {},
     "output_type": "execute_result"
    }
   ],
   "source": [
    "[(name, p.numel()) for name, p in model.named_parameters()]"
   ]
  },
  {
   "cell_type": "code",
   "execution_count": null,
   "id": "2d47a7e4-ae65-4427-aa30-94dc76d1c071",
   "metadata": {
    "tags": []
   },
   "outputs": [],
   "source": [
    "checkpoint_callback = ModelCheckpoint(\n",
    "        filename=mod_name + \"-{epoch:02d}-{val_accuracy:.2f}\",\n",
    "        save_top_k=1,\n",
    "        monitor=\"val_accuracy\",\n",
    "        verbose=True,\n",
    "        mode=\"max\"\n",
    "    )"
   ]
  },
  {
   "cell_type": "code",
   "execution_count": null,
   "id": "17dcbb30-7cbb-43a7-bca3-360ca3dc16ff",
   "metadata": {
    "tags": []
   },
   "outputs": [],
   "source": [
    "tb_logger = TensorBoardLogger(\n",
    "        save_dir=os.path.join(ROOT_PATH, \"lightning_logs\"),\n",
    "        name=mod_name,\n",
    "        # version=mod_name\n",
    "    )"
   ]
  },
  {
   "cell_type": "code",
   "execution_count": null,
   "id": "1caef819-256d-43c9-b8b9-bca132355969",
   "metadata": {
    "tags": []
   },
   "outputs": [],
   "source": [
    "early_stop_callback = EarlyStopping(\n",
    "        monitor='val_accuracy',\n",
    "        min_delta=0.005,\n",
    "        patience=6,\n",
    "        verbose=True,\n",
    "        mode='max'\n",
    "    )"
   ]
  },
  {
   "cell_type": "code",
   "execution_count": null,
   "id": "b1b60cf0-52ba-4ead-8040-ec575b18717b",
   "metadata": {
    "tags": []
   },
   "outputs": [],
   "source": [
    "lr_monitor = LearningRateMonitor(logging_interval='step')"
   ]
  },
  {
   "cell_type": "code",
   "execution_count": null,
   "id": "383b82a7-ee6e-479d-a262-b18500cae7bd",
   "metadata": {
    "tags": []
   },
   "outputs": [],
   "source": [
    "trainer = pl.Trainer(\n",
    "        enable_progress_bar=True,\n",
    "        accelerator=\"gpu\",\n",
    "        logger=tb_logger,\n",
    "        callbacks=[\n",
    "            DeviceStatsMonitor(),\n",
    "            early_stop_callback,\n",
    "           checkpoint_callback,\n",
    "           MyProgressBar(),\n",
    "            lr_monitor\n",
    "        ],\n",
    "        max_epochs=100,\n",
    "       # limit_train_batches=10,\n",
    "        # limit_val_batches=0,\n",
    "        num_sanity_val_steps=0,\n",
    "        profiler=None,  # select from None\n",
    "    )"
   ]
  },
  {
   "cell_type": "code",
   "execution_count": null,
   "id": "26e88c50-bc99-4424-bcd8-67d3179cdf44",
   "metadata": {
    "tags": []
   },
   "outputs": [],
   "source": [
    "trainer.fit(\n",
    "        model=model,\n",
    "        train_dataloaders=train_ds,\n",
    "        val_dataloaders=val_ds,\n",
    "\n",
    "    )\n"
   ]
  },
  {
   "cell_type": "code",
   "execution_count": 29,
   "id": "86f25600-1c28-41a9-9f7d-b9052cccbf29",
   "metadata": {
    "tags": []
   },
   "outputs": [
    {
     "name": "stderr",
     "output_type": "stream",
     "text": [
      "Restoring states from the checkpoint path at /Users/tgdimas1/git/CAS-AML-FINAL-PROJECT/notebooks/../src/../lightning_logs/FIRST_TRANSFORMER_MODEL_2/version_8/checkpoints/FIRST_TRANSFORMER_MODEL_2-epoch=28-val_accuracy=0.77.ckpt\n",
      "Loaded model weights from the checkpoint at /Users/tgdimas1/git/CAS-AML-FINAL-PROJECT/notebooks/../src/../lightning_logs/FIRST_TRANSFORMER_MODEL_2/version_8/checkpoints/FIRST_TRANSFORMER_MODEL_2-epoch=28-val_accuracy=0.77.ckpt\n"
     ]
    },
    {
     "data": {
      "application/vnd.jupyter.widget-view+json": {
       "model_id": "3a115845e4644afea3e3a8dceab9c208",
       "version_major": 2,
       "version_minor": 0
      },
      "text/plain": [
       "Testing: 0it [00:00, ?it/s]"
      ]
     },
     "metadata": {},
     "output_type": "display_data"
    },
    {
     "data": {
      "text/html": [
       "<pre style=\"white-space:pre;overflow-x:auto;line-height:normal;font-family:Menlo,'DejaVu Sans Mono',consolas,'Courier New',monospace\">┏━━━━━━━━━━━━━━━━━━━━━━━━━━━┳━━━━━━━━━━━━━━━━━━━━━━━━━━━┓\n",
       "┃<span style=\"font-weight: bold\">        Test metric        </span>┃<span style=\"font-weight: bold\">       DataLoader 0        </span>┃\n",
       "┡━━━━━━━━━━━━━━━━━━━━━━━━━━━╇━━━━━━━━━━━━━━━━━━━━━━━━━━━┩\n",
       "│<span style=\"color: #008080; text-decoration-color: #008080\">       test_accuracy       </span>│<span style=\"color: #800080; text-decoration-color: #800080\">    0.7791028022766113     </span>│\n",
       "│<span style=\"color: #008080; text-decoration-color: #008080\">         test_loss         </span>│<span style=\"color: #800080; text-decoration-color: #800080\">    0.9785623550415039     </span>│\n",
       "└───────────────────────────┴───────────────────────────┘\n",
       "</pre>\n"
      ],
      "text/plain": [
       "┏━━━━━━━━━━━━━━━━━━━━━━━━━━━┳━━━━━━━━━━━━━━━━━━━━━━━━━━━┓\n",
       "┃\u001b[1m \u001b[0m\u001b[1m       Test metric       \u001b[0m\u001b[1m \u001b[0m┃\u001b[1m \u001b[0m\u001b[1m      DataLoader 0       \u001b[0m\u001b[1m \u001b[0m┃\n",
       "┡━━━━━━━━━━━━━━━━━━━━━━━━━━━╇━━━━━━━━━━━━━━━━━━━━━━━━━━━┩\n",
       "│\u001b[36m \u001b[0m\u001b[36m      test_accuracy      \u001b[0m\u001b[36m \u001b[0m│\u001b[35m \u001b[0m\u001b[35m   0.7791028022766113    \u001b[0m\u001b[35m \u001b[0m│\n",
       "│\u001b[36m \u001b[0m\u001b[36m        test_loss        \u001b[0m\u001b[36m \u001b[0m│\u001b[35m \u001b[0m\u001b[35m   0.9785623550415039    \u001b[0m\u001b[35m \u001b[0m│\n",
       "└───────────────────────────┴───────────────────────────┘\n"
      ]
     },
     "metadata": {},
     "output_type": "display_data"
    },
    {
     "data": {
      "text/plain": [
       "[{'test_loss': 0.9785623550415039, 'test_accuracy': 0.7791028022766113}]"
      ]
     },
     "execution_count": 29,
     "metadata": {},
     "output_type": "execute_result"
    }
   ],
   "source": [
    "trainer.test(ckpt_path=\"best\",\n",
    "                 dataloaders=test_ds\n",
    "                 )"
   ]
  },
  {
   "cell_type": "code",
   "execution_count": null,
   "id": "4002e62f-c57a-4d5e-b976-bdcb39f89fc2",
   "metadata": {},
   "outputs": [],
   "source": []
  }
 ],
 "metadata": {
  "kernelspec": {
   "display_name": "Python 3 (ipykernel)",
   "language": "python",
   "name": "python3"
  },
  "language_info": {
   "codemirror_mode": {
    "name": "ipython",
    "version": 3
   },
   "file_extension": ".py",
   "mimetype": "text/x-python",
   "name": "python",
   "nbconvert_exporter": "python",
   "pygments_lexer": "ipython3",
   "version": "3.9.16"
  }
 },
 "nbformat": 4,
 "nbformat_minor": 5
}
