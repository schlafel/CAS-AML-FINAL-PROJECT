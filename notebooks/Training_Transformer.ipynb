{
 "cells": [
  {
   "cell_type": "code",
   "execution_count": 11,
   "id": "4ec9351e-c411-4e2d-98bb-be2936096481",
   "metadata": {
    "tags": []
   },
   "outputs": [],
   "source": [
    "import importlib\n",
    "import sys\n",
    "import os\n",
    "sys.path.insert(0, '../src')"
   ]
  },
  {
   "cell_type": "code",
   "execution_count": 12,
   "id": "0383fc4d-b56b-4275-9a6f-4da8d37cb01c",
   "metadata": {
    "tags": []
   },
   "outputs": [],
   "source": [
    "import torch\n",
    "import torch.nn as nn\n",
    "import os\n",
    "import json\n",
    "import pandas as pd\n",
    "from torch.utils.data import Dataset, DataLoader\n",
    "import pyarrow.parquet as pq\n",
    "import numpy as np\n",
    "import torch.nn.functional as F\n",
    "from tqdm import tqdm\n",
    "import pytorch_lightning as pl\n",
    "import sys\n",
    "# from sklearn import *\n",
    "from torchmetrics.classification import accuracy"
   ]
  },
  {
   "cell_type": "code",
   "execution_count": 13,
   "id": "cb22fd5c-d59c-40ca-a44b-7a5e0831fa2e",
   "metadata": {
    "tags": []
   },
   "outputs": [],
   "source": [
    "from pytorch_lightning.callbacks import LearningRateMonitor, ModelCheckpoint, DeviceStatsMonitor, TQDMProgressBar,EarlyStopping\n",
    "from pytorch_lightning.loggers import TensorBoardLogger\n",
    "from pytorch_lightning.tuner import Tuner\n",
    "from config import *\n",
    "from data import data_utils\n",
    "from data.dataset import ASL_DATASET\n",
    "from dl_utils import get_dataloader"
   ]
  },
  {
   "cell_type": "code",
   "execution_count": 14,
   "id": "a6bb36ca-137a-4ce6-b9e8-e6fee4a95df7",
   "metadata": {
    "tags": []
   },
   "outputs": [],
   "source": [
    "from src.models.models import LSTM_BASELINE_Model, LSTM_Predictor, TransformerPredictor"
   ]
  },
  {
   "cell_type": "code",
   "execution_count": 15,
   "id": "f80cbd25-600d-4ae7-89a6-75857ef0eca4",
   "metadata": {
    "tags": []
   },
   "outputs": [
    {
     "data": {
      "text/plain": [
       "'mps'"
      ]
     },
     "execution_count": 15,
     "metadata": {},
     "output_type": "execute_result"
    }
   ],
   "source": [
    "DEVICE"
   ]
  },
  {
   "cell_type": "code",
   "execution_count": 16,
   "id": "9d63d35a-8a08-4cf1-a0d2-aa8c340c5805",
   "metadata": {
    "tags": []
   },
   "outputs": [],
   "source": [
    "class MyProgressBar(TQDMProgressBar):\n",
    "    def init_validation_tqdm(self):\n",
    "        bar = super().init_validation_tqdm()\n",
    "        if not sys.stdout.isatty():\n",
    "            bar.disable = True\n",
    "        return bar\n",
    "\n",
    "    def init_predict_tqdm(self):\n",
    "        bar = super().init_predict_tqdm()\n",
    "        if not sys.stdout.isatty():\n",
    "            bar.disable = True\n",
    "        return bar\n",
    "\n",
    "    def init_test_tqdm(self):\n",
    "        bar = super().init_test_tqdm()\n",
    "        if not sys.stdout.isatty():\n",
    "            bar.disable = True\n",
    "        return bar"
   ]
  },
  {
   "cell_type": "code",
   "execution_count": 17,
   "id": "8eef3a8b-5e23-4f85-a3a1-c86f28c9bfe4",
   "metadata": {
    "tags": []
   },
   "outputs": [],
   "source": [
    "# MAX_SEQUENCES = 150\n",
    "BATCH_SIZE = 256  # Not optimal as not a perfect power of 2, but maximum that fits in my GPU\n",
    "num_workers = 4 #os.cpu_count() // 2  # or 0\n",
    "mod_name = \"FIRST_TRANSFORMER_MODEL_2\"\n",
    "DL_FRAMEWORK = \"PYTORCH\""
   ]
  },
  {
   "cell_type": "code",
   "execution_count": 18,
   "id": "abdd594c-96de-4a77-a156-4d4913b1051e",
   "metadata": {
    "tags": []
   },
   "outputs": [],
   "source": [
    "asl_dataset = ASL_DATASET(augment=True, augmentation_threshold=0.3)"
   ]
  },
  {
   "cell_type": "code",
   "execution_count": 19,
   "id": "e3b06724-62f3-4263-922c-3ed7d3297d0e",
   "metadata": {
    "tags": []
   },
   "outputs": [],
   "source": [
    "train_ds, val_ds, test_ds = data_utils.create_data_loaders(asl_dataset,\n",
    "                                                               batch_size=BATCH_SIZE,\n",
    "                                                               dl_framework=DL_FRAMEWORK,\n",
    "                                                               num_workers=num_workers)"
   ]
  },
  {
   "cell_type": "code",
   "execution_count": 20,
   "id": "6bd03a7b-3190-4489-9800-b9c55b79714d",
   "metadata": {
    "tags": []
   },
   "outputs": [
    {
     "name": "stdout",
     "output_type": "stream",
     "text": [
      "Got the lengths for Train-Dataset: 468, 28, 56\n"
     ]
    }
   ],
   "source": [
    "print(f'Got the lengths for Train-Dataset: {len(train_ds)}, {len(val_ds)}, {len(test_ds)}')"
   ]
  },
  {
   "cell_type": "code",
   "execution_count": 21,
   "id": "c07c03d9-5c7d-4d3b-8b33-eb7a37ab7c0f",
   "metadata": {
    "tags": []
   },
   "outputs": [
    {
     "data": {
      "text/plain": [
       "torch.float32"
      ]
     },
     "execution_count": 21,
     "metadata": {},
     "output_type": "execute_result"
    }
   ],
   "source": [
    "batch = next(iter(train_ds))[0]\n",
    "batch.dtype"
   ]
  },
  {
   "cell_type": "code",
   "execution_count": 22,
   "id": "d5a74966-56a5-4692-924c-cb551d0d9b6d",
   "metadata": {},
   "outputs": [
    {
     "name": "stdout",
     "output_type": "stream",
     "text": [
      "TransformerPredictor(\n",
      "  (model): TransformerSequenceClassifier(\n",
      "    (transformer): TransformerEncoder(\n",
      "      (layers): ModuleList(\n",
      "        (0-2): 3 x TransformerEncoderLayer(\n",
      "          (self_attn): MultiheadAttention(\n",
      "            (out_proj): NonDynamicallyQuantizableLinear(in_features=192, out_features=192, bias=True)\n",
      "          )\n",
      "          (linear1): Linear(in_features=192, out_features=512, bias=True)\n",
      "          (dropout): Dropout(p=0.3, inplace=False)\n",
      "          (linear2): Linear(in_features=512, out_features=192, bias=True)\n",
      "          (norm1): LayerNorm((192,), eps=1e-06, elementwise_affine=True)\n",
      "          (norm2): LayerNorm((192,), eps=1e-06, elementwise_affine=True)\n",
      "          (dropout1): Dropout(p=0.3, inplace=False)\n",
      "          (dropout2): Dropout(p=0.3, inplace=False)\n",
      "        )\n",
      "      )\n",
      "      (norm): LayerNorm((192,), eps=1e-05, elementwise_affine=True)\n",
      "    )\n",
      "    (output_layer): Linear(in_features=192, out_features=250, bias=True)\n",
      "  )\n",
      "  (criterion): CrossEntropyLoss()\n",
      "  (accuracy): MulticlassAccuracy()\n",
      ")\n"
     ]
    }
   ],
   "source": [
    "model = TransformerPredictor(\n",
    "        d_model=192,\n",
    "        n_head=8,\n",
    "        dim_feedforward=512,\n",
    "        dropout=0.3,\n",
    "        layer_norm_eps=1e-6,\n",
    "        norm_first=False,\n",
    "        batch_first=True,\n",
    "        num_layers=3,\n",
    "        num_classes=250,\n",
    "        learning_rate = LEARNING_RATE\n",
    "    )\n",
    "model(batch)\n",
    "model = model.float().to(DEVICE)\n",
    "print(model)"
   ]
  },
  {
   "cell_type": "code",
   "execution_count": 23,
   "id": "2d47a7e4-ae65-4427-aa30-94dc76d1c071",
   "metadata": {
    "tags": []
   },
   "outputs": [],
   "source": [
    "checkpoint_callback = ModelCheckpoint(\n",
    "        filename=mod_name + \"-{epoch:02d}-{val_accuracy:.2f}\",\n",
    "        save_top_k=1,\n",
    "        monitor=\"val_accuracy\",\n",
    "        verbose=True,\n",
    "        mode=\"max\"\n",
    "    )"
   ]
  },
  {
   "cell_type": "code",
   "execution_count": 24,
   "id": "17dcbb30-7cbb-43a7-bca3-360ca3dc16ff",
   "metadata": {
    "tags": []
   },
   "outputs": [],
   "source": [
    "tb_logger = TensorBoardLogger(\n",
    "        save_dir=os.path.join(ROOT_PATH, \"lightning_logs\"),\n",
    "        name=mod_name,\n",
    "        # version=mod_name\n",
    "    )"
   ]
  },
  {
   "cell_type": "code",
   "execution_count": 25,
   "id": "1caef819-256d-43c9-b8b9-bca132355969",
   "metadata": {
    "tags": []
   },
   "outputs": [],
   "source": [
    "early_stop_callback = EarlyStopping(\n",
    "        monitor='val_accuracy',\n",
    "        min_delta=0.005,\n",
    "        patience=6,\n",
    "        verbose=True,\n",
    "        mode='max'\n",
    "    )"
   ]
  },
  {
   "cell_type": "code",
   "execution_count": 26,
   "id": "b1b60cf0-52ba-4ead-8040-ec575b18717b",
   "metadata": {
    "tags": []
   },
   "outputs": [],
   "source": [
    "lr_monitor = LearningRateMonitor(logging_interval='step')"
   ]
  },
  {
   "cell_type": "code",
   "execution_count": 27,
   "id": "383b82a7-ee6e-479d-a262-b18500cae7bd",
   "metadata": {
    "tags": []
   },
   "outputs": [
    {
     "name": "stderr",
     "output_type": "stream",
     "text": [
      "GPU available: True (mps), used: True\n",
      "TPU available: False, using: 0 TPU cores\n",
      "IPU available: False, using: 0 IPUs\n",
      "HPU available: False, using: 0 HPUs\n"
     ]
    }
   ],
   "source": [
    "trainer = pl.Trainer(\n",
    "        enable_progress_bar=True,\n",
    "        accelerator=\"gpu\",\n",
    "        logger=tb_logger,\n",
    "        callbacks=[\n",
    "            DeviceStatsMonitor(),\n",
    "            early_stop_callback,\n",
    "           checkpoint_callback,\n",
    "           MyProgressBar(),\n",
    "            lr_monitor\n",
    "        ],\n",
    "        max_epochs=100,\n",
    "       # limit_train_batches=10,\n",
    "        # limit_val_batches=0,\n",
    "        num_sanity_val_steps=0,\n",
    "        profiler=None,  # select from None\n",
    "    )"
   ]
  },
  {
   "cell_type": "code",
   "execution_count": 28,
   "id": "26e88c50-bc99-4424-bcd8-67d3179cdf44",
   "metadata": {
    "tags": []
   },
   "outputs": [
    {
     "name": "stderr",
     "output_type": "stream",
     "text": [
      "\n",
      "  | Name      | Type                          | Params\n",
      "------------------------------------------------------------\n",
      "0 | model     | TransformerSequenceClassifier | 1.1 M \n",
      "1 | criterion | CrossEntropyLoss              | 0     \n",
      "2 | accuracy  | MulticlassAccuracy            | 0     \n",
      "------------------------------------------------------------\n",
      "1.1 M     Trainable params\n",
      "0         Non-trainable params\n",
      "1.1 M     Total params\n",
      "4.350     Total estimated model params size (MB)\n"
     ]
    },
    {
     "data": {
      "application/vnd.jupyter.widget-view+json": {
       "model_id": "1431e63fd4704c23a5dbc6ccfdea92a3",
       "version_major": 2,
       "version_minor": 0
      },
      "text/plain": [
       "Training: 0it [00:00, ?it/s]"
      ]
     },
     "metadata": {},
     "output_type": "display_data"
    },
    {
     "data": {
      "application/vnd.jupyter.widget-view+json": {
       "model_id": "66ca61bea31e4e6987e6d2a5a48a6211",
       "version_major": 2,
       "version_minor": 0
      },
      "text/plain": [
       "Validation: 0it [00:00, ?it/s]"
      ]
     },
     "metadata": {},
     "output_type": "display_data"
    },
    {
     "name": "stderr",
     "output_type": "stream",
     "text": [
      "Metric val_accuracy improved. New best score: 0.035\n",
      "Epoch 0, global step 468: 'val_accuracy' reached 0.03464 (best 0.03464), saving model to '/Users/tgdimas1/git/CAS-AML-FINAL-PROJECT/notebooks/../src/../lightning_logs/FIRST_TRANSFORMER_MODEL_2/version_8/checkpoints/FIRST_TRANSFORMER_MODEL_2-epoch=00-val_accuracy=0.03.ckpt' as top 1\n"
     ]
    },
    {
     "name": "stdout",
     "output_type": "stream",
     "text": [
      "EPOCH 0, Validation Accuracy: 0.034826502203941345\n",
      " \n",
      "EPOCH 0: Train accuracy: 0.016549669206142426\n",
      "****************************************************************************************************\n"
     ]
    },
    {
     "data": {
      "application/vnd.jupyter.widget-view+json": {
       "model_id": "debf2a6d65a04efb9578279b9fcdbcf4",
       "version_major": 2,
       "version_minor": 0
      },
      "text/plain": [
       "Validation: 0it [00:00, ?it/s]"
      ]
     },
     "metadata": {},
     "output_type": "display_data"
    },
    {
     "name": "stderr",
     "output_type": "stream",
     "text": [
      "Metric val_accuracy improved by 0.122 >= min_delta = 0.005. New best score: 0.157\n",
      "Epoch 1, global step 936: 'val_accuracy' reached 0.15673 (best 0.15673), saving model to '/Users/tgdimas1/git/CAS-AML-FINAL-PROJECT/notebooks/../src/../lightning_logs/FIRST_TRANSFORMER_MODEL_2/version_8/checkpoints/FIRST_TRANSFORMER_MODEL_2-epoch=01-val_accuracy=0.16.ckpt' as top 1\n"
     ]
    },
    {
     "name": "stdout",
     "output_type": "stream",
     "text": [
      "EPOCH 1, Validation Accuracy: 0.15663893520832062\n",
      " \n",
      "EPOCH 1: Train accuracy: 0.09451935440301895\n",
      "****************************************************************************************************\n"
     ]
    },
    {
     "data": {
      "application/vnd.jupyter.widget-view+json": {
       "model_id": "a98f86106701448e840439adc529ed2b",
       "version_major": 2,
       "version_minor": 0
      },
      "text/plain": [
       "Validation: 0it [00:00, ?it/s]"
      ]
     },
     "metadata": {},
     "output_type": "display_data"
    },
    {
     "name": "stderr",
     "output_type": "stream",
     "text": [
      "Metric val_accuracy improved by 0.135 >= min_delta = 0.005. New best score: 0.292\n",
      "Epoch 2, global step 1404: 'val_accuracy' reached 0.29160 (best 0.29160), saving model to '/Users/tgdimas1/git/CAS-AML-FINAL-PROJECT/notebooks/../src/../lightning_logs/FIRST_TRANSFORMER_MODEL_2/version_8/checkpoints/FIRST_TRANSFORMER_MODEL_2-epoch=02-val_accuracy=0.29.ckpt' as top 1\n"
     ]
    },
    {
     "name": "stdout",
     "output_type": "stream",
     "text": [
      "EPOCH 2, Validation Accuracy: 0.2936282753944397\n",
      " \n",
      "EPOCH 2: Train accuracy: 0.21381966769695282\n",
      "****************************************************************************************************\n"
     ]
    },
    {
     "data": {
      "application/vnd.jupyter.widget-view+json": {
       "model_id": "410ce427bf554eb1846fc8fe4ce204ff",
       "version_major": 2,
       "version_minor": 0
      },
      "text/plain": [
       "Validation: 0it [00:00, ?it/s]"
      ]
     },
     "metadata": {},
     "output_type": "display_data"
    },
    {
     "name": "stderr",
     "output_type": "stream",
     "text": [
      "Metric val_accuracy improved by 0.089 >= min_delta = 0.005. New best score: 0.381\n",
      "Epoch 3, global step 1872: 'val_accuracy' reached 0.38075 (best 0.38075), saving model to '/Users/tgdimas1/git/CAS-AML-FINAL-PROJECT/notebooks/../src/../lightning_logs/FIRST_TRANSFORMER_MODEL_2/version_8/checkpoints/FIRST_TRANSFORMER_MODEL_2-epoch=03-val_accuracy=0.38.ckpt' as top 1\n"
     ]
    },
    {
     "name": "stdout",
     "output_type": "stream",
     "text": [
      "EPOCH 3, Validation Accuracy: 0.38333672285079956\n",
      " \n",
      "EPOCH 3: Train accuracy: 0.334629625082016\n",
      "****************************************************************************************************\n"
     ]
    },
    {
     "data": {
      "application/vnd.jupyter.widget-view+json": {
       "model_id": "e653e5269d9d439b8123a7cc8c3fbc31",
       "version_major": 2,
       "version_minor": 0
      },
      "text/plain": [
       "Validation: 0it [00:00, ?it/s]"
      ]
     },
     "metadata": {},
     "output_type": "display_data"
    },
    {
     "name": "stderr",
     "output_type": "stream",
     "text": [
      "Metric val_accuracy improved by 0.108 >= min_delta = 0.005. New best score: 0.489\n",
      "Epoch 4, global step 2340: 'val_accuracy' reached 0.48864 (best 0.48864), saving model to '/Users/tgdimas1/git/CAS-AML-FINAL-PROJECT/notebooks/../src/../lightning_logs/FIRST_TRANSFORMER_MODEL_2/version_8/checkpoints/FIRST_TRANSFORMER_MODEL_2-epoch=04-val_accuracy=0.49.ckpt' as top 1\n"
     ]
    },
    {
     "name": "stdout",
     "output_type": "stream",
     "text": [
      "EPOCH 4, Validation Accuracy: 0.4883151054382324\n",
      " \n",
      "EPOCH 4: Train accuracy: 0.43657970428466797\n",
      "****************************************************************************************************\n"
     ]
    },
    {
     "data": {
      "application/vnd.jupyter.widget-view+json": {
       "model_id": "af23a96a71314ae58a00ed3ed3123497",
       "version_major": 2,
       "version_minor": 0
      },
      "text/plain": [
       "Validation: 0it [00:00, ?it/s]"
      ]
     },
     "metadata": {},
     "output_type": "display_data"
    },
    {
     "name": "stderr",
     "output_type": "stream",
     "text": [
      "Metric val_accuracy improved by 0.062 >= min_delta = 0.005. New best score: 0.551\n",
      "Epoch 5, global step 2808: 'val_accuracy' reached 0.55054 (best 0.55054), saving model to '/Users/tgdimas1/git/CAS-AML-FINAL-PROJECT/notebooks/../src/../lightning_logs/FIRST_TRANSFORMER_MODEL_2/version_8/checkpoints/FIRST_TRANSFORMER_MODEL_2-epoch=05-val_accuracy=0.55.ckpt' as top 1\n"
     ]
    },
    {
     "name": "stdout",
     "output_type": "stream",
     "text": [
      "EPOCH 5, Validation Accuracy: 0.5514999628067017\n",
      " \n",
      "EPOCH 5: Train accuracy: 0.5170468688011169\n",
      "****************************************************************************************************\n"
     ]
    },
    {
     "data": {
      "application/vnd.jupyter.widget-view+json": {
       "model_id": "6befe6720f5d40ce8c7faa176de1cc91",
       "version_major": 2,
       "version_minor": 0
      },
      "text/plain": [
       "Validation: 0it [00:00, ?it/s]"
      ]
     },
     "metadata": {},
     "output_type": "display_data"
    },
    {
     "name": "stderr",
     "output_type": "stream",
     "text": [
      "Metric val_accuracy improved by 0.020 >= min_delta = 0.005. New best score: 0.571\n",
      "Epoch 6, global step 3276: 'val_accuracy' reached 0.57070 (best 0.57070), saving model to '/Users/tgdimas1/git/CAS-AML-FINAL-PROJECT/notebooks/../src/../lightning_logs/FIRST_TRANSFORMER_MODEL_2/version_8/checkpoints/FIRST_TRANSFORMER_MODEL_2-epoch=06-val_accuracy=0.57.ckpt' as top 1\n"
     ]
    },
    {
     "name": "stdout",
     "output_type": "stream",
     "text": [
      "EPOCH 6, Validation Accuracy: 0.572882890701294\n",
      " \n",
      "EPOCH 6: Train accuracy: 0.5743610858917236\n",
      "****************************************************************************************************\n"
     ]
    },
    {
     "data": {
      "application/vnd.jupyter.widget-view+json": {
       "model_id": "f8dce2765ea2474cb27151de7d9b360c",
       "version_major": 2,
       "version_minor": 0
      },
      "text/plain": [
       "Validation: 0it [00:00, ?it/s]"
      ]
     },
     "metadata": {},
     "output_type": "display_data"
    },
    {
     "name": "stderr",
     "output_type": "stream",
     "text": [
      "Metric val_accuracy improved by 0.034 >= min_delta = 0.005. New best score: 0.605\n",
      "Epoch 7, global step 3744: 'val_accuracy' reached 0.60505 (best 0.60505), saving model to '/Users/tgdimas1/git/CAS-AML-FINAL-PROJECT/notebooks/../src/../lightning_logs/FIRST_TRANSFORMER_MODEL_2/version_8/checkpoints/FIRST_TRANSFORMER_MODEL_2-epoch=07-val_accuracy=0.61.ckpt' as top 1\n"
     ]
    },
    {
     "name": "stdout",
     "output_type": "stream",
     "text": [
      "EPOCH 7, Validation Accuracy: 0.6061198711395264\n",
      " \n",
      "EPOCH 7: Train accuracy: 0.621048092842102\n",
      "****************************************************************************************************\n"
     ]
    },
    {
     "data": {
      "application/vnd.jupyter.widget-view+json": {
       "model_id": "4e6a7ff73c984f11833162057ca21b6e",
       "version_major": 2,
       "version_minor": 0
      },
      "text/plain": [
       "Validation: 0it [00:00, ?it/s]"
      ]
     },
     "metadata": {},
     "output_type": "display_data"
    },
    {
     "name": "stderr",
     "output_type": "stream",
     "text": [
      "Metric val_accuracy improved by 0.035 >= min_delta = 0.005. New best score: 0.640\n",
      "Epoch 8, global step 4212: 'val_accuracy' reached 0.63998 (best 0.63998), saving model to '/Users/tgdimas1/git/CAS-AML-FINAL-PROJECT/notebooks/../src/../lightning_logs/FIRST_TRANSFORMER_MODEL_2/version_8/checkpoints/FIRST_TRANSFORMER_MODEL_2-epoch=08-val_accuracy=0.64.ckpt' as top 1\n"
     ]
    },
    {
     "name": "stdout",
     "output_type": "stream",
     "text": [
      "EPOCH 8, Validation Accuracy: 0.6409632563591003\n",
      " \n",
      "EPOCH 8: Train accuracy: 0.656510591506958\n",
      "****************************************************************************************************\n"
     ]
    },
    {
     "data": {
      "application/vnd.jupyter.widget-view+json": {
       "model_id": "89b0459674e14dc99ebfd23c7f81ebb5",
       "version_major": 2,
       "version_minor": 0
      },
      "text/plain": [
       "Validation: 0it [00:00, ?it/s]"
      ]
     },
     "metadata": {},
     "output_type": "display_data"
    },
    {
     "name": "stderr",
     "output_type": "stream",
     "text": [
      "Metric val_accuracy improved by 0.014 >= min_delta = 0.005. New best score: 0.654\n",
      "Epoch 9, global step 4680: 'val_accuracy' reached 0.65417 (best 0.65417), saving model to '/Users/tgdimas1/git/CAS-AML-FINAL-PROJECT/notebooks/../src/../lightning_logs/FIRST_TRANSFORMER_MODEL_2/version_8/checkpoints/FIRST_TRANSFORMER_MODEL_2-epoch=09-val_accuracy=0.65.ckpt' as top 1\n"
     ]
    },
    {
     "name": "stdout",
     "output_type": "stream",
     "text": [
      "EPOCH 9, Validation Accuracy: 0.6551761627197266\n",
      " \n",
      "EPOCH 9: Train accuracy: 0.6831437945365906\n",
      "****************************************************************************************************\n"
     ]
    },
    {
     "data": {
      "application/vnd.jupyter.widget-view+json": {
       "model_id": "6d78cd389a68442082762286d752543e",
       "version_major": 2,
       "version_minor": 0
      },
      "text/plain": [
       "Validation: 0it [00:00, ?it/s]"
      ]
     },
     "metadata": {},
     "output_type": "display_data"
    },
    {
     "name": "stderr",
     "output_type": "stream",
     "text": [
      "Metric val_accuracy improved by 0.028 >= min_delta = 0.005. New best score: 0.683\n",
      "Epoch 10, global step 5148: 'val_accuracy' reached 0.68257 (best 0.68257), saving model to '/Users/tgdimas1/git/CAS-AML-FINAL-PROJECT/notebooks/../src/../lightning_logs/FIRST_TRANSFORMER_MODEL_2/version_8/checkpoints/FIRST_TRANSFORMER_MODEL_2-epoch=10-val_accuracy=0.68.ckpt' as top 1\n"
     ]
    },
    {
     "name": "stdout",
     "output_type": "stream",
     "text": [
      "EPOCH 10, Validation Accuracy: 0.6836022138595581\n",
      " \n",
      "EPOCH 10: Train accuracy: 0.7049322724342346\n",
      "****************************************************************************************************\n"
     ]
    },
    {
     "data": {
      "application/vnd.jupyter.widget-view+json": {
       "model_id": "344a5f92a9e04fdb96f514af62ec7535",
       "version_major": 2,
       "version_minor": 0
      },
      "text/plain": [
       "Validation: 0it [00:00, ?it/s]"
      ]
     },
     "metadata": {},
     "output_type": "display_data"
    },
    {
     "name": "stderr",
     "output_type": "stream",
     "text": [
      "Metric val_accuracy improved by 0.016 >= min_delta = 0.005. New best score: 0.699\n",
      "Epoch 11, global step 5616: 'val_accuracy' reached 0.69903 (best 0.69903), saving model to '/Users/tgdimas1/git/CAS-AML-FINAL-PROJECT/notebooks/../src/../lightning_logs/FIRST_TRANSFORMER_MODEL_2/version_8/checkpoints/FIRST_TRANSFORMER_MODEL_2-epoch=11-val_accuracy=0.70.ckpt' as top 1\n"
     ]
    },
    {
     "name": "stdout",
     "output_type": "stream",
     "text": [
      "EPOCH 11, Validation Accuracy: 0.7010958194732666\n",
      " \n",
      "EPOCH 11: Train accuracy: 0.725311279296875\n",
      "****************************************************************************************************\n"
     ]
    },
    {
     "data": {
      "application/vnd.jupyter.widget-view+json": {
       "model_id": "62f7ebe4725742858f632386b3a271f8",
       "version_major": 2,
       "version_minor": 0
      },
      "text/plain": [
       "Validation: 0it [00:00, ?it/s]"
      ]
     },
     "metadata": {},
     "output_type": "display_data"
    },
    {
     "name": "stderr",
     "output_type": "stream",
     "text": [
      "Epoch 12, global step 6084: 'val_accuracy' was not in top 1\n"
     ]
    },
    {
     "name": "stdout",
     "output_type": "stream",
     "text": [
      "EPOCH 12, Validation Accuracy: 0.6947798132896423\n",
      " \n",
      "EPOCH 12: Train accuracy: 0.7438212633132935\n",
      "****************************************************************************************************\n"
     ]
    },
    {
     "data": {
      "application/vnd.jupyter.widget-view+json": {
       "model_id": "ff3773aed9b14d2f8652232b2ff9f58f",
       "version_major": 2,
       "version_minor": 0
      },
      "text/plain": [
       "Validation: 0it [00:00, ?it/s]"
      ]
     },
     "metadata": {},
     "output_type": "display_data"
    },
    {
     "name": "stderr",
     "output_type": "stream",
     "text": [
      "Metric val_accuracy improved by 0.012 >= min_delta = 0.005. New best score: 0.711\n",
      "Epoch 13, global step 6552: 'val_accuracy' reached 0.71068 (best 0.71068), saving model to '/Users/tgdimas1/git/CAS-AML-FINAL-PROJECT/notebooks/../src/../lightning_logs/FIRST_TRANSFORMER_MODEL_2/version_8/checkpoints/FIRST_TRANSFORMER_MODEL_2-epoch=13-val_accuracy=0.71.ckpt' as top 1\n"
     ]
    },
    {
     "name": "stdout",
     "output_type": "stream",
     "text": [
      "EPOCH 13, Validation Accuracy: 0.711749255657196\n",
      " \n",
      "EPOCH 13: Train accuracy: 0.7608405351638794\n",
      "****************************************************************************************************\n"
     ]
    },
    {
     "data": {
      "application/vnd.jupyter.widget-view+json": {
       "model_id": "3734c8271b8c4cf7bd9276bf2ce8ffe7",
       "version_major": 2,
       "version_minor": 0
      },
      "text/plain": [
       "Validation: 0it [00:00, ?it/s]"
      ]
     },
     "metadata": {},
     "output_type": "display_data"
    },
    {
     "name": "stderr",
     "output_type": "stream",
     "text": [
      "Metric val_accuracy improved by 0.016 >= min_delta = 0.005. New best score: 0.727\n",
      "Epoch 14, global step 7020: 'val_accuracy' reached 0.72686 (best 0.72686), saving model to '/Users/tgdimas1/git/CAS-AML-FINAL-PROJECT/notebooks/../src/../lightning_logs/FIRST_TRANSFORMER_MODEL_2/version_8/checkpoints/FIRST_TRANSFORMER_MODEL_2-epoch=14-val_accuracy=0.73.ckpt' as top 1\n"
     ]
    },
    {
     "name": "stdout",
     "output_type": "stream",
     "text": [
      "EPOCH 14, Validation Accuracy: 0.7279154062271118\n",
      " \n",
      "EPOCH 14: Train accuracy: 0.773835301399231\n",
      "****************************************************************************************************\n"
     ]
    },
    {
     "data": {
      "application/vnd.jupyter.widget-view+json": {
       "model_id": "f8b0a43600d74911a34d6a209251b734",
       "version_major": 2,
       "version_minor": 0
      },
      "text/plain": [
       "Validation: 0it [00:00, ?it/s]"
      ]
     },
     "metadata": {},
     "output_type": "display_data"
    },
    {
     "name": "stderr",
     "output_type": "stream",
     "text": [
      "Epoch 15, global step 7488: 'val_accuracy' reached 0.72856 (best 0.72856), saving model to '/Users/tgdimas1/git/CAS-AML-FINAL-PROJECT/notebooks/../src/../lightning_logs/FIRST_TRANSFORMER_MODEL_2/version_8/checkpoints/FIRST_TRANSFORMER_MODEL_2-epoch=15-val_accuracy=0.73.ckpt' as top 1\n"
     ]
    },
    {
     "name": "stdout",
     "output_type": "stream",
     "text": [
      "EPOCH 15, Validation Accuracy: 0.7290652394294739\n",
      " \n",
      "EPOCH 15: Train accuracy: 0.7840132117271423\n",
      "****************************************************************************************************\n"
     ]
    },
    {
     "data": {
      "application/vnd.jupyter.widget-view+json": {
       "model_id": "d1babbe915f14e3a87a3b35b4cf4ed4b",
       "version_major": 2,
       "version_minor": 0
      },
      "text/plain": [
       "Validation: 0it [00:00, ?it/s]"
      ]
     },
     "metadata": {},
     "output_type": "display_data"
    },
    {
     "name": "stderr",
     "output_type": "stream",
     "text": [
      "Metric val_accuracy improved by 0.006 >= min_delta = 0.005. New best score: 0.733\n",
      "Epoch 16, global step 7956: 'val_accuracy' reached 0.73282 (best 0.73282), saving model to '/Users/tgdimas1/git/CAS-AML-FINAL-PROJECT/notebooks/../src/../lightning_logs/FIRST_TRANSFORMER_MODEL_2/version_8/checkpoints/FIRST_TRANSFORMER_MODEL_2-epoch=16-val_accuracy=0.73.ckpt' as top 1\n"
     ]
    },
    {
     "name": "stdout",
     "output_type": "stream",
     "text": [
      "EPOCH 16, Validation Accuracy: 0.7340368032455444\n",
      " \n",
      "EPOCH 16: Train accuracy: 0.7953646779060364\n",
      "****************************************************************************************************\n"
     ]
    },
    {
     "data": {
      "application/vnd.jupyter.widget-view+json": {
       "model_id": "a193a56c927b403ba9cc215c617eab29",
       "version_major": 2,
       "version_minor": 0
      },
      "text/plain": [
       "Validation: 0it [00:00, ?it/s]"
      ]
     },
     "metadata": {},
     "output_type": "display_data"
    },
    {
     "name": "stderr",
     "output_type": "stream",
     "text": [
      "Epoch 17, global step 8424: 'val_accuracy' was not in top 1\n"
     ]
    },
    {
     "name": "stdout",
     "output_type": "stream",
     "text": [
      "EPOCH 17, Validation Accuracy: 0.7298685312271118\n",
      " \n",
      "EPOCH 17: Train accuracy: 0.8067269921302795\n",
      "****************************************************************************************************\n"
     ]
    },
    {
     "data": {
      "application/vnd.jupyter.widget-view+json": {
       "model_id": "3537b2e936454428b7988a49f4a86441",
       "version_major": 2,
       "version_minor": 0
      },
      "text/plain": [
       "Validation: 0it [00:00, ?it/s]"
      ]
     },
     "metadata": {},
     "output_type": "display_data"
    },
    {
     "name": "stderr",
     "output_type": "stream",
     "text": [
      "Metric val_accuracy improved by 0.014 >= min_delta = 0.005. New best score: 0.746\n",
      "Epoch 18, global step 8892: 'val_accuracy' reached 0.74645 (best 0.74645), saving model to '/Users/tgdimas1/git/CAS-AML-FINAL-PROJECT/notebooks/../src/../lightning_logs/FIRST_TRANSFORMER_MODEL_2/version_8/checkpoints/FIRST_TRANSFORMER_MODEL_2-epoch=18-val_accuracy=0.75.ckpt' as top 1\n"
     ]
    },
    {
     "name": "stdout",
     "output_type": "stream",
     "text": [
      "EPOCH 18, Validation Accuracy: 0.7474296689033508\n",
      " \n",
      "EPOCH 18: Train accuracy: 0.8151064515113831\n",
      "****************************************************************************************************\n"
     ]
    },
    {
     "data": {
      "application/vnd.jupyter.widget-view+json": {
       "model_id": "293a1f79adbd42c5822eed2b957b1909",
       "version_major": 2,
       "version_minor": 0
      },
      "text/plain": [
       "Validation: 0it [00:00, ?it/s]"
      ]
     },
     "metadata": {},
     "output_type": "display_data"
    },
    {
     "name": "stderr",
     "output_type": "stream",
     "text": [
      "Epoch 19, global step 9360: 'val_accuracy' was not in top 1\n"
     ]
    },
    {
     "name": "stdout",
     "output_type": "stream",
     "text": [
      "EPOCH 19, Validation Accuracy: 0.7427033185958862\n",
      " \n",
      "EPOCH 19: Train accuracy: 0.8251281976699829\n",
      "****************************************************************************************************\n"
     ]
    },
    {
     "data": {
      "application/vnd.jupyter.widget-view+json": {
       "model_id": "74e6387edd5c4cfcafa6ec08f5381dbd",
       "version_major": 2,
       "version_minor": 0
      },
      "text/plain": [
       "Validation: 0it [00:00, ?it/s]"
      ]
     },
     "metadata": {},
     "output_type": "display_data"
    },
    {
     "name": "stderr",
     "output_type": "stream",
     "text": [
      "Epoch 20, global step 9828: 'val_accuracy' reached 0.74673 (best 0.74673), saving model to '/Users/tgdimas1/git/CAS-AML-FINAL-PROJECT/notebooks/../src/../lightning_logs/FIRST_TRANSFORMER_MODEL_2/version_8/checkpoints/FIRST_TRANSFORMER_MODEL_2-epoch=20-val_accuracy=0.75.ckpt' as top 1\n"
     ]
    },
    {
     "name": "stdout",
     "output_type": "stream",
     "text": [
      "EPOCH 20, Validation Accuracy: 0.7484949827194214\n",
      " \n",
      "EPOCH 20: Train accuracy: 0.8310579657554626\n",
      "****************************************************************************************************\n"
     ]
    },
    {
     "data": {
      "application/vnd.jupyter.widget-view+json": {
       "model_id": "a60994d8620d4e20a8eb8494b1fafffb",
       "version_major": 2,
       "version_minor": 0
      },
      "text/plain": [
       "Validation: 0it [00:00, ?it/s]"
      ]
     },
     "metadata": {},
     "output_type": "display_data"
    },
    {
     "name": "stderr",
     "output_type": "stream",
     "text": [
      "Metric val_accuracy improved by 0.008 >= min_delta = 0.005. New best score: 0.754\n",
      "Epoch 21, global step 10296: 'val_accuracy' reached 0.75440 (best 0.75440), saving model to '/Users/tgdimas1/git/CAS-AML-FINAL-PROJECT/notebooks/../src/../lightning_logs/FIRST_TRANSFORMER_MODEL_2/version_8/checkpoints/FIRST_TRANSFORMER_MODEL_2-epoch=21-val_accuracy=0.75.ckpt' as top 1\n"
     ]
    },
    {
     "name": "stdout",
     "output_type": "stream",
     "text": [
      "EPOCH 21, Validation Accuracy: 0.7560284733772278\n",
      " \n",
      "EPOCH 21: Train accuracy: 0.8373644351959229\n",
      "****************************************************************************************************\n"
     ]
    },
    {
     "data": {
      "application/vnd.jupyter.widget-view+json": {
       "model_id": "27b8c466458e4bbdaa6a50a6fa0dea1b",
       "version_major": 2,
       "version_minor": 0
      },
      "text/plain": [
       "Validation: 0it [00:00, ?it/s]"
      ]
     },
     "metadata": {},
     "output_type": "display_data"
    },
    {
     "name": "stderr",
     "output_type": "stream",
     "text": [
      "Epoch 22, global step 10764: 'val_accuracy' reached 0.75610 (best 0.75610), saving model to '/Users/tgdimas1/git/CAS-AML-FINAL-PROJECT/notebooks/../src/../lightning_logs/FIRST_TRANSFORMER_MODEL_2/version_8/checkpoints/FIRST_TRANSFORMER_MODEL_2-epoch=22-val_accuracy=0.76.ckpt' as top 1\n"
     ]
    },
    {
     "name": "stdout",
     "output_type": "stream",
     "text": [
      "EPOCH 22, Validation Accuracy: 0.7566542029380798\n",
      " \n",
      "EPOCH 22: Train accuracy: 0.8438284397125244\n",
      "****************************************************************************************************\n"
     ]
    },
    {
     "data": {
      "application/vnd.jupyter.widget-view+json": {
       "model_id": "6db3655f60e64f1b8c3b369dea462bf7",
       "version_major": 2,
       "version_minor": 0
      },
      "text/plain": [
       "Validation: 0it [00:00, ?it/s]"
      ]
     },
     "metadata": {},
     "output_type": "display_data"
    },
    {
     "name": "stderr",
     "output_type": "stream",
     "text": [
      "Epoch 23, global step 11232: 'val_accuracy' reached 0.75781 (best 0.75781), saving model to '/Users/tgdimas1/git/CAS-AML-FINAL-PROJECT/notebooks/../src/../lightning_logs/FIRST_TRANSFORMER_MODEL_2/version_8/checkpoints/FIRST_TRANSFORMER_MODEL_2-epoch=23-val_accuracy=0.76.ckpt' as top 1\n"
     ]
    },
    {
     "name": "stdout",
     "output_type": "stream",
     "text": [
      "EPOCH 23, Validation Accuracy: 0.7583283185958862\n",
      " \n",
      "EPOCH 23: Train accuracy: 0.8490179181098938\n",
      "****************************************************************************************************\n"
     ]
    },
    {
     "data": {
      "application/vnd.jupyter.widget-view+json": {
       "model_id": "202339e113dc4930b69616db6964e554",
       "version_major": 2,
       "version_minor": 0
      },
      "text/plain": [
       "Validation: 0it [00:00, ?it/s]"
      ]
     },
     "metadata": {},
     "output_type": "display_data"
    },
    {
     "name": "stderr",
     "output_type": "stream",
     "text": [
      "Metric val_accuracy improved by 0.005 >= min_delta = 0.005. New best score: 0.760\n",
      "Epoch 24, global step 11700: 'val_accuracy' reached 0.75951 (best 0.75951), saving model to '/Users/tgdimas1/git/CAS-AML-FINAL-PROJECT/notebooks/../src/../lightning_logs/FIRST_TRANSFORMER_MODEL_2/version_8/checkpoints/FIRST_TRANSFORMER_MODEL_2-epoch=24-val_accuracy=0.76.ckpt' as top 1\n"
     ]
    },
    {
     "name": "stdout",
     "output_type": "stream",
     "text": [
      "EPOCH 24, Validation Accuracy: 0.7607886791229248\n",
      " \n",
      "EPOCH 24: Train accuracy: 0.8533704876899719\n",
      "****************************************************************************************************\n"
     ]
    },
    {
     "data": {
      "application/vnd.jupyter.widget-view+json": {
       "model_id": "f239f340f7ab49c888e7e19a98d496c3",
       "version_major": 2,
       "version_minor": 0
      },
      "text/plain": [
       "Validation: 0it [00:00, ?it/s]"
      ]
     },
     "metadata": {},
     "output_type": "display_data"
    },
    {
     "name": "stderr",
     "output_type": "stream",
     "text": [
      "Metric val_accuracy improved by 0.007 >= min_delta = 0.005. New best score: 0.766\n",
      "Epoch 25, global step 12168: 'val_accuracy' reached 0.76633 (best 0.76633), saving model to '/Users/tgdimas1/git/CAS-AML-FINAL-PROJECT/notebooks/../src/../lightning_logs/FIRST_TRANSFORMER_MODEL_2/version_8/checkpoints/FIRST_TRANSFORMER_MODEL_2-epoch=25-val_accuracy=0.77.ckpt' as top 1\n"
     ]
    },
    {
     "name": "stdout",
     "output_type": "stream",
     "text": [
      "EPOCH 25, Validation Accuracy: 0.7666988968849182\n",
      " \n",
      "EPOCH 25: Train accuracy: 0.8591304421424866\n",
      "****************************************************************************************************\n"
     ]
    },
    {
     "data": {
      "application/vnd.jupyter.widget-view+json": {
       "model_id": "f3f364126a3344fabdf246365a44eeec",
       "version_major": 2,
       "version_minor": 0
      },
      "text/plain": [
       "Validation: 0it [00:00, ?it/s]"
      ]
     },
     "metadata": {},
     "output_type": "display_data"
    },
    {
     "name": "stderr",
     "output_type": "stream",
     "text": [
      "Epoch 26, global step 12636: 'val_accuracy' was not in top 1\n"
     ]
    },
    {
     "name": "stdout",
     "output_type": "stream",
     "text": [
      "EPOCH 26, Validation Accuracy: 0.7649909257888794\n",
      " \n",
      "EPOCH 26: Train accuracy: 0.8624807000160217\n",
      "****************************************************************************************************\n"
     ]
    },
    {
     "data": {
      "application/vnd.jupyter.widget-view+json": {
       "model_id": "6df21cdfcfe94aa2b7cfa1a52ee1db2b",
       "version_major": 2,
       "version_minor": 0
      },
      "text/plain": [
       "Validation: 0it [00:00, ?it/s]"
      ]
     },
     "metadata": {},
     "output_type": "display_data"
    },
    {
     "name": "stderr",
     "output_type": "stream",
     "text": [
      "Epoch 27, global step 13104: 'val_accuracy' was not in top 1\n"
     ]
    },
    {
     "name": "stdout",
     "output_type": "stream",
     "text": [
      "EPOCH 27, Validation Accuracy: 0.7655996680259705\n",
      " \n",
      "EPOCH 27: Train accuracy: 0.8657236099243164\n",
      "****************************************************************************************************\n"
     ]
    },
    {
     "data": {
      "application/vnd.jupyter.widget-view+json": {
       "model_id": "d368a2e2d11849c0b0ea3372c56abbeb",
       "version_major": 2,
       "version_minor": 0
      },
      "text/plain": [
       "Validation: 0it [00:00, ?it/s]"
      ]
     },
     "metadata": {},
     "output_type": "display_data"
    },
    {
     "name": "stderr",
     "output_type": "stream",
     "text": [
      "Epoch 28, global step 13572: 'val_accuracy' reached 0.76917 (best 0.76917), saving model to '/Users/tgdimas1/git/CAS-AML-FINAL-PROJECT/notebooks/../src/../lightning_logs/FIRST_TRANSFORMER_MODEL_2/version_8/checkpoints/FIRST_TRANSFORMER_MODEL_2-epoch=28-val_accuracy=0.77.ckpt' as top 1\n"
     ]
    },
    {
     "name": "stdout",
     "output_type": "stream",
     "text": [
      "EPOCH 28, Validation Accuracy: 0.7692269086837769\n",
      " \n",
      "EPOCH 28: Train accuracy: 0.8691900372505188\n",
      "****************************************************************************************************\n"
     ]
    },
    {
     "data": {
      "application/vnd.jupyter.widget-view+json": {
       "model_id": "34e7f2a723b4471fa99dfa39f4d34ffe",
       "version_major": 2,
       "version_minor": 0
      },
      "text/plain": [
       "Validation: 0it [00:00, ?it/s]"
      ]
     },
     "metadata": {},
     "output_type": "display_data"
    },
    {
     "name": "stderr",
     "output_type": "stream",
     "text": [
      "Epoch 29, global step 14040: 'val_accuracy' was not in top 1\n"
     ]
    },
    {
     "name": "stdout",
     "output_type": "stream",
     "text": [
      "EPOCH 29, Validation Accuracy: 0.7702752947807312\n",
      " \n",
      "EPOCH 29: Train accuracy: 0.8723908066749573\n",
      "****************************************************************************************************\n"
     ]
    },
    {
     "data": {
      "application/vnd.jupyter.widget-view+json": {
       "model_id": "488a620c06b54e31a7681421cc9ae7c3",
       "version_major": 2,
       "version_minor": 0
      },
      "text/plain": [
       "Validation: 0it [00:00, ?it/s]"
      ]
     },
     "metadata": {},
     "output_type": "display_data"
    },
    {
     "name": "stderr",
     "output_type": "stream",
     "text": [
      "Epoch 30, global step 14508: 'val_accuracy' was not in top 1\n"
     ]
    },
    {
     "name": "stdout",
     "output_type": "stream",
     "text": [
      "EPOCH 30, Validation Accuracy: 0.76807701587677\n",
      " \n",
      "EPOCH 30: Train accuracy: 0.8756888508796692\n",
      "****************************************************************************************************\n"
     ]
    },
    {
     "data": {
      "application/vnd.jupyter.widget-view+json": {
       "model_id": "e7cff2b93a5843a384242bda68e65923",
       "version_major": 2,
       "version_minor": 0
      },
      "text/plain": [
       "Validation: 0it [00:00, ?it/s]"
      ]
     },
     "metadata": {},
     "output_type": "display_data"
    },
    {
     "name": "stderr",
     "output_type": "stream",
     "text": [
      "Monitored metric val_accuracy did not improve in the last 6 records. Best score: 0.766. Signaling Trainer to stop.\n",
      "Epoch 31, global step 14976: 'val_accuracy' was not in top 1\n"
     ]
    },
    {
     "name": "stdout",
     "output_type": "stream",
     "text": [
      "EPOCH 31, Validation Accuracy: 0.7689310312271118\n",
      " \n",
      "EPOCH 31: Train accuracy: 0.8786638379096985\n",
      "****************************************************************************************************\n"
     ]
    }
   ],
   "source": [
    "trainer.fit(\n",
    "        model=model,\n",
    "        train_dataloaders=train_ds,\n",
    "        val_dataloaders=val_ds,\n",
    "\n",
    "    )\n"
   ]
  },
  {
   "cell_type": "code",
   "execution_count": 29,
   "id": "86f25600-1c28-41a9-9f7d-b9052cccbf29",
   "metadata": {
    "tags": []
   },
   "outputs": [
    {
     "name": "stderr",
     "output_type": "stream",
     "text": [
      "Restoring states from the checkpoint path at /Users/tgdimas1/git/CAS-AML-FINAL-PROJECT/notebooks/../src/../lightning_logs/FIRST_TRANSFORMER_MODEL_2/version_8/checkpoints/FIRST_TRANSFORMER_MODEL_2-epoch=28-val_accuracy=0.77.ckpt\n",
      "Loaded model weights from the checkpoint at /Users/tgdimas1/git/CAS-AML-FINAL-PROJECT/notebooks/../src/../lightning_logs/FIRST_TRANSFORMER_MODEL_2/version_8/checkpoints/FIRST_TRANSFORMER_MODEL_2-epoch=28-val_accuracy=0.77.ckpt\n"
     ]
    },
    {
     "data": {
      "application/vnd.jupyter.widget-view+json": {
       "model_id": "3a115845e4644afea3e3a8dceab9c208",
       "version_major": 2,
       "version_minor": 0
      },
      "text/plain": [
       "Testing: 0it [00:00, ?it/s]"
      ]
     },
     "metadata": {},
     "output_type": "display_data"
    },
    {
     "data": {
      "text/html": [
       "<pre style=\"white-space:pre;overflow-x:auto;line-height:normal;font-family:Menlo,'DejaVu Sans Mono',consolas,'Courier New',monospace\">┏━━━━━━━━━━━━━━━━━━━━━━━━━━━┳━━━━━━━━━━━━━━━━━━━━━━━━━━━┓\n",
       "┃<span style=\"font-weight: bold\">        Test metric        </span>┃<span style=\"font-weight: bold\">       DataLoader 0        </span>┃\n",
       "┡━━━━━━━━━━━━━━━━━━━━━━━━━━━╇━━━━━━━━━━━━━━━━━━━━━━━━━━━┩\n",
       "│<span style=\"color: #008080; text-decoration-color: #008080\">       test_accuracy       </span>│<span style=\"color: #800080; text-decoration-color: #800080\">    0.7791028022766113     </span>│\n",
       "│<span style=\"color: #008080; text-decoration-color: #008080\">         test_loss         </span>│<span style=\"color: #800080; text-decoration-color: #800080\">    0.9785623550415039     </span>│\n",
       "└───────────────────────────┴───────────────────────────┘\n",
       "</pre>\n"
      ],
      "text/plain": [
       "┏━━━━━━━━━━━━━━━━━━━━━━━━━━━┳━━━━━━━━━━━━━━━━━━━━━━━━━━━┓\n",
       "┃\u001b[1m \u001b[0m\u001b[1m       Test metric       \u001b[0m\u001b[1m \u001b[0m┃\u001b[1m \u001b[0m\u001b[1m      DataLoader 0       \u001b[0m\u001b[1m \u001b[0m┃\n",
       "┡━━━━━━━━━━━━━━━━━━━━━━━━━━━╇━━━━━━━━━━━━━━━━━━━━━━━━━━━┩\n",
       "│\u001b[36m \u001b[0m\u001b[36m      test_accuracy      \u001b[0m\u001b[36m \u001b[0m│\u001b[35m \u001b[0m\u001b[35m   0.7791028022766113    \u001b[0m\u001b[35m \u001b[0m│\n",
       "│\u001b[36m \u001b[0m\u001b[36m        test_loss        \u001b[0m\u001b[36m \u001b[0m│\u001b[35m \u001b[0m\u001b[35m   0.9785623550415039    \u001b[0m\u001b[35m \u001b[0m│\n",
       "└───────────────────────────┴───────────────────────────┘\n"
      ]
     },
     "metadata": {},
     "output_type": "display_data"
    },
    {
     "data": {
      "text/plain": [
       "[{'test_loss': 0.9785623550415039, 'test_accuracy': 0.7791028022766113}]"
      ]
     },
     "execution_count": 29,
     "metadata": {},
     "output_type": "execute_result"
    }
   ],
   "source": [
    "trainer.test(ckpt_path=\"best\",\n",
    "                 dataloaders=test_ds\n",
    "                 )"
   ]
  },
  {
   "cell_type": "code",
   "execution_count": null,
   "id": "4002e62f-c57a-4d5e-b976-bdcb39f89fc2",
   "metadata": {},
   "outputs": [],
   "source": []
  }
 ],
 "metadata": {
  "kernelspec": {
   "display_name": "Python 3 (ipykernel)",
   "language": "python",
   "name": "python3"
  },
  "language_info": {
   "codemirror_mode": {
    "name": "ipython",
    "version": 3
   },
   "file_extension": ".py",
   "mimetype": "text/x-python",
   "name": "python",
   "nbconvert_exporter": "python",
   "pygments_lexer": "ipython3",
   "version": "3.10.11"
  }
 },
 "nbformat": 4,
 "nbformat_minor": 5
}
