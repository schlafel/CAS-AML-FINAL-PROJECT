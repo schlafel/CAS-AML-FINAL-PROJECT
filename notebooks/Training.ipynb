{
 "cells": [
  {
   "cell_type": "markdown",
   "id": "5934f69f-85c2-4ede-b1b2-5d5862596eb7",
   "metadata": {},
   "source": [
    "# Training"
   ]
  },
  {
   "cell_type": "code",
   "execution_count": 1,
   "id": "049fbbf8-8de2-4106-b634-7eb1f57e8213",
   "metadata": {},
   "outputs": [],
   "source": [
    "import sys\n",
    "import os\n",
    "sys.path.insert(0, '../src')"
   ]
  },
  {
   "cell_type": "code",
   "execution_count": 4,
   "id": "3612dfe5-c23a-4a6d-b0ae-b9d82a1e33f0",
   "metadata": {},
   "outputs": [],
   "source": [
    "from config import *\n",
    "from dataset import ASL_DATASET, label_dict_inference, label_dict\n",
    "from data_utils import create_data_loaders\n",
    "from models.models import *\n",
    "from training import *"
   ]
  },
  {
   "cell_type": "code",
   "execution_count": 5,
   "id": "4badcaf8-c74b-472c-8d00-fa9c93ba88ff",
   "metadata": {},
   "outputs": [],
   "source": [
    "import torch.nn as nn\n",
    "import torch.optim as optim"
   ]
  },
  {
   "cell_type": "code",
   "execution_count": null,
   "id": "f598cab8-afc2-4fb3-8c3f-96bc97cb92ea",
   "metadata": {},
   "outputs": [
    {
     "name": "stdout",
     "output_type": "stream",
     "text": [
      "Training started\n",
      "    Mode          : cpu\n",
      "    Model type    : <class 'models.models.ASLTransformerModel'>\n",
      "Epoch 1\n",
      " Epoch:  1  Batch:  50 / 468  loss: 5.7010  accuracy: 0.0039  Average batch time: 3.503 secs\n",
      " Epoch:  1  Batch: 100 / 468  loss: 5.6697  accuracy: 0.0043  Average batch time: 3.971 secs\n"
     ]
    }
   ],
   "source": [
    "asl_dataset = ASL_DATASET(augment=True)\n",
    "\n",
    "train_loader, valid_loader, test_loader = create_data_loaders(asl_dataset)\n",
    "\n",
    "from models.models import ASLTransformerModel\n",
    "\n",
    "model = ASLTransformerModel()\n",
    "\n",
    "criterion = nn.CrossEntropyLoss()\n",
    "optimizer = optim.Adam(model.parameters(), lr=0.001)\n",
    "\n",
    "train_model(model, train_loader, valid_loader, criterion, optimizer, scheduler=None, num_epochs=EPOCHS, save_freq=5, verbose=True)"
   ]
  },
  {
   "cell_type": "code",
   "execution_count": null,
   "id": "2d740f5a-e165-46bf-9833-51301ee8bf5f",
   "metadata": {},
   "outputs": [],
   "source": [
    "train_model(model, train_loader, valid_loader, criterion, optimizer, scheduler=None, num_epochs=EPOCHS, save_freq=5, verbose=True)"
   ]
  },
  {
   "cell_type": "code",
   "execution_count": null,
   "id": "4f0dea12-e960-40fb-943a-b5704d5e5820",
   "metadata": {},
   "outputs": [],
   "source": [
    "EPOCHS=50"
   ]
  },
  {
   "cell_type": "code",
   "execution_count": null,
   "id": "4a7f4c19-6765-4255-868a-8286ad4cb9ea",
   "metadata": {},
   "outputs": [],
   "source": [
    "train_model(model, train_loader, valid_loader, criterion, optimizer, scheduler=None, num_epochs=EPOCHS, save_freq=5, verbose=True)"
   ]
  },
  {
   "cell_type": "code",
   "execution_count": null,
   "id": "0cf03c3a-daa0-47bc-85b0-b555bceeb97b",
   "metadata": {},
   "outputs": [],
   "source": []
  }
 ],
 "metadata": {
  "kernelspec": {
   "display_name": "Python 3 (ipykernel)",
   "language": "python",
   "name": "python3"
  },
  "language_info": {
   "codemirror_mode": {
    "name": "ipython",
    "version": 3
   },
   "file_extension": ".py",
   "mimetype": "text/x-python",
   "name": "python",
   "nbconvert_exporter": "python",
   "pygments_lexer": "ipython3",
   "version": "3.9.16"
  }
 },
 "nbformat": 4,
 "nbformat_minor": 5
}
