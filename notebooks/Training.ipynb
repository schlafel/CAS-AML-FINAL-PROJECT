{
 "cells": [
  {
   "cell_type": "markdown",
   "id": "5934f69f-85c2-4ede-b1b2-5d5862596eb7",
   "metadata": {},
   "source": [
    "# Training"
   ]
  },
  {
   "cell_type": "code",
   "execution_count": 1,
   "id": "049fbbf8-8de2-4106-b634-7eb1f57e8213",
   "metadata": {},
   "outputs": [],
   "source": [
    "import sys\n",
    "import os\n",
    "sys.path.insert(0, '../src')"
   ]
  },
  {
   "cell_type": "code",
   "execution_count": 4,
   "id": "3612dfe5-c23a-4a6d-b0ae-b9d82a1e33f0",
   "metadata": {},
   "outputs": [],
   "source": [
    "from config import *\n",
    "from dataset import ASL_DATASET, label_dict_inference, label_dict\n",
    "from data_utils import create_data_loaders\n",
    "from models.models import *\n",
    "from training import *"
   ]
  },
  {
   "cell_type": "code",
   "execution_count": 5,
   "id": "4badcaf8-c74b-472c-8d00-fa9c93ba88ff",
   "metadata": {},
   "outputs": [],
   "source": [
    "import torch.nn as nn\n",
    "import torch.optim as optim"
   ]
  },
  {
   "cell_type": "code",
   "execution_count": null,
   "id": "f598cab8-afc2-4fb3-8c3f-96bc97cb92ea",
   "metadata": {},
   "outputs": [
    {
     "name": "stdout",
     "output_type": "stream",
     "text": [
      "Training started\n",
      "    Mode          : cpu\n",
      "    Model type    : <class 'models.models.ASLTransformerModel'>\n",
      "Epoch 1\n",
      " Epoch:  1  Batch:  50 / 468  loss: 5.7010  accuracy: 0.0039  Average batch time: 3.503 secs\n",
      " Epoch:  1  Batch: 100 / 468  loss: 5.6697  accuracy: 0.0043  Average batch time: 3.971 secs\n",
      " Epoch:  1  Batch: 150 / 468  loss: 5.6504  accuracy: 0.0050  Average batch time: 3.998 secs\n",
      " Epoch:  1  Batch: 200 / 468  loss: 5.6368  accuracy: 0.0052  Average batch time: 3.960 secs\n",
      " Epoch:  1  Batch: 250 / 468  loss: 5.6281  accuracy: 0.0052  Average batch time: 3.843 secs\n",
      " Epoch:  1  Batch: 300 / 468  loss: 5.6197  accuracy: 0.0050  Average batch time: 3.665 secs\n",
      " Epoch:  1  Batch: 350 / 468  loss: 5.6131  accuracy: 0.0051  Average batch time: 3.546 secs\n",
      " Epoch:  1  Batch: 400 / 468  loss: 5.6071  accuracy: 0.0051  Average batch time: 3.454 secs\n",
      " Epoch:  1  Batch: 450 / 468  loss: 5.6015  accuracy: 0.0052  Average batch time: 3.384 secs\n",
      "\n",
      "Training loss: 5.599708\n",
      "Training accuracy: 0.005108\n",
      "Time elapsed: 26.2 minutes.\n",
      "Validating...\n",
      "Validation loss: 5.5413\n",
      "Validation accuracy: 0.0000\n",
      "Epoch 2\n",
      " Epoch:  2  Batch:  50 / 468  loss: 5.5486  accuracy: 0.0039  Average batch time: 2.649 secs\n",
      " Epoch:  2  Batch: 100 / 468  loss: 5.5472  accuracy: 0.0046  Average batch time: 2.613 secs\n",
      " Epoch:  2  Batch: 150 / 468  loss: 5.5456  accuracy: 0.0045  Average batch time: 2.614 secs\n",
      " Epoch:  2  Batch: 200 / 468  loss: 5.5434  accuracy: 0.0045  Average batch time: 2.624 secs\n",
      " Epoch:  2  Batch: 250 / 468  loss: 5.5432  accuracy: 0.0041  Average batch time: 2.628 secs\n",
      " Epoch:  2  Batch: 300 / 468  loss: 5.5418  accuracy: 0.0043  Average batch time: 2.615 secs\n",
      " Epoch:  2  Batch: 350 / 468  loss: 5.5408  accuracy: 0.0042  Average batch time: 2.609 secs\n",
      " Epoch:  2  Batch: 400 / 468  loss: 5.5404  accuracy: 0.0042  Average batch time: 2.612 secs\n",
      " Epoch:  2  Batch: 450 / 468  loss: 5.5390  accuracy: 0.0041  Average batch time: 2.613 secs\n",
      "\n",
      "Training loss: 5.538713\n",
      "Training accuracy: 0.004056\n",
      "Time elapsed: 47.1 minutes.\n",
      "Validating...\n",
      "Validation loss: 5.5206\n",
      "Validation accuracy: 0.0000\n",
      "Epoch 3\n",
      " Epoch:  3  Batch:  50 / 468  loss: 5.5314  accuracy: 0.0050  Average batch time: 3.006 secs\n",
      " Epoch:  3  Batch: 100 / 468  loss: 5.5274  accuracy: 0.0044  Average batch time: 2.819 secs\n",
      " Epoch:  3  Batch: 150 / 468  loss: 5.5251  accuracy: 0.0043  Average batch time: 2.755 secs\n",
      " Epoch:  3  Batch: 200 / 468  loss: 5.5243  accuracy: 0.0043  Average batch time: 2.758 secs\n",
      " Epoch:  3  Batch: 250 / 468  loss: 5.5238  accuracy: 0.0042  Average batch time: 2.780 secs\n",
      " Epoch:  3  Batch: 300 / 468  loss: 5.5233  accuracy: 0.0045  Average batch time: 2.770 secs\n",
      " Epoch:  3  Batch: 350 / 468  loss: 5.5229  accuracy: 0.0046  Average batch time: 2.741 secs\n",
      " Epoch:  3  Batch: 400 / 468  loss: 5.5230  accuracy: 0.0046  Average batch time: 2.722 secs\n",
      " Epoch:  3  Batch: 450 / 468  loss: 5.5226  accuracy: 0.0047  Average batch time: 2.797 secs\n",
      "\n",
      "Training loss: 5.522521\n",
      "Training accuracy: 0.004627\n",
      "Time elapsed: 69.7 minutes.\n",
      "Validating...\n",
      "Validation loss: 5.5130\n",
      "Validation accuracy: 0.0326\n",
      "Epoch 4\n",
      " Epoch:  4  Batch:  50 / 468  loss: 5.5147  accuracy: 0.0045  Average batch time: 3.774 secs\n",
      " Epoch:  4  Batch: 100 / 468  loss: 5.5142  accuracy: 0.0047  Average batch time: 3.485 secs\n",
      " Epoch:  4  Batch: 150 / 468  loss: 5.5163  accuracy: 0.0049  Average batch time: 3.405 secs\n",
      " Epoch:  4  Batch: 200 / 468  loss: 5.5163  accuracy: 0.0052  Average batch time: 3.628 secs\n",
      " Epoch:  4  Batch: 250 / 468  loss: 5.5169  accuracy: 0.0050  Average batch time: 3.725 secs\n",
      " Epoch:  4  Batch: 300 / 468  loss: 5.5166  accuracy: 0.0052  Average batch time: 3.774 secs\n",
      " Epoch:  4  Batch: 350 / 468  loss: 5.5164  accuracy: 0.0052  Average batch time: 3.808 secs\n",
      " Epoch:  4  Batch: 400 / 468  loss: 5.5162  accuracy: 0.0051  Average batch time: 3.847 secs\n",
      " Epoch:  4  Batch: 450 / 468  loss: 5.5160  accuracy: 0.0050  Average batch time: 3.779 secs\n",
      "\n",
      "Training loss: 5.516076\n",
      "Training accuracy: 0.005025\n",
      "Time elapsed: 99.7 minutes.\n",
      "Validating...\n",
      "Validation loss: 5.5101\n",
      "Validation accuracy: 0.0000\n",
      "Epoch 5\n"
     ]
    }
   ],
   "source": [
    "asl_dataset = ASL_DATASET(augment=True)\n",
    "\n",
    "train_loader, valid_loader, test_loader = create_data_loaders(asl_dataset)\n",
    "\n",
    "from models.models import ASLTransformerModel\n",
    "\n",
    "model = ASLTransformerModel()\n",
    "\n",
    "criterion = nn.CrossEntropyLoss()\n",
    "optimizer = optim.Adam(model.parameters(), lr=0.001)\n",
    "\n",
    "train_model(model, train_loader, valid_loader, criterion, optimizer, scheduler=None, num_epochs=EPOCHS, save_freq=5, verbose=True)"
   ]
  },
  {
   "cell_type": "code",
   "execution_count": null,
   "id": "2d740f5a-e165-46bf-9833-51301ee8bf5f",
   "metadata": {},
   "outputs": [],
   "source": [
    "train_model(model, train_loader, valid_loader, criterion, optimizer, scheduler=None, num_epochs=EPOCHS, save_freq=5, verbose=True)"
   ]
  },
  {
   "cell_type": "code",
   "execution_count": null,
   "id": "4f0dea12-e960-40fb-943a-b5704d5e5820",
   "metadata": {},
   "outputs": [],
   "source": [
    "EPOCHS=50"
   ]
  },
  {
   "cell_type": "code",
   "execution_count": null,
   "id": "4a7f4c19-6765-4255-868a-8286ad4cb9ea",
   "metadata": {},
   "outputs": [],
   "source": [
    "train_model(model, train_loader, valid_loader, criterion, optimizer, scheduler=None, num_epochs=EPOCHS, save_freq=5, verbose=True)"
   ]
  },
  {
   "cell_type": "code",
   "execution_count": null,
   "id": "0cf03c3a-daa0-47bc-85b0-b555bceeb97b",
   "metadata": {},
   "outputs": [],
   "source": []
  }
 ],
 "metadata": {
  "kernelspec": {
   "display_name": "Python 3 (ipykernel)",
   "language": "python",
   "name": "python3"
  },
  "language_info": {
   "codemirror_mode": {
    "name": "ipython",
    "version": 3
   },
   "file_extension": ".py",
   "mimetype": "text/x-python",
   "name": "python",
   "nbconvert_exporter": "python",
   "pygments_lexer": "ipython3",
   "version": "3.9.16"
  }
 },
 "nbformat": 4,
 "nbformat_minor": 5
}
