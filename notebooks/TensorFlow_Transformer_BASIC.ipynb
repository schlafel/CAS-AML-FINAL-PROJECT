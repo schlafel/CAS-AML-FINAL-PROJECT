{
 "cells": [
  {
   "cell_type": "markdown",
   "id": "94401706-c24c-481d-a777-604b9cf002f3",
   "metadata": {
    "pycharm": {
     "name": "#%% md\n"
    }
   },
   "source": [
    "# TensorFlow Example Transformer"
   ]
  },
  {
   "cell_type": "markdown",
   "id": "c5e08a41-8d64-4e43-b1e2-808da0dbcb2a",
   "metadata": {
    "pycharm": {
     "name": "#%% md\n"
    }
   },
   "source": [
    "This notebook is a first implementation."
   ]
  },
  {
   "cell_type": "code",
   "execution_count": 1,
   "id": "e14c83f0-b97d-4884-8107-d1f97462f882",
   "metadata": {
    "pycharm": {
     "name": "#%%\n"
    }
   },
   "outputs": [],
   "source": [
    "import numpy as np\n",
    "import pandas as pd\n",
    "import tensorflow as tf\n",
    "import tensorflow_addons as tfa\n",
    "import matplotlib.pyplot as plt\n",
    "import matplotlib as mpl\n",
    "import seaborn as sn\n",
    "\n",
    "from tqdm import tqdm\n",
    "from sklearn.model_selection import train_test_split, GroupShuffleSplit \n",
    "import json\n",
    "import glob\n",
    "import sys\n",
    "import os\n",
    "import math\n",
    "import gc\n",
    "import sys\n",
    "import sklearn\n",
    "import scipy"
   ]
  },
  {
   "cell_type": "code",
   "execution_count": 2,
   "id": "6152944f-92d2-478b-9424-31e217e37b86",
   "metadata": {
    "pycharm": {
     "name": "#%%\n"
    }
   },
   "outputs": [],
   "source": [
    "sys.path.insert(0,\"./..\")"
   ]
  },
  {
   "cell_type": "code",
   "execution_count": 3,
   "id": "e45fb132-3de4-43fc-8362-e7ce86eafda3",
   "metadata": {
    "pycharm": {
     "name": "#%%\n"
    }
   },
   "outputs": [],
   "source": [
    "from src.config import *\n",
    "INPUT_SIZE = MAX_SEQUENCES\n",
    "N_COLS = N_LANDMARKS\n",
    "\n",
    "# If True, processing data from scratch\n",
    "# If False, loads preprocessed data\n",
    "PREPROCESS_DATA = False\n",
    "TRAIN_MODEL = True\n",
    "\n",
    "N_ROWS = 543\n",
    "N_DIMS = 3\n",
    "DIM_NAMES = ['x', 'y', 'z']\n",
    "SEED = 42\n",
    "NUM_CLASSES = 250\n",
    "\n",
    "INPUT_SIZE = 32\n",
    "\n",
    "BATCH_ALL_SIGNS_N = 4\n",
    "BATCH_SIZE = 256\n",
    "N_EPOCHS = 160\n",
    "LR_MAX = 1e-3\n",
    "N_WARMUP_EPOCHS = 0\n",
    "WD_RATIO = 0.05\n",
    "MASK_VAL = 4237\n",
    "\n",
    "\n",
    "\n"
   ]
  },
  {
   "cell_type": "code",
   "execution_count": 40,
   "id": "1bdb6518-d271-46b3-a799-69bbc67bd2d9",
   "metadata": {
    "pycharm": {
     "name": "#%%\n"
    }
   },
   "outputs": [],
   "source": [
    "TRAIN_MODEL = True\n",
    "PREPROCESSING = True"
   ]
  },
  {
   "cell_type": "code",
   "execution_count": 4,
   "id": "94ea9924-43b1-4ab7-9730-f3c889c65c51",
   "metadata": {
    "pycharm": {
     "name": "#%%\n"
    }
   },
   "outputs": [
    {
     "name": "stdout",
     "output_type": "stream",
     "text": [
      "# HAND_IDXS: 42, N_COLS: 92\n"
     ]
    }
   ],
   "source": [
    "USE_TYPES = ['left_hand', 'pose', 'right_hand']\n",
    "START_IDX = 468\n",
    "LIPS_IDXS0 = np.array([\n",
    "        61, 185, 40, 39, 37, 0, 267, 269, 270, 409,\n",
    "        291, 146, 91, 181, 84, 17, 314, 405, 321, 375,\n",
    "        78, 191, 80, 81, 82, 13, 312, 311, 310, 415,\n",
    "        95, 88, 178, 87, 14, 317, 402, 318, 324, 308,\n",
    "    ])\n",
    "# Landmark indices in original data\n",
    "LEFT_HAND_IDXS0 = np.arange(468,489)\n",
    "RIGHT_HAND_IDXS0 = np.arange(522,543)\n",
    "POSE_IDXS0 = np.arange(502, 512)\n",
    "LANDMARK_IDXS0 = np.concatenate((LIPS_IDXS0, LEFT_HAND_IDXS0, RIGHT_HAND_IDXS0, POSE_IDXS0))\n",
    "HAND_IDXS0 = np.concatenate((LEFT_HAND_IDXS0, RIGHT_HAND_IDXS0), axis=0)\n",
    "N_COLS = LANDMARK_IDXS0.size\n",
    "# Landmark indices in processed data\n",
    "LIPS_IDXS = np.argwhere(np.isin(LANDMARK_IDXS0, LIPS_IDXS0)).squeeze()\n",
    "LEFT_HAND_IDXS = np.argwhere(np.isin(LANDMARK_IDXS0, LEFT_HAND_IDXS0)).squeeze()\n",
    "RIGHT_HAND_IDXS = np.argwhere(np.isin(LANDMARK_IDXS0, RIGHT_HAND_IDXS0)).squeeze()\n",
    "HAND_IDXS = np.argwhere(np.isin(LANDMARK_IDXS0, HAND_IDXS0)).squeeze()\n",
    "POSE_IDXS = np.argwhere(np.isin(LANDMARK_IDXS0, POSE_IDXS0)).squeeze()\n",
    "\n",
    "print(f'# HAND_IDXS: {len(HAND_IDXS)}, N_COLS: {N_COLS}')"
   ]
  },
  {
   "cell_type": "code",
   "execution_count": 5,
   "id": "f62a1c06-4fb5-4ac3-a53f-b74c70baaef0",
   "metadata": {
    "pycharm": {
     "name": "#%%\n"
    }
   },
   "outputs": [
    {
     "name": "stdout",
     "output_type": "stream",
     "text": [
      "LIPS_START: 0, LEFT_HAND_START: 40, RIGHT_HAND_START: 61, POSE_START: 82\n"
     ]
    }
   ],
   "source": [
    "LIPS_START = 0\n",
    "LEFT_HAND_START = LIPS_IDXS.size\n",
    "RIGHT_HAND_START = LEFT_HAND_START + LEFT_HAND_IDXS.size\n",
    "POSE_START = RIGHT_HAND_START + RIGHT_HAND_IDXS.size\n",
    "\n",
    "print(f'LIPS_START: {LIPS_START}, LEFT_HAND_START: {LEFT_HAND_START}, RIGHT_HAND_START: {RIGHT_HAND_START}, POSE_START: {POSE_START}')"
   ]
  },
  {
   "cell_type": "markdown",
   "id": "3c46d22f-60ee-47a7-a757-f32697dac478",
   "metadata": {
    "pycharm": {
     "name": "#%% md\n"
    }
   },
   "source": [
    "# Get Training Data"
   ]
  },
  {
   "cell_type": "code",
   "execution_count": 141,
   "id": "ac817c0e-b091-4fb9-b19c-08d835e33683",
   "metadata": {
    "pycharm": {
     "name": "#%%\n"
    }
   },
   "outputs": [],
   "source": [
    "df_train = pd.read_csv(os.path.join(ROOT_PATH,RAW_DATA_DIR,TRAIN_CSV_FILE))\n",
    "path_json = os.path.join(ROOT_PATH, RAW_DATA_DIR, MAP_JSON_FILE)\n",
    "\n",
    "label_dict = json.load(open(path_json))\n",
    "label_dict_inv = {v: k for k, v in label_dict.items()}\n",
    "df_train[\"target\"] = df_train.sign.map(label_dict)\n",
    "\n",
    "\n",
    "\n",
    "N_SAMPLES = len(df_train)"
   ]
  },
  {
   "cell_type": "code",
   "execution_count": 7,
   "id": "06ce98ef-662c-404a-bdde-3b51b914ef2c",
   "metadata": {
    "pycharm": {
     "name": "#%%\n"
    }
   },
   "outputs": [
    {
     "data": {
      "text/plain": [
       "(94477, 5)"
      ]
     },
     "execution_count": 7,
     "metadata": {},
     "output_type": "execute_result"
    }
   ],
   "source": [
    "df_train.shape"
   ]
  },
  {
   "cell_type": "code",
   "execution_count": 8,
   "id": "2f442440-7581-4f9e-a4fb-180dd0b53897",
   "metadata": {
    "pycharm": {
     "name": "#%%\n"
    }
   },
   "outputs": [
    {
     "data": {
      "text/plain": [
       "94477"
      ]
     },
     "execution_count": 8,
     "metadata": {},
     "output_type": "execute_result"
    }
   ],
   "source": [
    "N_SAMPLES"
   ]
  },
  {
   "cell_type": "code",
   "execution_count": 9,
   "id": "2686a359-e31f-4cf1-9e53-ed547e883615",
   "metadata": {
    "pycharm": {
     "name": "#%%\n"
    }
   },
   "outputs": [
    {
     "data": {
      "text/html": [
       "<div>\n",
       "<style scoped>\n",
       "    .dataframe tbody tr th:only-of-type {\n",
       "        vertical-align: middle;\n",
       "    }\n",
       "\n",
       "    .dataframe tbody tr th {\n",
       "        vertical-align: top;\n",
       "    }\n",
       "\n",
       "    .dataframe thead th {\n",
       "        text-align: right;\n",
       "    }\n",
       "</style>\n",
       "<table border=\"1\" class=\"dataframe\">\n",
       "  <thead>\n",
       "    <tr style=\"text-align: right;\">\n",
       "      <th></th>\n",
       "      <th>path</th>\n",
       "      <th>participant_id</th>\n",
       "      <th>sequence_id</th>\n",
       "      <th>sign</th>\n",
       "      <th>target</th>\n",
       "    </tr>\n",
       "  </thead>\n",
       "  <tbody>\n",
       "    <tr>\n",
       "      <th>0</th>\n",
       "      <td>train_landmark_files/26734/1000035562.parquet</td>\n",
       "      <td>26734</td>\n",
       "      <td>1000035562</td>\n",
       "      <td>blow</td>\n",
       "      <td>25</td>\n",
       "    </tr>\n",
       "    <tr>\n",
       "      <th>1</th>\n",
       "      <td>train_landmark_files/28656/1000106739.parquet</td>\n",
       "      <td>28656</td>\n",
       "      <td>1000106739</td>\n",
       "      <td>wait</td>\n",
       "      <td>232</td>\n",
       "    </tr>\n",
       "    <tr>\n",
       "      <th>2</th>\n",
       "      <td>train_landmark_files/16069/100015657.parquet</td>\n",
       "      <td>16069</td>\n",
       "      <td>100015657</td>\n",
       "      <td>cloud</td>\n",
       "      <td>48</td>\n",
       "    </tr>\n",
       "    <tr>\n",
       "      <th>3</th>\n",
       "      <td>train_landmark_files/25571/1000210073.parquet</td>\n",
       "      <td>25571</td>\n",
       "      <td>1000210073</td>\n",
       "      <td>bird</td>\n",
       "      <td>23</td>\n",
       "    </tr>\n",
       "    <tr>\n",
       "      <th>4</th>\n",
       "      <td>train_landmark_files/62590/1000240708.parquet</td>\n",
       "      <td>62590</td>\n",
       "      <td>1000240708</td>\n",
       "      <td>owie</td>\n",
       "      <td>164</td>\n",
       "    </tr>\n",
       "  </tbody>\n",
       "</table>\n",
       "</div>"
      ],
      "text/plain": [
       "                                            path  participant_id  sequence_id  \\\n",
       "0  train_landmark_files/26734/1000035562.parquet           26734   1000035562   \n",
       "1  train_landmark_files/28656/1000106739.parquet           28656   1000106739   \n",
       "2   train_landmark_files/16069/100015657.parquet           16069    100015657   \n",
       "3  train_landmark_files/25571/1000210073.parquet           25571   1000210073   \n",
       "4  train_landmark_files/62590/1000240708.parquet           62590   1000240708   \n",
       "\n",
       "    sign  target  \n",
       "0   blow      25  \n",
       "1   wait     232  \n",
       "2  cloud      48  \n",
       "3   bird      23  \n",
       "4   owie     164  "
      ]
     },
     "execution_count": 9,
     "metadata": {},
     "output_type": "execute_result"
    }
   ],
   "source": [
    "df_train.head()"
   ]
  },
  {
   "cell_type": "code",
   "execution_count": null,
   "id": "2ce18635-91be-409d-be5c-1dc705e2b11f",
   "metadata": {
    "pycharm": {
     "name": "#%%\n"
    }
   },
   "outputs": [],
   "source": []
  },
  {
   "cell_type": "code",
   "execution_count": 10,
   "id": "aa0ace53-d3bf-4989-a4cd-9a31896b0f71",
   "metadata": {
    "pycharm": {
     "name": "#%%\n"
    }
   },
   "outputs": [],
   "source": [
    "# Get complete file path to file\n",
    "def get_file_path(path):\n",
    "    return os.path.join(ROOT_PATH,RAW_DATA_DIR,path)\n",
    "\n",
    "df_train['file_path'] = df_train['path'].apply(get_file_path)"
   ]
  },
  {
   "cell_type": "code",
   "execution_count": 11,
   "id": "2581296d-60bb-4172-bd4d-1aa9fb4729a7",
   "metadata": {
    "pycharm": {
     "name": "#%%\n"
    }
   },
   "outputs": [
    {
     "data": {
      "text/html": [
       "<div>\n",
       "<style scoped>\n",
       "    .dataframe tbody tr th:only-of-type {\n",
       "        vertical-align: middle;\n",
       "    }\n",
       "\n",
       "    .dataframe tbody tr th {\n",
       "        vertical-align: top;\n",
       "    }\n",
       "\n",
       "    .dataframe thead th {\n",
       "        text-align: right;\n",
       "    }\n",
       "</style>\n",
       "<table border=\"1\" class=\"dataframe\">\n",
       "  <thead>\n",
       "    <tr style=\"text-align: right;\">\n",
       "      <th></th>\n",
       "      <th>path</th>\n",
       "      <th>participant_id</th>\n",
       "      <th>sequence_id</th>\n",
       "      <th>sign</th>\n",
       "      <th>target</th>\n",
       "      <th>file_path</th>\n",
       "    </tr>\n",
       "  </thead>\n",
       "  <tbody>\n",
       "    <tr>\n",
       "      <th>0</th>\n",
       "      <td>train_landmark_files/26734/1000035562.parquet</td>\n",
       "      <td>26734</td>\n",
       "      <td>1000035562</td>\n",
       "      <td>blow</td>\n",
       "      <td>25</td>\n",
       "      <td>C:\\Users\\fs.GUNDP\\Python\\CAS-AML-FINAL-PROJECT...</td>\n",
       "    </tr>\n",
       "    <tr>\n",
       "      <th>1</th>\n",
       "      <td>train_landmark_files/28656/1000106739.parquet</td>\n",
       "      <td>28656</td>\n",
       "      <td>1000106739</td>\n",
       "      <td>wait</td>\n",
       "      <td>232</td>\n",
       "      <td>C:\\Users\\fs.GUNDP\\Python\\CAS-AML-FINAL-PROJECT...</td>\n",
       "    </tr>\n",
       "    <tr>\n",
       "      <th>2</th>\n",
       "      <td>train_landmark_files/16069/100015657.parquet</td>\n",
       "      <td>16069</td>\n",
       "      <td>100015657</td>\n",
       "      <td>cloud</td>\n",
       "      <td>48</td>\n",
       "      <td>C:\\Users\\fs.GUNDP\\Python\\CAS-AML-FINAL-PROJECT...</td>\n",
       "    </tr>\n",
       "    <tr>\n",
       "      <th>3</th>\n",
       "      <td>train_landmark_files/25571/1000210073.parquet</td>\n",
       "      <td>25571</td>\n",
       "      <td>1000210073</td>\n",
       "      <td>bird</td>\n",
       "      <td>23</td>\n",
       "      <td>C:\\Users\\fs.GUNDP\\Python\\CAS-AML-FINAL-PROJECT...</td>\n",
       "    </tr>\n",
       "    <tr>\n",
       "      <th>4</th>\n",
       "      <td>train_landmark_files/62590/1000240708.parquet</td>\n",
       "      <td>62590</td>\n",
       "      <td>1000240708</td>\n",
       "      <td>owie</td>\n",
       "      <td>164</td>\n",
       "      <td>C:\\Users\\fs.GUNDP\\Python\\CAS-AML-FINAL-PROJECT...</td>\n",
       "    </tr>\n",
       "  </tbody>\n",
       "</table>\n",
       "</div>"
      ],
      "text/plain": [
       "                                            path  participant_id  sequence_id  \\\n",
       "0  train_landmark_files/26734/1000035562.parquet           26734   1000035562   \n",
       "1  train_landmark_files/28656/1000106739.parquet           28656   1000106739   \n",
       "2   train_landmark_files/16069/100015657.parquet           16069    100015657   \n",
       "3  train_landmark_files/25571/1000210073.parquet           25571   1000210073   \n",
       "4  train_landmark_files/62590/1000240708.parquet           62590   1000240708   \n",
       "\n",
       "    sign  target                                          file_path  \n",
       "0   blow      25  C:\\Users\\fs.GUNDP\\Python\\CAS-AML-FINAL-PROJECT...  \n",
       "1   wait     232  C:\\Users\\fs.GUNDP\\Python\\CAS-AML-FINAL-PROJECT...  \n",
       "2  cloud      48  C:\\Users\\fs.GUNDP\\Python\\CAS-AML-FINAL-PROJECT...  \n",
       "3   bird      23  C:\\Users\\fs.GUNDP\\Python\\CAS-AML-FINAL-PROJECT...  \n",
       "4   owie     164  C:\\Users\\fs.GUNDP\\Python\\CAS-AML-FINAL-PROJECT...  "
      ]
     },
     "execution_count": 11,
     "metadata": {},
     "output_type": "execute_result"
    }
   ],
   "source": [
    "df_train.head()"
   ]
  },
  {
   "cell_type": "code",
   "execution_count": 12,
   "id": "36dcb97e-9fc5-4e11-81f6-6dce23e9a7a9",
   "metadata": {
    "pycharm": {
     "name": "#%%\n"
    }
   },
   "outputs": [],
   "source": [
    "#load first file\n",
    "arr_in = pd.read_parquet(df_train.iloc[0].file_path)"
   ]
  },
  {
   "cell_type": "code",
   "execution_count": 13,
   "id": "89d06836-3010-4b89-9ad3-cc842bf9d817",
   "metadata": {
    "pycharm": {
     "name": "#%%\n"
    }
   },
   "outputs": [
    {
     "data": {
      "text/plain": [
       "(12489, 7)"
      ]
     },
     "execution_count": 13,
     "metadata": {},
     "output_type": "execute_result"
    }
   ],
   "source": [
    "arr_in.shape"
   ]
  },
  {
   "cell_type": "markdown",
   "id": "4e25e12f-b4b3-4e2a-93a2-117b17a928fc",
   "metadata": {
    "pycharm": {
     "name": "#%% md\n"
    }
   },
   "source": [
    "# Preprocessing Layer"
   ]
  },
  {
   "cell_type": "code",
   "execution_count": 14,
   "id": "cb253b53-f7fa-49b9-bed3-085800c786c8",
   "metadata": {
    "pycharm": {
     "name": "#%%\n"
    }
   },
   "outputs": [],
   "source": [
    "\n",
    "TOTAL_LANDMARKS = 543\n",
    "N_DIMS = 3"
   ]
  },
  {
   "cell_type": "code",
   "execution_count": 15,
   "id": "ae540057-cad9-4e48-a8de-b54269847432",
   "metadata": {
    "pycharm": {
     "name": "#%%\n"
    }
   },
   "outputs": [],
   "source": [
    "\"\"\"\n",
    "    Tensorflow layer to process data in TFLite\n",
    "    Data needs to be processed in the model itself, so we can not use Python\n",
    "\"\"\" \n",
    "class PreprocessLayer(tf.keras.layers.Layer):\n",
    "    def __init__(self):\n",
    "        super(PreprocessLayer, self).__init__()\n",
    "        \n",
    "    def pad_edge(self, t, repeats, side):\n",
    "        if side == 'LEFT':\n",
    "            return tf.concat((tf.repeat(t[:1], repeats=repeats, axis=0), t), axis=0)\n",
    "        elif side == 'RIGHT':\n",
    "            return tf.concat((t, tf.repeat(t[-1:], repeats=repeats, axis=0)), axis=0)\n",
    "    \n",
    "    @tf.function(\n",
    "        input_signature=(tf.TensorSpec(shape=[None,N_ROWS,N_DIMS], dtype=tf.float32),),\n",
    "    )\n",
    "    def call(self, data0):\n",
    "        # Number of Frames in Video\n",
    "        N_FRAMES0 = tf.shape(data0)[0]\n",
    "        \n",
    "        # Filter Out Frames With Empty Hand Data\n",
    "        frames_hands_nansum = tf.experimental.numpy.nanmean(tf.gather(data0, HAND_IDXS0, axis=1), axis=[1,2])\n",
    "        non_empty_frames_idxs = tf.where(frames_hands_nansum > 0)\n",
    "        non_empty_frames_idxs = tf.squeeze(non_empty_frames_idxs, axis=1)\n",
    "        data = tf.gather(data0, non_empty_frames_idxs, axis=0)\n",
    "        \n",
    "        # Cast Indices in float32 to be compatible with Tensorflow Lite\n",
    "        non_empty_frames_idxs = tf.cast(non_empty_frames_idxs, tf.float32) \n",
    "\n",
    "        \n",
    "        # Number of Frames in Filtered Video\n",
    "        N_FRAMES = tf.shape(data)[0]\n",
    "        \n",
    "        # Gather Relevant Landmark Columns\n",
    "        data = tf.gather(data, LANDMARK_IDXS0, axis=1)\n",
    "        \n",
    "        # Video fits in INPUT_SIZE\n",
    "        if N_FRAMES < INPUT_SIZE:\n",
    "            # Pad With -1 to indicate padding\n",
    "            non_empty_frames_idxs = tf.pad(non_empty_frames_idxs, [[0, INPUT_SIZE-N_FRAMES]], constant_values=-1)\n",
    "            # Pad Data With Zeros\n",
    "            data = tf.pad(data, [[0, INPUT_SIZE-N_FRAMES], [0,0], [0,0]], constant_values=0)\n",
    "            # Fill NaN Values With 0\n",
    "            data = tf.where(tf.math.is_nan(data), 0.0, data)\n",
    "            return data, non_empty_frames_idxs\n",
    "        # Video needs to be downsampled to INPUT_SIZE\n",
    "        else:\n",
    "            # Repeat\n",
    "            if N_FRAMES < INPUT_SIZE**2:\n",
    "                repeats = tf.math.floordiv(INPUT_SIZE * INPUT_SIZE, N_FRAMES0)\n",
    "                data = tf.repeat(data, repeats=repeats, axis=0)\n",
    "                non_empty_frames_idxs = tf.repeat(non_empty_frames_idxs, repeats=repeats, axis=0)\n",
    "\n",
    "            # Pad To Multiple Of Input Size\n",
    "            pool_size = tf.math.floordiv(len(data), INPUT_SIZE)\n",
    "            if tf.math.mod(len(data), INPUT_SIZE) > 0:\n",
    "                pool_size += 1\n",
    "\n",
    "            if pool_size == 1:\n",
    "                pad_size = (pool_size * INPUT_SIZE) - len(data)\n",
    "            else:\n",
    "                pad_size = (pool_size * INPUT_SIZE) % len(data)\n",
    "\n",
    "            # Pad Start/End with Start/End value\n",
    "            pad_left = tf.math.floordiv(pad_size, 2) + tf.math.floordiv(INPUT_SIZE, 2)\n",
    "            pad_right = tf.math.floordiv(pad_size, 2) + tf.math.floordiv(INPUT_SIZE, 2)\n",
    "            if tf.math.mod(pad_size, 2) > 0:\n",
    "                pad_right += 1\n",
    "\n",
    "            # Pad By Concatenating Left/Right Edge Values\n",
    "            data = self.pad_edge(data, pad_left, 'LEFT')\n",
    "            data = self.pad_edge(data, pad_right, 'RIGHT')\n",
    "\n",
    "            # Pad Non Empty Frame Indices\n",
    "            non_empty_frames_idxs = self.pad_edge(non_empty_frames_idxs, pad_left, 'LEFT')\n",
    "            non_empty_frames_idxs = self.pad_edge(non_empty_frames_idxs, pad_right, 'RIGHT')\n",
    "\n",
    "            # Reshape to Mean Pool\n",
    "            data = tf.reshape(data, [INPUT_SIZE, -1, N_COLS, N_DIMS])\n",
    "            non_empty_frames_idxs = tf.reshape(non_empty_frames_idxs, [INPUT_SIZE, -1])\n",
    "\n",
    "            # Mean Pool\n",
    "            data = tf.experimental.numpy.nanmean(data, axis=1)\n",
    "            non_empty_frames_idxs = tf.experimental.numpy.nanmean(non_empty_frames_idxs, axis=1)\n",
    "\n",
    "            # Fill NaN Values With 0\n",
    "            data = tf.where(tf.math.is_nan(data), 0.0, data)\n",
    "            \n",
    "            return data, non_empty_frames_idxs\n",
    "    \n",
    "preprocess_layer = PreprocessLayer()"
   ]
  },
  {
   "cell_type": "code",
   "execution_count": null,
   "id": "85458b38-8af7-4b8f-a6b0-c51448ea6708",
   "metadata": {
    "pycharm": {
     "name": "#%%\n"
    }
   },
   "outputs": [],
   "source": []
  },
  {
   "cell_type": "code",
   "execution_count": 16,
   "id": "4f8cd59d-5f46-4690-92aa-7eda34d35001",
   "metadata": {
    "pycharm": {
     "name": "#%%\n"
    }
   },
   "outputs": [],
   "source": [
    "#load a sample parquet file\n",
    "pq_path = os.path.join(ROOT_PATH,RAW_DATA_DIR,r\"train_landmark_files\\2044\\635217.parquet\")\n",
    "df_parquet_raw = pd.read_parquet(pq_path)"
   ]
  },
  {
   "cell_type": "code",
   "execution_count": 17,
   "id": "6712e70d-1e42-4cc3-a2e6-39b220e5efdd",
   "metadata": {
    "pycharm": {
     "name": "#%%\n"
    }
   },
   "outputs": [
    {
     "data": {
      "text/plain": [
       "(3801, 3)"
      ]
     },
     "execution_count": 17,
     "metadata": {},
     "output_type": "execute_result"
    }
   ],
   "source": [
    "df_parquet_raw[COLUMNS_TO_USE + [\"z\"]].values.shape"
   ]
  },
  {
   "cell_type": "code",
   "execution_count": null,
   "id": "d1d4f6da-3a36-4e5b-95c4-454521539811",
   "metadata": {
    "pycharm": {
     "name": "#%%\n"
    }
   },
   "outputs": [],
   "source": []
  },
  {
   "cell_type": "code",
   "execution_count": null,
   "id": "78f3ce67-08b9-4554-975a-4703a6656c6c",
   "metadata": {
    "pycharm": {
     "name": "#%%\n"
    }
   },
   "outputs": [],
   "source": []
  },
  {
   "cell_type": "code",
   "execution_count": 18,
   "id": "69ea64dc-37ac-42a8-97dc-abdbd5c5ef15",
   "metadata": {
    "pycharm": {
     "name": "#%%\n"
    }
   },
   "outputs": [],
   "source": [
    "# Source: https://www.kaggle.com/competitions/asl-signs/overview/evaluation\n",
    "ROWS_PER_FRAME = 543  # number of landmarks per frame\n",
    "\n",
    "def load_relevant_data_subset(pq_path):\n",
    "    data_columns = ['x', 'y', 'z']\n",
    "    data = pd.read_parquet(pq_path, columns=data_columns)\n",
    "    n_frames = int(len(data) / ROWS_PER_FRAME)\n",
    "    data = data.values.reshape(n_frames, ROWS_PER_FRAME, len(data_columns))\n",
    "    return data.astype(np.float32)"
   ]
  },
  {
   "cell_type": "code",
   "execution_count": 19,
   "id": "5ea86434-7019-4c16-a467-7e96841ece59",
   "metadata": {
    "pycharm": {
     "name": "#%%\n"
    }
   },
   "outputs": [],
   "source": [
    "\"\"\"\n",
    "    face: 0:468\n",
    "    left_hand: 468:489\n",
    "    pose: 489:522\n",
    "    right_hand: 522:544\n",
    "        \n",
    "\"\"\"\n",
    "def get_data(file_path):\n",
    "    # Load Raw Data\n",
    "    data = load_relevant_data_subset(file_path)\n",
    "    # Process Data Using Tensorflow\n",
    "    data = preprocess_layer(data)\n",
    "    \n",
    "    return data"
   ]
  },
  {
   "cell_type": "code",
   "execution_count": 20,
   "id": "187a4873-e940-41a6-8632-e396c5b84872",
   "metadata": {
    "pycharm": {
     "name": "#%%\n"
    }
   },
   "outputs": [],
   "source": [
    "data = load_relevant_data_subset(pq_path=pq_path)"
   ]
  },
  {
   "cell_type": "code",
   "execution_count": 21,
   "id": "eb630496-db75-4f71-938a-f9a46fe4c54c",
   "metadata": {
    "pycharm": {
     "name": "#%%\n"
    }
   },
   "outputs": [
    {
     "data": {
      "text/plain": [
       "(7, 543, 3)"
      ]
     },
     "execution_count": 21,
     "metadata": {},
     "output_type": "execute_result"
    }
   ],
   "source": [
    "data.shape"
   ]
  },
  {
   "cell_type": "code",
   "execution_count": 22,
   "id": "50f6b19d-bb30-4fce-8d90-6fdabc33ccb1",
   "metadata": {
    "pycharm": {
     "name": "#%%\n"
    }
   },
   "outputs": [],
   "source": [
    "prep_data = get_data(pq_path)"
   ]
  },
  {
   "cell_type": "code",
   "execution_count": 23,
   "id": "78ed942e-eee5-4054-bce7-327e703ac928",
   "metadata": {
    "pycharm": {
     "name": "#%%\n"
    }
   },
   "outputs": [
    {
     "data": {
      "text/plain": [
       "TensorShape([32, 92, 3])"
      ]
     },
     "execution_count": 23,
     "metadata": {},
     "output_type": "execute_result"
    }
   ],
   "source": [
    "prep_data[0].shape"
   ]
  },
  {
   "cell_type": "code",
   "execution_count": 24,
   "id": "c3a1404e-db1e-4e86-b52b-40796adf0bcf",
   "metadata": {
    "pycharm": {
     "name": "#%%\n"
    }
   },
   "outputs": [
    {
     "data": {
      "text/plain": [
       "TensorShape([32])"
      ]
     },
     "execution_count": 24,
     "metadata": {},
     "output_type": "execute_result"
    }
   ],
   "source": [
    "prep_data[1].shape"
   ]
  },
  {
   "cell_type": "code",
   "execution_count": 25,
   "id": "70a89b49-a775-4a0c-b714-58b157760613",
   "metadata": {
    "pycharm": {
     "name": "#%%\n"
    }
   },
   "outputs": [
    {
     "data": {
      "text/plain": [
       "<tf.Tensor: shape=(32,), dtype=float32, numpy=\n",
       "array([ 0.,  1.,  2.,  3.,  4.,  5.,  6., -1., -1., -1., -1., -1., -1.,\n",
       "       -1., -1., -1., -1., -1., -1., -1., -1., -1., -1., -1., -1., -1.,\n",
       "       -1., -1., -1., -1., -1., -1.], dtype=float32)>"
      ]
     },
     "execution_count": 25,
     "metadata": {},
     "output_type": "execute_result"
    }
   ],
   "source": [
    "prep_data[1]"
   ]
  },
  {
   "cell_type": "code",
   "execution_count": 26,
   "id": "540c4791-714d-4906-96c4-5190e7400840",
   "metadata": {
    "pycharm": {
     "name": "#%%\n"
    }
   },
   "outputs": [],
   "source": [
    "prep_data[0];"
   ]
  },
  {
   "cell_type": "code",
   "execution_count": 27,
   "id": "23e41587-bcaa-4eef-9817-3279ed02144d",
   "metadata": {
    "pycharm": {
     "name": "#%%\n"
    }
   },
   "outputs": [],
   "source": [
    "mask = tf.cast(tf.math.not_equal(prep_data[1], -1), tf.float32)"
   ]
  },
  {
   "cell_type": "code",
   "execution_count": 28,
   "id": "7cc7ae96-9b18-4fa0-95d6-c9541a7d2d97",
   "metadata": {
    "pycharm": {
     "name": "#%%\n"
    }
   },
   "outputs": [
    {
     "data": {
      "text/plain": [
       "<tf.Tensor: shape=(32,), dtype=float32, numpy=\n",
       "array([1., 1., 1., 1., 1., 1., 1., 0., 0., 0., 0., 0., 0., 0., 0., 0., 0.,\n",
       "       0., 0., 0., 0., 0., 0., 0., 0., 0., 0., 0., 0., 0., 0., 0.],\n",
       "      dtype=float32)>"
      ]
     },
     "execution_count": 28,
     "metadata": {},
     "output_type": "execute_result"
    }
   ],
   "source": [
    "mask"
   ]
  },
  {
   "cell_type": "markdown",
   "id": "6b32300f-ef46-4f84-888a-dacf27119bff",
   "metadata": {
    "pycharm": {
     "name": "#%% md\n"
    }
   },
   "source": [
    "## Get DataSet"
   ]
  },
  {
   "cell_type": "code",
   "execution_count": 29,
   "id": "b7c3e7e3-163d-4979-9a17-17b77c97d70a",
   "metadata": {
    "pycharm": {
     "name": "#%%\n"
    }
   },
   "outputs": [],
   "source": [
    "# Get the full dataset\n",
    "def get_x_y(sample = 100000):\n",
    "    # Create arrays to save data\n",
    "    X = np.zeros([N_SAMPLES, INPUT_SIZE, N_COLS, N_DIMS], dtype=np.float32)\n",
    "    y = np.zeros([N_SAMPLES], dtype=np.int32)\n",
    "    NON_EMPTY_FRAME_IDXS = np.full([N_SAMPLES, INPUT_SIZE], -1, dtype=np.float32)\n",
    "\n",
    "    for row_idx, (file_path, sign_ord) in enumerate(tqdm(df_train.sample(min(sample, len(df_train)))[['file_path', 'target']].values)):\n",
    "        if row_idx % 5000 == 0:\n",
    "            print(f'Generated {row_idx}/{N_SAMPLES}')\n",
    "\n",
    "        data, non_empty_frame_idxs = get_data(file_path)\n",
    "        X[row_idx] = data\n",
    "        y[row_idx] = sign_ord\n",
    "        NON_EMPTY_FRAME_IDXS[row_idx] = non_empty_frame_idxs\n",
    "        if np.isnan(data).sum() > 0:\n",
    "            print(row_idx)\n",
    "            return data\n",
    "\n",
    "    # Save X/y\n",
    "    np.save('X.npy', X)\n",
    "    np.save('y.npy', y)\n",
    "    np.save('NON_EMPTY_FRAME_IDXS.npy', NON_EMPTY_FRAME_IDXS)\n",
    "    \n",
    "    return X, y, NON_EMPTY_FRAME_IDXS"
   ]
  },
  {
   "cell_type": "code",
   "execution_count": 30,
   "id": "9d16b618-ac07-4a82-a4a3-dae69a622114",
   "metadata": {
    "pycharm": {
     "name": "#%%\n"
    }
   },
   "outputs": [
    {
     "name": "stderr",
     "output_type": "stream",
     "text": [
      "  0%|                                                                              | 31/94477 [00:00<10:08, 155.27it/s]"
     ]
    },
    {
     "name": "stdout",
     "output_type": "stream",
     "text": [
      "Generated 0/94477\n"
     ]
    },
    {
     "name": "stderr",
     "output_type": "stream",
     "text": [
      "  5%|████                                                                        | 5025/94477 [00:39<11:48, 126.31it/s]"
     ]
    },
    {
     "name": "stdout",
     "output_type": "stream",
     "text": [
      "Generated 5000/94477\n"
     ]
    },
    {
     "name": "stderr",
     "output_type": "stream",
     "text": [
      " 11%|███████▉                                                                   | 10011/94477 [01:21<12:29, 112.73it/s]"
     ]
    },
    {
     "name": "stdout",
     "output_type": "stream",
     "text": [
      "Generated 10000/94477\n"
     ]
    },
    {
     "name": "stderr",
     "output_type": "stream",
     "text": [
      " 16%|███████████▉                                                               | 15010/94477 [02:02<11:47, 112.35it/s]"
     ]
    },
    {
     "name": "stdout",
     "output_type": "stream",
     "text": [
      "Generated 15000/94477\n"
     ]
    },
    {
     "name": "stderr",
     "output_type": "stream",
     "text": [
      " 21%|███████████████▉                                                           | 20013/94477 [02:44<10:55, 113.61it/s]"
     ]
    },
    {
     "name": "stdout",
     "output_type": "stream",
     "text": [
      "Generated 20000/94477\n"
     ]
    },
    {
     "name": "stderr",
     "output_type": "stream",
     "text": [
      " 26%|███████████████████▊                                                       | 25024/94477 [03:24<08:59, 128.70it/s]"
     ]
    },
    {
     "name": "stdout",
     "output_type": "stream",
     "text": [
      "Generated 25000/94477\n"
     ]
    },
    {
     "name": "stderr",
     "output_type": "stream",
     "text": [
      " 32%|███████████████████████▊                                                   | 30012/94477 [04:05<08:44, 122.96it/s]"
     ]
    },
    {
     "name": "stdout",
     "output_type": "stream",
     "text": [
      "Generated 30000/94477\n"
     ]
    },
    {
     "name": "stderr",
     "output_type": "stream",
     "text": [
      " 37%|███████████████████████████▊                                               | 35020/94477 [04:46<08:23, 118.13it/s]"
     ]
    },
    {
     "name": "stdout",
     "output_type": "stream",
     "text": [
      "Generated 35000/94477\n"
     ]
    },
    {
     "name": "stderr",
     "output_type": "stream",
     "text": [
      " 42%|███████████████████████████████▊                                           | 40013/94477 [05:29<07:38, 118.66it/s]"
     ]
    },
    {
     "name": "stdout",
     "output_type": "stream",
     "text": [
      "Generated 40000/94477\n"
     ]
    },
    {
     "name": "stderr",
     "output_type": "stream",
     "text": [
      " 48%|███████████████████████████████████▋                                       | 45019/94477 [06:10<06:45, 122.06it/s]"
     ]
    },
    {
     "name": "stdout",
     "output_type": "stream",
     "text": [
      "Generated 45000/94477\n"
     ]
    },
    {
     "name": "stderr",
     "output_type": "stream",
     "text": [
      " 53%|███████████████████████████████████████▋                                   | 50017/94477 [06:51<06:19, 117.14it/s]"
     ]
    },
    {
     "name": "stdout",
     "output_type": "stream",
     "text": [
      "Generated 50000/94477\n"
     ]
    },
    {
     "name": "stderr",
     "output_type": "stream",
     "text": [
      " 58%|███████████████████████████████████████████▋                               | 55013/94477 [07:32<05:26, 121.05it/s]"
     ]
    },
    {
     "name": "stdout",
     "output_type": "stream",
     "text": [
      "Generated 55000/94477\n"
     ]
    },
    {
     "name": "stderr",
     "output_type": "stream",
     "text": [
      " 64%|███████████████████████████████████████████████▋                           | 60010/94477 [08:13<04:41, 122.31it/s]"
     ]
    },
    {
     "name": "stdout",
     "output_type": "stream",
     "text": [
      "Generated 60000/94477\n"
     ]
    },
    {
     "name": "stderr",
     "output_type": "stream",
     "text": [
      " 69%|███████████████████████████████████████████████████▌                       | 65011/94477 [08:54<04:39, 105.27it/s]"
     ]
    },
    {
     "name": "stdout",
     "output_type": "stream",
     "text": [
      "Generated 65000/94477\n"
     ]
    },
    {
     "name": "stderr",
     "output_type": "stream",
     "text": [
      " 74%|███████████████████████████████████████████████████████▌                   | 70015/94477 [09:36<03:22, 120.69it/s]"
     ]
    },
    {
     "name": "stdout",
     "output_type": "stream",
     "text": [
      "Generated 70000/94477\n"
     ]
    },
    {
     "name": "stderr",
     "output_type": "stream",
     "text": [
      " 79%|███████████████████████████████████████████████████████████▌               | 75018/94477 [10:16<03:01, 107.16it/s]"
     ]
    },
    {
     "name": "stdout",
     "output_type": "stream",
     "text": [
      "Generated 75000/94477\n"
     ]
    },
    {
     "name": "stderr",
     "output_type": "stream",
     "text": [
      " 85%|███████████████████████████████████████████████████████████████▌           | 80022/94477 [10:57<02:04, 116.32it/s]"
     ]
    },
    {
     "name": "stdout",
     "output_type": "stream",
     "text": [
      "Generated 80000/94477\n"
     ]
    },
    {
     "name": "stderr",
     "output_type": "stream",
     "text": [
      " 90%|███████████████████████████████████████████████████████████████████▍       | 85022/94477 [11:38<01:20, 117.11it/s]"
     ]
    },
    {
     "name": "stdout",
     "output_type": "stream",
     "text": [
      "Generated 85000/94477\n"
     ]
    },
    {
     "name": "stderr",
     "output_type": "stream",
     "text": [
      " 95%|███████████████████████████████████████████████████████████████████████▍   | 90026/94477 [12:19<00:36, 123.13it/s]"
     ]
    },
    {
     "name": "stdout",
     "output_type": "stream",
     "text": [
      "Generated 90000/94477\n"
     ]
    },
    {
     "name": "stderr",
     "output_type": "stream",
     "text": [
      "100%|███████████████████████████████████████████████████████████████████████████| 94477/94477 [12:55<00:00, 121.76it/s]\n"
     ]
    }
   ],
   "source": [
    "if PREPROCESSING:\n",
    "    X,y,Non_empty_Frame_idxs = get_x_y(sample = 10000000)\n",
    "else:\n",
    "    X = np.load(\"X.npy\")\n",
    "    \n",
    "    y = np.load(\"y.npy\")\n",
    "    \n",
    "    Non_empty_Frame_idxs = np.load(\"NON_EMPTY_FRAME_IDXS.npy\")"
   ]
  },
  {
   "cell_type": "code",
   "execution_count": 48,
   "id": "ebf89770-389f-4d01-9bc6-9e197ff05f09",
   "metadata": {
    "pycharm": {
     "name": "#%%\n"
    }
   },
   "outputs": [],
   "source": [
    "# Custom sampler to get a batch containing N times all signs\n",
    "def get_train_batch_all_signs(X, y, NON_EMPTY_FRAME_IDXS, n=BATCH_ALL_SIGNS_N):\n",
    "    # Arrays to store batch in\n",
    "    X_batch = np.zeros([NUM_CLASSES*n, INPUT_SIZE, N_COLS, N_DIMS], dtype=np.float32)\n",
    "    y_batch = np.arange(0, NUM_CLASSES, step=1/n, dtype=np.float32).astype(np.int64)\n",
    "    non_empty_frame_idxs_batch = np.zeros([NUM_CLASSES*n, INPUT_SIZE], dtype=np.float32)\n",
    "    \n",
    "    # Dictionary mapping ordinally encoded sign to corresponding sample indices\n",
    "    CLASS2IDXS = {}\n",
    "    for i in range(NUM_CLASSES):\n",
    "        CLASS2IDXS[i] = np.argwhere(y == i).squeeze().astype(np.int32)\n",
    "            \n",
    "    while True:\n",
    "        # Fill batch arrays\n",
    "        for i in range(NUM_CLASSES):\n",
    "            idxs = np.random.choice(CLASS2IDXS[i], n)\n",
    "            X_batch[i*n:(i+1)*n] = X[idxs]\n",
    "            non_empty_frame_idxs_batch[i*n:(i+1)*n] = NON_EMPTY_FRAME_IDXS[idxs]\n",
    "        \n",
    "        yield { 'frames': X_batch, 'non_empty_frame_idxs': non_empty_frame_idxs_batch }, y_batch"
   ]
  },
  {
   "cell_type": "code",
   "execution_count": 50,
   "id": "bc6c5a5c-46d9-4043-b9cf-eae5172427c0",
   "metadata": {
    "pycharm": {
     "name": "#%%\n"
    }
   },
   "outputs": [],
   "source": [
    "dummy_dataset = get_train_batch_all_signs(X, y, Non_empty_Frame_idxs)\n",
    "X_batch, y_batch = next(dummy_dataset)"
   ]
  },
  {
   "cell_type": "code",
   "execution_count": 52,
   "id": "7d4988a3-ba83-406d-ab6c-c1114d676c92",
   "metadata": {
    "pycharm": {
     "name": "#%%\n"
    }
   },
   "outputs": [
    {
     "data": {
      "text/plain": [
       "(1000, 32, 92, 3)"
      ]
     },
     "execution_count": 52,
     "metadata": {},
     "output_type": "execute_result"
    }
   ],
   "source": [
    "X_batch[\"frames\"].shape"
   ]
  },
  {
   "cell_type": "code",
   "execution_count": null,
   "id": "92639573-936b-4da7-86df-44399b15b2e9",
   "metadata": {
    "pycharm": {
     "name": "#%%\n"
    }
   },
   "outputs": [],
   "source": []
  },
  {
   "cell_type": "markdown",
   "id": "48a79d2e-b77c-4c32-bc81-af5334d6ced6",
   "metadata": {
    "pycharm": {
     "name": "#%% md\n"
    }
   },
   "source": [
    "# Transformer Model"
   ]
  },
  {
   "cell_type": "code",
   "execution_count": null,
   "id": "9b805f03-9ff7-4aa9-a135-8e4fa6ef1d00",
   "metadata": {
    "pycharm": {
     "name": "#%%\n"
    }
   },
   "outputs": [],
   "source": []
  },
  {
   "cell_type": "code",
   "execution_count": null,
   "id": "2328f453-80ba-435f-b075-8dd9c4fb6b0d",
   "metadata": {
    "pycharm": {
     "name": "#%%\n"
    }
   },
   "outputs": [],
   "source": []
  },
  {
   "cell_type": "code",
   "execution_count": 31,
   "id": "e373ee6a-ab5c-402c-b730-df540e4d460b",
   "metadata": {
    "pycharm": {
     "name": "#%%\n"
    }
   },
   "outputs": [],
   "source": [
    "#Model Config\n",
    "# Epsilon value for layer normalisation\n",
    "LAYER_NORM_EPS = 1e-6\n",
    "\n",
    "# Dense layer units for landmarks\n",
    "LIPS_UNITS = 384\n",
    "HANDS_UNITS = 384\n",
    "POSE_UNITS = 384\n",
    "# final embedding and transformer embedding size\n",
    "UNITS = 384\n",
    "\n",
    "# Transformer\n",
    "NUM_BLOCKS = 4\n",
    "MLP_RATIO = 2\n",
    "\n",
    "# Dropout\n",
    "EMBEDDING_DROPOUT = 0.00\n",
    "MLP_DROPOUT_RATIO = 0.30\n",
    "CLASSIFIER_DROPOUT_RATIO = 0.10\n",
    "\n",
    "# Initiailizers\n",
    "INIT_HE_UNIFORM = tf.keras.initializers.he_uniform\n",
    "INIT_GLOROT_UNIFORM = tf.keras.initializers.glorot_uniform\n",
    "INIT_ZEROS = tf.keras.initializers.constant(0.0)\n",
    "# Activations\n",
    "GELU = tf.keras.activations.gelu"
   ]
  },
  {
   "cell_type": "code",
   "execution_count": 32,
   "id": "144c6dab-b016-470c-8093-13ab536e6799",
   "metadata": {
    "pycharm": {
     "name": "#%%\n"
    }
   },
   "outputs": [
    {
     "data": {
      "text/plain": [
       "92"
      ]
     },
     "execution_count": 32,
     "metadata": {},
     "output_type": "execute_result"
    }
   ],
   "source": [
    "N_COLS"
   ]
  },
  {
   "cell_type": "code",
   "execution_count": 33,
   "id": "c97f0ef9-3461-4a06-96aa-634e385bfc21",
   "metadata": {
    "pycharm": {
     "name": "#%%\n"
    }
   },
   "outputs": [],
   "source": [
    " # based on: https://stackoverflow.com/questions/67342988/verifying-the-implementation-of-multihead-attention-in-transformer\n",
    "# replaced softmax with softmax layer to support masked softmax\n",
    "def scaled_dot_product(q,k,v, softmax, attention_mask):\n",
    "    #calculates Q . K(transpose)\n",
    "    qkt = tf.matmul(q,k,transpose_b=True)\n",
    "    #caculates scaling factor\n",
    "    dk = tf.math.sqrt(tf.cast(q.shape[-1],dtype=tf.float32))\n",
    "    scaled_qkt = qkt/dk\n",
    "    softmax = softmax(scaled_qkt, mask=attention_mask)\n",
    "    \n",
    "    z = tf.matmul(softmax,v)\n",
    "    #shape: (m,Tx,depth), same shape as q,k,v\n",
    "    return z\n",
    "\n",
    "class MultiHeadAttention(tf.keras.layers.Layer):\n",
    "    def __init__(self,d_model,num_of_heads):\n",
    "        super(MultiHeadAttention,self).__init__()\n",
    "        self.d_model = d_model\n",
    "        self.num_of_heads = num_of_heads\n",
    "        self.depth = d_model//num_of_heads\n",
    "        self.wq = [tf.keras.layers.Dense(self.depth) for i in range(num_of_heads)]\n",
    "        self.wk = [tf.keras.layers.Dense(self.depth) for i in range(num_of_heads)]\n",
    "        self.wv = [tf.keras.layers.Dense(self.depth) for i in range(num_of_heads)]\n",
    "        self.wo = tf.keras.layers.Dense(d_model)\n",
    "        self.softmax = tf.keras.layers.Softmax()\n",
    "        \n",
    "    def call(self,x, attention_mask):\n",
    "        \n",
    "        multi_attn = []\n",
    "        for i in range(self.num_of_heads):\n",
    "            Q = self.wq[i](x)\n",
    "            K = self.wk[i](x)\n",
    "            V = self.wv[i](x)\n",
    "            multi_attn.append(scaled_dot_product(Q,K,V, self.softmax, attention_mask))\n",
    "            \n",
    "        multi_head = tf.concat(multi_attn,axis=-1)\n",
    "        multi_head_attention = self.wo(multi_head)\n",
    "        return multi_head_attention"
   ]
  },
  {
   "cell_type": "code",
   "execution_count": 34,
   "id": "c1c65a8b-61be-4591-bc66-a1a939d8738e",
   "metadata": {
    "pycharm": {
     "name": "#%%\n"
    }
   },
   "outputs": [],
   "source": [
    "# Full Transformer\n",
    "class Transformer(tf.keras.Model):\n",
    "    def __init__(self, num_blocks):\n",
    "        super(Transformer, self).__init__(name='transformer')\n",
    "        self.num_blocks = num_blocks\n",
    "    \n",
    "    def build(self, input_shape):\n",
    "        self.ln_1s = []\n",
    "        self.mhas = []\n",
    "        self.ln_2s = []\n",
    "        self.mlps = []\n",
    "        # Make Transformer Blocks\n",
    "        for i in range(self.num_blocks):\n",
    "            # First Layer Normalisation\n",
    "            self.ln_1s.append(tf.keras.layers.LayerNormalization(epsilon=LAYER_NORM_EPS))\n",
    "            # Multi Head Attention\n",
    "            self.mhas.append(MultiHeadAttention(UNITS, 8))\n",
    "            # Second Layer Normalisation\n",
    "            self.ln_2s.append(tf.keras.layers.LayerNormalization(epsilon=LAYER_NORM_EPS))\n",
    "            # Multi Layer Perception\n",
    "            self.mlps.append(tf.keras.Sequential([\n",
    "                tf.keras.layers.Dense(UNITS * MLP_RATIO, activation=GELU, kernel_initializer=INIT_GLOROT_UNIFORM),\n",
    "                tf.keras.layers.Dropout(MLP_DROPOUT_RATIO),\n",
    "                tf.keras.layers.Dense(UNITS, kernel_initializer=INIT_HE_UNIFORM),\n",
    "            ]))\n",
    "        \n",
    "    def call(self, x, attention_mask):\n",
    "        # Iterate input over transformer blocks\n",
    "        for ln_1, mha, ln_2, mlp in zip(self.ln_1s, self.mhas, self.ln_2s, self.mlps):\n",
    "            x1 = ln_1(x)\n",
    "            attention_output = mha(x1, attention_mask)\n",
    "            x2 = x1 + attention_output\n",
    "            x3 = ln_2(x2)\n",
    "            x3 = mlp(x3)\n",
    "            x = x3 + x2\n",
    "    \n",
    "        return x"
   ]
  },
  {
   "cell_type": "markdown",
   "id": "6bc2b4b9-a861-4950-87bd-abcedef099d9",
   "metadata": {
    "pycharm": {
     "name": "#%% md\n"
    }
   },
   "source": [
    "# Scaling of Features"
   ]
  },
  {
   "cell_type": "markdown",
   "id": "af796531-62b1-4bf1-a4f8-c8276871dfc8",
   "metadata": {
    "pycharm": {
     "name": "#%% md\n"
    }
   },
   "source": [
    "## Lips"
   ]
  },
  {
   "cell_type": "code",
   "execution_count": null,
   "id": "49885811-7e7b-4820-9f8c-cf05e27bb8eb",
   "metadata": {
    "pycharm": {
     "name": "#%%\n"
    }
   },
   "outputs": [],
   "source": [
    "Calculate mean values of Lips"
   ]
  },
  {
   "cell_type": "code",
   "execution_count": null,
   "id": "0b918f64-390d-436c-8521-8aa57da0b95c",
   "metadata": {
    "pycharm": {
     "name": "#%%\n"
    }
   },
   "outputs": [],
   "source": [
    "\n",
    "# LIPS\n",
    "LIPS_MEAN_X = np.zeros([LIPS_IDXS.size], dtype=np.float32)\n",
    "LIPS_MEAN_Y = np.zeros([LIPS_IDXS.size], dtype=np.float32)\n",
    "LIPS_STD_X = np.zeros([LIPS_IDXS.size], dtype=np.float32)\n",
    "LIPS_STD_Y = np.zeros([LIPS_IDXS.size], dtype=np.float32)\n",
    "\n",
    "fig, axes = plt.subplots(3, 1, figsize=(15, N_DIMS*6))\n",
    "   \n",
    "for col, ll in enumerate(tqdm( np.transpose(X[:,:,LIPS_IDXS], [2,3,0,1]).reshape([LIPS_IDXS.size, N_DIMS, -1]) )):\n",
    "    for dim, l in enumerate(ll):\n",
    "        v = l[np.nonzero(l)]\n",
    "        if dim == 0: # X\n",
    "            LIPS_MEAN_X[col] = v.mean()\n",
    "            LIPS_STD_X[col] = v.std()\n",
    "        if dim == 1: # Y\n",
    "            LIPS_MEAN_Y[col] = v.mean()\n",
    "            LIPS_STD_Y[col] = v.std()\n",
    "        \n",
    "        axes[dim].boxplot(v, notch=False, showfliers=False, positions=[col], whis=[5,95])\n",
    "        \n",
    "for ax, dim_name in zip(axes, DIM_NAMES):\n",
    "    ax.set_title(f'Lips {dim_name.upper()} Dimension', size=24)\n",
    "    ax.tick_params(axis='x', labelsize=8)\n",
    "    ax.grid(axis='y')\n",
    "\n",
    "plt.subplots_adjust(hspace=0.50)\n",
    "plt.show()\n",
    "\n",
    "LIPS_MEAN = np.array([LIPS_MEAN_X, LIPS_MEAN_Y]).T\n",
    "LIPS_STD = np.array([LIPS_STD_X, LIPS_STD_Y]).T"
   ]
  },
  {
   "cell_type": "markdown",
   "id": "454bb242-0231-47aa-9a85-edb03c4ce109",
   "metadata": {
    "pycharm": {
     "name": "#%% md\n"
    }
   },
   "source": [
    "## Hands"
   ]
  },
  {
   "cell_type": "code",
   "execution_count": 57,
   "id": "73ae4717-3eb3-4530-ae1f-a681142f473f",
   "metadata": {
    "pycharm": {
     "name": "#%%\n"
    }
   },
   "outputs": [
    {
     "name": "stderr",
     "output_type": "stream",
     "text": [
      "100%|██████████████████████████████████████████████████████████████████████████████████| 42/42 [00:05<00:00,  8.32it/s]\n"
     ]
    },
    {
     "data": {
      "image/png": "[encoded data removed]",
      "text/plain": [
       "<Figure size 1500x1800 with 3 Axes>"
      ]
     },
     "metadata": {},
     "output_type": "display_data"
    }
   ],
   "source": [
    "# LEFT HAND\n",
    "LEFT_HANDS_MEAN_X = np.zeros([LEFT_HAND_IDXS.size], dtype=np.float32)\n",
    "LEFT_HANDS_MEAN_Y = np.zeros([LEFT_HAND_IDXS.size], dtype=np.float32)\n",
    "LEFT_HANDS_STD_X = np.zeros([LEFT_HAND_IDXS.size], dtype=np.float32)\n",
    "LEFT_HANDS_STD_Y = np.zeros([LEFT_HAND_IDXS.size], dtype=np.float32)\n",
    "# RIGHT HAND\n",
    "RIGHT_HANDS_MEAN_X = np.zeros([RIGHT_HAND_IDXS.size], dtype=np.float32)\n",
    "RIGHT_HANDS_MEAN_Y = np.zeros([RIGHT_HAND_IDXS.size], dtype=np.float32)\n",
    "RIGHT_HANDS_STD_X = np.zeros([RIGHT_HAND_IDXS.size], dtype=np.float32)\n",
    "RIGHT_HANDS_STD_Y = np.zeros([RIGHT_HAND_IDXS.size], dtype=np.float32)\n",
    "\n",
    "fig, axes = plt.subplots(3, 1, figsize=(15, N_DIMS*6))\n",
    "   \n",
    "for col, ll in enumerate(tqdm( np.transpose(X[:,:,HAND_IDXS], [2,3,0,1]).reshape([HAND_IDXS.size, N_DIMS, -1]) )):\n",
    "    for dim, l in enumerate(ll):\n",
    "        v = l[np.nonzero(l)]\n",
    "        if dim == 0: # X\n",
    "            if col < RIGHT_HAND_IDXS.size: # LEFT HAND\n",
    "                LEFT_HANDS_MEAN_X[col] = v.mean()\n",
    "                LEFT_HANDS_STD_X[col] = v.std()\n",
    "            else:\n",
    "                RIGHT_HANDS_MEAN_X[col - LEFT_HAND_IDXS.size] = v.mean()\n",
    "                RIGHT_HANDS_STD_X[col - LEFT_HAND_IDXS.size] = v.std()\n",
    "        if dim == 1: # Y\n",
    "            if col < RIGHT_HAND_IDXS.size: # LEFT HAND\n",
    "                LEFT_HANDS_MEAN_Y[col] = v.mean()\n",
    "                LEFT_HANDS_STD_Y[col] = v.std()\n",
    "            else: # RIGHT HAND\n",
    "                RIGHT_HANDS_MEAN_Y[col - LEFT_HAND_IDXS.size] = v.mean()\n",
    "                RIGHT_HANDS_STD_Y[col - LEFT_HAND_IDXS.size] = v.std()\n",
    "        \n",
    "        axes[dim].boxplot(v, notch=False, showfliers=False, positions=[col], whis=[5,95])\n",
    "        \n",
    "for ax, dim_name in zip(axes, DIM_NAMES):\n",
    "    ax.set_title(f'Hands {dim_name.upper()} Dimension', size=24)\n",
    "    ax.tick_params(axis='x', labelsize=8)\n",
    "    ax.grid(axis='y')\n",
    "\n",
    "plt.subplots_adjust(hspace=0.50)\n",
    "plt.show()\n",
    "\n",
    "LEFT_HANDS_MEAN = np.array([LEFT_HANDS_MEAN_X, LEFT_HANDS_MEAN_Y]).T\n",
    "LEFT_HANDS_STD = np.array([LEFT_HANDS_STD_X, LEFT_HANDS_STD_Y]).T\n",
    "RIGHT_HANDS_MEAN = np.array([RIGHT_HANDS_MEAN_X, RIGHT_HANDS_MEAN_Y]).T\n",
    "RIGHT_HANDS_STD = np.array([RIGHT_HANDS_STD_X, RIGHT_HANDS_STD_Y]).T"
   ]
  },
  {
   "cell_type": "markdown",
   "id": "662c2cac-0ac6-411e-9e19-c6f170155bb7",
   "metadata": {
    "pycharm": {
     "name": "#%% md\n"
    }
   },
   "source": [
    "## POSE"
   ]
  },
  {
   "cell_type": "code",
   "execution_count": null,
   "id": "cb09e297-3263-4f77-b6e6-313ca71b5382",
   "metadata": {
    "pycharm": {
     "name": "#%%\n"
    }
   },
   "outputs": [],
   "source": [
    "# POSE\n",
    "POSE_MEAN_X = np.zeros([POSE_IDXS.size], dtype=np.float32)\n",
    "POSE_MEAN_Y = np.zeros([POSE_IDXS.size], dtype=np.float32)\n",
    "POSE_STD_X = np.zeros([POSE_IDXS.size], dtype=np.float32)\n",
    "POSE_STD_Y = np.zeros([POSE_IDXS.size], dtype=np.float32)\n",
    "\n",
    "fig, axes = plt.subplots(3, 1, figsize=(15, N_DIMS*6))\n",
    "   \n",
    "for col, ll in enumerate(tqdm( np.transpose(X[:,:,POSE_IDXS], [2,3,0,1]).reshape([POSE_IDXS.size, N_DIMS, -1]) )):\n",
    "    for dim, l in enumerate(ll):\n",
    "        v = l[np.nonzero(l)]\n",
    "        if dim == 0: # X\n",
    "            POSE_MEAN_X[col] = v.mean()\n",
    "            POSE_STD_X[col] = v.std()\n",
    "        if dim == 1: # Y\n",
    "            POSE_MEAN_Y[col] = v.mean()\n",
    "            POSE_STD_Y[col] = v.std()\n",
    "        \n",
    "        axes[dim].boxplot(v, notch=False, showfliers=False, positions=[col], whis=[5,95])\n",
    "        \n",
    "for ax, dim_name in zip(axes, DIM_NAMES):\n",
    "    ax.set_title(f'Pose {dim_name.upper()} Dimension', size=24)\n",
    "    ax.tick_params(axis='x', labelsize=8)\n",
    "    ax.grid(axis='y')\n",
    "\n",
    "plt.subplots_adjust(hspace=0.50)\n",
    "plt.show()\n",
    "\n",
    "POSE_MEAN = np.array([POSE_MEAN_X, POSE_MEAN_Y]).T\n",
    "POSE_STD = np.array([POSE_STD_X, POSE_STD_Y]).T"
   ]
  },
  {
   "cell_type": "markdown",
   "id": "e30701db-0609-4e3f-98c8-aea86cb2ce10",
   "metadata": {
    "pycharm": {
     "name": "#%% md\n"
    }
   },
   "source": [
    "# Landmark Embedding"
   ]
  },
  {
   "cell_type": "code",
   "execution_count": 35,
   "id": "21fb3e77-c0a2-433c-a18a-d53361b651b0",
   "metadata": {
    "pycharm": {
     "name": "#%%\n"
    }
   },
   "outputs": [],
   "source": [
    "class LandmarkEmbedding(tf.keras.Model):\n",
    "    def __init__(self, units, name):\n",
    "        super(LandmarkEmbedding, self).__init__(name=f'{name}_embedding')\n",
    "        self.units = units\n",
    "        \n",
    "    def build(self, input_shape):\n",
    "        # Embedding for missing landmark in frame, initizlied with zeros\n",
    "        self.empty_embedding = self.add_weight(\n",
    "            name=f'{self.name}_empty_embedding',\n",
    "            shape=[self.units],\n",
    "            initializer=INIT_ZEROS,\n",
    "        )\n",
    "        # Embedding\n",
    "        self.dense = tf.keras.Sequential([\n",
    "            tf.keras.layers.Dense(self.units, name=f'{self.name}_dense_1', use_bias=True, kernel_initializer=INIT_GLOROT_UNIFORM, activation=GELU),\n",
    "            tf.keras.layers.Dense(self.units, name=f'{self.name}_dense_2', use_bias=True, kernel_initializer=INIT_HE_UNIFORM),\n",
    "        ], name=f'{self.name}_dense')\n",
    "\n",
    "    def call(self, x):\n",
    "        return tf.where(\n",
    "                # Checks whether landmark is missing in frame\n",
    "                tf.reduce_sum(x, axis=2, keepdims=True) == 0,\n",
    "                # If so, the empty embedding is used\n",
    "                self.empty_embedding,\n",
    "                # Otherwise the landmark data is embedded\n",
    "                self.dense(x),\n",
    "            )"
   ]
  },
  {
   "cell_type": "markdown",
   "id": "e3c44920-8846-468b-a80d-3fdbff39c8f0",
   "metadata": {
    "pycharm": {
     "name": "#%% md\n"
    }
   },
   "source": [
    "## Embedding"
   ]
  },
  {
   "cell_type": "code",
   "execution_count": 36,
   "id": "b6a188eb-0e84-4aae-8689-bd1321c3744a",
   "metadata": {
    "pycharm": {
     "name": "#%%\n"
    }
   },
   "outputs": [],
   "source": [
    "class Embedding(tf.keras.Model):\n",
    "    def __init__(self):\n",
    "        super(Embedding, self).__init__()\n",
    "        \n",
    "    def get_diffs(self, l):\n",
    "        S = l.shape[2]\n",
    "        other = tf.expand_dims(l, 3)\n",
    "        other = tf.repeat(other, S, axis=3)\n",
    "        other = tf.transpose(other, [0,1,3,2])\n",
    "        diffs = tf.expand_dims(l, 3) - other\n",
    "        diffs = tf.reshape(diffs, [-1, INPUT_SIZE, S*S])\n",
    "        return diffs\n",
    "\n",
    "    def build(self, input_shape):\n",
    "        # Positional Embedding, initialized with zeros\n",
    "        self.positional_embedding = tf.keras.layers.Embedding(INPUT_SIZE+1, UNITS, embeddings_initializer=INIT_ZEROS)\n",
    "        self.positional_weight = tf.Variable(1.)\n",
    "        # Embedding layer for Landmarks\n",
    "        self.lips_embedding = LandmarkEmbedding(LIPS_UNITS, 'lips')\n",
    "        self.left_hand_embedding = LandmarkEmbedding(HANDS_UNITS, 'left_hand')\n",
    "        self.right_hand_embedding = LandmarkEmbedding(HANDS_UNITS, 'right_hand')\n",
    "        self.pose_embedding = LandmarkEmbedding(POSE_UNITS, 'pose')\n",
    "        # Landmark Weights\n",
    "        self.landmark_weights = tf.Variable(tf.zeros([4], dtype=tf.float32), name='landmark_weights')\n",
    "        # Fully Connected Layers for combined landmarks\n",
    "        self.fc = tf.keras.Sequential([\n",
    "            tf.keras.layers.Dense(UNITS, name='fully_connected_1', use_bias=False, kernel_initializer=INIT_GLOROT_UNIFORM, activation=GELU),\n",
    "            tf.keras.layers.Dense(UNITS, name='fully_connected_2', use_bias=False, kernel_initializer=INIT_HE_UNIFORM),\n",
    "        ], name='fc')\n",
    "\n",
    "\n",
    "    def call(self, lips0, left_hand0, right_hand0, pose0, non_empty_frame_idxs, training=False):\n",
    "        # Lips\n",
    "        lips_embedding = self.lips_embedding(lips0)\n",
    "        # Left Hand\n",
    "        left_hand_embedding = self.left_hand_embedding(left_hand0)\n",
    "        # Right Hand\n",
    "        right_hand_embedding = self.right_hand_embedding(right_hand0)\n",
    "        # Pose\n",
    "        pose_embedding = self.pose_embedding(pose0)\n",
    "        # Merge Embeddings of all landmarks with mean pooling\n",
    "        x = tf.stack((lips_embedding, left_hand_embedding, right_hand_embedding, pose_embedding), axis=3)\n",
    "        # Merge Landmarks with trainable attention weights\n",
    "        x = x * tf.nn.softmax(self.landmark_weights)\n",
    "        x = tf.reduce_sum(x, axis=3)\n",
    "        # Fully Connected Layers\n",
    "        x = self.fc(x)\n",
    "        # Add Positional Embedding\n",
    "        normalised_non_empty_frame_idxs = tf.where(\n",
    "            tf.math.equal(non_empty_frame_idxs, -1.0),\n",
    "            INPUT_SIZE,\n",
    "            tf.cast(\n",
    "                non_empty_frame_idxs / tf.reduce_max(non_empty_frame_idxs, axis=1, keepdims=True) * INPUT_SIZE,\n",
    "                tf.int32,\n",
    "            ),\n",
    "        )\n",
    "        x = x + self.positional_weight*self.positional_embedding(normalised_non_empty_frame_idxs)\n",
    "        \n",
    "        return x"
   ]
  },
  {
   "cell_type": "code",
   "execution_count": 37,
   "id": "bd5baeb7-8656-4ae9-8657-79f737b864ef",
   "metadata": {
    "pycharm": {
     "name": "#%%\n"
    }
   },
   "outputs": [],
   "source": [
    "def get_model():\n",
    "    # Inputs\n",
    "    frames = tf.keras.layers.Input([INPUT_SIZE, N_COLS, N_DIMS], dtype=tf.float32, name='frames')\n",
    "    non_empty_frame_idxs = tf.keras.layers.Input([INPUT_SIZE], dtype=tf.float32, name='non_empty_frame_idxs')\n",
    "    # Padding Mask\n",
    "    mask = tf.cast(tf.math.not_equal(non_empty_frame_idxs, -1), tf.float32)\n",
    "    mask = tf.expand_dims(mask, axis=2)\n",
    "    \n",
    "    \"\"\"\n",
    "        left_hand: 468:489\n",
    "        pose: 489:522\n",
    "        right_hand: 522:543\n",
    "    \"\"\"\n",
    "    x = frames\n",
    "    x = tf.slice(x, [0,0,0,0], [-1,INPUT_SIZE, N_COLS, 2])\n",
    "    # LIPS\n",
    "    lips = tf.slice(x, [0,0,LIPS_START,0], [-1,INPUT_SIZE, 40, 2])\n",
    "    #lips = tf.where(\n",
    "     #       tf.math.equal(lips, 0.0),\n",
    "      #      0.0,\n",
    "       #     (lips - LIPS_MEAN) / LIPS_STD,\n",
    "        #)\n",
    "    lips = tf.reshape(lips, [-1, INPUT_SIZE, 40*2])\n",
    "    # LEFT HAND\n",
    "    left_hand = tf.slice(x, [0,0,40,0], [-1,INPUT_SIZE, 21, 2])\n",
    "    #left_hand = tf.where(\n",
    "     #       tf.math.equal(left_hand, 0.0),\n",
    "      #      0.0,\n",
    "       #     (left_hand - LEFT_HANDS_MEAN) / LEFT_HANDS_STD,\n",
    "        #)\n",
    "    left_hand = tf.reshape(left_hand, [-1, INPUT_SIZE, 21*2])\n",
    "    # RIGHT HAND\n",
    "    right_hand = tf.slice(x, [0,0,61,0], [-1,INPUT_SIZE, 21, 2])\n",
    "   # right_hand = tf.where(\n",
    "    #        tf.math.equal(right_hand, 0.0),\n",
    "     #       0.0,\n",
    "      #      (right_hand - RIGHT_HANDS_MEAN) / RIGHT_HANDS_STD,\n",
    "       # )\n",
    "    right_hand = tf.reshape(right_hand, [-1, INPUT_SIZE, 21*2])\n",
    "    # POSE\n",
    "    pose = tf.slice(x, [0,0,82,0], [-1,INPUT_SIZE, 10, 2])\n",
    "    #pose = tf.where(\n",
    "     #       tf.math.equal(pose, 0.0),\n",
    "      #      0.0,\n",
    "       #     (pose - POSE_MEAN) / POSE_STD,\n",
    "        #)\n",
    "    pose = tf.reshape(pose, [-1, INPUT_SIZE, 10*2])\n",
    "    \n",
    "    x = lips, left_hand, right_hand, pose\n",
    "        \n",
    "    x = Embedding()(lips, left_hand, right_hand, pose, non_empty_frame_idxs)\n",
    "    \n",
    "    # Encoder Transformer Blocks\n",
    "    x = Transformer(NUM_BLOCKS)(x, mask)\n",
    "    \n",
    "    # Pooling\n",
    "    x = tf.reduce_sum(x * mask, axis=1) / tf.reduce_sum(mask, axis=1)\n",
    "    # Classification Layer\n",
    "    x = tf.keras.layers.Dense(NUM_CLASSES, activation=tf.keras.activations.softmax, kernel_initializer=INIT_GLOROT_UNIFORM)(x)\n",
    "    \n",
    "    outputs = x\n",
    "    \n",
    "    # Create Tensorflow Model\n",
    "    model = tf.keras.models.Model(inputs=[frames, non_empty_frame_idxs], outputs=outputs)\n",
    "    \n",
    "    # Simple Categorical Crossentropy Loss\n",
    "    loss = tf.keras.losses.SparseCategoricalCrossentropy()\n",
    "    \n",
    "    # Adam Optimizer with weight decay\n",
    "    optimizer = tfa.optimizers.AdamW(learning_rate=1e-3, weight_decay=1e-5, clipnorm=1.0)\n",
    "    \n",
    "    # TopK Metrics\n",
    "    metrics = [\n",
    "        tf.keras.metrics.SparseCategoricalAccuracy(name='acc'),\n",
    "        tf.keras.metrics.SparseTopKCategoricalAccuracy(k=5, name='top_5_acc'),\n",
    "        tf.keras.metrics.SparseTopKCategoricalAccuracy(k=10, name='top_10_acc'),\n",
    "    ]\n",
    "    \n",
    "    model.compile(loss=loss, optimizer=optimizer, metrics=metrics)\n",
    "    \n",
    "    return model"
   ]
  },
  {
   "cell_type": "code",
   "execution_count": 38,
   "id": "c1a136e8-8d02-4271-bf8c-b9d1c94f6e4a",
   "metadata": {
    "pycharm": {
     "name": "#%%\n"
    }
   },
   "outputs": [],
   "source": [
    "tf.keras.backend.clear_session()\n",
    "\n",
    "model = get_model()"
   ]
  },
  {
   "cell_type": "code",
   "execution_count": 39,
   "id": "6d2112b7-bd63-4ca7-b126-2e8f871df800",
   "metadata": {
    "pycharm": {
     "name": "#%%\n"
    }
   },
   "outputs": [
    {
     "name": "stdout",
     "output_type": "stream",
     "text": [
      "Model: \"model\"\n",
      "__________________________________________________________________________________________________\n",
      " Layer (type)                   Output Shape         Param #     Connected to                     \n",
      "==================================================================================================\n",
      " frames (InputLayer)            [(None, 32, 92, 3)]  0           []                               \n",
      "                                                                                                  \n",
      " tf.slice (TFOpLambda)          (None, 32, 92, 2)    0           ['frames[0][0]']                 \n",
      "                                                                                                  \n",
      " non_empty_frame_idxs (InputLay  [(None, 32)]        0           []                               \n",
      " er)                                                                                              \n",
      "                                                                                                  \n",
      " tf.slice_1 (TFOpLambda)        (None, 32, 40, 2)    0           ['tf.slice[0][0]']               \n",
      "                                                                                                  \n",
      " tf.slice_2 (TFOpLambda)        (None, 32, 21, 2)    0           ['tf.slice[0][0]']               \n",
      "                                                                                                  \n",
      " tf.slice_3 (TFOpLambda)        (None, 32, 21, 2)    0           ['tf.slice[0][0]']               \n",
      "                                                                                                  \n",
      " tf.slice_4 (TFOpLambda)        (None, 32, 10, 2)    0           ['tf.slice[0][0]']               \n",
      "                                                                                                  \n",
      " tf.math.not_equal (TFOpLambda)  (None, 32)          0           ['non_empty_frame_idxs[0][0]']   \n",
      "                                                                                                  \n",
      " tf.reshape (TFOpLambda)        (None, 32, 80)       0           ['tf.slice_1[0][0]']             \n",
      "                                                                                                  \n",
      " tf.reshape_1 (TFOpLambda)      (None, 32, 42)       0           ['tf.slice_2[0][0]']             \n",
      "                                                                                                  \n",
      " tf.reshape_2 (TFOpLambda)      (None, 32, 42)       0           ['tf.slice_3[0][0]']             \n",
      "                                                                                                  \n",
      " tf.reshape_3 (TFOpLambda)      (None, 32, 20)       0           ['tf.slice_4[0][0]']             \n",
      "                                                                                                  \n",
      " tf.cast (TFOpLambda)           (None, 32)           0           ['tf.math.not_equal[0][0]']      \n",
      "                                                                                                  \n",
      " embedding (Embedding)          (None, 32, 384)      972677      ['tf.reshape[0][0]',             \n",
      "                                                                  'tf.reshape_1[0][0]',           \n",
      "                                                                  'tf.reshape_2[0][0]',           \n",
      "                                                                  'tf.reshape_3[0][0]',           \n",
      "                                                                  'non_empty_frame_idxs[0][0]']   \n",
      "                                                                                                  \n",
      " tf.expand_dims (TFOpLambda)    (None, 32, 1)        0           ['tf.cast[0][0]']                \n",
      "                                                                                                  \n",
      " transformer (Transformer)      (None, 32, 384)      4735488     ['embedding[0][0]',              \n",
      "                                                                  'tf.expand_dims[0][0]']         \n",
      "                                                                                                  \n",
      " tf.math.multiply (TFOpLambda)  (None, 32, 384)      0           ['transformer[0][0]',            \n",
      "                                                                  'tf.expand_dims[0][0]']         \n",
      "                                                                                                  \n",
      " tf.math.reduce_sum (TFOpLambda  (None, 384)         0           ['tf.math.multiply[0][0]']       \n",
      " )                                                                                                \n",
      "                                                                                                  \n",
      " tf.math.reduce_sum_1 (TFOpLamb  (None, 1)           0           ['tf.expand_dims[0][0]']         \n",
      " da)                                                                                              \n",
      "                                                                                                  \n",
      " tf.math.truediv (TFOpLambda)   (None, 384)          0           ['tf.math.reduce_sum[0][0]',     \n",
      "                                                                  'tf.math.reduce_sum_1[0][0]']   \n",
      "                                                                                                  \n",
      " dense (Dense)                  (None, 250)          96250       ['tf.math.truediv[0][0]']        \n",
      "                                                                                                  \n",
      "==================================================================================================\n",
      "Total params: 5,804,415\n",
      "Trainable params: 5,804,415\n",
      "Non-trainable params: 0\n",
      "__________________________________________________________________________________________________\n"
     ]
    }
   ],
   "source": [
    "model.summary()"
   ]
  },
  {
   "cell_type": "markdown",
   "id": "f16feb63-3718-47a3-bd8e-d904d12b055e",
   "metadata": {
    "pycharm": {
     "name": "#%% md\n"
    }
   },
   "source": [
    "# Lr-Scheduler"
   ]
  },
  {
   "cell_type": "code",
   "execution_count": 41,
   "id": "238354f1-c1d8-488b-b994-4cb307642b62",
   "metadata": {
    "pycharm": {
     "name": "#%%\n"
    }
   },
   "outputs": [],
   "source": [
    "def lrfn(current_step, num_warmup_steps, lr_max, num_cycles=0.50, num_training_steps=N_EPOCHS):\n",
    "    \n",
    "    if current_step < num_warmup_steps:\n",
    "        if WARMUP_METHOD == 'log':\n",
    "            return lr_max * 0.10 ** (num_warmup_steps - current_step)\n",
    "        else:\n",
    "            return lr_max * 2 ** -(num_warmup_steps - current_step)\n",
    "    else:\n",
    "        progress = float(current_step - num_warmup_steps) / float(max(1, num_training_steps - num_warmup_steps))\n",
    "\n",
    "        return max(0.0, 0.5 * (1.0 + math.cos(math.pi * float(num_cycles) * 2.0 * progress))) * lr_max"
   ]
  },
  {
   "cell_type": "code",
   "execution_count": 44,
   "id": "a837acee-fd89-41cd-b476-b361616493a2",
   "metadata": {
    "pycharm": {
     "name": "#%%\n"
    }
   },
   "outputs": [
    {
     "data": {
      "image/png": "[encoded data removed]",
      "text/plain": [
       "<Figure size 2000x1000 with 1 Axes>"
      ]
     },
     "metadata": {},
     "output_type": "display_data"
    }
   ],
   "source": [
    "def plot_lr_schedule(lr_schedule, epochs):\n",
    "    fig = plt.figure(figsize=(20, 10))\n",
    "    plt.plot([None] + lr_schedule + [None])\n",
    "    # X Labels\n",
    "    x = np.arange(1, epochs + 1)\n",
    "    x_axis_labels = [i if epochs <= 40 or i % 5 == 0 or i == 1 else None for i in range(1, epochs + 1)]\n",
    "    plt.xlim([1, epochs])\n",
    "    plt.xticks(x, x_axis_labels) # set tick step to 1 and let x axis start at 1\n",
    "    \n",
    "    # Increase y-limit for better readability\n",
    "    plt.ylim([0, max(lr_schedule) * 1.1])\n",
    "    \n",
    "    # Title\n",
    "    schedule_info = f'start: {lr_schedule[0]:.1E}, max: {max(lr_schedule):.1E}, final: {lr_schedule[-1]:.1E}'\n",
    "    plt.title(f'Step Learning Rate Schedule, {schedule_info}', size=18, pad=12)\n",
    "    \n",
    "    # Plot Learning Rates\n",
    "    for x, val in enumerate(lr_schedule):\n",
    "        if epochs <= 40 or x % 5 == 0 or x is epochs - 1:\n",
    "            if x < len(lr_schedule) - 1:\n",
    "                if lr_schedule[x - 1] < val:\n",
    "                    ha = 'right'\n",
    "                else:\n",
    "                    ha = 'left'\n",
    "            elif x == 0:\n",
    "                ha = 'right'\n",
    "            else:\n",
    "                ha = 'left'\n",
    "            plt.plot(x + 1, val, 'o', color='black');\n",
    "            offset_y = (max(lr_schedule) - min(lr_schedule)) * 0.02\n",
    "            plt.annotate(f'{val:.1E}', xy=(x + 1, val + offset_y), size=12, ha=ha)\n",
    "    \n",
    "    plt.xlabel('Epoch', size=16, labelpad=5)\n",
    "    plt.ylabel('Learning Rate', size=16, labelpad=5)\n",
    "    plt.grid()\n",
    "    plt.show()\n",
    "\n",
    "# Learning rate for encoder\n",
    "LR_SCHEDULE = [lrfn(step, num_warmup_steps=N_WARMUP_EPOCHS, lr_max=LR_MAX, num_cycles=0.50) for step in range(N_EPOCHS)]\n",
    "# Plot Learning Rate Schedule\n",
    "plot_lr_schedule(LR_SCHEDULE, epochs=N_EPOCHS)\n",
    "# Learning Rate Callback\n",
    "lr_callback = tf.keras.callbacks.LearningRateScheduler(lambda step: LR_SCHEDULE[step], verbose=1)"
   ]
  },
  {
   "cell_type": "markdown",
   "id": "87b21049-c882-4ff9-9313-27ea2f891c28",
   "metadata": {
    "pycharm": {
     "name": "#%% md\n"
    }
   },
   "source": [
    "# Callbacks"
   ]
  },
  {
   "cell_type": "code",
   "execution_count": 43,
   "id": "87808199-2bc4-4a4e-8c53-fc3baec8552e",
   "metadata": {
    "pycharm": {
     "name": "#%%\n"
    }
   },
   "outputs": [],
   "source": [
    "# Custom callback to update weight decay with learning rate\n",
    "class WeightDecayCallback(tf.keras.callbacks.Callback):\n",
    "    def __init__(self, wd_ratio=WD_RATIO):\n",
    "        self.step_counter = 0\n",
    "        self.wd_ratio = wd_ratio\n",
    "    \n",
    "    def on_epoch_begin(self, epoch, logs=None):\n",
    "        model.optimizer.weight_decay = model.optimizer.learning_rate * self.wd_ratio\n",
    "        print(f'learning rate: {model.optimizer.learning_rate.numpy():.2e}, weight decay: {model.optimizer.weight_decay.numpy():.2e}')"
   ]
  },
  {
   "cell_type": "code",
   "execution_count": null,
   "id": "72561ef6-e1f7-44ec-bd6c-c74775503928",
   "metadata": {
    "pycharm": {
     "name": "#%%\n"
    }
   },
   "outputs": [],
   "source": []
  },
  {
   "cell_type": "markdown",
   "id": "bca83cd3-0e74-4e9d-bb97-279951376e18",
   "metadata": {
    "pycharm": {
     "name": "#%% md\n"
    }
   },
   "source": [
    "# Model Training"
   ]
  },
  {
   "cell_type": "code",
   "execution_count": 46,
   "id": "7768d571-cd4e-4e71-95b0-eada8c79c1c6",
   "metadata": {
    "pycharm": {
     "name": "#%%\n"
    }
   },
   "outputs": [
    {
     "name": "stdout",
     "output_type": "stream",
     "text": [
      "38.1 ms ± 15 ms per loop (mean ± std. dev. of 7 runs, 100 loops each)\n"
     ]
    }
   ],
   "source": [
    "%%timeit -n 100\n",
    "if TRAIN_MODEL:\n",
    "    # Verify model prediction is <<<100ms\n",
    "    model.predict_on_batch({ 'frames': X[:1], 'non_empty_frame_idxs': Non_empty_Frame_idxs[:1] })\n",
    "    pass"
   ]
  },
  {
   "cell_type": "code",
   "execution_count": 47,
   "id": "1907a74f-61dd-4f64-9f31-61549c973be6",
   "metadata": {
    "pycharm": {
     "name": "#%%\n"
    }
   },
   "outputs": [
    {
     "data": {
      "text/plain": [
       "4"
      ]
     },
     "execution_count": 47,
     "metadata": {},
     "output_type": "execute_result"
    }
   ],
   "source": []
  },
  {
   "cell_type": "code",
   "execution_count": 56,
   "id": "10d708ba-af21-4e4c-bc53-4f8bab749a82",
   "metadata": {
    "pycharm": {
     "name": "#%%\n"
    }
   },
   "outputs": [
    {
     "name": "stdout",
     "output_type": "stream",
     "text": [
      "Model: \"model\"\n",
      "__________________________________________________________________________________________________\n",
      " Layer (type)                   Output Shape         Param #     Connected to                     \n",
      "==================================================================================================\n",
      " frames (InputLayer)            [(None, 32, 92, 3)]  0           []                               \n",
      "                                                                                                  \n",
      " tf.slice (TFOpLambda)          (None, 32, 92, 2)    0           ['frames[0][0]']                 \n",
      "                                                                                                  \n",
      " non_empty_frame_idxs (InputLay  [(None, 32)]        0           []                               \n",
      " er)                                                                                              \n",
      "                                                                                                  \n",
      " tf.slice_1 (TFOpLambda)        (None, 32, 40, 2)    0           ['tf.slice[0][0]']               \n",
      "                                                                                                  \n",
      " tf.slice_2 (TFOpLambda)        (None, 32, 21, 2)    0           ['tf.slice[0][0]']               \n",
      "                                                                                                  \n",
      " tf.slice_3 (TFOpLambda)        (None, 32, 21, 2)    0           ['tf.slice[0][0]']               \n",
      "                                                                                                  \n",
      " tf.slice_4 (TFOpLambda)        (None, 32, 10, 2)    0           ['tf.slice[0][0]']               \n",
      "                                                                                                  \n",
      " tf.math.not_equal (TFOpLambda)  (None, 32)          0           ['non_empty_frame_idxs[0][0]']   \n",
      "                                                                                                  \n",
      " tf.reshape (TFOpLambda)        (None, 32, 80)       0           ['tf.slice_1[0][0]']             \n",
      "                                                                                                  \n",
      " tf.reshape_1 (TFOpLambda)      (None, 32, 42)       0           ['tf.slice_2[0][0]']             \n",
      "                                                                                                  \n",
      " tf.reshape_2 (TFOpLambda)      (None, 32, 42)       0           ['tf.slice_3[0][0]']             \n",
      "                                                                                                  \n",
      " tf.reshape_3 (TFOpLambda)      (None, 32, 20)       0           ['tf.slice_4[0][0]']             \n",
      "                                                                                                  \n",
      " tf.cast (TFOpLambda)           (None, 32)           0           ['tf.math.not_equal[0][0]']      \n",
      "                                                                                                  \n",
      " embedding (Embedding)          (None, 32, 384)      972677      ['tf.reshape[0][0]',             \n",
      "                                                                  'tf.reshape_1[0][0]',           \n",
      "                                                                  'tf.reshape_2[0][0]',           \n",
      "                                                                  'tf.reshape_3[0][0]',           \n",
      "                                                                  'non_empty_frame_idxs[0][0]']   \n",
      "                                                                                                  \n",
      " tf.expand_dims (TFOpLambda)    (None, 32, 1)        0           ['tf.cast[0][0]']                \n",
      "                                                                                                  \n",
      " transformer (Transformer)      (None, 32, 384)      4735488     ['embedding[0][0]',              \n",
      "                                                                  'tf.expand_dims[0][0]']         \n",
      "                                                                                                  \n",
      " tf.math.multiply (TFOpLambda)  (None, 32, 384)      0           ['transformer[0][0]',            \n",
      "                                                                  'tf.expand_dims[0][0]']         \n",
      "                                                                                                  \n",
      " tf.math.reduce_sum (TFOpLambda  (None, 384)         0           ['tf.math.multiply[0][0]']       \n",
      " )                                                                                                \n",
      "                                                                                                  \n",
      " tf.math.reduce_sum_1 (TFOpLamb  (None, 1)           0           ['tf.expand_dims[0][0]']         \n",
      " da)                                                                                              \n",
      "                                                                                                  \n",
      " tf.math.truediv (TFOpLambda)   (None, 384)          0           ['tf.math.reduce_sum[0][0]',     \n",
      "                                                                  'tf.math.reduce_sum_1[0][0]']   \n",
      "                                                                                                  \n",
      " dense (Dense)                  (None, 250)          96250       ['tf.math.truediv[0][0]']        \n",
      "                                                                                                  \n",
      "==================================================================================================\n",
      "Total params: 5,804,415\n",
      "Trainable params: 5,804,415\n",
      "Non-trainable params: 0\n",
      "__________________________________________________________________________________________________\n",
      "\n",
      "Epoch 1: LearningRateScheduler setting learning rate to 0.001.\n",
      "learning rate: 1.00e-03, weight decay: 5.00e-05\n",
      "Epoch 1/160\n",
      "94/94 [==============================] - 65s 511ms/step - loss: 5.6396 - acc: 0.0055 - top_5_acc: 0.0268 - top_10_acc: 0.0533 - lr: 0.0010\n",
      "\n",
      "Epoch 2: LearningRateScheduler setting learning rate to 0.0009999036202410325.\n",
      "learning rate: 1.00e-03, weight decay: 5.00e-05\n",
      "Epoch 2/160\n",
      "94/94 [==============================] - 48s 510ms/step - loss: 5.1801 - acc: 0.0138 - top_5_acc: 0.0648 - top_10_acc: 0.1221 - lr: 9.9990e-04\n",
      "\n",
      "Epoch 3: LearningRateScheduler setting learning rate to 0.0009996145181203615.\n",
      "learning rate: 1.00e-03, weight decay: 5.00e-05\n",
      "Epoch 3/160\n",
      "94/94 [==============================] - 47s 499ms/step - loss: 5.0732 - acc: 0.0187 - top_5_acc: 0.0828 - top_10_acc: 0.1517 - lr: 9.9961e-04\n",
      "\n",
      "Epoch 4: LearningRateScheduler setting learning rate to 0.000999132805092358.\n",
      "learning rate: 9.99e-04, weight decay: 5.00e-05\n",
      "Epoch 4/160\n",
      "94/94 [==============================] - 47s 505ms/step - loss: 5.1090 - acc: 0.0204 - top_5_acc: 0.0863 - top_10_acc: 0.1551 - lr: 9.9913e-04\n",
      "\n",
      "Epoch 5: LearningRateScheduler setting learning rate to 0.000998458666866564.\n",
      "learning rate: 9.98e-04, weight decay: 4.99e-05\n",
      "Epoch 5/160\n",
      "94/94 [==============================] - 48s 508ms/step - loss: 4.9674 - acc: 0.0270 - top_5_acc: 0.1099 - top_10_acc: 0.1907 - lr: 9.9846e-04\n",
      "\n",
      "Epoch 6: LearningRateScheduler setting learning rate to 0.0009975923633360985.\n",
      "learning rate: 9.98e-04, weight decay: 4.99e-05\n",
      "Epoch 6/160\n",
      "94/94 [==============================] - 48s 508ms/step - loss: 5.0056 - acc: 0.0253 - top_5_acc: 0.1051 - top_10_acc: 0.1829 - lr: 9.9759e-04\n",
      "\n",
      "Epoch 7: LearningRateScheduler setting learning rate to 0.0009965342284774632.\n",
      "learning rate: 9.97e-04, weight decay: 4.98e-05\n",
      "Epoch 7/160\n",
      "94/94 [==============================] - 48s 509ms/step - loss: 4.8297 - acc: 0.0352 - top_5_acc: 0.1381 - top_10_acc: 0.2334 - lr: 9.9653e-04\n",
      "\n",
      "Epoch 8: LearningRateScheduler setting learning rate to 0.0009952846702217886.\n",
      "learning rate: 9.95e-04, weight decay: 4.98e-05\n",
      "Epoch 8/160\n",
      "94/94 [==============================] - 48s 509ms/step - loss: 4.7219 - acc: 0.0419 - top_5_acc: 0.1599 - top_10_acc: 0.2648 - lr: 9.9528e-04\n",
      "\n",
      "Epoch 9: LearningRateScheduler setting learning rate to 0.0009938441702975688.\n",
      "learning rate: 9.94e-04, weight decay: 4.97e-05\n",
      "Epoch 9/160\n",
      "94/94 [==============================] - 48s 508ms/step - loss: 4.8664 - acc: 0.0359 - top_5_acc: 0.1370 - top_10_acc: 0.2278 - lr: 9.9384e-04\n",
      "\n",
      "Epoch 10: LearningRateScheduler setting learning rate to 0.0009922132840449458.\n",
      "learning rate: 9.92e-04, weight decay: 4.96e-05\n",
      "Epoch 10/160\n",
      "94/94 [==============================] - 48s 508ms/step - loss: 4.5362 - acc: 0.0557 - top_5_acc: 0.2008 - top_10_acc: 0.3193 - lr: 9.9221e-04\n",
      "\n",
      "Epoch 11: LearningRateScheduler setting learning rate to 0.0009903926402016153.\n",
      "learning rate: 9.90e-04, weight decay: 4.95e-05\n",
      "Epoch 11/160\n",
      "94/94 [==============================] - 48s 507ms/step - loss: 4.5870 - acc: 0.0529 - top_5_acc: 0.1921 - top_10_acc: 0.3086 - lr: 9.9039e-04\n",
      "\n",
      "Epoch 12: LearningRateScheduler setting learning rate to 0.0009883829406604362.\n",
      "learning rate: 9.88e-04, weight decay: 4.94e-05\n",
      "Epoch 12/160\n",
      "94/94 [==============================] - 48s 508ms/step - loss: 4.5054 - acc: 0.0572 - top_5_acc: 0.2093 - top_10_acc: 0.3326 - lr: 9.8838e-04\n",
      "\n",
      "Epoch 13: LearningRateScheduler setting learning rate to 0.0009861849601988384.\n",
      "learning rate: 9.86e-04, weight decay: 4.93e-05\n",
      "Epoch 13/160\n",
      "94/94 [==============================] - 48s 508ms/step - loss: 4.3594 - acc: 0.0703 - top_5_acc: 0.2421 - top_10_acc: 0.3750 - lr: 9.8618e-04\n",
      "\n",
      "Epoch 14: LearningRateScheduler setting learning rate to 0.0009837995461801298.\n",
      "learning rate: 9.84e-04, weight decay: 4.92e-05\n",
      "Epoch 14/160\n",
      "94/94 [==============================] - 48s 510ms/step - loss: 4.3164 - acc: 0.0753 - top_5_acc: 0.2525 - top_10_acc: 0.3857 - lr: 9.8380e-04\n",
      "\n",
      "Epoch 15: LearningRateScheduler setting learning rate to 0.0009812276182268236.\n",
      "learning rate: 9.81e-04, weight decay: 4.91e-05\n",
      "Epoch 15/160\n",
      "94/94 [==============================] - 48s 509ms/step - loss: 4.4887 - acc: 0.0659 - top_5_acc: 0.2233 - top_10_acc: 0.3420 - lr: 9.8123e-04\n",
      "\n",
      "Epoch 16: LearningRateScheduler setting learning rate to 0.0009784701678661044.\n",
      "learning rate: 9.78e-04, weight decay: 4.89e-05\n",
      "Epoch 16/160\n",
      "94/94 [==============================] - 48s 509ms/step - loss: 4.9384 - acc: 0.0283 - top_5_acc: 0.1180 - top_10_acc: 0.2022 - lr: 9.7847e-04\n",
      "\n",
      "Epoch 17: LearningRateScheduler setting learning rate to 0.0009755282581475768.\n",
      "learning rate: 9.76e-04, weight decay: 4.88e-05\n",
      "Epoch 17/160\n",
      "94/94 [==============================] - 48s 510ms/step - loss: 4.9848 - acc: 0.0258 - top_5_acc: 0.1111 - top_10_acc: 0.1944 - lr: 9.7553e-04\n",
      "\n",
      "Epoch 18: LearningRateScheduler setting learning rate to 0.0009724030232334391.\n",
      "learning rate: 9.72e-04, weight decay: 4.86e-05\n",
      "Epoch 18/160\n",
      "94/94 [==============================] - 48s 509ms/step - loss: 4.5265 - acc: 0.0503 - top_5_acc: 0.1946 - top_10_acc: 0.3192 - lr: 9.7240e-04\n",
      "\n",
      "Epoch 19: LearningRateScheduler setting learning rate to 0.0009690956679612422.\n",
      "learning rate: 9.69e-04, weight decay: 4.85e-05\n",
      "Epoch 19/160\n",
      "94/94 [==============================] - 48s 508ms/step - loss: 4.9635 - acc: 0.0283 - top_5_acc: 0.1183 - top_10_acc: 0.2041 - lr: 9.6910e-04\n",
      "\n",
      "Epoch 20: LearningRateScheduler setting learning rate to 0.0009656074673794017.\n",
      "learning rate: 9.66e-04, weight decay: 4.83e-05\n",
      "Epoch 20/160\n",
      "94/94 [==============================] - 48s 509ms/step - loss: 4.5247 - acc: 0.0532 - top_5_acc: 0.2017 - top_10_acc: 0.3254 - lr: 9.6561e-04\n",
      "\n",
      "Epoch 21: LearningRateScheduler setting learning rate to 0.0009619397662556434.\n",
      "learning rate: 9.62e-04, weight decay: 4.81e-05\n",
      "Epoch 21/160\n",
      "94/94 [==============================] - 48s 509ms/step - loss: 4.3480 - acc: 0.0713 - top_5_acc: 0.2503 - top_10_acc: 0.3835 - lr: 9.6194e-04\n",
      "\n",
      "Epoch 22: LearningRateScheduler setting learning rate to 0.0009580939785585681.\n",
      "learning rate: 9.58e-04, weight decay: 4.79e-05\n",
      "Epoch 22/160\n",
      "94/94 [==============================] - 48s 508ms/step - loss: 4.3735 - acc: 0.0711 - top_5_acc: 0.2443 - top_10_acc: 0.3782 - lr: 9.5809e-04\n",
      "\n",
      "Epoch 23: LearningRateScheduler setting learning rate to 0.0009540715869125407.\n",
      "learning rate: 9.54e-04, weight decay: 4.77e-05\n",
      "Epoch 23/160\n",
      "94/94 [==============================] - 48s 510ms/step - loss: 4.4151 - acc: 0.0691 - top_5_acc: 0.2393 - top_10_acc: 0.3662 - lr: 9.5407e-04\n",
      "\n",
      "Epoch 24: LearningRateScheduler setting learning rate to 0.0009498741420261108.\n",
      "learning rate: 9.50e-04, weight decay: 4.75e-05\n",
      "Epoch 24/160\n",
      "94/94 [==============================] - 48s 510ms/step - loss: 4.3845 - acc: 0.0696 - top_5_acc: 0.2416 - top_10_acc: 0.3724 - lr: 9.4987e-04\n",
      "\n",
      "Epoch 25: LearningRateScheduler setting learning rate to 0.0009455032620941839.\n",
      "learning rate: 9.46e-04, weight decay: 4.73e-05\n",
      "Epoch 25/160\n",
      "94/94 [==============================] - 48s 509ms/step - loss: 4.3393 - acc: 0.0776 - top_5_acc: 0.2561 - top_10_acc: 0.3873 - lr: 9.4550e-04\n",
      "\n",
      "Epoch 26: LearningRateScheduler setting learning rate to 0.0009409606321741775.\n",
      "learning rate: 9.41e-04, weight decay: 4.70e-05\n",
      "Epoch 26/160\n",
      "94/94 [==============================] - 48s 508ms/step - loss: 4.0978 - acc: 0.1021 - top_5_acc: 0.3153 - top_10_acc: 0.4572 - lr: 9.4096e-04\n",
      "\n",
      "Epoch 27: LearningRateScheduler setting learning rate to 0.0009362480035363986.\n",
      "learning rate: 9.36e-04, weight decay: 4.68e-05\n",
      "Epoch 27/160\n",
      "94/94 [==============================] - 48s 508ms/step - loss: 4.3600 - acc: 0.0769 - top_5_acc: 0.2545 - top_10_acc: 0.3843 - lr: 9.3625e-04\n",
      "\n",
      "Epoch 28: LearningRateScheduler setting learning rate to 0.0009313671929888959.\n",
      "learning rate: 9.31e-04, weight decay: 4.66e-05\n",
      "Epoch 28/160\n",
      "94/94 [==============================] - 48s 510ms/step - loss: 4.3506 - acc: 0.0779 - top_5_acc: 0.2559 - top_10_acc: 0.3868 - lr: 9.3137e-04\n",
      "\n",
      "Epoch 29: LearningRateScheduler setting learning rate to 0.0009263200821770461.\n",
      "learning rate: 9.26e-04, weight decay: 4.63e-05\n",
      "Epoch 29/160\n",
      "94/94 [==============================] - 48s 510ms/step - loss: 4.0572 - acc: 0.1056 - top_5_acc: 0.3249 - top_10_acc: 0.4675 - lr: 9.2632e-04\n",
      "\n",
      "Epoch 30: LearningRateScheduler setting learning rate to 0.0009211086168581433.\n",
      "learning rate: 9.21e-04, weight decay: 4.61e-05\n",
      "Epoch 30/160\n",
      "94/94 [==============================] - 48s 510ms/step - loss: 4.0170 - acc: 0.1120 - top_5_acc: 0.3351 - top_10_acc: 0.4815 - lr: 9.2111e-04\n",
      "\n",
      "Epoch 31: LearningRateScheduler setting learning rate to 0.0009157348061512727.\n",
      "learning rate: 9.16e-04, weight decay: 4.58e-05\n",
      "Epoch 31/160\n",
      "94/94 [==============================] - 48s 509ms/step - loss: 3.9641 - acc: 0.1189 - top_5_acc: 0.3492 - top_10_acc: 0.4937 - lr: 9.1573e-04\n",
      "\n",
      "Epoch 32: LearningRateScheduler setting learning rate to 0.0009102007217627568.\n",
      "learning rate: 9.10e-04, weight decay: 4.55e-05\n",
      "Epoch 32/160\n",
      "94/94 [==============================] - 48s 510ms/step - loss: 3.8587 - acc: 0.1341 - top_5_acc: 0.3767 - top_10_acc: 0.5241 - lr: 9.1020e-04\n",
      "\n",
      "Epoch 33: LearningRateScheduler setting learning rate to 0.0009045084971874737.\n",
      "learning rate: 9.05e-04, weight decay: 4.52e-05\n",
      "Epoch 33/160\n",
      "94/94 [==============================] - 48s 510ms/step - loss: 3.8320 - acc: 0.1350 - top_5_acc: 0.3816 - top_10_acc: 0.5285 - lr: 9.0451e-04\n",
      "\n",
      "Epoch 34: LearningRateScheduler setting learning rate to 0.0008986603268863536.\n",
      "learning rate: 8.99e-04, weight decay: 4.49e-05\n",
      "Epoch 34/160\n",
      "94/94 [==============================] - 48s 509ms/step - loss: 4.0271 - acc: 0.1094 - top_5_acc: 0.3313 - top_10_acc: 0.4764 - lr: 8.9866e-04\n",
      "\n",
      "Epoch 35: LearningRateScheduler setting learning rate to 0.0008926584654403724.\n",
      "learning rate: 8.93e-04, weight decay: 4.46e-05\n",
      "Epoch 35/160\n",
      "94/94 [==============================] - 48s 510ms/step - loss: 4.0914 - acc: 0.1029 - top_5_acc: 0.3151 - top_10_acc: 0.4581 - lr: 8.9266e-04\n",
      "\n",
      "Epoch 36: LearningRateScheduler setting learning rate to 0.0008865052266813684.\n",
      "learning rate: 8.87e-04, weight decay: 4.43e-05\n",
      "Epoch 36/160\n",
      "94/94 [==============================] - 48s 510ms/step - loss: 3.8641 - acc: 0.1310 - top_5_acc: 0.3755 - top_10_acc: 0.5222 - lr: 8.8651e-04\n",
      "\n",
      "Epoch 37: LearningRateScheduler setting learning rate to 0.0008802029828000156.\n",
      "learning rate: 8.80e-04, weight decay: 4.40e-05\n",
      "Epoch 37/160\n",
      "94/94 [==============================] - 48s 509ms/step - loss: 4.0708 - acc: 0.1075 - top_5_acc: 0.3225 - top_10_acc: 0.4651 - lr: 8.8020e-04\n",
      "\n",
      "Epoch 38: LearningRateScheduler setting learning rate to 0.0008737541634312985.\n",
      "learning rate: 8.74e-04, weight decay: 4.37e-05\n",
      "Epoch 38/160\n",
      "94/94 [==============================] - 48s 508ms/step - loss: 3.8977 - acc: 0.1293 - top_5_acc: 0.3672 - top_10_acc: 0.5130 - lr: 8.7375e-04\n",
      "\n",
      "Epoch 39: LearningRateScheduler setting learning rate to 0.0008671612547178428.\n",
      "learning rate: 8.67e-04, weight decay: 4.34e-05\n",
      "Epoch 39/160\n",
      "94/94 [==============================] - 48s 509ms/step - loss: 3.7603 - acc: 0.1483 - top_5_acc: 0.4016 - top_10_acc: 0.5475 - lr: 8.6716e-04\n",
      "\n",
      "Epoch 40: LearningRateScheduler setting learning rate to 0.0008604267983514594.\n",
      "learning rate: 8.60e-04, weight decay: 4.30e-05\n",
      "Epoch 40/160\n",
      "94/94 [==============================] - 48s 511ms/step - loss: 3.7199 - acc: 0.1533 - top_5_acc: 0.4131 - top_10_acc: 0.5588 - lr: 8.6043e-04\n",
      "\n",
      "Epoch 41: LearningRateScheduler setting learning rate to 0.0008535533905932737.\n",
      "learning rate: 8.54e-04, weight decay: 4.27e-05\n",
      "Epoch 41/160\n",
      "94/94 [==============================] - 47s 503ms/step - loss: 3.8376 - acc: 0.1387 - top_5_acc: 0.3826 - top_10_acc: 0.5267 - lr: 8.5355e-04\n",
      "\n",
      "Epoch 42: LearningRateScheduler setting learning rate to 0.000846543681272818.\n",
      "learning rate: 8.47e-04, weight decay: 4.23e-05\n",
      "Epoch 42/160\n",
      "94/94 [==============================] - 48s 508ms/step - loss: 3.7804 - acc: 0.1440 - top_5_acc: 0.3941 - top_10_acc: 0.5405 - lr: 8.4654e-04\n",
      "\n",
      "Epoch 43: LearningRateScheduler setting learning rate to 0.0008394003727664709.\n",
      "learning rate: 8.39e-04, weight decay: 4.20e-05\n",
      "Epoch 43/160\n",
      "94/94 [==============================] - 48s 507ms/step - loss: 3.8840 - acc: 0.1341 - top_5_acc: 0.3707 - top_10_acc: 0.5155 - lr: 8.3940e-04\n",
      "\n",
      "Epoch 44: LearningRateScheduler setting learning rate to 0.0008321262189556409.\n",
      "learning rate: 8.32e-04, weight decay: 4.16e-05\n",
      "Epoch 44/160\n",
      "94/94 [==============================] - 48s 508ms/step - loss: 3.7311 - acc: 0.1529 - top_5_acc: 0.4124 - top_10_acc: 0.5573 - lr: 8.3213e-04\n",
      "\n",
      "Epoch 45: LearningRateScheduler setting learning rate to 0.0008247240241650918.\n",
      "learning rate: 8.25e-04, weight decay: 4.12e-05\n",
      "Epoch 45/160\n",
      "94/94 [==============================] - 48s 508ms/step - loss: 3.8743 - acc: 0.1342 - top_5_acc: 0.3734 - top_10_acc: 0.5193 - lr: 8.2472e-04\n",
      "\n",
      "Epoch 46: LearningRateScheduler setting learning rate to 0.0008171966420818228.\n",
      "learning rate: 8.17e-04, weight decay: 4.09e-05\n",
      "Epoch 46/160\n",
      "94/94 [==============================] - 48s 508ms/step - loss: 3.7972 - acc: 0.1474 - top_5_acc: 0.3954 - top_10_acc: 0.5388 - lr: 8.1720e-04\n",
      "\n",
      "Epoch 47: LearningRateScheduler setting learning rate to 0.0008095469746549171.\n",
      "learning rate: 8.10e-04, weight decay: 4.05e-05\n",
      "Epoch 47/160\n",
      "94/94 [==============================] - 48s 509ms/step - loss: 4.0931 - acc: 0.1112 - top_5_acc: 0.3223 - top_10_acc: 0.4598 - lr: 8.0955e-04\n",
      "\n",
      "Epoch 48: LearningRateScheduler setting learning rate to 0.0008017779709767858.\n",
      "learning rate: 8.02e-04, weight decay: 4.01e-05\n",
      "Epoch 48/160\n",
      "94/94 [==============================] - 48s 506ms/step - loss: 3.5660 - acc: 0.1792 - top_5_acc: 0.4522 - top_10_acc: 0.5960 - lr: 8.0178e-04\n",
      "\n",
      "Epoch 49: LearningRateScheduler setting learning rate to 0.0007938926261462366.\n",
      "learning rate: 7.94e-04, weight decay: 3.97e-05\n",
      "Epoch 49/160\n",
      "94/94 [==============================] - 47s 505ms/step - loss: 3.4914 - acc: 0.1908 - top_5_acc: 0.4692 - top_10_acc: 0.6118 - lr: 7.9389e-04\n",
      "\n",
      "Epoch 50: LearningRateScheduler setting learning rate to 0.000785893980113806.\n",
      "learning rate: 7.86e-04, weight decay: 3.93e-05\n",
      "Epoch 50/160\n",
      "94/94 [==============================] - 47s 505ms/step - loss: 3.5629 - acc: 0.1784 - top_5_acc: 0.4496 - top_10_acc: 0.5953 - lr: 7.8589e-04\n",
      "\n",
      "Epoch 51: LearningRateScheduler setting learning rate to 0.0007777851165098011.\n",
      "learning rate: 7.78e-04, weight decay: 3.89e-05\n",
      "Epoch 51/160\n",
      "94/94 [==============================] - 48s 506ms/step - loss: 3.4639 - acc: 0.1924 - top_5_acc: 0.4755 - top_10_acc: 0.6204 - lr: 7.7779e-04\n",
      "\n",
      "Epoch 52: LearningRateScheduler setting learning rate to 0.0007695691614555002.\n",
      "learning rate: 7.70e-04, weight decay: 3.85e-05\n",
      "Epoch 52/160\n",
      "94/94 [==============================] - 48s 507ms/step - loss: 3.5300 - acc: 0.1825 - top_5_acc: 0.4578 - top_10_acc: 0.6026 - lr: 7.6957e-04\n",
      "\n",
      "Epoch 53: LearningRateScheduler setting learning rate to 0.0007612492823579744.\n",
      "learning rate: 7.61e-04, weight decay: 3.81e-05\n",
      "Epoch 53/160\n",
      "94/94 [==============================] - 48s 506ms/step - loss: 3.5595 - acc: 0.1821 - top_5_acc: 0.4533 - top_10_acc: 0.5947 - lr: 7.6125e-04\n",
      "\n",
      "Epoch 54: LearningRateScheduler setting learning rate to 0.0007528286866889924.\n",
      "learning rate: 7.53e-04, weight decay: 3.76e-05\n",
      "Epoch 54/160\n",
      "94/94 [==============================] - 48s 509ms/step - loss: 3.5483 - acc: 0.1801 - top_5_acc: 0.4548 - top_10_acc: 0.5995 - lr: 7.5283e-04\n",
      "\n",
      "Epoch 55: LearningRateScheduler setting learning rate to 0.0007443106207484776.\n",
      "learning rate: 7.44e-04, weight decay: 3.72e-05\n",
      "Epoch 55/160\n",
      "94/94 [==============================] - 48s 508ms/step - loss: 3.4073 - acc: 0.2026 - top_5_acc: 0.4870 - top_10_acc: 0.6312 - lr: 7.4431e-04\n",
      "\n",
      "Epoch 56: LearningRateScheduler setting learning rate to 0.000735698368412999.\n",
      "learning rate: 7.36e-04, weight decay: 3.68e-05\n",
      "Epoch 56/160\n",
      "94/94 [==============================] - 47s 503ms/step - loss: 4.0910 - acc: 0.1190 - top_5_acc: 0.3317 - top_10_acc: 0.4646 - lr: 7.3570e-04\n",
      "\n",
      "Epoch 57: LearningRateScheduler setting learning rate to 0.0007269952498697733.\n",
      "learning rate: 7.27e-04, weight decay: 3.63e-05\n",
      "Epoch 57/160\n",
      "94/94 [==============================] - 48s 508ms/step - loss: 3.5685 - acc: 0.1808 - top_5_acc: 0.4492 - top_10_acc: 0.5923 - lr: 7.2700e-04\n",
      "\n",
      "Epoch 58: LearningRateScheduler setting learning rate to 0.000718204620336671.\n",
      "learning rate: 7.18e-04, weight decay: 3.59e-05\n",
      "Epoch 58/160\n",
      "94/94 [==============================] - 48s 508ms/step - loss: 3.3222 - acc: 0.2218 - top_5_acc: 0.5062 - top_10_acc: 0.6459 - lr: 7.1820e-04\n",
      "\n",
      "Epoch 59: LearningRateScheduler setting learning rate to 0.0007093298687687141.\n",
      "learning rate: 7.09e-04, weight decay: 3.55e-05\n",
      "Epoch 59/160\n",
      "94/94 [==============================] - 48s 506ms/step - loss: 3.5053 - acc: 0.1907 - top_5_acc: 0.4626 - top_10_acc: 0.6051 - lr: 7.0933e-04\n",
      "\n",
      "Epoch 60: LearningRateScheduler setting learning rate to 0.0007003744165515704.\n",
      "learning rate: 7.00e-04, weight decay: 3.50e-05\n",
      "Epoch 60/160\n",
      "94/94 [==============================] - 48s 507ms/step - loss: 3.5784 - acc: 0.1818 - top_5_acc: 0.4476 - top_10_acc: 0.5890 - lr: 7.0037e-04\n",
      "\n",
      "Epoch 61: LearningRateScheduler setting learning rate to 0.000691341716182545.\n",
      "learning rate: 6.91e-04, weight decay: 3.46e-05\n",
      "Epoch 61/160\n",
      "94/94 [==============================] - 48s 508ms/step - loss: 3.2890 - acc: 0.2261 - top_5_acc: 0.5155 - top_10_acc: 0.6563 - lr: 6.9134e-04\n",
      "\n",
      "Epoch 62: LearningRateScheduler setting learning rate to 0.000682235249939575.\n",
      "learning rate: 6.82e-04, weight decay: 3.41e-05\n",
      "Epoch 62/160\n",
      "94/94 [==============================] - 48s 511ms/step - loss: 3.3136 - acc: 0.2198 - top_5_acc: 0.5094 - top_10_acc: 0.6508 - lr: 6.8224e-04\n",
      "\n",
      "Epoch 63: LearningRateScheduler setting learning rate to 0.0006730585285387465.\n",
      "learning rate: 6.73e-04, weight decay: 3.37e-05\n",
      "Epoch 63/160\n",
      "94/94 [==============================] - 48s 509ms/step - loss: 3.5135 - acc: 0.1893 - top_5_acc: 0.4613 - top_10_acc: 0.6053 - lr: 6.7306e-04\n",
      "\n",
      "Epoch 64: LearningRateScheduler setting learning rate to 0.0006638150897808468.\n",
      "learning rate: 6.64e-04, weight decay: 3.32e-05\n",
      "Epoch 64/160\n",
      "94/94 [==============================] - 48s 509ms/step - loss: 3.2039 - acc: 0.2435 - top_5_acc: 0.5370 - top_10_acc: 0.6717 - lr: 6.6382e-04\n",
      "\n",
      "Epoch 65: LearningRateScheduler setting learning rate to 0.0006545084971874737.\n",
      "learning rate: 6.55e-04, weight decay: 3.27e-05\n",
      "Epoch 65/160\n",
      "94/94 [==============================] - 48s 509ms/step - loss: 3.1949 - acc: 0.2431 - top_5_acc: 0.5369 - top_10_acc: 0.6741 - lr: 6.5451e-04\n",
      "\n",
      "Epoch 66: LearningRateScheduler setting learning rate to 0.0006451423386272311.\n",
      "learning rate: 6.45e-04, weight decay: 3.23e-05\n",
      "Epoch 66/160\n",
      "94/94 [==============================] - 48s 511ms/step - loss: 3.2027 - acc: 0.2407 - top_5_acc: 0.5352 - top_10_acc: 0.6735 - lr: 6.4514e-04\n",
      "\n",
      "Epoch 67: LearningRateScheduler setting learning rate to 0.0006357202249325371.\n",
      "learning rate: 6.36e-04, weight decay: 3.18e-05\n",
      "Epoch 67/160\n",
      "94/94 [==============================] - 48s 510ms/step - loss: 3.2256 - acc: 0.2375 - top_5_acc: 0.5287 - top_10_acc: 0.6664 - lr: 6.3572e-04\n",
      "\n",
      "Epoch 68: LearningRateScheduler setting learning rate to 0.000626245788507579.\n",
      "learning rate: 6.26e-04, weight decay: 3.13e-05\n",
      "Epoch 68/160\n",
      "94/94 [==============================] - 48s 510ms/step - loss: 3.2609 - acc: 0.2324 - top_5_acc: 0.5216 - top_10_acc: 0.6596 - lr: 6.2625e-04\n",
      "\n",
      "Epoch 69: LearningRateScheduler setting learning rate to 0.0006167226819279528.\n",
      "learning rate: 6.17e-04, weight decay: 3.08e-05\n",
      "Epoch 69/160\n",
      "94/94 [==============================] - 48s 509ms/step - loss: 3.2512 - acc: 0.2318 - top_5_acc: 0.5234 - top_10_acc: 0.6626 - lr: 6.1672e-04\n",
      "\n",
      "Epoch 70: LearningRateScheduler setting learning rate to 0.0006071545765325253.\n",
      "learning rate: 6.07e-04, weight decay: 3.04e-05\n",
      "Epoch 70/160\n",
      "94/94 [==============================] - 48s 510ms/step - loss: 3.3437 - acc: 0.2157 - top_5_acc: 0.5003 - top_10_acc: 0.6419 - lr: 6.0715e-04\n",
      "\n",
      "Epoch 71: LearningRateScheduler setting learning rate to 0.0005975451610080642.\n",
      "learning rate: 5.98e-04, weight decay: 2.99e-05\n",
      "Epoch 71/160\n",
      "94/94 [==============================] - 48s 509ms/step - loss: 3.2091 - acc: 0.2378 - top_5_acc: 0.5318 - top_10_acc: 0.6702 - lr: 5.9755e-04\n",
      "\n",
      "Epoch 72: LearningRateScheduler setting learning rate to 0.0005878981399671774.\n",
      "learning rate: 5.88e-04, weight decay: 2.94e-05\n",
      "Epoch 72/160\n",
      "94/94 [==============================] - 48s 509ms/step - loss: 3.2336 - acc: 0.2352 - top_5_acc: 0.5270 - top_10_acc: 0.6667 - lr: 5.8790e-04\n",
      "\n",
      "Epoch 73: LearningRateScheduler setting learning rate to 0.0005782172325201155.\n",
      "learning rate: 5.78e-04, weight decay: 2.89e-05\n",
      "Epoch 73/160\n",
      "94/94 [==============================] - 48s 509ms/step - loss: 3.3291 - acc: 0.2202 - top_5_acc: 0.5026 - top_10_acc: 0.6427 - lr: 5.7822e-04\n",
      "\n",
      "Epoch 74: LearningRateScheduler setting learning rate to 0.0005685061708409841.\n",
      "learning rate: 5.69e-04, weight decay: 2.84e-05\n",
      "Epoch 74/160\n",
      "94/94 [==============================] - 48s 508ms/step - loss: 3.1801 - acc: 0.2442 - top_5_acc: 0.5372 - top_10_acc: 0.6744 - lr: 5.6851e-04\n",
      "\n",
      "Epoch 75: LearningRateScheduler setting learning rate to 0.0005587686987289189.\n",
      "learning rate: 5.59e-04, weight decay: 2.79e-05\n",
      "Epoch 75/160\n",
      "94/94 [==============================] - 48s 508ms/step - loss: 3.1699 - acc: 0.2459 - top_5_acc: 0.5415 - top_10_acc: 0.6774 - lr: 5.5877e-04\n",
      "\n",
      "Epoch 76: LearningRateScheduler setting learning rate to 0.0005490085701647804.\n",
      "learning rate: 5.49e-04, weight decay: 2.75e-05\n",
      "Epoch 76/160\n",
      "94/94 [==============================] - 48s 508ms/step - loss: 3.0610 - acc: 0.2652 - top_5_acc: 0.5646 - top_10_acc: 0.6979 - lr: 5.4901e-04\n",
      "\n",
      "Epoch 77: LearningRateScheduler setting learning rate to 0.0005392295478639225.\n",
      "learning rate: 5.39e-04, weight decay: 2.70e-05\n",
      "Epoch 77/160\n",
      "94/94 [==============================] - 48s 510ms/step - loss: 3.1595 - acc: 0.2467 - top_5_acc: 0.5422 - top_10_acc: 0.6799 - lr: 5.3923e-04\n",
      "\n",
      "Epoch 78: LearningRateScheduler setting learning rate to 0.0005294354018255945.\n",
      "learning rate: 5.29e-04, weight decay: 2.65e-05\n",
      "Epoch 78/160\n",
      "94/94 [==============================] - 48s 509ms/step - loss: 2.9716 - acc: 0.2807 - top_5_acc: 0.5855 - top_10_acc: 0.7179 - lr: 5.2944e-04\n",
      "\n",
      "Epoch 79: LearningRateScheduler setting learning rate to 0.0005196299078795343.\n",
      "learning rate: 5.20e-04, weight decay: 2.60e-05\n",
      "Epoch 79/160\n",
      "94/94 [==============================] - 48s 508ms/step - loss: 2.9509 - acc: 0.2864 - top_5_acc: 0.5880 - top_10_acc: 0.7179 - lr: 5.1963e-04\n",
      "\n",
      "Epoch 80: LearningRateScheduler setting learning rate to 0.0005098168462303141.\n",
      "learning rate: 5.10e-04, weight decay: 2.55e-05\n",
      "Epoch 80/160\n",
      "94/94 [==============================] - 48s 506ms/step - loss: 2.9901 - acc: 0.2757 - top_5_acc: 0.5785 - top_10_acc: 0.7104 - lr: 5.0982e-04\n",
      "\n",
      "Epoch 81: LearningRateScheduler setting learning rate to 0.0005.\n",
      "learning rate: 5.00e-04, weight decay: 2.50e-05\n",
      "Epoch 81/160\n",
      "94/94 [==============================] - 47s 504ms/step - loss: 2.9781 - acc: 0.2771 - top_5_acc: 0.5831 - top_10_acc: 0.7150 - lr: 5.0000e-04\n",
      "\n",
      "Epoch 82: LearningRateScheduler setting learning rate to 0.0004901831537696859.\n",
      "learning rate: 4.90e-04, weight decay: 2.45e-05\n",
      "Epoch 82/160\n",
      "94/94 [==============================] - 48s 511ms/step - loss: 3.0483 - acc: 0.2659 - top_5_acc: 0.5654 - top_10_acc: 0.7018 - lr: 4.9018e-04\n",
      "\n",
      "Epoch 83: LearningRateScheduler setting learning rate to 0.00048037009212046586.\n",
      "learning rate: 4.80e-04, weight decay: 2.40e-05\n",
      "Epoch 83/160\n",
      "94/94 [==============================] - 48s 510ms/step - loss: 2.9553 - acc: 0.2847 - top_5_acc: 0.5883 - top_10_acc: 0.7189 - lr: 4.8037e-04\n",
      "\n",
      "Epoch 84: LearningRateScheduler setting learning rate to 0.00047056459817440544.\n",
      "learning rate: 4.71e-04, weight decay: 2.35e-05\n",
      "Epoch 84/160\n",
      "94/94 [==============================] - 48s 509ms/step - loss: 2.9943 - acc: 0.2764 - top_5_acc: 0.5809 - top_10_acc: 0.7124 - lr: 4.7056e-04\n",
      "\n",
      "Epoch 85: LearningRateScheduler setting learning rate to 0.0004607704521360776.\n",
      "learning rate: 4.61e-04, weight decay: 2.30e-05\n",
      "Epoch 85/160\n",
      "94/94 [==============================] - 48s 509ms/step - loss: 2.8880 - acc: 0.2946 - top_5_acc: 0.6013 - top_10_acc: 0.7289 - lr: 4.6077e-04\n",
      "\n",
      "Epoch 86: LearningRateScheduler setting learning rate to 0.0004509914298352197.\n",
      "learning rate: 4.51e-04, weight decay: 2.25e-05\n",
      "Epoch 86/160\n",
      "94/94 [==============================] - 48s 509ms/step - loss: 2.8582 - acc: 0.3010 - top_5_acc: 0.6077 - top_10_acc: 0.7364 - lr: 4.5099e-04\n",
      "\n",
      "Epoch 87: LearningRateScheduler setting learning rate to 0.00044123130127108126.\n",
      "learning rate: 4.41e-04, weight decay: 2.21e-05\n",
      "Epoch 87/160\n",
      "94/94 [==============================] - 48s 510ms/step - loss: 2.7951 - acc: 0.3148 - top_5_acc: 0.6214 - top_10_acc: 0.7461 - lr: 4.4123e-04\n",
      "\n",
      "Epoch 88: LearningRateScheduler setting learning rate to 0.0004314938291590161.\n",
      "learning rate: 4.31e-04, weight decay: 2.16e-05\n",
      "Epoch 88/160\n",
      "94/94 [==============================] - 48s 509ms/step - loss: 2.9271 - acc: 0.2861 - top_5_acc: 0.5925 - top_10_acc: 0.7229 - lr: 4.3149e-04\n",
      "\n",
      "Epoch 89: LearningRateScheduler setting learning rate to 0.0004217827674798845.\n",
      "learning rate: 4.22e-04, weight decay: 2.11e-05\n",
      "Epoch 89/160\n",
      "94/94 [==============================] - 48s 509ms/step - loss: 2.8331 - acc: 0.3040 - top_5_acc: 0.6151 - top_10_acc: 0.7404 - lr: 4.2178e-04\n",
      "\n",
      "Epoch 90: LearningRateScheduler setting learning rate to 0.00041210186003282274.\n",
      "learning rate: 4.12e-04, weight decay: 2.06e-05\n",
      "Epoch 90/160\n",
      "94/94 [==============================] - 48s 511ms/step - loss: 2.7629 - acc: 0.3193 - top_5_acc: 0.6288 - top_10_acc: 0.7538 - lr: 4.1210e-04\n",
      "\n",
      "Epoch 91: LearningRateScheduler setting learning rate to 0.00040245483899193594.\n",
      "learning rate: 4.02e-04, weight decay: 2.01e-05\n",
      "Epoch 91/160\n",
      "94/94 [==============================] - 48s 510ms/step - loss: 2.8555 - acc: 0.3037 - top_5_acc: 0.6105 - top_10_acc: 0.7370 - lr: 4.0245e-04\n",
      "\n",
      "Epoch 92: LearningRateScheduler setting learning rate to 0.0003928454234674747.\n",
      "learning rate: 3.93e-04, weight decay: 1.96e-05\n",
      "Epoch 92/160\n",
      "94/94 [==============================] - 48s 506ms/step - loss: 2.8160 - acc: 0.3092 - top_5_acc: 0.6178 - top_10_acc: 0.7450 - lr: 3.9285e-04\n",
      "\n",
      "Epoch 93: LearningRateScheduler setting learning rate to 0.00038327731807204744.\n",
      "learning rate: 3.83e-04, weight decay: 1.92e-05\n",
      "Epoch 93/160\n",
      "94/94 [==============================] - 48s 507ms/step - loss: 2.9235 - acc: 0.2877 - top_5_acc: 0.5931 - top_10_acc: 0.7249 - lr: 3.8328e-04\n",
      "\n",
      "Epoch 94: LearningRateScheduler setting learning rate to 0.00037375421149242103.\n",
      "learning rate: 3.74e-04, weight decay: 1.87e-05\n",
      "Epoch 94/160\n",
      "94/94 [==============================] - 48s 507ms/step - loss: 2.7495 - acc: 0.3220 - top_5_acc: 0.6310 - top_10_acc: 0.7550 - lr: 3.7375e-04\n",
      "\n",
      "Epoch 95: LearningRateScheduler setting learning rate to 0.0003642797750674629.\n",
      "learning rate: 3.64e-04, weight decay: 1.82e-05\n",
      "Epoch 95/160\n",
      "94/94 [==============================] - 48s 508ms/step - loss: 2.7494 - acc: 0.3213 - top_5_acc: 0.6304 - top_10_acc: 0.7544 - lr: 3.6428e-04\n",
      "\n",
      "Epoch 96: LearningRateScheduler setting learning rate to 0.0003548576613727689.\n",
      "learning rate: 3.55e-04, weight decay: 1.77e-05\n",
      "Epoch 96/160\n",
      "94/94 [==============================] - 48s 508ms/step - loss: 2.6126 - acc: 0.3495 - top_5_acc: 0.6620 - top_10_acc: 0.7802 - lr: 3.5486e-04\n",
      "\n",
      "Epoch 97: LearningRateScheduler setting learning rate to 0.00034549150281252633.\n",
      "learning rate: 3.45e-04, weight decay: 1.73e-05\n",
      "Epoch 97/160\n",
      "94/94 [==============================] - 48s 508ms/step - loss: 2.5775 - acc: 0.3560 - top_5_acc: 0.6678 - top_10_acc: 0.7834 - lr: 3.4549e-04\n",
      "\n",
      "Epoch 98: LearningRateScheduler setting learning rate to 0.0003361849102191533.\n",
      "learning rate: 3.36e-04, weight decay: 1.68e-05\n",
      "Epoch 98/160\n",
      "94/94 [==============================] - 48s 506ms/step - loss: 2.5841 - acc: 0.3537 - top_5_acc: 0.6675 - top_10_acc: 0.7839 - lr: 3.3618e-04\n",
      "\n",
      "Epoch 99: LearningRateScheduler setting learning rate to 0.0003269414714612534.\n",
      "learning rate: 3.27e-04, weight decay: 1.63e-05\n",
      "Epoch 99/160\n",
      "94/94 [==============================] - 48s 508ms/step - loss: 2.5433 - acc: 0.3635 - top_5_acc: 0.6741 - top_10_acc: 0.7877 - lr: 3.2694e-04\n",
      "\n",
      "Epoch 100: LearningRateScheduler setting learning rate to 0.0003177647500604252.\n",
      "learning rate: 3.18e-04, weight decay: 1.59e-05\n",
      "Epoch 100/160\n",
      "94/94 [==============================] - 48s 508ms/step - loss: 2.5311 - acc: 0.3657 - top_5_acc: 0.6771 - top_10_acc: 0.7898 - lr: 3.1776e-04\n",
      "\n",
      "Epoch 101: LearningRateScheduler setting learning rate to 0.0003086582838174551.\n",
      "learning rate: 3.09e-04, weight decay: 1.54e-05\n",
      "Epoch 101/160\n",
      "94/94 [==============================] - 48s 508ms/step - loss: 2.5002 - acc: 0.3693 - top_5_acc: 0.6810 - top_10_acc: 0.7954 - lr: 3.0866e-04\n",
      "\n",
      "Epoch 102: LearningRateScheduler setting learning rate to 0.00029962558344842963.\n",
      "learning rate: 3.00e-04, weight decay: 1.50e-05\n",
      "Epoch 102/160\n",
      "94/94 [==============================] - 48s 508ms/step - loss: 2.5093 - acc: 0.3668 - top_5_acc: 0.6791 - top_10_acc: 0.7952 - lr: 2.9963e-04\n",
      "\n",
      "Epoch 103: LearningRateScheduler setting learning rate to 0.0002906701312312861.\n",
      "learning rate: 2.91e-04, weight decay: 1.45e-05\n",
      "Epoch 103/160\n",
      "94/94 [==============================] - 48s 508ms/step - loss: 2.4986 - acc: 0.3702 - top_5_acc: 0.6824 - top_10_acc: 0.7981 - lr: 2.9067e-04\n",
      "\n",
      "Epoch 104: LearningRateScheduler setting learning rate to 0.0002817953796633289.\n",
      "learning rate: 2.82e-04, weight decay: 1.41e-05\n",
      "Epoch 104/160\n",
      "94/94 [==============================] - 48s 508ms/step - loss: 2.4372 - acc: 0.3847 - top_5_acc: 0.6940 - top_10_acc: 0.8054 - lr: 2.8180e-04\n",
      "\n",
      "Epoch 105: LearningRateScheduler setting learning rate to 0.00027300475013022663.\n",
      "learning rate: 2.73e-04, weight decay: 1.37e-05\n",
      "Epoch 105/160\n",
      "94/94 [==============================] - 48s 508ms/step - loss: 2.3993 - acc: 0.3904 - top_5_acc: 0.7026 - top_10_acc: 0.8107 - lr: 2.7300e-04\n",
      "\n",
      "Epoch 106: LearningRateScheduler setting learning rate to 0.00026430163158700117.\n",
      "learning rate: 2.64e-04, weight decay: 1.32e-05\n",
      "Epoch 106/160\n",
      "94/94 [==============================] - 48s 507ms/step - loss: 2.4455 - acc: 0.3811 - top_5_acc: 0.6946 - top_10_acc: 0.8039 - lr: 2.6430e-04\n",
      "\n",
      "Epoch 107: LearningRateScheduler setting learning rate to 0.0002556893792515227.\n",
      "learning rate: 2.56e-04, weight decay: 1.28e-05\n",
      "Epoch 107/160\n",
      "94/94 [==============================] - 48s 509ms/step - loss: 2.3916 - acc: 0.3926 - top_5_acc: 0.7043 - top_10_acc: 0.8134 - lr: 2.5569e-04\n",
      "\n",
      "Epoch 108: LearningRateScheduler setting learning rate to 0.0002471713133110078.\n",
      "learning rate: 2.47e-04, weight decay: 1.24e-05\n",
      "Epoch 108/160\n",
      "94/94 [==============================] - 48s 506ms/step - loss: 2.3885 - acc: 0.3915 - top_5_acc: 0.7052 - top_10_acc: 0.8140 - lr: 2.4717e-04\n",
      "\n",
      "Epoch 109: LearningRateScheduler setting learning rate to 0.00023875071764202561.\n",
      "learning rate: 2.39e-04, weight decay: 1.19e-05\n",
      "Epoch 109/160\n",
      "94/94 [==============================] - 48s 509ms/step - loss: 2.3700 - acc: 0.3989 - top_5_acc: 0.7091 - top_10_acc: 0.8165 - lr: 2.3875e-04\n",
      "\n",
      "Epoch 110: LearningRateScheduler setting learning rate to 0.00023043083854449987.\n",
      "learning rate: 2.30e-04, weight decay: 1.15e-05\n",
      "Epoch 110/160\n",
      "94/94 [==============================] - 48s 507ms/step - loss: 2.3468 - acc: 0.4025 - top_5_acc: 0.7138 - top_10_acc: 0.8191 - lr: 2.3043e-04\n",
      "\n",
      "Epoch 111: LearningRateScheduler setting learning rate to 0.00022221488349019903.\n",
      "learning rate: 2.22e-04, weight decay: 1.11e-05\n",
      "Epoch 111/160\n",
      "94/94 [==============================] - 48s 507ms/step - loss: 2.3582 - acc: 0.3981 - top_5_acc: 0.7124 - top_10_acc: 0.8191 - lr: 2.2221e-04\n",
      "\n",
      "Epoch 112: LearningRateScheduler setting learning rate to 0.00021410601988619394.\n",
      "learning rate: 2.14e-04, weight decay: 1.07e-05\n",
      "Epoch 112/160\n",
      "94/94 [==============================] - 48s 508ms/step - loss: 2.3033 - acc: 0.4106 - top_5_acc: 0.7217 - top_10_acc: 0.8264 - lr: 2.1411e-04\n",
      "\n",
      "Epoch 113: LearningRateScheduler setting learning rate to 0.00020610737385376348.\n",
      "learning rate: 2.06e-04, weight decay: 1.03e-05\n",
      "Epoch 113/160\n",
      "94/94 [==============================] - 48s 507ms/step - loss: 2.2726 - acc: 0.4179 - top_5_acc: 0.7270 - top_10_acc: 0.8302 - lr: 2.0611e-04\n",
      "\n",
      "Epoch 114: LearningRateScheduler setting learning rate to 0.0001982220290232143.\n",
      "learning rate: 1.98e-04, weight decay: 9.91e-06\n",
      "Epoch 114/160\n",
      "94/94 [==============================] - 47s 504ms/step - loss: 2.2625 - acc: 0.4213 - top_5_acc: 0.7299 - top_10_acc: 0.8309 - lr: 1.9822e-04\n",
      "\n",
      "Epoch 115: LearningRateScheduler setting learning rate to 0.00019045302534508295.\n",
      "learning rate: 1.90e-04, weight decay: 9.52e-06\n",
      "Epoch 115/160\n",
      "94/94 [==============================] - 48s 506ms/step - loss: 2.2248 - acc: 0.4290 - top_5_acc: 0.7360 - top_10_acc: 0.8348 - lr: 1.9045e-04\n",
      "\n",
      "Epoch 116: LearningRateScheduler setting learning rate to 0.00018280335791817732.\n",
      "learning rate: 1.83e-04, weight decay: 9.14e-06\n",
      "Epoch 116/160\n",
      "94/94 [==============================] - 48s 506ms/step - loss: 2.1956 - acc: 0.4355 - top_5_acc: 0.7418 - top_10_acc: 0.8395 - lr: 1.8280e-04\n",
      "\n",
      "Epoch 117: LearningRateScheduler setting learning rate to 0.00017527597583490823.\n",
      "learning rate: 1.75e-04, weight decay: 8.76e-06\n",
      "Epoch 117/160\n",
      "94/94 [==============================] - 45s 480ms/step - loss: 2.2092 - acc: 0.4311 - top_5_acc: 0.7394 - top_10_acc: 0.8391 - lr: 1.7528e-04\n",
      "\n",
      "Epoch 118: LearningRateScheduler setting learning rate to 0.00016787378104435928.\n",
      "learning rate: 1.68e-04, weight decay: 8.39e-06\n",
      "Epoch 118/160\n",
      "94/94 [==============================] - 46s 491ms/step - loss: 2.1646 - acc: 0.4431 - top_5_acc: 0.7478 - top_10_acc: 0.8440 - lr: 1.6787e-04\n",
      "\n",
      "Epoch 119: LearningRateScheduler setting learning rate to 0.00016059962723352904.\n",
      "learning rate: 1.61e-04, weight decay: 8.03e-06\n",
      "Epoch 119/160\n",
      "94/94 [==============================] - 48s 507ms/step - loss: 2.2199 - acc: 0.4301 - top_5_acc: 0.7372 - top_10_acc: 0.8374 - lr: 1.6060e-04\n",
      "\n",
      "Epoch 120: LearningRateScheduler setting learning rate to 0.00015345631872718213.\n",
      "learning rate: 1.53e-04, weight decay: 7.67e-06\n",
      "Epoch 120/160\n",
      "94/94 [==============================] - 48s 509ms/step - loss: 2.2062 - acc: 0.4319 - top_5_acc: 0.7406 - top_10_acc: 0.8393 - lr: 1.5346e-04\n",
      "\n",
      "Epoch 121: LearningRateScheduler setting learning rate to 0.00014644660940672628.\n",
      "learning rate: 1.46e-04, weight decay: 7.32e-06\n",
      "Epoch 121/160\n",
      "94/94 [==============================] - 48s 507ms/step - loss: 2.1839 - acc: 0.4386 - top_5_acc: 0.7452 - top_10_acc: 0.8421 - lr: 1.4645e-04\n",
      "\n",
      "Epoch 122: LearningRateScheduler setting learning rate to 0.0001395732016485406.\n",
      "learning rate: 1.40e-04, weight decay: 6.98e-06\n",
      "Epoch 122/160\n",
      "94/94 [==============================] - 48s 506ms/step - loss: 2.1390 - acc: 0.4475 - top_5_acc: 0.7522 - top_10_acc: 0.8483 - lr: 1.3957e-04\n",
      "\n",
      "Epoch 123: LearningRateScheduler setting learning rate to 0.00013283874528215734.\n",
      "learning rate: 1.33e-04, weight decay: 6.64e-06\n",
      "Epoch 123/160\n",
      "94/94 [==============================] - 48s 506ms/step - loss: 2.1145 - acc: 0.4553 - top_5_acc: 0.7563 - top_10_acc: 0.8505 - lr: 1.3284e-04\n",
      "\n",
      "Epoch 124: LearningRateScheduler setting learning rate to 0.00012624583656870153.\n",
      "learning rate: 1.26e-04, weight decay: 6.31e-06\n",
      "Epoch 124/160\n",
      "94/94 [==============================] - 48s 506ms/step - loss: 2.1214 - acc: 0.4544 - top_5_acc: 0.7551 - top_10_acc: 0.8504 - lr: 1.2625e-04\n",
      "\n",
      "Epoch 125: LearningRateScheduler setting learning rate to 0.00011979701719998454.\n",
      "learning rate: 1.20e-04, weight decay: 5.99e-06\n",
      "Epoch 125/160\n",
      "94/94 [==============================] - 48s 509ms/step - loss: 2.0727 - acc: 0.4606 - top_5_acc: 0.7642 - top_10_acc: 0.8575 - lr: 1.1980e-04\n",
      "\n",
      "Epoch 126: LearningRateScheduler setting learning rate to 0.00011349477331863151.\n",
      "learning rate: 1.13e-04, weight decay: 5.67e-06\n",
      "Epoch 126/160\n",
      "94/94 [==============================] - 48s 508ms/step - loss: 2.0703 - acc: 0.4626 - top_5_acc: 0.7634 - top_10_acc: 0.8564 - lr: 1.1349e-04\n",
      "\n",
      "Epoch 127: LearningRateScheduler setting learning rate to 0.00010734153455962764.\n",
      "learning rate: 1.07e-04, weight decay: 5.37e-06\n",
      "Epoch 127/160\n",
      "94/94 [==============================] - 48s 508ms/step - loss: 2.0740 - acc: 0.4636 - top_5_acc: 0.7626 - top_10_acc: 0.8553 - lr: 1.0734e-04\n",
      "\n",
      "Epoch 128: LearningRateScheduler setting learning rate to 0.0001013396731136465.\n",
      "learning rate: 1.01e-04, weight decay: 5.07e-06\n",
      "Epoch 128/160\n",
      "94/94 [==============================] - 48s 508ms/step - loss: 2.0476 - acc: 0.4694 - top_5_acc: 0.7659 - top_10_acc: 0.8585 - lr: 1.0134e-04\n",
      "\n",
      "Epoch 129: LearningRateScheduler setting learning rate to 9.549150281252633e-05.\n",
      "learning rate: 9.55e-05, weight decay: 4.77e-06\n",
      "Epoch 129/160\n",
      "94/94 [==============================] - 48s 508ms/step - loss: 2.0620 - acc: 0.4649 - top_5_acc: 0.7648 - top_10_acc: 0.8584 - lr: 9.5492e-05\n",
      "\n",
      "Epoch 130: LearningRateScheduler setting learning rate to 8.979927823724321e-05.\n",
      "learning rate: 8.98e-05, weight decay: 4.49e-06\n",
      "Epoch 130/160\n",
      "94/94 [==============================] - 48s 509ms/step - loss: 2.0303 - acc: 0.4745 - top_5_acc: 0.7700 - top_10_acc: 0.8590 - lr: 8.9799e-05\n",
      "\n",
      "Epoch 131: LearningRateScheduler setting learning rate to 8.426519384872733e-05.\n",
      "learning rate: 8.43e-05, weight decay: 4.21e-06\n",
      "Epoch 131/160\n",
      "94/94 [==============================] - 48s 507ms/step - loss: 2.0195 - acc: 0.4743 - top_5_acc: 0.7718 - top_10_acc: 0.8627 - lr: 8.4265e-05\n",
      "\n",
      "Epoch 132: LearningRateScheduler setting learning rate to 7.889138314185678e-05.\n",
      "learning rate: 7.89e-05, weight decay: 3.94e-06\n",
      "Epoch 132/160\n",
      "94/94 [==============================] - 47s 503ms/step - loss: 2.0036 - acc: 0.4790 - top_5_acc: 0.7772 - top_10_acc: 0.8639 - lr: 7.8891e-05\n",
      "\n",
      "Epoch 133: LearningRateScheduler setting learning rate to 7.367991782295391e-05.\n",
      "learning rate: 7.37e-05, weight decay: 3.68e-06\n",
      "Epoch 133/160\n",
      "94/94 [==============================] - 48s 508ms/step - loss: 2.0007 - acc: 0.4810 - top_5_acc: 0.7751 - top_10_acc: 0.8629 - lr: 7.3680e-05\n",
      "\n",
      "Epoch 134: LearningRateScheduler setting learning rate to 6.863280701110408e-05.\n",
      "learning rate: 6.86e-05, weight decay: 3.43e-06\n",
      "Epoch 134/160\n",
      "94/94 [==============================] - 48s 508ms/step - loss: 1.9670 - acc: 0.4892 - top_5_acc: 0.7821 - top_10_acc: 0.8685 - lr: 6.8633e-05\n",
      "\n",
      "Epoch 135: LearningRateScheduler setting learning rate to 6.375199646360142e-05.\n",
      "learning rate: 6.38e-05, weight decay: 3.19e-06\n",
      "Epoch 135/160\n",
      "94/94 [==============================] - 48s 508ms/step - loss: 1.9825 - acc: 0.4837 - top_5_acc: 0.7796 - top_10_acc: 0.8685 - lr: 6.3752e-05\n",
      "\n",
      "Epoch 136: LearningRateScheduler setting learning rate to 5.903936782582253e-05.\n",
      "learning rate: 5.90e-05, weight decay: 2.95e-06\n",
      "Epoch 136/160\n",
      "94/94 [==============================] - 47s 504ms/step - loss: 1.9731 - acc: 0.4856 - top_5_acc: 0.7804 - top_10_acc: 0.8677 - lr: 5.9039e-05\n",
      "\n",
      "Epoch 137: LearningRateScheduler setting learning rate to 5.449673790581611e-05.\n",
      "learning rate: 5.45e-05, weight decay: 2.72e-06\n",
      "Epoch 137/160\n",
      "94/94 [==============================] - 47s 505ms/step - loss: 1.9603 - acc: 0.4925 - top_5_acc: 0.7835 - top_10_acc: 0.8692 - lr: 5.4497e-05\n",
      "\n",
      "Epoch 138: LearningRateScheduler setting learning rate to 5.0125857973889355e-05.\n",
      "learning rate: 5.01e-05, weight decay: 2.51e-06\n",
      "Epoch 138/160\n",
      "94/94 [==============================] - 48s 506ms/step - loss: 1.9478 - acc: 0.4929 - top_5_acc: 0.7843 - top_10_acc: 0.8704 - lr: 5.0126e-05\n",
      "\n",
      "Epoch 139: LearningRateScheduler setting learning rate to 4.592841308745932e-05.\n",
      "learning rate: 4.59e-05, weight decay: 2.30e-06\n",
      "Epoch 139/160\n",
      "94/94 [==============================] - 48s 506ms/step - loss: 1.9362 - acc: 0.4956 - top_5_acc: 0.7872 - top_10_acc: 0.8716 - lr: 4.5928e-05\n",
      "\n",
      "Epoch 140: LearningRateScheduler setting learning rate to 4.190602144143207e-05.\n",
      "learning rate: 4.19e-05, weight decay: 2.10e-06\n",
      "Epoch 140/160\n",
      "94/94 [==============================] - 48s 507ms/step - loss: 1.9367 - acc: 0.4967 - top_5_acc: 0.7880 - top_10_acc: 0.8714 - lr: 4.1906e-05\n",
      "\n",
      "Epoch 141: LearningRateScheduler setting learning rate to 3.806023374435663e-05.\n",
      "learning rate: 3.81e-05, weight decay: 1.90e-06\n",
      "Epoch 141/160\n",
      "94/94 [==============================] - 48s 507ms/step - loss: 1.9129 - acc: 0.5019 - top_5_acc: 0.7916 - top_10_acc: 0.8759 - lr: 3.8060e-05\n",
      "\n",
      "Epoch 142: LearningRateScheduler setting learning rate to 3.439253262059822e-05.\n",
      "learning rate: 3.44e-05, weight decay: 1.72e-06\n",
      "Epoch 142/160\n",
      "94/94 [==============================] - 48s 508ms/step - loss: 1.9196 - acc: 0.4986 - top_5_acc: 0.7897 - top_10_acc: 0.8728 - lr: 3.4393e-05\n",
      "\n",
      "Epoch 143: LearningRateScheduler setting learning rate to 3.0904332038757974e-05.\n",
      "learning rate: 3.09e-05, weight decay: 1.55e-06\n",
      "Epoch 143/160\n",
      "94/94 [==============================] - 48s 508ms/step - loss: 1.9198 - acc: 0.5008 - top_5_acc: 0.7889 - top_10_acc: 0.8733 - lr: 3.0904e-05\n",
      "\n",
      "Epoch 144: LearningRateScheduler setting learning rate to 2.7596976766560976e-05.\n",
      "learning rate: 2.76e-05, weight decay: 1.38e-06\n",
      "Epoch 144/160\n",
      "94/94 [==============================] - 48s 508ms/step - loss: 1.9111 - acc: 0.5023 - top_5_acc: 0.7917 - top_10_acc: 0.8751 - lr: 2.7597e-05\n",
      "\n",
      "Epoch 145: LearningRateScheduler setting learning rate to 2.4471741852423235e-05.\n",
      "learning rate: 2.45e-05, weight decay: 1.22e-06\n",
      "Epoch 145/160\n",
      "94/94 [==============================] - 48s 508ms/step - loss: 1.9070 - acc: 0.5026 - top_5_acc: 0.7903 - top_10_acc: 0.8759 - lr: 2.4472e-05\n",
      "\n",
      "Epoch 146: LearningRateScheduler setting learning rate to 2.152983213389559e-05.\n",
      "learning rate: 2.15e-05, weight decay: 1.08e-06\n",
      "Epoch 146/160\n",
      "94/94 [==============================] - 48s 508ms/step - loss: 1.8998 - acc: 0.5059 - top_5_acc: 0.7928 - top_10_acc: 0.8762 - lr: 2.1530e-05\n",
      "\n",
      "Epoch 147: LearningRateScheduler setting learning rate to 1.8772381773176416e-05.\n",
      "learning rate: 1.88e-05, weight decay: 9.39e-07\n",
      "Epoch 147/160\n",
      "94/94 [==============================] - 48s 507ms/step - loss: 1.9061 - acc: 0.5044 - top_5_acc: 0.7913 - top_10_acc: 0.8736 - lr: 1.8772e-05\n",
      "\n",
      "Epoch 148: LearningRateScheduler setting learning rate to 1.620045381987012e-05.\n",
      "learning rate: 1.62e-05, weight decay: 8.10e-07\n",
      "Epoch 148/160\n",
      "94/94 [==============================] - 48s 508ms/step - loss: 1.8870 - acc: 0.5087 - top_5_acc: 0.7932 - top_10_acc: 0.8773 - lr: 1.6200e-05\n",
      "\n",
      "Epoch 149: LearningRateScheduler setting learning rate to 1.3815039801161721e-05.\n",
      "learning rate: 1.38e-05, weight decay: 6.91e-07\n",
      "Epoch 149/160\n",
      "94/94 [==============================] - 48s 507ms/step - loss: 1.9010 - acc: 0.5040 - top_5_acc: 0.7935 - top_10_acc: 0.8767 - lr: 1.3815e-05\n",
      "\n",
      "Epoch 150: LearningRateScheduler setting learning rate to 1.1617059339563806e-05.\n",
      "learning rate: 1.16e-05, weight decay: 5.81e-07\n",
      "Epoch 150/160\n",
      "94/94 [==============================] - 48s 506ms/step - loss: 1.8914 - acc: 0.5072 - top_5_acc: 0.7933 - top_10_acc: 0.8768 - lr: 1.1617e-05\n",
      "\n",
      "Epoch 151: LearningRateScheduler setting learning rate to 9.607359798384786e-06.\n",
      "learning rate: 9.61e-06, weight decay: 4.80e-07\n",
      "Epoch 151/160\n",
      "94/94 [==============================] - 48s 508ms/step - loss: 1.8868 - acc: 0.5077 - top_5_acc: 0.7938 - top_10_acc: 0.8774 - lr: 9.6074e-06\n",
      "\n",
      "Epoch 152: LearningRateScheduler setting learning rate to 7.786715955054202e-06.\n",
      "learning rate: 7.79e-06, weight decay: 3.89e-07\n",
      "Epoch 152/160\n",
      "94/94 [==============================] - 48s 508ms/step - loss: 1.8872 - acc: 0.5099 - top_5_acc: 0.7951 - top_10_acc: 0.8774 - lr: 7.7867e-06\n",
      "\n",
      "Epoch 153: LearningRateScheduler setting learning rate to 6.15582970243117e-06.\n",
      "learning rate: 6.16e-06, weight decay: 3.08e-07\n",
      "Epoch 153/160\n",
      "94/94 [==============================] - 48s 508ms/step - loss: 1.8840 - acc: 0.5099 - top_5_acc: 0.7955 - top_10_acc: 0.8769 - lr: 6.1558e-06\n",
      "\n",
      "Epoch 154: LearningRateScheduler setting learning rate to 4.715329778211374e-06.\n",
      "learning rate: 4.72e-06, weight decay: 2.36e-07\n",
      "Epoch 154/160\n",
      "94/94 [==============================] - 48s 508ms/step - loss: 1.8849 - acc: 0.5096 - top_5_acc: 0.7950 - top_10_acc: 0.8775 - lr: 4.7153e-06\n",
      "\n",
      "Epoch 155: LearningRateScheduler setting learning rate to 3.4657715225368535e-06.\n",
      "learning rate: 3.47e-06, weight decay: 1.73e-07\n",
      "Epoch 155/160\n",
      "94/94 [==============================] - 48s 507ms/step - loss: 1.8893 - acc: 0.5093 - top_5_acc: 0.7940 - top_10_acc: 0.8761 - lr: 3.4658e-06\n",
      "\n",
      "Epoch 156: LearningRateScheduler setting learning rate to 2.4076366639015913e-06.\n",
      "learning rate: 2.41e-06, weight decay: 1.20e-07\n",
      "Epoch 156/160\n",
      "94/94 [==============================] - 48s 506ms/step - loss: 1.8726 - acc: 0.5124 - top_5_acc: 0.7959 - top_10_acc: 0.8778 - lr: 2.4076e-06\n",
      "\n",
      "Epoch 157: LearningRateScheduler setting learning rate to 1.541333133436018e-06.\n",
      "learning rate: 1.54e-06, weight decay: 7.71e-08\n",
      "Epoch 157/160\n",
      "94/94 [==============================] - 47s 505ms/step - loss: 1.8847 - acc: 0.5113 - top_5_acc: 0.7942 - top_10_acc: 0.8770 - lr: 1.5413e-06\n",
      "\n",
      "Epoch 158: LearningRateScheduler setting learning rate to 8.671949076420882e-07.\n",
      "learning rate: 8.67e-07, weight decay: 4.34e-08\n",
      "Epoch 158/160\n",
      "94/94 [==============================] - 48s 508ms/step - loss: 1.8760 - acc: 0.5101 - top_5_acc: 0.7964 - top_10_acc: 0.8784 - lr: 8.6719e-07\n",
      "\n",
      "Epoch 159: LearningRateScheduler setting learning rate to 3.854818796385495e-07.\n",
      "learning rate: 3.85e-07, weight decay: 1.93e-08\n",
      "Epoch 159/160\n",
      "94/94 [==============================] - 48s 508ms/step - loss: 1.8736 - acc: 0.5105 - top_5_acc: 0.7980 - top_10_acc: 0.8796 - lr: 3.8548e-07\n",
      "\n",
      "Epoch 160: LearningRateScheduler setting learning rate to 9.637975896759077e-08.\n",
      "learning rate: 9.64e-08, weight decay: 4.82e-09\n",
      "Epoch 160/160\n",
      "94/94 [==============================] - 48s 508ms/step - loss: 1.8801 - acc: 0.5108 - top_5_acc: 0.7959 - top_10_acc: 0.8789 - lr: 9.6380e-08\n"
     ]
    }
   ],
   "source": [
    "if TRAIN_MODEL:\n",
    "    # Clear all models in GPU\n",
    "    tf.keras.backend.clear_session()\n",
    "\n",
    "    # Get new fresh model\n",
    "    model = get_model()\n",
    "    \n",
    "    # Sanity Check\n",
    "    model.summary()\n",
    "\n",
    "    # Actual Training\n",
    "    history = model.fit(\n",
    "            x=get_train_batch_all_signs(X, y, Non_empty_Frame_idxs),\n",
    "            steps_per_epoch=len(X) // (NUM_CLASSES * BATCH_ALL_SIGNS_N),\n",
    "            epochs=N_EPOCHS,\n",
    "            # Only used for validation data since training data is a generator\n",
    "            batch_size=BATCH_SIZE,\n",
    "            #validation_data=({ 'frames': X_val, 'non_empty_frame_idxs': NON_EMPTY_FRAME_IDXS_VAL }, y_val),\n",
    "            callbacks=[\n",
    "                lr_callback,\n",
    "                WeightDecayCallback(),\n",
    "            ],\n",
    "            verbose = 1,\n",
    "        )"
   ]
  },
  {
   "cell_type": "markdown",
   "id": "b33f92fe-c70c-4a65-9170-2af4eae7800b",
   "metadata": {
    "pycharm": {
     "name": "#%% md\n"
    }
   },
   "source": [
    "# Create TF-Lite Model"
   ]
  },
  {
   "cell_type": "code",
   "execution_count": 115,
   "id": "a135be27-f004-4a7e-9ff7-37bab5908706",
   "metadata": {
    "pycharm": {
     "name": "#%%\n"
    }
   },
   "outputs": [],
   "source": [
    "# TFLite model for submission\n",
    "class TFLiteModel(tf.Module):\n",
    "    def __init__(self, model):\n",
    "        super(TFLiteModel, self).__init__()\n",
    "\n",
    "        # Load the feature generation and main models\n",
    "        self.preprocess_layer = preprocess_layer\n",
    "        self.model = model\n",
    "    \n",
    "    @tf.function(input_signature=[tf.TensorSpec(shape=[None, N_ROWS, N_DIMS], dtype=tf.float32, name='inputs')])\n",
    "    def __call__(self, inputs):\n",
    "        # Preprocess Data\n",
    "        x, non_empty_frame_idxs = self.preprocess_layer(inputs)\n",
    "        # Add Batch Dimension\n",
    "        x = tf.expand_dims(x, axis=0)\n",
    "        non_empty_frame_idxs = tf.expand_dims(non_empty_frame_idxs, axis=0)\n",
    "        # Make Prediction\n",
    "        outputs = self.model({ 'frames': x, 'non_empty_frame_idxs': non_empty_frame_idxs })\n",
    "        # Squeeze Output 1x250 -> 250\n",
    "        outputs = tf.squeeze(outputs, axis=0)\n",
    "\n",
    "        # Return a dictionary with the output tensor\n",
    "        return {'outputs': outputs}\n",
    "\n",
    "# Define TF Lite Model\n",
    "tflite_keras_model = TFLiteModel(model)\n",
    "\n",
    "\n"
   ]
  },
  {
   "cell_type": "code",
   "execution_count": 124,
   "id": "38b75016-8b97-493b-aa9d-212db20b4380",
   "metadata": {
    "pycharm": {
     "name": "#%%\n"
    }
   },
   "outputs": [
    {
     "name": "stdout",
     "output_type": "stream",
     "text": [
      "demo_raw_data shape: (20, 543, 3), dtype: float32\n",
      "demo_output shape: (250,), dtype: <dtype: 'float32'>\n",
      "demo_prediction: 14, correct: 14\n"
     ]
    }
   ],
   "source": [
    "idx_to_predict = np.random.randint(low=0,high=len(df_train))\n",
    "\n",
    "# Sanity Check\n",
    "demo_raw_data = load_relevant_data_subset(df_train.iloc[idx_to_predict]['file_path'])\n",
    "print(f'demo_raw_data shape: {demo_raw_data.shape}, dtype: {demo_raw_data.dtype}')\n",
    "demo_output = tflite_keras_model(demo_raw_data)[\"outputs\"]\n",
    "print(f'demo_output shape: {demo_output.shape}, dtype: {demo_output.dtype}')\n",
    "demo_prediction = demo_output.numpy().argmax()\n",
    "print(f'demo_prediction: {demo_prediction}, correct: {df_train.iloc[idx_to_predict][\"target\"]}')"
   ]
  },
  {
   "cell_type": "code",
   "execution_count": 125,
   "id": "3b40637e-69f9-4c1e-9cf1-c7c42532a860",
   "metadata": {
    "pycharm": {
     "name": "#%%\n"
    }
   },
   "outputs": [
    {
     "name": "stderr",
     "output_type": "stream",
     "text": [
      "WARNING:absl:Found untraced functions such as dense_24_layer_call_fn, dense_24_layer_call_and_return_conditional_losses, softmax_layer_call_fn, softmax_layer_call_and_return_conditional_losses, dense_51_layer_call_fn while saving (showing 5 of 208). These functions will not be directly callable after loading.\n"
     ]
    },
    {
     "name": "stdout",
     "output_type": "stream",
     "text": [
      "INFO:tensorflow:Assets written to: C:\\Users\\FSC39D~1.GUN\\AppData\\Local\\Temp\\tmpdm7ovxd_\\assets\n"
     ]
    },
    {
     "name": "stderr",
     "output_type": "stream",
     "text": [
      "INFO:tensorflow:Assets written to: C:\\Users\\FSC39D~1.GUN\\AppData\\Local\\Temp\\tmpdm7ovxd_\\assets\n"
     ]
    }
   ],
   "source": [
    "# Create Model Converter\n",
    "keras_model_converter = tf.lite.TFLiteConverter.from_keras_model(tflite_keras_model)\n",
    "# Convert Model\n",
    "tflite_model = keras_model_converter.convert()\n",
    "# Write Model\n",
    "tflite_model_file = os.path.join(ROOT_PATH,MODEL_DIR,\"BL_Transformer_tf.tflite\")\n",
    "with open(tflite_model_file, 'wb') as f:\n",
    "    f.write(tflite_model)\n",
    "    "
   ]
  },
  {
   "cell_type": "markdown",
   "id": "f00b84b7-0d60-45b7-9dc3-006d8e7440d9",
   "metadata": {
    "pycharm": {
     "name": "#%% md\n"
    }
   },
   "source": [
    "# Test the TF-Lite Model"
   ]
  },
  {
   "cell_type": "code",
   "execution_count": 131,
   "id": "152567cb-8359-446f-be07-17ce291cd563",
   "metadata": {
    "pycharm": {
     "name": "#%%\n"
    }
   },
   "outputs": [],
   "source": [
    "# Load TFLite model and allocate tensors.\n",
    "with open(tflite_model_file, 'rb') as fid:\n",
    "    tf_mod = fid.read()\n",
    "    "
   ]
  },
  {
   "cell_type": "code",
   "execution_count": 136,
   "id": "22951c24-28bb-4dd3-86f5-eba13925171b",
   "metadata": {
    "pycharm": {
     "name": "#%%\n"
    }
   },
   "outputs": [],
   "source": [
    "from tensorflow.lite.python.interpreter import Interpreter"
   ]
  },
  {
   "cell_type": "code",
   "execution_count": 144,
   "id": "dfa6f0e5-1aa2-48f5-8d42-9106f2cbbe42",
   "metadata": {
    "pycharm": {
     "name": "#%%\n"
    }
   },
   "outputs": [
    {
     "name": "stdout",
     "output_type": "stream",
     "text": [
      "PRED :  balloon [14]\n",
      "TRUE :  balloon [14]\n"
     ]
    }
   ],
   "source": [
    "interpreter = Interpreter(tflite_model_file)\n",
    "found_signatures = list(interpreter.get_signature_list().keys())\n",
    "prediction_fn = interpreter.get_signature_runner(\"serving_default\")\n",
    "\n",
    "output = prediction_fn(inputs=demo_raw_data)\n",
    "sign = output['outputs'].argmax()\n",
    "\n",
    "print(\"PRED : \", label_dict_inv[sign], f'[{sign}]')\n",
    "print(\"TRUE : \", df_train.iloc[idx_to_predict].sign, f'[{df_train.iloc[idx_to_predict].target}]')"
   ]
  },
  {
   "cell_type": "code",
   "execution_count": 139,
   "id": "59a5baa7-10cf-4fac-af0b-43539c2783c3",
   "metadata": {
    "pycharm": {
     "name": "#%%\n"
    }
   },
   "outputs": [
    {
     "data": {
      "text/plain": [
       "14"
      ]
     },
     "execution_count": 139,
     "metadata": {},
     "output_type": "execute_result"
    }
   ],
   "source": [
    "sign"
   ]
  },
  {
   "cell_type": "code",
   "execution_count": null,
   "id": "96bfa856-62b3-484f-b65d-6d01a8cb334b",
   "metadata": {
    "pycharm": {
     "name": "#%%\n"
    }
   },
   "outputs": [],
   "source": []
  }
 ],
 "metadata": {
  "kernelspec": {
   "display_name": "Python 3 (ipykernel)",
   "language": "python",
   "name": "python3"
  },
  "language_info": {
   "codemirror_mode": {
    "name": "ipython",
    "version": 3
   },
   "file_extension": ".py",
   "mimetype": "text/x-python",
   "name": "python",
   "nbconvert_exporter": "python",
   "pygments_lexer": "ipython3",
   "version": "3.9.16"
  }
 },
 "nbformat": 4,
 "nbformat_minor": 5
}