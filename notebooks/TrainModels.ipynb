{
 "cells": [
  {
   "cell_type": "code",
   "execution_count": 1,
   "id": "f0d499c0",
   "metadata": {
    "scrolled": true
   },
   "outputs": [],
   "source": [
    "import sys\n",
    "\n",
    "sys.path.insert(0, '../src')\n",
    "\n",
    "from config import *\n",
    "import numpy as np\n",
    "from tqdm import tqdm\n",
    "\n",
    "import time\n",
    "\n",
    "from trainer import *"
   ]
  },
  {
   "cell_type": "code",
   "execution_count": 2,
   "id": "354cf673",
   "metadata": {
    "scrolled": true
   },
   "outputs": [
    {
     "name": "stdout",
     "output_type": "stream",
     "text": [
      "Using model: models.pytorch.models.HybridEnsembleModel\n"
     ]
    }
   ],
   "source": [
    "trainer = Trainer(modelname='HybridEnsembleModel')"
   ]
  },
  {
   "cell_type": "code",
   "execution_count": 3,
   "id": "40ba2e57",
   "metadata": {
    "scrolled": false
   },
   "outputs": [
    {
     "name": "stdout",
     "output_type": "stream",
     "text": [
      "Epoch 1/50\n"
     ]
    },
    {
     "name": "stderr",
     "output_type": "stream",
     "text": [
      "Training progress: 100%|█| 484/484 [01:19<00:00,  6.09it/s, Loss=tensor(4.2026),"
     ]
    },
    {
     "name": "stdout",
     "output_type": "stream",
     "text": [
      "EPOCH   1: Train accuracy: 0.10, Train Loss: 4.20255327, LRate 0.00100000 \n"
     ]
    },
    {
     "name": "stderr",
     "output_type": "stream",
     "text": [
      "\n",
      "Validation progress: 100%|█| 29/29 [00:25<00:00,  1.14it/s, Loss=tensor(3.4582),"
     ]
    },
    {
     "name": "stdout",
     "output_type": "stream",
     "text": [
      "EPOCH   1: Validation accuracy: 0.20, Validation Loss: 3.45816875, LRate 0.00100000 \n",
      "\n"
     ]
    },
    {
     "name": "stderr",
     "output_type": "stream",
     "text": [
      "\n"
     ]
    },
    {
     "name": "stdout",
     "output_type": "stream",
     "text": [
      "Best model and parameters saved at epoch 1\n",
      "\n",
      "Epoch 2/50\n"
     ]
    },
    {
     "name": "stderr",
     "output_type": "stream",
     "text": [
      "Training progress: 100%|█| 484/484 [01:34<00:00,  5.14it/s, Loss=tensor(2.9322),"
     ]
    },
    {
     "name": "stdout",
     "output_type": "stream",
     "text": [
      "EPOCH   2: Train accuracy: 0.28, Train Loss: 2.93217278, LRate 0.00095000 \n"
     ]
    },
    {
     "name": "stderr",
     "output_type": "stream",
     "text": [
      "\n",
      "Validation progress: 100%|█| 29/29 [00:21<00:00,  1.37it/s, Loss=tensor(2.7361),"
     ]
    },
    {
     "name": "stdout",
     "output_type": "stream",
     "text": [
      "EPOCH   2: Validation accuracy: 0.33, Validation Loss: 2.73613667, LRate 0.00095000 \n",
      "\n"
     ]
    },
    {
     "name": "stderr",
     "output_type": "stream",
     "text": [
      "\n"
     ]
    },
    {
     "name": "stdout",
     "output_type": "stream",
     "text": [
      "Best model and parameters saved at epoch 2\n",
      "\n",
      "Epoch 3/50\n"
     ]
    },
    {
     "name": "stderr",
     "output_type": "stream",
     "text": [
      "Training progress: 100%|█| 484/484 [01:29<00:00,  5.42it/s, Loss=tensor(2.5764),"
     ]
    },
    {
     "name": "stdout",
     "output_type": "stream",
     "text": [
      "EPOCH   3: Train accuracy: 0.35, Train Loss: 2.57644391, LRate 0.00090250 \n"
     ]
    },
    {
     "name": "stderr",
     "output_type": "stream",
     "text": [
      "\n",
      "Validation progress: 100%|█| 29/29 [00:23<00:00,  1.25it/s, Loss=tensor(2.6186),"
     ]
    },
    {
     "name": "stdout",
     "output_type": "stream",
     "text": [
      "EPOCH   3: Validation accuracy: 0.35, Validation Loss: 2.61857104, LRate 0.00090250 \n",
      "\n"
     ]
    },
    {
     "name": "stderr",
     "output_type": "stream",
     "text": [
      "\n"
     ]
    },
    {
     "name": "stdout",
     "output_type": "stream",
     "text": [
      "Best model and parameters saved at epoch 3\n",
      "\n",
      "Epoch 4/50\n"
     ]
    },
    {
     "name": "stderr",
     "output_type": "stream",
     "text": [
      "Training progress: 100%|█| 484/484 [01:17<00:00,  6.21it/s, Loss=tensor(2.2732),"
     ]
    },
    {
     "name": "stdout",
     "output_type": "stream",
     "text": [
      "EPOCH   4: Train accuracy: 0.42, Train Loss: 2.27320075, LRate 0.00085737 \n"
     ]
    },
    {
     "name": "stderr",
     "output_type": "stream",
     "text": [
      "\n",
      "Validation progress: 100%|█| 29/29 [00:23<00:00,  1.24it/s, Loss=tensor(2.3661),"
     ]
    },
    {
     "name": "stdout",
     "output_type": "stream",
     "text": [
      "EPOCH   4: Validation accuracy: 0.40, Validation Loss: 2.36609149, LRate 0.00085737 \n",
      "\n"
     ]
    },
    {
     "name": "stderr",
     "output_type": "stream",
     "text": [
      "\n"
     ]
    },
    {
     "name": "stdout",
     "output_type": "stream",
     "text": [
      "Best model and parameters saved at epoch 4\n",
      "\n",
      "Epoch 5/50\n"
     ]
    },
    {
     "name": "stderr",
     "output_type": "stream",
     "text": [
      "Training progress: 100%|█| 484/484 [01:15<00:00,  6.40it/s, Loss=tensor(2.1033),"
     ]
    },
    {
     "name": "stdout",
     "output_type": "stream",
     "text": [
      "EPOCH   5: Train accuracy: 0.46, Train Loss: 2.10332775, LRate 0.00081451 \n"
     ]
    },
    {
     "name": "stderr",
     "output_type": "stream",
     "text": [
      "\n",
      "Validation progress: 100%|█| 29/29 [00:21<00:00,  1.35it/s, Loss=tensor(2.3175),"
     ]
    },
    {
     "name": "stdout",
     "output_type": "stream",
     "text": [
      "EPOCH   5: Validation accuracy: 0.41, Validation Loss: 2.31751156, LRate 0.00081451 \n",
      "\n"
     ]
    },
    {
     "name": "stderr",
     "output_type": "stream",
     "text": [
      "\n"
     ]
    },
    {
     "name": "stdout",
     "output_type": "stream",
     "text": [
      "Best model and parameters saved at epoch 5\n",
      "\n",
      "Epoch 6/50\n"
     ]
    },
    {
     "name": "stderr",
     "output_type": "stream",
     "text": [
      "Training progress: 100%|█| 484/484 [01:17<00:00,  6.21it/s, Loss=tensor(1.9701),"
     ]
    },
    {
     "name": "stdout",
     "output_type": "stream",
     "text": [
      "EPOCH   6: Train accuracy: 0.49, Train Loss: 1.97008634, LRate 0.00077378 \n"
     ]
    },
    {
     "name": "stderr",
     "output_type": "stream",
     "text": [
      "\n",
      "Validation progress: 100%|█| 29/29 [00:23<00:00,  1.24it/s, Loss=tensor(2.3834),"
     ]
    },
    {
     "name": "stdout",
     "output_type": "stream",
     "text": [
      "EPOCH   6: Validation accuracy: 0.40, Validation Loss: 2.38337612, LRate 0.00077378 \n",
      "\n",
      "No improvement in loss for 1 epoch(s)\n",
      "\n",
      "Epoch 7/50\n"
     ]
    },
    {
     "name": "stderr",
     "output_type": "stream",
     "text": [
      "\n",
      "Training progress: 100%|█| 484/484 [01:28<00:00,  5.50it/s, Loss=tensor(1.8523),"
     ]
    },
    {
     "name": "stdout",
     "output_type": "stream",
     "text": [
      "EPOCH   7: Train accuracy: 0.51, Train Loss: 1.85227811, LRate 0.00073509 \n"
     ]
    },
    {
     "name": "stderr",
     "output_type": "stream",
     "text": [
      "\n",
      "Validation progress: 100%|█| 29/29 [00:21<00:00,  1.37it/s, Loss=tensor(2.0535),"
     ]
    },
    {
     "name": "stdout",
     "output_type": "stream",
     "text": [
      "EPOCH   7: Validation accuracy: 0.47, Validation Loss: 2.05347610, LRate 0.00073509 \n",
      "\n"
     ]
    },
    {
     "name": "stderr",
     "output_type": "stream",
     "text": [
      "\n"
     ]
    },
    {
     "name": "stdout",
     "output_type": "stream",
     "text": [
      "Best model and parameters saved at epoch 7\n",
      "\n",
      "Epoch 8/50\n"
     ]
    },
    {
     "name": "stderr",
     "output_type": "stream",
     "text": [
      "Training progress: 100%|█| 484/484 [01:16<00:00,  6.36it/s, Loss=tensor(1.7882),"
     ]
    },
    {
     "name": "stdout",
     "output_type": "stream",
     "text": [
      "EPOCH   8: Train accuracy: 0.52, Train Loss: 1.78822386, LRate 0.00069834 \n"
     ]
    },
    {
     "name": "stderr",
     "output_type": "stream",
     "text": [
      "\n",
      "Validation progress: 100%|█| 29/29 [00:21<00:00,  1.37it/s, Loss=tensor(2.0768),"
     ]
    },
    {
     "name": "stdout",
     "output_type": "stream",
     "text": [
      "EPOCH   8: Validation accuracy: 0.48, Validation Loss: 2.07677913, LRate 0.00069834 \n",
      "\n",
      "No improvement in loss for 1 epoch(s)\n",
      "\n",
      "Epoch 9/50\n"
     ]
    },
    {
     "name": "stderr",
     "output_type": "stream",
     "text": [
      "\n",
      "Training progress: 100%|█| 484/484 [01:14<00:00,  6.47it/s, Loss=tensor(1.7111),"
     ]
    },
    {
     "name": "stdout",
     "output_type": "stream",
     "text": [
      "EPOCH   9: Train accuracy: 0.54, Train Loss: 1.71107519, LRate 0.00066342 \n"
     ]
    },
    {
     "name": "stderr",
     "output_type": "stream",
     "text": [
      "\n",
      "Validation progress: 100%|█| 29/29 [00:21<00:00,  1.37it/s, Loss=tensor(2.6264),"
     ]
    },
    {
     "name": "stdout",
     "output_type": "stream",
     "text": [
      "EPOCH   9: Validation accuracy: 0.37, Validation Loss: 2.62637639, LRate 0.00066342 \n",
      "\n",
      "No improvement in loss for 2 epoch(s)\n",
      "\n",
      "Epoch 10/50\n"
     ]
    },
    {
     "name": "stderr",
     "output_type": "stream",
     "text": [
      "\n",
      "Training progress: 100%|█| 484/484 [01:14<00:00,  6.52it/s, Loss=tensor(1.6374),"
     ]
    },
    {
     "name": "stdout",
     "output_type": "stream",
     "text": [
      "EPOCH  10: Train accuracy: 0.56, Train Loss: 1.63740778, LRate 0.00063025 \n"
     ]
    },
    {
     "name": "stderr",
     "output_type": "stream",
     "text": [
      "\n",
      "Validation progress: 100%|█| 29/29 [00:21<00:00,  1.37it/s, Loss=tensor(2.1830),"
     ]
    },
    {
     "name": "stdout",
     "output_type": "stream",
     "text": [
      "EPOCH  10: Validation accuracy: 0.46, Validation Loss: 2.18295670, LRate 0.00063025 \n",
      "\n",
      "No improvement in loss for 3 epoch(s)\n",
      "\n",
      "Epoch 11/50\n"
     ]
    },
    {
     "name": "stderr",
     "output_type": "stream",
     "text": [
      "\n",
      "Training progress: 100%|█| 484/484 [01:14<00:00,  6.53it/s, Loss=tensor(1.5897),"
     ]
    },
    {
     "name": "stdout",
     "output_type": "stream",
     "text": [
      "EPOCH  11: Train accuracy: 0.57, Train Loss: 1.58965313, LRate 0.00059874 \n"
     ]
    },
    {
     "name": "stderr",
     "output_type": "stream",
     "text": [
      "\n",
      "Validation progress: 100%|█| 29/29 [00:21<00:00,  1.37it/s, Loss=tensor(1.8823),"
     ]
    },
    {
     "name": "stdout",
     "output_type": "stream",
     "text": [
      "EPOCH  11: Validation accuracy: 0.53, Validation Loss: 1.88229287, LRate 0.00059874 \n",
      "\n"
     ]
    },
    {
     "name": "stderr",
     "output_type": "stream",
     "text": [
      "\n"
     ]
    },
    {
     "name": "stdout",
     "output_type": "stream",
     "text": [
      "Best model and parameters saved at epoch 11\n",
      "\n",
      "Epoch 12/50\n"
     ]
    },
    {
     "name": "stderr",
     "output_type": "stream",
     "text": [
      "Training progress: 100%|█| 484/484 [01:14<00:00,  6.53it/s, Loss=tensor(1.5027),"
     ]
    },
    {
     "name": "stdout",
     "output_type": "stream",
     "text": [
      "EPOCH  12: Train accuracy: 0.59, Train Loss: 1.50274289, LRate 0.00056880 \n"
     ]
    },
    {
     "name": "stderr",
     "output_type": "stream",
     "text": [
      "\n",
      "Validation progress: 100%|█| 29/29 [00:21<00:00,  1.37it/s, Loss=tensor(2.0068),"
     ]
    },
    {
     "name": "stdout",
     "output_type": "stream",
     "text": [
      "EPOCH  12: Validation accuracy: 0.49, Validation Loss: 2.00683737, LRate 0.00056880 \n",
      "\n",
      "No improvement in loss for 1 epoch(s)\n",
      "\n",
      "Epoch 13/50\n"
     ]
    },
    {
     "name": "stderr",
     "output_type": "stream",
     "text": [
      "\n",
      "Training progress: 100%|█| 484/484 [01:14<00:00,  6.54it/s, Loss=tensor(1.4855),"
     ]
    },
    {
     "name": "stdout",
     "output_type": "stream",
     "text": [
      "EPOCH  13: Train accuracy: 0.59, Train Loss: 1.48549509, LRate 0.00054036 \n"
     ]
    },
    {
     "name": "stderr",
     "output_type": "stream",
     "text": [
      "\n",
      "Validation progress: 100%|█| 29/29 [00:21<00:00,  1.37it/s, Loss=tensor(2.1135),"
     ]
    },
    {
     "name": "stdout",
     "output_type": "stream",
     "text": [
      "EPOCH  13: Validation accuracy: 0.48, Validation Loss: 2.11352491, LRate 0.00054036 \n",
      "\n",
      "No improvement in loss for 2 epoch(s)\n",
      "\n",
      "Epoch 14/50\n"
     ]
    },
    {
     "name": "stderr",
     "output_type": "stream",
     "text": [
      "\n",
      "Training progress: 100%|█| 484/484 [01:14<00:00,  6.52it/s, Loss=tensor(1.4135),"
     ]
    },
    {
     "name": "stdout",
     "output_type": "stream",
     "text": [
      "EPOCH  14: Train accuracy: 0.61, Train Loss: 1.41349924, LRate 0.00051334 \n"
     ]
    },
    {
     "name": "stderr",
     "output_type": "stream",
     "text": [
      "\n",
      "Validation progress: 100%|█| 29/29 [00:21<00:00,  1.37it/s, Loss=tensor(2.0789),"
     ]
    },
    {
     "name": "stdout",
     "output_type": "stream",
     "text": [
      "EPOCH  14: Validation accuracy: 0.48, Validation Loss: 2.07890630, LRate 0.00051334 \n",
      "\n",
      "No improvement in loss for 3 epoch(s)\n",
      "\n",
      "Epoch 15/50\n"
     ]
    },
    {
     "name": "stderr",
     "output_type": "stream",
     "text": [
      "\n",
      "Training progress: 100%|█| 484/484 [01:15<00:00,  6.37it/s, Loss=tensor(1.3694),"
     ]
    },
    {
     "name": "stdout",
     "output_type": "stream",
     "text": [
      "EPOCH  15: Train accuracy: 0.62, Train Loss: 1.36941934, LRate 0.00048767 \n"
     ]
    },
    {
     "name": "stderr",
     "output_type": "stream",
     "text": [
      "\n",
      "Validation progress: 100%|█| 29/29 [00:21<00:00,  1.35it/s, Loss=tensor(1.8263),"
     ]
    },
    {
     "name": "stdout",
     "output_type": "stream",
     "text": [
      "EPOCH  15: Validation accuracy: 0.55, Validation Loss: 1.82631683, LRate 0.00048767 \n",
      "\n"
     ]
    },
    {
     "name": "stderr",
     "output_type": "stream",
     "text": [
      "\n"
     ]
    },
    {
     "name": "stdout",
     "output_type": "stream",
     "text": [
      "Best model and parameters saved at epoch 15\n",
      "\n",
      "Epoch 16/50\n"
     ]
    },
    {
     "name": "stderr",
     "output_type": "stream",
     "text": [
      "Training progress: 100%|█| 484/484 [01:15<00:00,  6.40it/s, Loss=tensor(1.3434),"
     ]
    },
    {
     "name": "stdout",
     "output_type": "stream",
     "text": [
      "EPOCH  16: Train accuracy: 0.63, Train Loss: 1.34336030, LRate 0.00046329 \n"
     ]
    },
    {
     "name": "stderr",
     "output_type": "stream",
     "text": [
      "\n",
      "Validation progress: 100%|█| 29/29 [00:21<00:00,  1.33it/s, Loss=tensor(1.6787),"
     ]
    },
    {
     "name": "stdout",
     "output_type": "stream",
     "text": [
      "EPOCH  16: Validation accuracy: 0.57, Validation Loss: 1.67869401, LRate 0.00046329 \n",
      "\n"
     ]
    },
    {
     "name": "stderr",
     "output_type": "stream",
     "text": [
      "\n"
     ]
    },
    {
     "name": "stdout",
     "output_type": "stream",
     "text": [
      "Best model and parameters saved at epoch 16\n",
      "\n",
      "Epoch 17/50\n"
     ]
    },
    {
     "name": "stderr",
     "output_type": "stream",
     "text": [
      "Training progress: 100%|█| 484/484 [01:16<00:00,  6.34it/s, Loss=tensor(1.2839),"
     ]
    },
    {
     "name": "stdout",
     "output_type": "stream",
     "text": [
      "EPOCH  17: Train accuracy: 0.64, Train Loss: 1.28386009, LRate 0.00044013 \n"
     ]
    },
    {
     "name": "stderr",
     "output_type": "stream",
     "text": [
      "\n",
      "Validation progress: 100%|█| 29/29 [00:21<00:00,  1.32it/s, Loss=tensor(1.8505),"
     ]
    },
    {
     "name": "stdout",
     "output_type": "stream",
     "text": [
      "EPOCH  17: Validation accuracy: 0.54, Validation Loss: 1.85047185, LRate 0.00044013 \n",
      "\n",
      "No improvement in loss for 1 epoch(s)\n",
      "\n",
      "Epoch 18/50\n"
     ]
    },
    {
     "name": "stderr",
     "output_type": "stream",
     "text": [
      "\n",
      "Training progress: 100%|█| 484/484 [01:15<00:00,  6.42it/s, Loss=tensor(1.2432),"
     ]
    },
    {
     "name": "stdout",
     "output_type": "stream",
     "text": [
      "EPOCH  18: Train accuracy: 0.65, Train Loss: 1.24322605, LRate 0.00041812 \n"
     ]
    },
    {
     "name": "stderr",
     "output_type": "stream",
     "text": [
      "\n",
      "Validation progress: 100%|█| 29/29 [00:21<00:00,  1.36it/s, Loss=tensor(1.7750),"
     ]
    },
    {
     "name": "stdout",
     "output_type": "stream",
     "text": [
      "EPOCH  18: Validation accuracy: 0.56, Validation Loss: 1.77502215, LRate 0.00041812 \n",
      "\n",
      "No improvement in loss for 2 epoch(s)\n",
      "\n",
      "Epoch 19/50\n"
     ]
    },
    {
     "name": "stderr",
     "output_type": "stream",
     "text": [
      "\n",
      "Training progress: 100%|█| 484/484 [01:16<00:00,  6.36it/s, Loss=tensor(1.1627),"
     ]
    },
    {
     "name": "stdout",
     "output_type": "stream",
     "text": [
      "EPOCH  19: Train accuracy: 0.67, Train Loss: 1.16272759, LRate 0.00039721 \n"
     ]
    },
    {
     "name": "stderr",
     "output_type": "stream",
     "text": [
      "\n",
      "Validation progress: 100%|█| 29/29 [00:21<00:00,  1.35it/s, Loss=tensor(2.1334),"
     ]
    },
    {
     "name": "stdout",
     "output_type": "stream",
     "text": [
      "EPOCH  19: Validation accuracy: 0.50, Validation Loss: 2.13342857, LRate 0.00039721 \n",
      "\n",
      "No improvement in loss for 3 epoch(s)\n",
      "\n",
      "Epoch 20/50\n"
     ]
    },
    {
     "name": "stderr",
     "output_type": "stream",
     "text": [
      "\n",
      "Training progress: 100%|█| 484/484 [01:16<00:00,  6.37it/s, Loss=tensor(1.1736),"
     ]
    },
    {
     "name": "stdout",
     "output_type": "stream",
     "text": [
      "EPOCH  20: Train accuracy: 0.67, Train Loss: 1.17360973, LRate 0.00037735 \n"
     ]
    },
    {
     "name": "stderr",
     "output_type": "stream",
     "text": [
      "\n",
      "Validation progress: 100%|█| 29/29 [00:21<00:00,  1.36it/s, Loss=tensor(1.5906),"
     ]
    },
    {
     "name": "stdout",
     "output_type": "stream",
     "text": [
      "EPOCH  20: Validation accuracy: 0.60, Validation Loss: 1.59059024, LRate 0.00037735 \n",
      "\n"
     ]
    },
    {
     "name": "stderr",
     "output_type": "stream",
     "text": [
      "\n"
     ]
    },
    {
     "name": "stdout",
     "output_type": "stream",
     "text": [
      "Best model and parameters saved at epoch 20\n",
      "\n",
      "Epoch 21/50\n"
     ]
    },
    {
     "name": "stderr",
     "output_type": "stream",
     "text": [
      "Training progress: 100%|█| 484/484 [01:15<00:00,  6.45it/s, Loss=tensor(1.1035),"
     ]
    },
    {
     "name": "stdout",
     "output_type": "stream",
     "text": [
      "EPOCH  21: Train accuracy: 0.69, Train Loss: 1.10348666, LRate 0.00035849 \n"
     ]
    },
    {
     "name": "stderr",
     "output_type": "stream",
     "text": [
      "\n",
      "Validation progress: 100%|█| 29/29 [00:21<00:00,  1.36it/s, Loss=tensor(2.1128),"
     ]
    },
    {
     "name": "stdout",
     "output_type": "stream",
     "text": [
      "EPOCH  21: Validation accuracy: 0.50, Validation Loss: 2.11284590, LRate 0.00035849 \n",
      "\n",
      "No improvement in loss for 1 epoch(s)\n",
      "\n",
      "Epoch 22/50\n"
     ]
    },
    {
     "name": "stderr",
     "output_type": "stream",
     "text": [
      "\n",
      "Training progress: 100%|█| 484/484 [01:15<00:00,  6.45it/s, Loss=tensor(1.0681),"
     ]
    },
    {
     "name": "stdout",
     "output_type": "stream",
     "text": [
      "EPOCH  22: Train accuracy: 0.70, Train Loss: 1.06808448, LRate 0.00034056 \n"
     ]
    },
    {
     "name": "stderr",
     "output_type": "stream",
     "text": [
      "\n",
      "Validation progress: 100%|█| 29/29 [00:21<00:00,  1.36it/s, Loss=tensor(1.8984),"
     ]
    },
    {
     "name": "stdout",
     "output_type": "stream",
     "text": [
      "EPOCH  22: Validation accuracy: 0.55, Validation Loss: 1.89844000, LRate 0.00034056 \n",
      "\n",
      "No improvement in loss for 2 epoch(s)\n",
      "\n",
      "Epoch 23/50\n"
     ]
    },
    {
     "name": "stderr",
     "output_type": "stream",
     "text": [
      "\n",
      "Training progress: 100%|█| 484/484 [01:16<00:00,  6.36it/s, Loss=tensor(1.0338),"
     ]
    },
    {
     "name": "stdout",
     "output_type": "stream",
     "text": [
      "EPOCH  23: Train accuracy: 0.71, Train Loss: 1.03381085, LRate 0.00032353 \n"
     ]
    },
    {
     "name": "stderr",
     "output_type": "stream",
     "text": [
      "\n",
      "Validation progress: 100%|█| 29/29 [00:21<00:00,  1.35it/s, Loss=tensor(2.4584),"
     ]
    },
    {
     "name": "stdout",
     "output_type": "stream",
     "text": [
      "EPOCH  23: Validation accuracy: 0.45, Validation Loss: 2.45844865, LRate 0.00032353 \n",
      "\n",
      "No improvement in loss for 3 epoch(s)\n",
      "\n",
      "Epoch 24/50\n"
     ]
    },
    {
     "name": "stderr",
     "output_type": "stream",
     "text": [
      "\n",
      "Training progress: 100%|█| 484/484 [01:14<00:00,  6.45it/s, Loss=tensor(1.0131),"
     ]
    },
    {
     "name": "stdout",
     "output_type": "stream",
     "text": [
      "EPOCH  24: Train accuracy: 0.71, Train Loss: 1.01311755, LRate 0.00030736 \n"
     ]
    },
    {
     "name": "stderr",
     "output_type": "stream",
     "text": [
      "\n",
      "Validation progress: 100%|█| 29/29 [00:21<00:00,  1.36it/s, Loss=tensor(1.6569),"
     ]
    },
    {
     "name": "stdout",
     "output_type": "stream",
     "text": [
      "EPOCH  24: Validation accuracy: 0.61, Validation Loss: 1.65693140, LRate 0.00030736 \n",
      "\n",
      "No improvement in loss for 4 epoch(s)\n",
      "\n",
      "Epoch 25/50\n"
     ]
    },
    {
     "name": "stderr",
     "output_type": "stream",
     "text": [
      "\n",
      "Training progress: 100%|█| 484/484 [01:15<00:00,  6.43it/s, Loss=tensor(0.9322),"
     ]
    },
    {
     "name": "stdout",
     "output_type": "stream",
     "text": [
      "EPOCH  25: Train accuracy: 0.73, Train Loss: 0.93219715, LRate 0.00029199 \n"
     ]
    },
    {
     "name": "stderr",
     "output_type": "stream",
     "text": [
      "\n",
      "Validation progress: 100%|█| 29/29 [00:21<00:00,  1.36it/s, Loss=tensor(1.7089),"
     ]
    },
    {
     "name": "stdout",
     "output_type": "stream",
     "text": [
      "EPOCH  25: Validation accuracy: 0.58, Validation Loss: 1.70892262, LRate 0.00029199 \n",
      "\n",
      "No improvement in loss for 5 epoch(s)\n",
      "\n",
      "Epoch 26/50\n"
     ]
    },
    {
     "name": "stderr",
     "output_type": "stream",
     "text": [
      "\n",
      "Training progress: 100%|█| 484/484 [01:15<00:00,  6.45it/s, Loss=tensor(0.9137),"
     ]
    },
    {
     "name": "stdout",
     "output_type": "stream",
     "text": [
      "EPOCH  26: Train accuracy: 0.73, Train Loss: 0.91368401, LRate 0.00027739 \n"
     ]
    },
    {
     "name": "stderr",
     "output_type": "stream",
     "text": [
      "\n",
      "Validation progress: 100%|█| 29/29 [00:21<00:00,  1.36it/s, Loss=tensor(1.7680),"
     ]
    },
    {
     "name": "stdout",
     "output_type": "stream",
     "text": [
      "EPOCH  26: Validation accuracy: 0.58, Validation Loss: 1.76802874, LRate 0.00027739 \n",
      "\n",
      "No improvement in loss for 6 epoch(s)\n",
      "\n",
      "Epoch 27/50\n"
     ]
    },
    {
     "name": "stderr",
     "output_type": "stream",
     "text": [
      "\n",
      "Training progress: 100%|█| 484/484 [01:15<00:00,  6.45it/s, Loss=tensor(0.8793),"
     ]
    },
    {
     "name": "stdout",
     "output_type": "stream",
     "text": [
      "EPOCH  27: Train accuracy: 0.74, Train Loss: 0.87932652, LRate 0.00026352 \n"
     ]
    },
    {
     "name": "stderr",
     "output_type": "stream",
     "text": [
      "\n",
      "Validation progress: 100%|█| 29/29 [00:21<00:00,  1.36it/s, Loss=tensor(1.4385),"
     ]
    },
    {
     "name": "stdout",
     "output_type": "stream",
     "text": [
      "EPOCH  27: Validation accuracy: 0.65, Validation Loss: 1.43845975, LRate 0.00026352 \n",
      "\n"
     ]
    },
    {
     "name": "stderr",
     "output_type": "stream",
     "text": [
      "\n"
     ]
    },
    {
     "name": "stdout",
     "output_type": "stream",
     "text": [
      "Best model and parameters saved at epoch 27\n",
      "\n",
      "Epoch 28/50\n"
     ]
    },
    {
     "name": "stderr",
     "output_type": "stream",
     "text": [
      "Training progress: 100%|█| 484/484 [01:15<00:00,  6.39it/s, Loss=tensor(0.8321),"
     ]
    },
    {
     "name": "stdout",
     "output_type": "stream",
     "text": [
      "EPOCH  28: Train accuracy: 0.76, Train Loss: 0.83207226, LRate 0.00025034 \n"
     ]
    },
    {
     "name": "stderr",
     "output_type": "stream",
     "text": [
      "\n",
      "Validation progress: 100%|█| 29/29 [00:21<00:00,  1.36it/s, Loss=tensor(1.5061),"
     ]
    },
    {
     "name": "stdout",
     "output_type": "stream",
     "text": [
      "EPOCH  28: Validation accuracy: 0.64, Validation Loss: 1.50611103, LRate 0.00025034 \n",
      "\n",
      "No improvement in loss for 1 epoch(s)\n",
      "\n",
      "Epoch 29/50\n"
     ]
    },
    {
     "name": "stderr",
     "output_type": "stream",
     "text": [
      "\n",
      "Training progress: 100%|█| 484/484 [01:14<00:00,  6.53it/s, Loss=tensor(0.8034),"
     ]
    },
    {
     "name": "stdout",
     "output_type": "stream",
     "text": [
      "EPOCH  29: Train accuracy: 0.77, Train Loss: 0.80344385, LRate 0.00023783 \n"
     ]
    },
    {
     "name": "stderr",
     "output_type": "stream",
     "text": [
      "\n",
      "Validation progress: 100%|█| 29/29 [00:21<00:00,  1.36it/s, Loss=tensor(1.7033),"
     ]
    },
    {
     "name": "stdout",
     "output_type": "stream",
     "text": [
      "EPOCH  29: Validation accuracy: 0.60, Validation Loss: 1.70328391, LRate 0.00023783 \n",
      "\n",
      "No improvement in loss for 2 epoch(s)\n",
      "\n",
      "Epoch 30/50\n"
     ]
    },
    {
     "name": "stderr",
     "output_type": "stream",
     "text": [
      "\n",
      "Training progress: 100%|█| 484/484 [01:13<00:00,  6.54it/s, Loss=tensor(0.7809),"
     ]
    },
    {
     "name": "stdout",
     "output_type": "stream",
     "text": [
      "EPOCH  30: Train accuracy: 0.77, Train Loss: 0.78094029, LRate 0.00022594 \n"
     ]
    },
    {
     "name": "stderr",
     "output_type": "stream",
     "text": [
      "\n",
      "Validation progress: 100%|█| 29/29 [00:21<00:00,  1.36it/s, Loss=tensor(1.4969),"
     ]
    },
    {
     "name": "stdout",
     "output_type": "stream",
     "text": [
      "EPOCH  30: Validation accuracy: 0.65, Validation Loss: 1.49692714, LRate 0.00022594 \n",
      "\n",
      "No improvement in loss for 3 epoch(s)\n",
      "\n",
      "Epoch 31/50\n"
     ]
    },
    {
     "name": "stderr",
     "output_type": "stream",
     "text": [
      "\n",
      "Training progress: 100%|█| 484/484 [01:13<00:00,  6.55it/s, Loss=tensor(0.7323),"
     ]
    },
    {
     "name": "stdout",
     "output_type": "stream",
     "text": [
      "EPOCH  31: Train accuracy: 0.78, Train Loss: 0.73229122, LRate 0.00021464 \n"
     ]
    },
    {
     "name": "stderr",
     "output_type": "stream",
     "text": [
      "\n",
      "Validation progress: 100%|█| 29/29 [00:21<00:00,  1.36it/s, Loss=tensor(1.8158),"
     ]
    },
    {
     "name": "stdout",
     "output_type": "stream",
     "text": [
      "EPOCH  31: Validation accuracy: 0.59, Validation Loss: 1.81579411, LRate 0.00021464 \n",
      "\n",
      "No improvement in loss for 4 epoch(s)\n",
      "\n",
      "Epoch 32/50\n"
     ]
    },
    {
     "name": "stderr",
     "output_type": "stream",
     "text": [
      "\n",
      "Training progress: 100%|█| 484/484 [01:13<00:00,  6.54it/s, Loss=tensor(0.7130),"
     ]
    },
    {
     "name": "stdout",
     "output_type": "stream",
     "text": [
      "EPOCH  32: Train accuracy: 0.79, Train Loss: 0.71301156, LRate 0.00020391 \n"
     ]
    },
    {
     "name": "stderr",
     "output_type": "stream",
     "text": [
      "\n",
      "Validation progress: 100%|█| 29/29 [00:21<00:00,  1.37it/s, Loss=tensor(1.6421),"
     ]
    },
    {
     "name": "stdout",
     "output_type": "stream",
     "text": [
      "EPOCH  32: Validation accuracy: 0.63, Validation Loss: 1.64209592, LRate 0.00020391 \n",
      "\n",
      "No improvement in loss for 5 epoch(s)\n",
      "\n",
      "Epoch 33/50\n"
     ]
    },
    {
     "name": "stderr",
     "output_type": "stream",
     "text": [
      "\n",
      "Training progress: 100%|█| 484/484 [01:13<00:00,  6.55it/s, Loss=tensor(0.6731),"
     ]
    },
    {
     "name": "stdout",
     "output_type": "stream",
     "text": [
      "EPOCH  33: Train accuracy: 0.80, Train Loss: 0.67313206, LRate 0.00019371 \n"
     ]
    },
    {
     "name": "stderr",
     "output_type": "stream",
     "text": [
      "\n",
      "Validation progress: 100%|█| 29/29 [00:21<00:00,  1.37it/s, Loss=tensor(1.6436),"
     ]
    },
    {
     "name": "stdout",
     "output_type": "stream",
     "text": [
      "EPOCH  33: Validation accuracy: 0.62, Validation Loss: 1.64360976, LRate 0.00019371 \n",
      "\n",
      "No improvement in loss for 6 epoch(s)\n",
      "\n",
      "Epoch 34/50\n"
     ]
    },
    {
     "name": "stderr",
     "output_type": "stream",
     "text": [
      "\n",
      "Training progress: 100%|█| 484/484 [01:13<00:00,  6.54it/s, Loss=tensor(0.6391),"
     ]
    },
    {
     "name": "stdout",
     "output_type": "stream",
     "text": [
      "EPOCH  34: Train accuracy: 0.81, Train Loss: 0.63909030, LRate 0.00018403 \n"
     ]
    },
    {
     "name": "stderr",
     "output_type": "stream",
     "text": [
      "\n",
      "Validation progress: 100%|█| 29/29 [00:21<00:00,  1.37it/s, Loss=tensor(1.6746),"
     ]
    },
    {
     "name": "stdout",
     "output_type": "stream",
     "text": [
      "EPOCH  34: Validation accuracy: 0.62, Validation Loss: 1.67458856, LRate 0.00018403 \n",
      "\n",
      "No improvement in loss for 7 epoch(s)\n",
      "\n",
      "Epoch 35/50\n"
     ]
    },
    {
     "name": "stderr",
     "output_type": "stream",
     "text": [
      "\n",
      "Training progress: 100%|█| 484/484 [01:13<00:00,  6.54it/s, Loss=tensor(0.5959),"
     ]
    },
    {
     "name": "stdout",
     "output_type": "stream",
     "text": [
      "EPOCH  35: Train accuracy: 0.82, Train Loss: 0.59590971, LRate 0.00017482 \n"
     ]
    },
    {
     "name": "stderr",
     "output_type": "stream",
     "text": [
      "\n",
      "Validation progress: 100%|█| 29/29 [00:21<00:00,  1.37it/s, Loss=tensor(1.4922),"
     ]
    },
    {
     "name": "stdout",
     "output_type": "stream",
     "text": [
      "EPOCH  35: Validation accuracy: 0.67, Validation Loss: 1.49217439, LRate 0.00017482 \n",
      "\n",
      "No improvement in loss for 8 epoch(s)\n",
      "\n",
      "Epoch 36/50\n"
     ]
    },
    {
     "name": "stderr",
     "output_type": "stream",
     "text": [
      "\n",
      "Training progress: 100%|█| 484/484 [01:14<00:00,  6.53it/s, Loss=tensor(0.5878),"
     ]
    },
    {
     "name": "stdout",
     "output_type": "stream",
     "text": [
      "EPOCH  36: Train accuracy: 0.82, Train Loss: 0.58778846, LRate 0.00016608 \n"
     ]
    },
    {
     "name": "stderr",
     "output_type": "stream",
     "text": [
      "\n",
      "Validation progress: 100%|█| 29/29 [00:21<00:00,  1.37it/s, Loss=tensor(2.3340),"
     ]
    },
    {
     "name": "stdout",
     "output_type": "stream",
     "text": [
      "EPOCH  36: Validation accuracy: 0.51, Validation Loss: 2.33403683, LRate 0.00016608 \n",
      "\n",
      "No improvement in loss for 9 epoch(s)\n",
      "\n",
      "Epoch 37/50\n"
     ]
    },
    {
     "name": "stderr",
     "output_type": "stream",
     "text": [
      "\n",
      "Training progress: 100%|█| 484/484 [01:14<00:00,  6.54it/s, Loss=tensor(0.5628),"
     ]
    },
    {
     "name": "stdout",
     "output_type": "stream",
     "text": [
      "EPOCH  37: Train accuracy: 0.83, Train Loss: 0.56282306, LRate 0.00015778 \n"
     ]
    },
    {
     "name": "stderr",
     "output_type": "stream",
     "text": [
      "\n",
      "Validation progress: 100%|█| 29/29 [00:21<00:00,  1.37it/s, Loss=tensor(1.5802),"
     ]
    },
    {
     "name": "stdout",
     "output_type": "stream",
     "text": [
      "EPOCH  37: Validation accuracy: 0.64, Validation Loss: 1.58019686, LRate 0.00015778 \n",
      "\n",
      "No improvement in loss for 10 epoch(s)\n",
      "Early stopping at epoch 37\n",
      "\n",
      "Retrieving best model saved at /Users/tgdimas1/git/CAS-AML-FINAL-PROJECT/notebooks/../src/../checkpoints/pytorch/HybridEnsembleModel/HybridEnsembleModel_best_model.ckpt\n"
     ]
    },
    {
     "name": "stderr",
     "output_type": "stream",
     "text": [
      "\n",
      "Testing progress: 100%|█████████████████████████| 57/57 [00:27<00:00,  2.10it/s]"
     ]
    },
    {
     "name": "stdout",
     "output_type": "stream",
     "text": [
      "EPOCH  37: Test accuracy: 0.65, Test Loss: 1.43225777, LRate 0.00026352 \n",
      "\n"
     ]
    },
    {
     "name": "stderr",
     "output_type": "stream",
     "text": [
      "\n"
     ]
    },
    {
     "data": {
      "text/plain": [
       "([tensor([240,  89,  25,  82, 191,  62, 231, 226, 110,  78, 171, 135,  96, 179,\n",
       "           71,  17, 119, 122,  54, 191,  83, 243, 146,  40,  84,   4,  40, 183,\n",
       "          220, 162, 134, 207,  27,  99, 231,  74,  25,  37,  83,  46, 186,  90,\n",
       "          128,  23, 125, 126, 108,  21, 150,  93, 153, 223, 149, 126,  37, 154,\n",
       "          179, 199, 236,  62, 144,  33,  47, 103, 191,  52, 165, 206,  79,  57,\n",
       "           96, 197, 226,  72, 215, 225, 125,  22, 230, 207, 170,  83, 243, 195,\n",
       "          225, 176,  36, 192,  53,  27,  24,  26,  78,  75, 196, 157,  82, 100,\n",
       "          213,  62, 217, 221,  85,   8, 125, 193, 122,  65,  60,  65,  80, 159,\n",
       "           34,  59, 125,  32,  98, 212, 101, 233, 162,  97,  33, 101,  95, 101,\n",
       "          125, 171]),\n",
       "  tensor([126,  10, 148,  42, 103,  71, 190,  90, 182,  19, 139, 157,  25,  90,\n",
       "          248,  44,  33,  47,  84, 138, 100, 155, 221, 228,  58, 190,  41, 245,\n",
       "          213, 151, 171,   9,   8, 225,  11,  86,  17,  79, 184, 166,  49, 121,\n",
       "          200, 171, 145,  13, 183, 184,  46,   8, 226,  12, 124, 135, 205, 102,\n",
       "           19, 143, 228,  77, 244, 210, 146,  72,  14,  85, 195, 206, 103, 239,\n",
       "          106, 230, 124, 135, 214,  15,  29, 179,  30, 132, 179,   1,   8, 239,\n",
       "          174,  71, 143, 205, 180,  44, 102, 249, 198, 234,  88,  23, 164, 182,\n",
       "           70, 234, 150, 164,  72, 219, 183, 186, 128,  81, 172, 173, 140, 160,\n",
       "          167, 201, 185,  42,  21, 223, 135,  88, 177, 176, 163,  49, 246, 177,\n",
       "           71, 186]),\n",
       "  tensor([ 22, 102,  94, 233, 225, 190,  24,  84, 223, 194, 226, 181,  69,  59,\n",
       "          145,  75, 153,  81,  27, 118, 122, 249,  38, 116, 182,  21, 229, 221,\n",
       "          228, 153,  68, 103, 237,  47, 234, 158,  77, 245, 242,  34, 239,  77,\n",
       "          166, 202, 230, 148,  92, 107, 104, 177,  46, 185, 212, 185,   1, 158,\n",
       "          154,  50, 180, 174, 186, 121,  98, 144, 121, 205, 119,  65, 153, 155,\n",
       "            9,  41,  39,  77, 175, 179,  47, 123,  29,  62,  88, 177, 178,  37,\n",
       "           80,  67, 169,  51,  94,  42,  23, 158,  39,  87, 122, 182, 146, 150,\n",
       "          182, 101, 181,  19,  12, 244, 244,  84, 164, 200,  22,  51, 178, 195,\n",
       "          212, 221,  12,  77, 154, 244, 191, 194, 210,  25, 187, 146, 176, 104,\n",
       "          229,  69]),\n",
       "  tensor([ 82, 196, 112,  78,  94, 189, 146, 225, 186,  32, 204,  21,  46, 121,\n",
       "           42,  67, 174,  87,  23, 238,   1, 227, 227, 223,  17, 216, 164, 212,\n",
       "          193, 126,  82, 194, 244, 185,   5, 214, 113, 221, 246, 229, 235, 153,\n",
       "          143, 145, 205,  58,  88, 243,  87, 229, 100, 233, 111, 248, 218,   7,\n",
       "           55,  26, 248, 161, 182, 230, 196,  34, 226, 172, 120,  41, 196,  18,\n",
       "          189,  82,  14,  12,  80,  84,  67, 198, 238, 235, 242,  50, 224,  89,\n",
       "          192, 154, 234,   6, 190,   8,   2, 106,  14,  16,  50,  26, 151,  25,\n",
       "           42, 164,  83,  36, 122, 131,  63, 145,  59, 191, 217, 190,  91, 206,\n",
       "          197, 212,  24,  92,  32,  50,  86, 241,  99, 229, 232, 234,  57, 174,\n",
       "           77, 238]),\n",
       "  tensor([239,  49,  22, 136, 135,  78,   2, 146,  51, 212, 177, 154, 210,  34,\n",
       "          201, 118,  86, 239, 157, 224, 112, 168, 204,  53, 105,   2,   9, 123,\n",
       "          243,  84, 148, 243,  38, 130, 179, 244,  32,   9,  63,  30, 217, 170,\n",
       "           98,   2, 120,  67, 131, 245, 112, 137, 131, 146,  82,  74, 221,  32,\n",
       "          111,   3, 133, 167, 116, 151, 209, 227,   8, 175,  17, 192, 127,  22,\n",
       "          155,  65, 234,  70,  11,  66,  60, 106, 111,   2, 200,  25, 146, 162,\n",
       "          179, 109, 146,  37,  60, 145,  42, 186,  94, 146,  58, 101, 101, 228,\n",
       "           60,  94, 185, 124,  59, 175, 207, 164,  46, 218, 165, 192,  35, 218,\n",
       "          100, 148, 134, 213,  87,  52,  30,  87,  88, 177,  79, 158, 220, 142,\n",
       "          127, 216]),\n",
       "  tensor([187, 119, 119,  91, 123,  42,  11, 223, 126, 173, 221, 217,  16,  78,\n",
       "           57, 213, 134, 117, 211, 229,  78, 143,  32,  16,  79, 193, 138, 212,\n",
       "          231, 169, 193, 139, 237, 211, 136, 167,   2,  30, 221, 201,  34,  18,\n",
       "          160, 110, 217, 229,  17, 134, 244,  27, 141,  51, 225, 175, 220,   3,\n",
       "          119, 241, 163,  67, 196, 160, 121, 106, 243, 231,  11,  49, 196,  60,\n",
       "           94, 159,  29, 214, 212, 183, 217,  35, 140,  33, 222, 202, 160,  84,\n",
       "           42, 247,  89, 176, 151, 104, 176,  41, 221,  51,  90, 146, 207, 218,\n",
       "          247, 237, 220, 146,  60, 112, 138, 197, 114, 236, 246, 102,  47, 172,\n",
       "          136,  52, 168, 104,  52,  34, 135, 209,  23, 135, 124, 247, 121, 197,\n",
       "           60, 243]),\n",
       "  tensor([219,  84, 226,  37,  75, 128, 239,  69, 143, 204,  31, 191, 197, 240,\n",
       "          247,  89, 114, 248, 227,  20, 178,  78, 103,  70,  42, 224,  38, 230,\n",
       "           87, 229, 220, 123,  49, 207, 242,  41, 212, 115, 172,  11, 181, 163,\n",
       "          213, 192,  55, 126, 199, 231,  45,  48,  37, 202, 248, 112, 135, 156,\n",
       "          125,  36, 146, 230, 228,  33, 172, 102,  98,  86, 177,  92, 226, 129,\n",
       "           38, 106, 199,  60,  36,  16, 140,  65,   0, 201, 219,  86,  37,  13,\n",
       "          155,  14, 160, 125, 103, 232, 209, 178,  24, 143, 198, 230,  21, 169,\n",
       "          239, 156, 212, 207, 248, 186, 193,  29,  58, 173, 126, 237, 189, 213,\n",
       "           48, 115, 134,  34,  13,  90, 243, 108,  65, 132, 166,   2,  68,  29,\n",
       "          114, 177]),\n",
       "  tensor([227, 247, 109,  10, 101,  29, 236, 178,  23,  49, 179, 244, 147,  80,\n",
       "          126, 222, 186, 194,  47,  90,  55, 202, 229, 145, 144, 107, 162,  20,\n",
       "          189, 188, 219,   5, 188,  84, 171,  84,  60, 106, 236,  10, 103, 188,\n",
       "          125, 140,  77, 129, 242, 118, 180, 197, 230, 184,  80, 135, 133,  17,\n",
       "          140,  31, 193, 152, 111,  27,  27,  56,  87, 104, 201, 193,  23,  87,\n",
       "          242, 140, 185, 219,  61, 111, 243,  19, 180, 158,  23,  67, 223, 162,\n",
       "           65,  23, 121,  86, 193, 149,  54, 217,  96, 246,  65,  18,  31, 244,\n",
       "          226,  88,  99,  91, 148, 133, 143, 245, 232, 142, 107,  90,  18, 230,\n",
       "          237,  72,  98, 241, 212,  47,  23,  46, 135, 196, 207,  99,  87, 113,\n",
       "          190, 196]),\n",
       "  tensor([ 17,   8, 162, 164, 229,  85, 141,  98, 172, 137,   3,   9,  15,  37,\n",
       "            5,  75, 105,  51,  22,  81,  44, 179,  45,  84,  50,  78,  58,  80,\n",
       "          143,  84, 241,  77,  78,  63, 229, 213, 196,  77,  99, 194, 241,  76,\n",
       "           29,  98, 177, 192,  32,  23,  61, 122, 182, 157,   1,  26, 198, 244,\n",
       "           57,  57, 189, 197,  25, 176,  40, 113, 165, 201,  12,  81, 186, 188,\n",
       "           86, 172, 174, 141,  18, 174,  23, 143, 154,  50,  87, 223, 116,  17,\n",
       "          162, 114,  93,  39,  39,  73, 151, 214,  32,  26, 105, 163, 246, 206,\n",
       "          135, 125, 232,   8, 183,  29,  86, 205,  92,  16,  80,   4,  29, 130,\n",
       "          236,  89, 166,  90, 245, 123,   6, 217, 204, 118, 186, 125,  52,  46,\n",
       "          217, 224]),\n",
       "  tensor([215,  43, 223,  86, 126, 128,  41, 230, 156,  62,  52, 122, 120, 222,\n",
       "           39, 197, 218, 181, 243, 118,  17,  92, 248, 199, 182,  17,  58,  23,\n",
       "          229,  41, 246,  36, 228, 240,  93,  49,  99, 226,  86,  22,  97, 185,\n",
       "            4, 178, 127, 165,  49, 157, 223, 124, 173, 243, 243, 243, 237, 148,\n",
       "          237,  43, 244,  13, 163, 210, 162,  99, 144, 237,  38, 206, 230, 198,\n",
       "          106, 244, 194,  94, 127, 182, 199, 207, 244, 171, 133, 106, 116,  10,\n",
       "          178, 183,  87, 206,  98,  21,  23, 109, 150, 114, 111,   6,   1, 241,\n",
       "          188,  68,  99,  48, 123, 247,  49, 145,  83,  12,  65,  24, 154, 187,\n",
       "           17, 199, 107, 177, 190,  88, 114, 110,  87,  91, 227,  95, 224, 211,\n",
       "           95, 183]),\n",
       "  tensor([ 23, 177, 215,  50,  91, 127, 155, 193, 157,  79, 152, 227, 104,  87,\n",
       "           53,  82,  42, 243,  30, 170,  48,  91,  26,  87,   2, 165,  39,  81,\n",
       "           70, 174, 142, 221, 171, 112,  91,  58, 156, 240, 118, 228, 223, 233,\n",
       "          150,  15, 146, 155,  79, 226,  19, 112,  34,  14, 195, 152,  94, 129,\n",
       "           28, 207, 225, 207,  98, 188,  47,  81, 236,  83, 188, 228,  48, 244,\n",
       "          208, 108, 128,  28, 173, 151, 100, 218, 234, 202,  17, 174,  72, 163,\n",
       "           90,  70,  83, 235,  43, 159, 217,  18,  41, 230, 165, 240, 154, 190,\n",
       "          189,  92, 166, 237,  71, 162, 156, 195,  59, 147, 137,  37, 103,  33,\n",
       "           62, 245, 193,   4,  17, 130, 246,  85, 220,  86, 131,  94, 226, 187,\n",
       "           28, 135]),\n",
       "  tensor([ 60,   0, 197,  90, 208,  97,   6, 199, 100, 213, 108, 228,  68,  19,\n",
       "           49,  22, 145, 109, 185, 142, 216,  71,  42, 228, 186, 122, 171, 209,\n",
       "          238,  55, 185, 242, 236, 130, 148, 246, 156, 137,  14,  62, 227,  70,\n",
       "           81, 193,  34,   0, 239, 195, 140, 190,  11, 191, 202, 108, 171, 116,\n",
       "          201, 185, 209, 213,  17, 147, 230, 200,  83,  14,  51,  19,  43, 191,\n",
       "           41, 198, 134, 161,  37, 234,  24, 145,  10,  20, 121,   1, 241, 194,\n",
       "           47,  14, 208,   8,  21, 242, 150, 176,   3, 216, 114, 245, 120, 243,\n",
       "           68,  12,  50, 241, 117, 223,  98,  50,  73, 104, 150,  49, 149,  60,\n",
       "          126, 118, 182,  60, 106, 108,  66, 152,  16,  11, 122,  11, 187, 198,\n",
       "          193, 246]),\n",
       "  tensor([120, 139, 108, 221, 172,  17,  18, 114, 245, 166, 121, 229, 237,  77,\n",
       "          107, 204, 157,  11,  75, 112, 200,  11, 242,  84, 228,  28,  18, 112,\n",
       "          147,  32, 169,  40,  10, 195, 191, 202,  11, 156,  29,  24, 207,  33,\n",
       "          213, 194, 197, 150, 117, 148,  73,  55, 143, 101, 193,  68,  84, 226,\n",
       "           92, 126, 225, 192, 173,  77,  52, 181, 130,  26,  73, 124, 116, 100,\n",
       "          120, 161,  98, 141, 161,  85, 132, 196,  87, 204, 218, 154, 131, 193,\n",
       "          227, 108, 112, 110, 245,  91, 178, 249, 181, 226,  22,  76,  68, 147,\n",
       "          151, 175, 171, 234, 127, 181, 183, 247, 114,  15, 214,  18, 185, 198,\n",
       "           33, 197, 152,  21, 249, 208, 154, 110,  65, 208, 245, 119,  91, 186,\n",
       "          207,  38]),\n",
       "  tensor([223, 117, 116,  24, 247,  66,  79, 207, 178, 232, 110, 196, 139,   7,\n",
       "          119,  12, 143,  52, 183, 144, 110,  19, 165, 109, 118, 190, 231, 164,\n",
       "          128,  98, 142,  19, 185, 135, 193,  10,  92,  93, 194, 146,  86,  83,\n",
       "          224,  34, 123, 194, 204, 186,   2,  11,  53,  46, 227, 118, 150, 105,\n",
       "           14, 230, 208, 168,  34,  83,  71,  87, 237,  53, 248,  85,  33, 155,\n",
       "          237,  27,  37,  88, 108, 166,  70, 226, 193, 178,   2,  12,  78,  39,\n",
       "          233, 232, 228, 201, 238,  90,  51, 235, 247,   9, 196,  76,  54, 177,\n",
       "          114, 239, 245,   4,  62, 130, 162, 117,  67,  34,  95,  82,  44, 144,\n",
       "          188, 134,  26, 129,  73, 102, 157,  82, 172, 134, 106, 212, 112,  44,\n",
       "          108,  80]),\n",
       "  tensor([ 56, 154, 244,  43, 193, 190,  20, 105, 234, 217,  77, 145, 208,  48,\n",
       "          207, 225,  55, 224, 233, 165,  35, 146, 194, 194,  87,  37, 198,  69,\n",
       "           15, 211, 160, 151, 144, 182, 117,  72, 113, 103,  42,   2, 242,  28,\n",
       "           59,  19,  98, 184, 208,   2,  89, 239, 152, 133,  12,  85,   3, 177,\n",
       "          111, 198,   2, 104, 242, 221, 147,  52,  29,  60,  20, 232,  87, 135,\n",
       "          233, 174,  47, 106, 151,  65, 119, 141,  16, 100,  27, 204,  93, 221,\n",
       "          177, 173, 223,  38, 140, 178, 245, 136, 240,  64, 165, 194, 173,  36,\n",
       "          140,  93, 246, 239, 180, 223,  10,  65, 245, 183,  66, 207, 236,  90,\n",
       "          235,  97,  23, 135,  34, 120,  70,  66,  20, 243, 190,  77, 155, 122,\n",
       "          248,  72]),\n",
       "  tensor([198,  76, 246,  33,  51,  79, 226,  71, 223,   0, 143, 104,  14, 215,\n",
       "           42, 140,  94, 115, 144, 115,  75,  94, 125,  91,  26, 187, 242, 176,\n",
       "          239,  33, 228,  98, 124,  51,  90, 133, 116, 191, 113, 194, 199,  18,\n",
       "          244, 205, 239, 243,  34, 108,  15,  28,  44,  41, 175,  23, 175, 238,\n",
       "          199,  60, 145,  25, 173, 144, 135,  46, 145, 226,  19, 214,  46,  67,\n",
       "          111,  51,  32, 103, 157, 120,  23,  77,  13, 150, 242, 134,  66,  41,\n",
       "           10, 236, 151, 216, 141, 224, 230, 119, 248, 210, 145, 226, 208, 205,\n",
       "          127, 177,  19,   7, 105,  37, 200, 226,  77,  89,  38,  93,  90,  52,\n",
       "           39, 228, 153,  94, 219, 224,   3, 155, 211,   3,  45,  23, 104,  23,\n",
       "          242, 240]),\n",
       "  tensor([121, 192,  16, 174,  10, 139, 241, 241, 185,  10, 233, 211,  99, 111,\n",
       "          128,  46, 142, 162, 125, 224, 100,  19,  83,  25, 203, 239, 188, 179,\n",
       "          101, 230,  44,  77,  23, 150,   0, 221, 185,  65,  86,  60,  89, 194,\n",
       "          204, 170,  93, 177,  24,  78,  23, 108,  58, 243, 137, 198, 189,  60,\n",
       "           17, 236, 118, 222,   3,  13, 239,  51, 220, 146,  18, 230,   7, 231,\n",
       "           87, 225,  80, 147, 134, 203, 103, 239,  26, 101,  38, 203,  32,  74,\n",
       "          187,  94, 133,   7, 156, 150, 241, 145, 237,  32,  91,  49, 165, 240,\n",
       "          229, 193, 157,  57,  71,   3, 111,  65, 157, 155,  83,  67,  83,   4,\n",
       "          220,   8, 149, 228,  80,  41, 135,  84, 149, 134, 126,  23, 108,  57,\n",
       "          213, 147]),\n",
       "  tensor([158,  55,  96, 103, 220,  66, 151, 186, 162,  94,  33, 235,  61, 186,\n",
       "           81, 249,  54,  99, 169,   8, 103,  33, 214, 199,  14, 108,  82,  51,\n",
       "          235, 174,   9,  99,  42,  39, 185,  34, 241,  84, 100, 119,  84,  16,\n",
       "           68, 234, 199, 138, 199,  90,  31, 166,  31, 238,  34,  27, 154, 178,\n",
       "            0, 117, 226, 118, 211, 116, 117,  31,   2, 194, 170, 170,  78, 173,\n",
       "          174, 152,  91,  57, 144, 142, 174, 173, 174, 224, 217,  55, 212,  87,\n",
       "          136,  63,  81, 194, 174,  18, 236, 249, 158, 212,  21, 109, 199, 194,\n",
       "          183, 210, 156, 168,  53,  67, 237, 209,  57, 126,  13,  18, 112, 214,\n",
       "          103,  60,  47, 178,  61,  65, 249, 199,  58, 224,  87, 202, 126, 198,\n",
       "           57,   0]),\n",
       "  tensor([ 55, 197,  93, 234,  44,  49, 126, 180, 111,  98,  72,  23,  59, 156,\n",
       "           31, 123, 228, 160, 173,   1, 172, 234,  99, 134, 191,  55,   1, 152,\n",
       "          123,  36, 212,  14, 103, 130,   5, 232,   2, 179, 249,  88,  43,  84,\n",
       "          117, 246, 141,  64,  72, 147, 173, 177, 178, 244,  89, 122, 141, 207,\n",
       "          133,  87,  23, 161, 184,  33, 186, 223, 164,  56, 234, 166,  16,  33,\n",
       "           82, 165, 178, 185, 166, 110, 130,  49,  36, 158,  75,  25, 207, 158,\n",
       "            2, 203, 156,  78,  29, 104,  63, 134,  34, 213,   3, 124,  22, 192,\n",
       "           49, 184, 178, 146, 215, 226, 152, 184,  29, 138, 240,   2, 106,  37,\n",
       "          240,  33,  79,  31,  75, 111, 249, 195,  21, 161, 184, 162, 113,  49,\n",
       "          248, 136]),\n",
       "  tensor([ 78, 145, 155,  87, 208, 128, 147, 168,  86, 247,  83, 243, 239, 111,\n",
       "          114,  78, 223,  65,  44, 101,  15, 219,  92, 224,  44,  88,  22, 191,\n",
       "           63, 224,  47, 190, 160,  51,   7, 246, 104, 130, 223,  37, 153, 241,\n",
       "           92, 216,  87, 121, 130,  28, 218,  81,  84,  23,  93, 154, 162, 214,\n",
       "           82,  17,  98, 106, 173,  85, 198, 122, 143, 121, 239, 245, 106, 214,\n",
       "          192, 129,  32, 178, 235, 168, 245, 241, 205, 228, 201, 180,  33,  16,\n",
       "           52,  17, 130, 233,  34, 168,  87, 233,  75,  32, 183,  94, 148,  73,\n",
       "           16, 181,  70, 129, 111, 249,  38,  28, 110, 244, 217, 203,  29, 191,\n",
       "          119,  32, 119, 240, 143,  65, 160,  15, 185, 126, 183, 192, 220, 128,\n",
       "           78, 140]),\n",
       "  tensor([174,  15, 127,  73, 217, 233,  37, 145,  81, 225,   8, 144, 231,  60,\n",
       "          208,   7,  94, 130,  60, 168, 246, 100, 230, 240, 185,   2, 172, 215,\n",
       "           65, 102,  92, 147,  74, 141,  17, 148, 218, 112,  50,  83, 210, 193,\n",
       "          174,  98,  16, 189, 181, 246, 235, 197, 123, 102, 167, 175,   5,  68,\n",
       "           87, 249, 168,  93,  39,  66, 229,  16,  34,  40, 118,  23,  63, 199,\n",
       "          142, 145,  26, 204,  38, 131,  91,  82, 249,  97,  60, 187,  39, 246,\n",
       "            8, 150, 239, 176, 196, 240, 142,  80, 220, 155, 245, 167, 223, 179,\n",
       "           16,  86, 243, 177, 121, 193, 201, 188,  33, 207, 233,  60,  19,  49,\n",
       "           18, 200, 177, 202,  83,   4, 190,  19, 241,  54, 190, 155, 193,  26,\n",
       "           32,  35]),\n",
       "  tensor([226,  88,   8, 167, 137, 111, 142, 217, 101, 147,  10,  80, 134, 240,\n",
       "          172, 126, 100,  84, 242, 213, 245, 137,  63, 153,  28,  29, 186,  49,\n",
       "          194,  50, 145, 221,  78,  77,  17,  81, 180,  62,  65, 212, 120,  29,\n",
       "          208,  72,   4, 220, 242, 200, 137,  16, 143,  90,  16, 243,  87, 142,\n",
       "          174, 226,  65, 157, 227, 160, 168, 212, 185, 122,  89, 114,  44, 129,\n",
       "          236, 145, 140,  87,  77, 185, 170, 233,  91, 137, 226, 112, 249, 174,\n",
       "           77, 143,  42,  49, 205, 202,  58, 138,  50, 109,   9,  69, 187, 121,\n",
       "          214, 243, 164, 172, 242,  57, 149, 186, 216, 204,  77,  85, 158, 237,\n",
       "          245,  11, 199, 131, 146,  53, 151, 244, 163, 235,  90, 108, 123, 166,\n",
       "           57, 230]),\n",
       "  tensor([ 26, 240,  13, 173, 223,  82, 241, 191,  18, 126,  23, 162,  32,  33,\n",
       "          108, 128,  67, 207, 186,  16, 226, 101, 225, 226, 198, 117, 181,  80,\n",
       "           85, 242,  89, 101, 186, 101, 234, 248,  71,  89, 155,  83,  89, 182,\n",
       "          183, 128,   0,  50,  73,  86, 115, 206,  28,  87, 238, 151,  44,  69,\n",
       "          171,  37, 101, 219, 133, 142, 236, 131, 103, 118, 207, 178, 222, 118,\n",
       "          247, 226, 149,  52,  19, 235, 200, 223,  47,  76,  27, 225,   8, 213,\n",
       "            5,  34, 161,  88,  96, 221, 218,  60, 247, 132, 101, 137, 236, 122,\n",
       "          227, 103,  72, 231,  72, 135,  80,  33, 202,  53,   9,  80, 196, 172,\n",
       "           76, 177,  77, 182,  50, 236,  10,  13,  59, 143,  95,  55, 244, 175,\n",
       "          199, 230]),\n",
       "  tensor([115, 205, 214,  23, 197, 108, 249, 128,  65, 124, 223,   0, 114, 104,\n",
       "          223, 230, 118, 186, 189, 225, 132, 213, 212, 212, 233, 130,  61, 189,\n",
       "          207,  26,  59, 124, 228, 229, 181,  63,  96,  65,  99, 235, 223,  99,\n",
       "           75, 104, 175, 244, 229, 131, 192,   9,  59,  99, 107, 171,  17,  56,\n",
       "          135, 191, 185, 244, 186,  92, 125,  97, 183, 244, 200, 201, 159, 230,\n",
       "          171, 215,  70, 127, 168, 173, 212,  78, 236, 106,   8, 121, 223, 143,\n",
       "          217,  23, 180, 198,  46, 210, 161,  60,  55, 151, 186,  53, 233,  80,\n",
       "          162, 223, 193, 249,  54, 178,  58,  28,  79,  85, 244, 142,  34,  94,\n",
       "          216, 155,  58, 188,  90, 158, 212,  23,  82, 141,  91, 205, 205,  90,\n",
       "           81, 224]),\n",
       "  tensor([ 15,  28, 174, 130, 171, 226,  60, 120, 186,  17,  97,  44, 114,  26,\n",
       "           49,  35, 186, 108,  23, 205, 210,  57, 137,  38,  92, 176, 129, 174,\n",
       "           76, 232, 242,  13, 187, 142, 209, 182,  39, 156,  22, 116,  69, 129,\n",
       "          169, 170, 128, 130, 197,  68, 186,  35,   0, 218,  24, 203, 185, 167,\n",
       "           49,  14,  24,  57, 150, 193,  41,  34, 245, 180, 100, 117,  78,  74,\n",
       "           96, 217,  83, 240, 143,  29,  17, 140,  99, 222, 158, 239, 111,  76,\n",
       "          240,  92,  50, 218, 125, 126, 202, 229, 144,  88, 223, 104, 194, 175,\n",
       "          213, 145,   6,  21, 115, 118, 198,   3, 247, 133, 156,  80,  51,  27,\n",
       "           34, 172, 112, 189,  43, 143,  29,  41,  68,  17, 123, 163, 128, 111,\n",
       "          226,  60]),\n",
       "  tensor([ 55,  68, 151,  49,  77, 241, 100,  49,  22, 192,   9, 186, 196,  17,\n",
       "          214,  14, 166,  10,  16, 114,  67, 144,  82, 230,  92, 101, 167, 119,\n",
       "           62, 222, 184, 182, 189, 248, 123, 127, 222,  24,  36, 223, 236,  13,\n",
       "          223,  72, 165, 108,  33, 102, 209, 122,  61, 185, 178, 158,  92, 193,\n",
       "           52,  62, 108, 141, 109,  91,  16,   6, 167,  25,  87,  30,  94, 122,\n",
       "          193,  71, 121, 238,  29, 112,  67, 127, 213,  39, 180, 119, 196,  12,\n",
       "            6, 247, 214,  31, 196,  20, 130,  74,  50, 247,  34,  90, 150,  66,\n",
       "          225, 211, 240,  82, 221,  91,  31, 233,  61,  17, 133,  58, 119,  80,\n",
       "          209, 199,  41, 175, 114, 106,  88,  68, 209, 190,  30,  15,  81, 201,\n",
       "          185, 220]),\n",
       "  tensor([171, 102,  42,  94,  48, 196,  32, 172,  31, 134,  42,  26, 223, 185,\n",
       "            6, 112, 129,  69, 200, 220, 155, 117, 149, 185, 158, 126,   5, 221,\n",
       "          109,  62, 225,  25, 156,  21,  73, 205, 228, 134, 224, 226,  86,  27,\n",
       "          101, 242, 162, 123, 233, 143, 239, 229,  65, 210, 130,   8, 143,  60,\n",
       "           86,  99, 179, 208,  62, 109,  52,  14, 130, 162,  68, 151, 248,  18,\n",
       "           41,  73, 162, 212, 239, 161, 119, 239,  22, 236, 122, 193,  29, 155,\n",
       "          107, 233,  75, 171, 202,   9, 161,  37, 175,  26,  77,  92, 196, 158,\n",
       "           32, 165,  99,  23, 182, 205, 200,  62, 104,  14, 145, 177, 174,  19,\n",
       "           17, 111, 192, 194, 118, 157, 179, 134, 108, 177, 106,  11, 123, 175,\n",
       "           80, 150]),\n",
       "  tensor([104,  50,  28, 153, 122, 128, 244, 178, 154, 135,  98, 219,  96, 173,\n",
       "          117, 178,  92, 210, 167, 153, 121,  66, 212, 184, 103, 112, 214,  46,\n",
       "          218, 161,  41,  20, 166, 159,  44, 108, 224, 174,  36, 161,  48, 103,\n",
       "          237, 204,  57, 172, 147, 126,  31, 144,  63,  10,  67,   4, 140, 155,\n",
       "           40, 241, 185, 143, 184,  86,  75, 143,  81, 209, 239, 219, 101, 142,\n",
       "          150,  22,   4, 152, 148,  54, 128, 123, 151, 239, 143, 241,  15, 191,\n",
       "          244, 212, 179, 178,  42, 230, 243,  88, 177,  13, 122, 198, 140,  33,\n",
       "           91,  13, 212, 144, 154,  12, 185, 162,   7, 209,  17, 227,  11, 120,\n",
       "          159, 203, 128, 187, 100,  27, 246,  59, 243,  52, 184,   3, 172,  19,\n",
       "           54, 106]),\n",
       "  tensor([201, 118, 169,  53, 212, 199,  32, 187, 246,  47, 225, 100, 233, 184,\n",
       "          108, 206, 242, 176, 185, 163,  63,  44, 244,  30, 108,  23, 120, 171,\n",
       "           41,  19,  54, 183,  72,  35,  65,  49,  86, 158, 103, 111, 110,  49,\n",
       "          129,  44, 199,  51,  88, 175, 145,  29, 108,  96, 224, 192, 191, 108,\n",
       "           16, 156, 141,  41, 198, 155,   0, 246,  31, 159,  31,  30,  89,  41,\n",
       "          224,  99,  19,  13, 142, 197,  47, 198, 103, 189, 229, 179, 167, 190,\n",
       "          159, 171,  58, 211,  36, 174, 207,  84,  34,  42, 199, 161, 249, 159,\n",
       "          202,  50, 126, 183, 142, 241, 147,  61,  67, 198, 208, 213, 183,  22,\n",
       "          201, 201,  46,  80,   4, 123, 248, 219, 117, 249, 108,  95,  49, 174,\n",
       "          239, 213]),\n",
       "  tensor([241, 142, 152,  20,  93, 218, 108, 108, 242, 233, 124, 158, 150, 226,\n",
       "          131, 110,  98,  28, 193, 212,  98, 125, 167, 186,  70, 206,   0, 125,\n",
       "           15, 181, 121, 190, 183,  60, 107, 188, 186, 135, 108, 121,  31,  98,\n",
       "          165, 212, 167,  87, 219,  59, 192, 143,  68,  52,  40,  49, 235, 118,\n",
       "          114, 221, 122,  16, 244, 174,  60, 230,   8, 171, 167, 136, 219, 190,\n",
       "           40,  27, 101, 246,  84, 159, 232, 184, 179, 243, 162, 119,  28, 246,\n",
       "          184,  70,  67,  39, 125,   0,  43, 196, 189,  27,  49, 104, 190, 225,\n",
       "           17, 237, 182, 215, 183, 223,  13, 113, 124, 144,  33, 129, 192,  72,\n",
       "          209, 247, 196,  24, 221,  49, 123,  27, 241, 192, 194,  58, 211, 247,\n",
       "           12, 233]),\n",
       "  tensor([ 36, 140,  52, 180, 108, 177, 172, 126,  14, 204, 185, 243, 222, 203,\n",
       "           18, 151,  10, 129,  93, 201,  36,  54, 134, 127,  63, 181, 130, 180,\n",
       "          148, 244, 148, 109, 111, 212, 111, 242,   6, 227,  95,  73,  60, 240,\n",
       "          216,  31, 107,  59, 126, 211,  70, 104,  82, 217, 134,  39, 149, 199,\n",
       "          185, 247, 224, 195,  86, 178, 244, 100,  15,   7, 158, 105, 222, 242,\n",
       "           68,  62, 185,  57, 212, 227,  45, 191, 138,  39,  86, 137,  50, 137,\n",
       "          213,  17,  22,  51,  83, 248,  33, 243,  47, 185,   7,  60, 165,  69,\n",
       "          128,  33, 173,  73, 212,  55,  86, 163,  48, 174,   9,  49,   1, 153,\n",
       "          175, 129, 181,  86, 104,  81, 173, 226,   8,  69, 107, 123, 248, 186,\n",
       "           38, 246]),\n",
       "  tensor([186, 110, 105, 192,  23,  82,  57, 227, 198,  86, 185,  87, 218, 226,\n",
       "           84,  12, 199, 128, 137, 221, 155,  82, 102, 151,  32, 186,   2,  89,\n",
       "          247,  54,  19, 143,   6,  86,  70, 131, 155,  51,   4, 193, 165,  85,\n",
       "          185, 246, 105,  28,  14, 108,  75, 162, 105,  93,  79,  79, 141, 189,\n",
       "          142, 217, 158,  36, 119, 174,  15, 152,  98,  92,  85, 145, 136, 153,\n",
       "          155,  82, 212,  79, 164, 185,  21, 198,  83,  80,  22, 108,  94, 121,\n",
       "          165, 188,  32, 172, 178, 111,  24,  13, 162,  14,   8, 185,  82, 160,\n",
       "           73,  29, 239, 247,  35, 211, 234,  26, 186, 117,   3, 121, 190, 229,\n",
       "           34,  52, 143, 153, 114, 181,  20, 173,  81,  79, 131, 207, 210,   2,\n",
       "           88,  82]),\n",
       "  tensor([187, 212,  77,  91, 216, 125, 118, 100,  36,  49,  56, 223, 163, 209,\n",
       "          126, 219, 173, 230, 141,  51,  42,  43, 236,  95, 122,   1,   2, 134,\n",
       "           51, 212, 171, 227,  41, 192, 148,  77,  35,  97, 180,  65,  82,  48,\n",
       "           82, 161, 191, 176, 214,  87,  21, 232, 121, 231, 165, 223, 145,  12,\n",
       "           96,  31, 131, 128,  69,  23, 210, 245, 143, 214, 238, 236, 102,  80,\n",
       "          147, 223, 206, 177, 247, 106, 227, 226,  36, 185,  33,  29,  77,  31,\n",
       "          172,  92, 193,  86, 135, 137,  75,  77, 130,  13, 202,   6, 142, 240,\n",
       "           58, 121, 167, 175, 196,   8, 143, 230, 100, 158,  88, 196, 195, 233,\n",
       "          110, 229, 136, 207,   2, 199, 234, 127,  25,  39, 238,  15, 240,  98,\n",
       "          148, 171]),\n",
       "  tensor([131, 186, 113, 120,  10, 195, 178,  51, 227, 230, 163, 148, 230, 128,\n",
       "           86, 102,  82,  89,  15,  80, 189, 190,  15, 203, 210, 243,  72,   2,\n",
       "          177, 121,  98, 228, 207,  52, 236, 217, 244, 190, 182,  23, 222, 166,\n",
       "          208, 214, 172,  65, 237,  47,  21, 230,  35,  29,  42,  36, 183,  66,\n",
       "           65, 179, 130, 162,  77, 230,  22, 219, 195,  86, 248, 183,  31,  65,\n",
       "           32, 217,  81,  18, 228, 227, 212, 229,  24, 139, 222, 226, 229, 214,\n",
       "          168,  23,   7,  30, 102,  88, 185,  80, 186,  65, 117, 149, 210,   2,\n",
       "          110,  23,  11,  77, 227, 183,  41, 147,  38, 242, 223,  51, 226, 103,\n",
       "           78, 159, 178,  23, 246, 177, 245,  98, 156, 245, 217, 244, 211, 141,\n",
       "          110, 157]),\n",
       "  tensor([222, 141, 162, 128,  87, 154, 134, 211,  88,  33, 134, 108, 191, 245,\n",
       "          179,  77,  43, 220, 240, 102,  76,  83, 213, 200, 183,  72, 192,  85,\n",
       "           94, 214, 177, 148,  31,   0,  37, 240,  52, 239, 228, 140, 186, 129,\n",
       "          240, 192,  86, 147,  60, 186, 154, 126,  23,  29, 238,  56,  29, 135,\n",
       "          153,  87,  25,  73, 199, 175, 189, 160, 192,  41, 179,   0, 129, 110,\n",
       "           83,  25,  44, 240,  86,  18, 143,  13, 203,  99,  69,   2,  68,  39,\n",
       "          104, 173, 195,   6,  34,   7, 245,  53,  41,  63, 218, 212, 201, 136,\n",
       "          210,  55, 192, 163, 226, 121,  69,  11,  90,  14, 107, 161, 177, 181,\n",
       "          226,  86,  26,  34, 103, 207, 186,  54, 186, 228,  69,  28, 211,  24,\n",
       "            3,  31]),\n",
       "  tensor([ 82, 104,  81,  61,  63,  33, 242, 153, 158,  77,  36,  22, 145,  68,\n",
       "          212,  61, 209,  68, 178, 143, 101,  78, 200, 103,  31,  72,  88, 185,\n",
       "           25,  55, 246,  10, 142, 196, 145,  93,   0, 165, 154, 214,  24,  75,\n",
       "           31,  63, 225, 119,  78, 195, 204,  29, 196,  12, 192, 166,  16,  83,\n",
       "           37, 121,   1,  46, 208, 217, 170,  68,  99, 106,  68, 172, 185,  70,\n",
       "          237, 226, 146, 236, 171, 233,  82,  50,  10,  32, 195,  12,  45, 171,\n",
       "           18, 183, 198, 102,  78, 175,  15, 118,  24, 194,  16,  41,  67,  28,\n",
       "          121, 180,  98,  93, 201,  50, 166,  67, 107,  10,  78,  78, 241, 204,\n",
       "          211, 118, 178, 243, 215,  86,  84,  60, 197, 221,  48, 136, 229, 236,\n",
       "          221, 172]),\n",
       "  tensor([229, 136,  77, 159, 225,  40, 230,  87, 147, 114,  87,  98,  36,  77,\n",
       "           70, 195,  80, 217,  23, 133, 249,  73, 142, 163,  80, 185, 150, 201,\n",
       "           61, 219, 106, 176,  29, 166, 117,  10, 191, 185,  22, 217, 166,  13,\n",
       "          203, 114, 207, 230,  27,  90,  86, 189, 153, 234,  19, 223, 246, 100,\n",
       "           68, 172,  19, 248, 237, 158, 192,  54, 206, 174, 227, 156,  56, 115,\n",
       "          239,  65,  37,  94,   8, 154,  69, 198, 146,  30,  19,  10,  21, 127,\n",
       "          213,  87,  63, 184, 200, 199, 190, 236, 239,  53,  26, 124, 204, 213,\n",
       "          122,  33,  56, 173, 226,  37,  37, 125,  51,  20, 234,  58,  92, 172,\n",
       "          114,  18, 218, 213,  23, 199, 215,  73,  81,  91, 245,  98,  35,  37,\n",
       "           36, 249]),\n",
       "  tensor([189, 225,  99, 173, 189, 195,  51,  52,  48,  22,   0,  31, 192,  50,\n",
       "          196, 171, 161, 196,  91, 117,   7, 241, 209, 204, 176,  50, 199,  58,\n",
       "          226,  66, 123,  28, 199, 180,  92,  43, 169,  73,  81, 134, 189, 150,\n",
       "          168, 121, 151, 119, 209, 125, 140, 185,  11,  35, 196, 127, 110, 177,\n",
       "          198, 191,  51, 195, 243,  25, 100,  83, 179, 205, 228, 102,  62,  88,\n",
       "          169, 142, 239, 242,  50,  61,  17,   3,  61,  65,  46, 199,  50, 228,\n",
       "          103,  46, 118,   0, 247,   5, 109,  77,   3,  57, 217, 125, 175, 100,\n",
       "          151, 171, 181,  50,  55, 219,  65, 116, 100, 241, 190, 177, 208,  75,\n",
       "           12, 108, 100, 187, 236, 151, 223, 174,  52,  87,  22, 207, 197, 157,\n",
       "          168,  89]),\n",
       "  tensor([204,  68, 198, 227, 112,  75,  13,   2, 105,  46,  67,  25, 145, 217,\n",
       "           62,  35,  65,  27, 233,  19, 157,  70,  69, 229, 162, 214,  77, 215,\n",
       "          103, 128, 175,  59,  39,  54, 191, 107, 158, 222,  69, 191, 150, 173,\n",
       "          240,  27, 104,   2,  80, 112, 101,  33, 144, 187, 201,  50, 115, 149,\n",
       "           24,  70, 114,  81,  67, 131,   5,  81, 221, 130, 130, 228, 108, 143,\n",
       "           91, 137, 223, 245, 129,  37, 200, 177,  66, 243,  88,  94, 137,  16,\n",
       "          153,  78, 103,  65, 157,  48, 140, 149, 178,  71,  39, 126, 117, 235,\n",
       "          223,  47,  77, 171, 172, 143,  94,  86,  62,  23,   9, 216,  66, 236,\n",
       "          163,  75, 247, 213,  11, 217, 185,  91, 217,  98, 178, 225, 148,  72,\n",
       "           23, 167]),\n",
       "  tensor([201, 121, 233,  34, 136,  28,  42,  42,  46,  24, 193, 217,  30,  59,\n",
       "          236,  17, 142, 169,  55, 228,  17, 205,  20, 193, 112, 205,  83,  76,\n",
       "          126,   2, 131, 171,   9, 162,  88, 185, 170, 149, 181, 135, 217,   8,\n",
       "          219, 151, 192, 150, 129, 219, 203,  26, 174, 123,  90,  52, 127,  51,\n",
       "          176, 212, 223, 171, 109,  93, 166,  17,  14, 173,  83,   8, 173, 177,\n",
       "           77, 155,   0,  43, 107, 142, 178, 172,  84, 214,  52,  54, 131, 245,\n",
       "           30, 155,  33, 162, 104,  86, 112,  85, 243, 239, 195, 236, 101, 206,\n",
       "          162, 176,  44,  72, 224,  67,  23,  51, 237, 183, 157, 177,   8, 214,\n",
       "          150, 189, 239,  77, 218,  96,  28, 199, 207, 130,  26,  59, 111, 104,\n",
       "           73,  93]),\n",
       "  tensor([189, 119, 237, 164, 196,   8, 104, 242, 244,  75,  38,  10, 167, 162,\n",
       "          179,  91, 208, 242, 130, 109,  18, 240, 229, 239, 185, 242,  80, 120,\n",
       "           15,  80,  72, 170, 144,   8, 227,  44,  66, 104, 135,  16, 224, 117,\n",
       "          236,  31, 139, 193, 114, 163,  60, 227,   0, 106, 203, 196, 112, 145,\n",
       "          246, 188,  36,  85, 192, 140, 240,  65, 118, 116,  77, 209, 165,  24,\n",
       "          154, 240, 168, 207, 109,  87, 226, 127, 189, 162,  23, 225,  80, 169,\n",
       "           30, 159, 228, 249,  11, 235, 200, 245,  81, 152, 101,   6,  65, 230,\n",
       "           30, 108,  33,  72, 127,  26, 126,  47,  86,   5, 189, 158,  72, 233,\n",
       "          229, 166,  19, 223, 182, 200, 225, 210,  78, 236, 119,   4, 182, 190,\n",
       "          165, 191]),\n",
       "  tensor([165,  93,  49,   1,  63, 229,  47,  55, 223, 177,  21,   7, 199, 118,\n",
       "          106, 198,  13, 199, 147, 178,  26, 144, 240, 108,  30, 169,  90, 173,\n",
       "          203, 189,  98, 190, 225,  30,  28,  66, 156,  83, 240, 119, 145, 101,\n",
       "          186, 230,  47, 158,  31,  84, 245, 244,  67,  36,  37,  58, 224, 162,\n",
       "           86,   4, 199, 224,  57,  26, 177, 181, 217,  51,  51, 151, 177,  37,\n",
       "          125, 176, 145, 223, 224,  46, 140, 167, 167,  50, 217, 225, 184, 124,\n",
       "          173, 196,  78, 122,  81, 171,  94, 118, 159,  27, 140, 126, 207, 107,\n",
       "          186, 219, 120, 248,  78, 233,  48,  72, 178, 219, 140,  16,  65, 234,\n",
       "          247, 121,  69, 140, 108,  61,  10, 120,  83,   6, 248,  75, 123, 164,\n",
       "          149, 165]),\n",
       "  tensor([102,  69, 108,  45, 176, 180, 100, 233, 234, 144, 194,  37, 129, 137,\n",
       "           11, 249,  14,  44,  93, 146, 135, 158, 166,  73, 146,  63, 180, 155,\n",
       "           51, 103, 160, 158,  39,  83, 242, 111, 157,   8,  57, 147, 148, 137,\n",
       "            3, 213, 186, 126, 219,  59,  55,  90, 119, 240,  64, 216,   6,  99,\n",
       "           22,  90, 135, 122,  54, 247, 108,  57, 162,   1, 220, 210, 173, 226,\n",
       "           58,  50,  99, 146, 101, 242,  74, 108,  22,  72, 126, 185, 139, 208,\n",
       "           90, 224, 136,  23,  70,  54,  93, 198, 130, 133, 148, 167,  26,  16,\n",
       "          178, 119, 240, 173,  61, 203, 220, 244,  92, 126, 135,  50,   7, 236,\n",
       "            6, 205, 145,  33,  66,  16,  18,  81, 186, 130,   7, 222, 173, 213,\n",
       "           36, 175]),\n",
       "  tensor([ 65,  24,  88,  68, 175, 154,  98,  43, 208,  78,  51,  35,  60, 150,\n",
       "           91,  66,  92,  10, 172, 236, 145,  65, 213,  25, 146, 210,  18,  52,\n",
       "           36, 162, 167, 129,  29, 122, 186,  41, 167, 231,  52, 177, 221,  27,\n",
       "           50, 157, 116,  86,  41,  51, 150,  26, 241, 233, 183, 173, 135, 237,\n",
       "          135,  90, 196, 123, 230, 115, 165, 141, 120,  60,  67,   8, 182,  10,\n",
       "           74, 123,  35,  59, 104, 220, 135, 184,  93, 145, 135, 210,   4, 240,\n",
       "          134,  80,  79,  17, 178,  57,  95,  80,   1,  52,  80,  33,   6,  72,\n",
       "          166, 224, 225, 137,  75, 163,  24, 248,   3,  10,  37,  87,  11,  65,\n",
       "           68, 165, 234, 229, 230,  54, 178, 244, 201, 248, 158,  23, 137, 158,\n",
       "          216, 118]),\n",
       "  tensor([151, 147,  32, 228, 217, 181,  87,   2, 134, 142, 126,  29, 224, 243,\n",
       "          207, 226, 101,  10, 146, 245,  32, 156, 179, 158, 163,  46, 131, 206,\n",
       "          217,  71,  78,  44, 182,  70, 106, 196, 244,  61,  14, 115,  85, 199,\n",
       "          192,  68, 104, 238, 163, 165, 227,  54, 139,  68, 104, 174, 103,  55,\n",
       "          193,  27,  41, 223,  33, 246,  43,  82, 156, 186,   4, 196, 143, 209,\n",
       "            1,  14, 205, 160, 180, 111, 113, 198, 183, 240, 100,  96,  26, 246,\n",
       "           67, 221,  86, 203,  72, 154, 157, 122, 199,  57,  75,  55,  83,   6,\n",
       "          204,  18, 122,  16, 219,  87, 248,   7, 213, 126,  37, 187,  55,   6,\n",
       "          145,  84,  44, 103,  17, 202, 175,  53, 144, 149,  25,  48, 207,  76,\n",
       "           18, 122]),\n",
       "  tensor([ 90,  17, 143, 147, 171,  78, 149, 110, 179, 245, 147, 212, 172,  30,\n",
       "           65, 122,  38, 242,  95,  99,  33, 213,  14,  56,  63,  40, 226,  13,\n",
       "          107,  39, 200, 231,  72,  89, 234, 132,  82, 159,  84,  26, 212, 231,\n",
       "          139, 194, 188, 243,  98, 149, 141, 227,  57, 162, 172, 228, 133, 178,\n",
       "          163, 147, 230, 196, 237, 233,  66, 184, 238, 209,  61,  50,  10, 217,\n",
       "          105, 233,  53,  60,  40, 243, 132, 223, 150, 191, 179,  79,  62, 100,\n",
       "          121,  46, 239,  75, 153, 215,  51, 140, 114,  72,  77,  52, 159,  16,\n",
       "          125, 148, 182, 114, 222, 133, 158,  31,  15, 186,  26, 226, 198,  60,\n",
       "          191,  50, 177,  98,  87,  15, 145,  28, 219,  99, 179,   2, 185,  89,\n",
       "          236, 151]),\n",
       "  tensor([153,  36, 151, 101, 228,  68, 163, 246, 196,   9, 129, 175,  55,  73,\n",
       "           89,  97,   4,  88, 148, 139, 207,  10, 203, 185,  91,  86, 177, 116,\n",
       "           99, 212,  15,  20,  80,   2, 189, 134, 202, 213, 227,  23, 145,   7,\n",
       "          207, 207, 125, 179, 133, 220,   3,   2,  28, 204, 164,  58, 210, 248,\n",
       "          110, 245,   7, 205, 211, 220,  12, 193, 224, 211, 223,  60,  60,  14,\n",
       "          126, 127, 190,  94, 246, 137, 240, 213,   6, 145,  15, 217,  63, 129,\n",
       "           39,  73, 130,  21, 108, 185, 221, 239, 141, 229, 224,  90,  99,  57,\n",
       "          166,  42,  80,   3, 236, 103,  77, 200, 178,  17,  38, 203, 199,  37,\n",
       "          194, 123, 230, 114, 177, 239, 233,  13, 245,  26,  96, 182,  63, 167,\n",
       "          166, 223]),\n",
       "  tensor([106,  82, 115, 212,  75, 143,  83, 191,  37,  85,  77, 116,  51, 103,\n",
       "          204, 134, 140, 213,  76, 181, 104,  34, 119,  83,  14, 150, 189,  19,\n",
       "           62, 209, 237, 233, 219, 233,  72,  57,  37, 202,  42, 241,   1, 202,\n",
       "          227, 102,  50, 173,  85, 224, 108, 200,  34,  26,  24, 227,   0,  39,\n",
       "          215, 173, 228, 141, 110,  73, 240, 229,  10, 139, 132, 181,  15, 210,\n",
       "           14,  29, 184,  77,  25, 135, 248, 171, 106,  52,  85, 187, 148,  28,\n",
       "           72,  87, 113, 209, 121,   6, 225, 190, 150, 214, 103, 173,  46,  52,\n",
       "          135, 154,  70,  68, 128, 166, 237,  88,  43, 154, 238, 165,  51, 229,\n",
       "          129, 129, 145, 181,  26, 245, 104, 169, 110,  63, 141, 153, 160, 236,\n",
       "          211, 239]),\n",
       "  tensor([ 22,   6, 189, 190, 148,  89, 233,  99, 154, 210, 148, 196,  63, 100,\n",
       "          143,  40, 129,  80, 144, 194, 214, 142,  42, 211,  80,  42,  23, 118,\n",
       "          243,  31,  63, 204,  70,   0, 108, 166,  60,  54,  59,  67, 176, 119,\n",
       "           50, 238,   3,  99,  19, 204, 249, 201,  10, 128, 117,  34, 198, 146,\n",
       "          167, 109, 182,  84,  37, 102, 177, 244, 212, 118, 118,  73, 241,  62,\n",
       "           45,  31,  39, 167,  59, 135, 167,  92, 153,  22, 156, 148, 184, 205,\n",
       "           30,  75, 234, 227, 183, 115, 130, 191, 130,   8,  57, 131, 176, 201,\n",
       "          244, 194, 102, 117,  33,  30,  94, 113, 228, 110,  33, 182, 175,   2,\n",
       "          227,  26,  31, 201, 147,  15, 208,  10, 174,  60, 183, 139,  94, 124,\n",
       "           37, 178]),\n",
       "  tensor([187,  51, 242, 205, 147, 108,  32, 157,  85, 116, 238, 122, 104, 161,\n",
       "           59, 154, 178,  89, 236,  78,  11, 207,  14,  32, 143, 111,   1, 217,\n",
       "           37,  33, 167, 137, 133, 200, 199,  90, 131,   1, 215, 243, 218,  86,\n",
       "           23,   1, 121, 212, 158,  14,  19,   0,  83,  63, 217, 214, 218, 104,\n",
       "          223, 240, 139,  50, 177, 142, 233, 111, 205,  91, 102,  77,   1, 112,\n",
       "           46, 114, 222,  90, 225,  92, 201, 125, 158, 197,  57,  47, 217, 145,\n",
       "           98,  94,  30, 240,  74,  87,  35, 212, 163,  96, 172,  32, 130, 166,\n",
       "          196, 227, 194, 237, 230, 145, 165, 174,  51, 187, 135,   8,  75, 178,\n",
       "          137, 202,  37, 155,  29,  46, 197, 238, 166,  22,  89, 240, 225, 112,\n",
       "          199, 149]),\n",
       "  tensor([  5, 134, 205, 153, 192, 209, 204, 134, 162,  80,  44, 182,   0, 101,\n",
       "           32, 218, 137,  11, 177, 248, 224, 240, 246, 118, 127, 162, 204, 169,\n",
       "          108, 102,  59, 152,  26, 194, 120, 242, 132,  88, 198, 110, 155,  86,\n",
       "           81,  16, 191,  40, 239, 146,   9,  19, 198, 246, 163, 238,  15,  59,\n",
       "          118, 131, 232, 182, 111, 215,  25,  61, 228, 236,  15, 200,  16, 200,\n",
       "          219, 158,  46,  20,  76,  10, 217, 161, 177,  77, 185,  98, 219, 247,\n",
       "           26,  60, 180,  80, 230, 145,  54, 116, 111, 145, 157, 122, 158, 177,\n",
       "           64, 154, 208,  26, 162,  52, 152,  48, 205, 211, 103,  73, 242, 136,\n",
       "           64, 149, 247, 171, 105, 172,  55, 194, 178, 101, 143, 200, 109,  46,\n",
       "           46, 209]),\n",
       "  tensor([ 15, 233,  30, 192, 151, 169,  74, 119, 249,  31, 117, 218, 131, 118,\n",
       "          217, 230,  59, 209, 215, 225, 108,  50, 146, 221,  34,  26,  72, 126,\n",
       "           60, 162, 230, 117,  59,  98,  58,  28, 113, 166, 177, 226,  43,  17,\n",
       "          118, 167,  68, 163,  65,  89,  29, 245,  54, 210, 111, 119,  80, 217,\n",
       "           28, 241,  81, 224,  23,  81, 161, 115, 121, 175, 137, 136, 206, 182,\n",
       "           93, 147, 246, 102, 202,  57, 122,  95,  18,   1, 214,  22, 208, 174,\n",
       "          108,  77,  68,  59, 164, 228,   8,  98,  30,  60,  65, 204, 142,  60,\n",
       "          204, 111,  65,  18, 200, 207,  50, 158,  96, 116, 236,  84, 186,  71,\n",
       "          155, 158, 143,  25,  77,   8, 173, 129, 140,   5, 221,  72,  71, 164,\n",
       "           61,  34]),\n",
       "  tensor([125, 233, 217, 124, 245, 228, 144, 136,  77,  88, 190,  83, 223, 219,\n",
       "           69, 154,  92, 199, 161, 189, 247,  31, 181,  75, 220, 243,  15, 233,\n",
       "          154, 114,  10,  59,  20,  16,  50,  44,  85, 123,  59,  98, 157,  26,\n",
       "          197,  60, 126, 101,  33, 128, 211,  89, 100,  52, 108, 246, 147,  54,\n",
       "            5, 190, 195,   7,  80, 124, 183, 148, 175, 239, 203,  26, 108, 229,\n",
       "          150,   9, 247, 119, 213,  60, 182, 188, 233, 158,  57, 177, 110,  95,\n",
       "           30, 124,  41,  68,  63, 216, 212, 162,  45, 150, 125, 208, 107, 162,\n",
       "          186, 220, 145, 220, 208,  58,  12, 229, 185, 166,  45, 122, 225, 123,\n",
       "          228,   2, 234, 108, 153,  71,  83,  29,  15, 247, 232,  94,  64,  30,\n",
       "           55, 213]),\n",
       "  tensor([200, 177, 191, 145, 112, 186,  21, 245, 127, 167,  29, 203, 110,  64,\n",
       "           81, 201,   2, 136, 114,  24, 141, 244, 216,  62,  86, 104, 140, 127,\n",
       "          196, 118,  31, 197,   3, 153, 125,  63, 112, 185,  11,  35, 192, 237,\n",
       "           79, 148, 205,  57, 213, 100, 174, 200, 203, 179, 133,  36, 112, 221,\n",
       "          102, 156,  59,   5,  95,  81,  89, 227, 164,  80, 212, 187, 119,  59,\n",
       "          226, 209, 239, 233, 168,  52, 167,  90, 129, 180, 200, 103, 138, 145,\n",
       "           49, 182, 141,  78,  82, 191, 110,  14,  32, 204, 137,  45, 180,  15,\n",
       "           66, 240,  80,  63, 162,  28, 177,  71,  61, 129, 197, 245,   2, 150,\n",
       "          166, 244, 126,  10,  98,  44, 103, 200,  87, 185, 123, 141, 244,   1,\n",
       "           87, 194]),\n",
       "  tensor([146, 217, 166, 112, 199, 167, 194, 125,  78, 183, 146, 212, 194, 183,\n",
       "          234, 148, 194,  34, 100,  80, 126, 194, 150, 165,   2, 226,  96, 217,\n",
       "           89, 197, 132, 245, 192,  16,  33, 100,  92,  92,  91,  55, 207,  64,\n",
       "           94,   8,  52,  66,  44,  80, 138, 114,  38, 162, 227,  74, 126, 210,\n",
       "           99,  57, 141, 239,  66,  65, 146, 247,  19, 164, 171, 218,  89, 185,\n",
       "          113, 215, 239, 193, 194,  58, 188,  19, 227,  61,  55, 187, 182,  82,\n",
       "           81,  56,  86, 173, 174, 219, 174, 148, 122, 143, 115,  64,   9, 113,\n",
       "          229, 128,   6, 196, 136,  89, 126, 229, 236, 222,  72, 246, 162, 177,\n",
       "           22, 131, 191, 191,   0, 148, 236, 218, 223, 148, 188, 245,  27, 124,\n",
       "          215, 217]),\n",
       "  tensor([ 83, 236, 208,  76,  77,  54, 174, 230,  75, 159, 172, 167, 146,  29,\n",
       "           81,  92, 177,  37, 191, 153, 204, 194,  77, 175,  59, 186, 166,   8,\n",
       "           87,   5, 113,  75,  40, 149, 108, 244, 101,  53, 135, 155, 173,  23,\n",
       "           77, 210, 219,  30,  54, 173, 113,  70, 146,  63, 134, 138, 213, 158,\n",
       "            2,  23,  65,  86, 212,  26,  92, 196, 213, 158, 165, 104, 124,   3,\n",
       "           39,  74,  78, 160, 168, 242,  65, 214, 165,  69,  88, 223, 203, 128,\n",
       "           90,  23,  44, 185,  78,  29,  43, 135, 136,  49, 201,  42, 181, 226,\n",
       "          202,  49, 219, 184,  28, 233, 145, 181, 120,  33,   8, 230, 111,  52,\n",
       "          213, 149, 223, 216,  27, 126,  40,  44,  80,  22, 110, 208,  82, 238,\n",
       "          212, 177]),\n",
       "  tensor([220, 185,  76,  81, 170, 184, 129, 247, 120,  77, 110, 180,  46,  46,\n",
       "          241, 123, 137, 156, 165, 199, 111,  49,  89, 147,  41,   1, 130,  55,\n",
       "           81, 143, 213, 207,  39, 231, 248, 247,  12,  52, 239,  11, 150, 103,\n",
       "          136, 158,  24, 101,  90, 128, 135,  26,  37, 142, 124, 209, 217,  83,\n",
       "            8, 186,  36, 191, 159, 238, 142, 197, 118,  51,  69,  59, 205,  32,\n",
       "           30, 230, 233, 241, 239,  34,  63, 113, 222, 228,  70, 111, 221, 140,\n",
       "          107,   5,  15,  18, 207, 244, 236,  55, 176, 155, 209, 147,  47, 133,\n",
       "          238, 245,   8, 198, 136, 109, 227,  59,  57, 110])],\n",
       " [tensor([240,  89,  25,  82, 191,  62, 139,  76, 110,  78, 171, 111,  96, 237,\n",
       "           36,  18, 119, 122,  54, 223, 136,  12, 146,  40,  84,   4,  40, 130,\n",
       "          220, 162, 149, 195,  27,  99, 139,  74,  79,  37,  83,  31,   8,  90,\n",
       "          128,  23, 125,   1,  22, 183,  96,  93, 180, 223, 134, 126,  23, 154,\n",
       "          179, 199, 115,  62, 144,  33,  47, 103,  66,  41, 165, 206,  79, 171,\n",
       "          223,  48, 226,  72, 215, 164, 110,  20, 233, 207, 170,  83, 243,  95,\n",
       "          225, 176, 126,  53,  53,  27,  24, 147, 206,  75, 196,  28,  82, 100,\n",
       "          213,  62, 169, 221,  85,  41, 125, 193, 122,  65,  60,  66, 232, 159,\n",
       "           27,  59, 125, 114,  98, 212, 101, 233, 148,  97,  38, 101,  95, 101,\n",
       "           35, 171]),\n",
       "  tensor([166,  10, 194,  42, 136,  71, 190,  90, 182,  19, 139, 157, 162,  90,\n",
       "          248,  44,  33,  47,  84, 138, 100, 155, 221, 228, 179, 190,  41, 245,\n",
       "          120, 151, 171,   9,  37,  80, 233,  86,  19,  79, 127, 166,  49, 106,\n",
       "           77, 171, 145,   9, 183,  40,  20,   8, 226,  94, 124, 135, 205, 102,\n",
       "           19, 105, 228,  77,  64, 210, 146,  72,  14,  85, 195, 206, 103,  27,\n",
       "          106, 230,  25, 135, 214,  15,  29,  47,  30, 238, 141,   1,   8, 239,\n",
       "          174,  36, 143, 205, 109,  44, 102, 125, 198, 234, 167, 224, 191, 182,\n",
       "           70, 212, 150, 164,  72, 219,   4,  96,  86,  81, 172, 105, 140, 160,\n",
       "          168, 201, 185,  42, 203, 222, 135,  88, 100, 176, 163,  49, 246,  85,\n",
       "           71, 111]),\n",
       "  tensor([ 22, 102,  94, 146, 225, 132,  24,  84, 223, 194, 226,  79, 164,  59,\n",
       "          145,  75, 153, 129,  84, 118, 122, 218, 129,   7, 182, 109, 229, 221,\n",
       "          228,  74,  68, 103, 237,  47, 234,  37,  77, 245,  25,  34, 145,  89,\n",
       "          166, 202, 230, 148,  92,   1, 104, 177, 105, 185, 212, 185,  69,  37,\n",
       "          154,  50, 184, 132,   6, 121,  67, 144, 121, 205, 119, 134, 153, 155,\n",
       "          115,  41,  39,  56, 159, 249,  47, 123, 130,  76,  88, 100, 200,  47,\n",
       "          232,  67, 169,  51,  94,  42,  98, 158,  39, 138, 122, 182, 146, 150,\n",
       "          182,  71, 212,  19,  12, 150, 244, 208, 164, 200,  22, 165, 150, 195,\n",
       "          212, 221,  12,  77, 154, 109, 191, 194, 210, 181, 204,  11, 176, 104,\n",
       "          229, 124]),\n",
       "  tensor([ 82, 180, 133,  78, 246, 189, 176, 225, 186,  32, 204, 232, 203, 121,\n",
       "           24,  67,   3, 128, 180, 195,   1, 147, 100,  96,  17, 216, 164, 212,\n",
       "          193, 126,  48, 194, 244, 185,   5, 105, 113, 221,  10, 229,  54, 153,\n",
       "          143,  84,  35, 179, 117, 243,  87, 229, 100, 233, 111, 195, 218,   7,\n",
       "           55,  26, 248, 216, 182, 230, 167,  34, 226, 172, 120,  41, 168, 113,\n",
       "          189,  82, 208,  12, 235,  84,  67, 198, 238, 235, 242,  50, 148,  89,\n",
       "          192, 154, 234,   6, 190,   8,   2,  92,  14, 136,  50,  38, 151, 101,\n",
       "           42, 191,  83,  76, 122, 243,  63, 145,  59, 191,  24,  70,  91, 206,\n",
       "          197, 212,  24, 139,  32,  50,  26,  19,  99, 229, 232, 234,  57, 174,\n",
       "           77,   9]),\n",
       "  tensor([239, 138,  22, 136, 135,  78,   2, 146,  51, 212,  82, 137, 210, 201,\n",
       "          201, 118,  86,  47, 157, 224, 166, 167, 204,  53, 105, 169,   9, 123,\n",
       "          186, 241, 148, 243,  38,  64, 179, 244,  32,  91,  63,  16, 217, 170,\n",
       "           67,   2, 120,  67, 131, 244,  74, 137, 131, 146,  82,  74, 114,  32,\n",
       "          111,   3, 133, 168, 168, 213, 209, 227,   8, 175, 137, 192,  40,  22,\n",
       "          155,  66, 159,  70, 165,  66,  60, 106, 135,   2, 199,  25,  16, 162,\n",
       "           53, 109,  16, 168, 119, 208,  42,  12,  94, 146,  58, 101, 101, 228,\n",
       "           60, 200, 185,  89, 148, 167, 154, 164,  20, 218, 165, 192, 244, 218,\n",
       "          100, 148, 149, 235,  87,  52,  30,  87,  88, 177,  79, 156, 220, 142,\n",
       "          127, 216]),\n",
       "  tensor([204, 119, 119,  91, 123, 160, 233, 222, 187, 143, 221, 217,  16, 247,\n",
       "           57, 213, 134, 117, 171, 229, 129, 143,  32,  16,  45, 193, 138, 212,\n",
       "           66, 169, 193, 139,  47, 211,  40, 167,   2,  30, 124, 201,  34,  18,\n",
       "          106, 197, 217, 188,  17, 134,  56,  27, 141, 152,  80, 208, 220,   7,\n",
       "          119,  19, 163,  67,  45, 160, 121,  85,  12, 231,  11,  49,  28,  60,\n",
       "          116, 159,  29, 214, 212, 183, 217, 244, 140, 183, 222, 202,  33,  84,\n",
       "           42,  33,  89, 244, 151, 104, 176,  92, 221,  51,  90, 146,   6, 218,\n",
       "          247, 230, 220, 169, 119, 112, 219, 197, 114,  98,  71,  52,  47, 172,\n",
       "          168,  97,  13,   9,  52,  34, 135, 209, 167, 111, 124,  70, 209, 197,\n",
       "           60, 243]),\n",
       "  tensor([219,  84, 226,  37,  75, 118, 239,  69, 143, 204,  31, 191, 197, 163,\n",
       "          247,  89, 114, 132, 210,  20, 178,  78, 227,  81,  74, 224, 129, 204,\n",
       "           87, 187, 220, 123,  49,  92, 199,  41, 212, 220, 172,  11, 181, 242,\n",
       "          213,  56,  55, 144, 138, 116,  79,  48, 124, 202, 248,  40, 135, 158,\n",
       "           42,  36, 112, 230, 228,  44,   0, 102,  23, 121, 177,  92, 226,  38,\n",
       "           38, 227, 189,  60,  36, 169, 140,  65,   0, 201, 219,  86,  37, 144,\n",
       "          134,  14,  63, 125, 103, 232, 209, 200,  24, 143, 198, 230, 231, 169,\n",
       "          239, 156,  17, 207, 248,  76, 193,  29,  58, 173, 124, 237, 189, 151,\n",
       "           48, 115, 155,  34, 151,  90, 126, 108, 237, 205, 166, 146,  68, 113,\n",
       "          114, 113]),\n",
       "  tensor([227, 225,  97,  10, 101,  29, 236, 199,  37,  49, 179, 196, 147, 232,\n",
       "          237, 223, 186, 194,  47, 204,  55, 202, 229, 145, 144, 107,  98,  20,\n",
       "          189, 188,  80,   5,  99,  84, 148,  84, 130, 106,  69,  10, 103, 143,\n",
       "           10,  48,  77, 193, 138, 118, 180, 197, 230, 230,  80, 131, 133,   9,\n",
       "           45,  31,  68, 152,  48, 144,  27,  56, 128, 104,  44, 193,  23,  87,\n",
       "          242, 140, 185, 219,  61, 135, 243,  18, 180,  35,  67,  98, 223, 159,\n",
       "           65,  23,  74,  49, 193,  66,  54, 169,  96, 246,  65,  18,  31,  35,\n",
       "          226,  88, 114,  91, 177, 133, 173, 245, 232,  36,  52,  90,  18, 230,\n",
       "          237,  72,  67, 241, 181,  47,  23,  46, 135, 187, 207,  99, 128,  38,\n",
       "          190, 244]),\n",
       "  tensor([198,   8, 162, 164, 229,  27, 141,  69, 172, 137,   3,   9, 247,  37,\n",
       "            5,  75, 105,  51,  22,  81, 159, 109,  45,  22,  10,  78,  58, 232,\n",
       "           53, 216,  17,  77,  78,  63, 229, 219, 196,  77,  99, 148, 241,  76,\n",
       "           29,  98, 100, 192,  32,  23, 220, 122,  18, 157,  76, 129, 198,  61,\n",
       "          171,  57, 189, 133,  25, 154,  74, 113, 165, 201,  12,  81, 186, 176,\n",
       "          138, 214, 181, 141,  18, 174,  23, 238, 154,  50,  87, 223, 116, 241,\n",
       "          162, 114,  93,  27, 101,  73, 151, 214,  32, 107, 188, 163, 246, 206,\n",
       "          186, 125, 232,   8, 227,  29, 166, 190,  92,  16,  80,   4,  29, 130,\n",
       "          115,  89, 166,  90, 245, 123, 175, 217, 204, 118, 228, 186,  52,   1,\n",
       "          217, 224]),\n",
       "  tensor([215, 134,  96,  49, 126, 128, 217, 230, 158,  62, 111, 122,  93, 222,\n",
       "           39, 197, 218, 198, 243, 118, 241, 189, 248, 150, 182,  17,  58,  67,\n",
       "          229,  41, 246,  36, 228, 240,  93,  49,  99,  58,  86,  22,  41, 223,\n",
       "          203, 238, 187, 165,  49, 216, 155,  33,  84, 123, 243,  71,  68, 148,\n",
       "          237,  43, 176,  13, 163, 163, 162,  99, 144, 188,  38, 206, 119, 100,\n",
       "          106, 244, 194,  94, 127,  38, 199, 152, 150,  57, 133, 227, 109,  10,\n",
       "           63, 183,  87, 206,  98, 141,  23, 109,  69, 150, 135,   6, 126, 241,\n",
       "          188,  12,  99,  48, 123,  77, 138, 145,  83,  12,  66,  24,  74, 187,\n",
       "           17, 136, 107, 177, 190,  88, 114, 110,  87,  55, 227,  28, 224, 160,\n",
       "           95, 183]),\n",
       "  tensor([ 23,  48, 205,  50,  88, 127, 155, 193,  34,  79, 152, 144, 104,  87,\n",
       "           53,  82,  42,  12,  30, 128,  48,  91,  38,  87, 146, 165,  39,  81,\n",
       "           71, 174, 142, 221, 171,  48,  91,  58,   7, 210, 118, 228, 149, 233,\n",
       "          150, 142,   3, 155,  79, 201,  46, 159,  34, 137, 195, 152,  94, 129,\n",
       "          243, 164, 225, 154,  67,  54,  47, 227,  72,  83, 188, 228,  19,  35,\n",
       "          124,   5, 206,  28, 173,  22, 100,  43, 234, 229,  17, 174,  72,  97,\n",
       "           90,  45,  83, 235, 115, 159, 217,  18, 103, 230, 165, 240,  81, 190,\n",
       "          189,  95, 141, 237,  71, 162, 158, 195,  49, 147, 137,  37, 103,  33,\n",
       "          166,  10, 193,   4,  17, 130, 246,  85, 220, 128, 131,  94, 102, 187,\n",
       "          206, 135]),\n",
       "  tensor([ 60,   0, 163,  90,  79, 235,   6, 199, 140, 213, 108, 228,  68, 129,\n",
       "           49,  22, 145,  22, 185, 142, 141, 149,  42, 228, 139, 122, 195, 209,\n",
       "          121,  55, 185, 242, 236,  48,  17, 246, 156,  58,  14,  62, 227, 120,\n",
       "           81, 193,  34,   0, 239,  79, 140, 190, 233,  43, 202, 108, 171, 116,\n",
       "          201, 185, 209, 213,  17, 147,  83, 200,  83,  14,  51,  19,  43,  96,\n",
       "           41, 198, 134, 161, 176, 234,  24,  99,   8, 129, 121,   1, 185, 194,\n",
       "          170,  14,   3,   8,  21, 242, 164, 176,   3, 216, 184, 245, 213, 243,\n",
       "          131, 196,  50, 241, 117, 134,  98,  50, 169, 104,  21,  49, 134,  60,\n",
       "           92, 118, 182,  60, 106, 108,  66, 152,  24, 233, 122, 233,   0,  97,\n",
       "          193, 246]),\n",
       "  tensor([120,  84, 108, 221, 172,  17,  18, 114,  12, 166, 209, 229,  53,  89,\n",
       "          126, 204,  54,  11,  75, 112, 200,  11, 166, 176, 228,  28,  18, 112,\n",
       "          235,  32,  88,  40, 185, 188, 191, 202, 233, 156,  29,  59, 175, 113,\n",
       "          238, 194, 197, 150, 117, 148,  73,  55, 143, 101, 136,  68, 132, 226,\n",
       "           92, 127, 206, 192, 173,  36,  41, 181, 130,  46,  73, 207,  10,  82,\n",
       "          234,  79,  67, 141, 161, 188, 132, 174,  42, 204,  43, 154, 131, 107,\n",
       "          150,   5, 112, 110, 245, 159,  13, 249, 203, 226,  22,  66,  68, 147,\n",
       "          151, 175, 171, 234, 127, 159,   4, 247, 187,  30, 214,  18,  54, 198,\n",
       "           33, 197, 152, 127, 244, 208, 141, 110,  65, 208, 245, 119, 194, 186,\n",
       "           48,  38]),\n",
       "  tensor([155, 117, 158,  24,  58, 178, 131, 207, 178, 232, 118, 167, 139, 150,\n",
       "          119, 210,  46,  52, 183, 144, 110,  19, 165, 176, 118,  12, 180, 164,\n",
       "          206,  25,  76, 129, 185, 113,  68,  10,  95,  93, 194, 146,  86,  83,\n",
       "           32,  34, 123, 194, 204, 168,   2,  11,  53,  46, 137, 118, 150, 105,\n",
       "          163, 230,  21, 168, 219,  83,  71, 128, 237,  53, 248, 216,  33,  52,\n",
       "          237, 105, 186,  88, 108, 196, 112, 220, 129, 138,   2,   5,  78,  39,\n",
       "          233, 232, 228, 201, 132,  90,  51, 235, 247,  84, 244,  76,  54, 177,\n",
       "          114, 170, 245,   4,  62, 130, 162, 117,  67,  71,  95,  82,  44, 144,\n",
       "          238, 134,  26, 179,  73, 102, 157,  82,  73, 155,  85, 247, 112,  44,\n",
       "          108,  80]),\n",
       "  tensor([ 56, 154, 244,  43, 193, 205,  20,  84, 234, 169, 244, 145, 208,  48,\n",
       "           64,  70,  55, 224, 233, 165,  92, 131, 194, 194, 242,  37, 198,  69,\n",
       "           15, 211, 160, 151, 144, 182, 117,  72,  26,  41,  28,   2,  87, 141,\n",
       "           98,  19,  98, 184, 235,   2,  89, 239, 231, 133, 202,  85, 122, 230,\n",
       "          111, 198,   2, 104, 242, 221, 147,  52,  29,  36,  20, 232,  86, 111,\n",
       "           11, 174,  47, 198, 151,  92, 119, 235,  16, 100,  27, 180,  93,  41,\n",
       "          177, 173, 155,  38, 140, 178,  50,   0, 154,  61, 165, 194, 238,  36,\n",
       "           90,  93, 246, 239, 152,  96, 244,  91,  10, 183,  66, 207, 145,  90,\n",
       "          235, 163,  23, 135,  34,  70, 112,  66,  28, 243,  45,  77, 155, 122,\n",
       "          248,  72]),\n",
       "  tensor([198,  76, 246,  33, 108,  79, 226,  71,  96,   0, 143, 104,  14, 215,\n",
       "          116, 140,  94, 115, 177, 179,  75,  94,  66,  91,  14, 184,  49, 168,\n",
       "          239,  79, 228,  98, 116,  51,  90, 133, 162,  43, 113, 194,  95,  17,\n",
       "           10, 215, 239, 243,  34, 108,  71,  62,   4,  41, 175,  23, 175, 238,\n",
       "          138,  60, 145,  98, 173,   9, 119, 105, 120, 226,  19, 105, 203,  67,\n",
       "           68,  51,  32, 103, 151, 120,  23, 144, 120, 150, 242, 149,  66, 201,\n",
       "          176, 125, 151, 216, 141, 224, 230,  81, 248, 210, 145, 102, 208, 126,\n",
       "            2, 113,  19,   7, 105,  37, 200, 226,  77,  89,  38,  93,  90,  52,\n",
       "           96, 228, 153,  94, 219, 148,   3, 155, 211, 171,  12,  23, 104, 114,\n",
       "          242, 240]),\n",
       "  tensor([121, 192,  16, 174,  10,  95,  18, 241, 229, 167,  11, 211,  99, 111,\n",
       "          128, 195, 142, 162,  47, 224, 100, 179,  83,  25, 203, 239,   1,  53,\n",
       "          101, 230,  44,  77,  23, 150,   0, 176, 223, 224,  86,  60,  89, 194,\n",
       "          133, 170,  93, 177,  73,  78,  98,  46,  58, 230, 137, 198, 189,  60,\n",
       "           13, 236, 110, 222,   3, 151, 239,  51, 220, 146,  18, 230,   7, 231,\n",
       "           87, 225,  80, 147, 134,  79,  41, 239,  26, 101, 129, 203,  32,  74,\n",
       "          187,  94, 133,   7, 156, 150, 241, 145, 237,  32,  91,  49, 165, 240,\n",
       "          229, 193, 157, 171, 160,   3, 111, 201,  95, 155,  83,  67,  83,   4,\n",
       "          220,   8, 149, 228,  80, 213, 135,  85,  65, 134, 181,  59, 108,  57,\n",
       "          213, 163]),\n",
       "  tensor([158,  55, 133, 103, 190,  66, 214, 186, 162,  94,  81, 130, 236, 186,\n",
       "           81, 218,  54, 234,  83,   8, 103,  33, 214, 199,  74,   5,  82,  51,\n",
       "          235, 174,   9, 107, 160,  39, 202,  34, 241,  20, 100, 204,  20,  16,\n",
       "           68, 234, 199, 138, 210,  90,  31, 166, 212, 132,  34,  62, 154,  66,\n",
       "            0, 117, 207, 118, 211, 116, 117,  31,   2, 194, 231, 127,  78, 105,\n",
       "          174, 152,  91,  57, 144, 135, 174, 105, 174,  53, 217, 100, 212, 229,\n",
       "          136,  63, 203, 194, 174,  18, 236, 249, 158, 234, 216, 170, 199, 194,\n",
       "          183, 197, 156, 168, 167,  67,  68, 218, 171, 121,  13,  18, 112, 214,\n",
       "          103,  60,  47, 178,  61,  65, 249, 199,  58, 224, 128, 202,  15, 178,\n",
       "           18,   0]),\n",
       "  tensor([ 55, 197,  93, 234,  44,  49, 206, 180, 111,  25,  72, 202,  59, 156,\n",
       "           31, 123, 228,  21, 173, 160, 172, 234,  75, 149, 191,  55, 212, 152,\n",
       "          123,  62, 212, 112, 103, 130,   5, 232,  16,  58, 249,  88,  43,  84,\n",
       "          117, 246, 141,  61,  41, 105, 173, 177, 178, 244,  89, 122, 141, 207,\n",
       "          133,  87,  98, 161, 184, 215, 186, 223, 164,  56, 234, 166,  16, 107,\n",
       "           82, 165, 178, 191, 166, 110,  38, 138, 126, 158,  67,  25, 207, 244,\n",
       "           45, 203, 156,  78,  29, 137,  63, 134,  34, 213,  23, 166,  70, 192,\n",
       "           49, 136, 178, 146, 215,  76, 152,  40,  29,  73, 163,   2, 106,  37,\n",
       "          189,  44,  79,  31,  75, 111, 249, 195,  21,  46,  40, 162, 113,  49,\n",
       "          105, 136]),\n",
       "  tensor([ 78,  90, 155,  87, 208,  31, 147, 168,  86, 174,  83, 126, 239, 135,\n",
       "          114, 225, 149, 115,  44, 101,  15, 219,  92, 224,  44,  88,  22,  96,\n",
       "           69, 224,  47, 190, 160,  51,   6, 246, 104, 130, 223, 224, 153,  18,\n",
       "           95, 235,  87, 105, 130,  28, 218,  81,  84,  23,  93, 137,  14,  18,\n",
       "           82,  19,  98, 106, 173,  85, 198, 122, 143, 248, 239,   2,  85, 214,\n",
       "          192, 129,  32, 178,  80, 167,  50,  14, 205, 228,  73, 180,  44,  24,\n",
       "           52,  17, 130,  11, 240, 168,  87, 233,  75,  32, 183,  94, 148,  73,\n",
       "           24, 181,  70, 129,  68, 125, 129,  28, 110, 244, 169, 203,  29, 149,\n",
       "          119,  32, 109, 240, 121,  65,  46, 161, 185,  12,   4, 192, 220,  69,\n",
       "           78,  55]),\n",
       "  tensor([174, 139, 127,  73, 217, 207,  37, 247,  81, 247, 202, 144,  62, 119,\n",
       "          208, 142, 122, 130,  60, 167,  94, 100,  88, 240,  39, 215, 172, 205,\n",
       "           92, 102, 216, 147,  74, 144,  17, 148, 218, 112,  50,  97, 210, 193,\n",
       "          174,  98,  16, 189, 130, 116, 200, 197, 123, 102, 167,  45, 238,  68,\n",
       "           49,  43, 168,  93,  39,  66, 150,  51,  34,  40, 118,  23,  63, 199,\n",
       "          142, 145,  26, 204,  38, 131,  91,  82, 134, 131, 119, 187,  66, 246,\n",
       "            8, 150, 239, 176, 196, 240, 142,  27, 153, 155, 245,  12, 167,  80,\n",
       "           73, 128, 243, 177, 105, 193, 201, 188,  33, 207,  11,  60,  19,  49,\n",
       "           18, 200,  78, 202,  83, 235, 190,  46, 177,  54,  44, 155, 193,  26,\n",
       "          114,  35]),\n",
       "  tensor([  7,  64,   8, 167, 208, 111, 142, 217, 101, 147,  10,  80, 134, 240,\n",
       "           39, 125, 100,  84, 242, 213, 245, 137,  63, 153, 212,  29, 186,  49,\n",
       "          194,  51, 145, 221,  78,  77,  17, 107,  84,  62,  12, 212, 120,  29,\n",
       "          208,  72,   4, 136, 138, 189, 247, 169, 143,  90,  16,  50, 130, 142,\n",
       "           10, 226,  65, 157, 182, 133, 168, 212,  43, 122,  89, 114, 124, 129,\n",
       "          236, 134, 248,  87,  25,  96, 170,  11,  91, 115, 226,  51, 249, 174,\n",
       "          225, 143,  42, 138, 205, 202,  68, 138,  60,  97,   9,  69,   0, 132,\n",
       "          214, 243, 164, 172, 242,  25, 149, 139, 216, 204,  77,  85, 156, 237,\n",
       "          245,  11, 199, 131, 146,  53, 172, 187, 163, 235,  90, 108, 123, 166,\n",
       "           57, 230]),\n",
       "  tensor([ 26, 240,  13, 143, 223,  82, 241, 191,  18, 126,  23, 162,  32,  44,\n",
       "          108,  97,  67, 248, 186,  24, 226, 101, 225, 226, 198, 117, 181, 219,\n",
       "           85, 242,  89, 101, 243, 101, 234, 248,  13,  48, 155,  83,  89, 182,\n",
       "          220, 128,  40,  50,  73,  86, 115,  84,  28, 101, 238, 213,  44,  69,\n",
       "           57,  37, 101, 219, 133, 142, 236, 131, 103,  95, 207, 178, 223, 201,\n",
       "           45, 139, 149,  52,  19, 231, 200, 223, 220,  76,  27, 225,   8,  85,\n",
       "          139, 240, 161,  47,  96, 221, 218, 119,  80, 132,  49, 137, 115, 139,\n",
       "          147, 103, 191, 231,  72, 135,  81,  33, 202,  53,   9, 238, 196,  39,\n",
       "          111, 177,  25, 182,  50, 236, 201,  13,  59, 105,  95, 140,  64,  42,\n",
       "          199, 117]),\n",
       "  tensor([115, 205, 214,  23, 197,   5, 249, 128,  65, 124, 223,   0, 114, 104,\n",
       "          134, 109, 118, 186, 189, 175, 190, 213, 212, 212, 233, 202, 151, 189,\n",
       "           64, 249,  59, 124, 228, 229,  69,  63,  96, 115,  99, 235, 155,  99,\n",
       "          100, 104,   3,  61, 229, 230, 192,   9,  59, 132,  99, 171,  18, 209,\n",
       "          135, 191, 178, 244, 176,  92, 125,  97, 183, 244, 200,  52, 159, 237,\n",
       "          171, 205,  70, 187, 167, 173,  28,  78, 164, 106,   8, 121, 223, 143,\n",
       "          169,  25, 180, 198,  46, 210, 206,  60,  55, 151, 186,  67, 233, 189,\n",
       "          162, 223, 193,  15,  54, 178, 142,  28,  79,  85, 244,  76,  34, 246,\n",
       "          157, 155,  58, 188,  90, 158, 212,  23,  82, 141,  91, 215, 215,  90,\n",
       "           81, 224]),\n",
       "  tensor([218,  28, 174, 216,  64, 102,  60, 120, 186, 150, 237,  48, 114,  26,\n",
       "           49,  35, 186,  79, 162, 205, 210,  57, 137,  38, 107, 176, 202, 174,\n",
       "           76, 232, 242, 120, 121, 142,  54, 182,  39, 239,  71, 116,  69,  38,\n",
       "          169, 170, 128, 130, 197,  68,  76,  35,   0, 218,  24, 203, 134, 187,\n",
       "           49,  14,  24,  57,  69, 193, 103,  34, 245,   0, 100, 117,  58,  74,\n",
       "          222, 217,  97, 147, 143,  29,  91, 140,  99, 222, 158, 239, 135,  76,\n",
       "          240,  95,  50, 218, 170, 231, 202, 229, 144, 210,  96, 104, 194, 175,\n",
       "          213, 145,  20,  21, 131, 118, 198,   3, 120, 133, 156,  80,  51,  39,\n",
       "           34, 172, 102, 189,  43, 143,  29,  41, 111,  17, 123, 219, 166, 111,\n",
       "          226, 104]),\n",
       "  tensor([ 55,  68, 151,  49,  77, 241, 100,  49, 179, 192,   9,  36, 196,  17,\n",
       "          214,  75, 166,  10, 169, 114,  67, 144,  78, 135,  95, 101, 167, 119,\n",
       "           62, 202, 127, 182, 189, 248, 215, 127, 223,  24,  36, 223, 231, 187,\n",
       "          222,  72, 165, 108,  33, 102,  43, 122,  64,  43, 178, 158,  92, 191,\n",
       "           52,  62,   5, 141, 237,  91,  16,   6,  47,  25,  87,  30,  94, 148,\n",
       "          193,  71, 235, 132,  29, 112,  67, 127, 213,  39, 180, 119, 196, 124,\n",
       "          152, 247,  13,  31, 244, 188, 112,  74,  50, 225,  34,  90,  63,  66,\n",
       "          225, 211, 240,  82, 168,  91,  31, 233,  61,  17, 133, 164, 119,  80,\n",
       "          209, 200,  41, 175, 114, 106, 169,  68, 185, 166,  30,  15, 203, 201,\n",
       "          222, 220]),\n",
       "  tensor([171, 102,  59,  94,  48, 172,  32, 172,  31, 149,  97,  26, 222, 185,\n",
       "          157, 112, 129,  69, 200,  74, 155, 117, 134, 191, 158, 169,  15, 221,\n",
       "          109, 115, 225,  25, 156, 182,  73, 116, 228, 134, 224, 223,  86,  27,\n",
       "          101, 161, 162, 123,  11, 121, 239, 229,  66, 210, 130,   8, 143,  60,\n",
       "           86, 145, 179, 208,  62, 109,  52, 159, 130, 162,  68, 151, 248,  18,\n",
       "           41,  73, 162, 206, 239,  25, 119, 239,  20, 236,   6, 193,  29, 154,\n",
       "          107,  11,  75, 171, 182,   9, 161,  37,  39,  26,  77,  92, 146, 158,\n",
       "           32, 165, 203,  67, 182, 215, 200,  62, 104,  14, 145, 177, 174,  19,\n",
       "           63, 135, 192, 194, 118, 144, 179, 134,   5, 113, 133, 146, 217, 175,\n",
       "           80, 150]),\n",
       "  tensor([104,  50,  71, 153, 122, 128, 244,  95, 128,  16,  98, 219, 149, 173,\n",
       "          117, 178,  92, 210, 184,  40,   3,  65, 212, 184, 136, 112, 214, 161,\n",
       "          218, 161, 201,  20, 179, 159,  44, 108, 224, 174,  36, 161,  48, 103,\n",
       "          176, 204,  57, 172, 227, 126,  46, 144,  63,  10,  67,   4, 140,  96,\n",
       "           21,  99,  43, 143, 136,  86,  75, 173,  81, 209,   7, 189,  27,  36,\n",
       "          150,  22,   4, 152, 148,  54, 128, 123, 151, 239,   9, 241, 134,  96,\n",
       "          153,  21, 115,  93,  42, 230, 243,  88, 177,  13, 122, 198, 140,  33,\n",
       "           91,  13, 212, 144, 154,  12, 223, 162, 176, 209,  19, 227, 233, 213,\n",
       "          159, 203, 130, 187, 100,  71, 131,  59, 243,  52, 184,   3,  27,  19,\n",
       "           54, 106]),\n",
       "  tensor([201, 103, 169,  53, 181, 199,  32, 187, 246,  47, 206,  91, 230, 184,\n",
       "          196, 206, 242, 176, 185, 163,  63,  44,  64,  30, 108,  23, 120,  57,\n",
       "           41, 203,  54, 183,  72,  40,  65,  49, 208, 158, 103, 111, 110,  49,\n",
       "          227,  44, 200,  51,  88,  46, 145,  29,   5, 219, 224, 192,  48, 195,\n",
       "           16, 156,  62,   8, 198, 155,   0, 246,  31, 159,  31,  30,  42,  43,\n",
       "          224,  99,  31,  13, 142, 197,  47, 198, 136, 189, 139, 115,  47, 190,\n",
       "           25, 171,  58, 247,  36, 174, 207,   1,  34, 128, 144, 161,  66, 234,\n",
       "          202,  50, 236, 130, 141, 241, 147, 233,  67, 106, 208, 213,   4,  22,\n",
       "          201, 201,   1,  80, 203, 243,   4, 219, 117, 218, 108,  97,  49, 239,\n",
       "          239, 138]),\n",
       "  tensor([ 14,  97, 152, 126,  93, 218, 108,  15,  49,  11, 124, 158, 234, 248,\n",
       "          239, 110,  98,  28, 193, 189, 153, 125, 167, 186,  70, 206, 164, 139,\n",
       "          125,  31, 209, 152, 183,  60, 107, 188, 176, 111,  58, 121,  31,  98,\n",
       "          165, 212, 168,  87, 219,  59, 192, 173,  65,  52, 187,  49, 235, 118,\n",
       "          222,  71, 122,  16,  35, 174,  60, 230,   8, 171, 167, 184, 219, 190,\n",
       "           40,  27, 101,  36, 188, 202, 232, 184, 179, 243,  14, 119, 213, 246,\n",
       "          127,  70,  67,  39, 125,   0, 191, 196, 189,  27,  49, 104, 190, 225,\n",
       "           62, 168, 197, 215, 183, 223,  13, 113, 160, 137,  33, 129, 192,  72,\n",
       "          209, 247,  35,  24, 221, 138,  80,  27, 144, 188, 194,  58, 211,  80,\n",
       "           12,  11]),\n",
       "  tensor([142, 140,  52, 236,   5, 177, 172,  12,  14, 204, 185, 243, 222, 247,\n",
       "           19, 151,  10, 129,  93, 201,  36,  54, 134, 127,  63, 154, 130,  79,\n",
       "          148, 180, 148, 109, 111, 181,  58, 138, 216, 182,  46,  73,  60, 240,\n",
       "          161,  31, 107,  59, 126, 211, 120, 104,  82, 217, 134,  39, 149, 200,\n",
       "          185, 247, 224, 195,  86,  73, 245, 100,   5,   7, 158, 105,  43, 178,\n",
       "           68,  62, 185,  57, 212,  82,  70,  96, 138,  66,  86, 172,  50, 137,\n",
       "          101,  17,  22,  51,  58, 248,  33, 243,  47, 185, 156,  60, 165, 140,\n",
       "           13, 164, 173,  73,  31,  55,  86, 141,  14, 174,  17,  49,  79, 153,\n",
       "          175, 129,  75,  86, 135,  26, 238, 139, 221,  69, 107, 123, 248, 186,\n",
       "           38, 246]),\n",
       "  tensor([ 71, 110, 188, 192,  23,  82,  57, 227, 198,  86, 184,  87, 218, 226,\n",
       "          213,  71, 150, 128, 137,  41, 155,  82, 180, 151,  32, 186, 245,  89,\n",
       "          247,  54,  19, 143,   6,  86,  70, 109, 155,  51,   4, 193, 165,  85,\n",
       "          185, 246, 105,  28,  14,   5,  75, 162, 105,   7,  69,  79, 141, 189,\n",
       "           36,  24, 158,  36, 119,  57,  15,  15,  32,  92,  85, 145,   0, 211,\n",
       "          223,  82, 234, 211, 149, 222,  56, 106, 111, 232,  22, 108,  94, 121,\n",
       "          165, 188,  32, 182, 138, 111,  24,  13, 148,  14,   8, 149,  82, 162,\n",
       "           73, 106, 239,  84,  35, 211, 234, 161, 186, 117,   3, 218, 190, 126,\n",
       "           34,  72, 132, 153, 114,  59,  20, 173,  81,  44, 131, 207, 210,   2,\n",
       "           88,  82]),\n",
       "  tensor([187, 212,  77, 106, 115, 125, 118, 100,  36,  49,  56, 222, 197, 209,\n",
       "          157,  39, 173, 230, 219,  48, 208,  43, 236,  46, 122,   3,   2, 134,\n",
       "           51, 181, 171, 227,  41, 192, 148,  77,   7,  88, 116,  65,  82, 112,\n",
       "           82, 161, 191, 176, 214,  86, 154, 232, 121, 231, 165, 222, 234,  12,\n",
       "           96,  31, 131, 128,  69,  23, 210, 245, 143, 213, 132, 231, 102, 232,\n",
       "          147, 222, 206, 177, 247, 106, 227,  76,  36, 191,  33,  29,  77,  31,\n",
       "          172,  92,  92,  19, 135, 111,  75, 124, 130,  13, 202,   6, 142, 163,\n",
       "          179, 121, 167, 175,   7,   8, 143, 230, 100, 158,  88, 196,   5, 233,\n",
       "          138, 229, 184,  48, 245, 200, 234,  40,  25,  66, 238, 116, 197,  67,\n",
       "          148, 122]),\n",
       "  tensor([131, 186, 113, 120,  10,  66, 178,  51, 227, 233, 197, 148,  30, 118,\n",
       "           86, 102,  78,  89,  15, 141, 189, 190, 231, 203, 210, 243,  72,   2,\n",
       "          113, 209,  98, 228,  61,  52, 236, 217,  35, 190, 182,  23, 222, 166,\n",
       "           56,  46, 172,  65, 237,  47,  84, 230,  35,  29, 132,  36, 183,  66,\n",
       "           65, 179, 130, 162, 144, 230,  22, 219, 195,  86, 248,  77,  31, 218,\n",
       "           32,  88, 203,  19, 228, 227, 212, 229,  24, 139, 222,   6, 232,  81,\n",
       "          168, 222, 167,  30,  58,  88,  43,  80, 139,  65, 117, 149, 210, 137,\n",
       "          110,  23,  11,  25, 227,  33, 223, 147,  38, 242, 149,  51, 142, 103,\n",
       "           78, 159, 178,  24, 246, 177, 245, 222, 156, 221, 217,  28, 211,  97,\n",
       "          110, 157]),\n",
       "  tensor([222, 118,  14, 128,  87, 137, 149, 211,  97,  33, 134, 121,  43, 245,\n",
       "          132,  25,  43, 220, 227, 244,  92,  83, 213, 150,   4,  72,  53,  85,\n",
       "           94,  13, 177, 148,  31,   0,  37, 201,  41, 239, 228, 140, 168,  38,\n",
       "          240,  53,  86, 210,  60, 186, 154, 126,  23,  29, 238,  56, 133, 135,\n",
       "          153,  87,  98,  73, 178, 175, 107, 160,  53,  41, 179, 184,  38, 110,\n",
       "           83,  25,  44,  20,  14,  41, 132,  13, 203,  99,  45,   2, 129,  46,\n",
       "           78, 173, 195,   6,  34,   7,  12, 192,  41,  63, 185, 212, 201, 136,\n",
       "          210,  55,  53, 163, 226, 132,  25,  11, 204, 208,  70,  18,  48, 181,\n",
       "          226,  86,  26,  34, 103, 207, 139,  54, 186, 228,  25,  81, 211,  16,\n",
       "            3,  31]),\n",
       "  tensor([ 85, 104,  81, 127,  63, 247, 242, 136, 158,  77,  62, 151, 145,  68,\n",
       "          181,  61, 209, 111, 178, 143, 130,  78, 166, 103,  31,  72,  88,  43,\n",
       "           87, 140, 246, 221, 142, 196, 247,  93,   0, 165, 154, 214,  24,  75,\n",
       "           31,  63, 215, 119,  33, 195, 204,  29, 196,  12,  53, 142,  10,  83,\n",
       "           37, 172,  66, 113, 208,  76, 170,  68,  99, 106,  68, 172,  96,  70,\n",
       "          167, 226, 169, 236, 171,  11,  82,   2,  10,  32, 195,  12, 175, 171,\n",
       "           18, 183, 198, 102,  78, 175, 195, 118,  24, 194, 115, 201,  98,  28,\n",
       "          121, 139,  67,  93, 201,  50, 166,  67, 107, 109,  78, 225, 177, 204,\n",
       "          247, 118, 242, 243, 215, 128,  21,  60, 197, 221,  64, 136, 229, 236,\n",
       "          221, 214]),\n",
       "  tensor([229, 136,  75, 159, 225, 234,  91,  87, 147, 114,  87,  69, 141,  77,\n",
       "           77, 195,  80, 217,  23, 133, 249,  73, 142, 163,  95, 183, 128, 201,\n",
       "          220, 219, 106, 176,  29, 166, 117,  10,  97, 185,  22, 169, 166,  13,\n",
       "          203, 114, 136, 230,  27,  90,  86, 214, 153, 234,  31, 155,  71, 100,\n",
       "           76, 172,  19, 248, 237, 158, 192,  54, 206, 174, 227, 156,  64, 115,\n",
       "          152,  65,  37,  94,   8, 195,  94,  93,  23,  30,  19, 139,   4, 136,\n",
       "          200,  87,  63, 184, 200, 150, 190, 236, 239,  53,  26, 124, 204, 213,\n",
       "          122,  33, 249, 143, 226,  37,  37, 159,  51,  20, 234,  58,  52, 172,\n",
       "           32,  17, 218,  39,  23, 191, 215,  16,  81,  91, 245,  98, 176,  37,\n",
       "           36, 249]),\n",
       "  tensor([189, 203, 145, 173, 189, 128,  51, 149,  48,  16,   0,  31, 192,   2,\n",
       "          196, 171, 161,   3, 240, 117,   7,  99, 202, 204, 167,  50, 199, 153,\n",
       "          102,  71, 123, 241, 199,  56,  92,  43, 169,  73,  81, 149, 189,  17,\n",
       "          167, 238, 242, 119, 209, 125, 140, 185,  11,  12, 244, 127, 110, 177,\n",
       "          144, 191, 183, 195, 243,  98, 100,  83, 179, 190, 228, 142,  62,  88,\n",
       "          103, 142, 239, 242,  51,  61,  17,  30,  61,  65, 211, 242, 245, 184,\n",
       "          103,  20, 142,   0, 247,  15,  40, 123,   3,  57, 217,   1, 175, 177,\n",
       "          151, 171, 181,  50, 140, 219, 115, 116,  55, 241, 215, 177, 159, 129,\n",
       "           12, 139, 100,   9, 236, 151,  96, 174,  52,  87,  84, 207, 197, 157,\n",
       "          167,  89]),\n",
       "  tensor([127,  68,  49, 227, 130,  75, 182,   2, 105, 173, 222,  25,  84, 165,\n",
       "          139,  64,  66,  18, 233, 138, 157,  70,  69, 229, 162, 214,   4, 225,\n",
       "          103,  38,  45,  59,  39,  54, 222, 107, 158,  96,  69,  43,  40, 173,\n",
       "          240,  27, 104,   2,   1, 112, 101,  33,   4, 180, 124,  50, 115, 149,\n",
       "           24,  70, 114, 188,  67, 131, 175,  81, 221,  14,  42, 228, 195, 143,\n",
       "           91, 137, 222,  10, 182,  37, 200, 177,  65, 243,  83,  94, 137,  16,\n",
       "          153,  33, 103, 115,   6,  48,  64, 149, 178,  71,  39, 126, 117, 129,\n",
       "           96,  47,  89, 171, 172, 173,  74,  86, 115,  23,   9, 232, 202,   9,\n",
       "          163,  75, 179, 213,  11, 142, 175,  91, 217,  98, 178, 247, 148,  41,\n",
       "           91,  47]),\n",
       "  tensor([201,  80,  11,  71, 136,  28,  42,  42,  46,  24, 193, 217, 173,  59,\n",
       "          236,  98, 111, 169, 100, 228,  19, 205,  20, 193, 237, 215, 155,  76,\n",
       "          126,   2, 131, 171,   9, 162, 169, 223, 131, 223, 181, 135, 217, 226,\n",
       "          193, 151, 192, 107, 136, 219,  48,  84, 174, 123,  90,  52, 127,  51,\n",
       "          244,  85, 223, 171, 237,  93, 166, 147,  48, 105,  41,  43, 238, 113,\n",
       "           77, 154,   0, 185, 107, 142, 178, 172, 132, 214,  52,  54, 131, 245,\n",
       "           30, 155,  33, 162, 104,  86,  70, 154,  12, 239, 195, 236, 101,  38,\n",
       "          162, 176,  44,  72, 224,  98,  23,  50, 237,   4, 157, 177,   8,  13,\n",
       "          142, 189, 102,  80, 218,  96, 179, 200, 104, 235,  41,  59, 111, 104,\n",
       "           72, 152]),\n",
       "  tensor([189, 146, 237, 164, 196,   8, 104, 242, 244,  75,  38,  10, 167, 162,\n",
       "          179,  91, 208, 242, 130, 109,   3, 138, 229, 148, 222, 202,  80, 120,\n",
       "           15, 113,  72, 170,   4,   8, 227,  44,  66, 104, 135,  16, 224, 117,\n",
       "          236,  31, 139, 193, 114, 163,  55, 227,   0, 112, 179, 190, 112,  32,\n",
       "            6, 188,  36,  85, 192, 140, 240,  65, 118, 116, 112, 209, 165,  24,\n",
       "          137,  18, 168, 207,  92, 128, 226,  60, 235,  59, 222, 225,  80,  24,\n",
       "           30, 159, 228,  52, 233, 150, 199, 245,  81, 152, 101,   6,  65, 230,\n",
       "           30,   5,  33,  72, 127,  27,   4,  47,  86,   5, 189, 158,  72,  11,\n",
       "          229, 200,  38, 222, 182, 200, 225, 216, 206, 231, 119,   4, 210, 190,\n",
       "          165, 134]),\n",
       "  tensor([165,  93, 138,  81,  19, 229,  47,  55, 149, 177, 170,   7,  54, 118,\n",
       "          106, 110, 152, 199, 147,  53,  26, 144, 138, 109,  30,  88,  90, 173,\n",
       "          203, 189,  67, 190, 247, 172,  28,  66, 156, 136, 240, 119, 145, 238,\n",
       "           58, 230,  47, 158,  31,  84, 245,  35,  98,  36,  37,  58, 224, 162,\n",
       "           86,   4, 200, 224,  57,  26, 177,  63, 217,  51,  51, 151, 177, 224,\n",
       "          125, 176, 145, 223, 223,  46, 140, 167,  35,  50, 217, 225, 184, 124,\n",
       "          120, 196, 206, 122, 145, 211,  94, 118, 159, 248, 140, 126, 207, 107,\n",
       "          116, 219, 208,  75,  78, 233,  48,  72, 130, 219, 140,  16,  66, 234,\n",
       "           78, 121,   4, 140, 195, 111,  10, 120,  76,  58, 195,  75, 123, 164,\n",
       "          149, 165]),\n",
       "  tensor([102,  69,  15,  45, 176, 180,  55, 233, 234, 144, 194,  47, 129, 135,\n",
       "          233, 249,  67,  44,  93, 146, 135, 158, 166,  73,  96,  63,  45,  72,\n",
       "           51, 103, 160, 158,  39,  83, 242, 111, 205,   8,  57, 147, 148, 137,\n",
       "            3, 213, 186, 126, 120, 148,  55,  90, 119, 110, 150, 216,   6,  99,\n",
       "           22,  90, 135, 122,  54, 247, 108,  57, 162,   1, 220, 210, 173, 226,\n",
       "           58,  50, 193, 146, 101, 242,  74,  20,  85,  72, 144, 185, 139, 248,\n",
       "           90, 224, 136,  23,  70,  54,  93, 198, 130, 133,  59, 124,  26,  16,\n",
       "          178, 119, 240, 173, 126, 203, 220, 160,  92, 126, 146,  50,   6, 236,\n",
       "            6, 205, 145,   1,  66,  16, 179,   1, 186, 212,  21, 202, 173, 213,\n",
       "           40,  12]),\n",
       "  tensor([ 65,  16,  88,  68, 175, 154,  67,  43, 208,  97,  51,  35,  60, 176,\n",
       "           91, 115, 216, 176, 184, 236, 145,  65, 213,  98, 146, 210, 241,  52,\n",
       "          164, 162, 124, 129,  29, 122, 216,  41, 168, 231,  41, 181, 221,  27,\n",
       "           50, 157, 139,  86,  41,  51, 179,  26,  28, 233, 183, 173, 135, 237,\n",
       "          135,  90, 196, 123, 153, 115, 165, 141, 120,  29,  67,   8, 182,  10,\n",
       "           74, 123, 109,  69, 104,  40, 135,   0,  93, 114, 135, 210,   4,  85,\n",
       "          149, 225,  79,  46, 178,  57,  92, 232, 105,  52,  80,  33, 120,  41,\n",
       "           34, 224, 225, 137,  75, 163,  47, 248,   3,  94,  37,  87,  11, 224,\n",
       "           68, 165, 234, 229, 230,  54, 189, 244, 201,  93, 158, 222, 111, 158,\n",
       "          115, 118]),\n",
       "  tensor([151, 147,  32, 228, 217, 181, 128,  97, 149,  76,  66,  29, 224, 243,\n",
       "          207, 226, 101,  10, 146, 245,  32,  25, 231, 158, 163,  46, 137, 206,\n",
       "          217,  71,  78,  44, 182,  70, 133, 196,  10, 183,  14, 115,  85, 199,\n",
       "          192, 129, 104, 238, 163, 165, 161,  54, 139,  68, 104, 174, 103,  55,\n",
       "          136,  62, 185,  96,  33,   6, 222,  82, 156,  52, 160, 196, 143, 222,\n",
       "           28,  14, 205,  44, 180, 135, 113, 198, 183, 240, 100,  96,  26, 246,\n",
       "           67, 221,  87, 203,  72, 154, 157, 122, 199,  57,  75,  55,  88,   6,\n",
       "          204,  17, 122,  16, 219,  87, 248,   7, 151,  15,  37, 187,  55,   6,\n",
       "          145,  20,  44, 103,  18, 202,  45, 192, 144, 149,  25,   4, 207, 102,\n",
       "           19, 122]),\n",
       "  tensor([ 90,  17, 143, 147, 171,  78, 223, 110, 179, 186, 147, 234, 172,  30,\n",
       "           66, 122,  38, 242, 141, 247, 247, 213,  14,  53,  63, 169, 226, 214,\n",
       "          107,  39, 200, 231,  88, 137, 212, 190,  82, 159,  84,  26, 212, 180,\n",
       "          139, 194, 188, 243, 114, 149, 141, 227,  57, 162, 172, 183, 133, 138,\n",
       "          240, 198, 151, 196, 237,  32,  65, 184, 121, 209, 196,  50,   2, 217,\n",
       "          105,  11,  53, 119,  40, 243, 132, 223, 200, 191,  27, 175,  62,  55,\n",
       "          172, 161, 239,  75, 172, 215,  30, 140, 114,  72,  13,  52, 159,  16,\n",
       "          186, 148, 182, 245, 202, 133, 158,  31,  15, 139,  26, 226, 198,  60,\n",
       "          191,  50, 177,  98,  87, 249, 114, 160, 219,  48,   7,   2, 185,  89,\n",
       "            9, 151]),\n",
       "  tensor([153, 142, 151,  73, 228,  68, 163, 246, 180,   9, 129, 175,  82,  73,\n",
       "           25,  97,   4,  88, 148, 139, 207,  10, 203, 185,  91,  86,  47,   7,\n",
       "           99,  14,  15,  20,  82,   2, 189, 149, 202, 213, 227,  23, 145, 190,\n",
       "          154,  61,  35, 179, 133, 220,   3,   2,  28, 183, 164, 233, 210, 248,\n",
       "          163, 245,   7, 205, 211, 207,  45, 193,  56, 211, 222,  60,  60,  14,\n",
       "           98, 112, 190,  94, 116, 169, 240, 151,   6, 145, 125, 169,  63, 129,\n",
       "           39,  73, 178,   5, 108, 185, 221, 239, 141, 229,  74,  90,  99,  57,\n",
       "           58,  42, 232,   3, 236, 103,  77, 150, 134,  17,  38, 183, 199, 202,\n",
       "          194, 157, 230, 114,  31,   2,  11, 241, 215,  26,  96, 182,  63, 168,\n",
       "          166, 172]),\n",
       "  tensor([106,  82, 216,  79,  75, 143,  83, 191,  37,  85, 144, 116,  51, 103,\n",
       "          204, 168,  55, 213,  76, 159, 104,  78, 119,  83,  14, 160, 189,  19,\n",
       "          142, 209, 237, 233, 219,  11,  72,  57, 168, 138, 112,  99,  20, 186,\n",
       "          104, 102, 245, 173,  85, 224, 108, 199,  34, 227,  24, 200,   0,  39,\n",
       "           63, 173, 228, 219, 110,  73, 240, 202,  10, 139, 132, 181,  15, 210,\n",
       "           14,  29, 184, 181,  25, 135, 248, 171, 106,  52,  85, 187, 148, 216,\n",
       "           52,  87, 113, 209, 209,   6, 120, 190, 200, 151, 103,  39, 160,  52,\n",
       "          228, 112, 105,  68, 128, 166, 237,  88,  43,  38, 238, 165,  51, 229,\n",
       "          129, 129, 145, 101,  26, 245,  78, 169, 118,  63, 141, 153, 160, 220,\n",
       "           21, 239]),\n",
       "  tensor([ 22,   6, 189, 190, 148,  97,  68,  99, 154, 210, 148, 159,  63, 145,\n",
       "          143,  40, 129,  80, 238, 194, 214, 128,  42,   9,  80,  42, 235, 164,\n",
       "          243,  31,  63, 204, 120,   0, 160,  49,  60,  54,  59,  67,   0, 119,\n",
       "           50, 121,   3,  99,  19, 204,  52, 201,  10, 110, 117,  34, 198, 146,\n",
       "          168, 109, 182,   1,  37, 102,  85, 244, 173, 118, 210, 155, 170,  62,\n",
       "           45,  31,  39, 168,  59, 111, 167,  92, 153,  22, 221, 148, 184, 205,\n",
       "           30,  75, 234, 147, 203,  11, 206, 191, 130,   8,  57, 131, 168, 224,\n",
       "          244, 194, 102, 117,  33,  30,  94, 113, 127, 110,  78, 182,  47,   2,\n",
       "          227,  95,  31, 201, 147,  15, 208,  10, 122,  60,   4, 139,  94, 191,\n",
       "           37, 178]),\n",
       "  tensor([127,  51, 151, 215, 147, 108,  32, 157,  85,  94, 238, 122, 104, 161,\n",
       "           59,  48, 150,  89, 187,   4,  11, 207,  14,  32, 105, 135,   1, 217,\n",
       "           37,  33, 167, 137, 133, 200, 199,  90, 170, 241, 245, 243, 237,  86,\n",
       "           59, 216, 121, 212, 156,  14,  19,   0,  83,  63,  88,  27, 218, 104,\n",
       "          202,  20, 139,  50, 177, 142, 233, 111, 215,  91, 102,  77,  79, 112,\n",
       "          208, 114,  96,  90, 225,  95,  67,  15, 122, 197,  57,  47, 210, 160,\n",
       "           98,  94,  30, 240,  74,  86,  35, 212,  83,  96,  39,  32, 130,  58,\n",
       "          196, 227, 194, 237, 230, 234, 165, 174,  51, 187,  11,  39,  75, 138,\n",
       "          137, 202, 224, 155,  30,  46, 197, 235,  58,  22,  89, 197, 225,  81,\n",
       "          200, 149]),\n",
       "  tensor([  5, 134, 205, 187, 192, 209, 204, 149, 162,  80,  44, 182,   0, 101,\n",
       "          164, 218, 137, 233,  33, 248, 224, 138, 246, 118, 136, 162, 204, 169,\n",
       "          106, 226,  59, 175,  26, 194, 120, 242, 132,  88, 198, 110, 155,  86,\n",
       "           81,  16, 191, 136,  76, 146,   9,  19, 198,   6, 163, 238, 125,  59,\n",
       "          118, 131, 232, 182, 146, 215,  98,  61, 228, 236,   5, 200,  16, 150,\n",
       "          219, 221,  46,  20, 139, 125, 169, 161, 177, 123, 134,  67, 219,   3,\n",
       "           26,  60,   9,  80, 237,  79,  54, 116, 135,  63, 157, 122, 156, 186,\n",
       "          245,  53, 208,  26,  59,  72, 131,  48, 205, 211, 103, 136, 242, 184,\n",
       "           40, 149,  50, 171, 105, 172,  55, 194, 150, 101, 143, 199, 109,  46,\n",
       "           46, 209]),\n",
       "  tensor([ 15,  11,  64, 192, 151, 217, 179, 119, 249,  31, 117, 218, 131, 118,\n",
       "          217,  30,  59, 209,  63, 225, 108,  51, 146, 221,  34, 177,  72, 126,\n",
       "           48, 162, 230, 117,  59,  67,  58,  46, 113, 237, 113, 226,  43, 165,\n",
       "          118, 168,  68, 163,  65,  89,  29, 233,  54, 210,  88, 119,  80, 217,\n",
       "           28, 241,  81, 224, 148, 113, 161, 115, 121, 175, 208, 136, 206, 102,\n",
       "           93, 147, 246, 102, 202,  20, 224, 157,  18,   1, 214,  22,  33, 174,\n",
       "           96,  77, 111,  59, 164, 228, 150,  98, 140,  60,  65, 204, 231,  60,\n",
       "          204, 111,  65, 131, 200,  60,  50, 158,  96, 116, 132,  84, 159, 246,\n",
       "          155, 158, 143,  45,  77,  41,  93,  38, 140,   5, 246,  72,  71, 164,\n",
       "          137,  34]),\n",
       "  tensor([ 10, 233, 217,  25, 245, 228, 144, 136,  89,  88, 205,  83, 134, 219,\n",
       "           69, 154,  92, 199, 161,  75, 247,  31,  69, 229, 220, 125,  21, 233,\n",
       "           85, 114,  10,  59,  84,  16,  12,  44,  85, 123,  59,  98, 157,  21,\n",
       "          197,  42, 132, 101,  33, 128, 211,  89, 100,  83, 108, 246,  82,  54,\n",
       "          180, 190, 173,   7, 124, 124, 183, 148, 247, 239, 203, 249,   5,  75,\n",
       "          166,   9, 225, 119,  87,  29, 182, 188,  11,  37,  57,  47, 110,  92,\n",
       "           30, 208,  38,  68,  63, 147, 234, 158,  45, 102, 125, 208, 107, 122,\n",
       "          186, 220, 145, 220, 216,  62,  12, 170, 191, 144,  45, 122, 128, 123,\n",
       "          228,   2, 234, 195, 153, 151,  83, 133,  15, 247, 232,  94,  97,  30,\n",
       "           55, 213]),\n",
       "  tensor([199, 177, 191, 144, 112,  21, 207,  50, 127, 167,  29, 203, 207, 127,\n",
       "           81, 201,   2, 153, 114, 148, 141,  35, 235,  62, 128,  60, 140, 190,\n",
       "          196, 118,  19, 197, 174, 153,  36, 241, 112,  43,  11,  35, 192, 237,\n",
       "           79, 148, 123,  57, 213,  55, 174, 138, 203, 129, 133,  16, 112, 221,\n",
       "          164, 156,  59, 116, 242,  81,  89, 232, 164,  80, 234, 112, 119,  59,\n",
       "          109, 209,   2,  11, 168,  52, 167,  90, 193, 180, 150, 103, 138, 145,\n",
       "           49, 182, 141,  78,  82, 185, 110,  14,  32, 204, 137,  45,  37,  71,\n",
       "           91, 240, 232,  63, 162, 172, 113,  71,  61, 219, 197, 245,   2,  33,\n",
       "          166, 244, 114,  10,  98,  44, 103, 200,  87, 191, 123, 141,  42,   1,\n",
       "           87, 194]),\n",
       "  tensor([146, 217, 166, 112, 189, 167, 194,  98, 160,  48, 146, 212, 194, 183,\n",
       "          234,  59, 194,  34,  55,  80, 126, 194, 150, 165,   2,  65,  96,  74,\n",
       "           89, 197,  43, 245, 192,  16, 203, 100, 131,  92,  91,  55, 207,  64,\n",
       "           94,   8,  72,  65,  44,  14, 138, 114,  38, 162, 227, 160, 166, 210,\n",
       "          241,  57,  64, 239, 204,  65, 146,  33,  38, 164, 171, 218,  89, 134,\n",
       "          113, 215, 239, 193, 114,  58, 188,  19,  93, 226,  55,  40, 182,  82,\n",
       "           81,  56,  86, 143, 174, 219, 174, 148, 122, 143, 115,  64, 223, 113,\n",
       "          229, 129, 116, 126, 136,  89, 188, 229, 236, 155, 155, 246, 162, 177,\n",
       "           22, 131, 191, 149,   0,  59, 236, 191, 103, 148, 188, 245,  27, 175,\n",
       "          205, 217]),\n",
       "  tensor([ 83, 236, 161,  76, 126,  54, 174,  32,  75, 159, 172, 168, 146,  29,\n",
       "           81,  92, 203,  37,  96, 153, 127, 194, 225, 175,  59,  13,  76,   8,\n",
       "           87,   5, 113,  75,  40, 134,   5, 244, 200,  53,  68, 155, 173,  23,\n",
       "           89, 210, 219, 165,  54, 173, 113,  70, 146,  63, 134, 199, 213, 158,\n",
       "            2,  23, 224,  86, 212, 113, 153, 196, 213, 158, 165, 182, 124,   3,\n",
       "           22,  74,  78, 160, 167, 242,  65,  43, 165,  69,  88,  72, 203,  39,\n",
       "           90,  23,  44, 164,  78,  29,  66, 135, 169, 138, 134,  42, 194, 226,\n",
       "           38,  49, 219,  56,  28, 233, 145, 181, 120,  33,   8, 230, 111,  52,\n",
       "          213, 134, 223, 216,  27, 243, 136,  74,  80,  22, 110,  99,  82, 238,\n",
       "          161, 177]),\n",
       "  tensor([220, 134,  76,  81, 170, 136, 129, 247, 120,  77, 110, 196, 179,  46,\n",
       "          107, 123, 137,  37, 165, 199, 111,  14,  89,  76, 111, 216, 133,  55,\n",
       "           81, 105, 213, 207,  39, 139, 248, 206,  64,  72, 239,  11, 189, 103,\n",
       "          178, 158,  24, 101,  90, 128,  68, 147,  37, 142, 140, 209, 217,  83,\n",
       "            8, 186, 144, 223, 159, 238, 142, 197, 118,  50, 208,  59, 205,  32,\n",
       "           30,  97,  11, 241, 239, 243,  63, 113, 155, 228,  70, 135, 221, 140,\n",
       "          107,  15, 218,  18,  61,  35, 236,  55, 233, 102, 202, 227,  47, 133,\n",
       "          238, 245,   8, 198, 193, 109, 240,  59,  57, 110])])"
      ]
     },
     "execution_count": 3,
     "metadata": {},
     "output_type": "execute_result"
    }
   ],
   "source": [
    "trainer.train()\n",
    "trainer.test()"
   ]
  },
  {
   "cell_type": "code",
   "execution_count": 4,
   "id": "8963c0fe",
   "metadata": {
    "scrolled": true
   },
   "outputs": [
    {
     "name": "stdout",
     "output_type": "stream",
     "text": [
      "Using model: models.pytorch.models.TransformerEnsemble\n"
     ]
    }
   ],
   "source": [
    "trainer = Trainer(modelname='TransformerEnsemble')"
   ]
  },
  {
   "cell_type": "code",
   "execution_count": 5,
   "id": "7042e0eb",
   "metadata": {
    "scrolled": true
   },
   "outputs": [
    {
     "name": "stdout",
     "output_type": "stream",
     "text": [
      "Epoch 1/50\n"
     ]
    },
    {
     "name": "stderr",
     "output_type": "stream",
     "text": [
      "Training progress: 100%|█| 484/484 [02:12<00:00,  3.65it/s, Loss=tensor(4.8441),"
     ]
    },
    {
     "name": "stdout",
     "output_type": "stream",
     "text": [
      "EPOCH   1: Train accuracy: 0.04, Train Loss: 4.84408808, LRate 0.00110000 \n"
     ]
    },
    {
     "name": "stderr",
     "output_type": "stream",
     "text": [
      "\n",
      "Validation progress: 100%|█| 29/29 [00:21<00:00,  1.33it/s, Loss=tensor(4.1410),"
     ]
    },
    {
     "name": "stdout",
     "output_type": "stream",
     "text": [
      "EPOCH   1: Validation accuracy: 0.11, Validation Loss: 4.14098120, LRate 0.00110000 \n",
      "\n"
     ]
    },
    {
     "name": "stderr",
     "output_type": "stream",
     "text": [
      "\n"
     ]
    },
    {
     "name": "stdout",
     "output_type": "stream",
     "text": [
      "Best model and parameters saved at epoch 1\n",
      "\n",
      "Epoch 2/50\n"
     ]
    },
    {
     "name": "stderr",
     "output_type": "stream",
     "text": [
      "Training progress: 100%|█| 484/484 [02:13<00:00,  3.62it/s, Loss=tensor(3.9172),"
     ]
    },
    {
     "name": "stdout",
     "output_type": "stream",
     "text": [
      "EPOCH   2: Train accuracy: 0.13, Train Loss: 3.91717434, LRate 0.00099000 \n"
     ]
    },
    {
     "name": "stderr",
     "output_type": "stream",
     "text": [
      "\n",
      "Validation progress: 100%|█| 29/29 [00:22<00:00,  1.32it/s, Loss=tensor(4.5266),"
     ]
    },
    {
     "name": "stdout",
     "output_type": "stream",
     "text": [
      "EPOCH   2: Validation accuracy: 0.07, Validation Loss: 4.52659130, LRate 0.00099000 \n",
      "\n",
      "No improvement in loss for 1 epoch(s)\n",
      "\n",
      "Epoch 3/50\n"
     ]
    },
    {
     "name": "stderr",
     "output_type": "stream",
     "text": [
      "\n",
      "Training progress: 100%|█| 484/484 [02:12<00:00,  3.65it/s, Loss=tensor(3.4197),"
     ]
    },
    {
     "name": "stdout",
     "output_type": "stream",
     "text": [
      "EPOCH   3: Train accuracy: 0.21, Train Loss: 3.41967225, LRate 0.00089100 \n"
     ]
    },
    {
     "name": "stderr",
     "output_type": "stream",
     "text": [
      "\n",
      "Validation progress: 100%|█| 29/29 [00:21<00:00,  1.32it/s, Loss=tensor(3.3680),"
     ]
    },
    {
     "name": "stdout",
     "output_type": "stream",
     "text": [
      "EPOCH   3: Validation accuracy: 0.22, Validation Loss: 3.36800814, LRate 0.00089100 \n",
      "\n"
     ]
    },
    {
     "name": "stderr",
     "output_type": "stream",
     "text": [
      "\n"
     ]
    },
    {
     "name": "stdout",
     "output_type": "stream",
     "text": [
      "Best model and parameters saved at epoch 3\n",
      "\n",
      "Epoch 4/50\n"
     ]
    },
    {
     "name": "stderr",
     "output_type": "stream",
     "text": [
      "Training progress: 100%|█| 484/484 [02:12<00:00,  3.66it/s, Loss=tensor(2.9297),"
     ]
    },
    {
     "name": "stdout",
     "output_type": "stream",
     "text": [
      "EPOCH   4: Train accuracy: 0.30, Train Loss: 2.92974949, LRate 0.00080190 \n"
     ]
    },
    {
     "name": "stderr",
     "output_type": "stream",
     "text": [
      "\n",
      "Validation progress: 100%|█| 29/29 [00:21<00:00,  1.32it/s, Loss=tensor(2.8551),"
     ]
    },
    {
     "name": "stdout",
     "output_type": "stream",
     "text": [
      "EPOCH   4: Validation accuracy: 0.32, Validation Loss: 2.85505104, LRate 0.00080190 \n",
      "\n"
     ]
    },
    {
     "name": "stderr",
     "output_type": "stream",
     "text": [
      "\n"
     ]
    },
    {
     "name": "stdout",
     "output_type": "stream",
     "text": [
      "Best model and parameters saved at epoch 4\n",
      "\n",
      "Epoch 5/50\n"
     ]
    },
    {
     "name": "stderr",
     "output_type": "stream",
     "text": [
      "Training progress: 100%|█| 484/484 [02:12<00:00,  3.65it/s, Loss=tensor(2.5016),"
     ]
    },
    {
     "name": "stdout",
     "output_type": "stream",
     "text": [
      "EPOCH   5: Train accuracy: 0.39, Train Loss: 2.50163031, LRate 0.00072171 \n"
     ]
    },
    {
     "name": "stderr",
     "output_type": "stream",
     "text": [
      "\n",
      "Validation progress: 100%|█| 29/29 [00:21<00:00,  1.32it/s, Loss=tensor(2.4501),"
     ]
    },
    {
     "name": "stdout",
     "output_type": "stream",
     "text": [
      "EPOCH   5: Validation accuracy: 0.40, Validation Loss: 2.45010781, LRate 0.00072171 \n",
      "\n"
     ]
    },
    {
     "name": "stderr",
     "output_type": "stream",
     "text": [
      "\n"
     ]
    },
    {
     "name": "stdout",
     "output_type": "stream",
     "text": [
      "Best model and parameters saved at epoch 5\n",
      "\n",
      "Epoch 6/50\n"
     ]
    },
    {
     "name": "stderr",
     "output_type": "stream",
     "text": [
      "Training progress: 100%|█| 484/484 [02:12<00:00,  3.65it/s, Loss=tensor(2.1738),"
     ]
    },
    {
     "name": "stdout",
     "output_type": "stream",
     "text": [
      "EPOCH   6: Train accuracy: 0.45, Train Loss: 2.17378330, LRate 0.00064954 \n"
     ]
    },
    {
     "name": "stderr",
     "output_type": "stream",
     "text": [
      "\n",
      "Validation progress: 100%|█| 29/29 [00:21<00:00,  1.32it/s, Loss=tensor(2.1768),"
     ]
    },
    {
     "name": "stdout",
     "output_type": "stream",
     "text": [
      "EPOCH   6: Validation accuracy: 0.47, Validation Loss: 2.17675424, LRate 0.00064954 \n",
      "\n"
     ]
    },
    {
     "name": "stderr",
     "output_type": "stream",
     "text": [
      "\n"
     ]
    },
    {
     "name": "stdout",
     "output_type": "stream",
     "text": [
      "Best model and parameters saved at epoch 6\n",
      "\n",
      "Epoch 7/50\n"
     ]
    },
    {
     "name": "stderr",
     "output_type": "stream",
     "text": [
      "Training progress: 100%|█| 484/484 [02:12<00:00,  3.66it/s, Loss=tensor(1.9267),"
     ]
    },
    {
     "name": "stdout",
     "output_type": "stream",
     "text": [
      "EPOCH   7: Train accuracy: 0.51, Train Loss: 1.92671943, LRate 0.00058459 \n"
     ]
    },
    {
     "name": "stderr",
     "output_type": "stream",
     "text": [
      "\n",
      "Validation progress: 100%|█| 29/29 [00:21<00:00,  1.32it/s, Loss=tensor(2.1823),"
     ]
    },
    {
     "name": "stdout",
     "output_type": "stream",
     "text": [
      "EPOCH   7: Validation accuracy: 0.46, Validation Loss: 2.18229079, LRate 0.00058459 \n",
      "\n",
      "No improvement in loss for 1 epoch(s)\n",
      "\n",
      "Epoch 8/50\n"
     ]
    },
    {
     "name": "stderr",
     "output_type": "stream",
     "text": [
      "\n",
      "Training progress: 100%|█| 484/484 [02:12<00:00,  3.65it/s, Loss=tensor(1.7240),"
     ]
    },
    {
     "name": "stdout",
     "output_type": "stream",
     "text": [
      "EPOCH   8: Train accuracy: 0.56, Train Loss: 1.72395575, LRate 0.00052613 \n"
     ]
    },
    {
     "name": "stderr",
     "output_type": "stream",
     "text": [
      "\n",
      "Validation progress: 100%|█| 29/29 [00:21<00:00,  1.32it/s, Loss=tensor(1.8616),"
     ]
    },
    {
     "name": "stdout",
     "output_type": "stream",
     "text": [
      "EPOCH   8: Validation accuracy: 0.53, Validation Loss: 1.86163437, LRate 0.00052613 \n",
      "\n"
     ]
    },
    {
     "name": "stderr",
     "output_type": "stream",
     "text": [
      "\n"
     ]
    },
    {
     "name": "stdout",
     "output_type": "stream",
     "text": [
      "Best model and parameters saved at epoch 8\n",
      "\n",
      "Epoch 9/50\n"
     ]
    },
    {
     "name": "stderr",
     "output_type": "stream",
     "text": [
      "Training progress: 100%|█| 484/484 [02:12<00:00,  3.65it/s, Loss=tensor(1.5378),"
     ]
    },
    {
     "name": "stdout",
     "output_type": "stream",
     "text": [
      "EPOCH   9: Train accuracy: 0.60, Train Loss: 1.53784049, LRate 0.00047351 \n"
     ]
    },
    {
     "name": "stderr",
     "output_type": "stream",
     "text": [
      "\n",
      "Validation progress: 100%|█| 29/29 [00:21<00:00,  1.32it/s, Loss=tensor(1.7013),"
     ]
    },
    {
     "name": "stdout",
     "output_type": "stream",
     "text": [
      "EPOCH   9: Validation accuracy: 0.57, Validation Loss: 1.70131266, LRate 0.00047351 \n",
      "\n"
     ]
    },
    {
     "name": "stderr",
     "output_type": "stream",
     "text": [
      "\n"
     ]
    },
    {
     "name": "stdout",
     "output_type": "stream",
     "text": [
      "Best model and parameters saved at epoch 9\n",
      "\n",
      "Epoch 10/50\n"
     ]
    },
    {
     "name": "stderr",
     "output_type": "stream",
     "text": [
      "Training progress: 100%|█| 484/484 [02:12<00:00,  3.66it/s, Loss=tensor(1.3814),"
     ]
    },
    {
     "name": "stdout",
     "output_type": "stream",
     "text": [
      "EPOCH  10: Train accuracy: 0.63, Train Loss: 1.38140464, LRate 0.00042616 \n"
     ]
    },
    {
     "name": "stderr",
     "output_type": "stream",
     "text": [
      "\n",
      "Validation progress: 100%|█| 29/29 [00:21<00:00,  1.32it/s, Loss=tensor(1.6922),"
     ]
    },
    {
     "name": "stdout",
     "output_type": "stream",
     "text": [
      "EPOCH  10: Validation accuracy: 0.57, Validation Loss: 1.69223499, LRate 0.00042616 \n",
      "\n"
     ]
    },
    {
     "name": "stderr",
     "output_type": "stream",
     "text": [
      "\n"
     ]
    },
    {
     "name": "stdout",
     "output_type": "stream",
     "text": [
      "Best model and parameters saved at epoch 10\n",
      "\n",
      "Epoch 11/50\n"
     ]
    },
    {
     "name": "stderr",
     "output_type": "stream",
     "text": [
      "Training progress: 100%|█| 484/484 [02:11<00:00,  3.67it/s, Loss=tensor(1.2534),"
     ]
    },
    {
     "name": "stdout",
     "output_type": "stream",
     "text": [
      "EPOCH  11: Train accuracy: 0.67, Train Loss: 1.25335598, LRate 0.00038355 \n"
     ]
    },
    {
     "name": "stderr",
     "output_type": "stream",
     "text": [
      "\n",
      "Validation progress: 100%|█| 29/29 [00:21<00:00,  1.32it/s, Loss=tensor(1.5613),"
     ]
    },
    {
     "name": "stdout",
     "output_type": "stream",
     "text": [
      "EPOCH  11: Validation accuracy: 0.61, Validation Loss: 1.56128335, LRate 0.00038355 \n",
      "\n"
     ]
    },
    {
     "name": "stderr",
     "output_type": "stream",
     "text": [
      "\n"
     ]
    },
    {
     "name": "stdout",
     "output_type": "stream",
     "text": [
      "Best model and parameters saved at epoch 11\n",
      "\n",
      "Epoch 12/50\n"
     ]
    },
    {
     "name": "stderr",
     "output_type": "stream",
     "text": [
      "Training progress: 100%|█| 484/484 [02:12<00:00,  3.66it/s, Loss=tensor(1.1309),"
     ]
    },
    {
     "name": "stdout",
     "output_type": "stream",
     "text": [
      "EPOCH  12: Train accuracy: 0.70, Train Loss: 1.13086498, LRate 0.00034519 \n"
     ]
    },
    {
     "name": "stderr",
     "output_type": "stream",
     "text": [
      "\n",
      "Validation progress: 100%|█| 29/29 [00:21<00:00,  1.32it/s, Loss=tensor(1.4549),"
     ]
    },
    {
     "name": "stdout",
     "output_type": "stream",
     "text": [
      "EPOCH  12: Validation accuracy: 0.63, Validation Loss: 1.45488608, LRate 0.00034519 \n",
      "\n"
     ]
    },
    {
     "name": "stderr",
     "output_type": "stream",
     "text": [
      "\n"
     ]
    },
    {
     "name": "stdout",
     "output_type": "stream",
     "text": [
      "Best model and parameters saved at epoch 12\n",
      "\n",
      "Epoch 13/50\n"
     ]
    },
    {
     "name": "stderr",
     "output_type": "stream",
     "text": [
      "Training progress: 100%|█| 484/484 [02:12<00:00,  3.64it/s, Loss=tensor(1.0178),"
     ]
    },
    {
     "name": "stdout",
     "output_type": "stream",
     "text": [
      "EPOCH  13: Train accuracy: 0.73, Train Loss: 1.01775944, LRate 0.00031067 \n"
     ]
    },
    {
     "name": "stderr",
     "output_type": "stream",
     "text": [
      "\n",
      "Validation progress: 100%|█| 29/29 [00:21<00:00,  1.33it/s, Loss=tensor(1.4331),"
     ]
    },
    {
     "name": "stdout",
     "output_type": "stream",
     "text": [
      "EPOCH  13: Validation accuracy: 0.64, Validation Loss: 1.43312430, LRate 0.00031067 \n",
      "\n"
     ]
    },
    {
     "name": "stderr",
     "output_type": "stream",
     "text": [
      "\n"
     ]
    },
    {
     "name": "stdout",
     "output_type": "stream",
     "text": [
      "Best model and parameters saved at epoch 13\n",
      "\n",
      "Epoch 14/50\n"
     ]
    },
    {
     "name": "stderr",
     "output_type": "stream",
     "text": [
      "Training progress: 100%|█| 484/484 [02:12<00:00,  3.65it/s, Loss=tensor(0.9285),"
     ]
    },
    {
     "name": "stdout",
     "output_type": "stream",
     "text": [
      "EPOCH  14: Train accuracy: 0.75, Train Loss: 0.92850506, LRate 0.00027961 \n"
     ]
    },
    {
     "name": "stderr",
     "output_type": "stream",
     "text": [
      "\n",
      "Validation progress: 100%|█| 29/29 [00:21<00:00,  1.33it/s, Loss=tensor(1.4121),"
     ]
    },
    {
     "name": "stdout",
     "output_type": "stream",
     "text": [
      "EPOCH  14: Validation accuracy: 0.65, Validation Loss: 1.41205800, LRate 0.00027961 \n",
      "\n"
     ]
    },
    {
     "name": "stderr",
     "output_type": "stream",
     "text": [
      "\n"
     ]
    },
    {
     "name": "stdout",
     "output_type": "stream",
     "text": [
      "Best model and parameters saved at epoch 14\n",
      "\n",
      "Epoch 15/50\n"
     ]
    },
    {
     "name": "stderr",
     "output_type": "stream",
     "text": [
      "Training progress: 100%|█| 484/484 [02:12<00:00,  3.67it/s, Loss=tensor(0.8309),"
     ]
    },
    {
     "name": "stdout",
     "output_type": "stream",
     "text": [
      "EPOCH  15: Train accuracy: 0.78, Train Loss: 0.83090043, LRate 0.00025164 \n"
     ]
    },
    {
     "name": "stderr",
     "output_type": "stream",
     "text": [
      "\n",
      "Validation progress: 100%|█| 29/29 [00:21<00:00,  1.33it/s, Loss=tensor(1.3294),"
     ]
    },
    {
     "name": "stdout",
     "output_type": "stream",
     "text": [
      "EPOCH  15: Validation accuracy: 0.67, Validation Loss: 1.32937503, LRate 0.00025164 \n",
      "\n"
     ]
    },
    {
     "name": "stderr",
     "output_type": "stream",
     "text": [
      "\n"
     ]
    },
    {
     "name": "stdout",
     "output_type": "stream",
     "text": [
      "Best model and parameters saved at epoch 15\n",
      "\n",
      "Epoch 16/50\n"
     ]
    },
    {
     "name": "stderr",
     "output_type": "stream",
     "text": [
      "Training progress: 100%|█| 484/484 [02:12<00:00,  3.66it/s, Loss=tensor(0.7485),"
     ]
    },
    {
     "name": "stdout",
     "output_type": "stream",
     "text": [
      "EPOCH  16: Train accuracy: 0.80, Train Loss: 0.74845117, LRate 0.00022648 \n"
     ]
    },
    {
     "name": "stderr",
     "output_type": "stream",
     "text": [
      "\n",
      "Validation progress: 100%|█| 29/29 [00:21<00:00,  1.33it/s, Loss=tensor(1.3003),"
     ]
    },
    {
     "name": "stdout",
     "output_type": "stream",
     "text": [
      "EPOCH  16: Validation accuracy: 0.69, Validation Loss: 1.30029726, LRate 0.00022648 \n",
      "\n"
     ]
    },
    {
     "name": "stderr",
     "output_type": "stream",
     "text": [
      "\n"
     ]
    },
    {
     "name": "stdout",
     "output_type": "stream",
     "text": [
      "Best model and parameters saved at epoch 16\n",
      "\n",
      "Epoch 17/50\n"
     ]
    },
    {
     "name": "stderr",
     "output_type": "stream",
     "text": [
      "Training progress: 100%|█| 484/484 [02:12<00:00,  3.65it/s, Loss=tensor(0.6730),"
     ]
    },
    {
     "name": "stdout",
     "output_type": "stream",
     "text": [
      "EPOCH  17: Train accuracy: 0.82, Train Loss: 0.67301548, LRate 0.00020383 \n"
     ]
    },
    {
     "name": "stderr",
     "output_type": "stream",
     "text": [
      "\n",
      "Validation progress: 100%|█| 29/29 [00:21<00:00,  1.33it/s, Loss=tensor(1.2779),"
     ]
    },
    {
     "name": "stdout",
     "output_type": "stream",
     "text": [
      "EPOCH  17: Validation accuracy: 0.69, Validation Loss: 1.27790630, LRate 0.00020383 \n",
      "\n"
     ]
    },
    {
     "name": "stderr",
     "output_type": "stream",
     "text": [
      "\n"
     ]
    },
    {
     "name": "stdout",
     "output_type": "stream",
     "text": [
      "Best model and parameters saved at epoch 17\n",
      "\n",
      "Epoch 18/50\n"
     ]
    },
    {
     "name": "stderr",
     "output_type": "stream",
     "text": [
      "Training progress: 100%|█| 484/484 [02:13<00:00,  3.63it/s, Loss=tensor(0.6166),"
     ]
    },
    {
     "name": "stdout",
     "output_type": "stream",
     "text": [
      "EPOCH  18: Train accuracy: 0.83, Train Loss: 0.61656541, LRate 0.00018345 \n"
     ]
    },
    {
     "name": "stderr",
     "output_type": "stream",
     "text": [
      "\n",
      "Validation progress: 100%|█| 29/29 [00:23<00:00,  1.24it/s, Loss=tensor(1.2765),"
     ]
    },
    {
     "name": "stdout",
     "output_type": "stream",
     "text": [
      "EPOCH  18: Validation accuracy: 0.69, Validation Loss: 1.27647197, LRate 0.00018345 \n",
      "\n"
     ]
    },
    {
     "name": "stderr",
     "output_type": "stream",
     "text": [
      "\n"
     ]
    },
    {
     "name": "stdout",
     "output_type": "stream",
     "text": [
      "Best model and parameters saved at epoch 18\n",
      "\n",
      "Epoch 19/50\n"
     ]
    },
    {
     "name": "stderr",
     "output_type": "stream",
     "text": [
      "Training progress: 100%|█| 484/484 [02:11<00:00,  3.68it/s, Loss=tensor(0.5473),"
     ]
    },
    {
     "name": "stdout",
     "output_type": "stream",
     "text": [
      "EPOCH  19: Train accuracy: 0.85, Train Loss: 0.54732257, LRate 0.00016510 \n"
     ]
    },
    {
     "name": "stderr",
     "output_type": "stream",
     "text": [
      "\n",
      "Validation progress: 100%|█| 29/29 [00:23<00:00,  1.25it/s, Loss=tensor(1.2521),"
     ]
    },
    {
     "name": "stdout",
     "output_type": "stream",
     "text": [
      "EPOCH  19: Validation accuracy: 0.70, Validation Loss: 1.25211978, LRate 0.00016510 \n",
      "\n"
     ]
    },
    {
     "name": "stderr",
     "output_type": "stream",
     "text": [
      "\n"
     ]
    },
    {
     "name": "stdout",
     "output_type": "stream",
     "text": [
      "Best model and parameters saved at epoch 19\n",
      "\n",
      "Epoch 20/50\n"
     ]
    },
    {
     "name": "stderr",
     "output_type": "stream",
     "text": [
      "Training progress: 100%|█| 484/484 [02:11<00:00,  3.68it/s, Loss=tensor(0.4967),"
     ]
    },
    {
     "name": "stdout",
     "output_type": "stream",
     "text": [
      "EPOCH  20: Train accuracy: 0.87, Train Loss: 0.49673864, LRate 0.00014859 \n"
     ]
    },
    {
     "name": "stderr",
     "output_type": "stream",
     "text": [
      "\n",
      "Validation progress: 100%|█| 29/29 [00:23<00:00,  1.25it/s, Loss=tensor(1.2969),"
     ]
    },
    {
     "name": "stdout",
     "output_type": "stream",
     "text": [
      "EPOCH  20: Validation accuracy: 0.69, Validation Loss: 1.29685211, LRate 0.00014859 \n",
      "\n",
      "No improvement in loss for 1 epoch(s)\n",
      "\n",
      "Epoch 21/50\n"
     ]
    },
    {
     "name": "stderr",
     "output_type": "stream",
     "text": [
      "\n",
      "Training progress: 100%|█| 484/484 [02:11<00:00,  3.69it/s, Loss=tensor(0.4465),"
     ]
    },
    {
     "name": "stdout",
     "output_type": "stream",
     "text": [
      "EPOCH  21: Train accuracy: 0.88, Train Loss: 0.44649997, LRate 0.00013373 \n"
     ]
    },
    {
     "name": "stderr",
     "output_type": "stream",
     "text": [
      "\n",
      "Validation progress: 100%|█| 29/29 [00:23<00:00,  1.25it/s, Loss=tensor(1.2777),"
     ]
    },
    {
     "name": "stdout",
     "output_type": "stream",
     "text": [
      "EPOCH  21: Validation accuracy: 0.71, Validation Loss: 1.27770257, LRate 0.00013373 \n",
      "\n",
      "No improvement in loss for 2 epoch(s)\n",
      "\n",
      "Epoch 22/50\n"
     ]
    },
    {
     "name": "stderr",
     "output_type": "stream",
     "text": [
      "\n",
      "Training progress: 100%|█| 484/484 [02:12<00:00,  3.66it/s, Loss=tensor(0.4060),"
     ]
    },
    {
     "name": "stdout",
     "output_type": "stream",
     "text": [
      "EPOCH  22: Train accuracy: 0.90, Train Loss: 0.40598133, LRate 0.00012036 \n"
     ]
    },
    {
     "name": "stderr",
     "output_type": "stream",
     "text": [
      "\n",
      "Validation progress: 100%|█| 29/29 [00:23<00:00,  1.26it/s, Loss=tensor(1.2628),"
     ]
    },
    {
     "name": "stdout",
     "output_type": "stream",
     "text": [
      "EPOCH  22: Validation accuracy: 0.71, Validation Loss: 1.26283097, LRate 0.00012036 \n",
      "\n",
      "No improvement in loss for 3 epoch(s)\n",
      "\n",
      "Epoch 23/50\n"
     ]
    },
    {
     "name": "stderr",
     "output_type": "stream",
     "text": [
      "\n",
      "Training progress: 100%|█| 484/484 [02:11<00:00,  3.68it/s, Loss=tensor(0.3675),"
     ]
    },
    {
     "name": "stdout",
     "output_type": "stream",
     "text": [
      "EPOCH  23: Train accuracy: 0.91, Train Loss: 0.36751765, LRate 0.00010832 \n"
     ]
    },
    {
     "name": "stderr",
     "output_type": "stream",
     "text": [
      "\n",
      "Validation progress: 100%|█| 29/29 [00:23<00:00,  1.25it/s, Loss=tensor(1.2541),"
     ]
    },
    {
     "name": "stdout",
     "output_type": "stream",
     "text": [
      "EPOCH  23: Validation accuracy: 0.71, Validation Loss: 1.25413764, LRate 0.00010832 \n",
      "\n",
      "No improvement in loss for 4 epoch(s)\n",
      "\n",
      "Epoch 24/50\n"
     ]
    },
    {
     "name": "stderr",
     "output_type": "stream",
     "text": [
      "\n",
      "Training progress: 100%|█| 484/484 [02:12<00:00,  3.65it/s, Loss=tensor(0.3317),"
     ]
    },
    {
     "name": "stdout",
     "output_type": "stream",
     "text": [
      "EPOCH  24: Train accuracy: 0.92, Train Loss: 0.33169517, LRate 0.00009749 \n"
     ]
    },
    {
     "name": "stderr",
     "output_type": "stream",
     "text": [
      "\n",
      "Validation progress: 100%|█| 29/29 [00:21<00:00,  1.32it/s, Loss=tensor(1.2950),"
     ]
    },
    {
     "name": "stdout",
     "output_type": "stream",
     "text": [
      "EPOCH  24: Validation accuracy: 0.71, Validation Loss: 1.29503727, LRate 0.00009749 \n",
      "\n",
      "No improvement in loss for 5 epoch(s)\n",
      "\n",
      "Epoch 25/50\n"
     ]
    },
    {
     "name": "stderr",
     "output_type": "stream",
     "text": [
      "\n",
      "Training progress: 100%|█| 484/484 [02:11<00:00,  3.67it/s, Loss=tensor(0.3022),"
     ]
    },
    {
     "name": "stdout",
     "output_type": "stream",
     "text": [
      "EPOCH  25: Train accuracy: 0.93, Train Loss: 0.30215907, LRate 0.00008774 \n"
     ]
    },
    {
     "name": "stderr",
     "output_type": "stream",
     "text": [
      "\n",
      "Validation progress: 100%|█| 29/29 [00:21<00:00,  1.32it/s, Loss=tensor(1.2887),"
     ]
    },
    {
     "name": "stdout",
     "output_type": "stream",
     "text": [
      "EPOCH  25: Validation accuracy: 0.72, Validation Loss: 1.28865337, LRate 0.00008774 \n",
      "\n",
      "No improvement in loss for 6 epoch(s)\n",
      "\n",
      "Epoch 26/50\n"
     ]
    },
    {
     "name": "stderr",
     "output_type": "stream",
     "text": [
      "\n",
      "Training progress: 100%|█| 484/484 [02:12<00:00,  3.66it/s, Loss=tensor(0.2753),"
     ]
    },
    {
     "name": "stdout",
     "output_type": "stream",
     "text": [
      "EPOCH  26: Train accuracy: 0.94, Train Loss: 0.27533993, LRate 0.00007897 \n"
     ]
    },
    {
     "name": "stderr",
     "output_type": "stream",
     "text": [
      "\n",
      "Validation progress: 100%|█| 29/29 [00:21<00:00,  1.32it/s, Loss=tensor(1.2946),"
     ]
    },
    {
     "name": "stdout",
     "output_type": "stream",
     "text": [
      "EPOCH  26: Validation accuracy: 0.72, Validation Loss: 1.29462862, LRate 0.00007897 \n",
      "\n",
      "No improvement in loss for 7 epoch(s)\n",
      "\n",
      "Epoch 27/50\n"
     ]
    },
    {
     "name": "stderr",
     "output_type": "stream",
     "text": [
      "\n",
      "Training progress: 100%|█| 484/484 [02:12<00:00,  3.65it/s, Loss=tensor(0.2528),"
     ]
    },
    {
     "name": "stdout",
     "output_type": "stream",
     "text": [
      "EPOCH  27: Train accuracy: 0.95, Train Loss: 0.25282595, LRate 0.00007107 \n"
     ]
    },
    {
     "name": "stderr",
     "output_type": "stream",
     "text": [
      "\n",
      "Validation progress: 100%|█| 29/29 [00:21<00:00,  1.32it/s, Loss=tensor(1.3167),"
     ]
    },
    {
     "name": "stdout",
     "output_type": "stream",
     "text": [
      "EPOCH  27: Validation accuracy: 0.71, Validation Loss: 1.31668437, LRate 0.00007107 \n",
      "\n",
      "No improvement in loss for 8 epoch(s)\n",
      "\n",
      "Epoch 28/50\n"
     ]
    },
    {
     "name": "stderr",
     "output_type": "stream",
     "text": [
      "\n",
      "Training progress: 100%|█| 484/484 [02:11<00:00,  3.68it/s, Loss=tensor(0.2317),"
     ]
    },
    {
     "name": "stdout",
     "output_type": "stream",
     "text": [
      "EPOCH  28: Train accuracy: 0.95, Train Loss: 0.23173338, LRate 0.00006396 \n"
     ]
    },
    {
     "name": "stderr",
     "output_type": "stream",
     "text": [
      "\n",
      "Validation progress: 100%|█| 29/29 [00:21<00:00,  1.32it/s, Loss=tensor(1.3154),"
     ]
    },
    {
     "name": "stdout",
     "output_type": "stream",
     "text": [
      "EPOCH  28: Validation accuracy: 0.72, Validation Loss: 1.31535828, LRate 0.00006396 \n",
      "\n",
      "No improvement in loss for 9 epoch(s)\n",
      "\n",
      "Epoch 29/50\n"
     ]
    },
    {
     "name": "stderr",
     "output_type": "stream",
     "text": [
      "\n",
      "Training progress: 100%|█| 484/484 [02:12<00:00,  3.65it/s, Loss=tensor(0.2146),"
     ]
    },
    {
     "name": "stdout",
     "output_type": "stream",
     "text": [
      "EPOCH  29: Train accuracy: 0.96, Train Loss: 0.21462546, LRate 0.00005757 \n"
     ]
    },
    {
     "name": "stderr",
     "output_type": "stream",
     "text": [
      "\n",
      "Validation progress: 100%|█| 29/29 [00:23<00:00,  1.24it/s, Loss=tensor(1.3208),"
     ]
    },
    {
     "name": "stdout",
     "output_type": "stream",
     "text": [
      "EPOCH  29: Validation accuracy: 0.72, Validation Loss: 1.32075858, LRate 0.00005757 \n",
      "\n"
     ]
    },
    {
     "name": "stderr",
     "output_type": "stream",
     "text": [
      "\n"
     ]
    },
    {
     "name": "stdout",
     "output_type": "stream",
     "text": [
      "No improvement in loss for 10 epoch(s)\n",
      "Early stopping at epoch 29\n",
      "\n",
      "Retrieving best model saved at /Users/tgdimas1/git/CAS-AML-FINAL-PROJECT/notebooks/../src/../checkpoints/pytorch/TransformerEnsemble/TransformerEnsemble_best_model.ckpt\n"
     ]
    },
    {
     "name": "stderr",
     "output_type": "stream",
     "text": [
      "Testing progress: 100%|█████████████████████████| 57/57 [00:26<00:00,  2.15it/s]"
     ]
    },
    {
     "name": "stdout",
     "output_type": "stream",
     "text": [
      "EPOCH  29: Test accuracy: 0.70, Test Loss: 1.24984300, LRate 0.00016510 \n",
      "\n"
     ]
    },
    {
     "name": "stderr",
     "output_type": "stream",
     "text": [
      "\n"
     ]
    },
    {
     "data": {
      "text/plain": [
       "([tensor([240,  89,  25,  82, 191,  62, 139,  76, 163,  78,  57, 135, 223, 115,\n",
       "           36,  17, 119, 122,  54, 168,  73, 243, 146,  40,  84,   4,  40, 130,\n",
       "          220, 162, 134, 130,  27,  99, 139,  74,  25,  79, 164,  31,   8,  90,\n",
       "          128,  23, 125, 172, 179,  15, 239,  93, 186, 222, 149, 126,  23, 137,\n",
       "          179, 199, 115,  36, 144,  33,  47, 103, 191, 191, 165, 206,  79,  57,\n",
       "          191, 197, 226,  72, 205, 164, 106,  22, 230, 207, 170,  83, 243, 199,\n",
       "          225, 176, 126,  53,  53, 216,  24, 241, 206,  75, 196, 157,  82, 100,\n",
       "           70,  62, 142, 221,  85,  41, 236, 128, 122,  65, 183,  65, 232, 159,\n",
       "           27,  59, 125,  32,  98, 212, 101, 233, 239, 186,  33, 232,  95, 101,\n",
       "          226, 171]),\n",
       "  tensor([126,  10, 194,  42, 193,  30, 190,  90, 182,  33, 139, 157, 159,  90,\n",
       "          248,  44,  33,  97,  84, 213, 100, 155, 221, 228,  58, 190,  38, 245,\n",
       "          213, 151, 171,   9,   8,  36, 131,  86,  19,  79, 184, 166,  49, 209,\n",
       "          138,  57, 145,   9, 183, 184,  46,   8, 226, 231, 124, 135, 205, 102,\n",
       "           19, 143, 228,  77, 244, 210, 146,  72,  14,  85, 195, 206, 103, 206,\n",
       "          106, 230, 124, 135, 214,  15,  29,  47,  29, 132, 235,  84, 220, 239,\n",
       "          174,  36, 143, 205, 237,  44, 102, 125, 198, 234,   0, 236, 191, 182,\n",
       "           70, 234, 150, 164,  72, 219,   4, 164, 128,  81, 172, 105,  48, 160,\n",
       "          167, 201,  43,   4, 120, 222, 135,  88,  55, 176, 163,  49, 246, 177,\n",
       "          147, 169]),\n",
       "  tensor([ 22, 102,  94, 233, 203, 190,  24,  84, 223, 194, 226,  79,  63,  59,\n",
       "          145,  75, 153,  38,   6, 118, 122, 218,  38,   7, 182, 109, 229, 221,\n",
       "          228,  74, 109, 103, 237, 237, 234,  37,  77, 245,  25,  34, 145,  77,\n",
       "          180, 202, 230,  59,  92,  41, 104,  31, 216, 185, 212, 185, 207, 202,\n",
       "          154,  50, 244, 132,   6, 121,  67, 144, 132, 205, 119, 134, 153, 155,\n",
       "            9,  41,  39,  56, 159, 179,  47, 123,  29,  36,  88, 100, 178,  23,\n",
       "           80,  67, 169,  51,  94, 197,  23, 156,  39, 200, 122, 182, 146, 210,\n",
       "          182,  71, 212,  19,  12, 150, 244, 238, 164, 200,  22, 165, 166, 195,\n",
       "          212, 221,  39,  89, 113, 176, 191, 194, 210, 194, 204, 131, 176, 104,\n",
       "          229, 124]),\n",
       "  tensor([ 82,  94, 133,  78,  94, 189, 176, 225, 186,  32, 204, 206, 203, 238,\n",
       "          160,  67,   6, 128,  23, 195,   1, 227, 176, 222,  18, 147, 164, 212,\n",
       "          193, 126,  48, 194, 244, 191,   5, 231, 113, 221, 246, 229,  54, 153,\n",
       "          143,  99,  35,  58, 117, 243,  87,  87,  55,  11, 111, 248, 218,   7,\n",
       "           55,  26, 248, 178, 182, 230, 196,  34, 226, 172, 120,  41, 168, 177,\n",
       "          189,  82,  14,  12, 235,  84,  67, 198, 238, 235, 242,  50, 239,  89,\n",
       "           53, 154, 234,   6, 190,   8,   2,  92,  14,  73,  50,  38, 151, 213,\n",
       "           42, 191,  83,  76, 122, 243,  63, 175,  59, 191,  24,  70,  91,  80,\n",
       "          197,  89,  24, 168,  32,  50,  19,  78,  99, 229, 232, 234, 211, 174,\n",
       "           77, 176]),\n",
       "  tensor([239, 138,  22, 136, 135,  78,   2, 146, 165, 212,  82, 154, 210, 201,\n",
       "          201, 118,  86,  47, 157, 224,  74, 168, 204,  53, 105, 169,   9, 123,\n",
       "          165,  84, 148, 243,  38, 130,  84, 244,  32, 140,  63,  96, 217, 170,\n",
       "           67,   2, 120,  67, 135,  10, 112, 137, 131, 146,  82,  74, 114,  32,\n",
       "          111,   3, 133, 167, 168,  13, 209, 227, 164, 175,  63,  53, 127,  22,\n",
       "          155,  65, 181,  70, 165,  66,  60, 106, 111,   2, 200,  48, 169, 162,\n",
       "           53, 109,  16,  61, 119, 120,  42,  12,  94, 146, 166, 101, 101, 228,\n",
       "           60, 202, 218,  44, 148, 167, 154, 164,  84, 218, 165, 192, 244, 218,\n",
       "          100, 148, 134, 235,  87,  52,  30,  86, 169, 194,  79, 164, 220, 142,\n",
       "          127, 216]),\n",
       "  tensor([204, 119, 119,  91,  12, 137, 233, 222, 150, 248, 221, 217,  16,  78,\n",
       "          171, 213, 149, 117, 211, 229, 129, 143,  32,  16, 140, 193, 138, 212,\n",
       "          103, 169, 193, 195, 109, 211, 184, 167,   2,  30,  41, 201,  34,  18,\n",
       "          242, 197, 169, 188,  17, 134,  64,  27, 141, 207,  80,  42, 220,   7,\n",
       "          119,  38, 154,  67, 190, 160, 121, 106, 243, 231, 135,  49, 125,  60,\n",
       "          116, 159,  29,  13, 212, 183, 217, 176, 140,  33, 222, 142, 203,  84,\n",
       "           42, 247,  89, 244, 151, 104, 176,  76, 221,  51,  90, 146, 144, 164,\n",
       "          247, 109, 220, 169, 119, 112, 213, 197, 114,  98,   7,  52,  47, 172,\n",
       "           58,  52,  13, 104,  52,  34, 135, 209,  59, 111, 124,  70, 209, 197,\n",
       "           60, 243]),\n",
       "  tensor([219,  84, 226,  39,  75, 128, 239,  69, 143, 204, 177, 191, 197, 163,\n",
       "          247,  89, 114, 132, 133,  20, 199,  78,  97, 120,  79, 224,  38,  30,\n",
       "           87,  56, 220, 123,  49,  58, 128,  41, 212, 220,  87,  11, 181, 193,\n",
       "          213,  56,  55, 205, 138, 116,   8,  48, 114, 202, 248,  40, 135, 158,\n",
       "           42, 142, 230, 230, 228,  33, 172, 102,  98, 211, 177,  58, 226,  38,\n",
       "           38, 197, 189,  60,  36, 169, 140,  65,   0, 201, 219,  86,  37, 144,\n",
       "          155,  14,  18, 125, 103, 206, 209, 200,  24, 143, 227, 230, 147, 169,\n",
       "          239, 156, 181, 207, 248,  76, 193,  29,  58, 173,  29, 237, 189, 213,\n",
       "           48, 239, 155,  34,  13,  90,  51, 108,  65, 190, 166,  29,  68,  29,\n",
       "          114, 113]),\n",
       "  tensor([227, 247,  92,  10,  71, 133, 236, 200,  37,  49, 179, 116, 147,  80,\n",
       "           98, 222, 186, 194,  47,  90,  55, 202, 229, 145, 144, 111,  67,  20,\n",
       "          189, 188, 219,   5, 142,  84, 236,  84, 130, 106, 236,  10, 103, 179,\n",
       "          205,  48,  77, 136, 242, 118, 180, 197, 230,  75,  80, 137, 133,  54,\n",
       "          140,  31, 193, 152, 135, 232, 206,  56, 128, 104,  41, 193,  23,  87,\n",
       "          242, 140, 185, 219,  61, 111, 243,  19, 180, 245,   4,  67, 223,  14,\n",
       "           65,  23,  81,  49, 193, 149,  54, 169,  96, 246,  65,  18,  31, 205,\n",
       "          226,  88, 114,  91, 148, 133, 143, 245, 232, 142,  52,  90,  18, 233,\n",
       "          237,  72,  67, 241, 212,  47,  23,  46, 135, 196, 207,  99,  87, 113,\n",
       "          190, 139]),\n",
       "  tensor([198,   8, 162, 164, 116,  27, 141,  69, 172, 137,   3,   9, 125,  37,\n",
       "            5, 177, 105,  51,  22,  81, 159, 109,  45,  84,  10,  78,  58, 232,\n",
       "           53,  84,  17,  77,  78,  63, 229, 219, 196,  77, 145, 114, 241,  76,\n",
       "           29,  98, 100,  53,  32,  23, 236, 122, 240, 157, 206,  38, 198, 176,\n",
       "           57,  57, 189, 133,  25,  64, 184, 113, 165,  22,  12,  81, 186, 129,\n",
       "          242, 172, 194, 141,  18, 174, 220, 163, 154,  50,  87, 223, 116,  18,\n",
       "          162, 114,  93,  95, 101,  73, 151, 214,  32,  62, 105, 163, 246, 206,\n",
       "          107, 125, 147,   8, 220,  29, 199, 205,  92,  16,  80,   4,  29, 130,\n",
       "            9,  89, 166,  90, 245, 123, 204, 217, 204, 118, 228,  36,  52, 108,\n",
       "          217, 148]),\n",
       "  tensor([215, 185,  96,  49, 126, 128, 217, 230,  18,  62,  52, 122, 138, 222,\n",
       "           39, 197, 218,  74, 243, 118,  17, 189, 248, 199, 182,  17,  58,  67,\n",
       "          229,  41, 246,  36, 228, 240,  93,  49,  99, 102,  86,  22,  41, 222,\n",
       "          203, 248, 166, 165,  49, 141, 223,  33, 173, 123, 243, 243, 164, 148,\n",
       "          237, 191, 176,  13, 210, 210, 162,  99,  81, 170,  38, 206, 119, 100,\n",
       "          106, 244, 194,  94, 127,  38, 199, 207, 150, 159, 133, 227,  12,  10,\n",
       "           63, 183,  87, 206,  98, 141,  23, 109,  69, 150, 111,   6,  38, 241,\n",
       "          188,  62,  99,  48, 123,  42, 138, 145,  83,  12,  65,  24,  74, 187,\n",
       "           17, 230,  38, 177, 190,  88, 114, 110,  87,  91, 227, 213, 224, 211,\n",
       "           92, 183]),\n",
       "  tensor([ 23,  48, 205,  50, 122, 127, 155, 193, 157,  79, 152,  82, 104,  87,\n",
       "          192,  82,  42,  12,  30,  38,  48,  91,  38,  87, 169, 165,  39,  81,\n",
       "           70, 174, 142, 221, 171,  48,  91,  58, 158, 197, 118, 228, 223, 233,\n",
       "          150, 142, 146, 155,  79, 201,  31, 128,  34,  52, 195, 152,   8, 129,\n",
       "          243, 152, 225, 207,  98, 192,  47,  81, 164,  83, 188, 228,  48,  61,\n",
       "           79, 108,  38,  28, 143, 151, 100,  43, 234, 229,  17, 174,  72,  97,\n",
       "           90,  45,  83, 235, 115, 181, 169,  18, 103, 230, 165, 210, 140, 190,\n",
       "          189,  92, 141, 237,  52, 162, 168, 195,  59, 147, 137, 224, 103,  33,\n",
       "          166,  12, 193,   4,  17, 130, 186,  85, 220, 128, 131,  94, 102, 187,\n",
       "          206, 135]),\n",
       "  tensor([ 60,   0, 197,  90,  79,  97,   6, 199,  55, 213, 108, 228,  68,  38,\n",
       "           49,  22, 145,  40, 185, 142,  58, 149, 118, 228, 186, 122, 236, 209,\n",
       "          238,  55, 223, 242, 236, 130,  58, 246, 156,  58, 189,  62, 198, 120,\n",
       "           81, 193,  34,   0, 239,  79, 140, 190,  11,  43, 202,  15, 171, 116,\n",
       "          201, 191, 209, 213, 101, 147,  83, 200,  83,  14,  51,  19, 218, 191,\n",
       "           41, 198, 134, 161,  37, 234,  24,  99, 158, 216, 121,   1, 185, 194,\n",
       "          112,  14, 238,   8,  18, 242, 164, 176,   3, 216, 184, 245, 213, 243,\n",
       "          226, 196,  50, 241, 117, 155,  98,  50,  73, 104,  17,  49, 134,  60,\n",
       "          142, 118, 182,  60, 106, 108,  66, 152,  24, 233, 122,  63,   0,  80,\n",
       "          136, 246]),\n",
       "  tensor([120, 170, 108, 221, 172,  26,  18, 114,  12, 166, 121, 229,  58,  89,\n",
       "          140, 204, 229,  11,  44, 112, 200,  11, 138, 246, 228,  81,  18, 112,\n",
       "           80,  32,  88, 153, 125, 173, 191, 239,  11, 156,  29,  59,  61, 227,\n",
       "          138, 194, 197, 150, 117, 148,  73,  55, 143, 101, 136,  68,  84, 226,\n",
       "           92,  40, 225, 192, 143,  80,  41, 212,  59,  46,  73,  64, 139,  82,\n",
       "          234,  79,  67, 141,  12,  85, 132, 106,  42, 204,  43, 154, 131, 107,\n",
       "          199, 108, 112, 110, 245,  91, 150, 249, 203, 226,  22,  65,  68, 147,\n",
       "          151, 175,  57, 234, 127,  14,   4, 247, 127,  15, 214,  18,  54, 198,\n",
       "           33, 197, 152, 127,  37, 208, 154, 110,  65, 208, 245, 119, 194, 186,\n",
       "           48,  38]),\n",
       "  tensor([222, 117, 116,  24,  58, 151,  74, 207, 178, 232, 118, 167, 167, 150,\n",
       "          119, 163, 173,  52,  48, 144, 110,  19, 165, 109, 118, 190, 231, 164,\n",
       "          247,  98, 164,  38, 185, 113, 123,  64,  92,  93, 194,  11,  65,  83,\n",
       "           32,  34, 123, 194, 204, 168,   2, 233,  53,  45, 137, 118, 200, 105,\n",
       "           75, 230, 140, 167,  52,  83,  71, 128, 237,  53, 248, 161,  33,  72,\n",
       "          237, 105,  37,  88, 108, 196,  74, 220, 129, 200,   2, 248,  78,  39,\n",
       "           11, 232, 228, 201, 132,  90,  50, 235, 247, 247, 244,  76,  58, 177,\n",
       "          114, 239, 245,   4,  62, 130, 162, 117,  67,  71,  95,  82,  44, 144,\n",
       "          238, 134,  26, 129,  73, 191,  20,  82,  73, 155,  85, 212, 112,  44,\n",
       "          108,  80]),\n",
       "  tensor([ 56, 154,  35,  43, 129, 190,   1, 105, 234, 169, 196, 145, 208,  48,\n",
       "           64,  96,  55, 224,  11, 165,  92, 230, 194, 194, 242,  37, 106,  69,\n",
       "           15, 211, 160, 151, 144, 182, 117,  72, 113,  41, 170,   2,  49,  28,\n",
       "           67,  19,  98, 127, 235,   2,  89, 239, 207, 133, 152,  85,   3, 177,\n",
       "          111, 198,   2, 104, 242, 221, 147,  52,  29,   6,  20, 232,  87, 135,\n",
       "          233, 174,  47, 210, 151,  92, 119, 235,  16, 100,  27, 144,  93, 224,\n",
       "          177, 143, 223,  38, 140, 178, 245,   0, 104,  64, 165, 194, 238,  36,\n",
       "           90,  93, 246, 239,  94, 223, 244,  91,  10, 183,  66, 207, 156,  90,\n",
       "           97,  97,  23, 135,  34, 120,  41,  66,  85, 243,   3,  77, 155, 156,\n",
       "          248,  72]),\n",
       "  tensor([133, 142, 246,  33,  27,  79, 226,  71,  96,   0, 143, 104,  14, 215,\n",
       "           42, 140,  94, 115,  92, 166,  75,  94, 167,  91,  26, 187,  49, 167,\n",
       "          239,  79, 228,  98, 124,  51,  90, 204, 239, 191, 113, 194, 202,  17,\n",
       "          244, 205, 239, 243, 243, 108,  71,  28,  69,  41,  39,  23, 132, 206,\n",
       "          199,  60, 145,  67, 143, 153, 119,  27, 145, 226,  19, 105,   3,  67,\n",
       "          111,  51,  32, 103, 141, 120,  23, 144, 120, 150, 242, 134,  66, 201,\n",
       "          176,  15, 151, 216, 141, 224, 230,  58, 248, 210, 145, 102, 208, 207,\n",
       "          127, 177,  38,   7, 105,  37, 200, 236,  77,  89,  38,  93,  90,  52,\n",
       "           96, 228, 153,  94, 219, 148,   3, 155, 211,   3,  45,  23, 104,  23,\n",
       "          242, 227]),\n",
       "  tensor([139,  53,  16, 174,  10,  92, 241, 241, 167,  91, 221, 211,  99, 111,\n",
       "          128, 213, 142, 162, 226, 224, 100, 177,  83,  77, 203, 239,  84,  53,\n",
       "          101, 230,  44,  77,  23,  40,   0, 221, 223, 224,  86,  60,  77, 194,\n",
       "          204, 170,  93, 177,  16,  78,  23, 188,  58,  83, 137,  30, 189,  60,\n",
       "           17, 236, 118, 222,   3,  13, 239,  51, 220, 169,  18,  83,   7, 231,\n",
       "           87, 247,  80, 147, 134,  46,   8, 239,  26, 101,  38, 203,  32,  74,\n",
       "          127,  94, 133,   7, 156, 150, 241, 145, 237,  32,  91,  49, 165, 227,\n",
       "          229, 193, 157,  57,  71,   3, 111, 201, 141, 155,  83,  67,  83,   4,\n",
       "          220,   8, 134, 228,  80, 213, 135,  84, 149, 134,   8,  59, 108,  57,\n",
       "          213, 147]),\n",
       "  tensor([158,  55, 133, 103, 220,  66, 214, 186, 162,  94,  81, 229,  94, 186,\n",
       "           81, 218,  54,  41,  83, 202, 103,  33, 105, 199,  79,  15,  82,  51,\n",
       "          235, 174,   9, 140,  42,  39, 191,  34, 241,  84, 100, 119,  20,  16,\n",
       "           68, 234, 199, 138, 210,  90,  31, 166,  31, 132,  34,  62, 137, 182,\n",
       "            0, 117, 207, 118, 211, 116, 117,  31,   2, 194, 236,  82,  78, 105,\n",
       "           91, 152,  91,  57, 144, 111, 174, 105,   3, 224, 217,  55, 212, 202,\n",
       "          136,  63, 203, 194,  45,  18, 236, 249, 158, 234,  21, 170, 199, 194,\n",
       "          183, 210, 196, 168, 169,  67, 137, 218, 171, 221,  13,  18, 112, 213,\n",
       "          103,  60, 237, 138,  61,  65, 249, 199,  58, 224, 128, 202,  15, 198,\n",
       "           18,   0]),\n",
       "  tensor([ 55, 197,  93, 234,  44,  49, 206, 190, 111,  67,  72,  23,  59, 156,\n",
       "           31, 123, 228, 177, 143,  31, 172, 234,  75, 134, 191, 100, 241,  61,\n",
       "          123, 142, 212, 162, 103, 130,   5, 232,  16,  58, 218,  88, 191,  84,\n",
       "          117, 246, 141,  97,  41, 105, 173, 177, 178, 244,  77, 162, 141, 207,\n",
       "          133,  87,  23, 161, 184,  33, 186, 223, 102,  56, 234, 166,  16, 107,\n",
       "           82, 165, 200,  43, 166, 118, 130, 138,  36, 158,  98,  25, 207,  61,\n",
       "           45, 203, 156,  78,  29,  29,  63, 134,  34, 213, 236, 166, 120, 192,\n",
       "           49, 184, 199, 210, 215, 142, 152,  40,  29, 200,  97,   2, 154,  37,\n",
       "          189,  44,  79,  31,  75, 111, 249, 195,  21,  46,  67, 162, 113,  49,\n",
       "          188, 136]),\n",
       "  tensor([ 78, 184, 155,  87, 208, 208, 147, 168, 128, 174,  83, 243, 239, 111,\n",
       "          114, 225, 223,   9,  44, 101,  15, 219,  92,  16,  44,  88,  22, 191,\n",
       "           69, 201, 204, 126, 160,  51,   6, 246, 104,  95, 223, 224, 153, 241,\n",
       "           92, 235,  87, 121, 130,  28, 218,  81,  84,  23,  93, 154,  23, 105,\n",
       "           82,  19,  98, 106, 143,  85, 198, 122, 143, 121, 239,   2, 106, 214,\n",
       "          192,  81,  32, 178, 235, 168, 245,   3, 205, 228,  73, 180,  44,  24,\n",
       "           52,  17, 130, 233, 240, 168,  87,  11,  75,  32,  48,  94, 148,  73,\n",
       "           24, 181,  70,  38, 111, 160,  38,  28, 110, 244, 169, 203,  29, 222,\n",
       "          230,  32, 111, 240, 143,  65, 208,  15, 185, 116,   4, 192, 220,  69,\n",
       "           78, 140]),\n",
       "  tensor([174, 139, 204,  73, 217, 207,  37, 145,  81, 225, 202, 144,  62, 119,\n",
       "          208,   7, 139, 130,  60, 167,  94, 100, 230, 163,  81, 205,  69, 205,\n",
       "           92, 102, 164, 147,  74, 144,  17, 148, 218, 117,  50, 111, 210, 193,\n",
       "          174,  98,  16, 189, 208,  94, 235, 197, 123, 102, 167, 175, 231,  68,\n",
       "           86,  43, 168,  93,  65,  65, 229,  29,  34, 184, 118,  23,  63, 199,\n",
       "          142, 145,  26, 204,  46, 131,  91,  82, 236, 102, 119, 187,  65, 246,\n",
       "            8,  17, 239, 176, 196, 240, 142,  27,   6, 155, 245,  94, 202, 216,\n",
       "           73, 128, 243, 177, 121, 193, 111,  84,  33, 207,  16,  60,  19,  49,\n",
       "          241, 200, 177, 202, 102, 248, 190,  33, 241,  54, 175, 155, 193,  26,\n",
       "          114,  35]),\n",
       "  tensor([164, 209,   8,   0,  33, 111, 141, 217, 101, 147,  10,  80, 134, 240,\n",
       "          172, 126, 100,  84, 199, 213, 245, 137,  63, 153,  28,  29,  16,  49,\n",
       "          194,  50, 145,   7,  78,  89,  17, 225,  97,  62,  76, 212, 130,  29,\n",
       "          208,  72,   4, 220, 138, 189, 247, 217, 143,  90,  16,  50,  87, 142,\n",
       "           34, 226,  65, 157, 182, 160, 168, 212,  43, 122,  48, 114,  45,  38,\n",
       "          236, 134, 248, 130,  25, 222, 170, 233, 117, 216, 226,  51, 249, 174,\n",
       "          225, 143,  42,  49, 190, 202, 109, 138,  60, 109,   9,  25,   0, 132,\n",
       "          214, 243, 164, 172, 242,  98, 149, 142, 216, 204,  77,  85,  23, 237,\n",
       "          245,  11, 199, 131, 146,  53, 172, 244, 163, 130,  90, 108, 123, 166,\n",
       "           57, 230]),\n",
       "  tensor([ 26, 240,  13, 173, 223,  82, 177, 191,  18, 126,  23, 162,  32,  44,\n",
       "          108, 128,  67, 193, 186,  73, 226, 101, 166, 102, 198, 117,   5, 219,\n",
       "           85, 242,  89, 101, 126, 101, 234, 248,   6, 225, 155,  83,  89, 182,\n",
       "           69, 128,  92,  50,  73,  86, 115, 206,  28, 101, 248, 213,  44,  69,\n",
       "           57,  37, 101, 219, 133, 142, 236, 131, 193,  95,  61, 178, 223, 201,\n",
       "          247, 226, 191,  52,  97,  80, 200, 223, 220,  76,  27, 206,   8, 213,\n",
       "          139, 157, 182, 127, 222, 221, 218, 119, 247, 132,  86, 137, 115, 139,\n",
       "          227, 202,  65, 231,  72, 135,  80,  33, 202, 192,   9,  80, 196,  39,\n",
       "          111,  82,  25, 182,  50, 236, 201,  13,  59, 143, 235,  55,  64, 175,\n",
       "          200, 169]),\n",
       "  tensor([115, 205, 214,  23, 197,   5, 249, 128,  65, 124, 223,   0, 114, 104,\n",
       "          223, 109, 118, 186, 189, 175, 190, 213, 212, 212, 233, 202, 151, 189,\n",
       "          130,  81,  59, 124, 228, 229,  69,  63,  96, 115,  99, 235, 155,  99,\n",
       "          172, 104, 175, 244, 229, 170, 192,   9,  59, 132,  99, 171,  17,  90,\n",
       "          135,  80, 185, 244,  94,  92,   5, 237, 183, 244, 200,  52, 159, 237,\n",
       "          171, 205,  70, 127, 167, 143, 179, 203, 236, 106,   8, 121, 222, 143,\n",
       "          217,  23, 180, 198,  46, 210, 161,  60, 100, 213, 142, 204, 233, 189,\n",
       "          162, 223, 193, 249,  54, 178, 142,  28,  79,  85, 244, 164,  34, 246,\n",
       "            7, 155,  58, 188,  90, 158, 212,  23,  82,  62,  91, 205, 205,  90,\n",
       "           81, 224]),\n",
       "  tensor([218,  28, 174,  80,  57, 226,  60, 120, 139,  17, 237,  44, 114,  26,\n",
       "           49,  35, 139,  27, 162, 190, 210,  57, 137, 135, 107, 176, 202, 174,\n",
       "           76, 232, 242, 213, 243, 142,  74, 182,  39, 239,  22, 116,  69, 129,\n",
       "          169, 170, 128, 130, 197, 111, 226,  35,   0, 218,  24, 203, 191,  37,\n",
       "           49,  14,  24,  57, 150, 193,  41,  34, 245, 180,  55, 117,  58,  67,\n",
       "          154, 217,  62, 147, 143,  29, 113, 140,  99, 243, 158, 239, 111,  76,\n",
       "          240,  92,  50,  43,  21, 231, 199, 202, 144, 210, 191, 104, 194, 175,\n",
       "          213, 145,  22,  21, 131, 118, 198,   3, 120, 133, 122,  80,  29,  96,\n",
       "           34, 172, 135, 232,  43, 143,  29,  41,  68,  17, 123, 219, 166, 111,\n",
       "          226, 104]),\n",
       "  tensor([ 55,  68, 151, 138,  77, 221, 100, 138,  71, 192,   9,  36, 196,  17,\n",
       "          214,  75, 166,  10,  16, 114,  67, 144,  82, 233,  92, 101, 167, 119,\n",
       "           62,  54,   0, 182, 189, 248, 215, 127, 222,  24, 142, 223, 248, 132,\n",
       "          222,  72, 165, 108,  33, 102, 151, 122,  64, 191, 178, 158,  92, 191,\n",
       "           52,  62,   5, 138, 109,  91,  16, 116,  47,  25,  87,  30,  94, 148,\n",
       "          193,  71, 235, 132,  29, 127,  98, 127, 213,  39, 180, 119, 187, 124,\n",
       "            6, 247, 213,  31, 196,  28, 112,  74,  50, 195,  34,  90,  63, 102,\n",
       "          225, 211, 197,  82,  92,  91,  31, 233,  61,  17, 133, 180, 119,   4,\n",
       "          209, 199,  41, 175, 114, 106, 169, 226, 209, 166,  30,  15, 203, 201,\n",
       "          223, 220]),\n",
       "  tensor([171, 102, 148, 221,  48, 196,  32, 172,  31, 134,  33,  26, 223, 191,\n",
       "            6, 112, 137,  69, 200, 220, 155, 117, 134, 191, 158, 169,  54, 226,\n",
       "          109, 115, 225,  25, 156, 141,  72, 152, 228, 134, 224,  66,  86,  27,\n",
       "          101, 138, 162, 123, 233, 143, 239, 229,  65, 210, 130,   8, 143,  60,\n",
       "           86, 145, 179, 208,  62, 109,  52, 162, 130, 162,  68, 151, 248,  18,\n",
       "           41,  73,   3,  99, 239, 138, 119, 239,  22, 191,   7, 193,  29, 155,\n",
       "          107,  11,  75, 171, 202,   9, 161,  37, 208, 227,  77,  92, 220, 158,\n",
       "           32, 165,  69,  67, 182, 205, 200,  62, 104,  14, 114, 113, 174,  19,\n",
       "           63, 111, 192, 194, 118, 157, 179, 134,  15, 113, 133,  11,  72, 175,\n",
       "           80, 150]),\n",
       "  tensor([104,  50,  71, 153, 122, 128, 244, 199, 128, 111,  98, 219, 134, 173,\n",
       "           16, 178,  92, 210, 153,  65, 105,  65, 212, 184, 192, 112, 214,  46,\n",
       "          218, 161, 201,  20, 166, 159,  44, 108, 224, 174, 153, 161,  48, 103,\n",
       "          237, 204,  57,  27, 227, 126,  31, 144,  63,  10,  67,  69, 140, 213,\n",
       "           40,  31, 191, 143, 136,  86,  75, 143, 243, 209,   7, 189, 101, 142,\n",
       "           33,  22,  12, 152, 148,  54, 128, 123, 151, 239,   9, 241,  83, 191,\n",
       "          153,  85, 115, 136, 207, 230, 243,  88, 177,  13, 162, 198, 140,  33,\n",
       "           91,  13, 212, 227, 154,  12, 223, 162,   7, 209, 101, 227, 233, 213,\n",
       "          159,   4, 208, 187, 100, 157, 131,  59, 243,  63, 184,   3,  39,  19,\n",
       "           54, 106]),\n",
       "  tensor([201, 103, 169,  30, 181, 138,  32, 187, 246,  47, 225, 161, 230, 184,\n",
       "          193, 206, 242, 102,  43, 163,  63,  44,  64,  30, 108,  23, 120, 171,\n",
       "           41,  99,  54, 183,  72, 127,  65,  49, 208, 158, 103, 135, 110,  49,\n",
       "           26,  25, 200,  51,  88,  45, 145,  29,   5,  81, 224, 192,  48, 195,\n",
       "           16, 156,  36,   8, 198, 155,   0,  71,  31, 159,  31,  30, 208,  41,\n",
       "          224,  99,  52,  13, 142, 197,  66, 198,  43, 189,   6, 115,  47, 190,\n",
       "           14,  57,  58, 211,  36, 174, 207,  84,  34, 128, 227, 161,  64, 194,\n",
       "          239,  50, 247, 183, 142, 241, 147, 220,  67, 106, 208, 213,   4,  22,\n",
       "           22, 128,  20,  80,  42,  50,   4, 219, 117, 180, 108, 235,  49, 239,\n",
       "          239, 138]),\n",
       "  tensor([ 14,  97, 152,  20,  93, 218, 108, 139, 138, 233, 124, 158, 234, 248,\n",
       "          179, 110,  67,  28, 193, 189,  98, 125, 167, 186,  70, 206, 164, 139,\n",
       "           15,  31, 218, 205, 183,  60, 247, 188, 164, 111, 138, 121,  31,  98,\n",
       "          165, 212, 168,  87, 219,  59, 192, 143, 111,  52,  40,  49, 235, 118,\n",
       "          167,  71, 122,  16,  35,   9,  60, 230,   8, 171, 167, 184, 219, 190,\n",
       "           40, 213, 138,  36,  84, 159, 232, 184, 179, 243, 162, 119,  28, 243,\n",
       "          172, 247,  67,  39, 125,   0, 191, 196, 189,  27,  49, 104, 190, 225,\n",
       "           63, 189, 197, 215, 183, 223,  13, 113, 124,  33,  33, 129, 192,  72,\n",
       "          209, 247, 220,  24, 221, 138,  80,  27,  36, 167, 194,  58, 211, 212,\n",
       "           12, 233]),\n",
       "  tensor([142, 140,  52, 236,   5, 177, 172, 236,   3, 204, 185, 243, 222, 107,\n",
       "           19, 151,  10, 129,  83, 201,  36,  54, 134, 127,  63, 183, 130,  79,\n",
       "          148, 180,  59, 109, 111, 212,  58, 138,  27, 182,  19,  73,  60, 240,\n",
       "          206,  31, 170,  59, 126,  42,  81, 104,  82, 217, 134,  39, 149, 200,\n",
       "          185, 247, 224, 195,  86, 138, 167, 100, 108,   7,  98, 143, 222, 178,\n",
       "          111,  62, 185,  57, 212, 227,  70, 191, 138,  65,  86, 127,  50, 137,\n",
       "          213,  17,  22,  51,  58, 132,  33, 243, 237, 178,   7,  60, 165, 112,\n",
       "          124, 160, 173,  73,  31,  55,  86, 141, 183, 174,  93,  49,  31, 153,\n",
       "          175, 129, 159,  86, 133,  81, 238, 139, 124,  69, 206, 123, 248, 186,\n",
       "           38, 246]),\n",
       "  tensor([151, 110, 188, 192,  23,  82,  57, 227, 198,  86,  43,  87, 218, 226,\n",
       "           70,  12, 150, 128, 137, 221, 155,  82, 196, 151,  32, 186,  12,  89,\n",
       "          247,  54,  19, 143,   6,  86, 188, 109, 155,  51,  69, 193, 165,  85,\n",
       "          185, 246, 105,  28,  14, 108, 206, 239, 105,  93,  79,  79, 141, 189,\n",
       "           36,  24, 158,  36, 119,  57,  15,   5, 188,  92,  85, 145, 136,  95,\n",
       "          223,  82, 234,  40, 191, 222,  91, 106, 111,  80,  22,  15,  94, 121,\n",
       "          165,  81,  32, 172, 200, 111,  24,  13, 162,  14,   8, 191,  82,  45,\n",
       "           73,  29, 239,   1,  35, 211, 234, 161, 186, 117,   3, 218, 190, 202,\n",
       "           34, 128, 143, 153, 114,  59,  20, 143,  81,  44, 131, 207, 210,   2,\n",
       "           88,  82]),\n",
       "  tensor([187, 212,  77, 133, 115, 125, 118, 100,  36,  49,  56, 222, 163, 209,\n",
       "          126, 219, 143, 230, 219, 130,  42, 191, 236, 200, 122, 208, 225, 134,\n",
       "           50, 181, 171, 227,  41, 192, 148,  77,   7,  97, 180,  65,  82,  48,\n",
       "           82, 161, 191, 176, 214, 128, 154, 232, 238, 231, 165, 222, 234,  12,\n",
       "           96,  31, 131, 128,  69,  23, 210, 245, 143, 213, 132, 174, 102, 232,\n",
       "          147, 223, 206, 177, 247, 106, 227,  76,  36, 191,  33, 112,  89,  31,\n",
       "          172,  92, 139,  38, 135, 135,  75, 124, 130,  13, 243,   6, 142, 163,\n",
       "           58,  93, 167, 175, 196,   8, 143,  40, 100, 158,  88, 196, 112,  11,\n",
       "          227, 229, 184,  48,   2, 200, 234, 127,  25,  66, 238, 116, 197,  67,\n",
       "          148, 122]),\n",
       "  tensor([131, 186, 111, 120,  10,  66, 178,  51, 227, 230, 197, 148, 230, 128,\n",
       "           86, 164, 106,  89,  15, 216, 189, 190, 231, 203, 210, 243,  52,   2,\n",
       "          113, 209,  98, 228,  61,  52, 236, 217,  35, 190, 182,  23, 222, 166,\n",
       "          164,  46, 151,  65, 237,  47, 170, 230,  35,  29, 195,  36,  33,  66,\n",
       "           65, 179, 130, 162, 144, 230,  22, 219, 195,  86, 248, 160,  31, 218,\n",
       "           32,  88,  81,  17, 228, 227, 212, 229,  24, 139, 222, 102,  99,  81,\n",
       "          168, 222, 167,  30, 102,  88, 191,  80, 139,  65, 117, 149, 210,  16,\n",
       "          110,  23, 233, 201, 227,  33, 223, 147,  38, 242, 223,  51, 142, 103,\n",
       "           78, 159,  93,  23, 246, 177, 245,  98, 158, 244, 217, 102, 211,  97,\n",
       "          110, 157]),\n",
       "  tensor([222, 118,  59, 128,  87, 154, 134, 211,  88,  33, 134,   5, 191, 245,\n",
       "          132,  25,  43, 220, 240, 187,  92,  83, 213, 138, 183,  72,  53,  85,\n",
       "          224,  13, 177, 148,  31,   0,  37, 201,  41, 239, 228, 140, 236, 129,\n",
       "          240,  53,  86,  97,  51, 186, 154, 126,  23,  29, 238,  56, 133, 135,\n",
       "          153,  87,  67,  73, 120, 175, 107, 167,  53,  41, 179, 184,  38, 110,\n",
       "           83,  25, 161,  20,  86, 129, 132,  13, 203,  99,  45,   2, 111,  46,\n",
       "           78, 143, 195,   6,  34,   7, 125,  53,  41,  63, 185, 212, 201, 136,\n",
       "          210,  55, 248, 163, 226, 121,  69, 233, 127, 208, 128,  46,  48, 181,\n",
       "          226,  86,  26,  71, 103, 207, 139,  54, 186, 228, 162,  81, 211,  16,\n",
       "            3,  31]),\n",
       "  tensor([ 85, 104,  81,  61,  63, 225, 242, 131, 158,  77,  62, 128, 145,  68,\n",
       "          181,  61, 209, 111, 178, 143, 101,  78, 166, 103,  31,  72,  88,  43,\n",
       "          128, 140, 246,  10, 142, 196, 145,  39,   0, 165, 154,  22, 112,  75,\n",
       "           31,  63, 126, 119,  33, 195, 204,  29, 196,  12, 192, 166,  12,  83,\n",
       "           37,  54,  97,  46, 208, 217, 170,  68, 145, 106,  68, 172, 191,  45,\n",
       "           16, 226, 169, 236, 171, 131,  82,   2,  10,  32, 195,  35, 175, 171,\n",
       "           18, 183, 189, 102,  78, 175, 195, 118,  24, 194, 115,  76,  98,  28,\n",
       "          121, 116,  98,  93, 201,  50, 166,  67, 107, 109,  78, 225,  18, 236,\n",
       "          143, 118, 242, 243, 215, 128, 161,  60, 197, 221, 140, 136, 229, 236,\n",
       "          221, 214]),\n",
       "  tensor([229,  40,  80, 159, 225, 249, 237, 200, 147, 114,  63,  69,  36,  77,\n",
       "           77, 195,  80, 169,  23, 133, 249,  24, 142, 163,  97,  14, 128, 201,\n",
       "          236, 219, 106, 176,  29, 166, 117,  10, 164, 191,  22, 169, 166, 213,\n",
       "          203, 114, 151, 230,  27,  90,  86, 101, 153, 234,  31, 155, 246, 100,\n",
       "          111, 172,  31, 248, 237, 158, 192,  54, 206, 194, 227, 156,  56, 115,\n",
       "          101,  65,  37, 158,   8, 154,  94, 198,  47,  30,  19, 139, 228, 136,\n",
       "          213, 128,  63, 184, 138, 199, 190, 236, 239,  53,  26, 124, 204, 213,\n",
       "          122,  33,  56, 143, 226,  37, 224,   6,  29,  20, 234,  58, 111, 172,\n",
       "           32,  17, 218, 213,  23, 199, 215,  73,  81,  91, 245,  67, 176,  37,\n",
       "           36, 249]),\n",
       "  tensor([189, 183,  99, 143, 189, 128,  51, 191,  48,  16,   0,  31, 192,   2,\n",
       "          196,  57,  46,   3,  91, 117,   7,  99, 202, 204, 167,  50, 199, 153,\n",
       "          226,  94, 123,  84, 199,  56,  92,  43, 169,  73,  81, 134, 213, 150,\n",
       "          167, 238, 242, 119, 209, 125, 140, 185,  11, 176, 196, 127, 110, 177,\n",
       "          144, 191, 133, 195, 243,  67, 100, 137, 179, 205, 130, 142,  62,  88,\n",
       "           91, 142, 239, 242,  50,  61,  18,  30,  61,  65, 211, 242,  50, 228,\n",
       "          103,  46,  11,   0, 247,  15,  40,  78,   3,  57, 217, 106, 175, 177,\n",
       "          151, 171, 181,  50, 140, 219, 115, 116, 100, 241, 190, 177, 159, 179,\n",
       "           12,  10, 100,   9, 236, 151, 222, 174,  52,  87,  39, 207, 197, 157,\n",
       "          167,  89]),\n",
       "  tensor([228,  68,  49, 227, 112,  84,  14,   2, 105, 173,  67,  25, 234, 165,\n",
       "          139,  35,  39, 241, 233, 138, 157,  70,  69, 229, 162, 214,   4, 190,\n",
       "          103, 128,  45,  59,  39,  54, 191, 107, 158,  96,  67,  43, 118, 173,\n",
       "          240,  27, 104,   2,  85, 112, 138,  33,  81, 180, 201,  50, 115, 149,\n",
       "           24,  70, 114,  85,  67, 131, 195,  81, 221,  14,  42, 228, 195, 143,\n",
       "           91, 137, 222, 186, 151,  37, 242, 177,  65, 243,  88,  94, 137,  16,\n",
       "          153,  33, 103, 115, 214,  48, 211, 134, 178,  71,  39, 126, 117, 129,\n",
       "          222,  47,  89, 171, 184, 143,  12,  86,  62,  23,   9,  80, 202, 236,\n",
       "          163,  75, 186, 213,  11, 142,  53,  91, 217,  98, 178, 120, 148,  41,\n",
       "           59, 167]),\n",
       "  tensor([201,  80, 233,  34, 136,  28,  42,  42,  46,  24, 193, 217,  20,  59,\n",
       "          236,  33, 111, 169, 140, 228,  19, 205,  20, 193, 102, 205,  72,  76,\n",
       "          126,   2, 131, 171,   9, 162, 117, 185, 131, 223, 212, 135, 217, 226,\n",
       "          213, 151, 192, 107, 193, 219, 183,  26, 174, 123,  90,  52, 127,  51,\n",
       "          244,  85, 223, 171, 153,  93, 166, 227,  48, 105, 131,  43, 132, 113,\n",
       "           77, 155,   0,  43, 107, 142, 229, 172, 132, 214,  52,  54, 131, 245,\n",
       "           30, 155,  33, 162,  91,  86,  81, 210,  12, 239, 195, 236, 101,  38,\n",
       "          162, 176,  44,  72, 224,  67, 162,  50, 237, 183, 157, 177,   8, 214,\n",
       "           26, 189, 102,  80, 218,  96, 216, 138, 210,  97, 189,  59, 111, 104,\n",
       "          149, 152]),\n",
       "  tensor([189, 179, 237, 164, 196,   8, 104, 242, 244,  99,  38,  10, 153, 162,\n",
       "          179,  91, 235, 242, 130, 109,  14, 138, 229, 148, 222, 138,  80, 120,\n",
       "           15, 113,  72, 153,  69, 220, 227,  44,  66, 104, 135,  16, 224, 117,\n",
       "          236,  31, 139, 193, 114,  97,  55, 227,   0, 112, 179, 190, 112,  32,\n",
       "            6, 188, 142,  85, 192, 140, 207,  65, 118, 116, 225, 209, 165,  24,\n",
       "          137, 240, 168, 207,  92, 128, 226, 211, 189,  59,  23, 225, 232,  24,\n",
       "           30, 159, 228, 191, 233, 235, 200, 245,  81, 152, 138,   6,  65, 230,\n",
       "           30, 108,  33,  72, 127,  97, 175,  47,  86,   5, 189, 158,  72, 233,\n",
       "          229, 150,  38, 222, 182, 138, 225,  85, 206, 236, 119,   4, 210, 190,\n",
       "          165, 191]),\n",
       "  tensor([207,  93,  49, 154,  47, 229,  47,  55, 222, 177, 170,   7,  13, 118,\n",
       "          106, 198, 152, 199, 147, 200,  26,  69, 138, 108,  30,  88,  90, 173,\n",
       "          203, 189,  98, 190, 225,  62,  28,  66, 156, 127, 240, 119, 145, 242,\n",
       "           97, 230,  47, 158,  31,  84, 245, 244,  67,  36,  66,  58, 224, 162,\n",
       "           86,   4, 138, 224,  57,  26, 177, 241, 169,  51,  51, 151, 177, 168,\n",
       "          125, 176, 145, 222, 224,  28, 140, 167, 167,  50, 217, 225, 127, 124,\n",
       "          181, 196,  78, 122, 227,  57,  94, 118, 159, 248, 140, 126, 207, 107,\n",
       "           62, 219,  39,  75,  78, 233,  89,  72, 130, 219, 140,  16,  65, 234,\n",
       "          247, 121,  25, 140, 195,  83,  10, 120,  76,  58, 248,  75, 123,  32,\n",
       "          149, 165]),\n",
       "  tensor([102,  69,  15,  45, 176, 180,  55, 233, 234, 144, 194,  40, 129, 216,\n",
       "           11, 249,  14, 172,  93, 146, 135, 158, 166,  73, 180,  63,  42,  72,\n",
       "           51, 103, 160, 158,  39,  83, 242, 111,  62,   8,  57, 147, 148, 137,\n",
       "          175, 213, 186, 126,  70,  59,  55, 239, 119, 110,  35, 216,   6,  99,\n",
       "           22,  90, 135, 122,  54, 247,   5, 211, 162, 243, 220, 210, 173, 226,\n",
       "           58,  50, 140, 146, 101, 242,  74, 125,  22,  72, 166, 185, 142, 238,\n",
       "           90, 224, 127,  23,  70,  54,  73, 198, 130, 133,  59, 124,  26,  16,\n",
       "          155, 119, 240, 211,   6, 203, 220, 150,  95, 126, 146,  50,   6, 236,\n",
       "            6, 205, 145,  33,  66,  16,  18,  81, 186,  28,   7, 134, 143, 213,\n",
       "          126, 175]),\n",
       "  tensor([ 65,  24,  88,  68, 175, 154,  67,  43, 208, 104,  51, 244,  60, 109,\n",
       "           91, 148,  92, 176, 170, 236, 145,  65, 213,  44, 146, 210, 241,  52,\n",
       "          164, 162, 146, 129,  29, 122, 186,  41, 168, 231, 223, 148, 221,  27,\n",
       "           50, 157, 139,  86, 191,  51,   0,  26,   1, 233, 183, 173, 135, 237,\n",
       "          135,  90, 196, 141, 153, 115, 165, 141, 151,  60,  67,   8, 182,  10,\n",
       "           74, 123, 109, 242, 104, 220, 135,   0,  93, 145, 135, 210,   4,  85,\n",
       "          134,  80,  79,  31, 138,  57,  92, 235, 105,  52, 232,  33, 249,  41,\n",
       "          154, 224, 225, 137,  75, 163,   2, 248,   3,  10,  37,  87, 233, 224,\n",
       "           68, 165, 234, 229, 230,  54, 199, 244, 201,  93, 158,  67, 135, 158,\n",
       "           65, 118]),\n",
       "  tensor([151, 147,  32, 228, 169,  13, 128, 153, 134, 142,  65,  29, 224, 243,\n",
       "          207, 226, 101,  10, 146, 245,  32,   6, 184, 158, 210,  46, 146, 206,\n",
       "          217,  71,  78,  44, 182,  70, 133, 196,  35,  60,  14, 115,  85, 199,\n",
       "          192, 129, 104, 238, 163, 165, 227,  54, 139, 111, 104, 174, 103,  55,\n",
       "          193,  27, 103, 222,  33, 246,  43,  82, 156, 243, 160,  77, 143,  96,\n",
       "           28,  14, 205, 208, 180, 111, 113, 198,  48, 240, 100,  96,  26, 246,\n",
       "           67,  94, 128, 203,  72, 154, 157, 122, 178,  57,  14,  55,  88,   6,\n",
       "          204,  17, 122,  16, 219, 128, 248,   7, 213,  58,  37,  40,  55,   6,\n",
       "          145,  84,  44, 103,  17,  54, 144,  53, 144, 149,  25, 225, 207,  97,\n",
       "           19, 122]),\n",
       "  tensor([ 67,  17, 143, 198, 171, 225, 223, 110,  58, 230, 147, 234, 214,  30,\n",
       "           66, 122,  38, 242,  80, 145,  42, 213,  14, 192,  63, 168, 226, 213,\n",
       "          107,  39, 200, 187,  41, 137, 234, 205,  82, 159,  84,   1, 212, 180,\n",
       "           76, 194, 188, 243, 114, 185, 141, 227,  57, 162, 172, 183, 133, 138,\n",
       "          163, 198,   3, 196, 237,  32, 236, 184, 121, 209, 140,  50,   4, 217,\n",
       "          105, 233,  53, 119, 184, 243, 132, 222, 199, 191,  27,  36, 232,  55,\n",
       "           54, 161, 239,  75, 112, 215,  30, 140,  32,  41,  60,  52, 159,  16,\n",
       "           92, 148, 182, 245, 155, 133, 158,  31,  15, 139,  26, 226, 198,  60,\n",
       "           43,  50,  85,  67,  87, 218, 229, 124, 219,  48, 175,   2, 185,  89,\n",
       "            9, 151]),\n",
       "  tensor([153,  36, 151,  73, 228, 164, 163, 180, 190, 153, 129, 190,  82,  73,\n",
       "           25, 192,   4,  88, 148, 139, 207,  10, 203, 191,  91,  86,  47, 116,\n",
       "          145,  14,  15, 219, 189,   2, 189, 134, 202, 213, 227,  23,  99, 190,\n",
       "           96, 207,  35, 179, 133, 220,   3,   2,  28, 183, 164,  58, 227, 248,\n",
       "          163, 245,   7, 205, 211, 193, 174, 193, 224, 211, 222,  60,  60,  14,\n",
       "           58, 112, 190,  94, 116, 169, 240, 151,   6, 145,  15, 217,  63, 129,\n",
       "           39,  73, 130, 243, 108, 185, 221, 239, 166, 229, 224, 159,  99,  57,\n",
       "           58,  42, 232,   3, 236,  92,  77, 200,  72,  17,  38, 183, 199,  37,\n",
       "          194, 123, 230, 114,  31, 176, 233, 208, 245, 220,  96, 182,  63, 167,\n",
       "           74, 202]),\n",
       "  tensor([106,  82, 115,  79,  75, 143,  83,  43,  37,  85, 205, 116,  51, 103,\n",
       "          204, 134, 140, 213,  76, 181, 104, 243, 119,  83,  14,  33, 189,  19,\n",
       "          142, 209,   0, 233, 219, 245,  72,  57, 168, 138, 203, 212,  46, 202,\n",
       "          227, 102,  50, 143,  85, 224, 108, 200, 157,  26,  24, 200, 136,  39,\n",
       "          215, 173, 228, 141, 110,  73,  16, 202,  10, 139, 132, 194,  15, 210,\n",
       "           14,  29, 184, 126,  25, 135, 248, 171, 106,  36,  85, 187, 148,  28,\n",
       "           52, 128, 113, 209, 218,   6,  81, 190, 200, 214, 103, 188,  14,  52,\n",
       "          228, 154, 105,  68, 128, 166, 237,  88,  43, 137, 238, 165,  51, 229,\n",
       "          129, 129, 145, 150,  26, 245,  78, 197, 118,  63, 141, 153, 160, 236,\n",
       "          159, 239]),\n",
       "  tensor([ 22,   6, 213, 190, 148, 124,  38,  99, 186, 210, 224,  45,  63,  86,\n",
       "          143,  40, 129, 206, 248, 194, 214, 128,  42,   9, 232, 124,  98, 131,\n",
       "          126,  31,  63, 127, 120,   0, 231, 199,  60,  54,  59,  98, 176, 119,\n",
       "           50, 132,   3,  99,  19, 204, 141, 201,  10, 110, 117,  34, 198, 146,\n",
       "          168, 109, 182,  20,  37, 102, 177, 244, 212, 118, 118,  66,  69,  62,\n",
       "           45,  31,  46, 168,  59, 135, 167,  92, 153,  22,   3,  59, 184, 205,\n",
       "           30,  75, 234, 147, 203, 233, 130, 191, 130,   8,  57, 142, 176, 168,\n",
       "          244, 194, 102, 117,  33,  50,  94, 113, 164, 110, 247, 182,  88,   2,\n",
       "          227, 213,  31, 201, 144,  15, 208,  10, 174,  60, 183, 139,  94, 191,\n",
       "           37, 178]),\n",
       "  tensor([ 40,  51,  22, 215, 147, 108,  32, 108,  85, 139, 238, 122, 135,  46,\n",
       "           59,  48, 178,  89, 224,  42, 216, 207,  29,  32, 143, 111,   1, 169,\n",
       "           37,  33,  47, 137, 204, 138,  73,  90,  61,   1, 215, 243, 186,  86,\n",
       "           23, 216, 121, 212, 156,  14, 241,   0,  83,  63, 217, 213, 218, 104,\n",
       "          202, 147, 139,  50, 177, 142, 233, 111, 245,  91,  83,  77,   1, 112,\n",
       "           46, 114, 223,  90, 225,  95,  67,  92,  59, 197,  57,  47, 210,  93,\n",
       "           98,  94,  30, 240,  74,  87,  64, 212,  83,  96,  39,  32, 130, 166,\n",
       "          196, 227, 194, 237, 230, 234, 165, 194,  29, 187, 135,   8,  75, 138,\n",
       "          137, 202, 224, 155,  29,  46, 197, 235,  58,  22,  89, 197, 225,  99,\n",
       "          199, 149]),\n",
       "  tensor([  5, 134, 205, 187, 192, 209, 204, 155, 162, 164,  44, 182,   0, 101,\n",
       "          164, 218, 137,  11,  31, 248, 224, 138, 246, 118, 127, 162, 204, 167,\n",
       "          231, 102,  59, 175,  26, 194,  14, 242, 132,  88, 198, 110, 155,  86,\n",
       "           81,  16, 191, 136, 115, 119,   9,  19, 198, 246, 163, 238, 125,  59,\n",
       "          118, 131, 232, 182, 228, 215,  98,  61, 228, 236, 236, 138,  16,  87,\n",
       "          219,   8,  46,  46, 186, 125, 117, 161, 177,  77, 134,  98, 219,  42,\n",
       "           26,  60, 223,  80, 230, 234,  54, 116, 111,  63, 157, 122, 158, 186,\n",
       "          245, 117,  14,  26,  59,  83, 152,  48, 215, 211, 103,  73, 242, 184,\n",
       "           40, 149, 188, 171, 105, 172,  55, 194, 150, 101, 143, 200, 109,  46,\n",
       "           46, 209]),\n",
       "  tensor([ 15, 233,  64, 192, 151, 169, 192, 119, 249,  31, 117, 218, 170, 118,\n",
       "           88, 230,  59, 209, 205, 225, 108,  50, 146, 221,  34, 113,  72,  12,\n",
       "           48, 162, 230, 117,  59,  67,  58, 161, 113, 237, 177, 102,  43,  21,\n",
       "          128, 167,  12, 210,  65,  89,  29, 245,  54, 210,  92, 119,  80, 217,\n",
       "           28, 241,  81, 224, 236, 113, 161, 115, 143, 175, 203, 136, 206, 140,\n",
       "           93, 147, 246, 102, 202,  57, 177,  97,  18,  17, 214,  22, 150, 174,\n",
       "          143,  77, 111,  59, 164, 228, 150,  98, 140,  60,  65, 204, 231,  60,\n",
       "            0, 111,  65,  18, 200, 207,  50, 158,  96, 116, 191,  84, 186, 186,\n",
       "          155, 124, 143,  69,  77, 169, 199,  38, 140,   5, 246,  72,  71, 164,\n",
       "           61,  34]),\n",
       "  tensor([131, 233, 217,  69,  50, 228, 144, 228,  89,  88,   6,  83, 223, 219,\n",
       "           69, 154,  92, 199, 161, 241, 247,  31,  69,  75, 220, 125, 116,  11,\n",
       "           85, 114,  10,  59, 232,  16,  12,  44,  85, 123,  59,  63, 157, 195,\n",
       "          197, 130, 208,  28,  33, 152, 211,  89, 100,  83, 108, 246, 232,  54,\n",
       "           36, 190, 195,   7, 124, 124, 183, 148,  42, 239, 203, 235,   5, 229,\n",
       "          166,   9, 247, 119, 213,  29, 182, 188, 233,  37,  57, 177, 217,  92,\n",
       "           30, 208,  38,  68,  63, 147, 234, 158,  45,  61, 125, 208, 107, 122,\n",
       "          186, 220, 145, 220, 143,  58,  12,  53, 191, 124,  45, 122, 225, 123,\n",
       "          228,   2, 234, 105, 153,  71,  58, 133,  15, 247, 232,  94, 152,  30,\n",
       "          100, 213]),\n",
       "  tensor([138, 177, 191, 203, 112,  21, 220,  50, 127, 167, 165,  81, 118, 127,\n",
       "           81, 201, 124, 136, 114,  24, 141,  35, 235,  62,  86,  60, 140, 124,\n",
       "          196, 128,  31, 197, 174, 153,  83, 241, 112,  43, 233, 244, 192, 237,\n",
       "           79, 177, 190,  57, 213,  55, 174, 138, 203,  84, 133,  36, 112, 221,\n",
       "          102, 156,  59, 246, 242,  81,  89, 210, 164,  80, 234, 112, 119,  59,\n",
       "          166, 209,   2, 233, 168,  52, 167,  90, 193, 231, 200, 103, 138, 145,\n",
       "           49, 182, 141,  78,  82,  43, 110,  14,  32, 204, 137,  45,  37,  15,\n",
       "           66, 240,  80,  63, 162, 213, 113, 221,  61, 219, 197, 245,  50,  33,\n",
       "          166, 244, 167,  10,  98,  44, 103, 200,  87, 191, 123, 141, 126, 213,\n",
       "           87, 194]),\n",
       "  tensor([146, 169, 166, 112, 189, 167, 194,   1,  33,  48, 233, 212, 194, 183,\n",
       "          234, 148, 194,  34,  55,  80, 126, 194, 150, 165,   2,  66,  96, 117,\n",
       "           89, 197, 192, 245, 192,  16, 203, 100,  92,  92,  91,  55, 207,  64,\n",
       "           94,   8,  52,  65,  44,  14, 138,  30,  38, 162, 227, 160, 166, 210,\n",
       "          188,  57, 163, 239,  24,  65, 146,  33,  38, 164, 171, 218,  89, 134,\n",
       "          113, 215, 239, 193, 145, 176, 188,  19,  93, 226, 100,  84, 182,  82,\n",
       "           81,  56,  86, 143, 174, 219, 174, 148, 122, 143, 115,  64, 216, 113,\n",
       "          229, 129, 239, 126, 136,  89,  84, 229,   9, 155, 155, 246, 239, 177,\n",
       "          219, 131, 191, 134,   0, 148, 236, 191, 202, 148, 188, 245,  27, 153,\n",
       "          215, 217]),\n",
       "  tensor([ 83, 236, 180,  76, 126,  54, 174, 114,  75, 159, 188, 168, 146,  29,\n",
       "           81,  92, 177, 168, 191, 153, 204, 194, 225, 208,  59,  56, 166,   8,\n",
       "           87,   5, 177,  75,  40, 134, 108,  37, 138,  53, 111, 155, 173,  23,\n",
       "           89, 210, 219, 165,  54, 143, 177, 225, 146,  63,  96, 138, 213, 158,\n",
       "           12,  23, 224,  86, 212,  26, 237, 196, 213, 158, 165, 182, 212,  74,\n",
       "           56, 193,  78, 160, 168, 242,  65, 214, 165,  69,  88, 223, 225,  39,\n",
       "           90,  23,  44, 164,  78,  29, 164, 135, 129, 138, 164, 225, 194, 226,\n",
       "           38,  49, 219, 218, 161, 233,  99, 181, 120,  33,   8, 230, 111,  52,\n",
       "          213, 134, 223, 240,  27, 243, 136, 208,  80,  22, 110, 145,  82, 238,\n",
       "          161, 113]),\n",
       "  tensor([220, 134,  76,  81, 170, 184, 129, 247, 120,  77, 200, 196,  13, 161,\n",
       "           99, 123, 137,  12, 165, 199, 111,  14,  89,  76, 111,   1, 140, 100,\n",
       "           81, 143, 213, 207,  39, 231, 248, 195, 112, 222, 239,  11, 199, 103,\n",
       "          242, 158,  24, 101,  90, 128, 111, 198,  37, 142, 195, 185, 217,  83,\n",
       "            8, 186,  36, 222, 159, 238, 142, 197, 118,  50,  99,  59, 152,  32,\n",
       "           30, 109, 230, 241, 239, 243,  63, 113, 155, 228,  70, 111, 221, 140,\n",
       "          107,  15, 218,  18,  61,  35, 236,  55, 176, 167, 202, 147,  47, 133,\n",
       "          238, 245,   8, 198, 193, 109, 240,  59, 211, 110])],\n",
       " [tensor([240,  89,  25,  82, 191,  62, 139,  76, 110,  78, 171, 111,  96, 237,\n",
       "           36,  18, 119, 122,  54, 223, 136,  12, 146,  40,  84,   4,  40, 130,\n",
       "          220, 162, 149, 195,  27,  99, 139,  74,  79,  37,  83,  31,   8,  90,\n",
       "          128,  23, 125,   1,  22, 183,  96,  93, 180, 223, 134, 126,  23, 154,\n",
       "          179, 199, 115,  62, 144,  33,  47, 103,  66,  41, 165, 206,  79, 171,\n",
       "          223,  48, 226,  72, 215, 164, 110,  20, 233, 207, 170,  83, 243,  95,\n",
       "          225, 176, 126,  53,  53,  27,  24, 147, 206,  75, 196,  28,  82, 100,\n",
       "          213,  62, 169, 221,  85,  41, 125, 193, 122,  65,  60,  66, 232, 159,\n",
       "           27,  59, 125, 114,  98, 212, 101, 233, 148,  97,  38, 101,  95, 101,\n",
       "           35, 171]),\n",
       "  tensor([166,  10, 194,  42, 136,  71, 190,  90, 182,  19, 139, 157, 162,  90,\n",
       "          248,  44,  33,  47,  84, 138, 100, 155, 221, 228, 179, 190,  41, 245,\n",
       "          120, 151, 171,   9,  37,  80, 233,  86,  19,  79, 127, 166,  49, 106,\n",
       "           77, 171, 145,   9, 183,  40,  20,   8, 226,  94, 124, 135, 205, 102,\n",
       "           19, 105, 228,  77,  64, 210, 146,  72,  14,  85, 195, 206, 103,  27,\n",
       "          106, 230,  25, 135, 214,  15,  29,  47,  30, 238, 141,   1,   8, 239,\n",
       "          174,  36, 143, 205, 109,  44, 102, 125, 198, 234, 167, 224, 191, 182,\n",
       "           70, 212, 150, 164,  72, 219,   4,  96,  86,  81, 172, 105, 140, 160,\n",
       "          168, 201, 185,  42, 203, 222, 135,  88, 100, 176, 163,  49, 246,  85,\n",
       "           71, 111]),\n",
       "  tensor([ 22, 102,  94, 146, 225, 132,  24,  84, 223, 194, 226,  79, 164,  59,\n",
       "          145,  75, 153, 129,  84, 118, 122, 218, 129,   7, 182, 109, 229, 221,\n",
       "          228,  74,  68, 103, 237,  47, 234,  37,  77, 245,  25,  34, 145,  89,\n",
       "          166, 202, 230, 148,  92,   1, 104, 177, 105, 185, 212, 185,  69,  37,\n",
       "          154,  50, 184, 132,   6, 121,  67, 144, 121, 205, 119, 134, 153, 155,\n",
       "          115,  41,  39,  56, 159, 249,  47, 123, 130,  76,  88, 100, 200,  47,\n",
       "          232,  67, 169,  51,  94,  42,  98, 158,  39, 138, 122, 182, 146, 150,\n",
       "          182,  71, 212,  19,  12, 150, 244, 208, 164, 200,  22, 165, 150, 195,\n",
       "          212, 221,  12,  77, 154, 109, 191, 194, 210, 181, 204,  11, 176, 104,\n",
       "          229, 124]),\n",
       "  tensor([ 82, 180, 133,  78, 246, 189, 176, 225, 186,  32, 204, 232, 203, 121,\n",
       "           24,  67,   3, 128, 180, 195,   1, 147, 100,  96,  17, 216, 164, 212,\n",
       "          193, 126,  48, 194, 244, 185,   5, 105, 113, 221,  10, 229,  54, 153,\n",
       "          143,  84,  35, 179, 117, 243,  87, 229, 100, 233, 111, 195, 218,   7,\n",
       "           55,  26, 248, 216, 182, 230, 167,  34, 226, 172, 120,  41, 168, 113,\n",
       "          189,  82, 208,  12, 235,  84,  67, 198, 238, 235, 242,  50, 148,  89,\n",
       "          192, 154, 234,   6, 190,   8,   2,  92,  14, 136,  50,  38, 151, 101,\n",
       "           42, 191,  83,  76, 122, 243,  63, 145,  59, 191,  24,  70,  91, 206,\n",
       "          197, 212,  24, 139,  32,  50,  26,  19,  99, 229, 232, 234,  57, 174,\n",
       "           77,   9]),\n",
       "  tensor([239, 138,  22, 136, 135,  78,   2, 146,  51, 212,  82, 137, 210, 201,\n",
       "          201, 118,  86,  47, 157, 224, 166, 167, 204,  53, 105, 169,   9, 123,\n",
       "          186, 241, 148, 243,  38,  64, 179, 244,  32,  91,  63,  16, 217, 170,\n",
       "           67,   2, 120,  67, 131, 244,  74, 137, 131, 146,  82,  74, 114,  32,\n",
       "          111,   3, 133, 168, 168, 213, 209, 227,   8, 175, 137, 192,  40,  22,\n",
       "          155,  66, 159,  70, 165,  66,  60, 106, 135,   2, 199,  25,  16, 162,\n",
       "           53, 109,  16, 168, 119, 208,  42,  12,  94, 146,  58, 101, 101, 228,\n",
       "           60, 200, 185,  89, 148, 167, 154, 164,  20, 218, 165, 192, 244, 218,\n",
       "          100, 148, 149, 235,  87,  52,  30,  87,  88, 177,  79, 156, 220, 142,\n",
       "          127, 216]),\n",
       "  tensor([204, 119, 119,  91, 123, 160, 233, 222, 187, 143, 221, 217,  16, 247,\n",
       "           57, 213, 134, 117, 171, 229, 129, 143,  32,  16,  45, 193, 138, 212,\n",
       "           66, 169, 193, 139,  47, 211,  40, 167,   2,  30, 124, 201,  34,  18,\n",
       "          106, 197, 217, 188,  17, 134,  56,  27, 141, 152,  80, 208, 220,   7,\n",
       "          119,  19, 163,  67,  45, 160, 121,  85,  12, 231,  11,  49,  28,  60,\n",
       "          116, 159,  29, 214, 212, 183, 217, 244, 140, 183, 222, 202,  33,  84,\n",
       "           42,  33,  89, 244, 151, 104, 176,  92, 221,  51,  90, 146,   6, 218,\n",
       "          247, 230, 220, 169, 119, 112, 219, 197, 114,  98,  71,  52,  47, 172,\n",
       "          168,  97,  13,   9,  52,  34, 135, 209, 167, 111, 124,  70, 209, 197,\n",
       "           60, 243]),\n",
       "  tensor([219,  84, 226,  37,  75, 118, 239,  69, 143, 204,  31, 191, 197, 163,\n",
       "          247,  89, 114, 132, 210,  20, 178,  78, 227,  81,  74, 224, 129, 204,\n",
       "           87, 187, 220, 123,  49,  92, 199,  41, 212, 220, 172,  11, 181, 242,\n",
       "          213,  56,  55, 144, 138, 116,  79,  48, 124, 202, 248,  40, 135, 158,\n",
       "           42,  36, 112, 230, 228,  44,   0, 102,  23, 121, 177,  92, 226,  38,\n",
       "           38, 227, 189,  60,  36, 169, 140,  65,   0, 201, 219,  86,  37, 144,\n",
       "          134,  14,  63, 125, 103, 232, 209, 200,  24, 143, 198, 230, 231, 169,\n",
       "          239, 156,  17, 207, 248,  76, 193,  29,  58, 173, 124, 237, 189, 151,\n",
       "           48, 115, 155,  34, 151,  90, 126, 108, 237, 205, 166, 146,  68, 113,\n",
       "          114, 113]),\n",
       "  tensor([227, 225,  97,  10, 101,  29, 236, 199,  37,  49, 179, 196, 147, 232,\n",
       "          237, 223, 186, 194,  47, 204,  55, 202, 229, 145, 144, 107,  98,  20,\n",
       "          189, 188,  80,   5,  99,  84, 148,  84, 130, 106,  69,  10, 103, 143,\n",
       "           10,  48,  77, 193, 138, 118, 180, 197, 230, 230,  80, 131, 133,   9,\n",
       "           45,  31,  68, 152,  48, 144,  27,  56, 128, 104,  44, 193,  23,  87,\n",
       "          242, 140, 185, 219,  61, 135, 243,  18, 180,  35,  67,  98, 223, 159,\n",
       "           65,  23,  74,  49, 193,  66,  54, 169,  96, 246,  65,  18,  31,  35,\n",
       "          226,  88, 114,  91, 177, 133, 173, 245, 232,  36,  52,  90,  18, 230,\n",
       "          237,  72,  67, 241, 181,  47,  23,  46, 135, 187, 207,  99, 128,  38,\n",
       "          190, 244]),\n",
       "  tensor([198,   8, 162, 164, 229,  27, 141,  69, 172, 137,   3,   9, 247,  37,\n",
       "            5,  75, 105,  51,  22,  81, 159, 109,  45,  22,  10,  78,  58, 232,\n",
       "           53, 216,  17,  77,  78,  63, 229, 219, 196,  77,  99, 148, 241,  76,\n",
       "           29,  98, 100, 192,  32,  23, 220, 122,  18, 157,  76, 129, 198,  61,\n",
       "          171,  57, 189, 133,  25, 154,  74, 113, 165, 201,  12,  81, 186, 176,\n",
       "          138, 214, 181, 141,  18, 174,  23, 238, 154,  50,  87, 223, 116, 241,\n",
       "          162, 114,  93,  27, 101,  73, 151, 214,  32, 107, 188, 163, 246, 206,\n",
       "          186, 125, 232,   8, 227,  29, 166, 190,  92,  16,  80,   4,  29, 130,\n",
       "          115,  89, 166,  90, 245, 123, 175, 217, 204, 118, 228, 186,  52,   1,\n",
       "          217, 224]),\n",
       "  tensor([215, 134,  96,  49, 126, 128, 217, 230, 158,  62, 111, 122,  93, 222,\n",
       "           39, 197, 218, 198, 243, 118, 241, 189, 248, 150, 182,  17,  58,  67,\n",
       "          229,  41, 246,  36, 228, 240,  93,  49,  99,  58,  86,  22,  41, 223,\n",
       "          203, 238, 187, 165,  49, 216, 155,  33,  84, 123, 243,  71,  68, 148,\n",
       "          237,  43, 176,  13, 163, 163, 162,  99, 144, 188,  38, 206, 119, 100,\n",
       "          106, 244, 194,  94, 127,  38, 199, 152, 150,  57, 133, 227, 109,  10,\n",
       "           63, 183,  87, 206,  98, 141,  23, 109,  69, 150, 135,   6, 126, 241,\n",
       "          188,  12,  99,  48, 123,  77, 138, 145,  83,  12,  66,  24,  74, 187,\n",
       "           17, 136, 107, 177, 190,  88, 114, 110,  87,  55, 227,  28, 224, 160,\n",
       "           95, 183]),\n",
       "  tensor([ 23,  48, 205,  50,  88, 127, 155, 193,  34,  79, 152, 144, 104,  87,\n",
       "           53,  82,  42,  12,  30, 128,  48,  91,  38,  87, 146, 165,  39,  81,\n",
       "           71, 174, 142, 221, 171,  48,  91,  58,   7, 210, 118, 228, 149, 233,\n",
       "          150, 142,   3, 155,  79, 201,  46, 159,  34, 137, 195, 152,  94, 129,\n",
       "          243, 164, 225, 154,  67,  54,  47, 227,  72,  83, 188, 228,  19,  35,\n",
       "          124,   5, 206,  28, 173,  22, 100,  43, 234, 229,  17, 174,  72,  97,\n",
       "           90,  45,  83, 235, 115, 159, 217,  18, 103, 230, 165, 240,  81, 190,\n",
       "          189,  95, 141, 237,  71, 162, 158, 195,  49, 147, 137,  37, 103,  33,\n",
       "          166,  10, 193,   4,  17, 130, 246,  85, 220, 128, 131,  94, 102, 187,\n",
       "          206, 135]),\n",
       "  tensor([ 60,   0, 163,  90,  79, 235,   6, 199, 140, 213, 108, 228,  68, 129,\n",
       "           49,  22, 145,  22, 185, 142, 141, 149,  42, 228, 139, 122, 195, 209,\n",
       "          121,  55, 185, 242, 236,  48,  17, 246, 156,  58,  14,  62, 227, 120,\n",
       "           81, 193,  34,   0, 239,  79, 140, 190, 233,  43, 202, 108, 171, 116,\n",
       "          201, 185, 209, 213,  17, 147,  83, 200,  83,  14,  51,  19,  43,  96,\n",
       "           41, 198, 134, 161, 176, 234,  24,  99,   8, 129, 121,   1, 185, 194,\n",
       "          170,  14,   3,   8,  21, 242, 164, 176,   3, 216, 184, 245, 213, 243,\n",
       "          131, 196,  50, 241, 117, 134,  98,  50, 169, 104,  21,  49, 134,  60,\n",
       "           92, 118, 182,  60, 106, 108,  66, 152,  24, 233, 122, 233,   0,  97,\n",
       "          193, 246]),\n",
       "  tensor([120,  84, 108, 221, 172,  17,  18, 114,  12, 166, 209, 229,  53,  89,\n",
       "          126, 204,  54,  11,  75, 112, 200,  11, 166, 176, 228,  28,  18, 112,\n",
       "          235,  32,  88,  40, 185, 188, 191, 202, 233, 156,  29,  59, 175, 113,\n",
       "          238, 194, 197, 150, 117, 148,  73,  55, 143, 101, 136,  68, 132, 226,\n",
       "           92, 127, 206, 192, 173,  36,  41, 181, 130,  46,  73, 207,  10,  82,\n",
       "          234,  79,  67, 141, 161, 188, 132, 174,  42, 204,  43, 154, 131, 107,\n",
       "          150,   5, 112, 110, 245, 159,  13, 249, 203, 226,  22,  66,  68, 147,\n",
       "          151, 175, 171, 234, 127, 159,   4, 247, 187,  30, 214,  18,  54, 198,\n",
       "           33, 197, 152, 127, 244, 208, 141, 110,  65, 208, 245, 119, 194, 186,\n",
       "           48,  38]),\n",
       "  tensor([155, 117, 158,  24,  58, 178, 131, 207, 178, 232, 118, 167, 139, 150,\n",
       "          119, 210,  46,  52, 183, 144, 110,  19, 165, 176, 118,  12, 180, 164,\n",
       "          206,  25,  76, 129, 185, 113,  68,  10,  95,  93, 194, 146,  86,  83,\n",
       "           32,  34, 123, 194, 204, 168,   2,  11,  53,  46, 137, 118, 150, 105,\n",
       "          163, 230,  21, 168, 219,  83,  71, 128, 237,  53, 248, 216,  33,  52,\n",
       "          237, 105, 186,  88, 108, 196, 112, 220, 129, 138,   2,   5,  78,  39,\n",
       "          233, 232, 228, 201, 132,  90,  51, 235, 247,  84, 244,  76,  54, 177,\n",
       "          114, 170, 245,   4,  62, 130, 162, 117,  67,  71,  95,  82,  44, 144,\n",
       "          238, 134,  26, 179,  73, 102, 157,  82,  73, 155,  85, 247, 112,  44,\n",
       "          108,  80]),\n",
       "  tensor([ 56, 154, 244,  43, 193, 205,  20,  84, 234, 169, 244, 145, 208,  48,\n",
       "           64,  70,  55, 224, 233, 165,  92, 131, 194, 194, 242,  37, 198,  69,\n",
       "           15, 211, 160, 151, 144, 182, 117,  72,  26,  41,  28,   2,  87, 141,\n",
       "           98,  19,  98, 184, 235,   2,  89, 239, 231, 133, 202,  85, 122, 230,\n",
       "          111, 198,   2, 104, 242, 221, 147,  52,  29,  36,  20, 232,  86, 111,\n",
       "           11, 174,  47, 198, 151,  92, 119, 235,  16, 100,  27, 180,  93,  41,\n",
       "          177, 173, 155,  38, 140, 178,  50,   0, 154,  61, 165, 194, 238,  36,\n",
       "           90,  93, 246, 239, 152,  96, 244,  91,  10, 183,  66, 207, 145,  90,\n",
       "          235, 163,  23, 135,  34,  70, 112,  66,  28, 243,  45,  77, 155, 122,\n",
       "          248,  72]),\n",
       "  tensor([198,  76, 246,  33, 108,  79, 226,  71,  96,   0, 143, 104,  14, 215,\n",
       "          116, 140,  94, 115, 177, 179,  75,  94,  66,  91,  14, 184,  49, 168,\n",
       "          239,  79, 228,  98, 116,  51,  90, 133, 162,  43, 113, 194,  95,  17,\n",
       "           10, 215, 239, 243,  34, 108,  71,  62,   4,  41, 175,  23, 175, 238,\n",
       "          138,  60, 145,  98, 173,   9, 119, 105, 120, 226,  19, 105, 203,  67,\n",
       "           68,  51,  32, 103, 151, 120,  23, 144, 120, 150, 242, 149,  66, 201,\n",
       "          176, 125, 151, 216, 141, 224, 230,  81, 248, 210, 145, 102, 208, 126,\n",
       "            2, 113,  19,   7, 105,  37, 200, 226,  77,  89,  38,  93,  90,  52,\n",
       "           96, 228, 153,  94, 219, 148,   3, 155, 211, 171,  12,  23, 104, 114,\n",
       "          242, 240]),\n",
       "  tensor([121, 192,  16, 174,  10,  95,  18, 241, 229, 167,  11, 211,  99, 111,\n",
       "          128, 195, 142, 162,  47, 224, 100, 179,  83,  25, 203, 239,   1,  53,\n",
       "          101, 230,  44,  77,  23, 150,   0, 176, 223, 224,  86,  60,  89, 194,\n",
       "          133, 170,  93, 177,  73,  78,  98,  46,  58, 230, 137, 198, 189,  60,\n",
       "           13, 236, 110, 222,   3, 151, 239,  51, 220, 146,  18, 230,   7, 231,\n",
       "           87, 225,  80, 147, 134,  79,  41, 239,  26, 101, 129, 203,  32,  74,\n",
       "          187,  94, 133,   7, 156, 150, 241, 145, 237,  32,  91,  49, 165, 240,\n",
       "          229, 193, 157, 171, 160,   3, 111, 201,  95, 155,  83,  67,  83,   4,\n",
       "          220,   8, 149, 228,  80, 213, 135,  85,  65, 134, 181,  59, 108,  57,\n",
       "          213, 163]),\n",
       "  tensor([158,  55, 133, 103, 190,  66, 214, 186, 162,  94,  81, 130, 236, 186,\n",
       "           81, 218,  54, 234,  83,   8, 103,  33, 214, 199,  74,   5,  82,  51,\n",
       "          235, 174,   9, 107, 160,  39, 202,  34, 241,  20, 100, 204,  20,  16,\n",
       "           68, 234, 199, 138, 210,  90,  31, 166, 212, 132,  34,  62, 154,  66,\n",
       "            0, 117, 207, 118, 211, 116, 117,  31,   2, 194, 231, 127,  78, 105,\n",
       "          174, 152,  91,  57, 144, 135, 174, 105, 174,  53, 217, 100, 212, 229,\n",
       "          136,  63, 203, 194, 174,  18, 236, 249, 158, 234, 216, 170, 199, 194,\n",
       "          183, 197, 156, 168, 167,  67,  68, 218, 171, 121,  13,  18, 112, 214,\n",
       "          103,  60,  47, 178,  61,  65, 249, 199,  58, 224, 128, 202,  15, 178,\n",
       "           18,   0]),\n",
       "  tensor([ 55, 197,  93, 234,  44,  49, 206, 180, 111,  25,  72, 202,  59, 156,\n",
       "           31, 123, 228,  21, 173, 160, 172, 234,  75, 149, 191,  55, 212, 152,\n",
       "          123,  62, 212, 112, 103, 130,   5, 232,  16,  58, 249,  88,  43,  84,\n",
       "          117, 246, 141,  61,  41, 105, 173, 177, 178, 244,  89, 122, 141, 207,\n",
       "          133,  87,  98, 161, 184, 215, 186, 223, 164,  56, 234, 166,  16, 107,\n",
       "           82, 165, 178, 191, 166, 110,  38, 138, 126, 158,  67,  25, 207, 244,\n",
       "           45, 203, 156,  78,  29, 137,  63, 134,  34, 213,  23, 166,  70, 192,\n",
       "           49, 136, 178, 146, 215,  76, 152,  40,  29,  73, 163,   2, 106,  37,\n",
       "          189,  44,  79,  31,  75, 111, 249, 195,  21,  46,  40, 162, 113,  49,\n",
       "          105, 136]),\n",
       "  tensor([ 78,  90, 155,  87, 208,  31, 147, 168,  86, 174,  83, 126, 239, 135,\n",
       "          114, 225, 149, 115,  44, 101,  15, 219,  92, 224,  44,  88,  22,  96,\n",
       "           69, 224,  47, 190, 160,  51,   6, 246, 104, 130, 223, 224, 153,  18,\n",
       "           95, 235,  87, 105, 130,  28, 218,  81,  84,  23,  93, 137,  14,  18,\n",
       "           82,  19,  98, 106, 173,  85, 198, 122, 143, 248, 239,   2,  85, 214,\n",
       "          192, 129,  32, 178,  80, 167,  50,  14, 205, 228,  73, 180,  44,  24,\n",
       "           52,  17, 130,  11, 240, 168,  87, 233,  75,  32, 183,  94, 148,  73,\n",
       "           24, 181,  70, 129,  68, 125, 129,  28, 110, 244, 169, 203,  29, 149,\n",
       "          119,  32, 109, 240, 121,  65,  46, 161, 185,  12,   4, 192, 220,  69,\n",
       "           78,  55]),\n",
       "  tensor([174, 139, 127,  73, 217, 207,  37, 247,  81, 247, 202, 144,  62, 119,\n",
       "          208, 142, 122, 130,  60, 167,  94, 100,  88, 240,  39, 215, 172, 205,\n",
       "           92, 102, 216, 147,  74, 144,  17, 148, 218, 112,  50,  97, 210, 193,\n",
       "          174,  98,  16, 189, 130, 116, 200, 197, 123, 102, 167,  45, 238,  68,\n",
       "           49,  43, 168,  93,  39,  66, 150,  51,  34,  40, 118,  23,  63, 199,\n",
       "          142, 145,  26, 204,  38, 131,  91,  82, 134, 131, 119, 187,  66, 246,\n",
       "            8, 150, 239, 176, 196, 240, 142,  27, 153, 155, 245,  12, 167,  80,\n",
       "           73, 128, 243, 177, 105, 193, 201, 188,  33, 207,  11,  60,  19,  49,\n",
       "           18, 200,  78, 202,  83, 235, 190,  46, 177,  54,  44, 155, 193,  26,\n",
       "          114,  35]),\n",
       "  tensor([  7,  64,   8, 167, 208, 111, 142, 217, 101, 147,  10,  80, 134, 240,\n",
       "           39, 125, 100,  84, 242, 213, 245, 137,  63, 153, 212,  29, 186,  49,\n",
       "          194,  51, 145, 221,  78,  77,  17, 107,  84,  62,  12, 212, 120,  29,\n",
       "          208,  72,   4, 136, 138, 189, 247, 169, 143,  90,  16,  50, 130, 142,\n",
       "           10, 226,  65, 157, 182, 133, 168, 212,  43, 122,  89, 114, 124, 129,\n",
       "          236, 134, 248,  87,  25,  96, 170,  11,  91, 115, 226,  51, 249, 174,\n",
       "          225, 143,  42, 138, 205, 202,  68, 138,  60,  97,   9,  69,   0, 132,\n",
       "          214, 243, 164, 172, 242,  25, 149, 139, 216, 204,  77,  85, 156, 237,\n",
       "          245,  11, 199, 131, 146,  53, 172, 187, 163, 235,  90, 108, 123, 166,\n",
       "           57, 230]),\n",
       "  tensor([ 26, 240,  13, 143, 223,  82, 241, 191,  18, 126,  23, 162,  32,  44,\n",
       "          108,  97,  67, 248, 186,  24, 226, 101, 225, 226, 198, 117, 181, 219,\n",
       "           85, 242,  89, 101, 243, 101, 234, 248,  13,  48, 155,  83,  89, 182,\n",
       "          220, 128,  40,  50,  73,  86, 115,  84,  28, 101, 238, 213,  44,  69,\n",
       "           57,  37, 101, 219, 133, 142, 236, 131, 103,  95, 207, 178, 223, 201,\n",
       "           45, 139, 149,  52,  19, 231, 200, 223, 220,  76,  27, 225,   8,  85,\n",
       "          139, 240, 161,  47,  96, 221, 218, 119,  80, 132,  49, 137, 115, 139,\n",
       "          147, 103, 191, 231,  72, 135,  81,  33, 202,  53,   9, 238, 196,  39,\n",
       "          111, 177,  25, 182,  50, 236, 201,  13,  59, 105,  95, 140,  64,  42,\n",
       "          199, 117]),\n",
       "  tensor([115, 205, 214,  23, 197,   5, 249, 128,  65, 124, 223,   0, 114, 104,\n",
       "          134, 109, 118, 186, 189, 175, 190, 213, 212, 212, 233, 202, 151, 189,\n",
       "           64, 249,  59, 124, 228, 229,  69,  63,  96, 115,  99, 235, 155,  99,\n",
       "          100, 104,   3,  61, 229, 230, 192,   9,  59, 132,  99, 171,  18, 209,\n",
       "          135, 191, 178, 244, 176,  92, 125,  97, 183, 244, 200,  52, 159, 237,\n",
       "          171, 205,  70, 187, 167, 173,  28,  78, 164, 106,   8, 121, 223, 143,\n",
       "          169,  25, 180, 198,  46, 210, 206,  60,  55, 151, 186,  67, 233, 189,\n",
       "          162, 223, 193,  15,  54, 178, 142,  28,  79,  85, 244,  76,  34, 246,\n",
       "          157, 155,  58, 188,  90, 158, 212,  23,  82, 141,  91, 215, 215,  90,\n",
       "           81, 224]),\n",
       "  tensor([218,  28, 174, 216,  64, 102,  60, 120, 186, 150, 237,  48, 114,  26,\n",
       "           49,  35, 186,  79, 162, 205, 210,  57, 137,  38, 107, 176, 202, 174,\n",
       "           76, 232, 242, 120, 121, 142,  54, 182,  39, 239,  71, 116,  69,  38,\n",
       "          169, 170, 128, 130, 197,  68,  76,  35,   0, 218,  24, 203, 134, 187,\n",
       "           49,  14,  24,  57,  69, 193, 103,  34, 245,   0, 100, 117,  58,  74,\n",
       "          222, 217,  97, 147, 143,  29,  91, 140,  99, 222, 158, 239, 135,  76,\n",
       "          240,  95,  50, 218, 170, 231, 202, 229, 144, 210,  96, 104, 194, 175,\n",
       "          213, 145,  20,  21, 131, 118, 198,   3, 120, 133, 156,  80,  51,  39,\n",
       "           34, 172, 102, 189,  43, 143,  29,  41, 111,  17, 123, 219, 166, 111,\n",
       "          226, 104]),\n",
       "  tensor([ 55,  68, 151,  49,  77, 241, 100,  49, 179, 192,   9,  36, 196,  17,\n",
       "          214,  75, 166,  10, 169, 114,  67, 144,  78, 135,  95, 101, 167, 119,\n",
       "           62, 202, 127, 182, 189, 248, 215, 127, 223,  24,  36, 223, 231, 187,\n",
       "          222,  72, 165, 108,  33, 102,  43, 122,  64,  43, 178, 158,  92, 191,\n",
       "           52,  62,   5, 141, 237,  91,  16,   6,  47,  25,  87,  30,  94, 148,\n",
       "          193,  71, 235, 132,  29, 112,  67, 127, 213,  39, 180, 119, 196, 124,\n",
       "          152, 247,  13,  31, 244, 188, 112,  74,  50, 225,  34,  90,  63,  66,\n",
       "          225, 211, 240,  82, 168,  91,  31, 233,  61,  17, 133, 164, 119,  80,\n",
       "          209, 200,  41, 175, 114, 106, 169,  68, 185, 166,  30,  15, 203, 201,\n",
       "          222, 220]),\n",
       "  tensor([171, 102,  59,  94,  48, 172,  32, 172,  31, 149,  97,  26, 222, 185,\n",
       "          157, 112, 129,  69, 200,  74, 155, 117, 134, 191, 158, 169,  15, 221,\n",
       "          109, 115, 225,  25, 156, 182,  73, 116, 228, 134, 224, 223,  86,  27,\n",
       "          101, 161, 162, 123,  11, 121, 239, 229,  66, 210, 130,   8, 143,  60,\n",
       "           86, 145, 179, 208,  62, 109,  52, 159, 130, 162,  68, 151, 248,  18,\n",
       "           41,  73, 162, 206, 239,  25, 119, 239,  20, 236,   6, 193,  29, 154,\n",
       "          107,  11,  75, 171, 182,   9, 161,  37,  39,  26,  77,  92, 146, 158,\n",
       "           32, 165, 203,  67, 182, 215, 200,  62, 104,  14, 145, 177, 174,  19,\n",
       "           63, 135, 192, 194, 118, 144, 179, 134,   5, 113, 133, 146, 217, 175,\n",
       "           80, 150]),\n",
       "  tensor([104,  50,  71, 153, 122, 128, 244,  95, 128,  16,  98, 219, 149, 173,\n",
       "          117, 178,  92, 210, 184,  40,   3,  65, 212, 184, 136, 112, 214, 161,\n",
       "          218, 161, 201,  20, 179, 159,  44, 108, 224, 174,  36, 161,  48, 103,\n",
       "          176, 204,  57, 172, 227, 126,  46, 144,  63,  10,  67,   4, 140,  96,\n",
       "           21,  99,  43, 143, 136,  86,  75, 173,  81, 209,   7, 189,  27,  36,\n",
       "          150,  22,   4, 152, 148,  54, 128, 123, 151, 239,   9, 241, 134,  96,\n",
       "          153,  21, 115,  93,  42, 230, 243,  88, 177,  13, 122, 198, 140,  33,\n",
       "           91,  13, 212, 144, 154,  12, 223, 162, 176, 209,  19, 227, 233, 213,\n",
       "          159, 203, 130, 187, 100,  71, 131,  59, 243,  52, 184,   3,  27,  19,\n",
       "           54, 106]),\n",
       "  tensor([201, 103, 169,  53, 181, 199,  32, 187, 246,  47, 206,  91, 230, 184,\n",
       "          196, 206, 242, 176, 185, 163,  63,  44,  64,  30, 108,  23, 120,  57,\n",
       "           41, 203,  54, 183,  72,  40,  65,  49, 208, 158, 103, 111, 110,  49,\n",
       "          227,  44, 200,  51,  88,  46, 145,  29,   5, 219, 224, 192,  48, 195,\n",
       "           16, 156,  62,   8, 198, 155,   0, 246,  31, 159,  31,  30,  42,  43,\n",
       "          224,  99,  31,  13, 142, 197,  47, 198, 136, 189, 139, 115,  47, 190,\n",
       "           25, 171,  58, 247,  36, 174, 207,   1,  34, 128, 144, 161,  66, 234,\n",
       "          202,  50, 236, 130, 141, 241, 147, 233,  67, 106, 208, 213,   4,  22,\n",
       "          201, 201,   1,  80, 203, 243,   4, 219, 117, 218, 108,  97,  49, 239,\n",
       "          239, 138]),\n",
       "  tensor([ 14,  97, 152, 126,  93, 218, 108,  15,  49,  11, 124, 158, 234, 248,\n",
       "          239, 110,  98,  28, 193, 189, 153, 125, 167, 186,  70, 206, 164, 139,\n",
       "          125,  31, 209, 152, 183,  60, 107, 188, 176, 111,  58, 121,  31,  98,\n",
       "          165, 212, 168,  87, 219,  59, 192, 173,  65,  52, 187,  49, 235, 118,\n",
       "          222,  71, 122,  16,  35, 174,  60, 230,   8, 171, 167, 184, 219, 190,\n",
       "           40,  27, 101,  36, 188, 202, 232, 184, 179, 243,  14, 119, 213, 246,\n",
       "          127,  70,  67,  39, 125,   0, 191, 196, 189,  27,  49, 104, 190, 225,\n",
       "           62, 168, 197, 215, 183, 223,  13, 113, 160, 137,  33, 129, 192,  72,\n",
       "          209, 247,  35,  24, 221, 138,  80,  27, 144, 188, 194,  58, 211,  80,\n",
       "           12,  11]),\n",
       "  tensor([142, 140,  52, 236,   5, 177, 172,  12,  14, 204, 185, 243, 222, 247,\n",
       "           19, 151,  10, 129,  93, 201,  36,  54, 134, 127,  63, 154, 130,  79,\n",
       "          148, 180, 148, 109, 111, 181,  58, 138, 216, 182,  46,  73,  60, 240,\n",
       "          161,  31, 107,  59, 126, 211, 120, 104,  82, 217, 134,  39, 149, 200,\n",
       "          185, 247, 224, 195,  86,  73, 245, 100,   5,   7, 158, 105,  43, 178,\n",
       "           68,  62, 185,  57, 212,  82,  70,  96, 138,  66,  86, 172,  50, 137,\n",
       "          101,  17,  22,  51,  58, 248,  33, 243,  47, 185, 156,  60, 165, 140,\n",
       "           13, 164, 173,  73,  31,  55,  86, 141,  14, 174,  17,  49,  79, 153,\n",
       "          175, 129,  75,  86, 135,  26, 238, 139, 221,  69, 107, 123, 248, 186,\n",
       "           38, 246]),\n",
       "  tensor([ 71, 110, 188, 192,  23,  82,  57, 227, 198,  86, 184,  87, 218, 226,\n",
       "          213,  71, 150, 128, 137,  41, 155,  82, 180, 151,  32, 186, 245,  89,\n",
       "          247,  54,  19, 143,   6,  86,  70, 109, 155,  51,   4, 193, 165,  85,\n",
       "          185, 246, 105,  28,  14,   5,  75, 162, 105,   7,  69,  79, 141, 189,\n",
       "           36,  24, 158,  36, 119,  57,  15,  15,  32,  92,  85, 145,   0, 211,\n",
       "          223,  82, 234, 211, 149, 222,  56, 106, 111, 232,  22, 108,  94, 121,\n",
       "          165, 188,  32, 182, 138, 111,  24,  13, 148,  14,   8, 149,  82, 162,\n",
       "           73, 106, 239,  84,  35, 211, 234, 161, 186, 117,   3, 218, 190, 126,\n",
       "           34,  72, 132, 153, 114,  59,  20, 173,  81,  44, 131, 207, 210,   2,\n",
       "           88,  82]),\n",
       "  tensor([187, 212,  77, 106, 115, 125, 118, 100,  36,  49,  56, 222, 197, 209,\n",
       "          157,  39, 173, 230, 219,  48, 208,  43, 236,  46, 122,   3,   2, 134,\n",
       "           51, 181, 171, 227,  41, 192, 148,  77,   7,  88, 116,  65,  82, 112,\n",
       "           82, 161, 191, 176, 214,  86, 154, 232, 121, 231, 165, 222, 234,  12,\n",
       "           96,  31, 131, 128,  69,  23, 210, 245, 143, 213, 132, 231, 102, 232,\n",
       "          147, 222, 206, 177, 247, 106, 227,  76,  36, 191,  33,  29,  77,  31,\n",
       "          172,  92,  92,  19, 135, 111,  75, 124, 130,  13, 202,   6, 142, 163,\n",
       "          179, 121, 167, 175,   7,   8, 143, 230, 100, 158,  88, 196,   5, 233,\n",
       "          138, 229, 184,  48, 245, 200, 234,  40,  25,  66, 238, 116, 197,  67,\n",
       "          148, 122]),\n",
       "  tensor([131, 186, 113, 120,  10,  66, 178,  51, 227, 233, 197, 148,  30, 118,\n",
       "           86, 102,  78,  89,  15, 141, 189, 190, 231, 203, 210, 243,  72,   2,\n",
       "          113, 209,  98, 228,  61,  52, 236, 217,  35, 190, 182,  23, 222, 166,\n",
       "           56,  46, 172,  65, 237,  47,  84, 230,  35,  29, 132,  36, 183,  66,\n",
       "           65, 179, 130, 162, 144, 230,  22, 219, 195,  86, 248,  77,  31, 218,\n",
       "           32,  88, 203,  19, 228, 227, 212, 229,  24, 139, 222,   6, 232,  81,\n",
       "          168, 222, 167,  30,  58,  88,  43,  80, 139,  65, 117, 149, 210, 137,\n",
       "          110,  23,  11,  25, 227,  33, 223, 147,  38, 242, 149,  51, 142, 103,\n",
       "           78, 159, 178,  24, 246, 177, 245, 222, 156, 221, 217,  28, 211,  97,\n",
       "          110, 157]),\n",
       "  tensor([222, 118,  14, 128,  87, 137, 149, 211,  97,  33, 134, 121,  43, 245,\n",
       "          132,  25,  43, 220, 227, 244,  92,  83, 213, 150,   4,  72,  53,  85,\n",
       "           94,  13, 177, 148,  31,   0,  37, 201,  41, 239, 228, 140, 168,  38,\n",
       "          240,  53,  86, 210,  60, 186, 154, 126,  23,  29, 238,  56, 133, 135,\n",
       "          153,  87,  98,  73, 178, 175, 107, 160,  53,  41, 179, 184,  38, 110,\n",
       "           83,  25,  44,  20,  14,  41, 132,  13, 203,  99,  45,   2, 129,  46,\n",
       "           78, 173, 195,   6,  34,   7,  12, 192,  41,  63, 185, 212, 201, 136,\n",
       "          210,  55,  53, 163, 226, 132,  25,  11, 204, 208,  70,  18,  48, 181,\n",
       "          226,  86,  26,  34, 103, 207, 139,  54, 186, 228,  25,  81, 211,  16,\n",
       "            3,  31]),\n",
       "  tensor([ 85, 104,  81, 127,  63, 247, 242, 136, 158,  77,  62, 151, 145,  68,\n",
       "          181,  61, 209, 111, 178, 143, 130,  78, 166, 103,  31,  72,  88,  43,\n",
       "           87, 140, 246, 221, 142, 196, 247,  93,   0, 165, 154, 214,  24,  75,\n",
       "           31,  63, 215, 119,  33, 195, 204,  29, 196,  12,  53, 142,  10,  83,\n",
       "           37, 172,  66, 113, 208,  76, 170,  68,  99, 106,  68, 172,  96,  70,\n",
       "          167, 226, 169, 236, 171,  11,  82,   2,  10,  32, 195,  12, 175, 171,\n",
       "           18, 183, 198, 102,  78, 175, 195, 118,  24, 194, 115, 201,  98,  28,\n",
       "          121, 139,  67,  93, 201,  50, 166,  67, 107, 109,  78, 225, 177, 204,\n",
       "          247, 118, 242, 243, 215, 128,  21,  60, 197, 221,  64, 136, 229, 236,\n",
       "          221, 214]),\n",
       "  tensor([229, 136,  75, 159, 225, 234,  91,  87, 147, 114,  87,  69, 141,  77,\n",
       "           77, 195,  80, 217,  23, 133, 249,  73, 142, 163,  95, 183, 128, 201,\n",
       "          220, 219, 106, 176,  29, 166, 117,  10,  97, 185,  22, 169, 166,  13,\n",
       "          203, 114, 136, 230,  27,  90,  86, 214, 153, 234,  31, 155,  71, 100,\n",
       "           76, 172,  19, 248, 237, 158, 192,  54, 206, 174, 227, 156,  64, 115,\n",
       "          152,  65,  37,  94,   8, 195,  94,  93,  23,  30,  19, 139,   4, 136,\n",
       "          200,  87,  63, 184, 200, 150, 190, 236, 239,  53,  26, 124, 204, 213,\n",
       "          122,  33, 249, 143, 226,  37,  37, 159,  51,  20, 234,  58,  52, 172,\n",
       "           32,  17, 218,  39,  23, 191, 215,  16,  81,  91, 245,  98, 176,  37,\n",
       "           36, 249]),\n",
       "  tensor([189, 203, 145, 173, 189, 128,  51, 149,  48,  16,   0,  31, 192,   2,\n",
       "          196, 171, 161,   3, 240, 117,   7,  99, 202, 204, 167,  50, 199, 153,\n",
       "          102,  71, 123, 241, 199,  56,  92,  43, 169,  73,  81, 149, 189,  17,\n",
       "          167, 238, 242, 119, 209, 125, 140, 185,  11,  12, 244, 127, 110, 177,\n",
       "          144, 191, 183, 195, 243,  98, 100,  83, 179, 190, 228, 142,  62,  88,\n",
       "          103, 142, 239, 242,  51,  61,  17,  30,  61,  65, 211, 242, 245, 184,\n",
       "          103,  20, 142,   0, 247,  15,  40, 123,   3,  57, 217,   1, 175, 177,\n",
       "          151, 171, 181,  50, 140, 219, 115, 116,  55, 241, 215, 177, 159, 129,\n",
       "           12, 139, 100,   9, 236, 151,  96, 174,  52,  87,  84, 207, 197, 157,\n",
       "          167,  89]),\n",
       "  tensor([127,  68,  49, 227, 130,  75, 182,   2, 105, 173, 222,  25,  84, 165,\n",
       "          139,  64,  66,  18, 233, 138, 157,  70,  69, 229, 162, 214,   4, 225,\n",
       "          103,  38,  45,  59,  39,  54, 222, 107, 158,  96,  69,  43,  40, 173,\n",
       "          240,  27, 104,   2,   1, 112, 101,  33,   4, 180, 124,  50, 115, 149,\n",
       "           24,  70, 114, 188,  67, 131, 175,  81, 221,  14,  42, 228, 195, 143,\n",
       "           91, 137, 222,  10, 182,  37, 200, 177,  65, 243,  83,  94, 137,  16,\n",
       "          153,  33, 103, 115,   6,  48,  64, 149, 178,  71,  39, 126, 117, 129,\n",
       "           96,  47,  89, 171, 172, 173,  74,  86, 115,  23,   9, 232, 202,   9,\n",
       "          163,  75, 179, 213,  11, 142, 175,  91, 217,  98, 178, 247, 148,  41,\n",
       "           91,  47]),\n",
       "  tensor([201,  80,  11,  71, 136,  28,  42,  42,  46,  24, 193, 217, 173,  59,\n",
       "          236,  98, 111, 169, 100, 228,  19, 205,  20, 193, 237, 215, 155,  76,\n",
       "          126,   2, 131, 171,   9, 162, 169, 223, 131, 223, 181, 135, 217, 226,\n",
       "          193, 151, 192, 107, 136, 219,  48,  84, 174, 123,  90,  52, 127,  51,\n",
       "          244,  85, 223, 171, 237,  93, 166, 147,  48, 105,  41,  43, 238, 113,\n",
       "           77, 154,   0, 185, 107, 142, 178, 172, 132, 214,  52,  54, 131, 245,\n",
       "           30, 155,  33, 162, 104,  86,  70, 154,  12, 239, 195, 236, 101,  38,\n",
       "          162, 176,  44,  72, 224,  98,  23,  50, 237,   4, 157, 177,   8,  13,\n",
       "          142, 189, 102,  80, 218,  96, 179, 200, 104, 235,  41,  59, 111, 104,\n",
       "           72, 152]),\n",
       "  tensor([189, 146, 237, 164, 196,   8, 104, 242, 244,  75,  38,  10, 167, 162,\n",
       "          179,  91, 208, 242, 130, 109,   3, 138, 229, 148, 222, 202,  80, 120,\n",
       "           15, 113,  72, 170,   4,   8, 227,  44,  66, 104, 135,  16, 224, 117,\n",
       "          236,  31, 139, 193, 114, 163,  55, 227,   0, 112, 179, 190, 112,  32,\n",
       "            6, 188,  36,  85, 192, 140, 240,  65, 118, 116, 112, 209, 165,  24,\n",
       "          137,  18, 168, 207,  92, 128, 226,  60, 235,  59, 222, 225,  80,  24,\n",
       "           30, 159, 228,  52, 233, 150, 199, 245,  81, 152, 101,   6,  65, 230,\n",
       "           30,   5,  33,  72, 127,  27,   4,  47,  86,   5, 189, 158,  72,  11,\n",
       "          229, 200,  38, 222, 182, 200, 225, 216, 206, 231, 119,   4, 210, 190,\n",
       "          165, 134]),\n",
       "  tensor([165,  93, 138,  81,  19, 229,  47,  55, 149, 177, 170,   7,  54, 118,\n",
       "          106, 110, 152, 199, 147,  53,  26, 144, 138, 109,  30,  88,  90, 173,\n",
       "          203, 189,  67, 190, 247, 172,  28,  66, 156, 136, 240, 119, 145, 238,\n",
       "           58, 230,  47, 158,  31,  84, 245,  35,  98,  36,  37,  58, 224, 162,\n",
       "           86,   4, 200, 224,  57,  26, 177,  63, 217,  51,  51, 151, 177, 224,\n",
       "          125, 176, 145, 223, 223,  46, 140, 167,  35,  50, 217, 225, 184, 124,\n",
       "          120, 196, 206, 122, 145, 211,  94, 118, 159, 248, 140, 126, 207, 107,\n",
       "          116, 219, 208,  75,  78, 233,  48,  72, 130, 219, 140,  16,  66, 234,\n",
       "           78, 121,   4, 140, 195, 111,  10, 120,  76,  58, 195,  75, 123, 164,\n",
       "          149, 165]),\n",
       "  tensor([102,  69,  15,  45, 176, 180,  55, 233, 234, 144, 194,  47, 129, 135,\n",
       "          233, 249,  67,  44,  93, 146, 135, 158, 166,  73,  96,  63,  45,  72,\n",
       "           51, 103, 160, 158,  39,  83, 242, 111, 205,   8,  57, 147, 148, 137,\n",
       "            3, 213, 186, 126, 120, 148,  55,  90, 119, 110, 150, 216,   6,  99,\n",
       "           22,  90, 135, 122,  54, 247, 108,  57, 162,   1, 220, 210, 173, 226,\n",
       "           58,  50, 193, 146, 101, 242,  74,  20,  85,  72, 144, 185, 139, 248,\n",
       "           90, 224, 136,  23,  70,  54,  93, 198, 130, 133,  59, 124,  26,  16,\n",
       "          178, 119, 240, 173, 126, 203, 220, 160,  92, 126, 146,  50,   6, 236,\n",
       "            6, 205, 145,   1,  66,  16, 179,   1, 186, 212,  21, 202, 173, 213,\n",
       "           40,  12]),\n",
       "  tensor([ 65,  16,  88,  68, 175, 154,  67,  43, 208,  97,  51,  35,  60, 176,\n",
       "           91, 115, 216, 176, 184, 236, 145,  65, 213,  98, 146, 210, 241,  52,\n",
       "          164, 162, 124, 129,  29, 122, 216,  41, 168, 231,  41, 181, 221,  27,\n",
       "           50, 157, 139,  86,  41,  51, 179,  26,  28, 233, 183, 173, 135, 237,\n",
       "          135,  90, 196, 123, 153, 115, 165, 141, 120,  29,  67,   8, 182,  10,\n",
       "           74, 123, 109,  69, 104,  40, 135,   0,  93, 114, 135, 210,   4,  85,\n",
       "          149, 225,  79,  46, 178,  57,  92, 232, 105,  52,  80,  33, 120,  41,\n",
       "           34, 224, 225, 137,  75, 163,  47, 248,   3,  94,  37,  87,  11, 224,\n",
       "           68, 165, 234, 229, 230,  54, 189, 244, 201,  93, 158, 222, 111, 158,\n",
       "          115, 118]),\n",
       "  tensor([151, 147,  32, 228, 217, 181, 128,  97, 149,  76,  66,  29, 224, 243,\n",
       "          207, 226, 101,  10, 146, 245,  32,  25, 231, 158, 163,  46, 137, 206,\n",
       "          217,  71,  78,  44, 182,  70, 133, 196,  10, 183,  14, 115,  85, 199,\n",
       "          192, 129, 104, 238, 163, 165, 161,  54, 139,  68, 104, 174, 103,  55,\n",
       "          136,  62, 185,  96,  33,   6, 222,  82, 156,  52, 160, 196, 143, 222,\n",
       "           28,  14, 205,  44, 180, 135, 113, 198, 183, 240, 100,  96,  26, 246,\n",
       "           67, 221,  87, 203,  72, 154, 157, 122, 199,  57,  75,  55,  88,   6,\n",
       "          204,  17, 122,  16, 219,  87, 248,   7, 151,  15,  37, 187,  55,   6,\n",
       "          145,  20,  44, 103,  18, 202,  45, 192, 144, 149,  25,   4, 207, 102,\n",
       "           19, 122]),\n",
       "  tensor([ 90,  17, 143, 147, 171,  78, 223, 110, 179, 186, 147, 234, 172,  30,\n",
       "           66, 122,  38, 242, 141, 247, 247, 213,  14,  53,  63, 169, 226, 214,\n",
       "          107,  39, 200, 231,  88, 137, 212, 190,  82, 159,  84,  26, 212, 180,\n",
       "          139, 194, 188, 243, 114, 149, 141, 227,  57, 162, 172, 183, 133, 138,\n",
       "          240, 198, 151, 196, 237,  32,  65, 184, 121, 209, 196,  50,   2, 217,\n",
       "          105,  11,  53, 119,  40, 243, 132, 223, 200, 191,  27, 175,  62,  55,\n",
       "          172, 161, 239,  75, 172, 215,  30, 140, 114,  72,  13,  52, 159,  16,\n",
       "          186, 148, 182, 245, 202, 133, 158,  31,  15, 139,  26, 226, 198,  60,\n",
       "          191,  50, 177,  98,  87, 249, 114, 160, 219,  48,   7,   2, 185,  89,\n",
       "            9, 151]),\n",
       "  tensor([153, 142, 151,  73, 228,  68, 163, 246, 180,   9, 129, 175,  82,  73,\n",
       "           25,  97,   4,  88, 148, 139, 207,  10, 203, 185,  91,  86,  47,   7,\n",
       "           99,  14,  15,  20,  82,   2, 189, 149, 202, 213, 227,  23, 145, 190,\n",
       "          154,  61,  35, 179, 133, 220,   3,   2,  28, 183, 164, 233, 210, 248,\n",
       "          163, 245,   7, 205, 211, 207,  45, 193,  56, 211, 222,  60,  60,  14,\n",
       "           98, 112, 190,  94, 116, 169, 240, 151,   6, 145, 125, 169,  63, 129,\n",
       "           39,  73, 178,   5, 108, 185, 221, 239, 141, 229,  74,  90,  99,  57,\n",
       "           58,  42, 232,   3, 236, 103,  77, 150, 134,  17,  38, 183, 199, 202,\n",
       "          194, 157, 230, 114,  31,   2,  11, 241, 215,  26,  96, 182,  63, 168,\n",
       "          166, 172]),\n",
       "  tensor([106,  82, 216,  79,  75, 143,  83, 191,  37,  85, 144, 116,  51, 103,\n",
       "          204, 168,  55, 213,  76, 159, 104,  78, 119,  83,  14, 160, 189,  19,\n",
       "          142, 209, 237, 233, 219,  11,  72,  57, 168, 138, 112,  99,  20, 186,\n",
       "          104, 102, 245, 173,  85, 224, 108, 199,  34, 227,  24, 200,   0,  39,\n",
       "           63, 173, 228, 219, 110,  73, 240, 202,  10, 139, 132, 181,  15, 210,\n",
       "           14,  29, 184, 181,  25, 135, 248, 171, 106,  52,  85, 187, 148, 216,\n",
       "           52,  87, 113, 209, 209,   6, 120, 190, 200, 151, 103,  39, 160,  52,\n",
       "          228, 112, 105,  68, 128, 166, 237,  88,  43,  38, 238, 165,  51, 229,\n",
       "          129, 129, 145, 101,  26, 245,  78, 169, 118,  63, 141, 153, 160, 220,\n",
       "           21, 239]),\n",
       "  tensor([ 22,   6, 189, 190, 148,  97,  68,  99, 154, 210, 148, 159,  63, 145,\n",
       "          143,  40, 129,  80, 238, 194, 214, 128,  42,   9,  80,  42, 235, 164,\n",
       "          243,  31,  63, 204, 120,   0, 160,  49,  60,  54,  59,  67,   0, 119,\n",
       "           50, 121,   3,  99,  19, 204,  52, 201,  10, 110, 117,  34, 198, 146,\n",
       "          168, 109, 182,   1,  37, 102,  85, 244, 173, 118, 210, 155, 170,  62,\n",
       "           45,  31,  39, 168,  59, 111, 167,  92, 153,  22, 221, 148, 184, 205,\n",
       "           30,  75, 234, 147, 203,  11, 206, 191, 130,   8,  57, 131, 168, 224,\n",
       "          244, 194, 102, 117,  33,  30,  94, 113, 127, 110,  78, 182,  47,   2,\n",
       "          227,  95,  31, 201, 147,  15, 208,  10, 122,  60,   4, 139,  94, 191,\n",
       "           37, 178]),\n",
       "  tensor([127,  51, 151, 215, 147, 108,  32, 157,  85,  94, 238, 122, 104, 161,\n",
       "           59,  48, 150,  89, 187,   4,  11, 207,  14,  32, 105, 135,   1, 217,\n",
       "           37,  33, 167, 137, 133, 200, 199,  90, 170, 241, 245, 243, 237,  86,\n",
       "           59, 216, 121, 212, 156,  14,  19,   0,  83,  63,  88,  27, 218, 104,\n",
       "          202,  20, 139,  50, 177, 142, 233, 111, 215,  91, 102,  77,  79, 112,\n",
       "          208, 114,  96,  90, 225,  95,  67,  15, 122, 197,  57,  47, 210, 160,\n",
       "           98,  94,  30, 240,  74,  86,  35, 212,  83,  96,  39,  32, 130,  58,\n",
       "          196, 227, 194, 237, 230, 234, 165, 174,  51, 187,  11,  39,  75, 138,\n",
       "          137, 202, 224, 155,  30,  46, 197, 235,  58,  22,  89, 197, 225,  81,\n",
       "          200, 149]),\n",
       "  tensor([  5, 134, 205, 187, 192, 209, 204, 149, 162,  80,  44, 182,   0, 101,\n",
       "          164, 218, 137, 233,  33, 248, 224, 138, 246, 118, 136, 162, 204, 169,\n",
       "          106, 226,  59, 175,  26, 194, 120, 242, 132,  88, 198, 110, 155,  86,\n",
       "           81,  16, 191, 136,  76, 146,   9,  19, 198,   6, 163, 238, 125,  59,\n",
       "          118, 131, 232, 182, 146, 215,  98,  61, 228, 236,   5, 200,  16, 150,\n",
       "          219, 221,  46,  20, 139, 125, 169, 161, 177, 123, 134,  67, 219,   3,\n",
       "           26,  60,   9,  80, 237,  79,  54, 116, 135,  63, 157, 122, 156, 186,\n",
       "          245,  53, 208,  26,  59,  72, 131,  48, 205, 211, 103, 136, 242, 184,\n",
       "           40, 149,  50, 171, 105, 172,  55, 194, 150, 101, 143, 199, 109,  46,\n",
       "           46, 209]),\n",
       "  tensor([ 15,  11,  64, 192, 151, 217, 179, 119, 249,  31, 117, 218, 131, 118,\n",
       "          217,  30,  59, 209,  63, 225, 108,  51, 146, 221,  34, 177,  72, 126,\n",
       "           48, 162, 230, 117,  59,  67,  58,  46, 113, 237, 113, 226,  43, 165,\n",
       "          118, 168,  68, 163,  65,  89,  29, 233,  54, 210,  88, 119,  80, 217,\n",
       "           28, 241,  81, 224, 148, 113, 161, 115, 121, 175, 208, 136, 206, 102,\n",
       "           93, 147, 246, 102, 202,  20, 224, 157,  18,   1, 214,  22,  33, 174,\n",
       "           96,  77, 111,  59, 164, 228, 150,  98, 140,  60,  65, 204, 231,  60,\n",
       "          204, 111,  65, 131, 200,  60,  50, 158,  96, 116, 132,  84, 159, 246,\n",
       "          155, 158, 143,  45,  77,  41,  93,  38, 140,   5, 246,  72,  71, 164,\n",
       "          137,  34]),\n",
       "  tensor([ 10, 233, 217,  25, 245, 228, 144, 136,  89,  88, 205,  83, 134, 219,\n",
       "           69, 154,  92, 199, 161,  75, 247,  31,  69, 229, 220, 125,  21, 233,\n",
       "           85, 114,  10,  59,  84,  16,  12,  44,  85, 123,  59,  98, 157,  21,\n",
       "          197,  42, 132, 101,  33, 128, 211,  89, 100,  83, 108, 246,  82,  54,\n",
       "          180, 190, 173,   7, 124, 124, 183, 148, 247, 239, 203, 249,   5,  75,\n",
       "          166,   9, 225, 119,  87,  29, 182, 188,  11,  37,  57,  47, 110,  92,\n",
       "           30, 208,  38,  68,  63, 147, 234, 158,  45, 102, 125, 208, 107, 122,\n",
       "          186, 220, 145, 220, 216,  62,  12, 170, 191, 144,  45, 122, 128, 123,\n",
       "          228,   2, 234, 195, 153, 151,  83, 133,  15, 247, 232,  94,  97,  30,\n",
       "           55, 213]),\n",
       "  tensor([199, 177, 191, 144, 112,  21, 207,  50, 127, 167,  29, 203, 207, 127,\n",
       "           81, 201,   2, 153, 114, 148, 141,  35, 235,  62, 128,  60, 140, 190,\n",
       "          196, 118,  19, 197, 174, 153,  36, 241, 112,  43,  11,  35, 192, 237,\n",
       "           79, 148, 123,  57, 213,  55, 174, 138, 203, 129, 133,  16, 112, 221,\n",
       "          164, 156,  59, 116, 242,  81,  89, 232, 164,  80, 234, 112, 119,  59,\n",
       "          109, 209,   2,  11, 168,  52, 167,  90, 193, 180, 150, 103, 138, 145,\n",
       "           49, 182, 141,  78,  82, 185, 110,  14,  32, 204, 137,  45,  37,  71,\n",
       "           91, 240, 232,  63, 162, 172, 113,  71,  61, 219, 197, 245,   2,  33,\n",
       "          166, 244, 114,  10,  98,  44, 103, 200,  87, 191, 123, 141,  42,   1,\n",
       "           87, 194]),\n",
       "  tensor([146, 217, 166, 112, 189, 167, 194,  98, 160,  48, 146, 212, 194, 183,\n",
       "          234,  59, 194,  34,  55,  80, 126, 194, 150, 165,   2,  65,  96,  74,\n",
       "           89, 197,  43, 245, 192,  16, 203, 100, 131,  92,  91,  55, 207,  64,\n",
       "           94,   8,  72,  65,  44,  14, 138, 114,  38, 162, 227, 160, 166, 210,\n",
       "          241,  57,  64, 239, 204,  65, 146,  33,  38, 164, 171, 218,  89, 134,\n",
       "          113, 215, 239, 193, 114,  58, 188,  19,  93, 226,  55,  40, 182,  82,\n",
       "           81,  56,  86, 143, 174, 219, 174, 148, 122, 143, 115,  64, 223, 113,\n",
       "          229, 129, 116, 126, 136,  89, 188, 229, 236, 155, 155, 246, 162, 177,\n",
       "           22, 131, 191, 149,   0,  59, 236, 191, 103, 148, 188, 245,  27, 175,\n",
       "          205, 217]),\n",
       "  tensor([ 83, 236, 161,  76, 126,  54, 174,  32,  75, 159, 172, 168, 146,  29,\n",
       "           81,  92, 203,  37,  96, 153, 127, 194, 225, 175,  59,  13,  76,   8,\n",
       "           87,   5, 113,  75,  40, 134,   5, 244, 200,  53,  68, 155, 173,  23,\n",
       "           89, 210, 219, 165,  54, 173, 113,  70, 146,  63, 134, 199, 213, 158,\n",
       "            2,  23, 224,  86, 212, 113, 153, 196, 213, 158, 165, 182, 124,   3,\n",
       "           22,  74,  78, 160, 167, 242,  65,  43, 165,  69,  88,  72, 203,  39,\n",
       "           90,  23,  44, 164,  78,  29,  66, 135, 169, 138, 134,  42, 194, 226,\n",
       "           38,  49, 219,  56,  28, 233, 145, 181, 120,  33,   8, 230, 111,  52,\n",
       "          213, 134, 223, 216,  27, 243, 136,  74,  80,  22, 110,  99,  82, 238,\n",
       "          161, 177]),\n",
       "  tensor([220, 134,  76,  81, 170, 136, 129, 247, 120,  77, 110, 196, 179,  46,\n",
       "          107, 123, 137,  37, 165, 199, 111,  14,  89,  76, 111, 216, 133,  55,\n",
       "           81, 105, 213, 207,  39, 139, 248, 206,  64,  72, 239,  11, 189, 103,\n",
       "          178, 158,  24, 101,  90, 128,  68, 147,  37, 142, 140, 209, 217,  83,\n",
       "            8, 186, 144, 223, 159, 238, 142, 197, 118,  50, 208,  59, 205,  32,\n",
       "           30,  97,  11, 241, 239, 243,  63, 113, 155, 228,  70, 135, 221, 140,\n",
       "          107,  15, 218,  18,  61,  35, 236,  55, 233, 102, 202, 227,  47, 133,\n",
       "          238, 245,   8, 198, 193, 109, 240,  59,  57, 110])])"
      ]
     },
     "execution_count": 5,
     "metadata": {},
     "output_type": "execute_result"
    }
   ],
   "source": [
    "trainer.train()\n",
    "trainer.test()"
   ]
  },
  {
   "cell_type": "code",
   "execution_count": 6,
   "id": "4c387ab8",
   "metadata": {
    "scrolled": true
   },
   "outputs": [
    {
     "name": "stdout",
     "output_type": "stream",
     "text": [
      "Using model: models.pytorch.models.HybridModel\n"
     ]
    }
   ],
   "source": [
    "trainer = Trainer(modelname='HybridModel')"
   ]
  },
  {
   "cell_type": "code",
   "execution_count": null,
   "id": "55b2ba06",
   "metadata": {
    "scrolled": true
   },
   "outputs": [
    {
     "name": "stdout",
     "output_type": "stream",
     "text": [
      "Epoch 1/50\n"
     ]
    },
    {
     "name": "stderr",
     "output_type": "stream",
     "text": [
      "Training progress: 100%|█| 484/484 [00:58<00:00,  8.26it/s, Loss=tensor(4.5910),"
     ]
    },
    {
     "name": "stdout",
     "output_type": "stream",
     "text": [
      "EPOCH   1: Train accuracy: 0.05, Train Loss: 4.59097862, LRate 0.00100000 \n"
     ]
    },
    {
     "name": "stderr",
     "output_type": "stream",
     "text": [
      "\n",
      "Validation progress: 100%|█| 29/29 [00:23<00:00,  1.24it/s, Loss=tensor(4.0626),"
     ]
    },
    {
     "name": "stdout",
     "output_type": "stream",
     "text": [
      "EPOCH   1: Validation accuracy: 0.09, Validation Loss: 4.06257296, LRate 0.00100000 \n",
      "\n",
      "Best model and parameters saved at epoch 1\n",
      "\n",
      "Epoch 2/50\n"
     ]
    },
    {
     "name": "stderr",
     "output_type": "stream",
     "text": [
      "\n",
      "Training progress: 100%|█| 484/484 [00:54<00:00,  8.83it/s, Loss=tensor(3.5693),"
     ]
    },
    {
     "name": "stdout",
     "output_type": "stream",
     "text": [
      "EPOCH   2: Train accuracy: 0.16, Train Loss: 3.56928706, LRate 0.00090000 \n"
     ]
    },
    {
     "name": "stderr",
     "output_type": "stream",
     "text": [
      "\n",
      "Validation progress: 100%|█| 29/29 [00:23<00:00,  1.24it/s, Loss=tensor(3.2217),"
     ]
    },
    {
     "name": "stdout",
     "output_type": "stream",
     "text": [
      "EPOCH   2: Validation accuracy: 0.23, Validation Loss: 3.22170162, LRate 0.00090000 \n",
      "\n",
      "Best model and parameters saved at epoch 2\n",
      "\n",
      "Epoch 3/50\n"
     ]
    },
    {
     "name": "stderr",
     "output_type": "stream",
     "text": [
      "\n",
      "Training progress: 100%|█| 484/484 [00:54<00:00,  8.89it/s, Loss=tensor(3.0060),"
     ]
    },
    {
     "name": "stdout",
     "output_type": "stream",
     "text": [
      "EPOCH   3: Train accuracy: 0.26, Train Loss: 3.00602889, LRate 0.00081000 \n"
     ]
    },
    {
     "name": "stderr",
     "output_type": "stream",
     "text": [
      "\n",
      "Validation progress: 100%|█| 29/29 [00:23<00:00,  1.24it/s, Loss=tensor(2.7555),"
     ]
    },
    {
     "name": "stdout",
     "output_type": "stream",
     "text": [
      "EPOCH   3: Validation accuracy: 0.31, Validation Loss: 2.75553727, LRate 0.00081000 \n",
      "\n",
      "Best model and parameters saved at epoch 3\n",
      "\n",
      "Epoch 4/50\n"
     ]
    },
    {
     "name": "stderr",
     "output_type": "stream",
     "text": [
      "\n",
      "Training progress: 100%|█| 484/484 [00:54<00:00,  8.86it/s, Loss=tensor(2.6298),"
     ]
    },
    {
     "name": "stdout",
     "output_type": "stream",
     "text": [
      "EPOCH   4: Train accuracy: 0.34, Train Loss: 2.62976408, LRate 0.00072900 \n"
     ]
    },
    {
     "name": "stderr",
     "output_type": "stream",
     "text": [
      "\n",
      "Validation progress: 100%|█| 29/29 [00:23<00:00,  1.23it/s, Loss=tensor(2.4449),"
     ]
    },
    {
     "name": "stdout",
     "output_type": "stream",
     "text": [
      "EPOCH   4: Validation accuracy: 0.39, Validation Loss: 2.44490194, LRate 0.00072900 \n",
      "\n",
      "Best model and parameters saved at epoch 4\n",
      "\n",
      "Epoch 5/50\n"
     ]
    },
    {
     "name": "stderr",
     "output_type": "stream",
     "text": [
      "\n",
      "Training progress: 100%|█| 484/484 [00:54<00:00,  8.85it/s, Loss=tensor(2.3269),"
     ]
    },
    {
     "name": "stdout",
     "output_type": "stream",
     "text": [
      "EPOCH   5: Train accuracy: 0.40, Train Loss: 2.32692194, LRate 0.00065610 \n"
     ]
    },
    {
     "name": "stderr",
     "output_type": "stream",
     "text": [
      "\n",
      "Validation progress: 100%|█| 29/29 [00:23<00:00,  1.24it/s, Loss=tensor(2.4332),"
     ]
    },
    {
     "name": "stdout",
     "output_type": "stream",
     "text": [
      "EPOCH   5: Validation accuracy: 0.40, Validation Loss: 2.43315125, LRate 0.00065610 \n",
      "\n",
      "Best model and parameters saved at epoch 5\n",
      "\n",
      "Epoch 6/50\n"
     ]
    },
    {
     "name": "stderr",
     "output_type": "stream",
     "text": [
      "\n",
      "Training progress: 100%|█| 484/484 [00:55<00:00,  8.76it/s, Loss=tensor(2.0963),"
     ]
    },
    {
     "name": "stdout",
     "output_type": "stream",
     "text": [
      "EPOCH   6: Train accuracy: 0.46, Train Loss: 2.09629059, LRate 0.00059049 \n"
     ]
    },
    {
     "name": "stderr",
     "output_type": "stream",
     "text": [
      "\n",
      "Validation progress: 100%|█| 29/29 [00:23<00:00,  1.24it/s, Loss=tensor(2.1551),"
     ]
    },
    {
     "name": "stdout",
     "output_type": "stream",
     "text": [
      "EPOCH   6: Validation accuracy: 0.45, Validation Loss: 2.15509605, LRate 0.00059049 \n",
      "\n",
      "Best model and parameters saved at epoch 6\n",
      "\n",
      "Epoch 7/50\n"
     ]
    },
    {
     "name": "stderr",
     "output_type": "stream",
     "text": [
      "\n",
      "Training progress: 100%|█| 484/484 [00:54<00:00,  8.82it/s, Loss=tensor(1.9473),"
     ]
    },
    {
     "name": "stdout",
     "output_type": "stream",
     "text": [
      "EPOCH   7: Train accuracy: 0.49, Train Loss: 1.94728804, LRate 0.00053144 \n"
     ]
    },
    {
     "name": "stderr",
     "output_type": "stream",
     "text": [
      "\n",
      "Validation progress: 100%|█| 29/29 [00:23<00:00,  1.24it/s, Loss=tensor(2.0175),"
     ]
    },
    {
     "name": "stdout",
     "output_type": "stream",
     "text": [
      "EPOCH   7: Validation accuracy: 0.48, Validation Loss: 2.01748538, LRate 0.00053144 \n",
      "\n",
      "Best model and parameters saved at epoch 7\n",
      "\n",
      "Epoch 8/50\n"
     ]
    },
    {
     "name": "stderr",
     "output_type": "stream",
     "text": [
      "\n",
      "Training progress: 100%|█| 484/484 [00:54<00:00,  8.82it/s, Loss=tensor(1.7855),"
     ]
    },
    {
     "name": "stdout",
     "output_type": "stream",
     "text": [
      "EPOCH   8: Train accuracy: 0.53, Train Loss: 1.78550589, LRate 0.00047830 \n"
     ]
    },
    {
     "name": "stderr",
     "output_type": "stream",
     "text": [
      "\n",
      "Validation progress: 100%|█| 29/29 [00:23<00:00,  1.23it/s, Loss=tensor(2.0073),"
     ]
    },
    {
     "name": "stdout",
     "output_type": "stream",
     "text": [
      "EPOCH   8: Validation accuracy: 0.49, Validation Loss: 2.00729203, LRate 0.00047830 \n",
      "\n",
      "Best model and parameters saved at epoch 8\n",
      "\n",
      "Epoch 9/50\n"
     ]
    },
    {
     "name": "stderr",
     "output_type": "stream",
     "text": [
      "\n",
      "Training progress: 100%|█| 484/484 [01:11<00:00,  6.82it/s, Loss=tensor(1.6503),"
     ]
    },
    {
     "name": "stdout",
     "output_type": "stream",
     "text": [
      "EPOCH   9: Train accuracy: 0.56, Train Loss: 1.65025842, LRate 0.00043047 \n"
     ]
    },
    {
     "name": "stderr",
     "output_type": "stream",
     "text": [
      "\n",
      "Validation progress: 100%|█| 29/29 [00:20<00:00,  1.40it/s, Loss=tensor(1.7923),"
     ]
    },
    {
     "name": "stdout",
     "output_type": "stream",
     "text": [
      "EPOCH   9: Validation accuracy: 0.54, Validation Loss: 1.79225457, LRate 0.00043047 \n",
      "\n",
      "Best model and parameters saved at epoch 9\n",
      "\n",
      "Epoch 10/50\n"
     ]
    },
    {
     "name": "stderr",
     "output_type": "stream",
     "text": [
      "\n",
      "Training progress: 100%|█| 484/484 [00:59<00:00,  8.17it/s, Loss=tensor(1.5415),"
     ]
    },
    {
     "name": "stdout",
     "output_type": "stream",
     "text": [
      "EPOCH  10: Train accuracy: 0.58, Train Loss: 1.54150450, LRate 0.00038742 \n"
     ]
    },
    {
     "name": "stderr",
     "output_type": "stream",
     "text": [
      "\n",
      "Validation progress: 100%|█| 29/29 [00:20<00:00,  1.40it/s, Loss=tensor(1.9285),"
     ]
    },
    {
     "name": "stdout",
     "output_type": "stream",
     "text": [
      "EPOCH  10: Validation accuracy: 0.52, Validation Loss: 1.92846274, LRate 0.00038742 \n",
      "\n",
      "No improvement in loss for 1 epoch(s)\n",
      "\n",
      "Epoch 11/50\n"
     ]
    },
    {
     "name": "stderr",
     "output_type": "stream",
     "text": [
      "\n",
      "Training progress: 100%|█| 484/484 [00:57<00:00,  8.36it/s, Loss=tensor(1.4391),"
     ]
    },
    {
     "name": "stdout",
     "output_type": "stream",
     "text": [
      "EPOCH  11: Train accuracy: 0.61, Train Loss: 1.43905199, LRate 0.00034868 \n"
     ]
    },
    {
     "name": "stderr",
     "output_type": "stream",
     "text": [
      "\n",
      "Validation progress: 100%|█| 29/29 [00:20<00:00,  1.40it/s, Loss=tensor(1.5536),"
     ]
    },
    {
     "name": "stdout",
     "output_type": "stream",
     "text": [
      "EPOCH  11: Validation accuracy: 0.61, Validation Loss: 1.55357730, LRate 0.00034868 \n",
      "\n",
      "Best model and parameters saved at epoch 11\n",
      "\n",
      "Epoch 12/50\n"
     ]
    },
    {
     "name": "stderr",
     "output_type": "stream",
     "text": [
      "\n",
      "Training progress: 100%|█| 484/484 [00:57<00:00,  8.40it/s, Loss=tensor(1.3217),"
     ]
    },
    {
     "name": "stdout",
     "output_type": "stream",
     "text": [
      "EPOCH  12: Train accuracy: 0.64, Train Loss: 1.32168782, LRate 0.00031381 \n"
     ]
    },
    {
     "name": "stderr",
     "output_type": "stream",
     "text": [
      "\n",
      "Validation progress: 100%|█| 29/29 [00:20<00:00,  1.40it/s, Loss=tensor(1.5870),"
     ]
    },
    {
     "name": "stdout",
     "output_type": "stream",
     "text": [
      "EPOCH  12: Validation accuracy: 0.60, Validation Loss: 1.58698094, LRate 0.00031381 \n",
      "\n",
      "No improvement in loss for 1 epoch(s)\n",
      "\n",
      "Epoch 13/50\n"
     ]
    },
    {
     "name": "stderr",
     "output_type": "stream",
     "text": [
      "\n",
      "Training progress: 100%|█| 484/484 [00:57<00:00,  8.48it/s, Loss=tensor(1.2368),"
     ]
    },
    {
     "name": "stdout",
     "output_type": "stream",
     "text": [
      "EPOCH  13: Train accuracy: 0.66, Train Loss: 1.23675585, LRate 0.00028243 \n"
     ]
    },
    {
     "name": "stderr",
     "output_type": "stream",
     "text": [
      "\n",
      "Validation progress: 100%|█| 29/29 [00:20<00:00,  1.40it/s, Loss=tensor(1.4770),"
     ]
    },
    {
     "name": "stdout",
     "output_type": "stream",
     "text": [
      "EPOCH  13: Validation accuracy: 0.62, Validation Loss: 1.47700191, LRate 0.00028243 \n",
      "\n",
      "Best model and parameters saved at epoch 13\n",
      "\n",
      "Epoch 14/50\n"
     ]
    },
    {
     "name": "stderr",
     "output_type": "stream",
     "text": [
      "\n",
      "Training progress: 100%|█| 484/484 [00:57<00:00,  8.36it/s, Loss=tensor(1.1745),"
     ]
    },
    {
     "name": "stdout",
     "output_type": "stream",
     "text": [
      "EPOCH  14: Train accuracy: 0.68, Train Loss: 1.17453706, LRate 0.00025419 \n"
     ]
    },
    {
     "name": "stderr",
     "output_type": "stream",
     "text": [
      "\n",
      "Validation progress: 100%|█| 29/29 [00:20<00:00,  1.40it/s, Loss=tensor(1.4701),"
     ]
    },
    {
     "name": "stdout",
     "output_type": "stream",
     "text": [
      "EPOCH  14: Validation accuracy: 0.64, Validation Loss: 1.47010732, LRate 0.00025419 \n",
      "\n",
      "Best model and parameters saved at epoch 14\n",
      "\n",
      "Epoch 15/50\n"
     ]
    },
    {
     "name": "stderr",
     "output_type": "stream",
     "text": [
      "\n",
      "Training progress: 100%|█| 484/484 [00:57<00:00,  8.36it/s, Loss=tensor(1.0918),"
     ]
    },
    {
     "name": "stdout",
     "output_type": "stream",
     "text": [
      "EPOCH  15: Train accuracy: 0.70, Train Loss: 1.09176898, LRate 0.00022877 \n"
     ]
    },
    {
     "name": "stderr",
     "output_type": "stream",
     "text": [
      "\n",
      "Validation progress: 100%|█| 29/29 [00:20<00:00,  1.40it/s, Loss=tensor(1.4122),"
     ]
    },
    {
     "name": "stdout",
     "output_type": "stream",
     "text": [
      "EPOCH  15: Validation accuracy: 0.65, Validation Loss: 1.41223514, LRate 0.00022877 \n",
      "\n",
      "Best model and parameters saved at epoch 15\n",
      "\n",
      "Epoch 16/50\n"
     ]
    },
    {
     "name": "stderr",
     "output_type": "stream",
     "text": [
      "\n",
      "Training progress: 100%|█| 484/484 [00:57<00:00,  8.40it/s, Loss=tensor(1.0298),"
     ]
    },
    {
     "name": "stdout",
     "output_type": "stream",
     "text": [
      "EPOCH  16: Train accuracy: 0.71, Train Loss: 1.02984905, LRate 0.00020589 \n"
     ]
    },
    {
     "name": "stderr",
     "output_type": "stream",
     "text": [
      "\n",
      "Validation progress: 100%|█| 29/29 [00:20<00:00,  1.40it/s, Loss=tensor(1.5518),"
     ]
    },
    {
     "name": "stdout",
     "output_type": "stream",
     "text": [
      "EPOCH  16: Validation accuracy: 0.63, Validation Loss: 1.55180717, LRate 0.00020589 \n",
      "\n",
      "No improvement in loss for 1 epoch(s)\n",
      "\n",
      "Epoch 17/50\n"
     ]
    },
    {
     "name": "stderr",
     "output_type": "stream",
     "text": [
      "\n",
      "Training progress: 100%|█| 484/484 [00:57<00:00,  8.42it/s, Loss=tensor(0.9707),"
     ]
    },
    {
     "name": "stdout",
     "output_type": "stream",
     "text": [
      "EPOCH  17: Train accuracy: 0.73, Train Loss: 0.97070086, LRate 0.00018530 \n"
     ]
    },
    {
     "name": "stderr",
     "output_type": "stream",
     "text": [
      "\n",
      "Validation progress: 100%|█| 29/29 [00:20<00:00,  1.40it/s, Loss=tensor(1.3593),"
     ]
    },
    {
     "name": "stdout",
     "output_type": "stream",
     "text": [
      "EPOCH  17: Validation accuracy: 0.67, Validation Loss: 1.35932374, LRate 0.00018530 \n",
      "\n",
      "Best model and parameters saved at epoch 17\n",
      "\n",
      "Epoch 18/50\n"
     ]
    },
    {
     "name": "stderr",
     "output_type": "stream",
     "text": [
      "\n",
      "Training progress: 100%|█| 484/484 [00:58<00:00,  8.32it/s, Loss=tensor(0.9239),"
     ]
    },
    {
     "name": "stdout",
     "output_type": "stream",
     "text": [
      "EPOCH  18: Train accuracy: 0.74, Train Loss: 0.92393810, LRate 0.00016677 \n"
     ]
    },
    {
     "name": "stderr",
     "output_type": "stream",
     "text": [
      "\n",
      "Validation progress: 100%|█| 29/29 [00:23<00:00,  1.22it/s, Loss=tensor(1.3782),"
     ]
    },
    {
     "name": "stdout",
     "output_type": "stream",
     "text": [
      "EPOCH  18: Validation accuracy: 0.66, Validation Loss: 1.37821352, LRate 0.00016677 \n",
      "\n",
      "No improvement in loss for 1 epoch(s)\n",
      "\n",
      "Epoch 19/50\n"
     ]
    },
    {
     "name": "stderr",
     "output_type": "stream",
     "text": [
      "\n",
      "Training progress: 100%|█| 484/484 [01:11<00:00,  6.80it/s, Loss=tensor(0.8676),"
     ]
    },
    {
     "name": "stdout",
     "output_type": "stream",
     "text": [
      "EPOCH  19: Train accuracy: 0.76, Train Loss: 0.86755544, LRate 0.00015009 \n"
     ]
    },
    {
     "name": "stderr",
     "output_type": "stream",
     "text": [
      "\n",
      "Validation progress: 100%|█| 29/29 [00:20<00:00,  1.40it/s, Loss=tensor(1.3623),"
     ]
    },
    {
     "name": "stdout",
     "output_type": "stream",
     "text": [
      "EPOCH  19: Validation accuracy: 0.67, Validation Loss: 1.36229062, LRate 0.00015009 \n",
      "\n",
      "No improvement in loss for 2 epoch(s)\n",
      "\n",
      "Epoch 20/50\n"
     ]
    },
    {
     "name": "stderr",
     "output_type": "stream",
     "text": [
      "\n",
      "Training progress: 100%|█| 484/484 [00:58<00:00,  8.28it/s, Loss=tensor(0.8185),"
     ]
    },
    {
     "name": "stdout",
     "output_type": "stream",
     "text": [
      "EPOCH  20: Train accuracy: 0.77, Train Loss: 0.81854242, LRate 0.00013509 \n"
     ]
    },
    {
     "name": "stderr",
     "output_type": "stream",
     "text": [
      "\n",
      "Validation progress: 100%|█| 29/29 [00:20<00:00,  1.40it/s, Loss=tensor(1.3672),"
     ]
    },
    {
     "name": "stdout",
     "output_type": "stream",
     "text": [
      "EPOCH  20: Validation accuracy: 0.67, Validation Loss: 1.36717451, LRate 0.00013509 \n",
      "\n",
      "No improvement in loss for 3 epoch(s)\n",
      "\n",
      "Epoch 21/50\n"
     ]
    },
    {
     "name": "stderr",
     "output_type": "stream",
     "text": [
      "\n",
      "Training progress: 100%|█| 484/484 [00:57<00:00,  8.41it/s, Loss=tensor(0.7770),"
     ]
    },
    {
     "name": "stdout",
     "output_type": "stream",
     "text": [
      "EPOCH  21: Train accuracy: 0.78, Train Loss: 0.77701664, LRate 0.00012158 \n"
     ]
    },
    {
     "name": "stderr",
     "output_type": "stream",
     "text": [
      "\n",
      "Validation progress: 100%|█| 29/29 [00:20<00:00,  1.40it/s, Loss=tensor(1.3677),"
     ]
    },
    {
     "name": "stdout",
     "output_type": "stream",
     "text": [
      "EPOCH  21: Validation accuracy: 0.68, Validation Loss: 1.36773503, LRate 0.00012158 \n",
      "\n",
      "No improvement in loss for 4 epoch(s)\n",
      "\n",
      "Epoch 22/50\n"
     ]
    },
    {
     "name": "stderr",
     "output_type": "stream",
     "text": [
      "\n",
      "Training progress: 100%|█| 484/484 [00:57<00:00,  8.43it/s, Loss=tensor(0.7451),"
     ]
    },
    {
     "name": "stdout",
     "output_type": "stream",
     "text": [
      "EPOCH  22: Train accuracy: 0.79, Train Loss: 0.74510986, LRate 0.00010942 \n"
     ]
    },
    {
     "name": "stderr",
     "output_type": "stream",
     "text": [
      "\n",
      "Validation progress: 100%|█| 29/29 [00:20<00:00,  1.40it/s, Loss=tensor(1.3089),"
     ]
    },
    {
     "name": "stdout",
     "output_type": "stream",
     "text": [
      "EPOCH  22: Validation accuracy: 0.69, Validation Loss: 1.30888951, LRate 0.00010942 \n",
      "\n",
      "Best model and parameters saved at epoch 22\n",
      "\n",
      "Epoch 23/50\n"
     ]
    },
    {
     "name": "stderr",
     "output_type": "stream",
     "text": [
      "\n",
      "Training progress: 100%|█| 484/484 [00:57<00:00,  8.46it/s, Loss=tensor(0.7028),"
     ]
    },
    {
     "name": "stdout",
     "output_type": "stream",
     "text": [
      "EPOCH  23: Train accuracy: 0.80, Train Loss: 0.70284277, LRate 0.00009848 \n"
     ]
    },
    {
     "name": "stderr",
     "output_type": "stream",
     "text": [
      "\n",
      "Validation progress: 100%|█| 29/29 [00:20<00:00,  1.40it/s, Loss=tensor(1.3320),"
     ]
    },
    {
     "name": "stdout",
     "output_type": "stream",
     "text": [
      "EPOCH  23: Validation accuracy: 0.69, Validation Loss: 1.33197892, LRate 0.00009848 \n",
      "\n",
      "No improvement in loss for 1 epoch(s)\n",
      "\n",
      "Epoch 24/50\n"
     ]
    },
    {
     "name": "stderr",
     "output_type": "stream",
     "text": [
      "\n",
      "Training progress: 100%|█| 484/484 [00:56<00:00,  8.50it/s, Loss=tensor(0.6746),"
     ]
    },
    {
     "name": "stdout",
     "output_type": "stream",
     "text": [
      "EPOCH  24: Train accuracy: 0.81, Train Loss: 0.67461252, LRate 0.00008863 \n"
     ]
    },
    {
     "name": "stderr",
     "output_type": "stream",
     "text": [
      "\n",
      "Validation progress: 100%|█| 29/29 [00:20<00:00,  1.40it/s, Loss=tensor(1.3530),"
     ]
    },
    {
     "name": "stdout",
     "output_type": "stream",
     "text": [
      "EPOCH  24: Validation accuracy: 0.69, Validation Loss: 1.35296607, LRate 0.00008863 \n",
      "\n",
      "No improvement in loss for 2 epoch(s)\n",
      "\n",
      "Epoch 25/50\n"
     ]
    },
    {
     "name": "stderr",
     "output_type": "stream",
     "text": [
      "\n",
      "Training progress: 100%|█| 484/484 [00:57<00:00,  8.46it/s, Loss=tensor(0.6477),"
     ]
    },
    {
     "name": "stdout",
     "output_type": "stream",
     "text": [
      "EPOCH  25: Train accuracy: 0.82, Train Loss: 0.64771163, LRate 0.00007977 \n"
     ]
    },
    {
     "name": "stderr",
     "output_type": "stream",
     "text": [
      "\n",
      "Validation progress: 100%|█| 29/29 [00:20<00:00,  1.40it/s, Loss=tensor(1.3316),"
     ]
    },
    {
     "name": "stdout",
     "output_type": "stream",
     "text": [
      "EPOCH  25: Validation accuracy: 0.69, Validation Loss: 1.33161044, LRate 0.00007977 \n",
      "\n",
      "No improvement in loss for 3 epoch(s)\n",
      "\n",
      "Epoch 26/50\n"
     ]
    },
    {
     "name": "stderr",
     "output_type": "stream",
     "text": [
      "\n",
      "Training progress: 100%|█| 484/484 [00:57<00:00,  8.44it/s, Loss=tensor(0.6178),"
     ]
    },
    {
     "name": "stdout",
     "output_type": "stream",
     "text": [
      "EPOCH  26: Train accuracy: 0.82, Train Loss: 0.61782098, LRate 0.00007179 \n"
     ]
    },
    {
     "name": "stderr",
     "output_type": "stream",
     "text": [
      "\n",
      "Validation progress: 100%|█| 29/29 [00:20<00:00,  1.40it/s, Loss=tensor(1.3315),"
     ]
    },
    {
     "name": "stdout",
     "output_type": "stream",
     "text": [
      "EPOCH  26: Validation accuracy: 0.70, Validation Loss: 1.33153200, LRate 0.00007179 \n",
      "\n",
      "No improvement in loss for 4 epoch(s)\n",
      "\n",
      "Epoch 27/50\n"
     ]
    },
    {
     "name": "stderr",
     "output_type": "stream",
     "text": [
      "\n",
      "Training progress: 100%|█| 484/484 [00:57<00:00,  8.41it/s, Loss=tensor(0.5917),"
     ]
    },
    {
     "name": "stdout",
     "output_type": "stream",
     "text": [
      "EPOCH  27: Train accuracy: 0.83, Train Loss: 0.59174973, LRate 0.00006461 \n"
     ]
    },
    {
     "name": "stderr",
     "output_type": "stream",
     "text": [
      "\n",
      "Validation progress: 100%|█| 29/29 [00:20<00:00,  1.40it/s, Loss=tensor(1.3262),"
     ]
    },
    {
     "name": "stdout",
     "output_type": "stream",
     "text": [
      "EPOCH  27: Validation accuracy: 0.70, Validation Loss: 1.32623947, LRate 0.00006461 \n",
      "\n",
      "No improvement in loss for 5 epoch(s)\n",
      "\n",
      "Epoch 28/50\n"
     ]
    },
    {
     "name": "stderr",
     "output_type": "stream",
     "text": [
      "\n",
      "Training progress: 100%|█| 484/484 [00:58<00:00,  8.25it/s, Loss=tensor(0.5717),"
     ]
    },
    {
     "name": "stdout",
     "output_type": "stream",
     "text": [
      "EPOCH  28: Train accuracy: 0.84, Train Loss: 0.57170671, LRate 0.00005815 \n"
     ]
    },
    {
     "name": "stderr",
     "output_type": "stream",
     "text": [
      "\n",
      "Validation progress: 100%|█| 29/29 [00:23<00:00,  1.23it/s, Loss=tensor(1.3378),"
     ]
    },
    {
     "name": "stdout",
     "output_type": "stream",
     "text": [
      "EPOCH  28: Validation accuracy: 0.70, Validation Loss: 1.33781302, LRate 0.00005815 \n",
      "\n",
      "No improvement in loss for 6 epoch(s)\n",
      "\n",
      "Epoch 29/50\n"
     ]
    },
    {
     "name": "stderr",
     "output_type": "stream",
     "text": [
      "\n",
      "Training progress: 100%|█| 484/484 [01:09<00:00,  6.99it/s, Loss=tensor(0.5559),"
     ]
    },
    {
     "name": "stdout",
     "output_type": "stream",
     "text": [
      "EPOCH  29: Train accuracy: 0.84, Train Loss: 0.55590129, LRate 0.00005233 \n"
     ]
    },
    {
     "name": "stderr",
     "output_type": "stream",
     "text": [
      "\n",
      "Validation progress: 100%|█| 29/29 [00:20<00:00,  1.40it/s, Loss=tensor(1.3682),"
     ]
    },
    {
     "name": "stdout",
     "output_type": "stream",
     "text": [
      "EPOCH  29: Validation accuracy: 0.70, Validation Loss: 1.36822557, LRate 0.00005233 \n",
      "\n",
      "No improvement in loss for 7 epoch(s)\n",
      "\n",
      "Epoch 30/50\n"
     ]
    },
    {
     "name": "stderr",
     "output_type": "stream",
     "text": [
      "\n",
      "Training progress: 100%|█| 484/484 [00:59<00:00,  8.18it/s, Loss=tensor(0.5323),"
     ]
    },
    {
     "name": "stdout",
     "output_type": "stream",
     "text": [
      "EPOCH  30: Train accuracy: 0.85, Train Loss: 0.53226870, LRate 0.00004710 \n"
     ]
    },
    {
     "name": "stderr",
     "output_type": "stream",
     "text": [
      "\n",
      "Validation progress: 100%|█| 29/29 [00:20<00:00,  1.40it/s, Loss=tensor(1.3772),"
     ]
    },
    {
     "name": "stdout",
     "output_type": "stream",
     "text": [
      "EPOCH  30: Validation accuracy: 0.69, Validation Loss: 1.37724483, LRate 0.00004710 \n",
      "\n",
      "No improvement in loss for 8 epoch(s)\n",
      "\n",
      "Epoch 31/50\n"
     ]
    },
    {
     "name": "stderr",
     "output_type": "stream",
     "text": [
      "\n",
      "Training progress: 100%|█| 484/484 [00:58<00:00,  8.30it/s, Loss=tensor(0.5168),"
     ]
    },
    {
     "name": "stdout",
     "output_type": "stream",
     "text": [
      "EPOCH  31: Train accuracy: 0.85, Train Loss: 0.51680911, LRate 0.00004239 \n"
     ]
    },
    {
     "name": "stderr",
     "output_type": "stream",
     "text": [
      "\n",
      "Validation progress: 100%|█| 29/29 [00:20<00:00,  1.40it/s, Loss=tensor(1.3401),"
     ]
    },
    {
     "name": "stdout",
     "output_type": "stream",
     "text": [
      "EPOCH  31: Validation accuracy: 0.71, Validation Loss: 1.34009778, LRate 0.00004239 \n",
      "\n",
      "No improvement in loss for 9 epoch(s)\n",
      "\n",
      "Epoch 32/50\n"
     ]
    },
    {
     "name": "stderr",
     "output_type": "stream",
     "text": [
      "\n",
      "Training progress: 100%|█| 484/484 [00:57<00:00,  8.38it/s, Loss=tensor(0.5015),"
     ]
    },
    {
     "name": "stdout",
     "output_type": "stream",
     "text": [
      "EPOCH  32: Train accuracy: 0.86, Train Loss: 0.50145793, LRate 0.00003815 \n"
     ]
    },
    {
     "name": "stderr",
     "output_type": "stream",
     "text": [
      "\n",
      "Validation progress: 100%|█| 29/29 [00:20<00:00,  1.40it/s, Loss=tensor(1.3698),"
     ]
    },
    {
     "name": "stdout",
     "output_type": "stream",
     "text": [
      "EPOCH  32: Validation accuracy: 0.70, Validation Loss: 1.36977124, LRate 0.00003815 \n",
      "\n",
      "No improvement in loss for 10 epoch(s)\n",
      "Early stopping at epoch 32\n",
      "\n",
      "Retrieving best model saved at /Users/tgdimas1/git/CAS-AML-FINAL-PROJECT/notebooks/../src/../checkpoints/pytorch/HybridModel/HybridModel_best_model.ckpt\n"
     ]
    },
    {
     "name": "stderr",
     "output_type": "stream",
     "text": [
      "\n",
      "Testing progress: 100%|█████████████████████████| 57/57 [00:27<00:00,  2.11it/s]"
     ]
    }
   ],
   "source": [
    "trainer.train()\n",
    "trainer.test()"
   ]
  },
  {
   "cell_type": "code",
   "execution_count": null,
   "id": "935cec4b",
   "metadata": {},
   "outputs": [],
   "source": []
  }
 ],
 "metadata": {
  "kernelspec": {
   "display_name": "Python 3 (ipykernel)",
   "language": "python",
   "name": "python3"
  },
  "language_info": {
   "codemirror_mode": {
    "name": "ipython",
    "version": 3
   },
   "file_extension": ".py",
   "mimetype": "text/x-python",
   "name": "python",
   "nbconvert_exporter": "python",
   "pygments_lexer": "ipython3",
   "version": "3.10.11"
  }
 },
 "nbformat": 4,
 "nbformat_minor": 5
}
