{
 "cells": [
  {
   "cell_type": "code",
   "execution_count": 1,
   "id": "f0d499c0",
   "metadata": {
    "ExecuteTime": {
     "end_time": "2023-06-05T08:13:55.450592Z",
     "start_time": "2023-06-05T08:13:27.202473Z"
    },
    "scrolled": false
   },
   "outputs": [],
   "source": [
    "import sys\n",
    "\n",
    "sys.path.insert(0, '../src')\n",
    "\n",
    "from config import *\n",
    "import numpy as np\n",
    "from tqdm import tqdm\n",
    "\n",
    "import time\n",
    "\n",
    "from trainer import *"
   ]
  },
  {
   "cell_type": "code",
   "execution_count": 3,
   "id": "354cf673",
   "metadata": {
    "ExecuteTime": {
     "end_time": "2023-06-05T08:14:26.652786Z",
     "start_time": "2023-06-05T08:13:55.446573Z"
    },
    "scrolled": false
   },
   "outputs": [
    {
     "name": "stdout",
     "output_type": "stream",
     "text": [
      "Using model: models.pytorch.models.HybridEnsembleModel\n"
     ]
    }
   ],
   "source": [
    "trainer = Trainer(modelname='HybridEnsembleModel')"
   ]
  },
  {
   "cell_type": "code",
   "execution_count": 4,
   "id": "40ba2e57",
   "metadata": {
    "ExecuteTime": {
     "start_time": "2023-06-05T08:14:26.645470Z"
    },
    "is_executing": true,
    "scrolled": true
   },
   "outputs": [
    {
     "name": "stdout",
     "output_type": "stream",
     "text": [
      "Epoch 1/50\n"
     ]
    },
    {
     "name": "stderr",
     "output_type": "stream",
     "text": [
      "Training progress: 100%|█| 512/512 [02:41<00:00,  3.16it/s, Loss=tensor(4.2875),"
     ]
    },
    {
     "name": "stdout",
     "output_type": "stream",
     "text": [
      "EPOCH   1: Train accuracy: 0.09, Train Loss: 4.28745747, LRate 0.00100000 \n"
     ]
    },
    {
     "name": "stderr",
     "output_type": "stream",
     "text": [
      "\n",
      "Validation progress: 100%|█| 29/29 [00:22<00:00,  1.28it/s, Loss=tensor(3.4061),"
     ]
    },
    {
     "name": "stdout",
     "output_type": "stream",
     "text": [
      "EPOCH   1: Validation accuracy: 0.21, Validation Loss: 3.40605831, LRate 0.00100000 \n",
      "\n"
     ]
    },
    {
     "name": "stderr",
     "output_type": "stream",
     "text": [
      "\n"
     ]
    },
    {
     "name": "stdout",
     "output_type": "stream",
     "text": [
      "Best model and parameters saved at epoch 1\n",
      "\n",
      "Epoch 2/50\n"
     ]
    },
    {
     "name": "stderr",
     "output_type": "stream",
     "text": [
      "Training progress: 100%|█| 512/512 [02:41<00:00,  3.17it/s, Loss=tensor(2.9852),"
     ]
    },
    {
     "name": "stdout",
     "output_type": "stream",
     "text": [
      "EPOCH   2: Train accuracy: 0.27, Train Loss: 2.98519850, LRate 0.00095000 \n"
     ]
    },
    {
     "name": "stderr",
     "output_type": "stream",
     "text": [
      "\n",
      "Validation progress: 100%|█| 29/29 [00:22<00:00,  1.28it/s, Loss=tensor(2.7600),"
     ]
    },
    {
     "name": "stdout",
     "output_type": "stream",
     "text": [
      "EPOCH   2: Validation accuracy: 0.33, Validation Loss: 2.75996447, LRate 0.00095000 \n",
      "\n"
     ]
    },
    {
     "name": "stderr",
     "output_type": "stream",
     "text": [
      "\n"
     ]
    },
    {
     "name": "stdout",
     "output_type": "stream",
     "text": [
      "Best model and parameters saved at epoch 2\n",
      "\n",
      "Epoch 3/50\n"
     ]
    },
    {
     "name": "stderr",
     "output_type": "stream",
     "text": [
      "Training progress: 100%|█| 512/512 [02:41<00:00,  3.16it/s, Loss=tensor(2.4287),"
     ]
    },
    {
     "name": "stdout",
     "output_type": "stream",
     "text": [
      "EPOCH   3: Train accuracy: 0.39, Train Loss: 2.42873025, LRate 0.00090250 \n"
     ]
    },
    {
     "name": "stderr",
     "output_type": "stream",
     "text": [
      "\n",
      "Validation progress: 100%|█| 29/29 [00:22<00:00,  1.28it/s, Loss=tensor(2.2683),"
     ]
    },
    {
     "name": "stdout",
     "output_type": "stream",
     "text": [
      "EPOCH   3: Validation accuracy: 0.43, Validation Loss: 2.26829243, LRate 0.00090250 \n",
      "\n"
     ]
    },
    {
     "name": "stderr",
     "output_type": "stream",
     "text": [
      "\n"
     ]
    },
    {
     "name": "stdout",
     "output_type": "stream",
     "text": [
      "Best model and parameters saved at epoch 3\n",
      "\n",
      "Epoch 4/50\n"
     ]
    },
    {
     "name": "stderr",
     "output_type": "stream",
     "text": [
      "Training progress: 100%|█| 512/512 [02:42<00:00,  3.16it/s, Loss=tensor(2.0775),"
     ]
    },
    {
     "name": "stdout",
     "output_type": "stream",
     "text": [
      "EPOCH   4: Train accuracy: 0.47, Train Loss: 2.07746673, LRate 0.00085737 \n"
     ]
    },
    {
     "name": "stderr",
     "output_type": "stream",
     "text": [
      "\n",
      "Validation progress: 100%|█| 29/29 [00:22<00:00,  1.29it/s, Loss=tensor(2.0733),"
     ]
    },
    {
     "name": "stdout",
     "output_type": "stream",
     "text": [
      "EPOCH   4: Validation accuracy: 0.48, Validation Loss: 2.07334113, LRate 0.00085737 \n",
      "\n"
     ]
    },
    {
     "name": "stderr",
     "output_type": "stream",
     "text": [
      "\n"
     ]
    },
    {
     "name": "stdout",
     "output_type": "stream",
     "text": [
      "Best model and parameters saved at epoch 4\n",
      "\n",
      "Epoch 5/50\n"
     ]
    },
    {
     "name": "stderr",
     "output_type": "stream",
     "text": [
      "Training progress: 100%|█| 512/512 [02:41<00:00,  3.16it/s, Loss=tensor(1.8231),"
     ]
    },
    {
     "name": "stdout",
     "output_type": "stream",
     "text": [
      "EPOCH   5: Train accuracy: 0.53, Train Loss: 1.82312846, LRate 0.00081451 \n"
     ]
    },
    {
     "name": "stderr",
     "output_type": "stream",
     "text": [
      "\n",
      "Validation progress: 100%|█| 29/29 [00:22<00:00,  1.29it/s, Loss=tensor(1.8840),"
     ]
    },
    {
     "name": "stdout",
     "output_type": "stream",
     "text": [
      "EPOCH   5: Validation accuracy: 0.52, Validation Loss: 1.88400531, LRate 0.00081451 \n",
      "\n"
     ]
    },
    {
     "name": "stderr",
     "output_type": "stream",
     "text": [
      "\n"
     ]
    },
    {
     "name": "stdout",
     "output_type": "stream",
     "text": [
      "Best model and parameters saved at epoch 5\n",
      "\n",
      "Epoch 6/50\n"
     ]
    },
    {
     "name": "stderr",
     "output_type": "stream",
     "text": [
      "Training progress: 100%|█| 512/512 [02:42<00:00,  3.15it/s, Loss=tensor(1.6303),"
     ]
    },
    {
     "name": "stdout",
     "output_type": "stream",
     "text": [
      "EPOCH   6: Train accuracy: 0.57, Train Loss: 1.63025641, LRate 0.00077378 \n"
     ]
    },
    {
     "name": "stderr",
     "output_type": "stream",
     "text": [
      "\n",
      "Validation progress: 100%|█| 29/29 [00:22<00:00,  1.29it/s, Loss=tensor(1.8194),"
     ]
    },
    {
     "name": "stdout",
     "output_type": "stream",
     "text": [
      "EPOCH   6: Validation accuracy: 0.54, Validation Loss: 1.81938171, LRate 0.00077378 \n",
      "\n"
     ]
    },
    {
     "name": "stderr",
     "output_type": "stream",
     "text": [
      "\n"
     ]
    },
    {
     "name": "stdout",
     "output_type": "stream",
     "text": [
      "Best model and parameters saved at epoch 6\n",
      "\n",
      "Epoch 7/50\n"
     ]
    },
    {
     "name": "stderr",
     "output_type": "stream",
     "text": [
      "Training progress: 100%|█| 512/512 [02:42<00:00,  3.14it/s, Loss=tensor(1.4733),"
     ]
    },
    {
     "name": "stdout",
     "output_type": "stream",
     "text": [
      "EPOCH   7: Train accuracy: 0.61, Train Loss: 1.47329760, LRate 0.00073509 \n"
     ]
    },
    {
     "name": "stderr",
     "output_type": "stream",
     "text": [
      "\n",
      "Validation progress: 100%|█| 29/29 [00:22<00:00,  1.29it/s, Loss=tensor(1.5966),"
     ]
    },
    {
     "name": "stdout",
     "output_type": "stream",
     "text": [
      "EPOCH   7: Validation accuracy: 0.58, Validation Loss: 1.59657025, LRate 0.00073509 \n",
      "\n"
     ]
    },
    {
     "name": "stderr",
     "output_type": "stream",
     "text": [
      "\n"
     ]
    },
    {
     "name": "stdout",
     "output_type": "stream",
     "text": [
      "Best model and parameters saved at epoch 7\n",
      "\n",
      "Epoch 8/50\n"
     ]
    },
    {
     "name": "stderr",
     "output_type": "stream",
     "text": [
      "Training progress: 100%|█| 512/512 [02:42<00:00,  3.15it/s, Loss=tensor(1.3442),"
     ]
    },
    {
     "name": "stdout",
     "output_type": "stream",
     "text": [
      "EPOCH   8: Train accuracy: 0.64, Train Loss: 1.34421754, LRate 0.00069834 \n"
     ]
    },
    {
     "name": "stderr",
     "output_type": "stream",
     "text": [
      "\n",
      "Validation progress: 100%|█| 29/29 [00:22<00:00,  1.29it/s, Loss=tensor(1.6028),"
     ]
    },
    {
     "name": "stdout",
     "output_type": "stream",
     "text": [
      "EPOCH   8: Validation accuracy: 0.58, Validation Loss: 1.60275626, LRate 0.00069834 \n",
      "\n",
      "No improvement in loss for 1 epoch(s)\n",
      "\n",
      "Epoch 9/50\n"
     ]
    },
    {
     "name": "stderr",
     "output_type": "stream",
     "text": [
      "\n",
      "Training progress: 100%|█| 512/512 [02:40<00:00,  3.18it/s, Loss=tensor(1.2323),"
     ]
    },
    {
     "name": "stdout",
     "output_type": "stream",
     "text": [
      "EPOCH   9: Train accuracy: 0.66, Train Loss: 1.23234248, LRate 0.00066342 \n"
     ]
    },
    {
     "name": "stderr",
     "output_type": "stream",
     "text": [
      "\n",
      "Validation progress: 100%|█| 29/29 [00:22<00:00,  1.28it/s, Loss=tensor(1.5090),"
     ]
    },
    {
     "name": "stdout",
     "output_type": "stream",
     "text": [
      "EPOCH   9: Validation accuracy: 0.61, Validation Loss: 1.50898504, LRate 0.00066342 \n",
      "\n"
     ]
    },
    {
     "name": "stderr",
     "output_type": "stream",
     "text": [
      "\n"
     ]
    },
    {
     "name": "stdout",
     "output_type": "stream",
     "text": [
      "Best model and parameters saved at epoch 9\n",
      "\n",
      "Epoch 10/50\n"
     ]
    },
    {
     "name": "stderr",
     "output_type": "stream",
     "text": [
      "Training progress: 100%|█| 512/512 [02:41<00:00,  3.16it/s, Loss=tensor(1.1327),"
     ]
    },
    {
     "name": "stdout",
     "output_type": "stream",
     "text": [
      "EPOCH  10: Train accuracy: 0.69, Train Loss: 1.13268805, LRate 0.00063025 \n"
     ]
    },
    {
     "name": "stderr",
     "output_type": "stream",
     "text": [
      "\n",
      "Validation progress: 100%|█| 29/29 [00:22<00:00,  1.29it/s, Loss=tensor(1.4375),"
     ]
    },
    {
     "name": "stdout",
     "output_type": "stream",
     "text": [
      "EPOCH  10: Validation accuracy: 0.64, Validation Loss: 1.43752456, LRate 0.00063025 \n",
      "\n"
     ]
    },
    {
     "name": "stderr",
     "output_type": "stream",
     "text": [
      "\n"
     ]
    },
    {
     "name": "stdout",
     "output_type": "stream",
     "text": [
      "Best model and parameters saved at epoch 10\n",
      "\n",
      "Epoch 11/50\n"
     ]
    },
    {
     "name": "stderr",
     "output_type": "stream",
     "text": [
      "Training progress: 100%|█| 512/512 [02:41<00:00,  3.16it/s, Loss=tensor(1.0426),"
     ]
    },
    {
     "name": "stdout",
     "output_type": "stream",
     "text": [
      "EPOCH  11: Train accuracy: 0.71, Train Loss: 1.04258215, LRate 0.00059874 \n"
     ]
    },
    {
     "name": "stderr",
     "output_type": "stream",
     "text": [
      "\n",
      "Validation progress: 100%|█| 29/29 [00:22<00:00,  1.28it/s, Loss=tensor(1.3671),"
     ]
    },
    {
     "name": "stdout",
     "output_type": "stream",
     "text": [
      "EPOCH  11: Validation accuracy: 0.66, Validation Loss: 1.36709857, LRate 0.00059874 \n",
      "\n"
     ]
    },
    {
     "name": "stderr",
     "output_type": "stream",
     "text": [
      "\n"
     ]
    },
    {
     "name": "stdout",
     "output_type": "stream",
     "text": [
      "Best model and parameters saved at epoch 11\n",
      "\n",
      "Epoch 12/50\n"
     ]
    },
    {
     "name": "stderr",
     "output_type": "stream",
     "text": [
      "Training progress: 100%|█| 512/512 [02:41<00:00,  3.16it/s, Loss=tensor(0.9625),"
     ]
    },
    {
     "name": "stdout",
     "output_type": "stream",
     "text": [
      "EPOCH  12: Train accuracy: 0.73, Train Loss: 0.96246308, LRate 0.00056880 \n"
     ]
    },
    {
     "name": "stderr",
     "output_type": "stream",
     "text": [
      "\n",
      "Validation progress: 100%|█| 29/29 [00:22<00:00,  1.29it/s, Loss=tensor(1.3599),"
     ]
    },
    {
     "name": "stdout",
     "output_type": "stream",
     "text": [
      "EPOCH  12: Validation accuracy: 0.67, Validation Loss: 1.35989261, LRate 0.00056880 \n",
      "\n"
     ]
    },
    {
     "name": "stderr",
     "output_type": "stream",
     "text": [
      "\n"
     ]
    },
    {
     "name": "stdout",
     "output_type": "stream",
     "text": [
      "Best model and parameters saved at epoch 12\n",
      "\n",
      "Epoch 13/50\n"
     ]
    },
    {
     "name": "stderr",
     "output_type": "stream",
     "text": [
      "Training progress: 100%|█| 512/512 [02:41<00:00,  3.17it/s, Loss=tensor(0.8888),"
     ]
    },
    {
     "name": "stdout",
     "output_type": "stream",
     "text": [
      "EPOCH  13: Train accuracy: 0.75, Train Loss: 0.88878584, LRate 0.00054036 \n"
     ]
    },
    {
     "name": "stderr",
     "output_type": "stream",
     "text": [
      "\n",
      "Validation progress: 100%|█| 29/29 [00:22<00:00,  1.29it/s, Loss=tensor(1.3593),"
     ]
    },
    {
     "name": "stdout",
     "output_type": "stream",
     "text": [
      "EPOCH  13: Validation accuracy: 0.66, Validation Loss: 1.35931766, LRate 0.00054036 \n",
      "\n"
     ]
    },
    {
     "name": "stderr",
     "output_type": "stream",
     "text": [
      "\n"
     ]
    },
    {
     "name": "stdout",
     "output_type": "stream",
     "text": [
      "Best model and parameters saved at epoch 13\n",
      "\n",
      "Epoch 14/50\n"
     ]
    },
    {
     "name": "stderr",
     "output_type": "stream",
     "text": [
      "Training progress: 100%|█| 512/512 [02:41<00:00,  3.17it/s, Loss=tensor(0.8115),"
     ]
    },
    {
     "name": "stdout",
     "output_type": "stream",
     "text": [
      "EPOCH  14: Train accuracy: 0.77, Train Loss: 0.81146872, LRate 0.00051334 \n"
     ]
    },
    {
     "name": "stderr",
     "output_type": "stream",
     "text": [
      "\n",
      "Validation progress: 100%|█| 29/29 [00:22<00:00,  1.30it/s, Loss=tensor(1.3297),"
     ]
    },
    {
     "name": "stdout",
     "output_type": "stream",
     "text": [
      "EPOCH  14: Validation accuracy: 0.69, Validation Loss: 1.32971287, LRate 0.00051334 \n",
      "\n"
     ]
    },
    {
     "name": "stderr",
     "output_type": "stream",
     "text": [
      "\n"
     ]
    },
    {
     "name": "stdout",
     "output_type": "stream",
     "text": [
      "Best model and parameters saved at epoch 14\n",
      "\n",
      "Epoch 15/50\n"
     ]
    },
    {
     "name": "stderr",
     "output_type": "stream",
     "text": [
      "Training progress: 100%|█| 512/512 [02:42<00:00,  3.16it/s, Loss=tensor(0.7490),"
     ]
    },
    {
     "name": "stdout",
     "output_type": "stream",
     "text": [
      "EPOCH  15: Train accuracy: 0.78, Train Loss: 0.74898553, LRate 0.00048767 \n"
     ]
    },
    {
     "name": "stderr",
     "output_type": "stream",
     "text": [
      "\n",
      "Validation progress: 100%|█| 29/29 [00:22<00:00,  1.30it/s, Loss=tensor(1.3682),"
     ]
    },
    {
     "name": "stdout",
     "output_type": "stream",
     "text": [
      "EPOCH  15: Validation accuracy: 0.68, Validation Loss: 1.36821580, LRate 0.00048767 \n",
      "\n",
      "No improvement in loss for 1 epoch(s)\n",
      "\n",
      "Epoch 16/50\n"
     ]
    },
    {
     "name": "stderr",
     "output_type": "stream",
     "text": [
      "\n",
      "Training progress: 100%|█| 512/512 [02:42<00:00,  3.15it/s, Loss=tensor(0.6813),"
     ]
    },
    {
     "name": "stdout",
     "output_type": "stream",
     "text": [
      "EPOCH  16: Train accuracy: 0.80, Train Loss: 0.68134224, LRate 0.00046329 \n"
     ]
    },
    {
     "name": "stderr",
     "output_type": "stream",
     "text": [
      "\n",
      "Validation progress: 100%|█| 29/29 [00:22<00:00,  1.29it/s, Loss=tensor(1.4109),"
     ]
    },
    {
     "name": "stdout",
     "output_type": "stream",
     "text": [
      "EPOCH  16: Validation accuracy: 0.69, Validation Loss: 1.41088283, LRate 0.00046329 \n",
      "\n",
      "No improvement in loss for 2 epoch(s)\n",
      "\n",
      "Epoch 17/50\n"
     ]
    },
    {
     "name": "stderr",
     "output_type": "stream",
     "text": [
      "\n",
      "Training progress: 100%|█| 512/512 [02:42<00:00,  3.15it/s, Loss=tensor(0.6321),"
     ]
    },
    {
     "name": "stdout",
     "output_type": "stream",
     "text": [
      "EPOCH  17: Train accuracy: 0.81, Train Loss: 0.63210088, LRate 0.00044013 \n"
     ]
    },
    {
     "name": "stderr",
     "output_type": "stream",
     "text": [
      "\n",
      "Validation progress: 100%|█| 29/29 [00:22<00:00,  1.29it/s, Loss=tensor(1.3289),"
     ]
    },
    {
     "name": "stdout",
     "output_type": "stream",
     "text": [
      "EPOCH  17: Validation accuracy: 0.70, Validation Loss: 1.32885575, LRate 0.00044013 \n",
      "\n"
     ]
    },
    {
     "name": "stderr",
     "output_type": "stream",
     "text": [
      "\n"
     ]
    },
    {
     "name": "stdout",
     "output_type": "stream",
     "text": [
      "Best model and parameters saved at epoch 17\n",
      "\n",
      "Epoch 18/50\n"
     ]
    },
    {
     "name": "stderr",
     "output_type": "stream",
     "text": [
      "Training progress: 100%|█| 512/512 [02:41<00:00,  3.16it/s, Loss=tensor(0.5786),"
     ]
    },
    {
     "name": "stdout",
     "output_type": "stream",
     "text": [
      "EPOCH  18: Train accuracy: 0.83, Train Loss: 0.57860935, LRate 0.00041812 \n"
     ]
    },
    {
     "name": "stderr",
     "output_type": "stream",
     "text": [
      "\n",
      "Validation progress: 100%|█| 29/29 [00:22<00:00,  1.29it/s, Loss=tensor(1.4089),"
     ]
    },
    {
     "name": "stdout",
     "output_type": "stream",
     "text": [
      "EPOCH  18: Validation accuracy: 0.69, Validation Loss: 1.40892899, LRate 0.00041812 \n",
      "\n",
      "No improvement in loss for 1 epoch(s)\n",
      "\n",
      "Epoch 19/50\n"
     ]
    },
    {
     "name": "stderr",
     "output_type": "stream",
     "text": [
      "\n",
      "Training progress: 100%|█| 512/512 [02:42<00:00,  3.15it/s, Loss=tensor(0.5371),"
     ]
    },
    {
     "name": "stdout",
     "output_type": "stream",
     "text": [
      "EPOCH  19: Train accuracy: 0.84, Train Loss: 0.53705072, LRate 0.00039721 \n"
     ]
    },
    {
     "name": "stderr",
     "output_type": "stream",
     "text": [
      "\n",
      "Validation progress: 100%|█| 29/29 [00:22<00:00,  1.29it/s, Loss=tensor(1.3866),"
     ]
    },
    {
     "name": "stdout",
     "output_type": "stream",
     "text": [
      "EPOCH  19: Validation accuracy: 0.70, Validation Loss: 1.38655043, LRate 0.00039721 \n",
      "\n",
      "No improvement in loss for 2 epoch(s)\n",
      "\n",
      "Epoch 20/50\n"
     ]
    },
    {
     "name": "stderr",
     "output_type": "stream",
     "text": [
      "\n",
      "Training progress: 100%|█| 512/512 [02:42<00:00,  3.15it/s, Loss=tensor(0.4880),"
     ]
    },
    {
     "name": "stdout",
     "output_type": "stream",
     "text": [
      "EPOCH  20: Train accuracy: 0.85, Train Loss: 0.48798755, LRate 0.00037735 \n"
     ]
    },
    {
     "name": "stderr",
     "output_type": "stream",
     "text": [
      "\n",
      "Validation progress: 100%|█| 29/29 [00:22<00:00,  1.28it/s, Loss=tensor(1.4496),"
     ]
    },
    {
     "name": "stdout",
     "output_type": "stream",
     "text": [
      "EPOCH  20: Validation accuracy: 0.71, Validation Loss: 1.44957876, LRate 0.00037735 \n",
      "\n",
      "No improvement in loss for 3 epoch(s)\n",
      "\n",
      "Epoch 21/50\n"
     ]
    },
    {
     "name": "stderr",
     "output_type": "stream",
     "text": [
      "\n",
      "Training progress: 100%|█| 512/512 [02:42<00:00,  3.15it/s, Loss=tensor(0.4444),"
     ]
    },
    {
     "name": "stdout",
     "output_type": "stream",
     "text": [
      "EPOCH  21: Train accuracy: 0.86, Train Loss: 0.44442612, LRate 0.00035849 \n"
     ]
    },
    {
     "name": "stderr",
     "output_type": "stream",
     "text": [
      "\n",
      "Validation progress: 100%|█| 29/29 [00:22<00:00,  1.28it/s, Loss=tensor(1.4334),"
     ]
    },
    {
     "name": "stdout",
     "output_type": "stream",
     "text": [
      "EPOCH  21: Validation accuracy: 0.72, Validation Loss: 1.43339062, LRate 0.00035849 \n",
      "\n",
      "No improvement in loss for 4 epoch(s)\n",
      "\n",
      "Epoch 22/50\n"
     ]
    },
    {
     "name": "stderr",
     "output_type": "stream",
     "text": [
      "\n",
      "Training progress: 100%|█| 512/512 [02:41<00:00,  3.17it/s, Loss=tensor(0.4065),"
     ]
    },
    {
     "name": "stdout",
     "output_type": "stream",
     "text": [
      "EPOCH  22: Train accuracy: 0.88, Train Loss: 0.40647978, LRate 0.00034056 \n"
     ]
    },
    {
     "name": "stderr",
     "output_type": "stream",
     "text": [
      "\n",
      "Validation progress: 100%|█| 29/29 [00:22<00:00,  1.28it/s, Loss=tensor(1.5221),"
     ]
    },
    {
     "name": "stdout",
     "output_type": "stream",
     "text": [
      "EPOCH  22: Validation accuracy: 0.70, Validation Loss: 1.52205646, LRate 0.00034056 \n",
      "\n",
      "No improvement in loss for 5 epoch(s)\n",
      "\n",
      "Epoch 23/50\n"
     ]
    },
    {
     "name": "stderr",
     "output_type": "stream",
     "text": [
      "\n",
      "Training progress: 100%|█| 512/512 [02:41<00:00,  3.17it/s, Loss=tensor(0.3734),"
     ]
    },
    {
     "name": "stdout",
     "output_type": "stream",
     "text": [
      "EPOCH  23: Train accuracy: 0.88, Train Loss: 0.37339398, LRate 0.00032353 \n"
     ]
    },
    {
     "name": "stderr",
     "output_type": "stream",
     "text": [
      "\n",
      "Validation progress: 100%|█| 29/29 [00:22<00:00,  1.29it/s, Loss=tensor(1.4994),"
     ]
    },
    {
     "name": "stdout",
     "output_type": "stream",
     "text": [
      "EPOCH  23: Validation accuracy: 0.71, Validation Loss: 1.49935579, LRate 0.00032353 \n",
      "\n",
      "No improvement in loss for 6 epoch(s)\n",
      "\n",
      "Epoch 24/50\n"
     ]
    },
    {
     "name": "stderr",
     "output_type": "stream",
     "text": [
      "\n",
      "Training progress: 100%|█| 512/512 [02:41<00:00,  3.17it/s, Loss=tensor(0.3409),"
     ]
    },
    {
     "name": "stdout",
     "output_type": "stream",
     "text": [
      "EPOCH  24: Train accuracy: 0.89, Train Loss: 0.34093228, LRate 0.00030736 \n"
     ]
    },
    {
     "name": "stderr",
     "output_type": "stream",
     "text": [
      "\n",
      "Validation progress: 100%|█| 29/29 [00:22<00:00,  1.29it/s, Loss=tensor(1.6382),"
     ]
    },
    {
     "name": "stdout",
     "output_type": "stream",
     "text": [
      "EPOCH  24: Validation accuracy: 0.70, Validation Loss: 1.63820541, LRate 0.00030736 \n",
      "\n",
      "No improvement in loss for 7 epoch(s)\n",
      "\n",
      "Epoch 25/50\n"
     ]
    },
    {
     "name": "stderr",
     "output_type": "stream",
     "text": [
      "\n",
      "Training progress: 100%|█| 512/512 [02:42<00:00,  3.16it/s, Loss=tensor(0.3075),"
     ]
    },
    {
     "name": "stdout",
     "output_type": "stream",
     "text": [
      "EPOCH  25: Train accuracy: 0.90, Train Loss: 0.30753964, LRate 0.00029199 \n"
     ]
    },
    {
     "name": "stderr",
     "output_type": "stream",
     "text": [
      "\n",
      "Validation progress: 100%|█| 29/29 [00:22<00:00,  1.29it/s, Loss=tensor(1.6561),"
     ]
    },
    {
     "name": "stdout",
     "output_type": "stream",
     "text": [
      "EPOCH  25: Validation accuracy: 0.70, Validation Loss: 1.65614855, LRate 0.00029199 \n",
      "\n",
      "No improvement in loss for 8 epoch(s)\n",
      "\n",
      "Epoch 26/50\n"
     ]
    },
    {
     "name": "stderr",
     "output_type": "stream",
     "text": [
      "\n",
      "Training progress: 100%|█| 512/512 [02:42<00:00,  3.15it/s, Loss=tensor(0.2825),"
     ]
    },
    {
     "name": "stdout",
     "output_type": "stream",
     "text": [
      "EPOCH  26: Train accuracy: 0.91, Train Loss: 0.28246456, LRate 0.00027739 \n"
     ]
    },
    {
     "name": "stderr",
     "output_type": "stream",
     "text": [
      "\n",
      "Validation progress: 100%|█| 29/29 [00:22<00:00,  1.29it/s, Loss=tensor(1.6376),"
     ]
    },
    {
     "name": "stdout",
     "output_type": "stream",
     "text": [
      "EPOCH  26: Validation accuracy: 0.70, Validation Loss: 1.63763022, LRate 0.00027739 \n",
      "\n",
      "No improvement in loss for 9 epoch(s)\n",
      "\n",
      "Epoch 27/50\n"
     ]
    },
    {
     "name": "stderr",
     "output_type": "stream",
     "text": [
      "\n",
      "Training progress: 100%|█| 512/512 [02:41<00:00,  3.17it/s, Loss=tensor(0.2637),"
     ]
    },
    {
     "name": "stdout",
     "output_type": "stream",
     "text": [
      "EPOCH  27: Train accuracy: 0.92, Train Loss: 0.26371342, LRate 0.00026352 \n"
     ]
    },
    {
     "name": "stderr",
     "output_type": "stream",
     "text": [
      "\n",
      "Validation progress: 100%|█| 29/29 [00:22<00:00,  1.28it/s, Loss=tensor(1.6341),"
     ]
    },
    {
     "name": "stdout",
     "output_type": "stream",
     "text": [
      "EPOCH  27: Validation accuracy: 0.71, Validation Loss: 1.63411736, LRate 0.00026352 \n",
      "\n"
     ]
    },
    {
     "name": "stderr",
     "output_type": "stream",
     "text": [
      "\n"
     ]
    },
    {
     "name": "stdout",
     "output_type": "stream",
     "text": [
      "No improvement in loss for 10 epoch(s)\n",
      "Early stopping at epoch 27\n",
      "\n",
      "Retrieving best model saved at /Users/tgdimas1/git/CAS-AML-FINAL-PROJECT/notebooks/../src/../checkpoints/pytorch/HybridEnsembleModel/HybridEnsembleModel_best_model.ckpt\n"
     ]
    },
    {
     "name": "stderr",
     "output_type": "stream",
     "text": [
      "Testing progress: 100%|█████████████████████████| 29/29 [00:22<00:00,  1.27it/s]"
     ]
    },
    {
     "name": "stdout",
     "output_type": "stream",
     "text": [
      "EPOCH  27: Test accuracy: 0.70, Test Loss: 1.26362407, LRate 0.00044013 \n",
      "\n",
      "\n"
     ]
    },
    {
     "name": "stderr",
     "output_type": "stream",
     "text": [
      "\n"
     ]
    }
   ],
   "source": [
    "trainer.train()\n",
    "trainer.test()\n",
    "print()"
   ]
  },
  {
   "cell_type": "code",
   "execution_count": 5,
   "id": "8963c0fe",
   "metadata": {
    "scrolled": false
   },
   "outputs": [
    {
     "name": "stdout",
     "output_type": "stream",
     "text": [
      "Using model: models.pytorch.models.TransformerEnsemble\n"
     ]
    }
   ],
   "source": [
    "trainer = Trainer(modelname='TransformerEnsemble')"
   ]
  },
  {
   "cell_type": "code",
   "execution_count": 6,
   "id": "7042e0eb",
   "metadata": {
    "scrolled": true
   },
   "outputs": [
    {
     "name": "stdout",
     "output_type": "stream",
     "text": [
      "Epoch 1/50\n"
     ]
    },
    {
     "name": "stderr",
     "output_type": "stream",
     "text": [
      "Training progress: 100%|█| 512/512 [02:20<00:00,  3.63it/s, Loss=tensor(4.7364),"
     ]
    },
    {
     "name": "stdout",
     "output_type": "stream",
     "text": [
      "EPOCH   1: Train accuracy: 0.06, Train Loss: 4.73640394, LRate 0.00110000 \n"
     ]
    },
    {
     "name": "stderr",
     "output_type": "stream",
     "text": [
      "\n",
      "Validation progress: 100%|█| 29/29 [00:21<00:00,  1.32it/s, Loss=tensor(3.9383),"
     ]
    },
    {
     "name": "stdout",
     "output_type": "stream",
     "text": [
      "EPOCH   1: Validation accuracy: 0.13, Validation Loss: 3.93828392, LRate 0.00110000 \n",
      "\n"
     ]
    },
    {
     "name": "stderr",
     "output_type": "stream",
     "text": [
      "\n"
     ]
    },
    {
     "name": "stdout",
     "output_type": "stream",
     "text": [
      "Best model and parameters saved at epoch 1\n",
      "\n",
      "Epoch 2/50\n"
     ]
    },
    {
     "name": "stderr",
     "output_type": "stream",
     "text": [
      "Training progress: 100%|█| 512/512 [02:21<00:00,  3.62it/s, Loss=tensor(3.3916),"
     ]
    },
    {
     "name": "stdout",
     "output_type": "stream",
     "text": [
      "EPOCH   2: Train accuracy: 0.21, Train Loss: 3.39161277, LRate 0.00099000 \n"
     ]
    },
    {
     "name": "stderr",
     "output_type": "stream",
     "text": [
      "\n",
      "Validation progress: 100%|█| 29/29 [00:21<00:00,  1.32it/s, Loss=tensor(3.1374),"
     ]
    },
    {
     "name": "stdout",
     "output_type": "stream",
     "text": [
      "EPOCH   2: Validation accuracy: 0.26, Validation Loss: 3.13744164, LRate 0.00099000 \n",
      "\n"
     ]
    },
    {
     "name": "stderr",
     "output_type": "stream",
     "text": [
      "\n"
     ]
    },
    {
     "name": "stdout",
     "output_type": "stream",
     "text": [
      "Best model and parameters saved at epoch 2\n",
      "\n",
      "Epoch 3/50\n"
     ]
    },
    {
     "name": "stderr",
     "output_type": "stream",
     "text": [
      "Training progress: 100%|█| 512/512 [02:21<00:00,  3.61it/s, Loss=tensor(2.8276),"
     ]
    },
    {
     "name": "stdout",
     "output_type": "stream",
     "text": [
      "EPOCH   3: Train accuracy: 0.32, Train Loss: 2.82757139, LRate 0.00089100 \n"
     ]
    },
    {
     "name": "stderr",
     "output_type": "stream",
     "text": [
      "\n",
      "Validation progress: 100%|█| 29/29 [00:21<00:00,  1.32it/s, Loss=tensor(2.7021),"
     ]
    },
    {
     "name": "stdout",
     "output_type": "stream",
     "text": [
      "EPOCH   3: Validation accuracy: 0.33, Validation Loss: 2.70206213, LRate 0.00089100 \n",
      "\n"
     ]
    },
    {
     "name": "stderr",
     "output_type": "stream",
     "text": [
      "\n"
     ]
    },
    {
     "name": "stdout",
     "output_type": "stream",
     "text": [
      "Best model and parameters saved at epoch 3\n",
      "\n",
      "Epoch 4/50\n"
     ]
    },
    {
     "name": "stderr",
     "output_type": "stream",
     "text": [
      "Training progress: 100%|█| 512/512 [02:20<00:00,  3.66it/s, Loss=tensor(2.4236),"
     ]
    },
    {
     "name": "stdout",
     "output_type": "stream",
     "text": [
      "EPOCH   4: Train accuracy: 0.40, Train Loss: 2.42361999, LRate 0.00080190 \n"
     ]
    },
    {
     "name": "stderr",
     "output_type": "stream",
     "text": [
      "\n",
      "Validation progress: 100%|█| 29/29 [00:21<00:00,  1.32it/s, Loss=tensor(2.4837),"
     ]
    },
    {
     "name": "stdout",
     "output_type": "stream",
     "text": [
      "EPOCH   4: Validation accuracy: 0.38, Validation Loss: 2.48366022, LRate 0.00080190 \n",
      "\n"
     ]
    },
    {
     "name": "stderr",
     "output_type": "stream",
     "text": [
      "\n"
     ]
    },
    {
     "name": "stdout",
     "output_type": "stream",
     "text": [
      "Best model and parameters saved at epoch 4\n",
      "\n",
      "Epoch 5/50\n"
     ]
    },
    {
     "name": "stderr",
     "output_type": "stream",
     "text": [
      "Training progress: 100%|█| 512/512 [02:20<00:00,  3.64it/s, Loss=tensor(2.1093),"
     ]
    },
    {
     "name": "stdout",
     "output_type": "stream",
     "text": [
      "EPOCH   5: Train accuracy: 0.47, Train Loss: 2.10926676, LRate 0.00072171 \n"
     ]
    },
    {
     "name": "stderr",
     "output_type": "stream",
     "text": [
      "\n",
      "Validation progress: 100%|█| 29/29 [00:21<00:00,  1.32it/s, Loss=tensor(2.1843),"
     ]
    },
    {
     "name": "stdout",
     "output_type": "stream",
     "text": [
      "EPOCH   5: Validation accuracy: 0.45, Validation Loss: 2.18428826, LRate 0.00072171 \n",
      "\n"
     ]
    },
    {
     "name": "stderr",
     "output_type": "stream",
     "text": [
      "\n"
     ]
    },
    {
     "name": "stdout",
     "output_type": "stream",
     "text": [
      "Best model and parameters saved at epoch 5\n",
      "\n",
      "Epoch 6/50\n"
     ]
    },
    {
     "name": "stderr",
     "output_type": "stream",
     "text": [
      "Training progress: 100%|█| 512/512 [02:20<00:00,  3.64it/s, Loss=tensor(1.8982),"
     ]
    },
    {
     "name": "stdout",
     "output_type": "stream",
     "text": [
      "EPOCH   6: Train accuracy: 0.51, Train Loss: 1.89824390, LRate 0.00064954 \n"
     ]
    },
    {
     "name": "stderr",
     "output_type": "stream",
     "text": [
      "\n",
      "Validation progress: 100%|█| 29/29 [00:21<00:00,  1.32it/s, Loss=tensor(2.0210),"
     ]
    },
    {
     "name": "stdout",
     "output_type": "stream",
     "text": [
      "EPOCH   6: Validation accuracy: 0.48, Validation Loss: 2.02104855, LRate 0.00064954 \n",
      "\n"
     ]
    },
    {
     "name": "stderr",
     "output_type": "stream",
     "text": [
      "\n"
     ]
    },
    {
     "name": "stdout",
     "output_type": "stream",
     "text": [
      "Best model and parameters saved at epoch 6\n",
      "\n",
      "Epoch 7/50\n"
     ]
    },
    {
     "name": "stderr",
     "output_type": "stream",
     "text": [
      "Training progress: 100%|█| 512/512 [02:20<00:00,  3.64it/s, Loss=tensor(1.6959),"
     ]
    },
    {
     "name": "stdout",
     "output_type": "stream",
     "text": [
      "EPOCH   7: Train accuracy: 0.56, Train Loss: 1.69593561, LRate 0.00058459 \n"
     ]
    },
    {
     "name": "stderr",
     "output_type": "stream",
     "text": [
      "\n",
      "Validation progress: 100%|█| 29/29 [00:21<00:00,  1.32it/s, Loss=tensor(1.7730),"
     ]
    },
    {
     "name": "stdout",
     "output_type": "stream",
     "text": [
      "EPOCH   7: Validation accuracy: 0.54, Validation Loss: 1.77300119, LRate 0.00058459 \n",
      "\n"
     ]
    },
    {
     "name": "stderr",
     "output_type": "stream",
     "text": [
      "\n"
     ]
    },
    {
     "name": "stdout",
     "output_type": "stream",
     "text": [
      "Best model and parameters saved at epoch 7\n",
      "\n",
      "Epoch 8/50\n"
     ]
    },
    {
     "name": "stderr",
     "output_type": "stream",
     "text": [
      "Training progress: 100%|█| 512/512 [02:21<00:00,  3.62it/s, Loss=tensor(1.5254),"
     ]
    },
    {
     "name": "stdout",
     "output_type": "stream",
     "text": [
      "EPOCH   8: Train accuracy: 0.60, Train Loss: 1.52543581, LRate 0.00052613 \n"
     ]
    },
    {
     "name": "stderr",
     "output_type": "stream",
     "text": [
      "\n",
      "Validation progress: 100%|█| 29/29 [00:21<00:00,  1.32it/s, Loss=tensor(1.7052),"
     ]
    },
    {
     "name": "stdout",
     "output_type": "stream",
     "text": [
      "EPOCH   8: Validation accuracy: 0.56, Validation Loss: 1.70515907, LRate 0.00052613 \n",
      "\n"
     ]
    },
    {
     "name": "stderr",
     "output_type": "stream",
     "text": [
      "\n"
     ]
    },
    {
     "name": "stdout",
     "output_type": "stream",
     "text": [
      "Best model and parameters saved at epoch 8\n",
      "\n",
      "Epoch 9/50\n"
     ]
    },
    {
     "name": "stderr",
     "output_type": "stream",
     "text": [
      "Training progress: 100%|█| 512/512 [02:21<00:00,  3.62it/s, Loss=tensor(1.3691),"
     ]
    },
    {
     "name": "stdout",
     "output_type": "stream",
     "text": [
      "EPOCH   9: Train accuracy: 0.64, Train Loss: 1.36910152, LRate 0.00047351 \n"
     ]
    },
    {
     "name": "stderr",
     "output_type": "stream",
     "text": [
      "\n",
      "Validation progress: 100%|█| 29/29 [00:21<00:00,  1.32it/s, Loss=tensor(1.5802),"
     ]
    },
    {
     "name": "stdout",
     "output_type": "stream",
     "text": [
      "EPOCH   9: Validation accuracy: 0.60, Validation Loss: 1.58022189, LRate 0.00047351 \n",
      "\n"
     ]
    },
    {
     "name": "stderr",
     "output_type": "stream",
     "text": [
      "\n"
     ]
    },
    {
     "name": "stdout",
     "output_type": "stream",
     "text": [
      "Best model and parameters saved at epoch 9\n",
      "\n",
      "Epoch 10/50\n"
     ]
    },
    {
     "name": "stderr",
     "output_type": "stream",
     "text": [
      "Training progress: 100%|█| 512/512 [02:22<00:00,  3.59it/s, Loss=tensor(1.2291),"
     ]
    },
    {
     "name": "stdout",
     "output_type": "stream",
     "text": [
      "EPOCH  10: Train accuracy: 0.67, Train Loss: 1.22912204, LRate 0.00042616 \n"
     ]
    },
    {
     "name": "stderr",
     "output_type": "stream",
     "text": [
      "\n",
      "Validation progress: 100%|█| 29/29 [00:21<00:00,  1.32it/s, Loss=tensor(1.5049),"
     ]
    },
    {
     "name": "stdout",
     "output_type": "stream",
     "text": [
      "EPOCH  10: Validation accuracy: 0.61, Validation Loss: 1.50490701, LRate 0.00042616 \n",
      "\n"
     ]
    },
    {
     "name": "stderr",
     "output_type": "stream",
     "text": [
      "\n"
     ]
    },
    {
     "name": "stdout",
     "output_type": "stream",
     "text": [
      "Best model and parameters saved at epoch 10\n",
      "\n",
      "Epoch 11/50\n"
     ]
    },
    {
     "name": "stderr",
     "output_type": "stream",
     "text": [
      "Training progress: 100%|█| 512/512 [02:20<00:00,  3.64it/s, Loss=tensor(1.1054),"
     ]
    },
    {
     "name": "stdout",
     "output_type": "stream",
     "text": [
      "EPOCH  11: Train accuracy: 0.70, Train Loss: 1.10538626, LRate 0.00038355 \n"
     ]
    },
    {
     "name": "stderr",
     "output_type": "stream",
     "text": [
      "\n",
      "Validation progress: 100%|█| 29/29 [00:21<00:00,  1.32it/s, Loss=tensor(1.4713),"
     ]
    },
    {
     "name": "stdout",
     "output_type": "stream",
     "text": [
      "EPOCH  11: Validation accuracy: 0.63, Validation Loss: 1.47126472, LRate 0.00038355 \n",
      "\n"
     ]
    },
    {
     "name": "stderr",
     "output_type": "stream",
     "text": [
      "\n"
     ]
    },
    {
     "name": "stdout",
     "output_type": "stream",
     "text": [
      "Best model and parameters saved at epoch 11\n",
      "\n",
      "Epoch 12/50\n"
     ]
    },
    {
     "name": "stderr",
     "output_type": "stream",
     "text": [
      "Training progress: 100%|█| 512/512 [02:20<00:00,  3.64it/s, Loss=tensor(1.0091),"
     ]
    },
    {
     "name": "stdout",
     "output_type": "stream",
     "text": [
      "EPOCH  12: Train accuracy: 0.73, Train Loss: 1.00913918, LRate 0.00034519 \n"
     ]
    },
    {
     "name": "stderr",
     "output_type": "stream",
     "text": [
      "\n",
      "Validation progress: 100%|█| 29/29 [00:21<00:00,  1.32it/s, Loss=tensor(1.5039),"
     ]
    },
    {
     "name": "stdout",
     "output_type": "stream",
     "text": [
      "EPOCH  12: Validation accuracy: 0.62, Validation Loss: 1.50389218, LRate 0.00034519 \n",
      "\n",
      "No improvement in loss for 1 epoch(s)\n",
      "\n",
      "Epoch 13/50\n"
     ]
    },
    {
     "name": "stderr",
     "output_type": "stream",
     "text": [
      "\n",
      "Training progress: 100%|█| 512/512 [02:21<00:00,  3.61it/s, Loss=tensor(0.9242),"
     ]
    },
    {
     "name": "stdout",
     "output_type": "stream",
     "text": [
      "EPOCH  13: Train accuracy: 0.75, Train Loss: 0.92421043, LRate 0.00031067 \n"
     ]
    },
    {
     "name": "stderr",
     "output_type": "stream",
     "text": [
      "\n",
      "Validation progress: 100%|█| 29/29 [00:21<00:00,  1.32it/s, Loss=tensor(1.3844),"
     ]
    },
    {
     "name": "stdout",
     "output_type": "stream",
     "text": [
      "EPOCH  13: Validation accuracy: 0.65, Validation Loss: 1.38436735, LRate 0.00031067 \n",
      "\n"
     ]
    },
    {
     "name": "stderr",
     "output_type": "stream",
     "text": [
      "\n"
     ]
    },
    {
     "name": "stdout",
     "output_type": "stream",
     "text": [
      "Best model and parameters saved at epoch 13\n",
      "\n",
      "Epoch 14/50\n"
     ]
    },
    {
     "name": "stderr",
     "output_type": "stream",
     "text": [
      "Training progress: 100%|█| 512/512 [02:21<00:00,  3.63it/s, Loss=tensor(0.8303),"
     ]
    },
    {
     "name": "stdout",
     "output_type": "stream",
     "text": [
      "EPOCH  14: Train accuracy: 0.77, Train Loss: 0.83031106, LRate 0.00027961 \n"
     ]
    },
    {
     "name": "stderr",
     "output_type": "stream",
     "text": [
      "\n",
      "Validation progress: 100%|█| 29/29 [00:21<00:00,  1.32it/s, Loss=tensor(1.3307),"
     ]
    },
    {
     "name": "stdout",
     "output_type": "stream",
     "text": [
      "EPOCH  14: Validation accuracy: 0.67, Validation Loss: 1.33072257, LRate 0.00027961 \n",
      "\n"
     ]
    },
    {
     "name": "stderr",
     "output_type": "stream",
     "text": [
      "\n"
     ]
    },
    {
     "name": "stdout",
     "output_type": "stream",
     "text": [
      "Best model and parameters saved at epoch 14\n",
      "\n",
      "Epoch 15/50\n"
     ]
    },
    {
     "name": "stderr",
     "output_type": "stream",
     "text": [
      "Training progress: 100%|█| 512/512 [02:21<00:00,  3.62it/s, Loss=tensor(0.7528),"
     ]
    },
    {
     "name": "stdout",
     "output_type": "stream",
     "text": [
      "EPOCH  15: Train accuracy: 0.79, Train Loss: 0.75284111, LRate 0.00025164 \n"
     ]
    },
    {
     "name": "stderr",
     "output_type": "stream",
     "text": [
      "\n",
      "Validation progress: 100%|█| 29/29 [00:21<00:00,  1.32it/s, Loss=tensor(1.3401),"
     ]
    },
    {
     "name": "stdout",
     "output_type": "stream",
     "text": [
      "EPOCH  15: Validation accuracy: 0.66, Validation Loss: 1.34006071, LRate 0.00025164 \n",
      "\n",
      "No improvement in loss for 1 epoch(s)\n",
      "\n",
      "Epoch 16/50\n"
     ]
    },
    {
     "name": "stderr",
     "output_type": "stream",
     "text": [
      "\n",
      "Training progress: 100%|█| 512/512 [02:21<00:00,  3.63it/s, Loss=tensor(0.6834),"
     ]
    },
    {
     "name": "stdout",
     "output_type": "stream",
     "text": [
      "EPOCH  16: Train accuracy: 0.81, Train Loss: 0.68337226, LRate 0.00022648 \n"
     ]
    },
    {
     "name": "stderr",
     "output_type": "stream",
     "text": [
      "\n",
      "Validation progress: 100%|█| 29/29 [00:21<00:00,  1.32it/s, Loss=tensor(1.2766),"
     ]
    },
    {
     "name": "stdout",
     "output_type": "stream",
     "text": [
      "EPOCH  16: Validation accuracy: 0.68, Validation Loss: 1.27663827, LRate 0.00022648 \n",
      "\n"
     ]
    },
    {
     "name": "stderr",
     "output_type": "stream",
     "text": [
      "\n"
     ]
    },
    {
     "name": "stdout",
     "output_type": "stream",
     "text": [
      "Best model and parameters saved at epoch 16\n",
      "\n",
      "Epoch 17/50\n"
     ]
    },
    {
     "name": "stderr",
     "output_type": "stream",
     "text": [
      "Training progress: 100%|█| 512/512 [02:21<00:00,  3.61it/s, Loss=tensor(0.6205),"
     ]
    },
    {
     "name": "stdout",
     "output_type": "stream",
     "text": [
      "EPOCH  17: Train accuracy: 0.83, Train Loss: 0.62053978, LRate 0.00020383 \n"
     ]
    },
    {
     "name": "stderr",
     "output_type": "stream",
     "text": [
      "\n",
      "Validation progress: 100%|█| 29/29 [00:21<00:00,  1.32it/s, Loss=tensor(1.2822),"
     ]
    },
    {
     "name": "stdout",
     "output_type": "stream",
     "text": [
      "EPOCH  17: Validation accuracy: 0.69, Validation Loss: 1.28218853, LRate 0.00020383 \n",
      "\n",
      "No improvement in loss for 1 epoch(s)\n",
      "\n",
      "Epoch 18/50\n"
     ]
    },
    {
     "name": "stderr",
     "output_type": "stream",
     "text": [
      "\n",
      "Training progress: 100%|█| 512/512 [02:21<00:00,  3.63it/s, Loss=tensor(0.5588),"
     ]
    },
    {
     "name": "stdout",
     "output_type": "stream",
     "text": [
      "EPOCH  18: Train accuracy: 0.85, Train Loss: 0.55880934, LRate 0.00018345 \n"
     ]
    },
    {
     "name": "stderr",
     "output_type": "stream",
     "text": [
      "\n",
      "Validation progress: 100%|█| 29/29 [00:21<00:00,  1.32it/s, Loss=tensor(1.2314),"
     ]
    },
    {
     "name": "stdout",
     "output_type": "stream",
     "text": [
      "EPOCH  18: Validation accuracy: 0.70, Validation Loss: 1.23137236, LRate 0.00018345 \n",
      "\n"
     ]
    },
    {
     "name": "stderr",
     "output_type": "stream",
     "text": [
      "\n"
     ]
    },
    {
     "name": "stdout",
     "output_type": "stream",
     "text": [
      "Best model and parameters saved at epoch 18\n",
      "\n",
      "Epoch 19/50\n"
     ]
    },
    {
     "name": "stderr",
     "output_type": "stream",
     "text": [
      "Training progress: 100%|█| 512/512 [02:20<00:00,  3.65it/s, Loss=tensor(0.5067),"
     ]
    },
    {
     "name": "stdout",
     "output_type": "stream",
     "text": [
      "EPOCH  19: Train accuracy: 0.86, Train Loss: 0.50669670, LRate 0.00016510 \n"
     ]
    },
    {
     "name": "stderr",
     "output_type": "stream",
     "text": [
      "\n",
      "Validation progress: 100%|█| 29/29 [00:21<00:00,  1.32it/s, Loss=tensor(1.2840),"
     ]
    },
    {
     "name": "stdout",
     "output_type": "stream",
     "text": [
      "EPOCH  19: Validation accuracy: 0.69, Validation Loss: 1.28401732, LRate 0.00016510 \n",
      "\n",
      "No improvement in loss for 1 epoch(s)\n",
      "\n",
      "Epoch 20/50\n"
     ]
    },
    {
     "name": "stderr",
     "output_type": "stream",
     "text": [
      "\n",
      "Training progress: 100%|█| 512/512 [02:20<00:00,  3.64it/s, Loss=tensor(0.4518),"
     ]
    },
    {
     "name": "stdout",
     "output_type": "stream",
     "text": [
      "EPOCH  20: Train accuracy: 0.88, Train Loss: 0.45182002, LRate 0.00014859 \n"
     ]
    },
    {
     "name": "stderr",
     "output_type": "stream",
     "text": [
      "\n",
      "Validation progress: 100%|█| 29/29 [00:21<00:00,  1.32it/s, Loss=tensor(1.2435),"
     ]
    },
    {
     "name": "stdout",
     "output_type": "stream",
     "text": [
      "EPOCH  20: Validation accuracy: 0.70, Validation Loss: 1.24346292, LRate 0.00014859 \n",
      "\n",
      "No improvement in loss for 2 epoch(s)\n",
      "\n",
      "Epoch 21/50\n"
     ]
    },
    {
     "name": "stderr",
     "output_type": "stream",
     "text": [
      "\n",
      "Training progress: 100%|█| 512/512 [02:20<00:00,  3.64it/s, Loss=tensor(0.4103),"
     ]
    },
    {
     "name": "stdout",
     "output_type": "stream",
     "text": [
      "EPOCH  21: Train accuracy: 0.89, Train Loss: 0.41029048, LRate 0.00013373 \n"
     ]
    },
    {
     "name": "stderr",
     "output_type": "stream",
     "text": [
      "\n",
      "Validation progress: 100%|█| 29/29 [00:21<00:00,  1.32it/s, Loss=tensor(1.2410),"
     ]
    },
    {
     "name": "stdout",
     "output_type": "stream",
     "text": [
      "EPOCH  21: Validation accuracy: 0.70, Validation Loss: 1.24100018, LRate 0.00013373 \n",
      "\n",
      "No improvement in loss for 3 epoch(s)\n",
      "\n",
      "Epoch 22/50\n"
     ]
    },
    {
     "name": "stderr",
     "output_type": "stream",
     "text": [
      "\n",
      "Training progress: 100%|█| 512/512 [02:21<00:00,  3.63it/s, Loss=tensor(0.3657),"
     ]
    },
    {
     "name": "stdout",
     "output_type": "stream",
     "text": [
      "EPOCH  22: Train accuracy: 0.91, Train Loss: 0.36572692, LRate 0.00012036 \n"
     ]
    },
    {
     "name": "stderr",
     "output_type": "stream",
     "text": [
      "\n",
      "Validation progress: 100%|█| 29/29 [00:21<00:00,  1.32it/s, Loss=tensor(1.2605),"
     ]
    },
    {
     "name": "stdout",
     "output_type": "stream",
     "text": [
      "EPOCH  22: Validation accuracy: 0.70, Validation Loss: 1.26052046, LRate 0.00012036 \n",
      "\n",
      "No improvement in loss for 4 epoch(s)\n",
      "\n",
      "Epoch 23/50\n"
     ]
    },
    {
     "name": "stderr",
     "output_type": "stream",
     "text": [
      "\n",
      "Training progress: 100%|█| 512/512 [02:21<00:00,  3.63it/s, Loss=tensor(0.3317),"
     ]
    },
    {
     "name": "stdout",
     "output_type": "stream",
     "text": [
      "EPOCH  23: Train accuracy: 0.92, Train Loss: 0.33166274, LRate 0.00010832 \n"
     ]
    },
    {
     "name": "stderr",
     "output_type": "stream",
     "text": [
      "\n",
      "Validation progress: 100%|█| 29/29 [00:21<00:00,  1.32it/s, Loss=tensor(1.2795),"
     ]
    },
    {
     "name": "stdout",
     "output_type": "stream",
     "text": [
      "EPOCH  23: Validation accuracy: 0.70, Validation Loss: 1.27951944, LRate 0.00010832 \n",
      "\n",
      "No improvement in loss for 5 epoch(s)\n",
      "\n",
      "Epoch 24/50\n"
     ]
    },
    {
     "name": "stderr",
     "output_type": "stream",
     "text": [
      "\n",
      "Training progress: 100%|█| 512/512 [02:22<00:00,  3.59it/s, Loss=tensor(0.3005),"
     ]
    },
    {
     "name": "stdout",
     "output_type": "stream",
     "text": [
      "EPOCH  24: Train accuracy: 0.93, Train Loss: 0.30048639, LRate 0.00009749 \n"
     ]
    },
    {
     "name": "stderr",
     "output_type": "stream",
     "text": [
      "\n",
      "Validation progress: 100%|█| 29/29 [00:21<00:00,  1.32it/s, Loss=tensor(1.2665),"
     ]
    },
    {
     "name": "stdout",
     "output_type": "stream",
     "text": [
      "EPOCH  24: Validation accuracy: 0.71, Validation Loss: 1.26653337, LRate 0.00009749 \n",
      "\n",
      "No improvement in loss for 6 epoch(s)\n",
      "\n",
      "Epoch 25/50\n"
     ]
    },
    {
     "name": "stderr",
     "output_type": "stream",
     "text": [
      "\n",
      "Training progress: 100%|█| 512/512 [02:21<00:00,  3.61it/s, Loss=tensor(0.2714),"
     ]
    },
    {
     "name": "stdout",
     "output_type": "stream",
     "text": [
      "EPOCH  25: Train accuracy: 0.94, Train Loss: 0.27135739, LRate 0.00008774 \n"
     ]
    },
    {
     "name": "stderr",
     "output_type": "stream",
     "text": [
      "\n",
      "Validation progress: 100%|█| 29/29 [00:22<00:00,  1.32it/s, Loss=tensor(1.2623),"
     ]
    },
    {
     "name": "stdout",
     "output_type": "stream",
     "text": [
      "EPOCH  25: Validation accuracy: 0.70, Validation Loss: 1.26232493, LRate 0.00008774 \n",
      "\n",
      "No improvement in loss for 7 epoch(s)\n",
      "\n",
      "Epoch 26/50\n"
     ]
    },
    {
     "name": "stderr",
     "output_type": "stream",
     "text": [
      "\n",
      "Training progress: 100%|█| 512/512 [02:20<00:00,  3.63it/s, Loss=tensor(0.2502),"
     ]
    },
    {
     "name": "stdout",
     "output_type": "stream",
     "text": [
      "EPOCH  26: Train accuracy: 0.94, Train Loss: 0.25022694, LRate 0.00007897 \n"
     ]
    },
    {
     "name": "stderr",
     "output_type": "stream",
     "text": [
      "\n",
      "Validation progress: 100%|█| 29/29 [00:21<00:00,  1.32it/s, Loss=tensor(1.2787),"
     ]
    },
    {
     "name": "stdout",
     "output_type": "stream",
     "text": [
      "EPOCH  26: Validation accuracy: 0.71, Validation Loss: 1.27865672, LRate 0.00007897 \n",
      "\n",
      "No improvement in loss for 8 epoch(s)\n",
      "\n",
      "Epoch 27/50\n"
     ]
    },
    {
     "name": "stderr",
     "output_type": "stream",
     "text": [
      "\n",
      "Training progress: 100%|█| 512/512 [02:20<00:00,  3.64it/s, Loss=tensor(0.2270),"
     ]
    },
    {
     "name": "stdout",
     "output_type": "stream",
     "text": [
      "EPOCH  27: Train accuracy: 0.95, Train Loss: 0.22695008, LRate 0.00007107 \n"
     ]
    },
    {
     "name": "stderr",
     "output_type": "stream",
     "text": [
      "\n",
      "Validation progress: 100%|█| 29/29 [00:21<00:00,  1.32it/s, Loss=tensor(1.2671),"
     ]
    },
    {
     "name": "stdout",
     "output_type": "stream",
     "text": [
      "EPOCH  27: Validation accuracy: 0.71, Validation Loss: 1.26707363, LRate 0.00007107 \n",
      "\n",
      "No improvement in loss for 9 epoch(s)\n",
      "\n",
      "Epoch 28/50\n"
     ]
    },
    {
     "name": "stderr",
     "output_type": "stream",
     "text": [
      "\n",
      "Training progress: 100%|█| 512/512 [02:20<00:00,  3.65it/s, Loss=tensor(0.2087),"
     ]
    },
    {
     "name": "stdout",
     "output_type": "stream",
     "text": [
      "EPOCH  28: Train accuracy: 0.96, Train Loss: 0.20867400, LRate 0.00006396 \n"
     ]
    },
    {
     "name": "stderr",
     "output_type": "stream",
     "text": [
      "\n",
      "Validation progress: 100%|█| 29/29 [00:21<00:00,  1.32it/s, Loss=tensor(1.2842),"
     ]
    },
    {
     "name": "stdout",
     "output_type": "stream",
     "text": [
      "EPOCH  28: Validation accuracy: 0.71, Validation Loss: 1.28424418, LRate 0.00006396 \n",
      "\n"
     ]
    },
    {
     "name": "stderr",
     "output_type": "stream",
     "text": [
      "\n"
     ]
    },
    {
     "name": "stdout",
     "output_type": "stream",
     "text": [
      "No improvement in loss for 10 epoch(s)\n",
      "Early stopping at epoch 28\n",
      "\n",
      "Retrieving best model saved at /Users/tgdimas1/git/CAS-AML-FINAL-PROJECT/notebooks/../src/../checkpoints/pytorch/TransformerEnsemble/TransformerEnsemble_best_model.ckpt\n"
     ]
    },
    {
     "name": "stderr",
     "output_type": "stream",
     "text": [
      "Testing progress: 100%|█████████████████████████| 29/29 [00:21<00:00,  1.32it/s]"
     ]
    },
    {
     "name": "stdout",
     "output_type": "stream",
     "text": [
      "EPOCH  28: Test accuracy: 0.71, Test Loss: 1.18171978, LRate 0.00018345 \n",
      "\n",
      "\n"
     ]
    },
    {
     "name": "stderr",
     "output_type": "stream",
     "text": [
      "\n"
     ]
    }
   ],
   "source": [
    "trainer.train()\n",
    "trainer.test()\n",
    "print()"
   ]
  },
  {
   "cell_type": "code",
   "execution_count": 2,
   "id": "4c387ab8",
   "metadata": {
    "scrolled": false
   },
   "outputs": [
    {
     "name": "stdout",
     "output_type": "stream",
     "text": [
      "Using model: models.pytorch.models.TransformerPredictor\n"
     ]
    }
   ],
   "source": [
    "trainer = Trainer(modelname='TransformerPredictor')"
   ]
  },
  {
   "cell_type": "code",
   "execution_count": 3,
   "id": "55b2ba06",
   "metadata": {
    "scrolled": true
   },
   "outputs": [
    {
     "name": "stdout",
     "output_type": "stream",
     "text": [
      "Epoch 1/50\n"
     ]
    },
    {
     "name": "stderr",
     "output_type": "stream",
     "text": [
      "Training progress: 100%|█| 512/512 [00:43<00:00, 11.70it/s, Loss=tensor(5.3751),"
     ]
    },
    {
     "name": "stdout",
     "output_type": "stream",
     "text": [
      "EPOCH   1: Train accuracy: 0.02, Train Loss: 5.37513161, LRate 0.05000000 \n"
     ]
    },
    {
     "name": "stderr",
     "output_type": "stream",
     "text": [
      "\n",
      "Validation progress: 100%|█| 29/29 [00:21<00:00,  1.37it/s, Loss=tensor(4.9290),"
     ]
    },
    {
     "name": "stdout",
     "output_type": "stream",
     "text": [
      "EPOCH   1: Validation accuracy: 0.03, Validation Loss: 4.92903423, LRate 0.05000000 \n",
      "\n",
      "Best model and parameters saved at epoch 1\n",
      "\n",
      "Epoch 2/50\n"
     ]
    },
    {
     "name": "stderr",
     "output_type": "stream",
     "text": [
      "\n",
      "Training progress: 100%|█| 512/512 [00:43<00:00, 11.79it/s, Loss=tensor(4.1322),"
     ]
    },
    {
     "name": "stdout",
     "output_type": "stream",
     "text": [
      "EPOCH   2: Train accuracy: 0.10, Train Loss: 4.13217545, LRate 0.03750000 \n"
     ]
    },
    {
     "name": "stderr",
     "output_type": "stream",
     "text": [
      "\n",
      "Validation progress: 100%|█| 29/29 [00:21<00:00,  1.37it/s, Loss=tensor(4.0920),"
     ]
    },
    {
     "name": "stdout",
     "output_type": "stream",
     "text": [
      "EPOCH   2: Validation accuracy: 0.12, Validation Loss: 4.09204149, LRate 0.03750000 \n",
      "\n",
      "Best model and parameters saved at epoch 2\n",
      "\n",
      "Epoch 3/50\n"
     ]
    },
    {
     "name": "stderr",
     "output_type": "stream",
     "text": [
      "\n",
      "Training progress: 100%|█| 512/512 [00:43<00:00, 11.80it/s, Loss=tensor(3.7179),"
     ]
    },
    {
     "name": "stdout",
     "output_type": "stream",
     "text": [
      "EPOCH   3: Train accuracy: 0.17, Train Loss: 3.71788001, LRate 0.02812500 \n"
     ]
    },
    {
     "name": "stderr",
     "output_type": "stream",
     "text": [
      "\n",
      "Validation progress: 100%|█| 29/29 [00:21<00:00,  1.37it/s, Loss=tensor(3.8476),"
     ]
    },
    {
     "name": "stdout",
     "output_type": "stream",
     "text": [
      "EPOCH   3: Validation accuracy: 0.15, Validation Loss: 3.84755111, LRate 0.02812500 \n",
      "\n",
      "Best model and parameters saved at epoch 3\n",
      "\n",
      "Epoch 4/50\n"
     ]
    },
    {
     "name": "stderr",
     "output_type": "stream",
     "text": [
      "\n",
      "Training progress: 100%|█| 512/512 [00:43<00:00, 11.79it/s, Loss=tensor(3.2956),"
     ]
    },
    {
     "name": "stdout",
     "output_type": "stream",
     "text": [
      "EPOCH   4: Train accuracy: 0.24, Train Loss: 3.29559708, LRate 0.02109375 \n"
     ]
    },
    {
     "name": "stderr",
     "output_type": "stream",
     "text": [
      "\n",
      "Validation progress: 100%|█| 29/29 [00:21<00:00,  1.36it/s, Loss=tensor(3.2400),"
     ]
    },
    {
     "name": "stdout",
     "output_type": "stream",
     "text": [
      "EPOCH   4: Validation accuracy: 0.26, Validation Loss: 3.23997426, LRate 0.02109375 \n",
      "\n",
      "Best model and parameters saved at epoch 4\n",
      "\n",
      "Epoch 5/50\n"
     ]
    },
    {
     "name": "stderr",
     "output_type": "stream",
     "text": [
      "\n",
      "Training progress: 100%|█| 512/512 [00:43<00:00, 11.79it/s, Loss=tensor(3.0167),"
     ]
    },
    {
     "name": "stdout",
     "output_type": "stream",
     "text": [
      "EPOCH   5: Train accuracy: 0.29, Train Loss: 3.01671433, LRate 0.01582031 \n"
     ]
    },
    {
     "name": "stderr",
     "output_type": "stream",
     "text": [
      "\n",
      "Validation progress: 100%|█| 29/29 [00:21<00:00,  1.37it/s, Loss=tensor(3.0556),"
     ]
    },
    {
     "name": "stdout",
     "output_type": "stream",
     "text": [
      "EPOCH   5: Validation accuracy: 0.29, Validation Loss: 3.05557394, LRate 0.01582031 \n",
      "\n",
      "Best model and parameters saved at epoch 5\n",
      "\n",
      "Epoch 6/50\n"
     ]
    },
    {
     "name": "stderr",
     "output_type": "stream",
     "text": [
      "\n",
      "Training progress: 100%|█| 512/512 [00:43<00:00, 11.86it/s, Loss=tensor(2.7754),"
     ]
    },
    {
     "name": "stdout",
     "output_type": "stream",
     "text": [
      "EPOCH   6: Train accuracy: 0.34, Train Loss: 2.77534962, LRate 0.01186523 \n"
     ]
    },
    {
     "name": "stderr",
     "output_type": "stream",
     "text": [
      "\n",
      "Validation progress: 100%|█| 29/29 [00:21<00:00,  1.37it/s, Loss=tensor(2.8045),"
     ]
    },
    {
     "name": "stdout",
     "output_type": "stream",
     "text": [
      "EPOCH   6: Validation accuracy: 0.33, Validation Loss: 2.80446982, LRate 0.01186523 \n",
      "\n",
      "Best model and parameters saved at epoch 6\n",
      "\n",
      "Epoch 7/50\n"
     ]
    },
    {
     "name": "stderr",
     "output_type": "stream",
     "text": [
      "\n",
      "Training progress: 100%|█| 512/512 [00:43<00:00, 11.89it/s, Loss=tensor(2.5832),"
     ]
    },
    {
     "name": "stdout",
     "output_type": "stream",
     "text": [
      "EPOCH   7: Train accuracy: 0.38, Train Loss: 2.58324528, LRate 0.00889893 \n"
     ]
    },
    {
     "name": "stderr",
     "output_type": "stream",
     "text": [
      "\n",
      "Validation progress: 100%|█| 29/29 [00:21<00:00,  1.37it/s, Loss=tensor(2.6935),"
     ]
    },
    {
     "name": "stdout",
     "output_type": "stream",
     "text": [
      "EPOCH   7: Validation accuracy: 0.36, Validation Loss: 2.69352818, LRate 0.00889893 \n",
      "\n",
      "Best model and parameters saved at epoch 7\n",
      "\n",
      "Epoch 8/50\n"
     ]
    },
    {
     "name": "stderr",
     "output_type": "stream",
     "text": [
      "\n",
      "Training progress: 100%|█| 512/512 [00:43<00:00, 11.87it/s, Loss=tensor(2.4145),"
     ]
    },
    {
     "name": "stdout",
     "output_type": "stream",
     "text": [
      "EPOCH   8: Train accuracy: 0.42, Train Loss: 2.41451550, LRate 0.00667419 \n"
     ]
    },
    {
     "name": "stderr",
     "output_type": "stream",
     "text": [
      "\n",
      "Validation progress: 100%|█| 29/29 [00:21<00:00,  1.37it/s, Loss=tensor(2.5667),"
     ]
    },
    {
     "name": "stdout",
     "output_type": "stream",
     "text": [
      "EPOCH   8: Validation accuracy: 0.39, Validation Loss: 2.56665826, LRate 0.00667419 \n",
      "\n",
      "Best model and parameters saved at epoch 8\n",
      "\n",
      "Epoch 9/50\n"
     ]
    },
    {
     "name": "stderr",
     "output_type": "stream",
     "text": [
      "\n",
      "Training progress: 100%|█| 512/512 [00:43<00:00, 11.86it/s, Loss=tensor(2.2665),"
     ]
    },
    {
     "name": "stdout",
     "output_type": "stream",
     "text": [
      "EPOCH   9: Train accuracy: 0.45, Train Loss: 2.26650238, LRate 0.00500565 \n"
     ]
    },
    {
     "name": "stderr",
     "output_type": "stream",
     "text": [
      "\n",
      "Validation progress: 100%|█| 29/29 [00:21<00:00,  1.37it/s, Loss=tensor(2.4265),"
     ]
    },
    {
     "name": "stdout",
     "output_type": "stream",
     "text": [
      "EPOCH   9: Validation accuracy: 0.42, Validation Loss: 2.42652798, LRate 0.00500565 \n",
      "\n",
      "Best model and parameters saved at epoch 9\n",
      "\n",
      "Epoch 10/50\n"
     ]
    },
    {
     "name": "stderr",
     "output_type": "stream",
     "text": [
      "\n",
      "Training progress: 100%|█| 512/512 [00:43<00:00, 11.82it/s, Loss=tensor(2.1467),"
     ]
    },
    {
     "name": "stdout",
     "output_type": "stream",
     "text": [
      "EPOCH  10: Train accuracy: 0.47, Train Loss: 2.14666462, LRate 0.00375423 \n"
     ]
    },
    {
     "name": "stderr",
     "output_type": "stream",
     "text": [
      "\n",
      "Validation progress: 100%|█| 29/29 [00:21<00:00,  1.37it/s, Loss=tensor(2.3026),"
     ]
    },
    {
     "name": "stdout",
     "output_type": "stream",
     "text": [
      "EPOCH  10: Validation accuracy: 0.45, Validation Loss: 2.30255747, LRate 0.00375423 \n",
      "\n",
      "Best model and parameters saved at epoch 10\n",
      "\n",
      "Epoch 11/50\n"
     ]
    },
    {
     "name": "stderr",
     "output_type": "stream",
     "text": [
      "\n",
      "Training progress: 100%|█| 512/512 [00:43<00:00, 11.77it/s, Loss=tensor(2.0448),"
     ]
    },
    {
     "name": "stdout",
     "output_type": "stream",
     "text": [
      "EPOCH  11: Train accuracy: 0.50, Train Loss: 2.04484534, LRate 0.00281568 \n"
     ]
    },
    {
     "name": "stderr",
     "output_type": "stream",
     "text": [
      "\n",
      "Validation progress: 100%|█| 29/29 [00:21<00:00,  1.37it/s, Loss=tensor(2.2834),"
     ]
    },
    {
     "name": "stdout",
     "output_type": "stream",
     "text": [
      "EPOCH  11: Validation accuracy: 0.45, Validation Loss: 2.28342009, LRate 0.00281568 \n",
      "\n",
      "Best model and parameters saved at epoch 11\n",
      "\n",
      "Epoch 12/50\n"
     ]
    },
    {
     "name": "stderr",
     "output_type": "stream",
     "text": [
      "\n",
      "Training progress: 100%|█| 512/512 [00:43<00:00, 11.75it/s, Loss=tensor(1.9634),"
     ]
    },
    {
     "name": "stdout",
     "output_type": "stream",
     "text": [
      "EPOCH  12: Train accuracy: 0.52, Train Loss: 1.96335506, LRate 0.00211176 \n"
     ]
    },
    {
     "name": "stderr",
     "output_type": "stream",
     "text": [
      "\n",
      "Validation progress: 100%|█| 29/29 [00:21<00:00,  1.37it/s, Loss=tensor(2.2372),"
     ]
    },
    {
     "name": "stdout",
     "output_type": "stream",
     "text": [
      "EPOCH  12: Validation accuracy: 0.47, Validation Loss: 2.23716331, LRate 0.00211176 \n",
      "\n",
      "Best model and parameters saved at epoch 12\n",
      "\n",
      "Epoch 13/50\n"
     ]
    },
    {
     "name": "stderr",
     "output_type": "stream",
     "text": [
      "\n",
      "Training progress: 100%|█| 512/512 [00:43<00:00, 11.77it/s, Loss=tensor(1.8943),"
     ]
    },
    {
     "name": "stdout",
     "output_type": "stream",
     "text": [
      "EPOCH  13: Train accuracy: 0.53, Train Loss: 1.89433515, LRate 0.00158382 \n"
     ]
    },
    {
     "name": "stderr",
     "output_type": "stream",
     "text": [
      "\n",
      "Validation progress: 100%|█| 29/29 [00:21<00:00,  1.37it/s, Loss=tensor(2.2181),"
     ]
    },
    {
     "name": "stdout",
     "output_type": "stream",
     "text": [
      "EPOCH  13: Validation accuracy: 0.47, Validation Loss: 2.21808028, LRate 0.00158382 \n",
      "\n",
      "Best model and parameters saved at epoch 13\n",
      "\n",
      "Epoch 14/50\n"
     ]
    },
    {
     "name": "stderr",
     "output_type": "stream",
     "text": [
      "\n",
      "Training progress: 100%|█| 512/512 [00:43<00:00, 11.78it/s, Loss=tensor(1.8371),"
     ]
    },
    {
     "name": "stdout",
     "output_type": "stream",
     "text": [
      "EPOCH  14: Train accuracy: 0.55, Train Loss: 1.83713961, LRate 0.00118786 \n"
     ]
    },
    {
     "name": "stderr",
     "output_type": "stream",
     "text": [
      "\n",
      "Validation progress: 100%|█| 29/29 [00:21<00:00,  1.37it/s, Loss=tensor(2.2024),"
     ]
    },
    {
     "name": "stdout",
     "output_type": "stream",
     "text": [
      "EPOCH  14: Validation accuracy: 0.48, Validation Loss: 2.20242023, LRate 0.00118786 \n",
      "\n",
      "Best model and parameters saved at epoch 14\n",
      "\n",
      "Epoch 15/50\n"
     ]
    },
    {
     "name": "stderr",
     "output_type": "stream",
     "text": [
      "\n",
      "Training progress: 100%|█| 512/512 [00:43<00:00, 11.73it/s, Loss=tensor(1.7925),"
     ]
    },
    {
     "name": "stdout",
     "output_type": "stream",
     "text": [
      "EPOCH  15: Train accuracy: 0.56, Train Loss: 1.79254770, LRate 0.00089090 \n"
     ]
    },
    {
     "name": "stderr",
     "output_type": "stream",
     "text": [
      "\n",
      "Validation progress: 100%|█| 29/29 [00:21<00:00,  1.36it/s, Loss=tensor(2.1703),"
     ]
    },
    {
     "name": "stdout",
     "output_type": "stream",
     "text": [
      "EPOCH  15: Validation accuracy: 0.49, Validation Loss: 2.17034340, LRate 0.00089090 \n",
      "\n",
      "Best model and parameters saved at epoch 15\n",
      "\n",
      "Epoch 16/50\n"
     ]
    },
    {
     "name": "stderr",
     "output_type": "stream",
     "text": [
      "\n",
      "Training progress: 100%|█| 512/512 [00:44<00:00, 11.61it/s, Loss=tensor(1.7567),"
     ]
    },
    {
     "name": "stdout",
     "output_type": "stream",
     "text": [
      "EPOCH  16: Train accuracy: 0.57, Train Loss: 1.75674438, LRate 0.00066817 \n"
     ]
    },
    {
     "name": "stderr",
     "output_type": "stream",
     "text": [
      "\n",
      "Validation progress: 100%|█| 29/29 [00:20<00:00,  1.41it/s, Loss=tensor(2.1762),"
     ]
    },
    {
     "name": "stdout",
     "output_type": "stream",
     "text": [
      "EPOCH  16: Validation accuracy: 0.49, Validation Loss: 2.17618632, LRate 0.00066817 \n",
      "\n",
      "No improvement in loss for 1 epoch(s)\n",
      "\n",
      "Epoch 17/50\n"
     ]
    },
    {
     "name": "stderr",
     "output_type": "stream",
     "text": [
      "\n",
      "Training progress: 100%|█| 512/512 [00:43<00:00, 11.83it/s, Loss=tensor(1.7303),"
     ]
    },
    {
     "name": "stdout",
     "output_type": "stream",
     "text": [
      "EPOCH  17: Train accuracy: 0.57, Train Loss: 1.73029709, LRate 0.00050113 \n"
     ]
    },
    {
     "name": "stderr",
     "output_type": "stream",
     "text": [
      "\n",
      "Validation progress: 100%|█| 29/29 [00:20<00:00,  1.40it/s, Loss=tensor(2.1928),"
     ]
    },
    {
     "name": "stdout",
     "output_type": "stream",
     "text": [
      "EPOCH  17: Validation accuracy: 0.49, Validation Loss: 2.19276309, LRate 0.00050113 \n",
      "\n",
      "No improvement in loss for 2 epoch(s)\n",
      "\n",
      "Epoch 18/50\n"
     ]
    },
    {
     "name": "stderr",
     "output_type": "stream",
     "text": [
      "\n",
      "Training progress: 100%|█| 512/512 [00:43<00:00, 11.81it/s, Loss=tensor(1.7084),"
     ]
    },
    {
     "name": "stdout",
     "output_type": "stream",
     "text": [
      "EPOCH  18: Train accuracy: 0.58, Train Loss: 1.70836031, LRate 0.00037585 \n"
     ]
    },
    {
     "name": "stderr",
     "output_type": "stream",
     "text": [
      "\n",
      "Validation progress: 100%|█| 29/29 [00:20<00:00,  1.41it/s, Loss=tensor(2.1548),"
     ]
    },
    {
     "name": "stdout",
     "output_type": "stream",
     "text": [
      "EPOCH  18: Validation accuracy: 0.49, Validation Loss: 2.15476322, LRate 0.00037585 \n",
      "\n",
      "Best model and parameters saved at epoch 18\n",
      "\n",
      "Epoch 19/50\n"
     ]
    },
    {
     "name": "stderr",
     "output_type": "stream",
     "text": [
      "\n",
      "Training progress: 100%|█| 512/512 [00:43<00:00, 11.83it/s, Loss=tensor(1.6913),"
     ]
    },
    {
     "name": "stdout",
     "output_type": "stream",
     "text": [
      "EPOCH  19: Train accuracy: 0.58, Train Loss: 1.69134557, LRate 0.00028189 \n"
     ]
    },
    {
     "name": "stderr",
     "output_type": "stream",
     "text": [
      "\n",
      "Validation progress: 100%|█| 29/29 [00:20<00:00,  1.41it/s, Loss=tensor(2.1466),"
     ]
    },
    {
     "name": "stdout",
     "output_type": "stream",
     "text": [
      "EPOCH  19: Validation accuracy: 0.50, Validation Loss: 2.14658594, LRate 0.00028189 \n",
      "\n",
      "Best model and parameters saved at epoch 19\n",
      "\n",
      "Epoch 20/50\n"
     ]
    },
    {
     "name": "stderr",
     "output_type": "stream",
     "text": [
      "\n",
      "Training progress: 100%|█| 512/512 [00:43<00:00, 11.81it/s, Loss=tensor(1.6794),"
     ]
    },
    {
     "name": "stdout",
     "output_type": "stream",
     "text": [
      "EPOCH  20: Train accuracy: 0.59, Train Loss: 1.67935991, LRate 0.00021141 \n"
     ]
    },
    {
     "name": "stderr",
     "output_type": "stream",
     "text": [
      "\n",
      "Validation progress: 100%|█| 29/29 [00:20<00:00,  1.41it/s, Loss=tensor(2.1423),"
     ]
    },
    {
     "name": "stdout",
     "output_type": "stream",
     "text": [
      "EPOCH  20: Validation accuracy: 0.50, Validation Loss: 2.14230013, LRate 0.00021141 \n",
      "\n",
      "Best model and parameters saved at epoch 20\n",
      "\n",
      "Epoch 21/50\n"
     ]
    },
    {
     "name": "stderr",
     "output_type": "stream",
     "text": [
      "\n",
      "Training progress: 100%|█| 512/512 [00:43<00:00, 11.81it/s, Loss=tensor(1.6696),"
     ]
    },
    {
     "name": "stdout",
     "output_type": "stream",
     "text": [
      "EPOCH  21: Train accuracy: 0.59, Train Loss: 1.66960907, LRate 0.00015856 \n"
     ]
    },
    {
     "name": "stderr",
     "output_type": "stream",
     "text": [
      "\n",
      "Validation progress: 100%|█| 29/29 [00:20<00:00,  1.41it/s, Loss=tensor(2.1496),"
     ]
    },
    {
     "name": "stdout",
     "output_type": "stream",
     "text": [
      "EPOCH  21: Validation accuracy: 0.50, Validation Loss: 2.14959645, LRate 0.00015856 \n",
      "\n",
      "No improvement in loss for 1 epoch(s)\n",
      "\n",
      "Epoch 22/50\n"
     ]
    },
    {
     "name": "stderr",
     "output_type": "stream",
     "text": [
      "\n",
      "Training progress: 100%|█| 512/512 [00:43<00:00, 11.81it/s, Loss=tensor(1.6629),"
     ]
    },
    {
     "name": "stdout",
     "output_type": "stream",
     "text": [
      "EPOCH  22: Train accuracy: 0.59, Train Loss: 1.66292787, LRate 0.00011892 \n"
     ]
    },
    {
     "name": "stderr",
     "output_type": "stream",
     "text": [
      "\n",
      "Validation progress: 100%|█| 29/29 [00:20<00:00,  1.41it/s, Loss=tensor(2.1374),"
     ]
    },
    {
     "name": "stdout",
     "output_type": "stream",
     "text": [
      "EPOCH  22: Validation accuracy: 0.50, Validation Loss: 2.13740063, LRate 0.00011892 \n",
      "\n",
      "Best model and parameters saved at epoch 22\n",
      "\n",
      "Epoch 23/50\n"
     ]
    },
    {
     "name": "stderr",
     "output_type": "stream",
     "text": [
      "\n",
      "Training progress: 100%|█| 512/512 [00:43<00:00, 11.81it/s, Loss=tensor(1.6573),"
     ]
    },
    {
     "name": "stdout",
     "output_type": "stream",
     "text": [
      "EPOCH  23: Train accuracy: 0.59, Train Loss: 1.65726519, LRate 0.00008919 \n"
     ]
    },
    {
     "name": "stderr",
     "output_type": "stream",
     "text": [
      "\n",
      "Validation progress: 100%|█| 29/29 [00:20<00:00,  1.41it/s, Loss=tensor(2.1439),"
     ]
    },
    {
     "name": "stdout",
     "output_type": "stream",
     "text": [
      "EPOCH  23: Validation accuracy: 0.50, Validation Loss: 2.14389038, LRate 0.00008919 \n",
      "\n",
      "No improvement in loss for 1 epoch(s)\n",
      "\n",
      "Epoch 24/50\n"
     ]
    },
    {
     "name": "stderr",
     "output_type": "stream",
     "text": [
      "\n",
      "Training progress: 100%|█| 512/512 [00:43<00:00, 11.79it/s, Loss=tensor(1.6536),"
     ]
    },
    {
     "name": "stdout",
     "output_type": "stream",
     "text": [
      "EPOCH  24: Train accuracy: 0.59, Train Loss: 1.65355217, LRate 0.00006689 \n"
     ]
    },
    {
     "name": "stderr",
     "output_type": "stream",
     "text": [
      "\n",
      "Validation progress: 100%|█| 29/29 [00:20<00:00,  1.41it/s, Loss=tensor(2.1406),"
     ]
    },
    {
     "name": "stdout",
     "output_type": "stream",
     "text": [
      "EPOCH  24: Validation accuracy: 0.50, Validation Loss: 2.14056039, LRate 0.00006689 \n",
      "\n",
      "No improvement in loss for 2 epoch(s)\n",
      "\n",
      "Epoch 25/50\n"
     ]
    },
    {
     "name": "stderr",
     "output_type": "stream",
     "text": [
      "\n",
      "Training progress: 100%|█| 512/512 [00:43<00:00, 11.78it/s, Loss=tensor(1.6494),"
     ]
    },
    {
     "name": "stdout",
     "output_type": "stream",
     "text": [
      "EPOCH  25: Train accuracy: 0.59, Train Loss: 1.64944398, LRate 0.00005017 \n"
     ]
    },
    {
     "name": "stderr",
     "output_type": "stream",
     "text": [
      "\n",
      "Validation progress: 100%|█| 29/29 [00:20<00:00,  1.41it/s, Loss=tensor(2.1386),"
     ]
    },
    {
     "name": "stdout",
     "output_type": "stream",
     "text": [
      "EPOCH  25: Validation accuracy: 0.50, Validation Loss: 2.13861513, LRate 0.00005017 \n",
      "\n",
      "No improvement in loss for 3 epoch(s)\n",
      "\n",
      "Epoch 26/50\n"
     ]
    },
    {
     "name": "stderr",
     "output_type": "stream",
     "text": [
      "\n",
      "Training progress: 100%|█| 512/512 [00:43<00:00, 11.68it/s, Loss=tensor(1.6472),"
     ]
    },
    {
     "name": "stdout",
     "output_type": "stream",
     "text": [
      "EPOCH  26: Train accuracy: 0.59, Train Loss: 1.64722335, LRate 0.00003763 \n"
     ]
    },
    {
     "name": "stderr",
     "output_type": "stream",
     "text": [
      "\n",
      "Validation progress: 100%|█| 29/29 [00:20<00:00,  1.41it/s, Loss=tensor(2.1401),"
     ]
    },
    {
     "name": "stdout",
     "output_type": "stream",
     "text": [
      "EPOCH  26: Validation accuracy: 0.50, Validation Loss: 2.14007568, LRate 0.00003763 \n",
      "\n",
      "No improvement in loss for 4 epoch(s)\n",
      "\n",
      "Epoch 27/50\n"
     ]
    },
    {
     "name": "stderr",
     "output_type": "stream",
     "text": [
      "\n",
      "Training progress: 100%|█| 512/512 [00:43<00:00, 11.82it/s, Loss=tensor(1.6454),"
     ]
    },
    {
     "name": "stdout",
     "output_type": "stream",
     "text": [
      "EPOCH  27: Train accuracy: 0.59, Train Loss: 1.64540327, LRate 0.00002822 \n"
     ]
    },
    {
     "name": "stderr",
     "output_type": "stream",
     "text": [
      "\n",
      "Validation progress: 100%|█| 29/29 [00:21<00:00,  1.36it/s, Loss=tensor(2.1385),"
     ]
    },
    {
     "name": "stdout",
     "output_type": "stream",
     "text": [
      "EPOCH  27: Validation accuracy: 0.50, Validation Loss: 2.13851047, LRate 0.00002822 \n",
      "\n",
      "No improvement in loss for 5 epoch(s)\n",
      "\n",
      "Epoch 28/50\n"
     ]
    },
    {
     "name": "stderr",
     "output_type": "stream",
     "text": [
      "\n",
      "Training progress: 100%|█| 512/512 [00:43<00:00, 11.67it/s, Loss=tensor(1.6437),"
     ]
    },
    {
     "name": "stdout",
     "output_type": "stream",
     "text": [
      "EPOCH  28: Train accuracy: 0.60, Train Loss: 1.64374828, LRate 0.00002117 \n"
     ]
    },
    {
     "name": "stderr",
     "output_type": "stream",
     "text": [
      "\n",
      "Validation progress: 100%|█| 29/29 [00:20<00:00,  1.41it/s, Loss=tensor(2.1368),"
     ]
    },
    {
     "name": "stdout",
     "output_type": "stream",
     "text": [
      "EPOCH  28: Validation accuracy: 0.50, Validation Loss: 2.13684559, LRate 0.00002117 \n",
      "\n",
      "Best model and parameters saved at epoch 28\n",
      "\n",
      "Epoch 29/50\n"
     ]
    },
    {
     "name": "stderr",
     "output_type": "stream",
     "text": [
      "\n",
      "Training progress: 100%|█| 512/512 [00:43<00:00, 11.82it/s, Loss=tensor(1.6427),"
     ]
    },
    {
     "name": "stdout",
     "output_type": "stream",
     "text": [
      "EPOCH  29: Train accuracy: 0.60, Train Loss: 1.64266753, LRate 0.00001587 \n"
     ]
    },
    {
     "name": "stderr",
     "output_type": "stream",
     "text": [
      "\n",
      "Validation progress: 100%|█| 29/29 [00:20<00:00,  1.41it/s, Loss=tensor(2.1392),"
     ]
    },
    {
     "name": "stdout",
     "output_type": "stream",
     "text": [
      "EPOCH  29: Validation accuracy: 0.50, Validation Loss: 2.13924575, LRate 0.00001587 \n",
      "\n",
      "No improvement in loss for 1 epoch(s)\n",
      "\n",
      "Epoch 30/50\n"
     ]
    },
    {
     "name": "stderr",
     "output_type": "stream",
     "text": [
      "\n",
      "Training progress: 100%|█| 512/512 [00:43<00:00, 11.79it/s, Loss=tensor(1.6424),"
     ]
    },
    {
     "name": "stdout",
     "output_type": "stream",
     "text": [
      "EPOCH  30: Train accuracy: 0.60, Train Loss: 1.64237332, LRate 0.00001191 \n"
     ]
    },
    {
     "name": "stderr",
     "output_type": "stream",
     "text": [
      "\n",
      "Validation progress: 100%|█| 29/29 [00:20<00:00,  1.41it/s, Loss=tensor(2.1383),"
     ]
    },
    {
     "name": "stdout",
     "output_type": "stream",
     "text": [
      "EPOCH  30: Validation accuracy: 0.50, Validation Loss: 2.13832927, LRate 0.00001191 \n",
      "\n",
      "No improvement in loss for 2 epoch(s)\n",
      "\n",
      "Epoch 31/50\n"
     ]
    },
    {
     "name": "stderr",
     "output_type": "stream",
     "text": [
      "\n",
      "Training progress: 100%|█| 512/512 [00:43<00:00, 11.78it/s, Loss=tensor(1.6424),"
     ]
    },
    {
     "name": "stdout",
     "output_type": "stream",
     "text": [
      "EPOCH  31: Train accuracy: 0.60, Train Loss: 1.64238572, LRate 0.00000893 \n"
     ]
    },
    {
     "name": "stderr",
     "output_type": "stream",
     "text": [
      "\n",
      "Validation progress: 100%|█| 29/29 [00:20<00:00,  1.41it/s, Loss=tensor(2.1388),"
     ]
    },
    {
     "name": "stdout",
     "output_type": "stream",
     "text": [
      "EPOCH  31: Validation accuracy: 0.50, Validation Loss: 2.13879681, LRate 0.00000893 \n",
      "\n",
      "No improvement in loss for 3 epoch(s)\n",
      "\n",
      "Epoch 32/50\n"
     ]
    },
    {
     "name": "stderr",
     "output_type": "stream",
     "text": [
      "\n",
      "Training progress: 100%|█| 512/512 [00:43<00:00, 11.78it/s, Loss=tensor(1.6418),"
     ]
    },
    {
     "name": "stdout",
     "output_type": "stream",
     "text": [
      "EPOCH  32: Train accuracy: 0.60, Train Loss: 1.64183569, LRate 0.00000670 \n"
     ]
    },
    {
     "name": "stderr",
     "output_type": "stream",
     "text": [
      "\n",
      "Validation progress: 100%|█| 29/29 [00:20<00:00,  1.41it/s, Loss=tensor(2.1376),"
     ]
    },
    {
     "name": "stdout",
     "output_type": "stream",
     "text": [
      "EPOCH  32: Validation accuracy: 0.50, Validation Loss: 2.13755965, LRate 0.00000670 \n",
      "\n",
      "No improvement in loss for 4 epoch(s)\n",
      "\n",
      "Epoch 33/50\n"
     ]
    },
    {
     "name": "stderr",
     "output_type": "stream",
     "text": [
      "\n",
      "Training progress: 100%|█| 512/512 [00:43<00:00, 11.78it/s, Loss=tensor(1.6408),"
     ]
    },
    {
     "name": "stdout",
     "output_type": "stream",
     "text": [
      "EPOCH  33: Train accuracy: 0.60, Train Loss: 1.64077830, LRate 0.00000502 \n"
     ]
    },
    {
     "name": "stderr",
     "output_type": "stream",
     "text": [
      "\n",
      "Validation progress: 100%|█| 29/29 [00:20<00:00,  1.41it/s, Loss=tensor(2.1379),"
     ]
    },
    {
     "name": "stdout",
     "output_type": "stream",
     "text": [
      "EPOCH  33: Validation accuracy: 0.50, Validation Loss: 2.13787889, LRate 0.00000502 \n",
      "\n",
      "No improvement in loss for 5 epoch(s)\n",
      "\n",
      "Epoch 34/50\n"
     ]
    },
    {
     "name": "stderr",
     "output_type": "stream",
     "text": [
      "\n",
      "Training progress: 100%|█| 512/512 [00:43<00:00, 11.78it/s, Loss=tensor(1.6407),"
     ]
    },
    {
     "name": "stdout",
     "output_type": "stream",
     "text": [
      "EPOCH  34: Train accuracy: 0.60, Train Loss: 1.64066744, LRate 0.00000377 \n"
     ]
    },
    {
     "name": "stderr",
     "output_type": "stream",
     "text": [
      "\n",
      "Validation progress: 100%|█| 29/29 [00:20<00:00,  1.41it/s, Loss=tensor(2.1371),"
     ]
    },
    {
     "name": "stdout",
     "output_type": "stream",
     "text": [
      "EPOCH  34: Validation accuracy: 0.50, Validation Loss: 2.13713217, LRate 0.00000377 \n",
      "\n",
      "No improvement in loss for 6 epoch(s)\n",
      "\n",
      "Epoch 35/50\n"
     ]
    },
    {
     "name": "stderr",
     "output_type": "stream",
     "text": [
      "\n",
      "Training progress: 100%|█| 512/512 [00:43<00:00, 11.88it/s, Loss=tensor(1.6402),"
     ]
    },
    {
     "name": "stdout",
     "output_type": "stream",
     "text": [
      "EPOCH  35: Train accuracy: 0.60, Train Loss: 1.64024127, LRate 0.00000283 \n"
     ]
    },
    {
     "name": "stderr",
     "output_type": "stream",
     "text": [
      "\n",
      "Validation progress: 100%|█| 29/29 [00:20<00:00,  1.41it/s, Loss=tensor(2.1377),"
     ]
    },
    {
     "name": "stdout",
     "output_type": "stream",
     "text": [
      "EPOCH  35: Validation accuracy: 0.50, Validation Loss: 2.13765216, LRate 0.00000283 \n",
      "\n",
      "No improvement in loss for 7 epoch(s)\n",
      "\n",
      "Epoch 36/50\n"
     ]
    },
    {
     "name": "stderr",
     "output_type": "stream",
     "text": [
      "\n",
      "Training progress: 100%|█| 512/512 [00:43<00:00, 11.87it/s, Loss=tensor(1.6400),"
     ]
    },
    {
     "name": "stdout",
     "output_type": "stream",
     "text": [
      "EPOCH  36: Train accuracy: 0.60, Train Loss: 1.64000261, LRate 0.00000212 \n"
     ]
    },
    {
     "name": "stderr",
     "output_type": "stream",
     "text": [
      "\n",
      "Validation progress: 100%|█| 29/29 [00:20<00:00,  1.41it/s, Loss=tensor(2.1379),"
     ]
    },
    {
     "name": "stdout",
     "output_type": "stream",
     "text": [
      "EPOCH  36: Validation accuracy: 0.50, Validation Loss: 2.13789129, LRate 0.00000212 \n",
      "\n",
      "No improvement in loss for 8 epoch(s)\n",
      "\n",
      "Epoch 37/50\n"
     ]
    },
    {
     "name": "stderr",
     "output_type": "stream",
     "text": [
      "\n",
      "Training progress: 100%|█| 512/512 [00:43<00:00, 11.84it/s, Loss=tensor(1.6399),"
     ]
    },
    {
     "name": "stdout",
     "output_type": "stream",
     "text": [
      "EPOCH  37: Train accuracy: 0.60, Train Loss: 1.63986611, LRate 0.00000159 \n"
     ]
    },
    {
     "name": "stderr",
     "output_type": "stream",
     "text": [
      "\n",
      "Validation progress: 100%|█| 29/29 [00:20<00:00,  1.41it/s, Loss=tensor(2.1376),"
     ]
    },
    {
     "name": "stdout",
     "output_type": "stream",
     "text": [
      "EPOCH  37: Validation accuracy: 0.50, Validation Loss: 2.13759327, LRate 0.00000159 \n",
      "\n",
      "No improvement in loss for 9 epoch(s)\n",
      "\n",
      "Epoch 38/50\n"
     ]
    },
    {
     "name": "stderr",
     "output_type": "stream",
     "text": [
      "\n",
      "Training progress: 100%|█| 512/512 [00:43<00:00, 11.86it/s, Loss=tensor(1.6400),"
     ]
    },
    {
     "name": "stdout",
     "output_type": "stream",
     "text": [
      "EPOCH  38: Train accuracy: 0.60, Train Loss: 1.63997602, LRate 0.00000119 \n"
     ]
    },
    {
     "name": "stderr",
     "output_type": "stream",
     "text": [
      "\n",
      "Validation progress: 100%|█| 29/29 [00:20<00:00,  1.41it/s, Loss=tensor(2.1379),"
     ]
    },
    {
     "name": "stdout",
     "output_type": "stream",
     "text": [
      "EPOCH  38: Validation accuracy: 0.50, Validation Loss: 2.13785124, LRate 0.00000119 \n",
      "\n",
      "No improvement in loss for 10 epoch(s)\n",
      "Early stopping at epoch 38\n",
      "\n",
      "Retrieving best model saved at /Users/tgdimas1/git/CAS-AML-FINAL-PROJECT/notebooks/../src/../checkpoints/pytorch/TransformerPredictor/TransformerPredictor_best_model.ckpt\n"
     ]
    },
    {
     "name": "stderr",
     "output_type": "stream",
     "text": [
      "\n",
      "Testing progress: 100%|█████████████████████████| 29/29 [00:22<00:00,  1.29it/s]"
     ]
    },
    {
     "name": "stdout",
     "output_type": "stream",
     "text": [
      "EPOCH  38: Test accuracy: 0.51, Test Loss: 2.03710151, LRate 0.00002117 \n",
      "\n",
      "\n"
     ]
    },
    {
     "name": "stderr",
     "output_type": "stream",
     "text": [
      "\n"
     ]
    }
   ],
   "source": [
    "trainer.train()\n",
    "trainer.test()\n",
    "print()"
   ]
  },
  {
   "cell_type": "code",
   "execution_count": 2,
   "id": "935cec4b",
   "metadata": {
    "scrolled": true
   },
   "outputs": [
    {
     "name": "stdout",
     "output_type": "stream",
     "text": [
      "Using model: models.pytorch.models.TransformerEnsemble\n",
      "Epoch 1/50\n"
     ]
    },
    {
     "name": "stderr",
     "output_type": "stream",
     "text": [
      "Training progress: 100%|█| 512/512 [02:22<00:00,  3.59it/s, Loss=tensor(5.2823"
     ]
    },
    {
     "name": "stdout",
     "output_type": "stream",
     "text": [
      "EPOCH   1: Train accuracy: 0.02, Train Loss: 5.28226328, LRate 0.01100000 \n"
     ]
    },
    {
     "name": "stderr",
     "output_type": "stream",
     "text": [
      "\n",
      "Validation progress: 100%|█| 29/29 [00:23<00:00,  1.23it/s, Loss=tensor(4.9326"
     ]
    },
    {
     "name": "stdout",
     "output_type": "stream",
     "text": [
      "EPOCH   1: Validation accuracy: 0.03, Validation Loss: 4.93260336, LRate 0.01100000 \n",
      "\n"
     ]
    },
    {
     "name": "stderr",
     "output_type": "stream",
     "text": [
      "\n"
     ]
    },
    {
     "name": "stdout",
     "output_type": "stream",
     "text": [
      "Best model and parameters saved at epoch 1\n",
      "\n",
      "Epoch 2/50\n"
     ]
    },
    {
     "name": "stderr",
     "output_type": "stream",
     "text": [
      "Training progress: 100%|█| 512/512 [02:22<00:00,  3.58it/s, Loss=tensor(4.5578"
     ]
    },
    {
     "name": "stdout",
     "output_type": "stream",
     "text": [
      "EPOCH   2: Train accuracy: 0.06, Train Loss: 4.55783033, LRate 0.00990000 \n"
     ]
    },
    {
     "name": "stderr",
     "output_type": "stream",
     "text": [
      "\n",
      "Validation progress: 100%|█| 29/29 [00:21<00:00,  1.32it/s, Loss=tensor(4.2385"
     ]
    },
    {
     "name": "stdout",
     "output_type": "stream",
     "text": [
      "EPOCH   2: Validation accuracy: 0.09, Validation Loss: 4.23845482, LRate 0.00990000 \n",
      "\n"
     ]
    },
    {
     "name": "stderr",
     "output_type": "stream",
     "text": [
      "\n"
     ]
    },
    {
     "name": "stdout",
     "output_type": "stream",
     "text": [
      "Best model and parameters saved at epoch 2\n",
      "\n",
      "Epoch 3/50\n"
     ]
    },
    {
     "name": "stderr",
     "output_type": "stream",
     "text": [
      "Training progress: 100%|█| 512/512 [02:20<00:00,  3.64it/s, Loss=tensor(3.8900"
     ]
    },
    {
     "name": "stdout",
     "output_type": "stream",
     "text": [
      "EPOCH   3: Train accuracy: 0.14, Train Loss: 3.89005184, LRate 0.00891000 \n"
     ]
    },
    {
     "name": "stderr",
     "output_type": "stream",
     "text": [
      "\n",
      "Validation progress: 100%|█| 29/29 [00:21<00:00,  1.32it/s, Loss=tensor(3.6981"
     ]
    },
    {
     "name": "stdout",
     "output_type": "stream",
     "text": [
      "EPOCH   3: Validation accuracy: 0.17, Validation Loss: 3.69806123, LRate 0.00891000 \n",
      "\n"
     ]
    },
    {
     "name": "stderr",
     "output_type": "stream",
     "text": [
      "\n"
     ]
    },
    {
     "name": "stdout",
     "output_type": "stream",
     "text": [
      "Best model and parameters saved at epoch 3\n",
      "\n",
      "Epoch 4/50\n"
     ]
    },
    {
     "name": "stderr",
     "output_type": "stream",
     "text": [
      "Training progress: 100%|█| 512/512 [02:21<00:00,  3.62it/s, Loss=tensor(3.4384"
     ]
    },
    {
     "name": "stdout",
     "output_type": "stream",
     "text": [
      "EPOCH   4: Train accuracy: 0.21, Train Loss: 3.43843079, LRate 0.00801900 \n"
     ]
    },
    {
     "name": "stderr",
     "output_type": "stream",
     "text": [
      "\n",
      "Validation progress: 100%|█| 29/29 [00:22<00:00,  1.31it/s, Loss=tensor(3.3579"
     ]
    },
    {
     "name": "stdout",
     "output_type": "stream",
     "text": [
      "EPOCH   4: Validation accuracy: 0.23, Validation Loss: 3.35794997, LRate 0.00801900 \n",
      "\n"
     ]
    },
    {
     "name": "stderr",
     "output_type": "stream",
     "text": [
      "\n"
     ]
    },
    {
     "name": "stdout",
     "output_type": "stream",
     "text": [
      "Best model and parameters saved at epoch 4\n",
      "\n",
      "Epoch 5/50\n"
     ]
    },
    {
     "name": "stderr",
     "output_type": "stream",
     "text": [
      "Training progress: 100%|█| 512/512 [02:20<00:00,  3.63it/s, Loss=tensor(3.1997"
     ]
    },
    {
     "name": "stdout",
     "output_type": "stream",
     "text": [
      "EPOCH   5: Train accuracy: 0.24, Train Loss: 3.19969606, LRate 0.00721710 \n"
     ]
    },
    {
     "name": "stderr",
     "output_type": "stream",
     "text": [
      "\n",
      "Validation progress: 100%|█| 29/29 [00:21<00:00,  1.32it/s, Loss=tensor(3.2201"
     ]
    },
    {
     "name": "stdout",
     "output_type": "stream",
     "text": [
      "EPOCH   5: Validation accuracy: 0.24, Validation Loss: 3.22010517, LRate 0.00721710 \n",
      "\n"
     ]
    },
    {
     "name": "stderr",
     "output_type": "stream",
     "text": [
      "\n"
     ]
    },
    {
     "name": "stdout",
     "output_type": "stream",
     "text": [
      "Best model and parameters saved at epoch 5\n",
      "\n",
      "Epoch 6/50\n"
     ]
    },
    {
     "name": "stderr",
     "output_type": "stream",
     "text": [
      "Training progress: 100%|█| 512/512 [02:20<00:00,  3.64it/s, Loss=tensor(3.0091"
     ]
    },
    {
     "name": "stdout",
     "output_type": "stream",
     "text": [
      "EPOCH   6: Train accuracy: 0.28, Train Loss: 3.00909972, LRate 0.00649539 \n"
     ]
    },
    {
     "name": "stderr",
     "output_type": "stream",
     "text": [
      "\n",
      "Validation progress: 100%|█| 29/29 [00:21<00:00,  1.32it/s, Loss=tensor(3.0432"
     ]
    },
    {
     "name": "stdout",
     "output_type": "stream",
     "text": [
      "EPOCH   6: Validation accuracy: 0.28, Validation Loss: 3.04319835, LRate 0.00649539 \n",
      "\n"
     ]
    },
    {
     "name": "stderr",
     "output_type": "stream",
     "text": [
      "\n"
     ]
    },
    {
     "name": "stdout",
     "output_type": "stream",
     "text": [
      "Best model and parameters saved at epoch 6\n",
      "\n",
      "Epoch 7/50\n"
     ]
    },
    {
     "name": "stderr",
     "output_type": "stream",
     "text": [
      "Training progress: 100%|█| 512/512 [02:19<00:00,  3.66it/s, Loss=tensor(2.8742"
     ]
    },
    {
     "name": "stdout",
     "output_type": "stream",
     "text": [
      "EPOCH   7: Train accuracy: 0.31, Train Loss: 2.87416267, LRate 0.00584585 \n"
     ]
    },
    {
     "name": "stderr",
     "output_type": "stream",
     "text": [
      "\n",
      "Validation progress: 100%|█| 29/29 [00:21<00:00,  1.32it/s, Loss=tensor(2.9224"
     ]
    },
    {
     "name": "stdout",
     "output_type": "stream",
     "text": [
      "EPOCH   7: Validation accuracy: 0.30, Validation Loss: 2.92235780, LRate 0.00584585 \n",
      "\n"
     ]
    },
    {
     "name": "stderr",
     "output_type": "stream",
     "text": [
      "\n"
     ]
    },
    {
     "name": "stdout",
     "output_type": "stream",
     "text": [
      "Best model and parameters saved at epoch 7\n",
      "\n",
      "Epoch 8/50\n"
     ]
    },
    {
     "name": "stderr",
     "output_type": "stream",
     "text": [
      "Training progress: 100%|█| 512/512 [02:20<00:00,  3.63it/s, Loss=tensor(2.7416"
     ]
    },
    {
     "name": "stdout",
     "output_type": "stream",
     "text": [
      "EPOCH   8: Train accuracy: 0.33, Train Loss: 2.74155831, LRate 0.00526127 \n"
     ]
    },
    {
     "name": "stderr",
     "output_type": "stream",
     "text": [
      "\n",
      "Validation progress: 100%|█| 29/29 [00:21<00:00,  1.32it/s, Loss=tensor(2.8422"
     ]
    },
    {
     "name": "stdout",
     "output_type": "stream",
     "text": [
      "EPOCH   8: Validation accuracy: 0.31, Validation Loss: 2.84220052, LRate 0.00526127 \n",
      "\n"
     ]
    },
    {
     "name": "stderr",
     "output_type": "stream",
     "text": [
      "\n"
     ]
    },
    {
     "name": "stdout",
     "output_type": "stream",
     "text": [
      "Best model and parameters saved at epoch 8\n",
      "\n",
      "Epoch 9/50\n"
     ]
    },
    {
     "name": "stderr",
     "output_type": "stream",
     "text": [
      "Training progress: 100%|█| 512/512 [02:21<00:00,  3.63it/s, Loss=tensor(2.6375"
     ]
    },
    {
     "name": "stdout",
     "output_type": "stream",
     "text": [
      "EPOCH   9: Train accuracy: 0.35, Train Loss: 2.63745832, LRate 0.00473514 \n"
     ]
    },
    {
     "name": "stderr",
     "output_type": "stream",
     "text": [
      "\n",
      "Validation progress: 100%|█| 29/29 [00:22<00:00,  1.31it/s, Loss=tensor(2.6819"
     ]
    },
    {
     "name": "stdout",
     "output_type": "stream",
     "text": [
      "EPOCH   9: Validation accuracy: 0.36, Validation Loss: 2.68186545, LRate 0.00473514 \n",
      "\n"
     ]
    },
    {
     "name": "stderr",
     "output_type": "stream",
     "text": [
      "\n"
     ]
    },
    {
     "name": "stdout",
     "output_type": "stream",
     "text": [
      "Best model and parameters saved at epoch 9\n",
      "\n",
      "Epoch 10/50\n"
     ]
    },
    {
     "name": "stderr",
     "output_type": "stream",
     "text": [
      "Training progress: 100%|█| 512/512 [02:25<00:00,  3.52it/s, Loss=tensor(2.5368"
     ]
    },
    {
     "name": "stdout",
     "output_type": "stream",
     "text": [
      "EPOCH  10: Train accuracy: 0.37, Train Loss: 2.53680325, LRate 0.00426163 \n"
     ]
    },
    {
     "name": "stderr",
     "output_type": "stream",
     "text": [
      "\n",
      "Validation progress: 100%|█| 29/29 [00:21<00:00,  1.32it/s, Loss=tensor(2.6474"
     ]
    },
    {
     "name": "stdout",
     "output_type": "stream",
     "text": [
      "EPOCH  10: Validation accuracy: 0.36, Validation Loss: 2.64738369, LRate 0.00426163 \n",
      "\n"
     ]
    },
    {
     "name": "stderr",
     "output_type": "stream",
     "text": [
      "\n"
     ]
    },
    {
     "name": "stdout",
     "output_type": "stream",
     "text": [
      "Best model and parameters saved at epoch 10\n",
      "\n",
      "Epoch 11/50\n"
     ]
    },
    {
     "name": "stderr",
     "output_type": "stream",
     "text": [
      "Training progress: 100%|█| 512/512 [02:20<00:00,  3.64it/s, Loss=tensor(2.4326"
     ]
    },
    {
     "name": "stdout",
     "output_type": "stream",
     "text": [
      "EPOCH  11: Train accuracy: 0.40, Train Loss: 2.43255496, LRate 0.00383546 \n"
     ]
    },
    {
     "name": "stderr",
     "output_type": "stream",
     "text": [
      "\n",
      "Validation progress: 100%|█| 29/29 [00:21<00:00,  1.32it/s, Loss=tensor(2.6945"
     ]
    },
    {
     "name": "stdout",
     "output_type": "stream",
     "text": [
      "EPOCH  11: Validation accuracy: 0.36, Validation Loss: 2.69450617, LRate 0.00383546 \n",
      "\n",
      "No improvement in loss for 1 epoch(s)\n",
      "\n",
      "Epoch 12/50\n"
     ]
    },
    {
     "name": "stderr",
     "output_type": "stream",
     "text": [
      "\n",
      "Training progress: 100%|█| 512/512 [02:21<00:00,  3.61it/s, Loss=tensor(2.3630"
     ]
    },
    {
     "name": "stdout",
     "output_type": "stream",
     "text": [
      "EPOCH  12: Train accuracy: 0.41, Train Loss: 2.36304045, LRate 0.00345192 \n"
     ]
    },
    {
     "name": "stderr",
     "output_type": "stream",
     "text": [
      "\n",
      "Validation progress: 100%|█| 29/29 [00:21<00:00,  1.32it/s, Loss=tensor(2.6084"
     ]
    },
    {
     "name": "stdout",
     "output_type": "stream",
     "text": [
      "EPOCH  12: Validation accuracy: 0.37, Validation Loss: 2.60838819, LRate 0.00345192 \n",
      "\n"
     ]
    },
    {
     "name": "stderr",
     "output_type": "stream",
     "text": [
      "\n"
     ]
    },
    {
     "name": "stdout",
     "output_type": "stream",
     "text": [
      "Best model and parameters saved at epoch 12\n",
      "\n",
      "Epoch 13/50\n"
     ]
    },
    {
     "name": "stderr",
     "output_type": "stream",
     "text": [
      "Training progress: 100%|█| 512/512 [02:22<00:00,  3.60it/s, Loss=tensor(2.2970"
     ]
    },
    {
     "name": "stdout",
     "output_type": "stream",
     "text": [
      "EPOCH  13: Train accuracy: 0.42, Train Loss: 2.29699039, LRate 0.00310672 \n"
     ]
    },
    {
     "name": "stderr",
     "output_type": "stream",
     "text": [
      "\n",
      "Validation progress: 100%|█| 29/29 [00:21<00:00,  1.32it/s, Loss=tensor(2.6096"
     ]
    },
    {
     "name": "stdout",
     "output_type": "stream",
     "text": [
      "EPOCH  13: Validation accuracy: 0.37, Validation Loss: 2.60955787, LRate 0.00310672 \n",
      "\n",
      "No improvement in loss for 1 epoch(s)\n",
      "\n",
      "Epoch 14/50\n"
     ]
    },
    {
     "name": "stderr",
     "output_type": "stream",
     "text": [
      "\n",
      "Training progress: 100%|█| 512/512 [02:20<00:00,  3.65it/s, Loss=tensor(2.2273"
     ]
    },
    {
     "name": "stdout",
     "output_type": "stream",
     "text": [
      "EPOCH  14: Train accuracy: 0.44, Train Loss: 2.22731566, LRate 0.00279605 \n"
     ]
    },
    {
     "name": "stderr",
     "output_type": "stream",
     "text": [
      "\n",
      "Validation progress: 100%|█| 29/29 [00:21<00:00,  1.32it/s, Loss=tensor(2.4953"
     ]
    },
    {
     "name": "stdout",
     "output_type": "stream",
     "text": [
      "EPOCH  14: Validation accuracy: 0.40, Validation Loss: 2.49528170, LRate 0.00279605 \n",
      "\n"
     ]
    },
    {
     "name": "stderr",
     "output_type": "stream",
     "text": [
      "\n"
     ]
    },
    {
     "name": "stdout",
     "output_type": "stream",
     "text": [
      "Best model and parameters saved at epoch 14\n",
      "\n",
      "Epoch 15/50\n"
     ]
    },
    {
     "name": "stderr",
     "output_type": "stream",
     "text": [
      "Training progress: 100%|█| 512/512 [02:20<00:00,  3.65it/s, Loss=tensor(2.2009"
     ]
    },
    {
     "name": "stdout",
     "output_type": "stream",
     "text": [
      "EPOCH  15: Train accuracy: 0.45, Train Loss: 2.20088315, LRate 0.00251645 \n"
     ]
    },
    {
     "name": "stderr",
     "output_type": "stream",
     "text": [
      "\n",
      "Validation progress: 100%|█| 29/29 [00:21<00:00,  1.33it/s, Loss=tensor(2.3994"
     ]
    },
    {
     "name": "stdout",
     "output_type": "stream",
     "text": [
      "EPOCH  15: Validation accuracy: 0.42, Validation Loss: 2.39935923, LRate 0.00251645 \n",
      "\n"
     ]
    },
    {
     "name": "stderr",
     "output_type": "stream",
     "text": [
      "\n"
     ]
    },
    {
     "name": "stdout",
     "output_type": "stream",
     "text": [
      "Best model and parameters saved at epoch 15\n",
      "\n",
      "Epoch 16/50\n"
     ]
    },
    {
     "name": "stderr",
     "output_type": "stream",
     "text": [
      "Training progress: 100%|█| 512/512 [02:21<00:00,  3.62it/s, Loss=tensor(2.1759"
     ]
    },
    {
     "name": "stdout",
     "output_type": "stream",
     "text": [
      "EPOCH  16: Train accuracy: 0.45, Train Loss: 2.17589283, LRate 0.00226480 \n"
     ]
    },
    {
     "name": "stderr",
     "output_type": "stream",
     "text": [
      "\n",
      "Validation progress: 100%|█| 29/29 [00:21<00:00,  1.32it/s, Loss=tensor(2.7221"
     ]
    },
    {
     "name": "stdout",
     "output_type": "stream",
     "text": [
      "EPOCH  16: Validation accuracy: 0.36, Validation Loss: 2.72209644, LRate 0.00226480 \n",
      "\n",
      "No improvement in loss for 1 epoch(s)\n",
      "\n",
      "Epoch 17/50\n"
     ]
    },
    {
     "name": "stderr",
     "output_type": "stream",
     "text": [
      "\n",
      "Training progress: 100%|█| 512/512 [02:27<00:00,  3.48it/s, Loss=tensor(2.2076"
     ]
    },
    {
     "name": "stdout",
     "output_type": "stream",
     "text": [
      "EPOCH  17: Train accuracy: 0.45, Train Loss: 2.20756340, LRate 0.00203832 \n"
     ]
    },
    {
     "name": "stderr",
     "output_type": "stream",
     "text": [
      "\n",
      "Validation progress: 100%|█| 29/29 [00:21<00:00,  1.32it/s, Loss=tensor(2.6034"
     ]
    },
    {
     "name": "stdout",
     "output_type": "stream",
     "text": [
      "EPOCH  17: Validation accuracy: 0.38, Validation Loss: 2.60342669, LRate 0.00203832 \n",
      "\n",
      "No improvement in loss for 2 epoch(s)\n",
      "\n",
      "Epoch 18/50\n"
     ]
    },
    {
     "name": "stderr",
     "output_type": "stream",
     "text": [
      "\n",
      "Training progress: 100%|█| 512/512 [02:29<00:00,  3.42it/s, Loss=tensor(2.2252"
     ]
    },
    {
     "name": "stdout",
     "output_type": "stream",
     "text": [
      "EPOCH  18: Train accuracy: 0.45, Train Loss: 2.22517776, LRate 0.00183449 \n"
     ]
    },
    {
     "name": "stderr",
     "output_type": "stream",
     "text": [
      "\n",
      "Validation progress: 100%|█| 29/29 [00:21<00:00,  1.32it/s, Loss=tensor(2.5478"
     ]
    },
    {
     "name": "stdout",
     "output_type": "stream",
     "text": [
      "EPOCH  18: Validation accuracy: 0.40, Validation Loss: 2.54782414, LRate 0.00183449 \n",
      "\n",
      "No improvement in loss for 3 epoch(s)\n",
      "\n",
      "Epoch 19/50\n"
     ]
    },
    {
     "name": "stderr",
     "output_type": "stream",
     "text": [
      "\n",
      "Training progress: 100%|█| 512/512 [02:31<00:00,  3.37it/s, Loss=tensor(2.1777"
     ]
    },
    {
     "name": "stdout",
     "output_type": "stream",
     "text": [
      "EPOCH  19: Train accuracy: 0.46, Train Loss: 2.17774868, LRate 0.00165104 \n"
     ]
    },
    {
     "name": "stderr",
     "output_type": "stream",
     "text": [
      "\n",
      "Validation progress: 100%|█| 29/29 [00:21<00:00,  1.32it/s, Loss=tensor(2.4717"
     ]
    },
    {
     "name": "stdout",
     "output_type": "stream",
     "text": [
      "EPOCH  19: Validation accuracy: 0.42, Validation Loss: 2.47166514, LRate 0.00165104 \n",
      "\n",
      "No improvement in loss for 4 epoch(s)\n",
      "\n",
      "Epoch 20/50\n"
     ]
    },
    {
     "name": "stderr",
     "output_type": "stream",
     "text": [
      "\n",
      "Training progress: 100%|█| 512/512 [02:23<00:00,  3.57it/s, Loss=tensor(2.0905"
     ]
    },
    {
     "name": "stdout",
     "output_type": "stream",
     "text": [
      "EPOCH  20: Train accuracy: 0.48, Train Loss: 2.09054756, LRate 0.00148594 \n"
     ]
    },
    {
     "name": "stderr",
     "output_type": "stream",
     "text": [
      "\n",
      "Validation progress: 100%|█| 29/29 [00:21<00:00,  1.33it/s, Loss=tensor(2.4638"
     ]
    },
    {
     "name": "stdout",
     "output_type": "stream",
     "text": [
      "EPOCH  20: Validation accuracy: 0.42, Validation Loss: 2.46378183, LRate 0.00148594 \n",
      "\n",
      "No improvement in loss for 5 epoch(s)\n",
      "\n",
      "Epoch 21/50\n"
     ]
    },
    {
     "name": "stderr",
     "output_type": "stream",
     "text": [
      "\n",
      "Training progress: 100%|█| 512/512 [02:19<00:00,  3.67it/s, Loss=tensor(2.0188"
     ]
    },
    {
     "name": "stdout",
     "output_type": "stream",
     "text": [
      "EPOCH  21: Train accuracy: 0.50, Train Loss: 2.01877713, LRate 0.00133734 \n"
     ]
    },
    {
     "name": "stderr",
     "output_type": "stream",
     "text": [
      "\n",
      "Validation progress: 100%|█| 29/29 [00:21<00:00,  1.33it/s, Loss=tensor(2.4314"
     ]
    },
    {
     "name": "stdout",
     "output_type": "stream",
     "text": [
      "EPOCH  21: Validation accuracy: 0.42, Validation Loss: 2.43137527, LRate 0.00133734 \n",
      "\n",
      "No improvement in loss for 6 epoch(s)\n",
      "\n",
      "Epoch 22/50\n"
     ]
    },
    {
     "name": "stderr",
     "output_type": "stream",
     "text": [
      "\n",
      "Training progress: 100%|█| 512/512 [02:20<00:00,  3.65it/s, Loss=tensor(1.9458"
     ]
    },
    {
     "name": "stdout",
     "output_type": "stream",
     "text": [
      "EPOCH  22: Train accuracy: 0.51, Train Loss: 1.94579291, LRate 0.00120361 \n"
     ]
    },
    {
     "name": "stderr",
     "output_type": "stream",
     "text": [
      "\n",
      "Validation progress: 100%|█| 29/29 [00:21<00:00,  1.33it/s, Loss=tensor(2.2876"
     ]
    },
    {
     "name": "stdout",
     "output_type": "stream",
     "text": [
      "EPOCH  22: Validation accuracy: 0.46, Validation Loss: 2.28758216, LRate 0.00120361 \n",
      "\n"
     ]
    },
    {
     "name": "stderr",
     "output_type": "stream",
     "text": [
      "\n"
     ]
    },
    {
     "name": "stdout",
     "output_type": "stream",
     "text": [
      "Best model and parameters saved at epoch 22\n",
      "\n",
      "Epoch 23/50\n"
     ]
    },
    {
     "name": "stderr",
     "output_type": "stream",
     "text": [
      "Training progress: 100%|█| 512/512 [02:29<00:00,  3.42it/s, Loss=tensor(1.8953"
     ]
    },
    {
     "name": "stdout",
     "output_type": "stream",
     "text": [
      "EPOCH  23: Train accuracy: 0.52, Train Loss: 1.89533758, LRate 0.00108325 \n"
     ]
    },
    {
     "name": "stderr",
     "output_type": "stream",
     "text": [
      "\n",
      "Validation progress: 100%|█| 29/29 [00:21<00:00,  1.32it/s, Loss=tensor(2.3684"
     ]
    },
    {
     "name": "stdout",
     "output_type": "stream",
     "text": [
      "EPOCH  23: Validation accuracy: 0.44, Validation Loss: 2.36843944, LRate 0.00108325 \n",
      "\n",
      "No improvement in loss for 1 epoch(s)\n",
      "\n",
      "Epoch 24/50\n"
     ]
    },
    {
     "name": "stderr",
     "output_type": "stream",
     "text": [
      "\n",
      "Training progress: 100%|█| 512/512 [02:41<00:00,  3.16it/s, Loss=tensor(1.8629"
     ]
    },
    {
     "name": "stdout",
     "output_type": "stream",
     "text": [
      "EPOCH  24: Train accuracy: 0.54, Train Loss: 1.86290097, LRate 0.00097492 \n"
     ]
    },
    {
     "name": "stderr",
     "output_type": "stream",
     "text": [
      "\n",
      "Validation progress: 100%|█| 29/29 [00:22<00:00,  1.31it/s, Loss=tensor(2.2898"
     ]
    },
    {
     "name": "stdout",
     "output_type": "stream",
     "text": [
      "EPOCH  24: Validation accuracy: 0.46, Validation Loss: 2.28977156, LRate 0.00097492 \n",
      "\n",
      "No improvement in loss for 2 epoch(s)\n",
      "\n",
      "Epoch 25/50\n"
     ]
    },
    {
     "name": "stderr",
     "output_type": "stream",
     "text": [
      "\n",
      "Training progress: 100%|█| 512/512 [02:38<00:00,  3.22it/s, Loss=tensor(1.8414"
     ]
    },
    {
     "name": "stdout",
     "output_type": "stream",
     "text": [
      "EPOCH  25: Train accuracy: 0.54, Train Loss: 1.84143305, LRate 0.00087743 \n"
     ]
    },
    {
     "name": "stderr",
     "output_type": "stream",
     "text": [
      "\n",
      "Validation progress: 100%|█| 29/29 [00:21<00:00,  1.33it/s, Loss=tensor(2.3146"
     ]
    },
    {
     "name": "stdout",
     "output_type": "stream",
     "text": [
      "EPOCH  25: Validation accuracy: 0.45, Validation Loss: 2.31461263, LRate 0.00087743 \n",
      "\n",
      "No improvement in loss for 3 epoch(s)\n",
      "\n",
      "Epoch 26/50\n"
     ]
    },
    {
     "name": "stderr",
     "output_type": "stream",
     "text": [
      "\n",
      "Training progress: 100%|█| 512/512 [02:35<00:00,  3.29it/s, Loss=tensor(1.8099"
     ]
    },
    {
     "name": "stdout",
     "output_type": "stream",
     "text": [
      "EPOCH  26: Train accuracy: 0.54, Train Loss: 1.80988526, LRate 0.00078969 \n"
     ]
    },
    {
     "name": "stderr",
     "output_type": "stream",
     "text": [
      "\n",
      "Validation progress: 100%|█| 29/29 [00:22<00:00,  1.32it/s, Loss=tensor(2.2624"
     ]
    },
    {
     "name": "stdout",
     "output_type": "stream",
     "text": [
      "EPOCH  26: Validation accuracy: 0.46, Validation Loss: 2.26242256, LRate 0.00078969 \n",
      "\n"
     ]
    },
    {
     "name": "stderr",
     "output_type": "stream",
     "text": [
      "\n"
     ]
    },
    {
     "name": "stdout",
     "output_type": "stream",
     "text": [
      "Best model and parameters saved at epoch 26\n",
      "\n",
      "Epoch 27/50\n"
     ]
    },
    {
     "name": "stderr",
     "output_type": "stream",
     "text": [
      "Training progress: 100%|█| 512/512 [02:40<00:00,  3.19it/s, Loss=tensor(1.7892"
     ]
    },
    {
     "name": "stdout",
     "output_type": "stream",
     "text": [
      "EPOCH  27: Train accuracy: 0.55, Train Loss: 1.78915739, LRate 0.00071072 \n"
     ]
    },
    {
     "name": "stderr",
     "output_type": "stream",
     "text": [
      "\n",
      "Validation progress: 100%|█| 29/29 [00:22<00:00,  1.31it/s, Loss=tensor(2.3019"
     ]
    },
    {
     "name": "stdout",
     "output_type": "stream",
     "text": [
      "EPOCH  27: Validation accuracy: 0.46, Validation Loss: 2.30188942, LRate 0.00071072 \n",
      "\n",
      "No improvement in loss for 1 epoch(s)\n",
      "\n",
      "Epoch 28/50\n"
     ]
    },
    {
     "name": "stderr",
     "output_type": "stream",
     "text": [
      "\n",
      "Training progress: 100%|█| 512/512 [02:36<00:00,  3.28it/s, Loss=tensor(1.7820"
     ]
    },
    {
     "name": "stdout",
     "output_type": "stream",
     "text": [
      "EPOCH  28: Train accuracy: 0.55, Train Loss: 1.78198946, LRate 0.00063965 \n"
     ]
    },
    {
     "name": "stderr",
     "output_type": "stream",
     "text": [
      "\n",
      "Validation progress: 100%|█| 29/29 [00:22<00:00,  1.32it/s, Loss=tensor(2.2702"
     ]
    },
    {
     "name": "stdout",
     "output_type": "stream",
     "text": [
      "EPOCH  28: Validation accuracy: 0.47, Validation Loss: 2.27022743, LRate 0.00063965 \n",
      "\n",
      "No improvement in loss for 2 epoch(s)\n",
      "\n",
      "Epoch 29/50\n"
     ]
    },
    {
     "name": "stderr",
     "output_type": "stream",
     "text": [
      "\n",
      "Training progress: 100%|█| 512/512 [02:37<00:00,  3.25it/s, Loss=tensor(1.7593"
     ]
    },
    {
     "name": "stdout",
     "output_type": "stream",
     "text": [
      "EPOCH  29: Train accuracy: 0.56, Train Loss: 1.75931382, LRate 0.00057568 \n"
     ]
    },
    {
     "name": "stderr",
     "output_type": "stream",
     "text": [
      "\n",
      "Validation progress: 100%|█| 29/29 [00:22<00:00,  1.31it/s, Loss=tensor(2.3045"
     ]
    },
    {
     "name": "stdout",
     "output_type": "stream",
     "text": [
      "EPOCH  29: Validation accuracy: 0.46, Validation Loss: 2.30445671, LRate 0.00057568 \n",
      "\n",
      "No improvement in loss for 3 epoch(s)\n",
      "\n",
      "Epoch 30/50\n"
     ]
    },
    {
     "name": "stderr",
     "output_type": "stream",
     "text": [
      "\n",
      "Training progress: 100%|█| 512/512 [02:31<00:00,  3.39it/s, Loss=tensor(1.7408"
     ]
    },
    {
     "name": "stdout",
     "output_type": "stream",
     "text": [
      "EPOCH  30: Train accuracy: 0.56, Train Loss: 1.74084544, LRate 0.00051811 \n"
     ]
    },
    {
     "name": "stderr",
     "output_type": "stream",
     "text": [
      "\n",
      "Validation progress: 100%|█| 29/29 [00:21<00:00,  1.32it/s, Loss=tensor(2.2796"
     ]
    },
    {
     "name": "stdout",
     "output_type": "stream",
     "text": [
      "EPOCH  30: Validation accuracy: 0.46, Validation Loss: 2.27961946, LRate 0.00051811 \n",
      "\n",
      "No improvement in loss for 4 epoch(s)\n",
      "\n",
      "Epoch 31/50\n"
     ]
    },
    {
     "name": "stderr",
     "output_type": "stream",
     "text": [
      "\n",
      "Training progress: 100%|█| 512/512 [02:19<00:00,  3.67it/s, Loss=tensor(1.7039"
     ]
    },
    {
     "name": "stdout",
     "output_type": "stream",
     "text": [
      "EPOCH  31: Train accuracy: 0.57, Train Loss: 1.70390511, LRate 0.00046630 \n"
     ]
    },
    {
     "name": "stderr",
     "output_type": "stream",
     "text": [
      "\n",
      "Validation progress: 100%|█| 29/29 [00:21<00:00,  1.32it/s, Loss=tensor(2.2546"
     ]
    },
    {
     "name": "stdout",
     "output_type": "stream",
     "text": [
      "EPOCH  31: Validation accuracy: 0.47, Validation Loss: 2.25464225, LRate 0.00046630 \n",
      "\n"
     ]
    },
    {
     "name": "stderr",
     "output_type": "stream",
     "text": [
      "\n"
     ]
    },
    {
     "name": "stdout",
     "output_type": "stream",
     "text": [
      "Best model and parameters saved at epoch 31\n",
      "\n",
      "Epoch 32/50\n"
     ]
    },
    {
     "name": "stderr",
     "output_type": "stream",
     "text": [
      "Training progress:  55%|▌| 281/512 [01:05<00:53,  4.36it/s, Loss=tensor(1.6693"
     ]
    }
   ],
   "source": [
    "trainer = Trainer(modelname='TransformerEnsemble')\n",
    "trainer.train()\n",
    "trainer.test()\n",
    "print()"
   ]
  },
  {
   "cell_type": "code",
   "execution_count": 10,
   "id": "ed68c10a",
   "metadata": {},
   "outputs": [
    {
     "name": "stdout",
     "output_type": "stream",
     "text": [
      "0.01\n",
      "0.01\n",
      "0.01\n",
      "0.01\n",
      "0.01\n",
      "0.01\n",
      "0.01\n",
      "0.01\n",
      "0.01\n",
      "0.01\n",
      "0.01\n",
      "0.01\n",
      "0.01\n",
      "0.01\n",
      "0.01\n",
      "0.01\n",
      "0.01\n",
      "0.01\n",
      "0.01\n",
      "0.01\n",
      "0.01\n",
      "0.01\n",
      "0.01\n",
      "0.01\n",
      "0.01\n",
      "0.01\n",
      "0.01\n",
      "0.01\n",
      "0.01\n",
      "0.01\n",
      "0.01\n",
      "0.01\n",
      "0.01\n",
      "0.01\n",
      "0.01\n",
      "0.01\n",
      "0.01\n",
      "0.01\n",
      "0.01\n",
      "0.01\n",
      "0.01\n",
      "0.01\n",
      "0.01\n",
      "0.01\n",
      "0.01\n",
      "0.01\n",
      "0.01\n",
      "0.01\n",
      "0.01\n",
      "0.01\n",
      "0.01\n",
      "0.01\n",
      "0.01\n",
      "0.01\n",
      "0.01\n",
      "0.01\n",
      "0.01\n",
      "0.01\n",
      "0.01\n",
      "0.01\n"
     ]
    }
   ],
   "source": [
    "import torch.nn as nn\n",
    "\n",
    "for module in trainer.model.modules():\n",
    "    if isinstance(module, nn.Dropout):\n",
    "            print(module.p)"
   ]
  },
  {
   "cell_type": "code",
   "execution_count": 12,
   "id": "a62499ae",
   "metadata": {},
   "outputs": [
    {
     "data": {
      "text/plain": [
       "tensor([[0., 1., 1., 1., 1., 1., 1., 1., 1., 1.],\n",
       "        [0., 0., 1., 1., 1., 1., 1., 1., 1., 1.],\n",
       "        [0., 0., 0., 1., 1., 1., 1., 1., 1., 1.],\n",
       "        [0., 0., 0., 0., 1., 1., 1., 1., 1., 1.],\n",
       "        [0., 0., 0., 0., 0., 1., 1., 1., 1., 1.],\n",
       "        [0., 0., 0., 0., 0., 0., 1., 1., 1., 1.],\n",
       "        [0., 0., 0., 0., 0., 0., 0., 1., 1., 1.],\n",
       "        [0., 0., 0., 0., 0., 0., 0., 0., 1., 1.],\n",
       "        [0., 0., 0., 0., 0., 0., 0., 0., 0., 1.],\n",
       "        [0., 0., 0., 0., 0., 0., 0., 0., 0., 0.]])"
      ]
     },
     "execution_count": 12,
     "metadata": {},
     "output_type": "execute_result"
    }
   ],
   "source": [
    "torch.triu(torch.ones(10, 10), diagonal=1)"
   ]
  },
  {
   "cell_type": "code",
   "execution_count": null,
   "id": "3ca721dc",
   "metadata": {},
   "outputs": [],
   "source": []
  }
 ],
 "metadata": {
  "kernelspec": {
   "display_name": "Python 3 (ipykernel)",
   "language": "python",
   "name": "python3"
  },
  "language_info": {
   "codemirror_mode": {
    "name": "ipython",
    "version": 3
   },
   "file_extension": ".py",
   "mimetype": "text/x-python",
   "name": "python",
   "nbconvert_exporter": "python",
   "pygments_lexer": "ipython3",
   "version": "3.10.11"
  }
 },
 "nbformat": 4,
 "nbformat_minor": 5
}
